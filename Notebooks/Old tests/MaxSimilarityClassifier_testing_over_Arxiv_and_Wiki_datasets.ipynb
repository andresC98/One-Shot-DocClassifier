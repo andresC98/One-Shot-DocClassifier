{
  "nbformat": 4,
  "nbformat_minor": 0,
  "metadata": {
    "colab": {
      "name": "[TFG] MaxSimilarityClassifier testing over Arxiv and Wiki datasets.ipynb",
      "provenance": [],
      "collapsed_sections": [],
      "toc_visible": true
    },
    "kernelspec": {
      "name": "python3",
      "display_name": "Python 3"
    }
  },
  "cells": [
    {
      "cell_type": "code",
      "metadata": {
        "id": "dtqUIXtDbtYf",
        "colab_type": "code",
        "colab": {}
      },
      "source": [
        "!pip install wikipedia\n",
        "!pip install wikipedia-api"
      ],
      "execution_count": 0,
      "outputs": []
    },
    {
      "cell_type": "code",
      "metadata": {
        "id": "StCDQOdWi8LH",
        "colab_type": "code",
        "colab": {}
      },
      "source": [
        "#Project libraries\n",
        "import doc_utils #cleaning and other helper functions\n",
        "from max_sim_classifier import MaxSimClassifier #maximum similarity classifier custom library\n",
        "#Parser libraries: wikipedia dataset and arxiv dataset\n",
        "from arxiv_parser import arxiv_parser\n",
        "from wiki_parser import concurrentGetWikiFullPage, concurrentGetAllCatArticles"
      ],
      "execution_count": 0,
      "outputs": []
    },
    {
      "cell_type": "markdown",
      "metadata": {
        "id": "_0ScSH3t3BMu",
        "colab_type": "text"
      },
      "source": [
        "#Testing MaxSimClassifier with Arxiv dataset"
      ]
    },
    {
      "cell_type": "code",
      "metadata": {
        "id": "MBat7aUfjS58",
        "colab_type": "code",
        "outputId": "7aef2c94-2b23-49eb-8e91-8e3db8b8979e",
        "colab": {
          "base_uri": "https://localhost:8080/",
          "height": 153
        }
      },
      "source": [
        "arxiv_wiki_topics = [\"Computer science\",\n",
        "               \"Economics\",\n",
        "               \"Systems engineering\",\n",
        "               \"Mathematics\",\n",
        "               \"Astrophysics\",\n",
        "               \"Quantitative biology\",\n",
        "               \"Quantitative finance\",\n",
        "               \"Statistics\"]\n",
        "#note: Astrophysics should be physics, but throws error\n",
        "topic_defs = concurrentGetWikiFullPage(topics_list =arxiv_wiki_topics )"
      ],
      "execution_count": 3,
      "outputs": [
        {
          "output_type": "stream",
          "text": [
            "Obtaining full wikipedia page for the topic: Computer science. (Definition of Class #[0])\n",
            "Obtaining full wikipedia page for the topic: Economics. (Definition of Class #[1])\n",
            "Obtaining full wikipedia page for the topic: Systems engineering. (Definition of Class #[2])\n",
            "Obtaining full wikipedia page for the topic: Mathematics. (Definition of Class #[3])\n",
            "Obtaining full wikipedia page for the topic: Astrophysics. (Definition of Class #[4])\n",
            "Obtaining full wikipedia page for the topic: Quantitative biology. (Definition of Class #[5])\n",
            "Obtaining full wikipedia page for the topic: Quantitative finance. (Definition of Class #[6])\n",
            "Obtaining full wikipedia page for the topic: Statistics. (Definition of Class #[7])\n"
          ],
          "name": "stdout"
        }
      ]
    },
    {
      "cell_type": "markdown",
      "metadata": {
        "id": "7jmQhFXSM-ZX",
        "colab_type": "text"
      },
      "source": [
        "## Off-the-shelf model testing"
      ]
    },
    {
      "cell_type": "code",
      "metadata": {
        "id": "z4_uZhiijc7G",
        "colab_type": "code",
        "outputId": "10f937ce-ae6d-4e44-9e89-aeb919a8f364",
        "colab": {
          "base_uri": "https://localhost:8080/",
          "height": 34
        }
      },
      "source": [
        "dataset = arxiv_parser(100)"
      ],
      "execution_count": 4,
      "outputs": [
        {
          "output_type": "stream",
          "text": [
            "Retrieved 800 papers in total from 8 subjects (100 from each).\n"
          ],
          "name": "stdout"
        }
      ]
    },
    {
      "cell_type": "code",
      "metadata": {
        "id": "XpMGUBINjXax",
        "colab_type": "code",
        "colab": {}
      },
      "source": [
        "x_train, y_train, x_test, y_test = doc_utils.processClassifierData(topic_defs, \n",
        "                                                                   dataset, \n",
        "                                                                   arxiv_wiki_topics, \n",
        "                                                                   dataset_type=\"arxiv\")"
      ],
      "execution_count": 0,
      "outputs": []
    },
    {
      "cell_type": "code",
      "metadata": {
        "id": "VqfHRFvRjH-I",
        "colab_type": "code",
        "colab": {}
      },
      "source": [
        "max_sim_model = MaxSimClassifier(dataset_type=\"arxiv\")"
      ],
      "execution_count": 0,
      "outputs": []
    },
    {
      "cell_type": "code",
      "metadata": {
        "id": "QC05aV-Sk6RX",
        "colab_type": "code",
        "outputId": "7386095e-684d-49d2-f56b-a8c783f0953b",
        "colab": {
          "base_uri": "https://localhost:8080/",
          "height": 34
        }
      },
      "source": [
        "max_sim_model.fit(x_train, y_train)"
      ],
      "execution_count": 7,
      "outputs": [
        {
          "output_type": "execute_result",
          "data": {
            "text/plain": [
              "MaxSimClassifier(dataset_type='arxiv', epochs=50, min_count=2, vector_size=50)"
            ]
          },
          "metadata": {
            "tags": []
          },
          "execution_count": 7
        }
      ]
    },
    {
      "cell_type": "code",
      "metadata": {
        "id": "-l4f8pzrnHfI",
        "colab_type": "code",
        "outputId": "d16cb245-0a42-4576-fc25-9aa831fca511",
        "colab": {
          "base_uri": "https://localhost:8080/",
          "height": 88
        }
      },
      "source": [
        "#note that x_test is not used TODO: change processClassifierData\n",
        "max_sim_model.score(dataset, y_test)"
      ],
      "execution_count": 8,
      "outputs": [
        {
          "output_type": "stream",
          "text": [
            "/usr/local/lib/python3.6/dist-packages/gensim/matutils.py:737: FutureWarning: Conversion of the second argument of issubdtype from `int` to `np.signedinteger` is deprecated. In future, it will be treated as `np.int64 == np.dtype(int).type`.\n",
            "  if np.issubdtype(vec.dtype, np.int):\n"
          ],
          "name": "stderr"
        },
        {
          "output_type": "execute_result",
          "data": {
            "text/plain": [
              "0.37375"
            ]
          },
          "metadata": {
            "tags": []
          },
          "execution_count": 8
        }
      ]
    },
    {
      "cell_type": "markdown",
      "metadata": {
        "id": "hGfrlfSgMcMa",
        "colab_type": "text"
      },
      "source": [
        "Accuracy: **38.2%**"
      ]
    },
    {
      "cell_type": "code",
      "metadata": {
        "id": "hgBshdCgkttY",
        "colab_type": "code",
        "outputId": "caf66a07-44d8-42eb-be52-348ce6996fc5",
        "colab": {
          "base_uri": "https://localhost:8080/",
          "height": 71
        }
      },
      "source": [
        "predictions = max_sim_model.predict(dataset)"
      ],
      "execution_count": 9,
      "outputs": [
        {
          "output_type": "stream",
          "text": [
            "/usr/local/lib/python3.6/dist-packages/gensim/matutils.py:737: FutureWarning: Conversion of the second argument of issubdtype from `int` to `np.signedinteger` is deprecated. In future, it will be treated as `np.int64 == np.dtype(int).type`.\n",
            "  if np.issubdtype(vec.dtype, np.int):\n"
          ],
          "name": "stderr"
        }
      ]
    },
    {
      "cell_type": "code",
      "metadata": {
        "id": "Kc7cETV9sARs",
        "colab_type": "code",
        "outputId": "00296b1b-d20e-4a05-e243-98a57c9d6ef6",
        "colab": {
          "base_uri": "https://localhost:8080/",
          "height": 525
        }
      },
      "source": [
        "doc_utils.plotConfMatrix(y_test, predictions, model=\"maxsim\", dataset_type=\"arxiv\")"
      ],
      "execution_count": 10,
      "outputs": [
        {
          "output_type": "display_data",
          "data": {
            "image/png": "[encoded data removed]",
            "text/plain": [
              "<Figure size 720x504 with 2 Axes>"
            ]
          },
          "metadata": {
            "tags": [],
            "needs_background": "light"
          }
        }
      ]
    },
    {
      "cell_type": "markdown",
      "metadata": {
        "id": "YLzQCHxT7Udh",
        "colab_type": "text"
      },
      "source": [
        "Los fallos localizados en quantitative biology tienen sentido ya que es con diferencia el tópico peor definido. Podemos comprobarlo mediante la siguiente visualización:"
      ]
    },
    {
      "cell_type": "code",
      "metadata": {
        "id": "5spWbm5T7Qu6",
        "colab_type": "code",
        "outputId": "60308d07-77b7-4e59-e553-d1b042af2791",
        "colab": {
          "base_uri": "https://localhost:8080/",
          "height": 54
        }
      },
      "source": [
        "x_train[5]"
      ],
      "execution_count": 11,
      "outputs": [
        {
          "output_type": "execute_result",
          "data": {
            "text/plain": [
              "'Quantitative biology is an umbrella term encompassing the use of mathematical, statistical or computational techniques to study life and living organisms. The central theme and goal of quantitative biology is the creation of predictive models based on fundamental principles governing living systems.The subfields of biology that employ quantitative approaches include:\\n\\nMathematical and theoretical biology\\nComputational biology\\nBioinformatics\\nBiostatistics\\nSystems biology\\nPopulation biology\\nSynthetic biology\\nEpidemiology\\n\\n\\n== References =='"
            ]
          },
          "metadata": {
            "tags": []
          },
          "execution_count": 11
        }
      ]
    },
    {
      "cell_type": "code",
      "metadata": {
        "id": "lLnVvq6b8dbh",
        "colab_type": "code",
        "outputId": "72785ce4-5858-40ad-f9d1-9aa3f2d4fe1d",
        "colab": {
          "base_uri": "https://localhost:8080/",
          "height": 312
        }
      },
      "source": [
        "import matplotlib.pyplot as plt\n",
        "\n",
        "total_len = 0\n",
        "topic_lengths = list()\n",
        "for topic in x_train:\n",
        "    total_len += len(topic)\n",
        "    topic_lengths.append(len(topic))\n",
        "\n",
        "print(\"Mean topic definition length:\", total_len/len(x_train))\n",
        "\n",
        "plt.barh(doc_utils.ARXIV_SUBJECTS, topic_lengths, align='center')\n",
        "plt.title(\"Length of topic definitions\")\n",
        "plt.xlabel(\"Number of words\")\n",
        "plt.ylabel(\"topic\")\n",
        "plt.show()"
      ],
      "execution_count": 12,
      "outputs": [
        {
          "output_type": "stream",
          "text": [
            "Mean topic definition length: 23881.125\n"
          ],
          "name": "stdout"
        },
        {
          "output_type": "display_data",
          "data": {
            "image/png": "[encoded data removed]",
            "text/plain": [
              "<Figure size 432x288 with 1 Axes>"
            ]
          },
          "metadata": {
            "tags": [],
            "needs_background": "light"
          }
        }
      ]
    },
    {
      "cell_type": "markdown",
      "metadata": {
        "id": "zPFXV7J-wwWw",
        "colab_type": "text"
      },
      "source": [
        "## Improving accuracy by changing topic definition"
      ]
    },
    {
      "cell_type": "code",
      "metadata": {
        "id": "rd3OxQKPw0Rj",
        "colab_type": "code",
        "colab": {}
      },
      "source": [
        "#Let's just change the name of the topic for the wikipedia topic retrieval"
      ],
      "execution_count": 0,
      "outputs": []
    },
    {
      "cell_type": "code",
      "metadata": {
        "id": "roEBj3E4w3to",
        "colab_type": "code",
        "outputId": "e7d97fd3-aeb1-4747-82b3-610583beb03c",
        "colab": {
          "base_uri": "https://localhost:8080/",
          "height": 173
        }
      },
      "source": [
        "arxiv_wiki_topics = [\"Computer science\",\n",
        "               \"Economics\",\n",
        "               \"Systems engineering\",\n",
        "               \"Mathematics\",\n",
        "               \"Astrophysics\",\n",
        "               \"Computational biology\",\n",
        "               \"Quantitative finance\",\n",
        "               \"Statistics\"]\n",
        "#note: Astrophysics should be physics, but throws error\n",
        "topic_defs = concurrentGetWikiFullPage(topics_list =arxiv_wiki_topics )"
      ],
      "execution_count": 14,
      "outputs": [
        {
          "output_type": "stream",
          "text": [
            "Obtaining full wikipedia page for the topic: Computer science. (Definition of Class #[0])\n",
            "Obtaining full wikipedia page for the topic: Economics. (Definition of Class #[1])Obtaining full wikipedia page for the topic: Systems engineering. (Definition of Class #[2])\n",
            "\n",
            "Obtaining full wikipedia page for the topic: Mathematics. (Definition of Class #[3])\n",
            "Obtaining full wikipedia page for the topic: Astrophysics. (Definition of Class #[4])\n",
            "Obtaining full wikipedia page for the topic: Computational biology. (Definition of Class #[5])\n",
            "Obtaining full wikipedia page for the topic: Quantitative finance. (Definition of Class #[6])\n",
            "Obtaining full wikipedia page for the topic: Statistics. (Definition of Class #[7])\n"
          ],
          "name": "stdout"
        }
      ]
    },
    {
      "cell_type": "code",
      "metadata": {
        "id": "TpyiAbKfw-yW",
        "colab_type": "code",
        "outputId": "5c3612ba-9c28-40c1-ec88-b883fa4dbf1e",
        "colab": {
          "base_uri": "https://localhost:8080/",
          "height": 34
        }
      },
      "source": [
        "x_train, y_train, x_test, y_test = doc_utils.processClassifierData(topic_defs, dataset, \n",
        "                                                                    arxiv_wiki_topics, \n",
        "                                                                   dataset_type=\"arxiv\")\n",
        "max_sim_model = MaxSimClassifier(dataset_type=\"arxiv\")\n",
        "\n",
        "max_sim_model.fit(x_train, y_train)"
      ],
      "execution_count": 15,
      "outputs": [
        {
          "output_type": "execute_result",
          "data": {
            "text/plain": [
              "MaxSimClassifier(dataset_type='arxiv', epochs=50, min_count=2, vector_size=50)"
            ]
          },
          "metadata": {
            "tags": []
          },
          "execution_count": 15
        }
      ]
    },
    {
      "cell_type": "markdown",
      "metadata": {
        "id": "kANa5TvLNTKs",
        "colab_type": "text"
      },
      "source": [
        "### Weighted top2 accuracy"
      ]
    },
    {
      "cell_type": "markdown",
      "metadata": {
        "id": "kh-HACZJMUty",
        "colab_type": "text"
      },
      "source": [
        "Improved weighted accuracy to **43.7%**\n",
        "\n",
        "*Note*: **weighted** acc = (first guess reward (1) vs rest (0) )"
      ]
    },
    {
      "cell_type": "code",
      "metadata": {
        "id": "g5hu9deINQRg",
        "colab_type": "code",
        "outputId": "3d01a3de-7a13-4768-ab64-8d0c5a7439da",
        "colab": {
          "base_uri": "https://localhost:8080/",
          "height": 88
        }
      },
      "source": [
        "max_sim_model.score(dataset, y_test) #eval = weighted"
      ],
      "execution_count": 16,
      "outputs": [
        {
          "output_type": "stream",
          "text": [
            "/usr/local/lib/python3.6/dist-packages/gensim/matutils.py:737: FutureWarning: Conversion of the second argument of issubdtype from `int` to `np.signedinteger` is deprecated. In future, it will be treated as `np.int64 == np.dtype(int).type`.\n",
            "  if np.issubdtype(vec.dtype, np.int):\n"
          ],
          "name": "stderr"
        },
        {
          "output_type": "execute_result",
          "data": {
            "text/plain": [
              "0.4325"
            ]
          },
          "metadata": {
            "tags": []
          },
          "execution_count": 16
        }
      ]
    },
    {
      "cell_type": "markdown",
      "metadata": {
        "id": "ALY2fZW9MnML",
        "colab_type": "text"
      },
      "source": [
        "### Top2 accuracy"
      ]
    },
    {
      "cell_type": "markdown",
      "metadata": {
        "id": "jtKDXYD9NcOr",
        "colab_type": "text"
      },
      "source": [
        "Achieves **51.15%** (first or second guesses have same reward (1) vs rest (0) )"
      ]
    },
    {
      "cell_type": "code",
      "metadata": {
        "id": "YvORoMpuMpSW",
        "colab_type": "code",
        "outputId": "eb9ad238-ecac-46ca-f25c-6a6b320af55b",
        "colab": {
          "base_uri": "https://localhost:8080/",
          "height": 88
        }
      },
      "source": [
        "max_sim_model.score(dataset, y_test, eval=\"top2\")"
      ],
      "execution_count": 17,
      "outputs": [
        {
          "output_type": "stream",
          "text": [
            "/usr/local/lib/python3.6/dist-packages/gensim/matutils.py:737: FutureWarning: Conversion of the second argument of issubdtype from `int` to `np.signedinteger` is deprecated. In future, it will be treated as `np.int64 == np.dtype(int).type`.\n",
            "  if np.issubdtype(vec.dtype, np.int):\n"
          ],
          "name": "stderr"
        },
        {
          "output_type": "execute_result",
          "data": {
            "text/plain": [
              "0.51125"
            ]
          },
          "metadata": {
            "tags": []
          },
          "execution_count": 17
        }
      ]
    },
    {
      "cell_type": "markdown",
      "metadata": {
        "id": "bdyYeGMSMqJ7",
        "colab_type": "text"
      },
      "source": [
        "### Model and data explainability and error evaluation"
      ]
    },
    {
      "cell_type": "code",
      "metadata": {
        "id": "WUMbJnYT0L7M",
        "colab_type": "code",
        "outputId": "926a6b4e-78c4-4351-da33-6d54d08172f3",
        "colab": {
          "base_uri": "https://localhost:8080/",
          "height": 312
        }
      },
      "source": [
        "import matplotlib.pyplot as plt\n",
        "\n",
        "total_len = 0\n",
        "topic_lengths = list()\n",
        "for topic in x_train:\n",
        "    total_len += len(topic)\n",
        "    topic_lengths.append(len(topic))\n",
        "\n",
        "print(\"Mean topic definition length:\", total_len/len(x_train))\n",
        "\n",
        "plt.barh(arxiv_wiki_topics, topic_lengths, align='center')\n",
        "plt.title(\"Length of topic definitions\")\n",
        "plt.xlabel(\"Number of words\")\n",
        "plt.ylabel(\"topic\")\n",
        "plt.show()"
      ],
      "execution_count": 18,
      "outputs": [
        {
          "output_type": "stream",
          "text": [
            "Mean topic definition length: 25648.25\n"
          ],
          "name": "stdout"
        },
        {
          "output_type": "display_data",
          "data": {
            "image/png": "[encoded data removed]",
            "text/plain": [
              "<Figure size 432x288 with 1 Axes>"
            ]
          },
          "metadata": {
            "tags": [],
            "needs_background": "light"
          }
        }
      ]
    },
    {
      "cell_type": "code",
      "metadata": {
        "id": "IaA9mockxU3B",
        "colab_type": "code",
        "outputId": "bd9afe0c-eff9-4de2-9f45-17fbce817e55",
        "colab": {
          "base_uri": "https://localhost:8080/",
          "height": 71
        }
      },
      "source": [
        "predictions = max_sim_model.predict(dataset)"
      ],
      "execution_count": 19,
      "outputs": [
        {
          "output_type": "stream",
          "text": [
            "/usr/local/lib/python3.6/dist-packages/gensim/matutils.py:737: FutureWarning: Conversion of the second argument of issubdtype from `int` to `np.signedinteger` is deprecated. In future, it will be treated as `np.int64 == np.dtype(int).type`.\n",
            "  if np.issubdtype(vec.dtype, np.int):\n"
          ],
          "name": "stderr"
        }
      ]
    },
    {
      "cell_type": "code",
      "metadata": {
        "id": "OrqCJyWUxVi4",
        "colab_type": "code",
        "outputId": "b1cd6895-11ce-4ab6-92e2-9f925647b651",
        "colab": {
          "base_uri": "https://localhost:8080/",
          "height": 525
        }
      },
      "source": [
        "doc_utils.plotConfMatrix(y_test, predictions, model=\"maxsim\", dataset_type=\"arxiv\")"
      ],
      "execution_count": 20,
      "outputs": [
        {
          "output_type": "display_data",
          "data": {
            "image/png": "[encoded data removed]",
            "text/plain": [
              "<Figure size 720x504 with 2 Axes>"
            ]
          },
          "metadata": {
            "tags": [],
            "needs_background": "light"
          }
        }
      ]
    },
    {
      "cell_type": "markdown",
      "metadata": {
        "id": "Z9twm-5a05Tv",
        "colab_type": "text"
      },
      "source": [
        "this amount of classification mistakes classifying as statistics may have 2 main reasons:\n",
        "\n",
        "\n",
        "*   Obviously every paper contains certain degree of statistical commentary, thus makes sense. However, we are also giving a .5 weight on 2nd classifications. --> Possible solution, to simply do a TOP2 classification error, i.e 1 if 1st or 2nd category, 0 if none.\n",
        "*   Topic definition of Statistics is huge (x2 the avg. words)\n",
        "\n"
      ]
    },
    {
      "cell_type": "markdown",
      "metadata": {
        "id": "e7vlkqn_2Wlc",
        "colab_type": "text"
      },
      "source": [
        "# Testing MaxSimClassifier with Wikipedia dataset"
      ]
    },
    {
      "cell_type": "code",
      "metadata": {
        "id": "BW7ImHGo0Cgk",
        "colab_type": "code",
        "outputId": "a1bb85bd-dd3f-404b-de93-266fda1fb30b",
        "colab": {
          "base_uri": "https://localhost:8080/",
          "height": 343
        }
      },
      "source": [
        "wiki_topic_defs_full = concurrentGetWikiFullPage(topics_list = doc_utils.ALL_TOPICS)\n",
        "wiki_test_data, n_test_samples = concurrentGetAllCatArticles(doc_utils.ALL_TOPICS, full_text_test=True)"
      ],
      "execution_count": 22,
      "outputs": [
        {
          "output_type": "stream",
          "text": [
            "Obtaining full wikipedia page for the topic: Chemical engineering. (Definition of Class #[0])\n",
            "Obtaining full wikipedia page for the topic: Biomedical engineering. (Definition of Class #[1])Obtaining full wikipedia page for the topic: Civil engineering. (Definition of Class #[2])\n",
            "\n",
            "Obtaining full wikipedia page for the topic: Electrical engineering. (Definition of Class #[3])\n",
            "Obtaining full wikipedia page for the topic: Mechanical engineering. (Definition of Class #[4])\n",
            "Obtaining full wikipedia page for the topic: Aerospace engineering. (Definition of Class #[5])\n",
            "Obtaining full wikipedia page for the topic: Software engineering. (Definition of Class #[6])\n",
            "Obtaining full wikipedia page for the topic: Industrial engineering. (Definition of Class #[7])\n",
            "Obtaining full wikipedia page for the topic: Computer engineering. (Definition of Class #[8])\n",
            "Retrieved 38 articles from category topic 'Computer engineering'[TopicID:8]\n",
            "Retrieved 57 articles from category topic 'Software engineering'[TopicID:6]\n",
            "Retrieved 67 articles from category topic 'Chemical engineering'[TopicID:0]\n",
            "Retrieved 74 articles from category topic 'Industrial engineering'[TopicID:7]\n",
            "Retrieved 74 articles from category topic 'Biomedical engineering'[TopicID:1]\n",
            "Retrieved 153 articles from category topic 'Civil engineering'[TopicID:2]\n",
            "Retrieved 140 articles from category topic 'Electrical engineering'[TopicID:3]\n",
            "Retrieved 173 articles from category topic 'Aerospace engineering'[TopicID:5]\n",
            "Retrieved 216 articles from category topic 'Mechanical engineering'[TopicID:4]\n"
          ],
          "name": "stdout"
        }
      ]
    },
    {
      "cell_type": "code",
      "metadata": {
        "id": "rmLlNzps2-D1",
        "colab_type": "code",
        "outputId": "9051fb8b-7b27-40e8-c181-70230ca222e5",
        "colab": {
          "base_uri": "https://localhost:8080/",
          "height": 34
        }
      },
      "source": [
        "x_train, y_train, x_test, y_test = doc_utils.processClassifierData(wiki_topic_defs_full, wiki_test_data, \n",
        "                                                                    doc_utils.ALL_TOPICS, \n",
        "                                                                    dataset_type=\"wiki\")\n",
        "                                                        \n",
        "max_sim_model = MaxSimClassifier(dataset_type=\"wiki\")\n",
        "\n",
        "max_sim_model.fit(x_train, y_train)"
      ],
      "execution_count": 23,
      "outputs": [
        {
          "output_type": "execute_result",
          "data": {
            "text/plain": [
              "MaxSimClassifier(dataset_type='wiki', epochs=50, min_count=2, vector_size=50)"
            ]
          },
          "metadata": {
            "tags": []
          },
          "execution_count": 23
        }
      ]
    },
    {
      "cell_type": "markdown",
      "metadata": {
        "id": "QMPzgLEQOHJs",
        "colab_type": "text"
      },
      "source": [
        "## Weighted top2 accuracy"
      ]
    },
    {
      "cell_type": "markdown",
      "metadata": {
        "id": "7Ah72PzHOnKc",
        "colab_type": "text"
      },
      "source": [
        "**66%**"
      ]
    },
    {
      "cell_type": "code",
      "metadata": {
        "id": "s8mcIcIDN8b7",
        "colab_type": "code",
        "outputId": "2ff033f2-85d6-414d-d125-e899817e73c8",
        "colab": {
          "base_uri": "https://localhost:8080/",
          "height": 88
        }
      },
      "source": [
        "max_sim_model.score(wiki_test_data, y_test) #todo: solve x_test issue"
      ],
      "execution_count": 24,
      "outputs": [
        {
          "output_type": "stream",
          "text": [
            "/usr/local/lib/python3.6/dist-packages/gensim/matutils.py:737: FutureWarning: Conversion of the second argument of issubdtype from `int` to `np.signedinteger` is deprecated. In future, it will be treated as `np.int64 == np.dtype(int).type`.\n",
            "  if np.issubdtype(vec.dtype, np.int):\n"
          ],
          "name": "stderr"
        },
        {
          "output_type": "execute_result",
          "data": {
            "text/plain": [
              "0.6617943548387096"
            ]
          },
          "metadata": {
            "tags": []
          },
          "execution_count": 24
        }
      ]
    },
    {
      "cell_type": "markdown",
      "metadata": {
        "id": "c4DlvLNrOLEI",
        "colab_type": "text"
      },
      "source": [
        "## Top2 accuracy"
      ]
    },
    {
      "cell_type": "markdown",
      "metadata": {
        "id": "UOR3ErGDOktW",
        "colab_type": "text"
      },
      "source": [
        "**74.3%**"
      ]
    },
    {
      "cell_type": "code",
      "metadata": {
        "id": "XLjp_lpROOGW",
        "colab_type": "code",
        "outputId": "9c012212-91c4-48a4-ba6b-37aad2394bdc",
        "colab": {
          "base_uri": "https://localhost:8080/",
          "height": 88
        }
      },
      "source": [
        "max_sim_model.score(wiki_test_data, y_test, eval=\"top2\")"
      ],
      "execution_count": 25,
      "outputs": [
        {
          "output_type": "stream",
          "text": [
            "/usr/local/lib/python3.6/dist-packages/gensim/matutils.py:737: FutureWarning: Conversion of the second argument of issubdtype from `int` to `np.signedinteger` is deprecated. In future, it will be treated as `np.int64 == np.dtype(int).type`.\n",
            "  if np.issubdtype(vec.dtype, np.int):\n"
          ],
          "name": "stderr"
        },
        {
          "output_type": "execute_result",
          "data": {
            "text/plain": [
              "0.7429435483870968"
            ]
          },
          "metadata": {
            "tags": []
          },
          "execution_count": 25
        }
      ]
    },
    {
      "cell_type": "markdown",
      "metadata": {
        "id": "pmxC1ZcvOSP_",
        "colab_type": "text"
      },
      "source": [
        "## Model and data explainability and error evaluation"
      ]
    },
    {
      "cell_type": "code",
      "metadata": {
        "id": "6FS-_khKOacg",
        "colab_type": "code",
        "outputId": "c4fde6c0-aad5-425a-d0d7-05ed4b21b316",
        "colab": {
          "base_uri": "https://localhost:8080/",
          "height": 312
        }
      },
      "source": [
        "total_len = 0\n",
        "topic_lengths = list()\n",
        "for topic in x_train:\n",
        "    total_len += len(topic)\n",
        "    topic_lengths.append(len(topic))\n",
        "\n",
        "print(\"Mean topic definition length:\", total_len/len(x_train))\n",
        "\n",
        "plt.barh(doc_utils.ALL_TOPICS, topic_lengths, align='center')\n",
        "plt.title(\"Length of topic definitions\")\n",
        "plt.xlabel(\"Number of words\")\n",
        "plt.ylabel(\"topic\")\n",
        "plt.show()"
      ],
      "execution_count": 26,
      "outputs": [
        {
          "output_type": "stream",
          "text": [
            "Mean topic definition length: 22874.666666666668\n"
          ],
          "name": "stdout"
        },
        {
          "output_type": "display_data",
          "data": {
            "image/png": "[encoded data removed]",
            "text/plain": [
              "<Figure size 432x288 with 1 Axes>"
            ]
          },
          "metadata": {
            "tags": [],
            "needs_background": "light"
          }
        }
      ]
    },
    {
      "cell_type": "code",
      "metadata": {
        "id": "24ywM4wnGt09",
        "colab_type": "code",
        "outputId": "91def370-a371-4c25-978c-51bfd154fb49",
        "colab": {
          "base_uri": "https://localhost:8080/",
          "height": 498
        }
      },
      "source": [
        "predictions = max_sim_model.predict(wiki_test_data)\n",
        "doc_utils.plotConfMatrix(y_test, predictions, model=\"maxsim\", dataset_type=\"wiki\")"
      ],
      "execution_count": 27,
      "outputs": [
        {
          "output_type": "stream",
          "text": [
            "/usr/local/lib/python3.6/dist-packages/gensim/matutils.py:737: FutureWarning: Conversion of the second argument of issubdtype from `int` to `np.signedinteger` is deprecated. In future, it will be treated as `np.int64 == np.dtype(int).type`.\n",
            "  if np.issubdtype(vec.dtype, np.int):\n"
          ],
          "name": "stderr"
        },
        {
          "output_type": "display_data",
          "data": {
            "image/png": "[encoded data removed]",
            "text/plain": [
              "<Figure size 720x504 with 2 Axes>"
            ]
          },
          "metadata": {
            "tags": [],
            "needs_background": "light"
          }
        }
      ]
    },
    {
      "cell_type": "code",
      "metadata": {
        "id": "u1AJ_KTpVijz",
        "colab_type": "code",
        "colab": {}
      },
      "source": [
        ""
      ],
      "execution_count": 0,
      "outputs": []
    }
  ]
}