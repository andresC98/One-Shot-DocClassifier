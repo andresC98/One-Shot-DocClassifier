{
  "nbformat": 4,
  "nbformat_minor": 0,
  "metadata": {
    "colab": {
      "name": "[TFG] Classification  Baselines (Top-1 acc.) - Wiki and ArXiv datasets.ipynb",
      "provenance": []
    },
    "kernelspec": {
      "name": "python3",
      "display_name": "Python 3"
    },
    "widgets": {
      "application/vnd.jupyter.widget-state+json": {
        "07934b4150f74d8d8e6d571bedfd31f2": {
          "model_module": "@jupyter-widgets/controls",
          "model_name": "HBoxModel",
          "state": {
            "_view_name": "HBoxView",
            "_dom_classes": [],
            "_model_name": "HBoxModel",
            "_view_module": "@jupyter-widgets/controls",
            "_model_module_version": "1.5.0",
            "_view_count": null,
            "_view_module_version": "1.5.0",
            "box_style": "",
            "layout": "IPY_MODEL_aef159be450b49a8acebbd733bdf725c",
            "_model_module": "@jupyter-widgets/controls",
            "children": [
              "IPY_MODEL_2df657edb6084ae08c0feaaf358e7e16",
              "IPY_MODEL_317b17f5a9ee480e818866e05dd6517b"
            ]
          }
        },
        "aef159be450b49a8acebbd733bdf725c": {
          "model_module": "@jupyter-widgets/base",
          "model_name": "LayoutModel",
          "state": {
            "_view_name": "LayoutView",
            "grid_template_rows": null,
            "right": null,
            "justify_content": null,
            "_view_module": "@jupyter-widgets/base",
            "overflow": null,
            "_model_module_version": "1.2.0",
            "_view_count": null,
            "flex_flow": null,
            "width": null,
            "min_width": null,
            "border": null,
            "align_items": null,
            "bottom": null,
            "_model_module": "@jupyter-widgets/base",
            "top": null,
            "grid_column": null,
            "overflow_y": null,
            "overflow_x": null,
            "grid_auto_flow": null,
            "grid_area": null,
            "grid_template_columns": null,
            "flex": null,
            "_model_name": "LayoutModel",
            "justify_items": null,
            "grid_row": null,
            "max_height": null,
            "align_content": null,
            "visibility": null,
            "align_self": null,
            "height": null,
            "min_height": null,
            "padding": null,
            "grid_auto_rows": null,
            "grid_gap": null,
            "max_width": null,
            "order": null,
            "_view_module_version": "1.2.0",
            "grid_template_areas": null,
            "object_position": null,
            "object_fit": null,
            "grid_auto_columns": null,
            "margin": null,
            "display": null,
            "left": null
          }
        },
        "2df657edb6084ae08c0feaaf358e7e16": {
          "model_module": "@jupyter-widgets/controls",
          "model_name": "IntProgressModel",
          "state": {
            "_view_name": "ProgressView",
            "style": "IPY_MODEL_da4140accf4a4a02bf2a59d1bd1cb8b6",
            "_dom_classes": [],
            "description": "100%",
            "_model_name": "IntProgressModel",
            "bar_style": "success",
            "max": 30,
            "_view_module": "@jupyter-widgets/controls",
            "_model_module_version": "1.5.0",
            "value": 30,
            "_view_count": null,
            "_view_module_version": "1.5.0",
            "orientation": "horizontal",
            "min": 0,
            "description_tooltip": null,
            "_model_module": "@jupyter-widgets/controls",
            "layout": "IPY_MODEL_538263bfcc764c62abb2bdb53c518a7a"
          }
        },
        "317b17f5a9ee480e818866e05dd6517b": {
          "model_module": "@jupyter-widgets/controls",
          "model_name": "HTMLModel",
          "state": {
            "_view_name": "HTMLView",
            "style": "IPY_MODEL_390a00747a054e419a3e7bf0982a554a",
            "_dom_classes": [],
            "description": "",
            "_model_name": "HTMLModel",
            "placeholder": "​",
            "_view_module": "@jupyter-widgets/controls",
            "_model_module_version": "1.5.0",
            "value": " 30/30 [04:37&lt;00:00,  9.24s/it]",
            "_view_count": null,
            "_view_module_version": "1.5.0",
            "description_tooltip": null,
            "_model_module": "@jupyter-widgets/controls",
            "layout": "IPY_MODEL_0a80f3216310441ba552feed3d6eb891"
          }
        },
        "da4140accf4a4a02bf2a59d1bd1cb8b6": {
          "model_module": "@jupyter-widgets/controls",
          "model_name": "ProgressStyleModel",
          "state": {
            "_view_name": "StyleView",
            "_model_name": "ProgressStyleModel",
            "description_width": "initial",
            "_view_module": "@jupyter-widgets/base",
            "_model_module_version": "1.5.0",
            "_view_count": null,
            "_view_module_version": "1.2.0",
            "bar_color": null,
            "_model_module": "@jupyter-widgets/controls"
          }
        },
        "538263bfcc764c62abb2bdb53c518a7a": {
          "model_module": "@jupyter-widgets/base",
          "model_name": "LayoutModel",
          "state": {
            "_view_name": "LayoutView",
            "grid_template_rows": null,
            "right": null,
            "justify_content": null,
            "_view_module": "@jupyter-widgets/base",
            "overflow": null,
            "_model_module_version": "1.2.0",
            "_view_count": null,
            "flex_flow": null,
            "width": null,
            "min_width": null,
            "border": null,
            "align_items": null,
            "bottom": null,
            "_model_module": "@jupyter-widgets/base",
            "top": null,
            "grid_column": null,
            "overflow_y": null,
            "overflow_x": null,
            "grid_auto_flow": null,
            "grid_area": null,
            "grid_template_columns": null,
            "flex": null,
            "_model_name": "LayoutModel",
            "justify_items": null,
            "grid_row": null,
            "max_height": null,
            "align_content": null,
            "visibility": null,
            "align_self": null,
            "height": null,
            "min_height": null,
            "padding": null,
            "grid_auto_rows": null,
            "grid_gap": null,
            "max_width": null,
            "order": null,
            "_view_module_version": "1.2.0",
            "grid_template_areas": null,
            "object_position": null,
            "object_fit": null,
            "grid_auto_columns": null,
            "margin": null,
            "display": null,
            "left": null
          }
        },
        "390a00747a054e419a3e7bf0982a554a": {
          "model_module": "@jupyter-widgets/controls",
          "model_name": "DescriptionStyleModel",
          "state": {
            "_view_name": "StyleView",
            "_model_name": "DescriptionStyleModel",
            "description_width": "",
            "_view_module": "@jupyter-widgets/base",
            "_model_module_version": "1.5.0",
            "_view_count": null,
            "_view_module_version": "1.2.0",
            "_model_module": "@jupyter-widgets/controls"
          }
        },
        "0a80f3216310441ba552feed3d6eb891": {
          "model_module": "@jupyter-widgets/base",
          "model_name": "LayoutModel",
          "state": {
            "_view_name": "LayoutView",
            "grid_template_rows": null,
            "right": null,
            "justify_content": null,
            "_view_module": "@jupyter-widgets/base",
            "overflow": null,
            "_model_module_version": "1.2.0",
            "_view_count": null,
            "flex_flow": null,
            "width": null,
            "min_width": null,
            "border": null,
            "align_items": null,
            "bottom": null,
            "_model_module": "@jupyter-widgets/base",
            "top": null,
            "grid_column": null,
            "overflow_y": null,
            "overflow_x": null,
            "grid_auto_flow": null,
            "grid_area": null,
            "grid_template_columns": null,
            "flex": null,
            "_model_name": "LayoutModel",
            "justify_items": null,
            "grid_row": null,
            "max_height": null,
            "align_content": null,
            "visibility": null,
            "align_self": null,
            "height": null,
            "min_height": null,
            "padding": null,
            "grid_auto_rows": null,
            "grid_gap": null,
            "max_width": null,
            "order": null,
            "_view_module_version": "1.2.0",
            "grid_template_areas": null,
            "object_position": null,
            "object_fit": null,
            "grid_auto_columns": null,
            "margin": null,
            "display": null,
            "left": null
          }
        },
        "90dd95ecc0964335aa7ab4345a61dfb2": {
          "model_module": "@jupyter-widgets/controls",
          "model_name": "HBoxModel",
          "state": {
            "_view_name": "HBoxView",
            "_dom_classes": [],
            "_model_name": "HBoxModel",
            "_view_module": "@jupyter-widgets/controls",
            "_model_module_version": "1.5.0",
            "_view_count": null,
            "_view_module_version": "1.5.0",
            "box_style": "",
            "layout": "IPY_MODEL_3493c268f7f24b66bb34149624bea6f5",
            "_model_module": "@jupyter-widgets/controls",
            "children": [
              "IPY_MODEL_0b9efad4765f442fb936686de429bf14",
              "IPY_MODEL_5654c94f2ae84c2bbfb5fdb035d639b5"
            ]
          }
        },
        "3493c268f7f24b66bb34149624bea6f5": {
          "model_module": "@jupyter-widgets/base",
          "model_name": "LayoutModel",
          "state": {
            "_view_name": "LayoutView",
            "grid_template_rows": null,
            "right": null,
            "justify_content": null,
            "_view_module": "@jupyter-widgets/base",
            "overflow": null,
            "_model_module_version": "1.2.0",
            "_view_count": null,
            "flex_flow": null,
            "width": null,
            "min_width": null,
            "border": null,
            "align_items": null,
            "bottom": null,
            "_model_module": "@jupyter-widgets/base",
            "top": null,
            "grid_column": null,
            "overflow_y": null,
            "overflow_x": null,
            "grid_auto_flow": null,
            "grid_area": null,
            "grid_template_columns": null,
            "flex": null,
            "_model_name": "LayoutModel",
            "justify_items": null,
            "grid_row": null,
            "max_height": null,
            "align_content": null,
            "visibility": null,
            "align_self": null,
            "height": null,
            "min_height": null,
            "padding": null,
            "grid_auto_rows": null,
            "grid_gap": null,
            "max_width": null,
            "order": null,
            "_view_module_version": "1.2.0",
            "grid_template_areas": null,
            "object_position": null,
            "object_fit": null,
            "grid_auto_columns": null,
            "margin": null,
            "display": null,
            "left": null
          }
        },
        "0b9efad4765f442fb936686de429bf14": {
          "model_module": "@jupyter-widgets/controls",
          "model_name": "IntProgressModel",
          "state": {
            "_view_name": "ProgressView",
            "style": "IPY_MODEL_e75faac20a614ab987bc61bdfc5ac9c0",
            "_dom_classes": [],
            "description": "100%",
            "_model_name": "IntProgressModel",
            "bar_style": "success",
            "max": 30,
            "_view_module": "@jupyter-widgets/controls",
            "_model_module_version": "1.5.0",
            "value": 30,
            "_view_count": null,
            "_view_module_version": "1.5.0",
            "orientation": "horizontal",
            "min": 0,
            "description_tooltip": null,
            "_model_module": "@jupyter-widgets/controls",
            "layout": "IPY_MODEL_eec1ccb497b945a681dea84d3ad4eac0"
          }
        },
        "5654c94f2ae84c2bbfb5fdb035d639b5": {
          "model_module": "@jupyter-widgets/controls",
          "model_name": "HTMLModel",
          "state": {
            "_view_name": "HTMLView",
            "style": "IPY_MODEL_5b348e11b798488db6b6760ad8a919f3",
            "_dom_classes": [],
            "description": "",
            "_model_name": "HTMLModel",
            "placeholder": "​",
            "_view_module": "@jupyter-widgets/controls",
            "_model_module_version": "1.5.0",
            "value": " 30/30 [01:29&lt;00:00,  2.97s/it]",
            "_view_count": null,
            "_view_module_version": "1.5.0",
            "description_tooltip": null,
            "_model_module": "@jupyter-widgets/controls",
            "layout": "IPY_MODEL_45c6ed6856454a88988480b2fc278426"
          }
        },
        "e75faac20a614ab987bc61bdfc5ac9c0": {
          "model_module": "@jupyter-widgets/controls",
          "model_name": "ProgressStyleModel",
          "state": {
            "_view_name": "StyleView",
            "_model_name": "ProgressStyleModel",
            "description_width": "initial",
            "_view_module": "@jupyter-widgets/base",
            "_model_module_version": "1.5.0",
            "_view_count": null,
            "_view_module_version": "1.2.0",
            "bar_color": null,
            "_model_module": "@jupyter-widgets/controls"
          }
        },
        "eec1ccb497b945a681dea84d3ad4eac0": {
          "model_module": "@jupyter-widgets/base",
          "model_name": "LayoutModel",
          "state": {
            "_view_name": "LayoutView",
            "grid_template_rows": null,
            "right": null,
            "justify_content": null,
            "_view_module": "@jupyter-widgets/base",
            "overflow": null,
            "_model_module_version": "1.2.0",
            "_view_count": null,
            "flex_flow": null,
            "width": null,
            "min_width": null,
            "border": null,
            "align_items": null,
            "bottom": null,
            "_model_module": "@jupyter-widgets/base",
            "top": null,
            "grid_column": null,
            "overflow_y": null,
            "overflow_x": null,
            "grid_auto_flow": null,
            "grid_area": null,
            "grid_template_columns": null,
            "flex": null,
            "_model_name": "LayoutModel",
            "justify_items": null,
            "grid_row": null,
            "max_height": null,
            "align_content": null,
            "visibility": null,
            "align_self": null,
            "height": null,
            "min_height": null,
            "padding": null,
            "grid_auto_rows": null,
            "grid_gap": null,
            "max_width": null,
            "order": null,
            "_view_module_version": "1.2.0",
            "grid_template_areas": null,
            "object_position": null,
            "object_fit": null,
            "grid_auto_columns": null,
            "margin": null,
            "display": null,
            "left": null
          }
        },
        "5b348e11b798488db6b6760ad8a919f3": {
          "model_module": "@jupyter-widgets/controls",
          "model_name": "DescriptionStyleModel",
          "state": {
            "_view_name": "StyleView",
            "_model_name": "DescriptionStyleModel",
            "description_width": "",
            "_view_module": "@jupyter-widgets/base",
            "_model_module_version": "1.5.0",
            "_view_count": null,
            "_view_module_version": "1.2.0",
            "_model_module": "@jupyter-widgets/controls"
          }
        },
        "45c6ed6856454a88988480b2fc278426": {
          "model_module": "@jupyter-widgets/base",
          "model_name": "LayoutModel",
          "state": {
            "_view_name": "LayoutView",
            "grid_template_rows": null,
            "right": null,
            "justify_content": null,
            "_view_module": "@jupyter-widgets/base",
            "overflow": null,
            "_model_module_version": "1.2.0",
            "_view_count": null,
            "flex_flow": null,
            "width": null,
            "min_width": null,
            "border": null,
            "align_items": null,
            "bottom": null,
            "_model_module": "@jupyter-widgets/base",
            "top": null,
            "grid_column": null,
            "overflow_y": null,
            "overflow_x": null,
            "grid_auto_flow": null,
            "grid_area": null,
            "grid_template_columns": null,
            "flex": null,
            "_model_name": "LayoutModel",
            "justify_items": null,
            "grid_row": null,
            "max_height": null,
            "align_content": null,
            "visibility": null,
            "align_self": null,
            "height": null,
            "min_height": null,
            "padding": null,
            "grid_auto_rows": null,
            "grid_gap": null,
            "max_width": null,
            "order": null,
            "_view_module_version": "1.2.0",
            "grid_template_areas": null,
            "object_position": null,
            "object_fit": null,
            "grid_auto_columns": null,
            "margin": null,
            "display": null,
            "left": null
          }
        }
      }
    }
  },
  "cells": [
    {
      "cell_type": "markdown",
      "metadata": {
        "id": "POoyuzhshrdJ",
        "colab_type": "text"
      },
      "source": [
        "# Summary of end results:"
      ]
    },
    {
      "cell_type": "markdown",
      "metadata": {
        "colab_type": "text",
        "id": "ADLkgF074uNI"
      },
      "source": [
        "***Multinomial Naive Bayes best results***\n",
        "\n",
        "| Dataset   | StopWords | tf-(idf) | ngram_range | alpha | Top1 Acc. |\n",
        "|-----------|-----------|----------|-------------|-------|-----------|\n",
        "| Wikipedia | 'english' | Use idf  | (1, 1)      | 1     | 0.738     |\n",
        "| ArXiv     | 'english' | Use idf  | (1, 1)      | 0.1   | 0.425     |\n",
        "\n",
        "***Support Vector Machine best results***\n",
        "\n",
        "| Dataset   | StopWords | tf-(idf) | ngram_range | C     | gamma | Top1 Acc. |\n",
        "|-----------|-----------|----------|-------------|-------|-------|-----------|\n",
        "| Wikipedia | 'english' | Use idf  | (1, 1)      | 0.001 | 0.001 | 0.734     |\n",
        "| ArXiv     | 'english' | Use idf  | (1, 1)      | 0.001 | 0.001 | 0.415     |\n"
      ]
    },
    {
      "cell_type": "markdown",
      "metadata": {
        "colab_type": "text",
        "id": "er00tA-Ahp_r"
      },
      "source": [
        "\n",
        "**FFNN** (*Wikipedia* articles data): **0.42**\n",
        "\n",
        "**FFNN** (*Arxiv* papers data): **0.25**"
      ]
    },
    {
      "cell_type": "markdown",
      "metadata": {
        "id": "qzgYb8Db6I7W",
        "colab_type": "text"
      },
      "source": [
        "#Libraries"
      ]
    },
    {
      "cell_type": "markdown",
      "metadata": {
        "id": "ZCG-IdCp7ajZ",
        "colab_type": "text"
      },
      "source": [
        "### 3rd Party Libraries"
      ]
    },
    {
      "cell_type": "code",
      "metadata": {
        "id": "CCvXsxA97O9u",
        "colab_type": "code",
        "colab": {}
      },
      "source": [
        "!pip install wikipedia\n",
        "!pip install wikipedia-api"
      ],
      "execution_count": 0,
      "outputs": []
    },
    {
      "cell_type": "code",
      "metadata": {
        "id": "0liMzrSn7iD6",
        "colab_type": "code",
        "outputId": "d3e86f05-7a9d-45a6-b4e4-d2ce6ba75cbf",
        "colab": {
          "base_uri": "https://localhost:8080/",
          "height": 34
        }
      },
      "source": [
        "#Keras Neural Network (Feedforward)\n",
        "from keras.backend import clear_session\n",
        "from keras.models import Sequential\n",
        "from keras.layers import Dense\n",
        "#Computations \n",
        "import numpy as np\n",
        "#Progress bar\n",
        "from tqdm import tqdm_notebook as tqdm \n",
        "\n",
        "#Sklearn classifiers and utils\n",
        "from sklearn.linear_model import SGDClassifier\n",
        "from sklearn.naive_bayes import MultinomialNB\n",
        "from sklearn.pipeline import Pipeline\n",
        "from sklearn.feature_extraction.text import CountVectorizer, TfidfTransformer\n",
        "\n",
        "#visualizing \n",
        "import pandas as pd\n",
        "from google.colab.data_table import DataTable"
      ],
      "execution_count": 1,
      "outputs": [
        {
          "output_type": "stream",
          "text": [
            "Using TensorFlow backend.\n"
          ],
          "name": "stderr"
        }
      ]
    },
    {
      "cell_type": "markdown",
      "metadata": {
        "id": "TY9apjRe7dkJ",
        "colab_type": "text"
      },
      "source": [
        "### Project Library (modules)"
      ]
    },
    {
      "cell_type": "code",
      "metadata": {
        "id": "kG_8JM20GHd8",
        "colab_type": "code",
        "outputId": "eb4268d3-7ce6-44b8-c615-81eb707e38bd",
        "colab": {
          "base_uri": "https://localhost:8080/",
          "height": 173
        }
      },
      "source": [
        "import doc_utils #cleaning and other helper functions\n",
        "from max_sim_classifier import MaxSimClassifier #maximum similarity classifier custom library\n",
        "\n",
        "#Parser libraries: wikipedia dataset and arxiv dataset\n",
        "from arxiv_parser import arxiv_parser\n",
        "from wiki_parser import concurrentGetWikiFullPage, concurrentGetAllCatArticles"
      ],
      "execution_count": 3,
      "outputs": [
        {
          "output_type": "stream",
          "text": [
            "[nltk_data] Downloading package punkt to /root/nltk_data...\n",
            "[nltk_data]   Unzipping tokenizers/punkt.zip.\n",
            "[nltk_data] Downloading package wordnet to /root/nltk_data...\n",
            "[nltk_data]   Unzipping corpora/wordnet.zip.\n",
            "[nltk_data] Downloading package stopwords to /root/nltk_data...\n",
            "[nltk_data]   Unzipping corpora/stopwords.zip.\n"
          ],
          "name": "stdout"
        },
        {
          "output_type": "stream",
          "text": [
            "/usr/local/lib/python3.6/dist-packages/statsmodels/tools/_testing.py:19: FutureWarning: pandas.util.testing is deprecated. Use the functions in the public API at pandas.testing instead.\n",
            "  import pandas.util.testing as tm\n"
          ],
          "name": "stderr"
        }
      ]
    },
    {
      "cell_type": "markdown",
      "metadata": {
        "id": "0AQEooo_8Cdw",
        "colab_type": "text"
      },
      "source": [
        "# Data retrieval: Wiki and ArXiv datasets"
      ]
    },
    {
      "cell_type": "markdown",
      "metadata": {
        "id": "xF1xN8fo8PT1",
        "colab_type": "text"
      },
      "source": [
        "## Wikipedia Dataset (Definitions + Articles)"
      ]
    },
    {
      "cell_type": "code",
      "metadata": {
        "id": "4zR4cyH38B3Y",
        "colab_type": "code",
        "outputId": "bd0e7681-6189-4b07-c2c6-83d60abb4ad5",
        "colab": {
          "base_uri": "https://localhost:8080/",
          "height": 343
        }
      },
      "source": [
        "engineering_topic_defs = concurrentGetWikiFullPage(topics_list = doc_utils.ALL_TOPICS )\n",
        "\n",
        "engineering_articles, n_test_samples = concurrentGetAllCatArticles(doc_utils.ALL_TOPICS, full_text_test=True)"
      ],
      "execution_count": 4,
      "outputs": [
        {
          "output_type": "stream",
          "text": [
            "Obtaining full wikipedia page for the topic: Chemical engineering. (Definition of Class #[0])\n",
            "Obtaining full wikipedia page for the topic: Biomedical engineering. (Definition of Class #[1])\n",
            "Obtaining full wikipedia page for the topic: Civil engineering. (Definition of Class #[2])\n",
            "Obtaining full wikipedia page for the topic: Electrical engineering. (Definition of Class #[3])\n",
            "Obtaining full wikipedia page for the topic: Mechanical engineering. (Definition of Class #[4])\n",
            "Obtaining full wikipedia page for the topic: Aerospace engineering. (Definition of Class #[5])\n",
            "Obtaining full wikipedia page for the topic: Software engineering. (Definition of Class #[6])\n",
            "Obtaining full wikipedia page for the topic: Industrial engineering. (Definition of Class #[7])Obtaining full wikipedia page for the topic: Computer engineering. (Definition of Class #[8])\n",
            "\n",
            "Retrieved 41 articles from category topic 'Computer engineering'[TopicID:8]\n",
            "Retrieved 57 articles from category topic 'Software engineering'[TopicID:6]\n",
            "Retrieved 67 articles from category topic 'Chemical engineering'[TopicID:0]\n",
            "Retrieved 74 articles from category topic 'Industrial engineering'[TopicID:7]\n",
            "Retrieved 74 articles from category topic 'Biomedical engineering'[TopicID:1]\n",
            "Retrieved 140 articles from category topic 'Electrical engineering'[TopicID:3]\n",
            "Retrieved 152 articles from category topic 'Civil engineering'[TopicID:2]\n",
            "Retrieved 174 articles from category topic 'Aerospace engineering'[TopicID:5]\n",
            "Retrieved 215 articles from category topic 'Mechanical engineering'[TopicID:4]\n"
          ],
          "name": "stdout"
        }
      ]
    },
    {
      "cell_type": "code",
      "metadata": {
        "id": "yslSDeUKZB4K",
        "colab_type": "code",
        "outputId": "9b1f2559-aadc-4019-ca2e-48848c0f2aa8",
        "colab": {
          "base_uri": "https://localhost:8080/",
          "height": 312
        }
      },
      "source": [
        "doc_utils.plotDefinitionLengths(engineering_topic_defs ,dataset_type=\"wiki\")"
      ],
      "execution_count": 5,
      "outputs": [
        {
          "output_type": "stream",
          "text": [
            "Mean number of words per topic definition: 3192.3333333333335\n"
          ],
          "name": "stdout"
        },
        {
          "output_type": "display_data",
          "data": {
            "image/png": "[encoded data removed]",
            "text/plain": [
              "<Figure size 432x288 with 1 Axes>"
            ]
          },
          "metadata": {
            "tags": [],
            "needs_background": "light"
          }
        }
      ]
    },
    {
      "cell_type": "markdown",
      "metadata": {
        "id": "6D3d0g3S8UYA",
        "colab_type": "text"
      },
      "source": [
        "## arXiv Dataset (Papers)"
      ]
    },
    {
      "cell_type": "code",
      "metadata": {
        "id": "nhnnyXbG86eA",
        "colab_type": "code",
        "outputId": "4402db07-8e66-4b98-a86d-47f7341740b1",
        "colab": {
          "base_uri": "https://localhost:8080/",
          "height": 170
        }
      },
      "source": [
        "arxiv_topic_defs = concurrentGetWikiFullPage(topics_list = doc_utils.ARXIV_WIKI_TOPICS)\n",
        "\n",
        "arxiv_papers = arxiv_parser(100)"
      ],
      "execution_count": 6,
      "outputs": [
        {
          "output_type": "stream",
          "text": [
            "Obtaining full wikipedia page for the topic: Computer science. (Definition of Class #[0])\n",
            "Obtaining full wikipedia page for the topic: Economics. (Definition of Class #[1])\n",
            "Obtaining full wikipedia page for the topic: Systems engineering. (Definition of Class #[2])\n",
            "Obtaining full wikipedia page for the topic: Mathematics. (Definition of Class #[3])\n",
            "Obtaining full wikipedia page for the topic: Astrophysics. (Definition of Class #[4])\n",
            "Obtaining full wikipedia page for the topic: Computational biology. (Definition of Class #[5])\n",
            "Obtaining full wikipedia page for the topic: Quantitative finance. (Definition of Class #[6])\n",
            "Obtaining full wikipedia page for the topic: Statistics. (Definition of Class #[7])\n",
            "Retrieved 800 papers in total from 8 subjects (100 from each).\n"
          ],
          "name": "stdout"
        }
      ]
    },
    {
      "cell_type": "code",
      "metadata": {
        "id": "Hj0QGGkuZHDF",
        "colab_type": "code",
        "outputId": "9fe25bd3-971b-4848-ab94-69d0929a23f2",
        "colab": {
          "base_uri": "https://localhost:8080/",
          "height": 312
        }
      },
      "source": [
        "doc_utils.plotDefinitionLengths(arxiv_topic_defs ,dataset_type=\"arxiv\")"
      ],
      "execution_count": 7,
      "outputs": [
        {
          "output_type": "stream",
          "text": [
            "Mean number of words per topic definition: 3692.375\n"
          ],
          "name": "stdout"
        },
        {
          "output_type": "display_data",
          "data": {
            "image/png": "[encoded data removed]",
            "text/plain": [
              "<Figure size 432x288 with 1 Axes>"
            ]
          },
          "metadata": {
            "tags": [],
            "needs_background": "light"
          }
        }
      ]
    },
    {
      "cell_type": "markdown",
      "metadata": {
        "id": "KIxPPlYOZEE2",
        "colab_type": "text"
      },
      "source": [
        "#Hyperparam search of SVM and MNB baseline models"
      ]
    },
    {
      "cell_type": "markdown",
      "metadata": {
        "id": "6OLKZCFepYpS",
        "colab_type": "text"
      },
      "source": [
        "##ArXiv dataset"
      ]
    },
    {
      "cell_type": "code",
      "metadata": {
        "id": "7K43ZTcKZ-vQ",
        "colab_type": "code",
        "colab": {}
      },
      "source": [
        "x_train, y_train, x_test, y_test = doc_utils.processClassifierData(arxiv_topic_defs, \n",
        "                                                                   arxiv_papers,\n",
        "                                                                   topics = doc_utils.ARXIV_WIKI_TOPICS,\n",
        "                                                                   dataset_type =\"arxiv\")"
      ],
      "execution_count": 0,
      "outputs": []
    },
    {
      "cell_type": "markdown",
      "metadata": {
        "id": "dup0m8Xt1bx0",
        "colab_type": "text"
      },
      "source": [
        "### Support Vector Machine classifier"
      ]
    },
    {
      "cell_type": "code",
      "metadata": {
        "id": "injUXDniZZ_j",
        "colab_type": "code",
        "outputId": "60f83cd8-55bf-4a75-da60-3a754adf4935",
        "colab": {
          "base_uri": "https://localhost:8080/",
          "height": 71
        }
      },
      "source": [
        "from sklearn.svm import SVC\n",
        "\n",
        "best_svm_arxiv_score = 0\n",
        "svm_arxiv_models_params = list()\n",
        "\n",
        "for gamma in [0.001, 0.01, 0.1, 1, 10, 100]:\n",
        "    for C in [0.001, 0.01, 0.1, 1, 10, 100]:\n",
        "        for idf in [True, False]:\n",
        "            for stop_words in ['english', None]:\n",
        "                for ngram_range in [(1,1), (1,2)]:\n",
        "                    # for each combination of parameters, train an SVC\n",
        "                    svm = Pipeline([('vect', CountVectorizer(stop_words=stop_words,ngram_range=ngram_range)),\n",
        "                                    ('tfidf', TfidfTransformer(use_idf=idf)),\n",
        "                                    ('clf', SVC(C=C, gamma=gamma)),\n",
        "                                    ])    \n",
        "                    svm.fit(x_train, y_train)\n",
        "                    # evaluate the SVC on the test set\n",
        "                    score = svm.score(x_test, y_test)\n",
        "\n",
        "                    #keeping track of the combinations\n",
        "                    params = {'C': C, 'gamma': gamma, 'idf': idf, 'stop_words':stop_words, 'ngram_range':ngram_range}\n",
        "                    svm_arxiv_models_params.append((score, params))\n",
        "\n",
        "                    # if we got a better score, store the score and parameters\n",
        "                    if score > best_svm_arxiv_score:\n",
        "                        best_svm_arxiv_score = score\n",
        "                        best_svm_arxiv_parameters = {'C': C, 'gamma': gamma, 'idf': idf, 'stop_words':stop_words, 'ngram_range':ngram_range}\n",
        "\n",
        "print(\"Best score: {:.2f}\".format(best_svm_arxiv_score))\n",
        "print(\"Best parameters: {}\".format(best_svm_arxiv_parameters))"
      ],
      "execution_count": 0,
      "outputs": [
        {
          "output_type": "stream",
          "text": [
            "Best score: 0.41\n",
            "Best parameters: {'C': 0.001, 'gamma': 0.001, 'idf': True, 'stop_words': 'english', 'ngram_range': (1, 2)}\n"
          ],
          "name": "stdout"
        }
      ]
    },
    {
      "cell_type": "code",
      "metadata": {
        "id": "VJxJDwLhlM8l",
        "colab_type": "code",
        "outputId": "c2ef237e-22e6-4052-ed5c-0ea91aae1f24",
        "colab": {
          "base_uri": "https://localhost:8080/",
          "height": 623
        }
      },
      "source": [
        "df = pd.DataFrame.from_dict(svm_arxiv_models_params)\n",
        "df.columns = ['Top1 Acc.', 'SVM Classifier Parameters']\n",
        "DataTable(df.sort_values(by=['Top1 Acc.'], ascending=False))"
      ],
      "execution_count": 0,
      "outputs": [
        {
          "output_type": "execute_result",
          "data": {
            "application/vnd.google.colaboratory.module+javascript": "\n      import \"https://ssl.gstatic.com/colaboratory/data_table/a6224c040fa35dcf/data_table.js\";\n\n      window.createDataTable({\n        data: [[{\n            'v': 65,\n            'f': \"65\",\n        },\n{\n            'v': 0.415,\n            'f': \"0.415\",\n        },\n\"{'C': 0.1, 'gamma': 0.01, 'idf': True, 'stop_words': 'english', 'ngram_range': (1, 2)}\"],\n [{\n            'v': 217,\n            'f': \"217\",\n        },\n{\n            'v': 0.415,\n            'f': \"0.415\",\n        },\n\"{'C': 1, 'gamma': 10, 'idf': True, 'stop_words': 'english', 'ngram_range': (1, 2)}\"],\n [{\n            'v': 129,\n            'f': \"129\",\n        },\n{\n            'v': 0.415,\n            'f': \"0.415\",\n        },\n\"{'C': 10, 'gamma': 0.1, 'idf': True, 'stop_words': 'english', 'ngram_range': (1, 2)}\"],\n [{\n            'v': 201,\n            'f': \"201\",\n        },\n{\n            'v': 0.415,\n            'f': \"0.415\",\n        },\n\"{'C': 0.01, 'gamma': 10, 'idf': True, 'stop_words': 'english', 'ngram_range': (1, 2)}\"],\n [{\n            'v': 25,\n            'f': \"25\",\n        },\n{\n            'v': 0.415,\n            'f': \"0.415\",\n        },\n\"{'C': 1, 'gamma': 0.001, 'idf': True, 'stop_words': 'english', 'ngram_range': (1, 2)}\"],\n [{\n            'v': 105,\n            'f': \"105\",\n        },\n{\n            'v': 0.415,\n            'f': \"0.415\",\n        },\n\"{'C': 0.01, 'gamma': 0.1, 'idf': True, 'stop_words': 'english', 'ngram_range': (1, 2)}\"],\n [{\n            'v': 193,\n            'f': \"193\",\n        },\n{\n            'v': 0.415,\n            'f': \"0.415\",\n        },\n\"{'C': 0.001, 'gamma': 10, 'idf': True, 'stop_words': 'english', 'ngram_range': (1, 2)}\"],\n [{\n            'v': 185,\n            'f': \"185\",\n        },\n{\n            'v': 0.415,\n            'f': \"0.415\",\n        },\n\"{'C': 100, 'gamma': 1, 'idf': True, 'stop_words': 'english', 'ngram_range': (1, 2)}\"],\n [{\n            'v': 113,\n            'f': \"113\",\n        },\n{\n            'v': 0.415,\n            'f': \"0.415\",\n        },\n\"{'C': 0.1, 'gamma': 0.1, 'idf': True, 'stop_words': 'english', 'ngram_range': (1, 2)}\"],\n [{\n            'v': 177,\n            'f': \"177\",\n        },\n{\n            'v': 0.415,\n            'f': \"0.415\",\n        },\n\"{'C': 10, 'gamma': 1, 'idf': True, 'stop_words': 'english', 'ngram_range': (1, 2)}\"],\n [{\n            'v': 49,\n            'f': \"49\",\n        },\n{\n            'v': 0.415,\n            'f': \"0.415\",\n        },\n\"{'C': 0.001, 'gamma': 0.01, 'idf': True, 'stop_words': 'english', 'ngram_range': (1, 2)}\"],\n [{\n            'v': 33,\n            'f': \"33\",\n        },\n{\n            'v': 0.415,\n            'f': \"0.415\",\n        },\n\"{'C': 10, 'gamma': 0.001, 'idf': True, 'stop_words': 'english', 'ngram_range': (1, 2)}\"],\n [{\n            'v': 169,\n            'f': \"169\",\n        },\n{\n            'v': 0.415,\n            'f': \"0.415\",\n        },\n\"{'C': 1, 'gamma': 1, 'idf': True, 'stop_words': 'english', 'ngram_range': (1, 2)}\"],\n [{\n            'v': 161,\n            'f': \"161\",\n        },\n{\n            'v': 0.415,\n            'f': \"0.415\",\n        },\n\"{'C': 0.1, 'gamma': 1, 'idf': True, 'stop_words': 'english', 'ngram_range': (1, 2)}\"],\n [{\n            'v': 121,\n            'f': \"121\",\n        },\n{\n            'v': 0.415,\n            'f': \"0.415\",\n        },\n\"{'C': 1, 'gamma': 0.1, 'idf': True, 'stop_words': 'english', 'ngram_range': (1, 2)}\"],\n [{\n            'v': 153,\n            'f': \"153\",\n        },\n{\n            'v': 0.415,\n            'f': \"0.415\",\n        },\n\"{'C': 0.01, 'gamma': 1, 'idf': True, 'stop_words': 'english', 'ngram_range': (1, 2)}\"],\n [{\n            'v': 145,\n            'f': \"145\",\n        },\n{\n            'v': 0.415,\n            'f': \"0.415\",\n        },\n\"{'C': 0.001, 'gamma': 1, 'idf': True, 'stop_words': 'english', 'ngram_range': (1, 2)}\"],\n [{\n            'v': 41,\n            'f': \"41\",\n        },\n{\n            'v': 0.415,\n            'f': \"0.415\",\n        },\n\"{'C': 100, 'gamma': 0.001, 'idf': True, 'stop_words': 'english', 'ngram_range': (1, 2)}\"],\n [{\n            'v': 1,\n            'f': \"1\",\n        },\n{\n            'v': 0.415,\n            'f': \"0.415\",\n        },\n\"{'C': 0.001, 'gamma': 0.001, 'idf': True, 'stop_words': 'english', 'ngram_range': (1, 2)}\"],\n [{\n            'v': 97,\n            'f': \"97\",\n        },\n{\n            'v': 0.415,\n            'f': \"0.415\",\n        },\n\"{'C': 0.001, 'gamma': 0.1, 'idf': True, 'stop_words': 'english', 'ngram_range': (1, 2)}\"],\n [{\n            'v': 209,\n            'f': \"209\",\n        },\n{\n            'v': 0.415,\n            'f': \"0.415\",\n        },\n\"{'C': 0.1, 'gamma': 10, 'idf': True, 'stop_words': 'english', 'ngram_range': (1, 2)}\"],\n [{\n            'v': 81,\n            'f': \"81\",\n        },\n{\n            'v': 0.415,\n            'f': \"0.415\",\n        },\n\"{'C': 10, 'gamma': 0.01, 'idf': True, 'stop_words': 'english', 'ngram_range': (1, 2)}\"],\n [{\n            'v': 249,\n            'f': \"249\",\n        },\n{\n            'v': 0.415,\n            'f': \"0.415\",\n        },\n\"{'C': 0.01, 'gamma': 100, 'idf': True, 'stop_words': 'english', 'ngram_range': (1, 2)}\"],\n [{\n            'v': 281,\n            'f': \"281\",\n        },\n{\n            'v': 0.415,\n            'f': \"0.415\",\n        },\n\"{'C': 100, 'gamma': 100, 'idf': True, 'stop_words': 'english', 'ngram_range': (1, 2)}\"],\n [{\n            'v': 273,\n            'f': \"273\",\n        },\n{\n            'v': 0.415,\n            'f': \"0.415\",\n        },\n\"{'C': 10, 'gamma': 100, 'idf': True, 'stop_words': 'english', 'ngram_range': (1, 2)}\"],\n [{\n            'v': 73,\n            'f': \"73\",\n        },\n{\n            'v': 0.415,\n            'f': \"0.415\",\n        },\n\"{'C': 1, 'gamma': 0.01, 'idf': True, 'stop_words': 'english', 'ngram_range': (1, 2)}\"],\n [{\n            'v': 265,\n            'f': \"265\",\n        },\n{\n            'v': 0.415,\n            'f': \"0.415\",\n        },\n\"{'C': 1, 'gamma': 100, 'idf': True, 'stop_words': 'english', 'ngram_range': (1, 2)}\"],\n [{\n            'v': 257,\n            'f': \"257\",\n        },\n{\n            'v': 0.415,\n            'f': \"0.415\",\n        },\n\"{'C': 0.1, 'gamma': 100, 'idf': True, 'stop_words': 'english', 'ngram_range': (1, 2)}\"],\n [{\n            'v': 9,\n            'f': \"9\",\n        },\n{\n            'v': 0.415,\n            'f': \"0.415\",\n        },\n\"{'C': 0.01, 'gamma': 0.001, 'idf': True, 'stop_words': 'english', 'ngram_range': (1, 2)}\"],\n [{\n            'v': 225,\n            'f': \"225\",\n        },\n{\n            'v': 0.415,\n            'f': \"0.415\",\n        },\n\"{'C': 10, 'gamma': 10, 'idf': True, 'stop_words': 'english', 'ngram_range': (1, 2)}\"],\n [{\n            'v': 137,\n            'f': \"137\",\n        },\n{\n            'v': 0.415,\n            'f': \"0.415\",\n        },\n\"{'C': 100, 'gamma': 0.1, 'idf': True, 'stop_words': 'english', 'ngram_range': (1, 2)}\"],\n [{\n            'v': 241,\n            'f': \"241\",\n        },\n{\n            'v': 0.415,\n            'f': \"0.415\",\n        },\n\"{'C': 0.001, 'gamma': 100, 'idf': True, 'stop_words': 'english', 'ngram_range': (1, 2)}\"],\n [{\n            'v': 57,\n            'f': \"57\",\n        },\n{\n            'v': 0.415,\n            'f': \"0.415\",\n        },\n\"{'C': 0.01, 'gamma': 0.01, 'idf': True, 'stop_words': 'english', 'ngram_range': (1, 2)}\"],\n [{\n            'v': 233,\n            'f': \"233\",\n        },\n{\n            'v': 0.415,\n            'f': \"0.415\",\n        },\n\"{'C': 100, 'gamma': 10, 'idf': True, 'stop_words': 'english', 'ngram_range': (1, 2)}\"],\n [{\n            'v': 89,\n            'f': \"89\",\n        },\n{\n            'v': 0.415,\n            'f': \"0.415\",\n        },\n\"{'C': 100, 'gamma': 0.01, 'idf': True, 'stop_words': 'english', 'ngram_range': (1, 2)}\"],\n [{\n            'v': 17,\n            'f': \"17\",\n        },\n{\n            'v': 0.415,\n            'f': \"0.415\",\n        },\n\"{'C': 0.1, 'gamma': 0.001, 'idf': True, 'stop_words': 'english', 'ngram_range': (1, 2)}\"],\n [{\n            'v': 88,\n            'f': \"88\",\n        },\n{\n            'v': 0.40375,\n            'f': \"0.40375\",\n        },\n\"{'C': 100, 'gamma': 0.01, 'idf': True, 'stop_words': 'english', 'ngram_range': (1, 1)}\"],\n [{\n            'v': 112,\n            'f': \"112\",\n        },\n{\n            'v': 0.40375,\n            'f': \"0.40375\",\n        },\n\"{'C': 0.1, 'gamma': 0.1, 'idf': True, 'stop_words': 'english', 'ngram_range': (1, 1)}\"],\n [{\n            'v': 120,\n            'f': \"120\",\n        },\n{\n            'v': 0.40375,\n            'f': \"0.40375\",\n        },\n\"{'C': 1, 'gamma': 0.1, 'idf': True, 'stop_words': 'english', 'ngram_range': (1, 1)}\"],\n [{\n            'v': 80,\n            'f': \"80\",\n        },\n{\n            'v': 0.40375,\n            'f': \"0.40375\",\n        },\n\"{'C': 10, 'gamma': 0.01, 'idf': True, 'stop_words': 'english', 'ngram_range': (1, 1)}\"],\n [{\n            'v': 128,\n            'f': \"128\",\n        },\n{\n            'v': 0.40375,\n            'f': \"0.40375\",\n        },\n\"{'C': 10, 'gamma': 0.1, 'idf': True, 'stop_words': 'english', 'ngram_range': (1, 1)}\"],\n [{\n            'v': 72,\n            'f': \"72\",\n        },\n{\n            'v': 0.40375,\n            'f': \"0.40375\",\n        },\n\"{'C': 1, 'gamma': 0.01, 'idf': True, 'stop_words': 'english', 'ngram_range': (1, 1)}\"],\n [{\n            'v': 104,\n            'f': \"104\",\n        },\n{\n            'v': 0.40375,\n            'f': \"0.40375\",\n        },\n\"{'C': 0.01, 'gamma': 0.1, 'idf': True, 'stop_words': 'english', 'ngram_range': (1, 1)}\"],\n [{\n            'v': 96,\n            'f': \"96\",\n        },\n{\n            'v': 0.40375,\n            'f': \"0.40375\",\n        },\n\"{'C': 0.001, 'gamma': 0.1, 'idf': True, 'stop_words': 'english', 'ngram_range': (1, 1)}\"],\n [{\n            'v': 0,\n            'f': \"0\",\n        },\n{\n            'v': 0.40375,\n            'f': \"0.40375\",\n        },\n\"{'C': 0.001, 'gamma': 0.001, 'idf': True, 'stop_words': 'english', 'ngram_range': (1, 1)}\"],\n [{\n            'v': 136,\n            'f': \"136\",\n        },\n{\n            'v': 0.40375,\n            'f': \"0.40375\",\n        },\n\"{'C': 100, 'gamma': 0.1, 'idf': True, 'stop_words': 'english', 'ngram_range': (1, 1)}\"],\n [{\n            'v': 224,\n            'f': \"224\",\n        },\n{\n            'v': 0.40375,\n            'f': \"0.40375\",\n        },\n\"{'C': 10, 'gamma': 10, 'idf': True, 'stop_words': 'english', 'ngram_range': (1, 1)}\"],\n [{\n            'v': 280,\n            'f': \"280\",\n        },\n{\n            'v': 0.40375,\n            'f': \"0.40375\",\n        },\n\"{'C': 100, 'gamma': 100, 'idf': True, 'stop_words': 'english', 'ngram_range': (1, 1)}\"],\n [{\n            'v': 272,\n            'f': \"272\",\n        },\n{\n            'v': 0.40375,\n            'f': \"0.40375\",\n        },\n\"{'C': 10, 'gamma': 100, 'idf': True, 'stop_words': 'english', 'ngram_range': (1, 1)}\"],\n [{\n            'v': 264,\n            'f': \"264\",\n        },\n{\n            'v': 0.40375,\n            'f': \"0.40375\",\n        },\n\"{'C': 1, 'gamma': 100, 'idf': True, 'stop_words': 'english', 'ngram_range': (1, 1)}\"],\n [{\n            'v': 256,\n            'f': \"256\",\n        },\n{\n            'v': 0.40375,\n            'f': \"0.40375\",\n        },\n\"{'C': 0.1, 'gamma': 100, 'idf': True, 'stop_words': 'english', 'ngram_range': (1, 1)}\"],\n [{\n            'v': 248,\n            'f': \"248\",\n        },\n{\n            'v': 0.40375,\n            'f': \"0.40375\",\n        },\n\"{'C': 0.01, 'gamma': 100, 'idf': True, 'stop_words': 'english', 'ngram_range': (1, 1)}\"],\n [{\n            'v': 240,\n            'f': \"240\",\n        },\n{\n            'v': 0.40375,\n            'f': \"0.40375\",\n        },\n\"{'C': 0.001, 'gamma': 100, 'idf': True, 'stop_words': 'english', 'ngram_range': (1, 1)}\"],\n [{\n            'v': 232,\n            'f': \"232\",\n        },\n{\n            'v': 0.40375,\n            'f': \"0.40375\",\n        },\n\"{'C': 100, 'gamma': 10, 'idf': True, 'stop_words': 'english', 'ngram_range': (1, 1)}\"],\n [{\n            'v': 216,\n            'f': \"216\",\n        },\n{\n            'v': 0.40375,\n            'f': \"0.40375\",\n        },\n\"{'C': 1, 'gamma': 10, 'idf': True, 'stop_words': 'english', 'ngram_range': (1, 1)}\"],\n [{\n            'v': 152,\n            'f': \"152\",\n        },\n{\n            'v': 0.40375,\n            'f': \"0.40375\",\n        },\n\"{'C': 0.01, 'gamma': 1, 'idf': True, 'stop_words': 'english', 'ngram_range': (1, 1)}\"],\n [{\n            'v': 208,\n            'f': \"208\",\n        },\n{\n            'v': 0.40375,\n            'f': \"0.40375\",\n        },\n\"{'C': 0.1, 'gamma': 10, 'idf': True, 'stop_words': 'english', 'ngram_range': (1, 1)}\"],\n [{\n            'v': 200,\n            'f': \"200\",\n        },\n{\n            'v': 0.40375,\n            'f': \"0.40375\",\n        },\n\"{'C': 0.01, 'gamma': 10, 'idf': True, 'stop_words': 'english', 'ngram_range': (1, 1)}\"],\n [{\n            'v': 192,\n            'f': \"192\",\n        },\n{\n            'v': 0.40375,\n            'f': \"0.40375\",\n        },\n\"{'C': 0.001, 'gamma': 10, 'idf': True, 'stop_words': 'english', 'ngram_range': (1, 1)}\"],\n [{\n            'v': 184,\n            'f': \"184\",\n        },\n{\n            'v': 0.40375,\n            'f': \"0.40375\",\n        },\n\"{'C': 100, 'gamma': 1, 'idf': True, 'stop_words': 'english', 'ngram_range': (1, 1)}\"],\n [{\n            'v': 64,\n            'f': \"64\",\n        },\n{\n            'v': 0.40375,\n            'f': \"0.40375\",\n        },\n\"{'C': 0.1, 'gamma': 0.01, 'idf': True, 'stop_words': 'english', 'ngram_range': (1, 1)}\"],\n [{\n            'v': 168,\n            'f': \"168\",\n        },\n{\n            'v': 0.40375,\n            'f': \"0.40375\",\n        },\n\"{'C': 1, 'gamma': 1, 'idf': True, 'stop_words': 'english', 'ngram_range': (1, 1)}\"],\n [{\n            'v': 160,\n            'f': \"160\",\n        },\n{\n            'v': 0.40375,\n            'f': \"0.40375\",\n        },\n\"{'C': 0.1, 'gamma': 1, 'idf': True, 'stop_words': 'english', 'ngram_range': (1, 1)}\"],\n [{\n            'v': 176,\n            'f': \"176\",\n        },\n{\n            'v': 0.40375,\n            'f': \"0.40375\",\n        },\n\"{'C': 10, 'gamma': 1, 'idf': True, 'stop_words': 'english', 'ngram_range': (1, 1)}\"],\n [{\n            'v': 144,\n            'f': \"144\",\n        },\n{\n            'v': 0.40375,\n            'f': \"0.40375\",\n        },\n\"{'C': 0.001, 'gamma': 1, 'idf': True, 'stop_words': 'english', 'ngram_range': (1, 1)}\"],\n [{\n            'v': 32,\n            'f': \"32\",\n        },\n{\n            'v': 0.40375,\n            'f': \"0.40375\",\n        },\n\"{'C': 10, 'gamma': 0.001, 'idf': True, 'stop_words': 'english', 'ngram_range': (1, 1)}\"],\n [{\n            'v': 56,\n            'f': \"56\",\n        },\n{\n            'v': 0.40375,\n            'f': \"0.40375\",\n        },\n\"{'C': 0.01, 'gamma': 0.01, 'idf': True, 'stop_words': 'english', 'ngram_range': (1, 1)}\"],\n [{\n            'v': 16,\n            'f': \"16\",\n        },\n{\n            'v': 0.40375,\n            'f': \"0.40375\",\n        },\n\"{'C': 0.1, 'gamma': 0.001, 'idf': True, 'stop_words': 'english', 'ngram_range': (1, 1)}\"],\n [{\n            'v': 24,\n            'f': \"24\",\n        },\n{\n            'v': 0.40375,\n            'f': \"0.40375\",\n        },\n\"{'C': 1, 'gamma': 0.001, 'idf': True, 'stop_words': 'english', 'ngram_range': (1, 1)}\"],\n [{\n            'v': 40,\n            'f': \"40\",\n        },\n{\n            'v': 0.40375,\n            'f': \"0.40375\",\n        },\n\"{'C': 100, 'gamma': 0.001, 'idf': True, 'stop_words': 'english', 'ngram_range': (1, 1)}\"],\n [{\n            'v': 48,\n            'f': \"48\",\n        },\n{\n            'v': 0.40375,\n            'f': \"0.40375\",\n        },\n\"{'C': 0.001, 'gamma': 0.01, 'idf': True, 'stop_words': 'english', 'ngram_range': (1, 1)}\"],\n [{\n            'v': 8,\n            'f': \"8\",\n        },\n{\n            'v': 0.40375,\n            'f': \"0.40375\",\n        },\n\"{'C': 0.01, 'gamma': 0.001, 'idf': True, 'stop_words': 'english', 'ngram_range': (1, 1)}\"],\n [{\n            'v': 164,\n            'f': \"164\",\n        },\n{\n            'v': 0.36875,\n            'f': \"0.36875\",\n        },\n\"{'C': 0.1, 'gamma': 1, 'idf': False, 'stop_words': 'english', 'ngram_range': (1, 1)}\"],\n [{\n            'v': 212,\n            'f': \"212\",\n        },\n{\n            'v': 0.36875,\n            'f': \"0.36875\",\n        },\n\"{'C': 0.1, 'gamma': 10, 'idf': False, 'stop_words': 'english', 'ngram_range': (1, 1)}\"],\n [{\n            'v': 68,\n            'f': \"68\",\n        },\n{\n            'v': 0.36875,\n            'f': \"0.36875\",\n        },\n\"{'C': 0.1, 'gamma': 0.01, 'idf': False, 'stop_words': 'english', 'ngram_range': (1, 1)}\"],\n [{\n            'v': 100,\n            'f': \"100\",\n        },\n{\n            'v': 0.36875,\n            'f': \"0.36875\",\n        },\n\"{'C': 0.001, 'gamma': 0.1, 'idf': False, 'stop_words': 'english', 'ngram_range': (1, 1)}\"],\n [{\n            'v': 132,\n            'f': \"132\",\n        },\n{\n            'v': 0.36875,\n            'f': \"0.36875\",\n        },\n\"{'C': 10, 'gamma': 0.1, 'idf': False, 'stop_words': 'english', 'ngram_range': (1, 1)}\"],\n [{\n            'v': 28,\n            'f': \"28\",\n        },\n{\n            'v': 0.36875,\n            'f': \"0.36875\",\n        },\n\"{'C': 1, 'gamma': 0.001, 'idf': False, 'stop_words': 'english', 'ngram_range': (1, 1)}\"],\n [{\n            'v': 52,\n            'f': \"52\",\n        },\n{\n            'v': 0.36875,\n            'f': \"0.36875\",\n        },\n\"{'C': 0.001, 'gamma': 0.01, 'idf': False, 'stop_words': 'english', 'ngram_range': (1, 1)}\"],\n [{\n            'v': 188,\n            'f': \"188\",\n        },\n{\n            'v': 0.36875,\n            'f': \"0.36875\",\n        },\n\"{'C': 100, 'gamma': 1, 'idf': False, 'stop_words': 'english', 'ngram_range': (1, 1)}\"],\n [{\n            'v': 108,\n            'f': \"108\",\n        },\n{\n            'v': 0.36875,\n            'f': \"0.36875\",\n        },\n\"{'C': 0.01, 'gamma': 0.1, 'idf': False, 'stop_words': 'english', 'ngram_range': (1, 1)}\"],\n [{\n            'v': 268,\n            'f': \"268\",\n        },\n{\n            'v': 0.36875,\n            'f': \"0.36875\",\n        },\n\"{'C': 1, 'gamma': 100, 'idf': False, 'stop_words': 'english', 'ngram_range': (1, 1)}\"],\n [{\n            'v': 180,\n            'f': \"180\",\n        },\n{\n            'v': 0.36875,\n            'f': \"0.36875\",\n        },\n\"{'C': 10, 'gamma': 1, 'idf': False, 'stop_words': 'english', 'ngram_range': (1, 1)}\"],\n [{\n            'v': 172,\n            'f': \"172\",\n        },\n{\n            'v': 0.36875,\n            'f': \"0.36875\",\n        },\n\"{'C': 1, 'gamma': 1, 'idf': False, 'stop_words': 'english', 'ngram_range': (1, 1)}\"],\n [{\n            'v': 116,\n            'f': \"116\",\n        },\n{\n            'v': 0.36875,\n            'f': \"0.36875\",\n        },\n\"{'C': 0.1, 'gamma': 0.1, 'idf': False, 'stop_words': 'english', 'ngram_range': (1, 1)}\"],\n [{\n            'v': 36,\n            'f': \"36\",\n        },\n{\n            'v': 0.36875,\n            'f': \"0.36875\",\n        },\n\"{'C': 10, 'gamma': 0.001, 'idf': False, 'stop_words': 'english', 'ngram_range': (1, 1)}\"],\n [{\n            'v': 156,\n            'f': \"156\",\n        },\n{\n            'v': 0.36875,\n            'f': \"0.36875\",\n        },\n\"{'C': 0.01, 'gamma': 1, 'idf': False, 'stop_words': 'english', 'ngram_range': (1, 1)}\"],\n [{\n            'v': 4,\n            'f': \"4\",\n        },\n{\n            'v': 0.36875,\n            'f': \"0.36875\",\n        },\n\"{'C': 0.001, 'gamma': 0.001, 'idf': False, 'stop_words': 'english', 'ngram_range': (1, 1)}\"],\n [{\n            'v': 124,\n            'f': \"124\",\n        },\n{\n            'v': 0.36875,\n            'f': \"0.36875\",\n        },\n\"{'C': 1, 'gamma': 0.1, 'idf': False, 'stop_words': 'english', 'ngram_range': (1, 1)}\"],\n [{\n            'v': 148,\n            'f': \"148\",\n        },\n{\n            'v': 0.36875,\n            'f': \"0.36875\",\n        },\n\"{'C': 0.001, 'gamma': 1, 'idf': False, 'stop_words': 'english', 'ngram_range': (1, 1)}\"],\n [{\n            'v': 140,\n            'f': \"140\",\n        },\n{\n            'v': 0.36875,\n            'f': \"0.36875\",\n        },\n\"{'C': 100, 'gamma': 0.1, 'idf': False, 'stop_words': 'english', 'ngram_range': (1, 1)}\"],\n [{\n            'v': 44,\n            'f': \"44\",\n        },\n{\n            'v': 0.36875,\n            'f': \"0.36875\",\n        },\n\"{'C': 100, 'gamma': 0.001, 'idf': False, 'stop_words': 'english', 'ngram_range': (1, 1)}\"],\n [{\n            'v': 276,\n            'f': \"276\",\n        },\n{\n            'v': 0.36875,\n            'f': \"0.36875\",\n        },\n\"{'C': 10, 'gamma': 100, 'idf': False, 'stop_words': 'english', 'ngram_range': (1, 1)}\"],\n [{\n            'v': 204,\n            'f': \"204\",\n        },\n{\n            'v': 0.36875,\n            'f': \"0.36875\",\n        },\n\"{'C': 0.01, 'gamma': 10, 'idf': False, 'stop_words': 'english', 'ngram_range': (1, 1)}\"],\n [{\n            'v': 196,\n            'f': \"196\",\n        },\n{\n            'v': 0.36875,\n            'f': \"0.36875\",\n        },\n\"{'C': 0.001, 'gamma': 10, 'idf': False, 'stop_words': 'english', 'ngram_range': (1, 1)}\"],\n [{\n            'v': 284,\n            'f': \"284\",\n        },\n{\n            'v': 0.36875,\n            'f': \"0.36875\",\n        },\n\"{'C': 100, 'gamma': 100, 'idf': False, 'stop_words': 'english', 'ngram_range': (1, 1)}\"],\n [{\n            'v': 20,\n            'f': \"20\",\n        },\n{\n            'v': 0.36875,\n            'f': \"0.36875\",\n        },\n\"{'C': 0.1, 'gamma': 0.001, 'idf': False, 'stop_words': 'english', 'ngram_range': (1, 1)}\"],\n [{\n            'v': 92,\n            'f': \"92\",\n        },\n{\n            'v': 0.36875,\n            'f': \"0.36875\",\n        },\n\"{'C': 100, 'gamma': 0.01, 'idf': False, 'stop_words': 'english', 'ngram_range': (1, 1)}\"],\n [{\n            'v': 220,\n            'f': \"220\",\n        },\n{\n            'v': 0.36875,\n            'f': \"0.36875\",\n        },\n\"{'C': 1, 'gamma': 10, 'idf': False, 'stop_words': 'english', 'ngram_range': (1, 1)}\"],\n [{\n            'v': 252,\n            'f': \"252\",\n        },\n{\n            'v': 0.36875,\n            'f': \"0.36875\",\n        },\n\"{'C': 0.01, 'gamma': 100, 'idf': False, 'stop_words': 'english', 'ngram_range': (1, 1)}\"],\n [{\n            'v': 76,\n            'f': \"76\",\n        },\n{\n            'v': 0.36875,\n            'f': \"0.36875\",\n        },\n\"{'C': 1, 'gamma': 0.01, 'idf': False, 'stop_words': 'english', 'ngram_range': (1, 1)}\"],\n [{\n            'v': 228,\n            'f': \"228\",\n        },\n{\n            'v': 0.36875,\n            'f': \"0.36875\",\n        },\n\"{'C': 10, 'gamma': 10, 'idf': False, 'stop_words': 'english', 'ngram_range': (1, 1)}\"],\n [{\n            'v': 236,\n            'f': \"236\",\n        },\n{\n            'v': 0.36875,\n            'f': \"0.36875\",\n        },\n\"{'C': 100, 'gamma': 10, 'idf': False, 'stop_words': 'english', 'ngram_range': (1, 1)}\"],\n [{\n            'v': 60,\n            'f': \"60\",\n        },\n{\n            'v': 0.36875,\n            'f': \"0.36875\",\n        },\n\"{'C': 0.01, 'gamma': 0.01, 'idf': False, 'stop_words': 'english', 'ngram_range': (1, 1)}\"],\n [{\n            'v': 244,\n            'f': \"244\",\n        },\n{\n            'v': 0.36875,\n            'f': \"0.36875\",\n        },\n\"{'C': 0.001, 'gamma': 100, 'idf': False, 'stop_words': 'english', 'ngram_range': (1, 1)}\"],\n [{\n            'v': 12,\n            'f': \"12\",\n        },\n{\n            'v': 0.36875,\n            'f': \"0.36875\",\n        },\n\"{'C': 0.01, 'gamma': 0.001, 'idf': False, 'stop_words': 'english', 'ngram_range': (1, 1)}\"],\n [{\n            'v': 84,\n            'f': \"84\",\n        },\n{\n            'v': 0.36875,\n            'f': \"0.36875\",\n        },\n\"{'C': 10, 'gamma': 0.01, 'idf': False, 'stop_words': 'english', 'ngram_range': (1, 1)}\"],\n [{\n            'v': 260,\n            'f': \"260\",\n        },\n{\n            'v': 0.36875,\n            'f': \"0.36875\",\n        },\n\"{'C': 0.1, 'gamma': 100, 'idf': False, 'stop_words': 'english', 'ngram_range': (1, 1)}\"],\n [{\n            'v': 149,\n            'f': \"149\",\n        },\n{\n            'v': 0.3625,\n            'f': \"0.3625\",\n        },\n\"{'C': 0.001, 'gamma': 1, 'idf': False, 'stop_words': 'english', 'ngram_range': (1, 2)}\"],\n [{\n            'v': 157,\n            'f': \"157\",\n        },\n{\n            'v': 0.3625,\n            'f': \"0.3625\",\n        },\n\"{'C': 0.01, 'gamma': 1, 'idf': False, 'stop_words': 'english', 'ngram_range': (1, 2)}\"],\n [{\n            'v': 213,\n            'f': \"213\",\n        },\n{\n            'v': 0.3625,\n            'f': \"0.3625\",\n        },\n\"{'C': 0.1, 'gamma': 10, 'idf': False, 'stop_words': 'english', 'ngram_range': (1, 2)}\"],\n [{\n            'v': 245,\n            'f': \"245\",\n        },\n{\n            'v': 0.3625,\n            'f': \"0.3625\",\n        },\n\"{'C': 0.001, 'gamma': 100, 'idf': False, 'stop_words': 'english', 'ngram_range': (1, 2)}\"],\n [{\n            'v': 13,\n            'f': \"13\",\n        },\n{\n            'v': 0.3625,\n            'f': \"0.3625\",\n        },\n\"{'C': 0.01, 'gamma': 0.001, 'idf': False, 'stop_words': 'english', 'ngram_range': (1, 2)}\"],\n [{\n            'v': 69,\n            'f': \"69\",\n        },\n{\n            'v': 0.3625,\n            'f': \"0.3625\",\n        },\n\"{'C': 0.1, 'gamma': 0.01, 'idf': False, 'stop_words': 'english', 'ngram_range': (1, 2)}\"],\n [{\n            'v': 141,\n            'f': \"141\",\n        },\n{\n            'v': 0.3625,\n            'f': \"0.3625\",\n        },\n\"{'C': 100, 'gamma': 0.1, 'idf': False, 'stop_words': 'english', 'ngram_range': (1, 2)}\"],\n [{\n            'v': 253,\n            'f': \"253\",\n        },\n{\n            'v': 0.3625,\n            'f': \"0.3625\",\n        },\n\"{'C': 0.01, 'gamma': 100, 'idf': False, 'stop_words': 'english', 'ngram_range': (1, 2)}\"],\n [{\n            'v': 5,\n            'f': \"5\",\n        },\n{\n            'v': 0.3625,\n            'f': \"0.3625\",\n        },\n\"{'C': 0.001, 'gamma': 0.001, 'idf': False, 'stop_words': 'english', 'ngram_range': (1, 2)}\"],\n [{\n            'v': 173,\n            'f': \"173\",\n        },\n{\n            'v': 0.3625,\n            'f': \"0.3625\",\n        },\n\"{'C': 1, 'gamma': 1, 'idf': False, 'stop_words': 'english', 'ngram_range': (1, 2)}\"],\n [{\n            'v': 61,\n            'f': \"61\",\n        },\n{\n            'v': 0.3625,\n            'f': \"0.3625\",\n        },\n\"{'C': 0.01, 'gamma': 0.01, 'idf': False, 'stop_words': 'english', 'ngram_range': (1, 2)}\"],\n [{\n            'v': 237,\n            'f': \"237\",\n        },\n{\n            'v': 0.3625,\n            'f': \"0.3625\",\n        },\n\"{'C': 100, 'gamma': 10, 'idf': False, 'stop_words': 'english', 'ngram_range': (1, 2)}\"],\n [{\n            'v': 165,\n            'f': \"165\",\n        },\n{\n            'v': 0.3625,\n            'f': \"0.3625\",\n        },\n\"{'C': 0.1, 'gamma': 1, 'idf': False, 'stop_words': 'english', 'ngram_range': (1, 2)}\"],\n [{\n            'v': 21,\n            'f': \"21\",\n        },\n{\n            'v': 0.3625,\n            'f': \"0.3625\",\n        },\n\"{'C': 0.1, 'gamma': 0.001, 'idf': False, 'stop_words': 'english', 'ngram_range': (1, 2)}\"],\n [{\n            'v': 269,\n            'f': \"269\",\n        },\n{\n            'v': 0.3625,\n            'f': \"0.3625\",\n        },\n\"{'C': 1, 'gamma': 100, 'idf': False, 'stop_words': 'english', 'ngram_range': (1, 2)}\"],\n [{\n            'v': 181,\n            'f': \"181\",\n        },\n{\n            'v': 0.3625,\n            'f': \"0.3625\",\n        },\n\"{'C': 10, 'gamma': 1, 'idf': False, 'stop_words': 'english', 'ngram_range': (1, 2)}\"],\n [{\n            'v': 261,\n            'f': \"261\",\n        },\n{\n            'v': 0.3625,\n            'f': \"0.3625\",\n        },\n\"{'C': 0.1, 'gamma': 100, 'idf': False, 'stop_words': 'english', 'ngram_range': (1, 2)}\"],\n [{\n            'v': 29,\n            'f': \"29\",\n        },\n{\n            'v': 0.3625,\n            'f': \"0.3625\",\n        },\n\"{'C': 1, 'gamma': 0.001, 'idf': False, 'stop_words': 'english', 'ngram_range': (1, 2)}\"],\n [{\n            'v': 229,\n            'f': \"229\",\n        },\n{\n            'v': 0.3625,\n            'f': \"0.3625\",\n        },\n\"{'C': 10, 'gamma': 10, 'idf': False, 'stop_words': 'english', 'ngram_range': (1, 2)}\"],\n [{\n            'v': 189,\n            'f': \"189\",\n        },\n{\n            'v': 0.3625,\n            'f': \"0.3625\",\n        },\n\"{'C': 100, 'gamma': 1, 'idf': False, 'stop_words': 'english', 'ngram_range': (1, 2)}\"],\n [{\n            'v': 221,\n            'f': \"221\",\n        },\n{\n            'v': 0.3625,\n            'f': \"0.3625\",\n        },\n\"{'C': 1, 'gamma': 10, 'idf': False, 'stop_words': 'english', 'ngram_range': (1, 2)}\"],\n [{\n            'v': 197,\n            'f': \"197\",\n        },\n{\n            'v': 0.3625,\n            'f': \"0.3625\",\n        },\n\"{'C': 0.001, 'gamma': 10, 'idf': False, 'stop_words': 'english', 'ngram_range': (1, 2)}\"],\n [{\n            'v': 205,\n            'f': \"205\",\n        },\n{\n            'v': 0.3625,\n            'f': \"0.3625\",\n        },\n\"{'C': 0.01, 'gamma': 10, 'idf': False, 'stop_words': 'english', 'ngram_range': (1, 2)}\"],\n [{\n            'v': 133,\n            'f': \"133\",\n        },\n{\n            'v': 0.3625,\n            'f': \"0.3625\",\n        },\n\"{'C': 10, 'gamma': 0.1, 'idf': False, 'stop_words': 'english', 'ngram_range': (1, 2)}\"],\n [{\n            'v': 37,\n            'f': \"37\",\n        },\n{\n            'v': 0.3625,\n            'f': \"0.3625\",\n        },\n\"{'C': 10, 'gamma': 0.001, 'idf': False, 'stop_words': 'english', 'ngram_range': (1, 2)}\"],\n [{\n            'v': 53,\n            'f': \"53\",\n        },\n{\n            'v': 0.3625,\n            'f': \"0.3625\",\n        },\n\"{'C': 0.001, 'gamma': 0.01, 'idf': False, 'stop_words': 'english', 'ngram_range': (1, 2)}\"],\n [{\n            'v': 101,\n            'f': \"101\",\n        },\n{\n            'v': 0.3625,\n            'f': \"0.3625\",\n        },\n\"{'C': 0.001, 'gamma': 0.1, 'idf': False, 'stop_words': 'english', 'ngram_range': (1, 2)}\"],\n [{\n            'v': 85,\n            'f': \"85\",\n        },\n{\n            'v': 0.3625,\n            'f': \"0.3625\",\n        },\n\"{'C': 10, 'gamma': 0.01, 'idf': False, 'stop_words': 'english', 'ngram_range': (1, 2)}\"],\n [{\n            'v': 285,\n            'f': \"285\",\n        },\n{\n            'v': 0.3625,\n            'f': \"0.3625\",\n        },\n\"{'C': 100, 'gamma': 100, 'idf': False, 'stop_words': 'english', 'ngram_range': (1, 2)}\"],\n [{\n            'v': 109,\n            'f': \"109\",\n        },\n{\n            'v': 0.3625,\n            'f': \"0.3625\",\n        },\n\"{'C': 0.01, 'gamma': 0.1, 'idf': False, 'stop_words': 'english', 'ngram_range': (1, 2)}\"],\n [{\n            'v': 125,\n            'f': \"125\",\n        },\n{\n            'v': 0.3625,\n            'f': \"0.3625\",\n        },\n\"{'C': 1, 'gamma': 0.1, 'idf': False, 'stop_words': 'english', 'ngram_range': (1, 2)}\"],\n [{\n            'v': 77,\n            'f': \"77\",\n        },\n{\n            'v': 0.3625,\n            'f': \"0.3625\",\n        },\n\"{'C': 1, 'gamma': 0.01, 'idf': False, 'stop_words': 'english', 'ngram_range': (1, 2)}\"],\n [{\n            'v': 93,\n            'f': \"93\",\n        },\n{\n            'v': 0.3625,\n            'f': \"0.3625\",\n        },\n\"{'C': 100, 'gamma': 0.01, 'idf': False, 'stop_words': 'english', 'ngram_range': (1, 2)}\"],\n [{\n            'v': 117,\n            'f': \"117\",\n        },\n{\n            'v': 0.3625,\n            'f': \"0.3625\",\n        },\n\"{'C': 0.1, 'gamma': 0.1, 'idf': False, 'stop_words': 'english', 'ngram_range': (1, 2)}\"],\n [{\n            'v': 277,\n            'f': \"277\",\n        },\n{\n            'v': 0.3625,\n            'f': \"0.3625\",\n        },\n\"{'C': 10, 'gamma': 100, 'idf': False, 'stop_words': 'english', 'ngram_range': (1, 2)}\"],\n [{\n            'v': 45,\n            'f': \"45\",\n        },\n{\n            'v': 0.3625,\n            'f': \"0.3625\",\n        },\n\"{'C': 100, 'gamma': 0.001, 'idf': False, 'stop_words': 'english', 'ngram_range': (1, 2)}\"],\n [{\n            'v': 226,\n            'f': \"226\",\n        },\n{\n            'v': 0.24,\n            'f': \"0.24\",\n        },\n\"{'C': 10, 'gamma': 10, 'idf': True, 'stop_words': None, 'ngram_range': (1, 1)}\"],\n [{\n            'v': 234,\n            'f': \"234\",\n        },\n{\n            'v': 0.24,\n            'f': \"0.24\",\n        },\n\"{'C': 100, 'gamma': 10, 'idf': True, 'stop_words': None, 'ngram_range': (1, 1)}\"],\n [{\n            'v': 34,\n            'f': \"34\",\n        },\n{\n            'v': 0.24,\n            'f': \"0.24\",\n        },\n\"{'C': 10, 'gamma': 0.001, 'idf': True, 'stop_words': None, 'ngram_range': (1, 1)}\"],\n [{\n            'v': 282,\n            'f': \"282\",\n        },\n{\n            'v': 0.24,\n            'f': \"0.24\",\n        },\n\"{'C': 100, 'gamma': 100, 'idf': True, 'stop_words': None, 'ngram_range': (1, 1)}\"],\n [{\n            'v': 114,\n            'f': \"114\",\n        },\n{\n            'v': 0.24,\n            'f': \"0.24\",\n        },\n\"{'C': 0.1, 'gamma': 0.1, 'idf': True, 'stop_words': None, 'ngram_range': (1, 1)}\"],\n [{\n            'v': 50,\n            'f': \"50\",\n        },\n{\n            'v': 0.24,\n            'f': \"0.24\",\n        },\n\"{'C': 0.001, 'gamma': 0.01, 'idf': True, 'stop_words': None, 'ngram_range': (1, 1)}\"],\n [{\n            'v': 66,\n            'f': \"66\",\n        },\n{\n            'v': 0.24,\n            'f': \"0.24\",\n        },\n\"{'C': 0.1, 'gamma': 0.01, 'idf': True, 'stop_words': None, 'ngram_range': (1, 1)}\"],\n [{\n            'v': 178,\n            'f': \"178\",\n        },\n{\n            'v': 0.24,\n            'f': \"0.24\",\n        },\n\"{'C': 10, 'gamma': 1, 'idf': True, 'stop_words': None, 'ngram_range': (1, 1)}\"],\n [{\n            'v': 58,\n            'f': \"58\",\n        },\n{\n            'v': 0.24,\n            'f': \"0.24\",\n        },\n\"{'C': 0.01, 'gamma': 0.01, 'idf': True, 'stop_words': None, 'ngram_range': (1, 1)}\"],\n [{\n            'v': 98,\n            'f': \"98\",\n        },\n{\n            'v': 0.24,\n            'f': \"0.24\",\n        },\n\"{'C': 0.001, 'gamma': 0.1, 'idf': True, 'stop_words': None, 'ngram_range': (1, 1)}\"],\n [{\n            'v': 266,\n            'f': \"266\",\n        },\n{\n            'v': 0.24,\n            'f': \"0.24\",\n        },\n\"{'C': 1, 'gamma': 100, 'idf': True, 'stop_words': None, 'ngram_range': (1, 1)}\"],\n [{\n            'v': 18,\n            'f': \"18\",\n        },\n{\n            'v': 0.24,\n            'f': \"0.24\",\n        },\n\"{'C': 0.1, 'gamma': 0.001, 'idf': True, 'stop_words': None, 'ngram_range': (1, 1)}\"],\n [{\n            'v': 186,\n            'f': \"186\",\n        },\n{\n            'v': 0.24,\n            'f': \"0.24\",\n        },\n\"{'C': 100, 'gamma': 1, 'idf': True, 'stop_words': None, 'ngram_range': (1, 1)}\"],\n [{\n            'v': 106,\n            'f': \"106\",\n        },\n{\n            'v': 0.24,\n            'f': \"0.24\",\n        },\n\"{'C': 0.01, 'gamma': 0.1, 'idf': True, 'stop_words': None, 'ngram_range': (1, 1)}\"],\n [{\n            'v': 82,\n            'f': \"82\",\n        },\n{\n            'v': 0.24,\n            'f': \"0.24\",\n        },\n\"{'C': 10, 'gamma': 0.01, 'idf': True, 'stop_words': None, 'ngram_range': (1, 1)}\"],\n [{\n            'v': 202,\n            'f': \"202\",\n        },\n{\n            'v': 0.24,\n            'f': \"0.24\",\n        },\n\"{'C': 0.01, 'gamma': 10, 'idf': True, 'stop_words': None, 'ngram_range': (1, 1)}\"],\n [{\n            'v': 26,\n            'f': \"26\",\n        },\n{\n            'v': 0.24,\n            'f': \"0.24\",\n        },\n\"{'C': 1, 'gamma': 0.001, 'idf': True, 'stop_words': None, 'ngram_range': (1, 1)}\"],\n [{\n            'v': 90,\n            'f': \"90\",\n        },\n{\n            'v': 0.24,\n            'f': \"0.24\",\n        },\n\"{'C': 100, 'gamma': 0.01, 'idf': True, 'stop_words': None, 'ngram_range': (1, 1)}\"],\n [{\n            'v': 2,\n            'f': \"2\",\n        },\n{\n            'v': 0.24,\n            'f': \"0.24\",\n        },\n\"{'C': 0.001, 'gamma': 0.001, 'idf': True, 'stop_words': None, 'ngram_range': (1, 1)}\"],\n [{\n            'v': 218,\n            'f': \"218\",\n        },\n{\n            'v': 0.24,\n            'f': \"0.24\",\n        },\n\"{'C': 1, 'gamma': 10, 'idf': True, 'stop_words': None, 'ngram_range': (1, 1)}\"],\n [{\n            'v': 194,\n            'f': \"194\",\n        },\n{\n            'v': 0.24,\n            'f': \"0.24\",\n        },\n\"{'C': 0.001, 'gamma': 10, 'idf': True, 'stop_words': None, 'ngram_range': (1, 1)}\"],\n [{\n            'v': 170,\n            'f': \"170\",\n        },\n{\n            'v': 0.24,\n            'f': \"0.24\",\n        },\n\"{'C': 1, 'gamma': 1, 'idf': True, 'stop_words': None, 'ngram_range': (1, 1)}\"],\n [{\n            'v': 210,\n            'f': \"210\",\n        },\n{\n            'v': 0.24,\n            'f': \"0.24\",\n        },\n\"{'C': 0.1, 'gamma': 10, 'idf': True, 'stop_words': None, 'ngram_range': (1, 1)}\"],\n [{\n            'v': 74,\n            'f': \"74\",\n        },\n{\n            'v': 0.24,\n            'f': \"0.24\",\n        },\n\"{'C': 1, 'gamma': 0.01, 'idf': True, 'stop_words': None, 'ngram_range': (1, 1)}\"],\n [{\n            'v': 274,\n            'f': \"274\",\n        },\n{\n            'v': 0.24,\n            'f': \"0.24\",\n        },\n\"{'C': 10, 'gamma': 100, 'idf': True, 'stop_words': None, 'ngram_range': (1, 1)}\"],\n [{\n            'v': 122,\n            'f': \"122\",\n        },\n{\n            'v': 0.24,\n            'f': \"0.24\",\n        },\n\"{'C': 1, 'gamma': 0.1, 'idf': True, 'stop_words': None, 'ngram_range': (1, 1)}\"],\n [{\n            'v': 42,\n            'f': \"42\",\n        },\n{\n            'v': 0.24,\n            'f': \"0.24\",\n        },\n\"{'C': 100, 'gamma': 0.001, 'idf': True, 'stop_words': None, 'ngram_range': (1, 1)}\"],\n [{\n            'v': 154,\n            'f': \"154\",\n        },\n{\n            'v': 0.24,\n            'f': \"0.24\",\n        },\n\"{'C': 0.01, 'gamma': 1, 'idf': True, 'stop_words': None, 'ngram_range': (1, 1)}\"],\n [{\n            'v': 250,\n            'f': \"250\",\n        },\n{\n            'v': 0.24,\n            'f': \"0.24\",\n        },\n\"{'C': 0.01, 'gamma': 100, 'idf': True, 'stop_words': None, 'ngram_range': (1, 1)}\"],\n [{\n            'v': 146,\n            'f': \"146\",\n        },\n{\n            'v': 0.24,\n            'f': \"0.24\",\n        },\n\"{'C': 0.001, 'gamma': 1, 'idf': True, 'stop_words': None, 'ngram_range': (1, 1)}\"],\n [{\n            'v': 242,\n            'f': \"242\",\n        },\n{\n            'v': 0.24,\n            'f': \"0.24\",\n        },\n\"{'C': 0.001, 'gamma': 100, 'idf': True, 'stop_words': None, 'ngram_range': (1, 1)}\"],\n [{\n            'v': 138,\n            'f': \"138\",\n        },\n{\n            'v': 0.24,\n            'f': \"0.24\",\n        },\n\"{'C': 100, 'gamma': 0.1, 'idf': True, 'stop_words': None, 'ngram_range': (1, 1)}\"],\n [{\n            'v': 10,\n            'f': \"10\",\n        },\n{\n            'v': 0.24,\n            'f': \"0.24\",\n        },\n\"{'C': 0.01, 'gamma': 0.001, 'idf': True, 'stop_words': None, 'ngram_range': (1, 1)}\"],\n [{\n            'v': 130,\n            'f': \"130\",\n        },\n{\n            'v': 0.24,\n            'f': \"0.24\",\n        },\n\"{'C': 10, 'gamma': 0.1, 'idf': True, 'stop_words': None, 'ngram_range': (1, 1)}\"],\n [{\n            'v': 162,\n            'f': \"162\",\n        },\n{\n            'v': 0.24,\n            'f': \"0.24\",\n        },\n\"{'C': 0.1, 'gamma': 1, 'idf': True, 'stop_words': None, 'ngram_range': (1, 1)}\"],\n [{\n            'v': 258,\n            'f': \"258\",\n        },\n{\n            'v': 0.24,\n            'f': \"0.24\",\n        },\n\"{'C': 0.1, 'gamma': 100, 'idf': True, 'stop_words': None, 'ngram_range': (1, 1)}\"],\n [{\n            'v': 214,\n            'f': \"214\",\n        },\n{\n            'v': 0.205,\n            'f': \"0.205\",\n        },\n\"{'C': 0.1, 'gamma': 10, 'idf': False, 'stop_words': None, 'ngram_range': (1, 1)}\"],\n [{\n            'v': 75,\n            'f': \"75\",\n        },\n{\n            'v': 0.205,\n            'f': \"0.205\",\n        },\n\"{'C': 1, 'gamma': 0.01, 'idf': True, 'stop_words': None, 'ngram_range': (1, 2)}\"],\n [{\n            'v': 283,\n            'f': \"283\",\n        },\n{\n            'v': 0.205,\n            'f': \"0.205\",\n        },\n\"{'C': 100, 'gamma': 100, 'idf': True, 'stop_words': None, 'ngram_range': (1, 2)}\"],\n [{\n            'v': 94,\n            'f': \"94\",\n        },\n{\n            'v': 0.205,\n            'f': \"0.205\",\n        },\n\"{'C': 100, 'gamma': 0.01, 'idf': False, 'stop_words': None, 'ngram_range': (1, 1)}\"],\n [{\n            'v': 251,\n            'f': \"251\",\n        },\n{\n            'v': 0.205,\n            'f': \"0.205\",\n        },\n\"{'C': 0.01, 'gamma': 100, 'idf': True, 'stop_words': None, 'ngram_range': (1, 2)}\"],\n [{\n            'v': 254,\n            'f': \"254\",\n        },\n{\n            'v': 0.205,\n            'f': \"0.205\",\n        },\n\"{'C': 0.01, 'gamma': 100, 'idf': False, 'stop_words': None, 'ngram_range': (1, 1)}\"],\n [{\n            'v': 219,\n            'f': \"219\",\n        },\n{\n            'v': 0.205,\n            'f': \"0.205\",\n        },\n\"{'C': 1, 'gamma': 10, 'idf': True, 'stop_words': None, 'ngram_range': (1, 2)}\"],\n [{\n            'v': 211,\n            'f': \"211\",\n        },\n{\n            'v': 0.205,\n            'f': \"0.205\",\n        },\n\"{'C': 0.1, 'gamma': 10, 'idf': True, 'stop_words': None, 'ngram_range': (1, 2)}\"],\n [{\n            'v': 91,\n            'f': \"91\",\n        },\n{\n            'v': 0.205,\n            'f': \"0.205\",\n        },\n\"{'C': 100, 'gamma': 0.01, 'idf': True, 'stop_words': None, 'ngram_range': (1, 2)}\"],\n [{\n            'v': 11,\n            'f': \"11\",\n        },\n{\n            'v': 0.205,\n            'f': \"0.205\",\n        },\n\"{'C': 0.01, 'gamma': 0.001, 'idf': True, 'stop_words': None, 'ngram_range': (1, 2)}\"],\n [{\n            'v': 83,\n            'f': \"83\",\n        },\n{\n            'v': 0.205,\n            'f': \"0.205\",\n        },\n\"{'C': 10, 'gamma': 0.01, 'idf': True, 'stop_words': None, 'ngram_range': (1, 2)}\"],\n [{\n            'v': 222,\n            'f': \"222\",\n        },\n{\n            'v': 0.205,\n            'f': \"0.205\",\n        },\n\"{'C': 1, 'gamma': 10, 'idf': False, 'stop_words': None, 'ngram_range': (1, 1)}\"],\n [{\n            'v': 59,\n            'f': \"59\",\n        },\n{\n            'v': 0.205,\n            'f': \"0.205\",\n        },\n\"{'C': 0.01, 'gamma': 0.01, 'idf': True, 'stop_words': None, 'ngram_range': (1, 2)}\"],\n [{\n            'v': 238,\n            'f': \"238\",\n        },\n{\n            'v': 0.205,\n            'f': \"0.205\",\n        },\n\"{'C': 100, 'gamma': 10, 'idf': False, 'stop_words': None, 'ngram_range': (1, 1)}\"],\n [{\n            'v': 22,\n            'f': \"22\",\n        },\n{\n            'v': 0.205,\n            'f': \"0.205\",\n        },\n\"{'C': 0.1, 'gamma': 0.001, 'idf': False, 'stop_words': None, 'ngram_range': (1, 1)}\"],\n [{\n            'v': 259,\n            'f': \"259\",\n        },\n{\n            'v': 0.205,\n            'f': \"0.205\",\n        },\n\"{'C': 0.1, 'gamma': 100, 'idf': True, 'stop_words': None, 'ngram_range': (1, 2)}\"],\n [{\n            'v': 14,\n            'f': \"14\",\n        },\n{\n            'v': 0.205,\n            'f': \"0.205\",\n        },\n\"{'C': 0.01, 'gamma': 0.001, 'idf': False, 'stop_words': None, 'ngram_range': (1, 1)}\"],\n [{\n            'v': 67,\n            'f': \"67\",\n        },\n{\n            'v': 0.205,\n            'f': \"0.205\",\n        },\n\"{'C': 0.1, 'gamma': 0.01, 'idf': True, 'stop_words': None, 'ngram_range': (1, 2)}\"],\n [{\n            'v': 86,\n            'f': \"86\",\n        },\n{\n            'v': 0.205,\n            'f': \"0.205\",\n        },\n\"{'C': 10, 'gamma': 0.01, 'idf': False, 'stop_words': None, 'ngram_range': (1, 1)}\"],\n [{\n            'v': 230,\n            'f': \"230\",\n        },\n{\n            'v': 0.205,\n            'f': \"0.205\",\n        },\n\"{'C': 10, 'gamma': 10, 'idf': False, 'stop_words': None, 'ngram_range': (1, 1)}\"],\n [{\n            'v': 246,\n            'f': \"246\",\n        },\n{\n            'v': 0.205,\n            'f': \"0.205\",\n        },\n\"{'C': 0.001, 'gamma': 100, 'idf': False, 'stop_words': None, 'ngram_range': (1, 1)}\"],\n [{\n            'v': 243,\n            'f': \"243\",\n        },\n{\n            'v': 0.205,\n            'f': \"0.205\",\n        },\n\"{'C': 0.001, 'gamma': 100, 'idf': True, 'stop_words': None, 'ngram_range': (1, 2)}\"],\n [{\n            'v': 286,\n            'f': \"286\",\n        },\n{\n            'v': 0.205,\n            'f': \"0.205\",\n        },\n\"{'C': 100, 'gamma': 100, 'idf': False, 'stop_words': None, 'ngram_range': (1, 1)}\"],\n [{\n            'v': 227,\n            'f': \"227\",\n        },\n{\n            'v': 0.205,\n            'f': \"0.205\",\n        },\n\"{'C': 10, 'gamma': 10, 'idf': True, 'stop_words': None, 'ngram_range': (1, 2)}\"],\n [{\n            'v': 78,\n            'f': \"78\",\n        },\n{\n            'v': 0.205,\n            'f': \"0.205\",\n        },\n\"{'C': 1, 'gamma': 0.01, 'idf': False, 'stop_words': None, 'ngram_range': (1, 1)}\"],\n [{\n            'v': 19,\n            'f': \"19\",\n        },\n{\n            'v': 0.205,\n            'f': \"0.205\",\n        },\n\"{'C': 0.1, 'gamma': 0.001, 'idf': True, 'stop_words': None, 'ngram_range': (1, 2)}\"],\n [{\n            'v': 235,\n            'f': \"235\",\n        },\n{\n            'v': 0.205,\n            'f': \"0.205\",\n        },\n\"{'C': 100, 'gamma': 10, 'idf': True, 'stop_words': None, 'ngram_range': (1, 2)}\"],\n [{\n            'v': 262,\n            'f': \"262\",\n        },\n{\n            'v': 0.205,\n            'f': \"0.205\",\n        },\n\"{'C': 0.1, 'gamma': 100, 'idf': False, 'stop_words': None, 'ngram_range': (1, 1)}\"],\n [{\n            'v': 131,\n            'f': \"131\",\n        },\n{\n            'v': 0.205,\n            'f': \"0.205\",\n        },\n\"{'C': 10, 'gamma': 0.1, 'idf': True, 'stop_words': None, 'ngram_range': (1, 2)}\"],\n [{\n            'v': 174,\n            'f': \"174\",\n        },\n{\n            'v': 0.205,\n            'f': \"0.205\",\n        },\n\"{'C': 1, 'gamma': 1, 'idf': False, 'stop_words': None, 'ngram_range': (1, 1)}\"],\n [{\n            'v': 6,\n            'f': \"6\",\n        },\n{\n            'v': 0.205,\n            'f': \"0.205\",\n        },\n\"{'C': 0.001, 'gamma': 0.001, 'idf': False, 'stop_words': None, 'ngram_range': (1, 1)}\"],\n [{\n            'v': 35,\n            'f': \"35\",\n        },\n{\n            'v': 0.205,\n            'f': \"0.205\",\n        },\n\"{'C': 10, 'gamma': 0.001, 'idf': True, 'stop_words': None, 'ngram_range': (1, 2)}\"],\n [{\n            'v': 166,\n            'f': \"166\",\n        },\n{\n            'v': 0.205,\n            'f': \"0.205\",\n        },\n\"{'C': 0.1, 'gamma': 1, 'idf': False, 'stop_words': None, 'ngram_range': (1, 1)}\"],\n [{\n            'v': 115,\n            'f': \"115\",\n        },\n{\n            'v': 0.205,\n            'f': \"0.205\",\n        },\n\"{'C': 0.1, 'gamma': 0.1, 'idf': True, 'stop_words': None, 'ngram_range': (1, 2)}\"],\n [{\n            'v': 163,\n            'f': \"163\",\n        },\n{\n            'v': 0.205,\n            'f': \"0.205\",\n        },\n\"{'C': 0.1, 'gamma': 1, 'idf': True, 'stop_words': None, 'ngram_range': (1, 2)}\"],\n [{\n            'v': 118,\n            'f': \"118\",\n        },\n{\n            'v': 0.205,\n            'f': \"0.205\",\n        },\n\"{'C': 0.1, 'gamma': 0.1, 'idf': False, 'stop_words': None, 'ngram_range': (1, 1)}\"],\n [{\n            'v': 158,\n            'f': \"158\",\n        },\n{\n            'v': 0.205,\n            'f': \"0.205\",\n        },\n\"{'C': 0.01, 'gamma': 1, 'idf': False, 'stop_words': None, 'ngram_range': (1, 1)}\"],\n [{\n            'v': 70,\n            'f': \"70\",\n        },\n{\n            'v': 0.205,\n            'f': \"0.205\",\n        },\n\"{'C': 0.1, 'gamma': 0.01, 'idf': False, 'stop_words': None, 'ngram_range': (1, 1)}\"],\n [{\n            'v': 278,\n            'f': \"278\",\n        },\n{\n            'v': 0.205,\n            'f': \"0.205\",\n        },\n\"{'C': 10, 'gamma': 100, 'idf': False, 'stop_words': None, 'ngram_range': (1, 1)}\"],\n [{\n            'v': 155,\n            'f': \"155\",\n        },\n{\n            'v': 0.205,\n            'f': \"0.205\",\n        },\n\"{'C': 0.01, 'gamma': 1, 'idf': True, 'stop_words': None, 'ngram_range': (1, 2)}\"],\n [{\n            'v': 38,\n            'f': \"38\",\n        },\n{\n            'v': 0.205,\n            'f': \"0.205\",\n        },\n\"{'C': 10, 'gamma': 0.001, 'idf': False, 'stop_words': None, 'ngram_range': (1, 1)}\"],\n [{\n            'v': 150,\n            'f': \"150\",\n        },\n{\n            'v': 0.205,\n            'f': \"0.205\",\n        },\n\"{'C': 0.001, 'gamma': 1, 'idf': False, 'stop_words': None, 'ngram_range': (1, 1)}\"],\n [{\n            'v': 123,\n            'f': \"123\",\n        },\n{\n            'v': 0.205,\n            'f': \"0.205\",\n        },\n\"{'C': 1, 'gamma': 0.1, 'idf': True, 'stop_words': None, 'ngram_range': (1, 2)}\"],\n [{\n            'v': 147,\n            'f': \"147\",\n        },\n{\n            'v': 0.205,\n            'f': \"0.205\",\n        },\n\"{'C': 0.001, 'gamma': 1, 'idf': True, 'stop_words': None, 'ngram_range': (1, 2)}\"],\n [{\n            'v': 126,\n            'f': \"126\",\n        },\n{\n            'v': 0.205,\n            'f': \"0.205\",\n        },\n\"{'C': 1, 'gamma': 0.1, 'idf': False, 'stop_words': None, 'ngram_range': (1, 1)}\"],\n [{\n            'v': 275,\n            'f': \"275\",\n        },\n{\n            'v': 0.205,\n            'f': \"0.205\",\n        },\n\"{'C': 10, 'gamma': 100, 'idf': True, 'stop_words': None, 'ngram_range': (1, 2)}\"],\n [{\n            'v': 142,\n            'f': \"142\",\n        },\n{\n            'v': 0.205,\n            'f': \"0.205\",\n        },\n\"{'C': 100, 'gamma': 0.1, 'idf': False, 'stop_words': None, 'ngram_range': (1, 1)}\"],\n [{\n            'v': 46,\n            'f': \"46\",\n        },\n{\n            'v': 0.205,\n            'f': \"0.205\",\n        },\n\"{'C': 100, 'gamma': 0.001, 'idf': False, 'stop_words': None, 'ngram_range': (1, 1)}\"],\n [{\n            'v': 139,\n            'f': \"139\",\n        },\n{\n            'v': 0.205,\n            'f': \"0.205\",\n        },\n\"{'C': 100, 'gamma': 0.1, 'idf': True, 'stop_words': None, 'ngram_range': (1, 2)}\"],\n [{\n            'v': 43,\n            'f': \"43\",\n        },\n{\n            'v': 0.205,\n            'f': \"0.205\",\n        },\n\"{'C': 100, 'gamma': 0.001, 'idf': True, 'stop_words': None, 'ngram_range': (1, 2)}\"],\n [{\n            'v': 171,\n            'f': \"171\",\n        },\n{\n            'v': 0.205,\n            'f': \"0.205\",\n        },\n\"{'C': 1, 'gamma': 1, 'idf': True, 'stop_words': None, 'ngram_range': (1, 2)}\"],\n [{\n            'v': 62,\n            'f': \"62\",\n        },\n{\n            'v': 0.205,\n            'f': \"0.205\",\n        },\n\"{'C': 0.01, 'gamma': 0.01, 'idf': False, 'stop_words': None, 'ngram_range': (1, 1)}\"],\n [{\n            'v': 270,\n            'f': \"270\",\n        },\n{\n            'v': 0.205,\n            'f': \"0.205\",\n        },\n\"{'C': 1, 'gamma': 100, 'idf': False, 'stop_words': None, 'ngram_range': (1, 1)}\"],\n [{\n            'v': 51,\n            'f': \"51\",\n        },\n{\n            'v': 0.205,\n            'f': \"0.205\",\n        },\n\"{'C': 0.001, 'gamma': 0.01, 'idf': True, 'stop_words': None, 'ngram_range': (1, 2)}\"],\n [{\n            'v': 206,\n            'f': \"206\",\n        },\n{\n            'v': 0.205,\n            'f': \"0.205\",\n        },\n\"{'C': 0.01, 'gamma': 10, 'idf': False, 'stop_words': None, 'ngram_range': (1, 1)}\"],\n [{\n            'v': 54,\n            'f': \"54\",\n        },\n{\n            'v': 0.205,\n            'f': \"0.205\",\n        },\n\"{'C': 0.001, 'gamma': 0.01, 'idf': False, 'stop_words': None, 'ngram_range': (1, 1)}\"],\n [{\n            'v': 203,\n            'f': \"203\",\n        },\n{\n            'v': 0.205,\n            'f': \"0.205\",\n        },\n\"{'C': 0.01, 'gamma': 10, 'idf': True, 'stop_words': None, 'ngram_range': (1, 2)}\"],\n [{\n            'v': 99,\n            'f': \"99\",\n        },\n{\n            'v': 0.205,\n            'f': \"0.205\",\n        },\n\"{'C': 0.001, 'gamma': 0.1, 'idf': True, 'stop_words': None, 'ngram_range': (1, 2)}\"],\n [{\n            'v': 198,\n            'f': \"198\",\n        },\n{\n            'v': 0.205,\n            'f': \"0.205\",\n        },\n\"{'C': 0.001, 'gamma': 10, 'idf': False, 'stop_words': None, 'ngram_range': (1, 1)}\"],\n [{\n            'v': 102,\n            'f': \"102\",\n        },\n{\n            'v': 0.205,\n            'f': \"0.205\",\n        },\n\"{'C': 0.001, 'gamma': 0.1, 'idf': False, 'stop_words': None, 'ngram_range': (1, 1)}\"],\n [{\n            'v': 195,\n            'f': \"195\",\n        },\n{\n            'v': 0.205,\n            'f': \"0.205\",\n        },\n\"{'C': 0.001, 'gamma': 10, 'idf': True, 'stop_words': None, 'ngram_range': (1, 2)}\"],\n [{\n            'v': 134,\n            'f': \"134\",\n        },\n{\n            'v': 0.205,\n            'f': \"0.205\",\n        },\n\"{'C': 10, 'gamma': 0.1, 'idf': False, 'stop_words': None, 'ngram_range': (1, 1)}\"],\n [{\n            'v': 27,\n            'f': \"27\",\n        },\n{\n            'v': 0.205,\n            'f': \"0.205\",\n        },\n\"{'C': 1, 'gamma': 0.001, 'idf': True, 'stop_words': None, 'ngram_range': (1, 2)}\"],\n [{\n            'v': 267,\n            'f': \"267\",\n        },\n{\n            'v': 0.205,\n            'f': \"0.205\",\n        },\n\"{'C': 1, 'gamma': 100, 'idf': True, 'stop_words': None, 'ngram_range': (1, 2)}\"],\n [{\n            'v': 190,\n            'f': \"190\",\n        },\n{\n            'v': 0.205,\n            'f': \"0.205\",\n        },\n\"{'C': 100, 'gamma': 1, 'idf': False, 'stop_words': None, 'ngram_range': (1, 1)}\"],\n [{\n            'v': 187,\n            'f': \"187\",\n        },\n{\n            'v': 0.205,\n            'f': \"0.205\",\n        },\n\"{'C': 100, 'gamma': 1, 'idf': True, 'stop_words': None, 'ngram_range': (1, 2)}\"],\n [{\n            'v': 107,\n            'f': \"107\",\n        },\n{\n            'v': 0.205,\n            'f': \"0.205\",\n        },\n\"{'C': 0.01, 'gamma': 0.1, 'idf': True, 'stop_words': None, 'ngram_range': (1, 2)}\"],\n [{\n            'v': 30,\n            'f': \"30\",\n        },\n{\n            'v': 0.205,\n            'f': \"0.205\",\n        },\n\"{'C': 1, 'gamma': 0.001, 'idf': False, 'stop_words': None, 'ngram_range': (1, 1)}\"],\n [{\n            'v': 182,\n            'f': \"182\",\n        },\n{\n            'v': 0.205,\n            'f': \"0.205\",\n        },\n\"{'C': 10, 'gamma': 1, 'idf': False, 'stop_words': None, 'ngram_range': (1, 1)}\"],\n [{\n            'v': 110,\n            'f': \"110\",\n        },\n{\n            'v': 0.205,\n            'f': \"0.205\",\n        },\n\"{'C': 0.01, 'gamma': 0.1, 'idf': False, 'stop_words': None, 'ngram_range': (1, 1)}\"],\n [{\n            'v': 3,\n            'f': \"3\",\n        },\n{\n            'v': 0.205,\n            'f': \"0.205\",\n        },\n\"{'C': 0.001, 'gamma': 0.001, 'idf': True, 'stop_words': None, 'ngram_range': (1, 2)}\"],\n [{\n            'v': 179,\n            'f': \"179\",\n        },\n{\n            'v': 0.205,\n            'f': \"0.205\",\n        },\n\"{'C': 10, 'gamma': 1, 'idf': True, 'stop_words': None, 'ngram_range': (1, 2)}\"],\n [{\n            'v': 279,\n            'f': \"279\",\n        },\n{\n            'v': 0.20125,\n            'f': \"0.20125\",\n        },\n\"{'C': 10, 'gamma': 100, 'idf': False, 'stop_words': None, 'ngram_range': (1, 2)}\"],\n [{\n            'v': 263,\n            'f': \"263\",\n        },\n{\n            'v': 0.20125,\n            'f': \"0.20125\",\n        },\n\"{'C': 0.1, 'gamma': 100, 'idf': False, 'stop_words': None, 'ngram_range': (1, 2)}\"],\n [{\n            'v': 271,\n            'f': \"271\",\n        },\n{\n            'v': 0.20125,\n            'f': \"0.20125\",\n        },\n\"{'C': 1, 'gamma': 100, 'idf': False, 'stop_words': None, 'ngram_range': (1, 2)}\"],\n [{\n            'v': 7,\n            'f': \"7\",\n        },\n{\n            'v': 0.20125,\n            'f': \"0.20125\",\n        },\n\"{'C': 0.001, 'gamma': 0.001, 'idf': False, 'stop_words': None, 'ngram_range': (1, 2)}\"],\n [{\n            'v': 63,\n            'f': \"63\",\n        },\n{\n            'v': 0.20125,\n            'f': \"0.20125\",\n        },\n\"{'C': 0.01, 'gamma': 0.01, 'idf': False, 'stop_words': None, 'ngram_range': (1, 2)}\"],\n [{\n            'v': 255,\n            'f': \"255\",\n        },\n{\n            'v': 0.20125,\n            'f': \"0.20125\",\n        },\n\"{'C': 0.01, 'gamma': 100, 'idf': False, 'stop_words': None, 'ngram_range': (1, 2)}\"],\n [{\n            'v': 39,\n            'f': \"39\",\n        },\n{\n            'v': 0.20125,\n            'f': \"0.20125\",\n        },\n\"{'C': 10, 'gamma': 0.001, 'idf': False, 'stop_words': None, 'ngram_range': (1, 2)}\"],\n [{\n            'v': 71,\n            'f': \"71\",\n        },\n{\n            'v': 0.20125,\n            'f': \"0.20125\",\n        },\n\"{'C': 0.1, 'gamma': 0.01, 'idf': False, 'stop_words': None, 'ngram_range': (1, 2)}\"],\n [{\n            'v': 79,\n            'f': \"79\",\n        },\n{\n            'v': 0.20125,\n            'f': \"0.20125\",\n        },\n\"{'C': 1, 'gamma': 0.01, 'idf': False, 'stop_words': None, 'ngram_range': (1, 2)}\"],\n [{\n            'v': 87,\n            'f': \"87\",\n        },\n{\n            'v': 0.20125,\n            'f': \"0.20125\",\n        },\n\"{'C': 10, 'gamma': 0.01, 'idf': False, 'stop_words': None, 'ngram_range': (1, 2)}\"],\n [{\n            'v': 95,\n            'f': \"95\",\n        },\n{\n            'v': 0.20125,\n            'f': \"0.20125\",\n        },\n\"{'C': 100, 'gamma': 0.01, 'idf': False, 'stop_words': None, 'ngram_range': (1, 2)}\"],\n [{\n            'v': 55,\n            'f': \"55\",\n        },\n{\n            'v': 0.20125,\n            'f': \"0.20125\",\n        },\n\"{'C': 0.001, 'gamma': 0.01, 'idf': False, 'stop_words': None, 'ngram_range': (1, 2)}\"],\n [{\n            'v': 103,\n            'f': \"103\",\n        },\n{\n            'v': 0.20125,\n            'f': \"0.20125\",\n        },\n\"{'C': 0.001, 'gamma': 0.1, 'idf': False, 'stop_words': None, 'ngram_range': (1, 2)}\"],\n [{\n            'v': 111,\n            'f': \"111\",\n        },\n{\n            'v': 0.20125,\n            'f': \"0.20125\",\n        },\n\"{'C': 0.01, 'gamma': 0.1, 'idf': False, 'stop_words': None, 'ngram_range': (1, 2)}\"],\n [{\n            'v': 119,\n            'f': \"119\",\n        },\n{\n            'v': 0.20125,\n            'f': \"0.20125\",\n        },\n\"{'C': 0.1, 'gamma': 0.1, 'idf': False, 'stop_words': None, 'ngram_range': (1, 2)}\"],\n [{\n            'v': 47,\n            'f': \"47\",\n        },\n{\n            'v': 0.20125,\n            'f': \"0.20125\",\n        },\n\"{'C': 100, 'gamma': 0.001, 'idf': False, 'stop_words': None, 'ngram_range': (1, 2)}\"],\n [{\n            'v': 127,\n            'f': \"127\",\n        },\n{\n            'v': 0.20125,\n            'f': \"0.20125\",\n        },\n\"{'C': 1, 'gamma': 0.1, 'idf': False, 'stop_words': None, 'ngram_range': (1, 2)}\"],\n [{\n            'v': 135,\n            'f': \"135\",\n        },\n{\n            'v': 0.20125,\n            'f': \"0.20125\",\n        },\n\"{'C': 10, 'gamma': 0.1, 'idf': False, 'stop_words': None, 'ngram_range': (1, 2)}\"],\n [{\n            'v': 143,\n            'f': \"143\",\n        },\n{\n            'v': 0.20125,\n            'f': \"0.20125\",\n        },\n\"{'C': 100, 'gamma': 0.1, 'idf': False, 'stop_words': None, 'ngram_range': (1, 2)}\"],\n [{\n            'v': 151,\n            'f': \"151\",\n        },\n{\n            'v': 0.20125,\n            'f': \"0.20125\",\n        },\n\"{'C': 0.001, 'gamma': 1, 'idf': False, 'stop_words': None, 'ngram_range': (1, 2)}\"],\n [{\n            'v': 159,\n            'f': \"159\",\n        },\n{\n            'v': 0.20125,\n            'f': \"0.20125\",\n        },\n\"{'C': 0.01, 'gamma': 1, 'idf': False, 'stop_words': None, 'ngram_range': (1, 2)}\"],\n [{\n            'v': 247,\n            'f': \"247\",\n        },\n{\n            'v': 0.20125,\n            'f': \"0.20125\",\n        },\n\"{'C': 0.001, 'gamma': 100, 'idf': False, 'stop_words': None, 'ngram_range': (1, 2)}\"],\n [{\n            'v': 167,\n            'f': \"167\",\n        },\n{\n            'v': 0.20125,\n            'f': \"0.20125\",\n        },\n\"{'C': 0.1, 'gamma': 1, 'idf': False, 'stop_words': None, 'ngram_range': (1, 2)}\"],\n [{\n            'v': 175,\n            'f': \"175\",\n        },\n{\n            'v': 0.20125,\n            'f': \"0.20125\",\n        },\n\"{'C': 1, 'gamma': 1, 'idf': False, 'stop_words': None, 'ngram_range': (1, 2)}\"],\n [{\n            'v': 31,\n            'f': \"31\",\n        },\n{\n            'v': 0.20125,\n            'f': \"0.20125\",\n        },\n\"{'C': 1, 'gamma': 0.001, 'idf': False, 'stop_words': None, 'ngram_range': (1, 2)}\"],\n [{\n            'v': 183,\n            'f': \"183\",\n        },\n{\n            'v': 0.20125,\n            'f': \"0.20125\",\n        },\n\"{'C': 10, 'gamma': 1, 'idf': False, 'stop_words': None, 'ngram_range': (1, 2)}\"],\n [{\n            'v': 191,\n            'f': \"191\",\n        },\n{\n            'v': 0.20125,\n            'f': \"0.20125\",\n        },\n\"{'C': 100, 'gamma': 1, 'idf': False, 'stop_words': None, 'ngram_range': (1, 2)}\"],\n [{\n            'v': 199,\n            'f': \"199\",\n        },\n{\n            'v': 0.20125,\n            'f': \"0.20125\",\n        },\n\"{'C': 0.001, 'gamma': 10, 'idf': False, 'stop_words': None, 'ngram_range': (1, 2)}\"],\n [{\n            'v': 207,\n            'f': \"207\",\n        },\n{\n            'v': 0.20125,\n            'f': \"0.20125\",\n        },\n\"{'C': 0.01, 'gamma': 10, 'idf': False, 'stop_words': None, 'ngram_range': (1, 2)}\"],\n [{\n            'v': 23,\n            'f': \"23\",\n        },\n{\n            'v': 0.20125,\n            'f': \"0.20125\",\n        },\n\"{'C': 0.1, 'gamma': 0.001, 'idf': False, 'stop_words': None, 'ngram_range': (1, 2)}\"],\n [{\n            'v': 215,\n            'f': \"215\",\n        },\n{\n            'v': 0.20125,\n            'f': \"0.20125\",\n        },\n\"{'C': 0.1, 'gamma': 10, 'idf': False, 'stop_words': None, 'ngram_range': (1, 2)}\"],\n [{\n            'v': 223,\n            'f': \"223\",\n        },\n{\n            'v': 0.20125,\n            'f': \"0.20125\",\n        },\n\"{'C': 1, 'gamma': 10, 'idf': False, 'stop_words': None, 'ngram_range': (1, 2)}\"],\n [{\n            'v': 231,\n            'f': \"231\",\n        },\n{\n            'v': 0.20125,\n            'f': \"0.20125\",\n        },\n\"{'C': 10, 'gamma': 10, 'idf': False, 'stop_words': None, 'ngram_range': (1, 2)}\"],\n [{\n            'v': 15,\n            'f': \"15\",\n        },\n{\n            'v': 0.20125,\n            'f': \"0.20125\",\n        },\n\"{'C': 0.01, 'gamma': 0.001, 'idf': False, 'stop_words': None, 'ngram_range': (1, 2)}\"],\n [{\n            'v': 239,\n            'f': \"239\",\n        },\n{\n            'v': 0.20125,\n            'f': \"0.20125\",\n        },\n\"{'C': 100, 'gamma': 10, 'idf': False, 'stop_words': None, 'ngram_range': (1, 2)}\"],\n [{\n            'v': 287,\n            'f': \"287\",\n        },\n{\n            'v': 0.20125,\n            'f': \"0.20125\",\n        },\n\"{'C': 100, 'gamma': 100, 'idf': False, 'stop_words': None, 'ngram_range': (1, 2)}\"]],\n        columns: [[\"number\", \"index\"], [\"number\", \"Top1 Acc.\"], [\"string\", \"SVM Classifier Parameters\"]],\n        columnOptions: [{\"width\": \"1px\", \"className\": \"index_column\"}],\n        rowsPerPage: 25,\n        helpUrl: \"https://colab.research.google.com/notebooks/data_table.ipynb\",\n        suppressOutputScrolling: true,\n        minimumWidth: undefined,\n      });\n    ",
            "text/plain": [
              "<google.colab.data_table.DataTable object>"
            ],
            "text/html": [
              "<div>\n",
              "<style scoped>\n",
              "    .dataframe tbody tr th:only-of-type {\n",
              "        vertical-align: middle;\n",
              "    }\n",
              "\n",
              "    .dataframe tbody tr th {\n",
              "        vertical-align: top;\n",
              "    }\n",
              "\n",
              "    .dataframe thead th {\n",
              "        text-align: right;\n",
              "    }\n",
              "</style>\n",
              "<table border=\"1\" class=\"dataframe\">\n",
              "  <thead>\n",
              "    <tr style=\"text-align: right;\">\n",
              "      <th></th>\n",
              "      <th>Top1 Acc.</th>\n",
              "      <th>SVM Classifier Parameters</th>\n",
              "    </tr>\n",
              "  </thead>\n",
              "  <tbody>\n",
              "    <tr>\n",
              "      <th>65</th>\n",
              "      <td>0.41500</td>\n",
              "      <td>{'C': 0.1, 'gamma': 0.01, 'idf': True, 'stop_w...</td>\n",
              "    </tr>\n",
              "    <tr>\n",
              "      <th>217</th>\n",
              "      <td>0.41500</td>\n",
              "      <td>{'C': 1, 'gamma': 10, 'idf': True, 'stop_words...</td>\n",
              "    </tr>\n",
              "    <tr>\n",
              "      <th>129</th>\n",
              "      <td>0.41500</td>\n",
              "      <td>{'C': 10, 'gamma': 0.1, 'idf': True, 'stop_wor...</td>\n",
              "    </tr>\n",
              "    <tr>\n",
              "      <th>201</th>\n",
              "      <td>0.41500</td>\n",
              "      <td>{'C': 0.01, 'gamma': 10, 'idf': True, 'stop_wo...</td>\n",
              "    </tr>\n",
              "    <tr>\n",
              "      <th>25</th>\n",
              "      <td>0.41500</td>\n",
              "      <td>{'C': 1, 'gamma': 0.001, 'idf': True, 'stop_wo...</td>\n",
              "    </tr>\n",
              "    <tr>\n",
              "      <th>...</th>\n",
              "      <td>...</td>\n",
              "      <td>...</td>\n",
              "    </tr>\n",
              "    <tr>\n",
              "      <th>223</th>\n",
              "      <td>0.20125</td>\n",
              "      <td>{'C': 1, 'gamma': 10, 'idf': False, 'stop_word...</td>\n",
              "    </tr>\n",
              "    <tr>\n",
              "      <th>231</th>\n",
              "      <td>0.20125</td>\n",
              "      <td>{'C': 10, 'gamma': 10, 'idf': False, 'stop_wor...</td>\n",
              "    </tr>\n",
              "    <tr>\n",
              "      <th>15</th>\n",
              "      <td>0.20125</td>\n",
              "      <td>{'C': 0.01, 'gamma': 0.001, 'idf': False, 'sto...</td>\n",
              "    </tr>\n",
              "    <tr>\n",
              "      <th>239</th>\n",
              "      <td>0.20125</td>\n",
              "      <td>{'C': 100, 'gamma': 10, 'idf': False, 'stop_wo...</td>\n",
              "    </tr>\n",
              "    <tr>\n",
              "      <th>287</th>\n",
              "      <td>0.20125</td>\n",
              "      <td>{'C': 100, 'gamma': 100, 'idf': False, 'stop_w...</td>\n",
              "    </tr>\n",
              "  </tbody>\n",
              "</table>\n",
              "<p>288 rows × 2 columns</p>\n",
              "</div>"
            ]
          },
          "metadata": {
            "tags": []
          },
          "execution_count": 101
        }
      ]
    },
    {
      "cell_type": "markdown",
      "metadata": {
        "id": "ro-i3COm1far",
        "colab_type": "text"
      },
      "source": [
        "### Multinomial Naive Bayes classifier"
      ]
    },
    {
      "cell_type": "code",
      "metadata": {
        "id": "rT3Xa2kHaNFl",
        "colab_type": "code",
        "outputId": "4647bd20-f408-40d1-be88-1565750d6a7c",
        "colab": {
          "base_uri": "https://localhost:8080/",
          "height": 51
        }
      },
      "source": [
        "best_mnb_arxiv_score = 0\n",
        "best_mnb_arxiv_parameters = list()\n",
        "\n",
        "mnb_arxiv_models_params = list()\n",
        "\n",
        "for alpha in [0.001, 0.01, 0.1, 1]:\n",
        "    for idf in [True, False]:\n",
        "        for stop_words in ['english', None]:\n",
        "            for ngram_range in [(1,1), (1,2)]:\n",
        "                # for each combination of parameters, train an SVC\n",
        "                mnb = Pipeline([('vect', CountVectorizer(stop_words=stop_words,ngram_range=ngram_range)),\n",
        "                                ('tfidf', TfidfTransformer(use_idf=idf)),\n",
        "                                ('clf', MultinomialNB(alpha=alpha)),\n",
        "                                ])    \n",
        "                mnb.fit(x_train, y_train)\n",
        "                # evaluate the SVC on the test set\n",
        "                score = mnb.score(x_test, y_test)\n",
        "\n",
        "                params = {'alpha': alpha, 'idf': idf, 'stop_words':stop_words, 'ngram_range':ngram_range}\n",
        "                mnb_arxiv_models_params.append((score, params))\n",
        "                # if we got a better score, store the score and parameters\n",
        "                if score > best_mnb_arxiv_score:\n",
        "                    best_mnb_arxiv_score = score\n",
        "                    best_mnb_arxiv_parameters = {'alpha': alpha, 'idf': idf, 'stop_words':stop_words, 'ngram_range':ngram_range}\n",
        "\n",
        "print(\"Best score: {:.2f}\".format(best_mnb_arxiv_score))\n",
        "print(\"Best parameters: {}\".format(best_mnb_arxiv_parameters))"
      ],
      "execution_count": 0,
      "outputs": [
        {
          "output_type": "stream",
          "text": [
            "Best score: 0.42\n",
            "Best parameters: {'alpha': 0.1, 'idf': True, 'stop_words': 'english', 'ngram_range': (1, 1)}\n"
          ],
          "name": "stdout"
        }
      ]
    },
    {
      "cell_type": "code",
      "metadata": {
        "id": "wklqh0Kqkpzz",
        "colab_type": "code",
        "outputId": "1561e559-88b9-4d49-df17-178ea27be2ea",
        "colab": {
          "base_uri": "https://localhost:8080/",
          "height": 623
        }
      },
      "source": [
        "df = pd.DataFrame.from_dict(mnb_arxiv_models_params)\n",
        "df.columns = ['Top1 Acc.', 'Multinomial NB Classifier Parameters']\n",
        "DataTable(df.sort_values(by=['Top1 Acc.'], ascending=False))"
      ],
      "execution_count": 0,
      "outputs": [
        {
          "output_type": "execute_result",
          "data": {
            "application/vnd.google.colaboratory.module+javascript": "\n      import \"https://ssl.gstatic.com/colaboratory/data_table/a6224c040fa35dcf/data_table.js\";\n\n      window.createDataTable({\n        data: [[{\n            'v': 16,\n            'f': \"16\",\n        },\n{\n            'v': 0.425,\n            'f': \"0.425\",\n        },\n\"{'alpha': 0.1, 'idf': True, 'stop_words': 'english', 'ngram_range': (1, 1)}\"],\n [{\n            'v': 25,\n            'f': \"25\",\n        },\n{\n            'v': 0.42125,\n            'f': \"0.42125\",\n        },\n\"{'alpha': 1, 'idf': True, 'stop_words': 'english', 'ngram_range': (1, 2)}\"],\n [{\n            'v': 17,\n            'f': \"17\",\n        },\n{\n            'v': 0.41875,\n            'f': \"0.41875\",\n        },\n\"{'alpha': 0.1, 'idf': True, 'stop_words': 'english', 'ngram_range': (1, 2)}\"],\n [{\n            'v': 24,\n            'f': \"24\",\n        },\n{\n            'v': 0.4175,\n            'f': \"0.4175\",\n        },\n\"{'alpha': 1, 'idf': True, 'stop_words': 'english', 'ngram_range': (1, 1)}\"],\n [{\n            'v': 8,\n            'f': \"8\",\n        },\n{\n            'v': 0.41625,\n            'f': \"0.41625\",\n        },\n\"{'alpha': 0.01, 'idf': True, 'stop_words': 'english', 'ngram_range': (1, 1)}\"],\n [{\n            'v': 9,\n            'f': \"9\",\n        },\n{\n            'v': 0.40875,\n            'f': \"0.40875\",\n        },\n\"{'alpha': 0.01, 'idf': True, 'stop_words': 'english', 'ngram_range': (1, 2)}\"],\n [{\n            'v': 1,\n            'f': \"1\",\n        },\n{\n            'v': 0.4075,\n            'f': \"0.4075\",\n        },\n\"{'alpha': 0.001, 'idf': True, 'stop_words': 'english', 'ngram_range': (1, 2)}\"],\n [{\n            'v': 13,\n            'f': \"13\",\n        },\n{\n            'v': 0.39375,\n            'f': \"0.39375\",\n        },\n\"{'alpha': 0.01, 'idf': False, 'stop_words': 'english', 'ngram_range': (1, 2)}\"],\n [{\n            'v': 0,\n            'f': \"0\",\n        },\n{\n            'v': 0.39375,\n            'f': \"0.39375\",\n        },\n\"{'alpha': 0.001, 'idf': True, 'stop_words': 'english', 'ngram_range': (1, 1)}\"],\n [{\n            'v': 10,\n            'f': \"10\",\n        },\n{\n            'v': 0.39125,\n            'f': \"0.39125\",\n        },\n\"{'alpha': 0.01, 'idf': True, 'stop_words': None, 'ngram_range': (1, 1)}\"],\n [{\n            'v': 12,\n            'f': \"12\",\n        },\n{\n            'v': 0.39,\n            'f': \"0.39\",\n        },\n\"{'alpha': 0.01, 'idf': False, 'stop_words': 'english', 'ngram_range': (1, 1)}\"],\n [{\n            'v': 20,\n            'f': \"20\",\n        },\n{\n            'v': 0.38625,\n            'f': \"0.38625\",\n        },\n\"{'alpha': 0.1, 'idf': False, 'stop_words': 'english', 'ngram_range': (1, 1)}\"],\n [{\n            'v': 2,\n            'f': \"2\",\n        },\n{\n            'v': 0.385,\n            'f': \"0.385\",\n        },\n\"{'alpha': 0.001, 'idf': True, 'stop_words': None, 'ngram_range': (1, 1)}\"],\n [{\n            'v': 21,\n            'f': \"21\",\n        },\n{\n            'v': 0.38125,\n            'f': \"0.38125\",\n        },\n\"{'alpha': 0.1, 'idf': False, 'stop_words': 'english', 'ngram_range': (1, 2)}\"],\n [{\n            'v': 5,\n            'f': \"5\",\n        },\n{\n            'v': 0.38,\n            'f': \"0.38\",\n        },\n\"{'alpha': 0.001, 'idf': False, 'stop_words': 'english', 'ngram_range': (1, 2)}\"],\n [{\n            'v': 11,\n            'f': \"11\",\n        },\n{\n            'v': 0.375,\n            'f': \"0.375\",\n        },\n\"{'alpha': 0.01, 'idf': True, 'stop_words': None, 'ngram_range': (1, 2)}\"],\n [{\n            'v': 4,\n            'f': \"4\",\n        },\n{\n            'v': 0.36875,\n            'f': \"0.36875\",\n        },\n\"{'alpha': 0.001, 'idf': False, 'stop_words': 'english', 'ngram_range': (1, 1)}\"],\n [{\n            'v': 28,\n            'f': \"28\",\n        },\n{\n            'v': 0.3675,\n            'f': \"0.3675\",\n        },\n\"{'alpha': 1, 'idf': False, 'stop_words': 'english', 'ngram_range': (1, 1)}\"],\n [{\n            'v': 29,\n            'f': \"29\",\n        },\n{\n            'v': 0.36625,\n            'f': \"0.36625\",\n        },\n\"{'alpha': 1, 'idf': False, 'stop_words': 'english', 'ngram_range': (1, 2)}\"],\n [{\n            'v': 14,\n            'f': \"14\",\n        },\n{\n            'v': 0.3625,\n            'f': \"0.3625\",\n        },\n\"{'alpha': 0.01, 'idf': False, 'stop_words': None, 'ngram_range': (1, 1)}\"],\n [{\n            'v': 18,\n            'f': \"18\",\n        },\n{\n            'v': 0.3625,\n            'f': \"0.3625\",\n        },\n\"{'alpha': 0.1, 'idf': True, 'stop_words': None, 'ngram_range': (1, 1)}\"],\n [{\n            'v': 6,\n            'f': \"6\",\n        },\n{\n            'v': 0.35875,\n            'f': \"0.35875\",\n        },\n\"{'alpha': 0.001, 'idf': False, 'stop_words': None, 'ngram_range': (1, 1)}\"],\n [{\n            'v': 3,\n            'f': \"3\",\n        },\n{\n            'v': 0.35375,\n            'f': \"0.35375\",\n        },\n\"{'alpha': 0.001, 'idf': True, 'stop_words': None, 'ngram_range': (1, 2)}\"],\n [{\n            'v': 15,\n            'f': \"15\",\n        },\n{\n            'v': 0.33875,\n            'f': \"0.33875\",\n        },\n\"{'alpha': 0.01, 'idf': False, 'stop_words': None, 'ngram_range': (1, 2)}\"],\n [{\n            'v': 7,\n            'f': \"7\",\n        },\n{\n            'v': 0.33375,\n            'f': \"0.33375\",\n        },\n\"{'alpha': 0.001, 'idf': False, 'stop_words': None, 'ngram_range': (1, 2)}\"],\n [{\n            'v': 19,\n            'f': \"19\",\n        },\n{\n            'v': 0.3125,\n            'f': \"0.3125\",\n        },\n\"{'alpha': 0.1, 'idf': True, 'stop_words': None, 'ngram_range': (1, 2)}\"],\n [{\n            'v': 22,\n            'f': \"22\",\n        },\n{\n            'v': 0.2975,\n            'f': \"0.2975\",\n        },\n\"{'alpha': 0.1, 'idf': False, 'stop_words': None, 'ngram_range': (1, 1)}\"],\n [{\n            'v': 23,\n            'f': \"23\",\n        },\n{\n            'v': 0.27,\n            'f': \"0.27\",\n        },\n\"{'alpha': 0.1, 'idf': False, 'stop_words': None, 'ngram_range': (1, 2)}\"],\n [{\n            'v': 26,\n            'f': \"26\",\n        },\n{\n            'v': 0.2625,\n            'f': \"0.2625\",\n        },\n\"{'alpha': 1, 'idf': True, 'stop_words': None, 'ngram_range': (1, 1)}\"],\n [{\n            'v': 27,\n            'f': \"27\",\n        },\n{\n            'v': 0.23625,\n            'f': \"0.23625\",\n        },\n\"{'alpha': 1, 'idf': True, 'stop_words': None, 'ngram_range': (1, 2)}\"],\n [{\n            'v': 30,\n            'f': \"30\",\n        },\n{\n            'v': 0.2275,\n            'f': \"0.2275\",\n        },\n\"{'alpha': 1, 'idf': False, 'stop_words': None, 'ngram_range': (1, 1)}\"],\n [{\n            'v': 31,\n            'f': \"31\",\n        },\n{\n            'v': 0.20875,\n            'f': \"0.20875\",\n        },\n\"{'alpha': 1, 'idf': False, 'stop_words': None, 'ngram_range': (1, 2)}\"]],\n        columns: [[\"number\", \"index\"], [\"number\", \"Top1 Acc.\"], [\"string\", \"Multinomial NB Classifier Parameters\"]],\n        columnOptions: [{\"width\": \"1px\", \"className\": \"index_column\"}],\n        rowsPerPage: 25,\n        helpUrl: \"https://colab.research.google.com/notebooks/data_table.ipynb\",\n        suppressOutputScrolling: true,\n        minimumWidth: undefined,\n      });\n    ",
            "text/plain": [
              "<google.colab.data_table.DataTable object>"
            ],
            "text/html": [
              "<div>\n",
              "<style scoped>\n",
              "    .dataframe tbody tr th:only-of-type {\n",
              "        vertical-align: middle;\n",
              "    }\n",
              "\n",
              "    .dataframe tbody tr th {\n",
              "        vertical-align: top;\n",
              "    }\n",
              "\n",
              "    .dataframe thead th {\n",
              "        text-align: right;\n",
              "    }\n",
              "</style>\n",
              "<table border=\"1\" class=\"dataframe\">\n",
              "  <thead>\n",
              "    <tr style=\"text-align: right;\">\n",
              "      <th></th>\n",
              "      <th>Top1 Acc.</th>\n",
              "      <th>Multinomial NB Classifier Parameters</th>\n",
              "    </tr>\n",
              "  </thead>\n",
              "  <tbody>\n",
              "    <tr>\n",
              "      <th>16</th>\n",
              "      <td>0.42500</td>\n",
              "      <td>{'alpha': 0.1, 'idf': True, 'stop_words': 'eng...</td>\n",
              "    </tr>\n",
              "    <tr>\n",
              "      <th>25</th>\n",
              "      <td>0.42125</td>\n",
              "      <td>{'alpha': 1, 'idf': True, 'stop_words': 'engli...</td>\n",
              "    </tr>\n",
              "    <tr>\n",
              "      <th>17</th>\n",
              "      <td>0.41875</td>\n",
              "      <td>{'alpha': 0.1, 'idf': True, 'stop_words': 'eng...</td>\n",
              "    </tr>\n",
              "    <tr>\n",
              "      <th>24</th>\n",
              "      <td>0.41750</td>\n",
              "      <td>{'alpha': 1, 'idf': True, 'stop_words': 'engli...</td>\n",
              "    </tr>\n",
              "    <tr>\n",
              "      <th>8</th>\n",
              "      <td>0.41625</td>\n",
              "      <td>{'alpha': 0.01, 'idf': True, 'stop_words': 'en...</td>\n",
              "    </tr>\n",
              "    <tr>\n",
              "      <th>9</th>\n",
              "      <td>0.40875</td>\n",
              "      <td>{'alpha': 0.01, 'idf': True, 'stop_words': 'en...</td>\n",
              "    </tr>\n",
              "    <tr>\n",
              "      <th>1</th>\n",
              "      <td>0.40750</td>\n",
              "      <td>{'alpha': 0.001, 'idf': True, 'stop_words': 'e...</td>\n",
              "    </tr>\n",
              "    <tr>\n",
              "      <th>13</th>\n",
              "      <td>0.39375</td>\n",
              "      <td>{'alpha': 0.01, 'idf': False, 'stop_words': 'e...</td>\n",
              "    </tr>\n",
              "    <tr>\n",
              "      <th>0</th>\n",
              "      <td>0.39375</td>\n",
              "      <td>{'alpha': 0.001, 'idf': True, 'stop_words': 'e...</td>\n",
              "    </tr>\n",
              "    <tr>\n",
              "      <th>10</th>\n",
              "      <td>0.39125</td>\n",
              "      <td>{'alpha': 0.01, 'idf': True, 'stop_words': Non...</td>\n",
              "    </tr>\n",
              "    <tr>\n",
              "      <th>12</th>\n",
              "      <td>0.39000</td>\n",
              "      <td>{'alpha': 0.01, 'idf': False, 'stop_words': 'e...</td>\n",
              "    </tr>\n",
              "    <tr>\n",
              "      <th>20</th>\n",
              "      <td>0.38625</td>\n",
              "      <td>{'alpha': 0.1, 'idf': False, 'stop_words': 'en...</td>\n",
              "    </tr>\n",
              "    <tr>\n",
              "      <th>2</th>\n",
              "      <td>0.38500</td>\n",
              "      <td>{'alpha': 0.001, 'idf': True, 'stop_words': No...</td>\n",
              "    </tr>\n",
              "    <tr>\n",
              "      <th>21</th>\n",
              "      <td>0.38125</td>\n",
              "      <td>{'alpha': 0.1, 'idf': False, 'stop_words': 'en...</td>\n",
              "    </tr>\n",
              "    <tr>\n",
              "      <th>5</th>\n",
              "      <td>0.38000</td>\n",
              "      <td>{'alpha': 0.001, 'idf': False, 'stop_words': '...</td>\n",
              "    </tr>\n",
              "    <tr>\n",
              "      <th>11</th>\n",
              "      <td>0.37500</td>\n",
              "      <td>{'alpha': 0.01, 'idf': True, 'stop_words': Non...</td>\n",
              "    </tr>\n",
              "    <tr>\n",
              "      <th>4</th>\n",
              "      <td>0.36875</td>\n",
              "      <td>{'alpha': 0.001, 'idf': False, 'stop_words': '...</td>\n",
              "    </tr>\n",
              "    <tr>\n",
              "      <th>28</th>\n",
              "      <td>0.36750</td>\n",
              "      <td>{'alpha': 1, 'idf': False, 'stop_words': 'engl...</td>\n",
              "    </tr>\n",
              "    <tr>\n",
              "      <th>29</th>\n",
              "      <td>0.36625</td>\n",
              "      <td>{'alpha': 1, 'idf': False, 'stop_words': 'engl...</td>\n",
              "    </tr>\n",
              "    <tr>\n",
              "      <th>14</th>\n",
              "      <td>0.36250</td>\n",
              "      <td>{'alpha': 0.01, 'idf': False, 'stop_words': No...</td>\n",
              "    </tr>\n",
              "    <tr>\n",
              "      <th>18</th>\n",
              "      <td>0.36250</td>\n",
              "      <td>{'alpha': 0.1, 'idf': True, 'stop_words': None...</td>\n",
              "    </tr>\n",
              "    <tr>\n",
              "      <th>6</th>\n",
              "      <td>0.35875</td>\n",
              "      <td>{'alpha': 0.001, 'idf': False, 'stop_words': N...</td>\n",
              "    </tr>\n",
              "    <tr>\n",
              "      <th>3</th>\n",
              "      <td>0.35375</td>\n",
              "      <td>{'alpha': 0.001, 'idf': True, 'stop_words': No...</td>\n",
              "    </tr>\n",
              "    <tr>\n",
              "      <th>15</th>\n",
              "      <td>0.33875</td>\n",
              "      <td>{'alpha': 0.01, 'idf': False, 'stop_words': No...</td>\n",
              "    </tr>\n",
              "    <tr>\n",
              "      <th>7</th>\n",
              "      <td>0.33375</td>\n",
              "      <td>{'alpha': 0.001, 'idf': False, 'stop_words': N...</td>\n",
              "    </tr>\n",
              "    <tr>\n",
              "      <th>19</th>\n",
              "      <td>0.31250</td>\n",
              "      <td>{'alpha': 0.1, 'idf': True, 'stop_words': None...</td>\n",
              "    </tr>\n",
              "    <tr>\n",
              "      <th>22</th>\n",
              "      <td>0.29750</td>\n",
              "      <td>{'alpha': 0.1, 'idf': False, 'stop_words': Non...</td>\n",
              "    </tr>\n",
              "    <tr>\n",
              "      <th>23</th>\n",
              "      <td>0.27000</td>\n",
              "      <td>{'alpha': 0.1, 'idf': False, 'stop_words': Non...</td>\n",
              "    </tr>\n",
              "    <tr>\n",
              "      <th>26</th>\n",
              "      <td>0.26250</td>\n",
              "      <td>{'alpha': 1, 'idf': True, 'stop_words': None, ...</td>\n",
              "    </tr>\n",
              "    <tr>\n",
              "      <th>27</th>\n",
              "      <td>0.23625</td>\n",
              "      <td>{'alpha': 1, 'idf': True, 'stop_words': None, ...</td>\n",
              "    </tr>\n",
              "    <tr>\n",
              "      <th>30</th>\n",
              "      <td>0.22750</td>\n",
              "      <td>{'alpha': 1, 'idf': False, 'stop_words': None,...</td>\n",
              "    </tr>\n",
              "    <tr>\n",
              "      <th>31</th>\n",
              "      <td>0.20875</td>\n",
              "      <td>{'alpha': 1, 'idf': False, 'stop_words': None,...</td>\n",
              "    </tr>\n",
              "  </tbody>\n",
              "</table>\n",
              "</div>"
            ]
          },
          "metadata": {
            "tags": []
          },
          "execution_count": 106
        }
      ]
    },
    {
      "cell_type": "markdown",
      "metadata": {
        "id": "irt3gTmMpTso",
        "colab_type": "text"
      },
      "source": [
        "## Wikipedia dataset"
      ]
    },
    {
      "cell_type": "code",
      "metadata": {
        "id": "VD_vba9AoNsC",
        "colab_type": "code",
        "colab": {}
      },
      "source": [
        "x_train, y_train, x_test, y_test = doc_utils.processClassifierData(engineering_topic_defs, \n",
        "                                                                   engineering_articles,\n",
        "                                                                   topics = doc_utils.ALL_TOPICS,\n",
        "                                                                   dataset_type =\"wiki\")"
      ],
      "execution_count": 0,
      "outputs": []
    },
    {
      "cell_type": "markdown",
      "metadata": {
        "id": "qAvukuPM1pzY",
        "colab_type": "text"
      },
      "source": [
        "### Support Vector Machine classifier"
      ]
    },
    {
      "cell_type": "code",
      "metadata": {
        "id": "HlLCXg49ohHs",
        "colab_type": "code",
        "outputId": "2ce6ad2c-bd53-406b-a3ab-c50b683a50fd",
        "colab": {
          "base_uri": "https://localhost:8080/",
          "height": 71
        }
      },
      "source": [
        "best_svm_wiki_score = 0\n",
        "svm_wiki_models_params = list()\n",
        "for gamma in [0.001, 0.01, 0.1, 1, 10, 100]:\n",
        "    for C in [0.001, 0.01, 0.1, 1, 10, 100]:\n",
        "        for idf in [True, False]:\n",
        "            for stop_words in ['english', None]:\n",
        "                for ngram_range in [(1,1), (1,2)]:\n",
        "                    # for each combination of parameters, train an SVC\n",
        "                    svm = Pipeline([('vect', CountVectorizer(stop_words=stop_words,ngram_range=ngram_range)),\n",
        "                                    ('tfidf', TfidfTransformer(use_idf=idf)),\n",
        "                                    ('clf', SVC(C=C, gamma=gamma)),\n",
        "                                    ])    \n",
        "                    svm.fit(x_train, y_train)\n",
        "                    # evaluate the SVC on the test set\n",
        "                    score = svm.score(x_test, y_test)\n",
        "\n",
        "                    #keeping track of the combinations\n",
        "                    params = {'C': C, 'gamma': gamma, 'idf': idf, 'stop_words':stop_words, 'ngram_range':ngram_range}\n",
        "                    svm_wiki_models_params.append((score, params))\n",
        "\n",
        "                    # if we got a better score, store the score and parameters\n",
        "                    if score > best_svm_wiki_score:\n",
        "                        best_svm_wiki_score = score\n",
        "                        best_svm_wiki_parameters = {'C': C, 'gamma': gamma, 'idf': idf, 'stop_words':stop_words, 'ngram_range':ngram_range}\n",
        "\n",
        "print(\"Best score: {:.2f}\".format(best_svm_wiki_score))\n",
        "print(\"Best parameters: {}\".format(best_svm_wiki_parameters))"
      ],
      "execution_count": 0,
      "outputs": [
        {
          "output_type": "stream",
          "text": [
            "Best score: 0.73\n",
            "Best parameters: {'C': 0.001, 'gamma': 0.001, 'idf': True, 'stop_words': 'english', 'ngram_range': (1, 1)}\n"
          ],
          "name": "stdout"
        }
      ]
    },
    {
      "cell_type": "code",
      "metadata": {
        "id": "6zFzyqm5ok78",
        "colab_type": "code",
        "outputId": "ef446000-53c4-42b3-a4c4-7737d3092838",
        "colab": {
          "base_uri": "https://localhost:8080/",
          "height": 623
        }
      },
      "source": [
        "df = pd.DataFrame.from_dict(svm_wiki_models_params)\n",
        "df.columns = ['Top1 Acc.', 'SVM Classifier Parameters']\n",
        "DataTable(df.sort_values(by=['Top1 Acc.'], ascending=False))"
      ],
      "execution_count": 0,
      "outputs": [
        {
          "output_type": "execute_result",
          "data": {
            "application/vnd.google.colaboratory.module+javascript": "\n      import \"https://ssl.gstatic.com/colaboratory/data_table/a6224c040fa35dcf/data_table.js\";\n\n      window.createDataTable({\n        data: [[{\n            'v': 0,\n            'f': \"0\",\n        },\n{\n            'v': 0.7344064386317908,\n            'f': \"0.7344064386317908\",\n        },\n\"{'C': 0.001, 'gamma': 0.001, 'idf': True, 'stop_words': 'english', 'ngram_range': (1, 1)}\"],\n [{\n            'v': 32,\n            'f': \"32\",\n        },\n{\n            'v': 0.7344064386317908,\n            'f': \"0.7344064386317908\",\n        },\n\"{'C': 10, 'gamma': 0.001, 'idf': True, 'stop_words': 'english', 'ngram_range': (1, 1)}\"],\n [{\n            'v': 48,\n            'f': \"48\",\n        },\n{\n            'v': 0.7344064386317908,\n            'f': \"0.7344064386317908\",\n        },\n\"{'C': 0.001, 'gamma': 0.01, 'idf': True, 'stop_words': 'english', 'ngram_range': (1, 1)}\"],\n [{\n            'v': 56,\n            'f': \"56\",\n        },\n{\n            'v': 0.7344064386317908,\n            'f': \"0.7344064386317908\",\n        },\n\"{'C': 0.01, 'gamma': 0.01, 'idf': True, 'stop_words': 'english', 'ngram_range': (1, 1)}\"],\n [{\n            'v': 64,\n            'f': \"64\",\n        },\n{\n            'v': 0.7344064386317908,\n            'f': \"0.7344064386317908\",\n        },\n\"{'C': 0.1, 'gamma': 0.01, 'idf': True, 'stop_words': 'english', 'ngram_range': (1, 1)}\"],\n [{\n            'v': 72,\n            'f': \"72\",\n        },\n{\n            'v': 0.7344064386317908,\n            'f': \"0.7344064386317908\",\n        },\n\"{'C': 1, 'gamma': 0.01, 'idf': True, 'stop_words': 'english', 'ngram_range': (1, 1)}\"],\n [{\n            'v': 80,\n            'f': \"80\",\n        },\n{\n            'v': 0.7344064386317908,\n            'f': \"0.7344064386317908\",\n        },\n\"{'C': 10, 'gamma': 0.01, 'idf': True, 'stop_words': 'english', 'ngram_range': (1, 1)}\"],\n [{\n            'v': 88,\n            'f': \"88\",\n        },\n{\n            'v': 0.7344064386317908,\n            'f': \"0.7344064386317908\",\n        },\n\"{'C': 100, 'gamma': 0.01, 'idf': True, 'stop_words': 'english', 'ngram_range': (1, 1)}\"],\n [{\n            'v': 96,\n            'f': \"96\",\n        },\n{\n            'v': 0.7344064386317908,\n            'f': \"0.7344064386317908\",\n        },\n\"{'C': 0.001, 'gamma': 0.1, 'idf': True, 'stop_words': 'english', 'ngram_range': (1, 1)}\"],\n [{\n            'v': 104,\n            'f': \"104\",\n        },\n{\n            'v': 0.7344064386317908,\n            'f': \"0.7344064386317908\",\n        },\n\"{'C': 0.01, 'gamma': 0.1, 'idf': True, 'stop_words': 'english', 'ngram_range': (1, 1)}\"],\n [{\n            'v': 112,\n            'f': \"112\",\n        },\n{\n            'v': 0.7344064386317908,\n            'f': \"0.7344064386317908\",\n        },\n\"{'C': 0.1, 'gamma': 0.1, 'idf': True, 'stop_words': 'english', 'ngram_range': (1, 1)}\"],\n [{\n            'v': 120,\n            'f': \"120\",\n        },\n{\n            'v': 0.7344064386317908,\n            'f': \"0.7344064386317908\",\n        },\n\"{'C': 1, 'gamma': 0.1, 'idf': True, 'stop_words': 'english', 'ngram_range': (1, 1)}\"],\n [{\n            'v': 128,\n            'f': \"128\",\n        },\n{\n            'v': 0.7344064386317908,\n            'f': \"0.7344064386317908\",\n        },\n\"{'C': 10, 'gamma': 0.1, 'idf': True, 'stop_words': 'english', 'ngram_range': (1, 1)}\"],\n [{\n            'v': 136,\n            'f': \"136\",\n        },\n{\n            'v': 0.7344064386317908,\n            'f': \"0.7344064386317908\",\n        },\n\"{'C': 100, 'gamma': 0.1, 'idf': True, 'stop_words': 'english', 'ngram_range': (1, 1)}\"],\n [{\n            'v': 152,\n            'f': \"152\",\n        },\n{\n            'v': 0.7344064386317908,\n            'f': \"0.7344064386317908\",\n        },\n\"{'C': 0.01, 'gamma': 1, 'idf': True, 'stop_words': 'english', 'ngram_range': (1, 1)}\"],\n [{\n            'v': 160,\n            'f': \"160\",\n        },\n{\n            'v': 0.7344064386317908,\n            'f': \"0.7344064386317908\",\n        },\n\"{'C': 0.1, 'gamma': 1, 'idf': True, 'stop_words': 'english', 'ngram_range': (1, 1)}\"],\n [{\n            'v': 168,\n            'f': \"168\",\n        },\n{\n            'v': 0.7344064386317908,\n            'f': \"0.7344064386317908\",\n        },\n\"{'C': 1, 'gamma': 1, 'idf': True, 'stop_words': 'english', 'ngram_range': (1, 1)}\"],\n [{\n            'v': 176,\n            'f': \"176\",\n        },\n{\n            'v': 0.7344064386317908,\n            'f': \"0.7344064386317908\",\n        },\n\"{'C': 10, 'gamma': 1, 'idf': True, 'stop_words': 'english', 'ngram_range': (1, 1)}\"],\n [{\n            'v': 184,\n            'f': \"184\",\n        },\n{\n            'v': 0.7344064386317908,\n            'f': \"0.7344064386317908\",\n        },\n\"{'C': 100, 'gamma': 1, 'idf': True, 'stop_words': 'english', 'ngram_range': (1, 1)}\"],\n [{\n            'v': 192,\n            'f': \"192\",\n        },\n{\n            'v': 0.7344064386317908,\n            'f': \"0.7344064386317908\",\n        },\n\"{'C': 0.001, 'gamma': 10, 'idf': True, 'stop_words': 'english', 'ngram_range': (1, 1)}\"],\n [{\n            'v': 200,\n            'f': \"200\",\n        },\n{\n            'v': 0.7344064386317908,\n            'f': \"0.7344064386317908\",\n        },\n\"{'C': 0.01, 'gamma': 10, 'idf': True, 'stop_words': 'english', 'ngram_range': (1, 1)}\"],\n [{\n            'v': 208,\n            'f': \"208\",\n        },\n{\n            'v': 0.7344064386317908,\n            'f': \"0.7344064386317908\",\n        },\n\"{'C': 0.1, 'gamma': 10, 'idf': True, 'stop_words': 'english', 'ngram_range': (1, 1)}\"],\n [{\n            'v': 216,\n            'f': \"216\",\n        },\n{\n            'v': 0.7344064386317908,\n            'f': \"0.7344064386317908\",\n        },\n\"{'C': 1, 'gamma': 10, 'idf': True, 'stop_words': 'english', 'ngram_range': (1, 1)}\"],\n [{\n            'v': 224,\n            'f': \"224\",\n        },\n{\n            'v': 0.7344064386317908,\n            'f': \"0.7344064386317908\",\n        },\n\"{'C': 10, 'gamma': 10, 'idf': True, 'stop_words': 'english', 'ngram_range': (1, 1)}\"],\n [{\n            'v': 232,\n            'f': \"232\",\n        },\n{\n            'v': 0.7344064386317908,\n            'f': \"0.7344064386317908\",\n        },\n\"{'C': 100, 'gamma': 10, 'idf': True, 'stop_words': 'english', 'ngram_range': (1, 1)}\"],\n [{\n            'v': 240,\n            'f': \"240\",\n        },\n{\n            'v': 0.7344064386317908,\n            'f': \"0.7344064386317908\",\n        },\n\"{'C': 0.001, 'gamma': 100, 'idf': True, 'stop_words': 'english', 'ngram_range': (1, 1)}\"],\n [{\n            'v': 248,\n            'f': \"248\",\n        },\n{\n            'v': 0.7344064386317908,\n            'f': \"0.7344064386317908\",\n        },\n\"{'C': 0.01, 'gamma': 100, 'idf': True, 'stop_words': 'english', 'ngram_range': (1, 1)}\"],\n [{\n            'v': 256,\n            'f': \"256\",\n        },\n{\n            'v': 0.7344064386317908,\n            'f': \"0.7344064386317908\",\n        },\n\"{'C': 0.1, 'gamma': 100, 'idf': True, 'stop_words': 'english', 'ngram_range': (1, 1)}\"],\n [{\n            'v': 264,\n            'f': \"264\",\n        },\n{\n            'v': 0.7344064386317908,\n            'f': \"0.7344064386317908\",\n        },\n\"{'C': 1, 'gamma': 100, 'idf': True, 'stop_words': 'english', 'ngram_range': (1, 1)}\"],\n [{\n            'v': 272,\n            'f': \"272\",\n        },\n{\n            'v': 0.7344064386317908,\n            'f': \"0.7344064386317908\",\n        },\n\"{'C': 10, 'gamma': 100, 'idf': True, 'stop_words': 'english', 'ngram_range': (1, 1)}\"],\n [{\n            'v': 280,\n            'f': \"280\",\n        },\n{\n            'v': 0.7344064386317908,\n            'f': \"0.7344064386317908\",\n        },\n\"{'C': 100, 'gamma': 100, 'idf': True, 'stop_words': 'english', 'ngram_range': (1, 1)}\"],\n [{\n            'v': 40,\n            'f': \"40\",\n        },\n{\n            'v': 0.7344064386317908,\n            'f': \"0.7344064386317908\",\n        },\n\"{'C': 100, 'gamma': 0.001, 'idf': True, 'stop_words': 'english', 'ngram_range': (1, 1)}\"],\n [{\n            'v': 144,\n            'f': \"144\",\n        },\n{\n            'v': 0.7344064386317908,\n            'f': \"0.7344064386317908\",\n        },\n\"{'C': 0.001, 'gamma': 1, 'idf': True, 'stop_words': 'english', 'ngram_range': (1, 1)}\"],\n [{\n            'v': 16,\n            'f': \"16\",\n        },\n{\n            'v': 0.7344064386317908,\n            'f': \"0.7344064386317908\",\n        },\n\"{'C': 0.1, 'gamma': 0.001, 'idf': True, 'stop_words': 'english', 'ngram_range': (1, 1)}\"],\n [{\n            'v': 8,\n            'f': \"8\",\n        },\n{\n            'v': 0.7344064386317908,\n            'f': \"0.7344064386317908\",\n        },\n\"{'C': 0.01, 'gamma': 0.001, 'idf': True, 'stop_words': 'english', 'ngram_range': (1, 1)}\"],\n [{\n            'v': 24,\n            'f': \"24\",\n        },\n{\n            'v': 0.7344064386317908,\n            'f': \"0.7344064386317908\",\n        },\n\"{'C': 1, 'gamma': 0.001, 'idf': True, 'stop_words': 'english', 'ngram_range': (1, 1)}\"],\n [{\n            'v': 161,\n            'f': \"161\",\n        },\n{\n            'v': 0.7293762575452716,\n            'f': \"0.7293762575452716\",\n        },\n\"{'C': 0.1, 'gamma': 1, 'idf': True, 'stop_words': 'english', 'ngram_range': (1, 2)}\"],\n [{\n            'v': 153,\n            'f': \"153\",\n        },\n{\n            'v': 0.7293762575452716,\n            'f': \"0.7293762575452716\",\n        },\n\"{'C': 0.01, 'gamma': 1, 'idf': True, 'stop_words': 'english', 'ngram_range': (1, 2)}\"],\n [{\n            'v': 145,\n            'f': \"145\",\n        },\n{\n            'v': 0.7293762575452716,\n            'f': \"0.7293762575452716\",\n        },\n\"{'C': 0.001, 'gamma': 1, 'idf': True, 'stop_words': 'english', 'ngram_range': (1, 2)}\"],\n [{\n            'v': 1,\n            'f': \"1\",\n        },\n{\n            'v': 0.7293762575452716,\n            'f': \"0.7293762575452716\",\n        },\n\"{'C': 0.001, 'gamma': 0.001, 'idf': True, 'stop_words': 'english', 'ngram_range': (1, 2)}\"],\n [{\n            'v': 137,\n            'f': \"137\",\n        },\n{\n            'v': 0.7293762575452716,\n            'f': \"0.7293762575452716\",\n        },\n\"{'C': 100, 'gamma': 0.1, 'idf': True, 'stop_words': 'english', 'ngram_range': (1, 2)}\"],\n [{\n            'v': 129,\n            'f': \"129\",\n        },\n{\n            'v': 0.7293762575452716,\n            'f': \"0.7293762575452716\",\n        },\n\"{'C': 10, 'gamma': 0.1, 'idf': True, 'stop_words': 'english', 'ngram_range': (1, 2)}\"],\n [{\n            'v': 33,\n            'f': \"33\",\n        },\n{\n            'v': 0.7293762575452716,\n            'f': \"0.7293762575452716\",\n        },\n\"{'C': 10, 'gamma': 0.001, 'idf': True, 'stop_words': 'english', 'ngram_range': (1, 2)}\"],\n [{\n            'v': 169,\n            'f': \"169\",\n        },\n{\n            'v': 0.7293762575452716,\n            'f': \"0.7293762575452716\",\n        },\n\"{'C': 1, 'gamma': 1, 'idf': True, 'stop_words': 'english', 'ngram_range': (1, 2)}\"],\n [{\n            'v': 113,\n            'f': \"113\",\n        },\n{\n            'v': 0.7293762575452716,\n            'f': \"0.7293762575452716\",\n        },\n\"{'C': 0.1, 'gamma': 0.1, 'idf': True, 'stop_words': 'english', 'ngram_range': (1, 2)}\"],\n [{\n            'v': 105,\n            'f': \"105\",\n        },\n{\n            'v': 0.7293762575452716,\n            'f': \"0.7293762575452716\",\n        },\n\"{'C': 0.01, 'gamma': 0.1, 'idf': True, 'stop_words': 'english', 'ngram_range': (1, 2)}\"],\n [{\n            'v': 97,\n            'f': \"97\",\n        },\n{\n            'v': 0.7293762575452716,\n            'f': \"0.7293762575452716\",\n        },\n\"{'C': 0.001, 'gamma': 0.1, 'idf': True, 'stop_words': 'english', 'ngram_range': (1, 2)}\"],\n [{\n            'v': 89,\n            'f': \"89\",\n        },\n{\n            'v': 0.7293762575452716,\n            'f': \"0.7293762575452716\",\n        },\n\"{'C': 100, 'gamma': 0.01, 'idf': True, 'stop_words': 'english', 'ngram_range': (1, 2)}\"],\n [{\n            'v': 25,\n            'f': \"25\",\n        },\n{\n            'v': 0.7293762575452716,\n            'f': \"0.7293762575452716\",\n        },\n\"{'C': 1, 'gamma': 0.001, 'idf': True, 'stop_words': 'english', 'ngram_range': (1, 2)}\"],\n [{\n            'v': 121,\n            'f': \"121\",\n        },\n{\n            'v': 0.7293762575452716,\n            'f': \"0.7293762575452716\",\n        },\n\"{'C': 1, 'gamma': 0.1, 'idf': True, 'stop_words': 'english', 'ngram_range': (1, 2)}\"],\n [{\n            'v': 177,\n            'f': \"177\",\n        },\n{\n            'v': 0.7293762575452716,\n            'f': \"0.7293762575452716\",\n        },\n\"{'C': 10, 'gamma': 1, 'idf': True, 'stop_words': 'english', 'ngram_range': (1, 2)}\"],\n [{\n            'v': 73,\n            'f': \"73\",\n        },\n{\n            'v': 0.7293762575452716,\n            'f': \"0.7293762575452716\",\n        },\n\"{'C': 1, 'gamma': 0.01, 'idf': True, 'stop_words': 'english', 'ngram_range': (1, 2)}\"],\n [{\n            'v': 185,\n            'f': \"185\",\n        },\n{\n            'v': 0.7293762575452716,\n            'f': \"0.7293762575452716\",\n        },\n\"{'C': 100, 'gamma': 1, 'idf': True, 'stop_words': 'english', 'ngram_range': (1, 2)}\"],\n [{\n            'v': 193,\n            'f': \"193\",\n        },\n{\n            'v': 0.7293762575452716,\n            'f': \"0.7293762575452716\",\n        },\n\"{'C': 0.001, 'gamma': 10, 'idf': True, 'stop_words': 'english', 'ngram_range': (1, 2)}\"],\n [{\n            'v': 201,\n            'f': \"201\",\n        },\n{\n            'v': 0.7293762575452716,\n            'f': \"0.7293762575452716\",\n        },\n\"{'C': 0.01, 'gamma': 10, 'idf': True, 'stop_words': 'english', 'ngram_range': (1, 2)}\"],\n [{\n            'v': 209,\n            'f': \"209\",\n        },\n{\n            'v': 0.7293762575452716,\n            'f': \"0.7293762575452716\",\n        },\n\"{'C': 0.1, 'gamma': 10, 'idf': True, 'stop_words': 'english', 'ngram_range': (1, 2)}\"],\n [{\n            'v': 217,\n            'f': \"217\",\n        },\n{\n            'v': 0.7293762575452716,\n            'f': \"0.7293762575452716\",\n        },\n\"{'C': 1, 'gamma': 10, 'idf': True, 'stop_words': 'english', 'ngram_range': (1, 2)}\"],\n [{\n            'v': 9,\n            'f': \"9\",\n        },\n{\n            'v': 0.7293762575452716,\n            'f': \"0.7293762575452716\",\n        },\n\"{'C': 0.01, 'gamma': 0.001, 'idf': True, 'stop_words': 'english', 'ngram_range': (1, 2)}\"],\n [{\n            'v': 225,\n            'f': \"225\",\n        },\n{\n            'v': 0.7293762575452716,\n            'f': \"0.7293762575452716\",\n        },\n\"{'C': 10, 'gamma': 10, 'idf': True, 'stop_words': 'english', 'ngram_range': (1, 2)}\"],\n [{\n            'v': 233,\n            'f': \"233\",\n        },\n{\n            'v': 0.7293762575452716,\n            'f': \"0.7293762575452716\",\n        },\n\"{'C': 100, 'gamma': 10, 'idf': True, 'stop_words': 'english', 'ngram_range': (1, 2)}\"],\n [{\n            'v': 241,\n            'f': \"241\",\n        },\n{\n            'v': 0.7293762575452716,\n            'f': \"0.7293762575452716\",\n        },\n\"{'C': 0.001, 'gamma': 100, 'idf': True, 'stop_words': 'english', 'ngram_range': (1, 2)}\"],\n [{\n            'v': 249,\n            'f': \"249\",\n        },\n{\n            'v': 0.7293762575452716,\n            'f': \"0.7293762575452716\",\n        },\n\"{'C': 0.01, 'gamma': 100, 'idf': True, 'stop_words': 'english', 'ngram_range': (1, 2)}\"],\n [{\n            'v': 257,\n            'f': \"257\",\n        },\n{\n            'v': 0.7293762575452716,\n            'f': \"0.7293762575452716\",\n        },\n\"{'C': 0.1, 'gamma': 100, 'idf': True, 'stop_words': 'english', 'ngram_range': (1, 2)}\"],\n [{\n            'v': 265,\n            'f': \"265\",\n        },\n{\n            'v': 0.7293762575452716,\n            'f': \"0.7293762575452716\",\n        },\n\"{'C': 1, 'gamma': 100, 'idf': True, 'stop_words': 'english', 'ngram_range': (1, 2)}\"],\n [{\n            'v': 273,\n            'f': \"273\",\n        },\n{\n            'v': 0.7293762575452716,\n            'f': \"0.7293762575452716\",\n        },\n\"{'C': 10, 'gamma': 100, 'idf': True, 'stop_words': 'english', 'ngram_range': (1, 2)}\"],\n [{\n            'v': 281,\n            'f': \"281\",\n        },\n{\n            'v': 0.7293762575452716,\n            'f': \"0.7293762575452716\",\n        },\n\"{'C': 100, 'gamma': 100, 'idf': True, 'stop_words': 'english', 'ngram_range': (1, 2)}\"],\n [{\n            'v': 81,\n            'f': \"81\",\n        },\n{\n            'v': 0.7293762575452716,\n            'f': \"0.7293762575452716\",\n        },\n\"{'C': 10, 'gamma': 0.01, 'idf': True, 'stop_words': 'english', 'ngram_range': (1, 2)}\"],\n [{\n            'v': 17,\n            'f': \"17\",\n        },\n{\n            'v': 0.7293762575452716,\n            'f': \"0.7293762575452716\",\n        },\n\"{'C': 0.1, 'gamma': 0.001, 'idf': True, 'stop_words': 'english', 'ngram_range': (1, 2)}\"],\n [{\n            'v': 49,\n            'f': \"49\",\n        },\n{\n            'v': 0.7293762575452716,\n            'f': \"0.7293762575452716\",\n        },\n\"{'C': 0.001, 'gamma': 0.01, 'idf': True, 'stop_words': 'english', 'ngram_range': (1, 2)}\"],\n [{\n            'v': 65,\n            'f': \"65\",\n        },\n{\n            'v': 0.7293762575452716,\n            'f': \"0.7293762575452716\",\n        },\n\"{'C': 0.1, 'gamma': 0.01, 'idf': True, 'stop_words': 'english', 'ngram_range': (1, 2)}\"],\n [{\n            'v': 57,\n            'f': \"57\",\n        },\n{\n            'v': 0.7293762575452716,\n            'f': \"0.7293762575452716\",\n        },\n\"{'C': 0.01, 'gamma': 0.01, 'idf': True, 'stop_words': 'english', 'ngram_range': (1, 2)}\"],\n [{\n            'v': 41,\n            'f': \"41\",\n        },\n{\n            'v': 0.7293762575452716,\n            'f': \"0.7293762575452716\",\n        },\n\"{'C': 100, 'gamma': 0.001, 'idf': True, 'stop_words': 'english', 'ngram_range': (1, 2)}\"],\n [{\n            'v': 53,\n            'f': \"53\",\n        },\n{\n            'v': 0.682092555331992,\n            'f': \"0.682092555331992\",\n        },\n\"{'C': 0.001, 'gamma': 0.01, 'idf': False, 'stop_words': 'english', 'ngram_range': (1, 2)}\"],\n [{\n            'v': 197,\n            'f': \"197\",\n        },\n{\n            'v': 0.682092555331992,\n            'f': \"0.682092555331992\",\n        },\n\"{'C': 0.001, 'gamma': 10, 'idf': False, 'stop_words': 'english', 'ngram_range': (1, 2)}\"],\n [{\n            'v': 45,\n            'f': \"45\",\n        },\n{\n            'v': 0.682092555331992,\n            'f': \"0.682092555331992\",\n        },\n\"{'C': 100, 'gamma': 0.001, 'idf': False, 'stop_words': 'english', 'ngram_range': (1, 2)}\"],\n [{\n            'v': 13,\n            'f': \"13\",\n        },\n{\n            'v': 0.682092555331992,\n            'f': \"0.682092555331992\",\n        },\n\"{'C': 0.01, 'gamma': 0.001, 'idf': False, 'stop_words': 'english', 'ngram_range': (1, 2)}\"],\n [{\n            'v': 141,\n            'f': \"141\",\n        },\n{\n            'v': 0.682092555331992,\n            'f': \"0.682092555331992\",\n        },\n\"{'C': 100, 'gamma': 0.1, 'idf': False, 'stop_words': 'english', 'ngram_range': (1, 2)}\"],\n [{\n            'v': 245,\n            'f': \"245\",\n        },\n{\n            'v': 0.682092555331992,\n            'f': \"0.682092555331992\",\n        },\n\"{'C': 0.001, 'gamma': 100, 'idf': False, 'stop_words': 'english', 'ngram_range': (1, 2)}\"],\n [{\n            'v': 101,\n            'f': \"101\",\n        },\n{\n            'v': 0.682092555331992,\n            'f': \"0.682092555331992\",\n        },\n\"{'C': 0.001, 'gamma': 0.1, 'idf': False, 'stop_words': 'english', 'ngram_range': (1, 2)}\"],\n [{\n            'v': 237,\n            'f': \"237\",\n        },\n{\n            'v': 0.682092555331992,\n            'f': \"0.682092555331992\",\n        },\n\"{'C': 100, 'gamma': 10, 'idf': False, 'stop_words': 'english', 'ngram_range': (1, 2)}\"],\n [{\n            'v': 61,\n            'f': \"61\",\n        },\n{\n            'v': 0.682092555331992,\n            'f': \"0.682092555331992\",\n        },\n\"{'C': 0.01, 'gamma': 0.01, 'idf': False, 'stop_words': 'english', 'ngram_range': (1, 2)}\"],\n [{\n            'v': 93,\n            'f': \"93\",\n        },\n{\n            'v': 0.682092555331992,\n            'f': \"0.682092555331992\",\n        },\n\"{'C': 100, 'gamma': 0.01, 'idf': False, 'stop_words': 'english', 'ngram_range': (1, 2)}\"],\n [{\n            'v': 133,\n            'f': \"133\",\n        },\n{\n            'v': 0.682092555331992,\n            'f': \"0.682092555331992\",\n        },\n\"{'C': 10, 'gamma': 0.1, 'idf': False, 'stop_words': 'english', 'ngram_range': (1, 2)}\"],\n [{\n            'v': 109,\n            'f': \"109\",\n        },\n{\n            'v': 0.682092555331992,\n            'f': \"0.682092555331992\",\n        },\n\"{'C': 0.01, 'gamma': 0.1, 'idf': False, 'stop_words': 'english', 'ngram_range': (1, 2)}\"],\n [{\n            'v': 229,\n            'f': \"229\",\n        },\n{\n            'v': 0.682092555331992,\n            'f': \"0.682092555331992\",\n        },\n\"{'C': 10, 'gamma': 10, 'idf': False, 'stop_words': 'english', 'ngram_range': (1, 2)}\"],\n [{\n            'v': 205,\n            'f': \"205\",\n        },\n{\n            'v': 0.682092555331992,\n            'f': \"0.682092555331992\",\n        },\n\"{'C': 0.01, 'gamma': 10, 'idf': False, 'stop_words': 'english', 'ngram_range': (1, 2)}\"],\n [{\n            'v': 213,\n            'f': \"213\",\n        },\n{\n            'v': 0.682092555331992,\n            'f': \"0.682092555331992\",\n        },\n\"{'C': 0.1, 'gamma': 10, 'idf': False, 'stop_words': 'english', 'ngram_range': (1, 2)}\"],\n [{\n            'v': 117,\n            'f': \"117\",\n        },\n{\n            'v': 0.682092555331992,\n            'f': \"0.682092555331992\",\n        },\n\"{'C': 0.1, 'gamma': 0.1, 'idf': False, 'stop_words': 'english', 'ngram_range': (1, 2)}\"],\n [{\n            'v': 221,\n            'f': \"221\",\n        },\n{\n            'v': 0.682092555331992,\n            'f': \"0.682092555331992\",\n        },\n\"{'C': 1, 'gamma': 10, 'idf': False, 'stop_words': 'english', 'ngram_range': (1, 2)}\"],\n [{\n            'v': 125,\n            'f': \"125\",\n        },\n{\n            'v': 0.682092555331992,\n            'f': \"0.682092555331992\",\n        },\n\"{'C': 1, 'gamma': 0.1, 'idf': False, 'stop_words': 'english', 'ngram_range': (1, 2)}\"],\n [{\n            'v': 21,\n            'f': \"21\",\n        },\n{\n            'v': 0.682092555331992,\n            'f': \"0.682092555331992\",\n        },\n\"{'C': 0.1, 'gamma': 0.001, 'idf': False, 'stop_words': 'english', 'ngram_range': (1, 2)}\"],\n [{\n            'v': 5,\n            'f': \"5\",\n        },\n{\n            'v': 0.682092555331992,\n            'f': \"0.682092555331992\",\n        },\n\"{'C': 0.001, 'gamma': 0.001, 'idf': False, 'stop_words': 'english', 'ngram_range': (1, 2)}\"],\n [{\n            'v': 253,\n            'f': \"253\",\n        },\n{\n            'v': 0.682092555331992,\n            'f': \"0.682092555331992\",\n        },\n\"{'C': 0.01, 'gamma': 100, 'idf': False, 'stop_words': 'english', 'ngram_range': (1, 2)}\"],\n [{\n            'v': 189,\n            'f': \"189\",\n        },\n{\n            'v': 0.682092555331992,\n            'f': \"0.682092555331992\",\n        },\n\"{'C': 100, 'gamma': 1, 'idf': False, 'stop_words': 'english', 'ngram_range': (1, 2)}\"],\n [{\n            'v': 181,\n            'f': \"181\",\n        },\n{\n            'v': 0.682092555331992,\n            'f': \"0.682092555331992\",\n        },\n\"{'C': 10, 'gamma': 1, 'idf': False, 'stop_words': 'english', 'ngram_range': (1, 2)}\"],\n [{\n            'v': 285,\n            'f': \"285\",\n        },\n{\n            'v': 0.682092555331992,\n            'f': \"0.682092555331992\",\n        },\n\"{'C': 100, 'gamma': 100, 'idf': False, 'stop_words': 'english', 'ngram_range': (1, 2)}\"],\n [{\n            'v': 165,\n            'f': \"165\",\n        },\n{\n            'v': 0.682092555331992,\n            'f': \"0.682092555331992\",\n        },\n\"{'C': 0.1, 'gamma': 1, 'idf': False, 'stop_words': 'english', 'ngram_range': (1, 2)}\"],\n [{\n            'v': 157,\n            'f': \"157\",\n        },\n{\n            'v': 0.682092555331992,\n            'f': \"0.682092555331992\",\n        },\n\"{'C': 0.01, 'gamma': 1, 'idf': False, 'stop_words': 'english', 'ngram_range': (1, 2)}\"],\n [{\n            'v': 277,\n            'f': \"277\",\n        },\n{\n            'v': 0.682092555331992,\n            'f': \"0.682092555331992\",\n        },\n\"{'C': 10, 'gamma': 100, 'idf': False, 'stop_words': 'english', 'ngram_range': (1, 2)}\"],\n [{\n            'v': 77,\n            'f': \"77\",\n        },\n{\n            'v': 0.682092555331992,\n            'f': \"0.682092555331992\",\n        },\n\"{'C': 1, 'gamma': 0.01, 'idf': False, 'stop_words': 'english', 'ngram_range': (1, 2)}\"],\n [{\n            'v': 173,\n            'f': \"173\",\n        },\n{\n            'v': 0.682092555331992,\n            'f': \"0.682092555331992\",\n        },\n\"{'C': 1, 'gamma': 1, 'idf': False, 'stop_words': 'english', 'ngram_range': (1, 2)}\"],\n [{\n            'v': 29,\n            'f': \"29\",\n        },\n{\n            'v': 0.682092555331992,\n            'f': \"0.682092555331992\",\n        },\n\"{'C': 1, 'gamma': 0.001, 'idf': False, 'stop_words': 'english', 'ngram_range': (1, 2)}\"],\n [{\n            'v': 269,\n            'f': \"269\",\n        },\n{\n            'v': 0.682092555331992,\n            'f': \"0.682092555331992\",\n        },\n\"{'C': 1, 'gamma': 100, 'idf': False, 'stop_words': 'english', 'ngram_range': (1, 2)}\"],\n [{\n            'v': 69,\n            'f': \"69\",\n        },\n{\n            'v': 0.682092555331992,\n            'f': \"0.682092555331992\",\n        },\n\"{'C': 0.1, 'gamma': 0.01, 'idf': False, 'stop_words': 'english', 'ngram_range': (1, 2)}\"],\n [{\n            'v': 149,\n            'f': \"149\",\n        },\n{\n            'v': 0.682092555331992,\n            'f': \"0.682092555331992\",\n        },\n\"{'C': 0.001, 'gamma': 1, 'idf': False, 'stop_words': 'english', 'ngram_range': (1, 2)}\"],\n [{\n            'v': 261,\n            'f': \"261\",\n        },\n{\n            'v': 0.682092555331992,\n            'f': \"0.682092555331992\",\n        },\n\"{'C': 0.1, 'gamma': 100, 'idf': False, 'stop_words': 'english', 'ngram_range': (1, 2)}\"],\n [{\n            'v': 85,\n            'f': \"85\",\n        },\n{\n            'v': 0.682092555331992,\n            'f': \"0.682092555331992\",\n        },\n\"{'C': 10, 'gamma': 0.01, 'idf': False, 'stop_words': 'english', 'ngram_range': (1, 2)}\"],\n [{\n            'v': 37,\n            'f': \"37\",\n        },\n{\n            'v': 0.682092555331992,\n            'f': \"0.682092555331992\",\n        },\n\"{'C': 10, 'gamma': 0.001, 'idf': False, 'stop_words': 'english', 'ngram_range': (1, 2)}\"],\n [{\n            'v': 180,\n            'f': \"180\",\n        },\n{\n            'v': 0.6750503018108652,\n            'f': \"0.6750503018108652\",\n        },\n\"{'C': 10, 'gamma': 1, 'idf': False, 'stop_words': 'english', 'ngram_range': (1, 1)}\"],\n [{\n            'v': 20,\n            'f': \"20\",\n        },\n{\n            'v': 0.6750503018108652,\n            'f': \"0.6750503018108652\",\n        },\n\"{'C': 0.1, 'gamma': 0.001, 'idf': False, 'stop_words': 'english', 'ngram_range': (1, 1)}\"],\n [{\n            'v': 188,\n            'f': \"188\",\n        },\n{\n            'v': 0.6750503018108652,\n            'f': \"0.6750503018108652\",\n        },\n\"{'C': 100, 'gamma': 1, 'idf': False, 'stop_words': 'english', 'ngram_range': (1, 1)}\"],\n [{\n            'v': 52,\n            'f': \"52\",\n        },\n{\n            'v': 0.6750503018108652,\n            'f': \"0.6750503018108652\",\n        },\n\"{'C': 0.001, 'gamma': 0.01, 'idf': False, 'stop_words': 'english', 'ngram_range': (1, 1)}\"],\n [{\n            'v': 148,\n            'f': \"148\",\n        },\n{\n            'v': 0.6750503018108652,\n            'f': \"0.6750503018108652\",\n        },\n\"{'C': 0.001, 'gamma': 1, 'idf': False, 'stop_words': 'english', 'ngram_range': (1, 1)}\"],\n [{\n            'v': 212,\n            'f': \"212\",\n        },\n{\n            'v': 0.6750503018108652,\n            'f': \"0.6750503018108652\",\n        },\n\"{'C': 0.1, 'gamma': 10, 'idf': False, 'stop_words': 'english', 'ngram_range': (1, 1)}\"],\n [{\n            'v': 156,\n            'f': \"156\",\n        },\n{\n            'v': 0.6750503018108652,\n            'f': \"0.6750503018108652\",\n        },\n\"{'C': 0.01, 'gamma': 1, 'idf': False, 'stop_words': 'english', 'ngram_range': (1, 1)}\"],\n [{\n            'v': 204,\n            'f': \"204\",\n        },\n{\n            'v': 0.6750503018108652,\n            'f': \"0.6750503018108652\",\n        },\n\"{'C': 0.01, 'gamma': 10, 'idf': False, 'stop_words': 'english', 'ngram_range': (1, 1)}\"],\n [{\n            'v': 172,\n            'f': \"172\",\n        },\n{\n            'v': 0.6750503018108652,\n            'f': \"0.6750503018108652\",\n        },\n\"{'C': 1, 'gamma': 1, 'idf': False, 'stop_words': 'english', 'ngram_range': (1, 1)}\"],\n [{\n            'v': 132,\n            'f': \"132\",\n        },\n{\n            'v': 0.6750503018108652,\n            'f': \"0.6750503018108652\",\n        },\n\"{'C': 10, 'gamma': 0.1, 'idf': False, 'stop_words': 'english', 'ngram_range': (1, 1)}\"],\n [{\n            'v': 140,\n            'f': \"140\",\n        },\n{\n            'v': 0.6750503018108652,\n            'f': \"0.6750503018108652\",\n        },\n\"{'C': 100, 'gamma': 0.1, 'idf': False, 'stop_words': 'english', 'ngram_range': (1, 1)}\"],\n [{\n            'v': 196,\n            'f': \"196\",\n        },\n{\n            'v': 0.6750503018108652,\n            'f': \"0.6750503018108652\",\n        },\n\"{'C': 0.001, 'gamma': 10, 'idf': False, 'stop_words': 'english', 'ngram_range': (1, 1)}\"],\n [{\n            'v': 12,\n            'f': \"12\",\n        },\n{\n            'v': 0.6750503018108652,\n            'f': \"0.6750503018108652\",\n        },\n\"{'C': 0.01, 'gamma': 0.001, 'idf': False, 'stop_words': 'english', 'ngram_range': (1, 1)}\"],\n [{\n            'v': 124,\n            'f': \"124\",\n        },\n{\n            'v': 0.6750503018108652,\n            'f': \"0.6750503018108652\",\n        },\n\"{'C': 1, 'gamma': 0.1, 'idf': False, 'stop_words': 'english', 'ngram_range': (1, 1)}\"],\n [{\n            'v': 68,\n            'f': \"68\",\n        },\n{\n            'v': 0.6750503018108652,\n            'f': \"0.6750503018108652\",\n        },\n\"{'C': 0.1, 'gamma': 0.01, 'idf': False, 'stop_words': 'english', 'ngram_range': (1, 1)}\"],\n [{\n            'v': 252,\n            'f': \"252\",\n        },\n{\n            'v': 0.6750503018108652,\n            'f': \"0.6750503018108652\",\n        },\n\"{'C': 0.01, 'gamma': 100, 'idf': False, 'stop_words': 'english', 'ngram_range': (1, 1)}\"],\n [{\n            'v': 100,\n            'f': \"100\",\n        },\n{\n            'v': 0.6750503018108652,\n            'f': \"0.6750503018108652\",\n        },\n\"{'C': 0.001, 'gamma': 0.1, 'idf': False, 'stop_words': 'english', 'ngram_range': (1, 1)}\"],\n [{\n            'v': 284,\n            'f': \"284\",\n        },\n{\n            'v': 0.6750503018108652,\n            'f': \"0.6750503018108652\",\n        },\n\"{'C': 100, 'gamma': 100, 'idf': False, 'stop_words': 'english', 'ngram_range': (1, 1)}\"],\n [{\n            'v': 276,\n            'f': \"276\",\n        },\n{\n            'v': 0.6750503018108652,\n            'f': \"0.6750503018108652\",\n        },\n\"{'C': 10, 'gamma': 100, 'idf': False, 'stop_words': 'english', 'ngram_range': (1, 1)}\"],\n [{\n            'v': 76,\n            'f': \"76\",\n        },\n{\n            'v': 0.6750503018108652,\n            'f': \"0.6750503018108652\",\n        },\n\"{'C': 1, 'gamma': 0.01, 'idf': False, 'stop_words': 'english', 'ngram_range': (1, 1)}\"],\n [{\n            'v': 36,\n            'f': \"36\",\n        },\n{\n            'v': 0.6750503018108652,\n            'f': \"0.6750503018108652\",\n        },\n\"{'C': 10, 'gamma': 0.001, 'idf': False, 'stop_words': 'english', 'ngram_range': (1, 1)}\"],\n [{\n            'v': 268,\n            'f': \"268\",\n        },\n{\n            'v': 0.6750503018108652,\n            'f': \"0.6750503018108652\",\n        },\n\"{'C': 1, 'gamma': 100, 'idf': False, 'stop_words': 'english', 'ngram_range': (1, 1)}\"],\n [{\n            'v': 84,\n            'f': \"84\",\n        },\n{\n            'v': 0.6750503018108652,\n            'f': \"0.6750503018108652\",\n        },\n\"{'C': 10, 'gamma': 0.01, 'idf': False, 'stop_words': 'english', 'ngram_range': (1, 1)}\"],\n [{\n            'v': 4,\n            'f': \"4\",\n        },\n{\n            'v': 0.6750503018108652,\n            'f': \"0.6750503018108652\",\n        },\n\"{'C': 0.001, 'gamma': 0.001, 'idf': False, 'stop_words': 'english', 'ngram_range': (1, 1)}\"],\n [{\n            'v': 28,\n            'f': \"28\",\n        },\n{\n            'v': 0.6750503018108652,\n            'f': \"0.6750503018108652\",\n        },\n\"{'C': 1, 'gamma': 0.001, 'idf': False, 'stop_words': 'english', 'ngram_range': (1, 1)}\"],\n [{\n            'v': 260,\n            'f': \"260\",\n        },\n{\n            'v': 0.6750503018108652,\n            'f': \"0.6750503018108652\",\n        },\n\"{'C': 0.1, 'gamma': 100, 'idf': False, 'stop_words': 'english', 'ngram_range': (1, 1)}\"],\n [{\n            'v': 92,\n            'f': \"92\",\n        },\n{\n            'v': 0.6750503018108652,\n            'f': \"0.6750503018108652\",\n        },\n\"{'C': 100, 'gamma': 0.01, 'idf': False, 'stop_words': 'english', 'ngram_range': (1, 1)}\"],\n [{\n            'v': 244,\n            'f': \"244\",\n        },\n{\n            'v': 0.6750503018108652,\n            'f': \"0.6750503018108652\",\n        },\n\"{'C': 0.001, 'gamma': 100, 'idf': False, 'stop_words': 'english', 'ngram_range': (1, 1)}\"],\n [{\n            'v': 44,\n            'f': \"44\",\n        },\n{\n            'v': 0.6750503018108652,\n            'f': \"0.6750503018108652\",\n        },\n\"{'C': 100, 'gamma': 0.001, 'idf': False, 'stop_words': 'english', 'ngram_range': (1, 1)}\"],\n [{\n            'v': 60,\n            'f': \"60\",\n        },\n{\n            'v': 0.6750503018108652,\n            'f': \"0.6750503018108652\",\n        },\n\"{'C': 0.01, 'gamma': 0.01, 'idf': False, 'stop_words': 'english', 'ngram_range': (1, 1)}\"],\n [{\n            'v': 220,\n            'f': \"220\",\n        },\n{\n            'v': 0.6750503018108652,\n            'f': \"0.6750503018108652\",\n        },\n\"{'C': 1, 'gamma': 10, 'idf': False, 'stop_words': 'english', 'ngram_range': (1, 1)}\"],\n [{\n            'v': 116,\n            'f': \"116\",\n        },\n{\n            'v': 0.6750503018108652,\n            'f': \"0.6750503018108652\",\n        },\n\"{'C': 0.1, 'gamma': 0.1, 'idf': False, 'stop_words': 'english', 'ngram_range': (1, 1)}\"],\n [{\n            'v': 164,\n            'f': \"164\",\n        },\n{\n            'v': 0.6750503018108652,\n            'f': \"0.6750503018108652\",\n        },\n\"{'C': 0.1, 'gamma': 1, 'idf': False, 'stop_words': 'english', 'ngram_range': (1, 1)}\"],\n [{\n            'v': 108,\n            'f': \"108\",\n        },\n{\n            'v': 0.6750503018108652,\n            'f': \"0.6750503018108652\",\n        },\n\"{'C': 0.01, 'gamma': 0.1, 'idf': False, 'stop_words': 'english', 'ngram_range': (1, 1)}\"],\n [{\n            'v': 228,\n            'f': \"228\",\n        },\n{\n            'v': 0.6750503018108652,\n            'f': \"0.6750503018108652\",\n        },\n\"{'C': 10, 'gamma': 10, 'idf': False, 'stop_words': 'english', 'ngram_range': (1, 1)}\"],\n [{\n            'v': 236,\n            'f': \"236\",\n        },\n{\n            'v': 0.6750503018108652,\n            'f': \"0.6750503018108652\",\n        },\n\"{'C': 100, 'gamma': 10, 'idf': False, 'stop_words': 'english', 'ngram_range': (1, 1)}\"],\n [{\n            'v': 210,\n            'f': \"210\",\n        },\n{\n            'v': 0.5201207243460765,\n            'f': \"0.5201207243460765\",\n        },\n\"{'C': 0.1, 'gamma': 10, 'idf': True, 'stop_words': None, 'ngram_range': (1, 1)}\"],\n [{\n            'v': 282,\n            'f': \"282\",\n        },\n{\n            'v': 0.5201207243460765,\n            'f': \"0.5201207243460765\",\n        },\n\"{'C': 100, 'gamma': 100, 'idf': True, 'stop_words': None, 'ngram_range': (1, 1)}\"],\n [{\n            'v': 170,\n            'f': \"170\",\n        },\n{\n            'v': 0.5201207243460765,\n            'f': \"0.5201207243460765\",\n        },\n\"{'C': 1, 'gamma': 1, 'idf': True, 'stop_words': None, 'ngram_range': (1, 1)}\"],\n [{\n            'v': 2,\n            'f': \"2\",\n        },\n{\n            'v': 0.5201207243460765,\n            'f': \"0.5201207243460765\",\n        },\n\"{'C': 0.001, 'gamma': 0.001, 'idf': True, 'stop_words': None, 'ngram_range': (1, 1)}\"],\n [{\n            'v': 274,\n            'f': \"274\",\n        },\n{\n            'v': 0.5201207243460765,\n            'f': \"0.5201207243460765\",\n        },\n\"{'C': 10, 'gamma': 100, 'idf': True, 'stop_words': None, 'ngram_range': (1, 1)}\"],\n [{\n            'v': 50,\n            'f': \"50\",\n        },\n{\n            'v': 0.5201207243460765,\n            'f': \"0.5201207243460765\",\n        },\n\"{'C': 0.001, 'gamma': 0.01, 'idf': True, 'stop_words': None, 'ngram_range': (1, 1)}\"],\n [{\n            'v': 226,\n            'f': \"226\",\n        },\n{\n            'v': 0.5201207243460765,\n            'f': \"0.5201207243460765\",\n        },\n\"{'C': 10, 'gamma': 10, 'idf': True, 'stop_words': None, 'ngram_range': (1, 1)}\"],\n [{\n            'v': 242,\n            'f': \"242\",\n        },\n{\n            'v': 0.5201207243460765,\n            'f': \"0.5201207243460765\",\n        },\n\"{'C': 0.001, 'gamma': 100, 'idf': True, 'stop_words': None, 'ngram_range': (1, 1)}\"],\n [{\n            'v': 266,\n            'f': \"266\",\n        },\n{\n            'v': 0.5201207243460765,\n            'f': \"0.5201207243460765\",\n        },\n\"{'C': 1, 'gamma': 100, 'idf': True, 'stop_words': None, 'ngram_range': (1, 1)}\"],\n [{\n            'v': 42,\n            'f': \"42\",\n        },\n{\n            'v': 0.5201207243460765,\n            'f': \"0.5201207243460765\",\n        },\n\"{'C': 100, 'gamma': 0.001, 'idf': True, 'stop_words': None, 'ngram_range': (1, 1)}\"],\n [{\n            'v': 186,\n            'f': \"186\",\n        },\n{\n            'v': 0.5201207243460765,\n            'f': \"0.5201207243460765\",\n        },\n\"{'C': 100, 'gamma': 1, 'idf': True, 'stop_words': None, 'ngram_range': (1, 1)}\"],\n [{\n            'v': 258,\n            'f': \"258\",\n        },\n{\n            'v': 0.5201207243460765,\n            'f': \"0.5201207243460765\",\n        },\n\"{'C': 0.1, 'gamma': 100, 'idf': True, 'stop_words': None, 'ngram_range': (1, 1)}\"],\n [{\n            'v': 202,\n            'f': \"202\",\n        },\n{\n            'v': 0.5201207243460765,\n            'f': \"0.5201207243460765\",\n        },\n\"{'C': 0.01, 'gamma': 10, 'idf': True, 'stop_words': None, 'ngram_range': (1, 1)}\"],\n [{\n            'v': 218,\n            'f': \"218\",\n        },\n{\n            'v': 0.5201207243460765,\n            'f': \"0.5201207243460765\",\n        },\n\"{'C': 1, 'gamma': 10, 'idf': True, 'stop_words': None, 'ngram_range': (1, 1)}\"],\n [{\n            'v': 250,\n            'f': \"250\",\n        },\n{\n            'v': 0.5201207243460765,\n            'f': \"0.5201207243460765\",\n        },\n\"{'C': 0.01, 'gamma': 100, 'idf': True, 'stop_words': None, 'ngram_range': (1, 1)}\"],\n [{\n            'v': 234,\n            'f': \"234\",\n        },\n{\n            'v': 0.5201207243460765,\n            'f': \"0.5201207243460765\",\n        },\n\"{'C': 100, 'gamma': 10, 'idf': True, 'stop_words': None, 'ngram_range': (1, 1)}\"],\n [{\n            'v': 194,\n            'f': \"194\",\n        },\n{\n            'v': 0.5201207243460765,\n            'f': \"0.5201207243460765\",\n        },\n\"{'C': 0.001, 'gamma': 10, 'idf': True, 'stop_words': None, 'ngram_range': (1, 1)}\"],\n [{\n            'v': 10,\n            'f': \"10\",\n        },\n{\n            'v': 0.5201207243460765,\n            'f': \"0.5201207243460765\",\n        },\n\"{'C': 0.01, 'gamma': 0.001, 'idf': True, 'stop_words': None, 'ngram_range': (1, 1)}\"],\n [{\n            'v': 178,\n            'f': \"178\",\n        },\n{\n            'v': 0.5201207243460765,\n            'f': \"0.5201207243460765\",\n        },\n\"{'C': 10, 'gamma': 1, 'idf': True, 'stop_words': None, 'ngram_range': (1, 1)}\"],\n [{\n            'v': 66,\n            'f': \"66\",\n        },\n{\n            'v': 0.5201207243460765,\n            'f': \"0.5201207243460765\",\n        },\n\"{'C': 0.1, 'gamma': 0.01, 'idf': True, 'stop_words': None, 'ngram_range': (1, 1)}\"],\n [{\n            'v': 138,\n            'f': \"138\",\n        },\n{\n            'v': 0.5201207243460765,\n            'f': \"0.5201207243460765\",\n        },\n\"{'C': 100, 'gamma': 0.1, 'idf': True, 'stop_words': None, 'ngram_range': (1, 1)}\"],\n [{\n            'v': 146,\n            'f': \"146\",\n        },\n{\n            'v': 0.5201207243460765,\n            'f': \"0.5201207243460765\",\n        },\n\"{'C': 0.001, 'gamma': 1, 'idf': True, 'stop_words': None, 'ngram_range': (1, 1)}\"],\n [{\n            'v': 98,\n            'f': \"98\",\n        },\n{\n            'v': 0.5201207243460765,\n            'f': \"0.5201207243460765\",\n        },\n\"{'C': 0.001, 'gamma': 0.1, 'idf': True, 'stop_words': None, 'ngram_range': (1, 1)}\"],\n [{\n            'v': 130,\n            'f': \"130\",\n        },\n{\n            'v': 0.5201207243460765,\n            'f': \"0.5201207243460765\",\n        },\n\"{'C': 10, 'gamma': 0.1, 'idf': True, 'stop_words': None, 'ngram_range': (1, 1)}\"],\n [{\n            'v': 114,\n            'f': \"114\",\n        },\n{\n            'v': 0.5201207243460765,\n            'f': \"0.5201207243460765\",\n        },\n\"{'C': 0.1, 'gamma': 0.1, 'idf': True, 'stop_words': None, 'ngram_range': (1, 1)}\"],\n [{\n            'v': 90,\n            'f': \"90\",\n        },\n{\n            'v': 0.5201207243460765,\n            'f': \"0.5201207243460765\",\n        },\n\"{'C': 100, 'gamma': 0.01, 'idf': True, 'stop_words': None, 'ngram_range': (1, 1)}\"],\n [{\n            'v': 162,\n            'f': \"162\",\n        },\n{\n            'v': 0.5201207243460765,\n            'f': \"0.5201207243460765\",\n        },\n\"{'C': 0.1, 'gamma': 1, 'idf': True, 'stop_words': None, 'ngram_range': (1, 1)}\"],\n [{\n            'v': 82,\n            'f': \"82\",\n        },\n{\n            'v': 0.5201207243460765,\n            'f': \"0.5201207243460765\",\n        },\n\"{'C': 10, 'gamma': 0.01, 'idf': True, 'stop_words': None, 'ngram_range': (1, 1)}\"],\n [{\n            'v': 18,\n            'f': \"18\",\n        },\n{\n            'v': 0.5201207243460765,\n            'f': \"0.5201207243460765\",\n        },\n\"{'C': 0.1, 'gamma': 0.001, 'idf': True, 'stop_words': None, 'ngram_range': (1, 1)}\"],\n [{\n            'v': 26,\n            'f': \"26\",\n        },\n{\n            'v': 0.5201207243460765,\n            'f': \"0.5201207243460765\",\n        },\n\"{'C': 1, 'gamma': 0.001, 'idf': True, 'stop_words': None, 'ngram_range': (1, 1)}\"],\n [{\n            'v': 106,\n            'f': \"106\",\n        },\n{\n            'v': 0.5201207243460765,\n            'f': \"0.5201207243460765\",\n        },\n\"{'C': 0.01, 'gamma': 0.1, 'idf': True, 'stop_words': None, 'ngram_range': (1, 1)}\"],\n [{\n            'v': 154,\n            'f': \"154\",\n        },\n{\n            'v': 0.5201207243460765,\n            'f': \"0.5201207243460765\",\n        },\n\"{'C': 0.01, 'gamma': 1, 'idf': True, 'stop_words': None, 'ngram_range': (1, 1)}\"],\n [{\n            'v': 74,\n            'f': \"74\",\n        },\n{\n            'v': 0.5201207243460765,\n            'f': \"0.5201207243460765\",\n        },\n\"{'C': 1, 'gamma': 0.01, 'idf': True, 'stop_words': None, 'ngram_range': (1, 1)}\"],\n [{\n            'v': 122,\n            'f': \"122\",\n        },\n{\n            'v': 0.5201207243460765,\n            'f': \"0.5201207243460765\",\n        },\n\"{'C': 1, 'gamma': 0.1, 'idf': True, 'stop_words': None, 'ngram_range': (1, 1)}\"],\n [{\n            'v': 58,\n            'f': \"58\",\n        },\n{\n            'v': 0.5201207243460765,\n            'f': \"0.5201207243460765\",\n        },\n\"{'C': 0.01, 'gamma': 0.01, 'idf': True, 'stop_words': None, 'ngram_range': (1, 1)}\"],\n [{\n            'v': 34,\n            'f': \"34\",\n        },\n{\n            'v': 0.5201207243460765,\n            'f': \"0.5201207243460765\",\n        },\n\"{'C': 10, 'gamma': 0.001, 'idf': True, 'stop_words': None, 'ngram_range': (1, 1)}\"],\n [{\n            'v': 235,\n            'f': \"235\",\n        },\n{\n            'v': 0.4154929577464789,\n            'f': \"0.4154929577464789\",\n        },\n\"{'C': 100, 'gamma': 10, 'idf': True, 'stop_words': None, 'ngram_range': (1, 2)}\"],\n [{\n            'v': 115,\n            'f': \"115\",\n        },\n{\n            'v': 0.4154929577464789,\n            'f': \"0.4154929577464789\",\n        },\n\"{'C': 0.1, 'gamma': 0.1, 'idf': True, 'stop_words': None, 'ngram_range': (1, 2)}\"],\n [{\n            'v': 219,\n            'f': \"219\",\n        },\n{\n            'v': 0.4154929577464789,\n            'f': \"0.4154929577464789\",\n        },\n\"{'C': 1, 'gamma': 10, 'idf': True, 'stop_words': None, 'ngram_range': (1, 2)}\"],\n [{\n            'v': 59,\n            'f': \"59\",\n        },\n{\n            'v': 0.4154929577464789,\n            'f': \"0.4154929577464789\",\n        },\n\"{'C': 0.01, 'gamma': 0.01, 'idf': True, 'stop_words': None, 'ngram_range': (1, 2)}\"],\n [{\n            'v': 123,\n            'f': \"123\",\n        },\n{\n            'v': 0.4154929577464789,\n            'f': \"0.4154929577464789\",\n        },\n\"{'C': 1, 'gamma': 0.1, 'idf': True, 'stop_words': None, 'ngram_range': (1, 2)}\"],\n [{\n            'v': 211,\n            'f': \"211\",\n        },\n{\n            'v': 0.4154929577464789,\n            'f': \"0.4154929577464789\",\n        },\n\"{'C': 0.1, 'gamma': 10, 'idf': True, 'stop_words': None, 'ngram_range': (1, 2)}\"],\n [{\n            'v': 227,\n            'f': \"227\",\n        },\n{\n            'v': 0.4154929577464789,\n            'f': \"0.4154929577464789\",\n        },\n\"{'C': 10, 'gamma': 10, 'idf': True, 'stop_words': None, 'ngram_range': (1, 2)}\"],\n [{\n            'v': 107,\n            'f': \"107\",\n        },\n{\n            'v': 0.4154929577464789,\n            'f': \"0.4154929577464789\",\n        },\n\"{'C': 0.01, 'gamma': 0.1, 'idf': True, 'stop_words': None, 'ngram_range': (1, 2)}\"],\n [{\n            'v': 163,\n            'f': \"163\",\n        },\n{\n            'v': 0.4154929577464789,\n            'f': \"0.4154929577464789\",\n        },\n\"{'C': 0.1, 'gamma': 1, 'idf': True, 'stop_words': None, 'ngram_range': (1, 2)}\"],\n [{\n            'v': 91,\n            'f': \"91\",\n        },\n{\n            'v': 0.4154929577464789,\n            'f': \"0.4154929577464789\",\n        },\n\"{'C': 100, 'gamma': 0.01, 'idf': True, 'stop_words': None, 'ngram_range': (1, 2)}\"],\n [{\n            'v': 243,\n            'f': \"243\",\n        },\n{\n            'v': 0.4154929577464789,\n            'f': \"0.4154929577464789\",\n        },\n\"{'C': 0.001, 'gamma': 100, 'idf': True, 'stop_words': None, 'ngram_range': (1, 2)}\"],\n [{\n            'v': 99,\n            'f': \"99\",\n        },\n{\n            'v': 0.4154929577464789,\n            'f': \"0.4154929577464789\",\n        },\n\"{'C': 0.001, 'gamma': 0.1, 'idf': True, 'stop_words': None, 'ngram_range': (1, 2)}\"],\n [{\n            'v': 251,\n            'f': \"251\",\n        },\n{\n            'v': 0.4154929577464789,\n            'f': \"0.4154929577464789\",\n        },\n\"{'C': 0.01, 'gamma': 100, 'idf': True, 'stop_words': None, 'ngram_range': (1, 2)}\"],\n [{\n            'v': 259,\n            'f': \"259\",\n        },\n{\n            'v': 0.4154929577464789,\n            'f': \"0.4154929577464789\",\n        },\n\"{'C': 0.1, 'gamma': 100, 'idf': True, 'stop_words': None, 'ngram_range': (1, 2)}\"],\n [{\n            'v': 83,\n            'f': \"83\",\n        },\n{\n            'v': 0.4154929577464789,\n            'f': \"0.4154929577464789\",\n        },\n\"{'C': 10, 'gamma': 0.01, 'idf': True, 'stop_words': None, 'ngram_range': (1, 2)}\"],\n [{\n            'v': 267,\n            'f': \"267\",\n        },\n{\n            'v': 0.4154929577464789,\n            'f': \"0.4154929577464789\",\n        },\n\"{'C': 1, 'gamma': 100, 'idf': True, 'stop_words': None, 'ngram_range': (1, 2)}\"],\n [{\n            'v': 3,\n            'f': \"3\",\n        },\n{\n            'v': 0.4154929577464789,\n            'f': \"0.4154929577464789\",\n        },\n\"{'C': 0.001, 'gamma': 0.001, 'idf': True, 'stop_words': None, 'ngram_range': (1, 2)}\"],\n [{\n            'v': 275,\n            'f': \"275\",\n        },\n{\n            'v': 0.4154929577464789,\n            'f': \"0.4154929577464789\",\n        },\n\"{'C': 10, 'gamma': 100, 'idf': True, 'stop_words': None, 'ngram_range': (1, 2)}\"],\n [{\n            'v': 75,\n            'f': \"75\",\n        },\n{\n            'v': 0.4154929577464789,\n            'f': \"0.4154929577464789\",\n        },\n\"{'C': 1, 'gamma': 0.01, 'idf': True, 'stop_words': None, 'ngram_range': (1, 2)}\"],\n [{\n            'v': 67,\n            'f': \"67\",\n        },\n{\n            'v': 0.4154929577464789,\n            'f': \"0.4154929577464789\",\n        },\n\"{'C': 0.1, 'gamma': 0.01, 'idf': True, 'stop_words': None, 'ngram_range': (1, 2)}\"],\n [{\n            'v': 35,\n            'f': \"35\",\n        },\n{\n            'v': 0.4154929577464789,\n            'f': \"0.4154929577464789\",\n        },\n\"{'C': 10, 'gamma': 0.001, 'idf': True, 'stop_words': None, 'ngram_range': (1, 2)}\"],\n [{\n            'v': 27,\n            'f': \"27\",\n        },\n{\n            'v': 0.4154929577464789,\n            'f': \"0.4154929577464789\",\n        },\n\"{'C': 1, 'gamma': 0.001, 'idf': True, 'stop_words': None, 'ngram_range': (1, 2)}\"],\n [{\n            'v': 283,\n            'f': \"283\",\n        },\n{\n            'v': 0.4154929577464789,\n            'f': \"0.4154929577464789\",\n        },\n\"{'C': 100, 'gamma': 100, 'idf': True, 'stop_words': None, 'ngram_range': (1, 2)}\"],\n [{\n            'v': 11,\n            'f': \"11\",\n        },\n{\n            'v': 0.4154929577464789,\n            'f': \"0.4154929577464789\",\n        },\n\"{'C': 0.01, 'gamma': 0.001, 'idf': True, 'stop_words': None, 'ngram_range': (1, 2)}\"],\n [{\n            'v': 43,\n            'f': \"43\",\n        },\n{\n            'v': 0.4154929577464789,\n            'f': \"0.4154929577464789\",\n        },\n\"{'C': 100, 'gamma': 0.001, 'idf': True, 'stop_words': None, 'ngram_range': (1, 2)}\"],\n [{\n            'v': 131,\n            'f': \"131\",\n        },\n{\n            'v': 0.4154929577464789,\n            'f': \"0.4154929577464789\",\n        },\n\"{'C': 10, 'gamma': 0.1, 'idf': True, 'stop_words': None, 'ngram_range': (1, 2)}\"],\n [{\n            'v': 171,\n            'f': \"171\",\n        },\n{\n            'v': 0.4154929577464789,\n            'f': \"0.4154929577464789\",\n        },\n\"{'C': 1, 'gamma': 1, 'idf': True, 'stop_words': None, 'ngram_range': (1, 2)}\"],\n [{\n            'v': 187,\n            'f': \"187\",\n        },\n{\n            'v': 0.4154929577464789,\n            'f': \"0.4154929577464789\",\n        },\n\"{'C': 100, 'gamma': 1, 'idf': True, 'stop_words': None, 'ngram_range': (1, 2)}\"],\n [{\n            'v': 147,\n            'f': \"147\",\n        },\n{\n            'v': 0.4154929577464789,\n            'f': \"0.4154929577464789\",\n        },\n\"{'C': 0.001, 'gamma': 1, 'idf': True, 'stop_words': None, 'ngram_range': (1, 2)}\"],\n [{\n            'v': 139,\n            'f': \"139\",\n        },\n{\n            'v': 0.4154929577464789,\n            'f': \"0.4154929577464789\",\n        },\n\"{'C': 100, 'gamma': 0.1, 'idf': True, 'stop_words': None, 'ngram_range': (1, 2)}\"],\n [{\n            'v': 195,\n            'f': \"195\",\n        },\n{\n            'v': 0.4154929577464789,\n            'f': \"0.4154929577464789\",\n        },\n\"{'C': 0.001, 'gamma': 10, 'idf': True, 'stop_words': None, 'ngram_range': (1, 2)}\"],\n [{\n            'v': 19,\n            'f': \"19\",\n        },\n{\n            'v': 0.4154929577464789,\n            'f': \"0.4154929577464789\",\n        },\n\"{'C': 0.1, 'gamma': 0.001, 'idf': True, 'stop_words': None, 'ngram_range': (1, 2)}\"],\n [{\n            'v': 155,\n            'f': \"155\",\n        },\n{\n            'v': 0.4154929577464789,\n            'f': \"0.4154929577464789\",\n        },\n\"{'C': 0.01, 'gamma': 1, 'idf': True, 'stop_words': None, 'ngram_range': (1, 2)}\"],\n [{\n            'v': 179,\n            'f': \"179\",\n        },\n{\n            'v': 0.4154929577464789,\n            'f': \"0.4154929577464789\",\n        },\n\"{'C': 10, 'gamma': 1, 'idf': True, 'stop_words': None, 'ngram_range': (1, 2)}\"],\n [{\n            'v': 203,\n            'f': \"203\",\n        },\n{\n            'v': 0.4154929577464789,\n            'f': \"0.4154929577464789\",\n        },\n\"{'C': 0.01, 'gamma': 10, 'idf': True, 'stop_words': None, 'ngram_range': (1, 2)}\"],\n [{\n            'v': 51,\n            'f': \"51\",\n        },\n{\n            'v': 0.4154929577464789,\n            'f': \"0.4154929577464789\",\n        },\n\"{'C': 0.001, 'gamma': 0.01, 'idf': True, 'stop_words': None, 'ngram_range': (1, 2)}\"],\n [{\n            'v': 158,\n            'f': \"158\",\n        },\n{\n            'v': 0.3470824949698189,\n            'f': \"0.3470824949698189\",\n        },\n\"{'C': 0.01, 'gamma': 1, 'idf': False, 'stop_words': None, 'ngram_range': (1, 1)}\"],\n [{\n            'v': 182,\n            'f': \"182\",\n        },\n{\n            'v': 0.3470824949698189,\n            'f': \"0.3470824949698189\",\n        },\n\"{'C': 10, 'gamma': 1, 'idf': False, 'stop_words': None, 'ngram_range': (1, 1)}\"],\n [{\n            'v': 286,\n            'f': \"286\",\n        },\n{\n            'v': 0.3470824949698189,\n            'f': \"0.3470824949698189\",\n        },\n\"{'C': 100, 'gamma': 100, 'idf': False, 'stop_words': None, 'ngram_range': (1, 1)}\"],\n [{\n            'v': 206,\n            'f': \"206\",\n        },\n{\n            'v': 0.3470824949698189,\n            'f': \"0.3470824949698189\",\n        },\n\"{'C': 0.01, 'gamma': 10, 'idf': False, 'stop_words': None, 'ngram_range': (1, 1)}\"],\n [{\n            'v': 6,\n            'f': \"6\",\n        },\n{\n            'v': 0.3470824949698189,\n            'f': \"0.3470824949698189\",\n        },\n\"{'C': 0.001, 'gamma': 0.001, 'idf': False, 'stop_words': None, 'ngram_range': (1, 1)}\"],\n [{\n            'v': 62,\n            'f': \"62\",\n        },\n{\n            'v': 0.3470824949698189,\n            'f': \"0.3470824949698189\",\n        },\n\"{'C': 0.01, 'gamma': 0.01, 'idf': False, 'stop_words': None, 'ngram_range': (1, 1)}\"],\n [{\n            'v': 14,\n            'f': \"14\",\n        },\n{\n            'v': 0.3470824949698189,\n            'f': \"0.3470824949698189\",\n        },\n\"{'C': 0.01, 'gamma': 0.001, 'idf': False, 'stop_words': None, 'ngram_range': (1, 1)}\"],\n [{\n            'v': 254,\n            'f': \"254\",\n        },\n{\n            'v': 0.3470824949698189,\n            'f': \"0.3470824949698189\",\n        },\n\"{'C': 0.01, 'gamma': 100, 'idf': False, 'stop_words': None, 'ngram_range': (1, 1)}\"],\n [{\n            'v': 94,\n            'f': \"94\",\n        },\n{\n            'v': 0.3470824949698189,\n            'f': \"0.3470824949698189\",\n        },\n\"{'C': 100, 'gamma': 0.01, 'idf': False, 'stop_words': None, 'ngram_range': (1, 1)}\"],\n [{\n            'v': 38,\n            'f': \"38\",\n        },\n{\n            'v': 0.3470824949698189,\n            'f': \"0.3470824949698189\",\n        },\n\"{'C': 10, 'gamma': 0.001, 'idf': False, 'stop_words': None, 'ngram_range': (1, 1)}\"],\n [{\n            'v': 150,\n            'f': \"150\",\n        },\n{\n            'v': 0.3470824949698189,\n            'f': \"0.3470824949698189\",\n        },\n\"{'C': 0.001, 'gamma': 1, 'idf': False, 'stop_words': None, 'ngram_range': (1, 1)}\"],\n [{\n            'v': 278,\n            'f': \"278\",\n        },\n{\n            'v': 0.3470824949698189,\n            'f': \"0.3470824949698189\",\n        },\n\"{'C': 10, 'gamma': 100, 'idf': False, 'stop_words': None, 'ngram_range': (1, 1)}\"],\n [{\n            'v': 70,\n            'f': \"70\",\n        },\n{\n            'v': 0.3470824949698189,\n            'f': \"0.3470824949698189\",\n        },\n\"{'C': 0.1, 'gamma': 0.01, 'idf': False, 'stop_words': None, 'ngram_range': (1, 1)}\"],\n [{\n            'v': 166,\n            'f': \"166\",\n        },\n{\n            'v': 0.3470824949698189,\n            'f': \"0.3470824949698189\",\n        },\n\"{'C': 0.1, 'gamma': 1, 'idf': False, 'stop_words': None, 'ngram_range': (1, 1)}\"],\n [{\n            'v': 262,\n            'f': \"262\",\n        },\n{\n            'v': 0.3470824949698189,\n            'f': \"0.3470824949698189\",\n        },\n\"{'C': 0.1, 'gamma': 100, 'idf': False, 'stop_words': None, 'ngram_range': (1, 1)}\"],\n [{\n            'v': 86,\n            'f': \"86\",\n        },\n{\n            'v': 0.3470824949698189,\n            'f': \"0.3470824949698189\",\n        },\n\"{'C': 10, 'gamma': 0.01, 'idf': False, 'stop_words': None, 'ngram_range': (1, 1)}\"],\n [{\n            'v': 238,\n            'f': \"238\",\n        },\n{\n            'v': 0.3470824949698189,\n            'f': \"0.3470824949698189\",\n        },\n\"{'C': 100, 'gamma': 10, 'idf': False, 'stop_words': None, 'ngram_range': (1, 1)}\"],\n [{\n            'v': 54,\n            'f': \"54\",\n        },\n{\n            'v': 0.3470824949698189,\n            'f': \"0.3470824949698189\",\n        },\n\"{'C': 0.001, 'gamma': 0.01, 'idf': False, 'stop_words': None, 'ngram_range': (1, 1)}\"],\n [{\n            'v': 270,\n            'f': \"270\",\n        },\n{\n            'v': 0.3470824949698189,\n            'f': \"0.3470824949698189\",\n        },\n\"{'C': 1, 'gamma': 100, 'idf': False, 'stop_words': None, 'ngram_range': (1, 1)}\"],\n [{\n            'v': 174,\n            'f': \"174\",\n        },\n{\n            'v': 0.3470824949698189,\n            'f': \"0.3470824949698189\",\n        },\n\"{'C': 1, 'gamma': 1, 'idf': False, 'stop_words': None, 'ngram_range': (1, 1)}\"],\n [{\n            'v': 78,\n            'f': \"78\",\n        },\n{\n            'v': 0.3470824949698189,\n            'f': \"0.3470824949698189\",\n        },\n\"{'C': 1, 'gamma': 0.01, 'idf': False, 'stop_words': None, 'ngram_range': (1, 1)}\"],\n [{\n            'v': 102,\n            'f': \"102\",\n        },\n{\n            'v': 0.3470824949698189,\n            'f': \"0.3470824949698189\",\n        },\n\"{'C': 0.001, 'gamma': 0.1, 'idf': False, 'stop_words': None, 'ngram_range': (1, 1)}\"],\n [{\n            'v': 246,\n            'f': \"246\",\n        },\n{\n            'v': 0.3470824949698189,\n            'f': \"0.3470824949698189\",\n        },\n\"{'C': 0.001, 'gamma': 100, 'idf': False, 'stop_words': None, 'ngram_range': (1, 1)}\"],\n [{\n            'v': 214,\n            'f': \"214\",\n        },\n{\n            'v': 0.3470824949698189,\n            'f': \"0.3470824949698189\",\n        },\n\"{'C': 0.1, 'gamma': 10, 'idf': False, 'stop_words': None, 'ngram_range': (1, 1)}\"],\n [{\n            'v': 110,\n            'f': \"110\",\n        },\n{\n            'v': 0.3470824949698189,\n            'f': \"0.3470824949698189\",\n        },\n\"{'C': 0.01, 'gamma': 0.1, 'idf': False, 'stop_words': None, 'ngram_range': (1, 1)}\"],\n [{\n            'v': 222,\n            'f': \"222\",\n        },\n{\n            'v': 0.3470824949698189,\n            'f': \"0.3470824949698189\",\n        },\n\"{'C': 1, 'gamma': 10, 'idf': False, 'stop_words': None, 'ngram_range': (1, 1)}\"],\n [{\n            'v': 198,\n            'f': \"198\",\n        },\n{\n            'v': 0.3470824949698189,\n            'f': \"0.3470824949698189\",\n        },\n\"{'C': 0.001, 'gamma': 10, 'idf': False, 'stop_words': None, 'ngram_range': (1, 1)}\"],\n [{\n            'v': 30,\n            'f': \"30\",\n        },\n{\n            'v': 0.3470824949698189,\n            'f': \"0.3470824949698189\",\n        },\n\"{'C': 1, 'gamma': 0.001, 'idf': False, 'stop_words': None, 'ngram_range': (1, 1)}\"],\n [{\n            'v': 142,\n            'f': \"142\",\n        },\n{\n            'v': 0.3470824949698189,\n            'f': \"0.3470824949698189\",\n        },\n\"{'C': 100, 'gamma': 0.1, 'idf': False, 'stop_words': None, 'ngram_range': (1, 1)}\"],\n [{\n            'v': 22,\n            'f': \"22\",\n        },\n{\n            'v': 0.3470824949698189,\n            'f': \"0.3470824949698189\",\n        },\n\"{'C': 0.1, 'gamma': 0.001, 'idf': False, 'stop_words': None, 'ngram_range': (1, 1)}\"],\n [{\n            'v': 230,\n            'f': \"230\",\n        },\n{\n            'v': 0.3470824949698189,\n            'f': \"0.3470824949698189\",\n        },\n\"{'C': 10, 'gamma': 10, 'idf': False, 'stop_words': None, 'ngram_range': (1, 1)}\"],\n [{\n            'v': 126,\n            'f': \"126\",\n        },\n{\n            'v': 0.3470824949698189,\n            'f': \"0.3470824949698189\",\n        },\n\"{'C': 1, 'gamma': 0.1, 'idf': False, 'stop_words': None, 'ngram_range': (1, 1)}\"],\n [{\n            'v': 118,\n            'f': \"118\",\n        },\n{\n            'v': 0.3470824949698189,\n            'f': \"0.3470824949698189\",\n        },\n\"{'C': 0.1, 'gamma': 0.1, 'idf': False, 'stop_words': None, 'ngram_range': (1, 1)}\"],\n [{\n            'v': 134,\n            'f': \"134\",\n        },\n{\n            'v': 0.3470824949698189,\n            'f': \"0.3470824949698189\",\n        },\n\"{'C': 10, 'gamma': 0.1, 'idf': False, 'stop_words': None, 'ngram_range': (1, 1)}\"],\n [{\n            'v': 46,\n            'f': \"46\",\n        },\n{\n            'v': 0.3470824949698189,\n            'f': \"0.3470824949698189\",\n        },\n\"{'C': 100, 'gamma': 0.001, 'idf': False, 'stop_words': None, 'ngram_range': (1, 1)}\"],\n [{\n            'v': 190,\n            'f': \"190\",\n        },\n{\n            'v': 0.3470824949698189,\n            'f': \"0.3470824949698189\",\n        },\n\"{'C': 100, 'gamma': 1, 'idf': False, 'stop_words': None, 'ngram_range': (1, 1)}\"],\n [{\n            'v': 279,\n            'f': \"279\",\n        },\n{\n            'v': 0.30784708249496984,\n            'f': \"0.30784708249496984\",\n        },\n\"{'C': 10, 'gamma': 100, 'idf': False, 'stop_words': None, 'ngram_range': (1, 2)}\"],\n [{\n            'v': 175,\n            'f': \"175\",\n        },\n{\n            'v': 0.30784708249496984,\n            'f': \"0.30784708249496984\",\n        },\n\"{'C': 1, 'gamma': 1, 'idf': False, 'stop_words': None, 'ngram_range': (1, 2)}\"],\n [{\n            'v': 207,\n            'f': \"207\",\n        },\n{\n            'v': 0.30784708249496984,\n            'f': \"0.30784708249496984\",\n        },\n\"{'C': 0.01, 'gamma': 10, 'idf': False, 'stop_words': None, 'ngram_range': (1, 2)}\"],\n [{\n            'v': 271,\n            'f': \"271\",\n        },\n{\n            'v': 0.30784708249496984,\n            'f': \"0.30784708249496984\",\n        },\n\"{'C': 1, 'gamma': 100, 'idf': False, 'stop_words': None, 'ngram_range': (1, 2)}\"],\n [{\n            'v': 199,\n            'f': \"199\",\n        },\n{\n            'v': 0.30784708249496984,\n            'f': \"0.30784708249496984\",\n        },\n\"{'C': 0.001, 'gamma': 10, 'idf': False, 'stop_words': None, 'ngram_range': (1, 2)}\"],\n [{\n            'v': 71,\n            'f': \"71\",\n        },\n{\n            'v': 0.30784708249496984,\n            'f': \"0.30784708249496984\",\n        },\n\"{'C': 0.1, 'gamma': 0.01, 'idf': False, 'stop_words': None, 'ngram_range': (1, 2)}\"],\n [{\n            'v': 79,\n            'f': \"79\",\n        },\n{\n            'v': 0.30784708249496984,\n            'f': \"0.30784708249496984\",\n        },\n\"{'C': 1, 'gamma': 0.01, 'idf': False, 'stop_words': None, 'ngram_range': (1, 2)}\"],\n [{\n            'v': 47,\n            'f': \"47\",\n        },\n{\n            'v': 0.30784708249496984,\n            'f': \"0.30784708249496984\",\n        },\n\"{'C': 100, 'gamma': 0.001, 'idf': False, 'stop_words': None, 'ngram_range': (1, 2)}\"],\n [{\n            'v': 167,\n            'f': \"167\",\n        },\n{\n            'v': 0.30784708249496984,\n            'f': \"0.30784708249496984\",\n        },\n\"{'C': 0.1, 'gamma': 1, 'idf': False, 'stop_words': None, 'ngram_range': (1, 2)}\"],\n [{\n            'v': 135,\n            'f': \"135\",\n        },\n{\n            'v': 0.30784708249496984,\n            'f': \"0.30784708249496984\",\n        },\n\"{'C': 10, 'gamma': 0.1, 'idf': False, 'stop_words': None, 'ngram_range': (1, 2)}\"],\n [{\n            'v': 215,\n            'f': \"215\",\n        },\n{\n            'v': 0.30784708249496984,\n            'f': \"0.30784708249496984\",\n        },\n\"{'C': 0.1, 'gamma': 10, 'idf': False, 'stop_words': None, 'ngram_range': (1, 2)}\"],\n [{\n            'v': 15,\n            'f': \"15\",\n        },\n{\n            'v': 0.30784708249496984,\n            'f': \"0.30784708249496984\",\n        },\n\"{'C': 0.01, 'gamma': 0.001, 'idf': False, 'stop_words': None, 'ngram_range': (1, 2)}\"],\n [{\n            'v': 159,\n            'f': \"159\",\n        },\n{\n            'v': 0.30784708249496984,\n            'f': \"0.30784708249496984\",\n        },\n\"{'C': 0.01, 'gamma': 1, 'idf': False, 'stop_words': None, 'ngram_range': (1, 2)}\"],\n [{\n            'v': 127,\n            'f': \"127\",\n        },\n{\n            'v': 0.30784708249496984,\n            'f': \"0.30784708249496984\",\n        },\n\"{'C': 1, 'gamma': 0.1, 'idf': False, 'stop_words': None, 'ngram_range': (1, 2)}\"],\n [{\n            'v': 239,\n            'f': \"239\",\n        },\n{\n            'v': 0.30784708249496984,\n            'f': \"0.30784708249496984\",\n        },\n\"{'C': 100, 'gamma': 10, 'idf': False, 'stop_words': None, 'ngram_range': (1, 2)}\"],\n [{\n            'v': 263,\n            'f': \"263\",\n        },\n{\n            'v': 0.30784708249496984,\n            'f': \"0.30784708249496984\",\n        },\n\"{'C': 0.1, 'gamma': 100, 'idf': False, 'stop_words': None, 'ngram_range': (1, 2)}\"],\n [{\n            'v': 119,\n            'f': \"119\",\n        },\n{\n            'v': 0.30784708249496984,\n            'f': \"0.30784708249496984\",\n        },\n\"{'C': 0.1, 'gamma': 0.1, 'idf': False, 'stop_words': None, 'ngram_range': (1, 2)}\"],\n [{\n            'v': 151,\n            'f': \"151\",\n        },\n{\n            'v': 0.30784708249496984,\n            'f': \"0.30784708249496984\",\n        },\n\"{'C': 0.001, 'gamma': 1, 'idf': False, 'stop_words': None, 'ngram_range': (1, 2)}\"],\n [{\n            'v': 31,\n            'f': \"31\",\n        },\n{\n            'v': 0.30784708249496984,\n            'f': \"0.30784708249496984\",\n        },\n\"{'C': 1, 'gamma': 0.001, 'idf': False, 'stop_words': None, 'ngram_range': (1, 2)}\"],\n [{\n            'v': 103,\n            'f': \"103\",\n        },\n{\n            'v': 0.30784708249496984,\n            'f': \"0.30784708249496984\",\n        },\n\"{'C': 0.001, 'gamma': 0.1, 'idf': False, 'stop_words': None, 'ngram_range': (1, 2)}\"],\n [{\n            'v': 55,\n            'f': \"55\",\n        },\n{\n            'v': 0.30784708249496984,\n            'f': \"0.30784708249496984\",\n        },\n\"{'C': 0.001, 'gamma': 0.01, 'idf': False, 'stop_words': None, 'ngram_range': (1, 2)}\"],\n [{\n            'v': 23,\n            'f': \"23\",\n        },\n{\n            'v': 0.30784708249496984,\n            'f': \"0.30784708249496984\",\n        },\n\"{'C': 0.1, 'gamma': 0.001, 'idf': False, 'stop_words': None, 'ngram_range': (1, 2)}\"],\n [{\n            'v': 143,\n            'f': \"143\",\n        },\n{\n            'v': 0.30784708249496984,\n            'f': \"0.30784708249496984\",\n        },\n\"{'C': 100, 'gamma': 0.1, 'idf': False, 'stop_words': None, 'ngram_range': (1, 2)}\"],\n [{\n            'v': 247,\n            'f': \"247\",\n        },\n{\n            'v': 0.30784708249496984,\n            'f': \"0.30784708249496984\",\n        },\n\"{'C': 0.001, 'gamma': 100, 'idf': False, 'stop_words': None, 'ngram_range': (1, 2)}\"],\n [{\n            'v': 191,\n            'f': \"191\",\n        },\n{\n            'v': 0.30784708249496984,\n            'f': \"0.30784708249496984\",\n        },\n\"{'C': 100, 'gamma': 1, 'idf': False, 'stop_words': None, 'ngram_range': (1, 2)}\"],\n [{\n            'v': 39,\n            'f': \"39\",\n        },\n{\n            'v': 0.30784708249496984,\n            'f': \"0.30784708249496984\",\n        },\n\"{'C': 10, 'gamma': 0.001, 'idf': False, 'stop_words': None, 'ngram_range': (1, 2)}\"],\n [{\n            'v': 231,\n            'f': \"231\",\n        },\n{\n            'v': 0.30784708249496984,\n            'f': \"0.30784708249496984\",\n        },\n\"{'C': 10, 'gamma': 10, 'idf': False, 'stop_words': None, 'ngram_range': (1, 2)}\"],\n [{\n            'v': 63,\n            'f': \"63\",\n        },\n{\n            'v': 0.30784708249496984,\n            'f': \"0.30784708249496984\",\n        },\n\"{'C': 0.01, 'gamma': 0.01, 'idf': False, 'stop_words': None, 'ngram_range': (1, 2)}\"],\n [{\n            'v': 95,\n            'f': \"95\",\n        },\n{\n            'v': 0.30784708249496984,\n            'f': \"0.30784708249496984\",\n        },\n\"{'C': 100, 'gamma': 0.01, 'idf': False, 'stop_words': None, 'ngram_range': (1, 2)}\"],\n [{\n            'v': 255,\n            'f': \"255\",\n        },\n{\n            'v': 0.30784708249496984,\n            'f': \"0.30784708249496984\",\n        },\n\"{'C': 0.01, 'gamma': 100, 'idf': False, 'stop_words': None, 'ngram_range': (1, 2)}\"],\n [{\n            'v': 111,\n            'f': \"111\",\n        },\n{\n            'v': 0.30784708249496984,\n            'f': \"0.30784708249496984\",\n        },\n\"{'C': 0.01, 'gamma': 0.1, 'idf': False, 'stop_words': None, 'ngram_range': (1, 2)}\"],\n [{\n            'v': 183,\n            'f': \"183\",\n        },\n{\n            'v': 0.30784708249496984,\n            'f': \"0.30784708249496984\",\n        },\n\"{'C': 10, 'gamma': 1, 'idf': False, 'stop_words': None, 'ngram_range': (1, 2)}\"],\n [{\n            'v': 87,\n            'f': \"87\",\n        },\n{\n            'v': 0.30784708249496984,\n            'f': \"0.30784708249496984\",\n        },\n\"{'C': 10, 'gamma': 0.01, 'idf': False, 'stop_words': None, 'ngram_range': (1, 2)}\"],\n [{\n            'v': 223,\n            'f': \"223\",\n        },\n{\n            'v': 0.30784708249496984,\n            'f': \"0.30784708249496984\",\n        },\n\"{'C': 1, 'gamma': 10, 'idf': False, 'stop_words': None, 'ngram_range': (1, 2)}\"],\n [{\n            'v': 7,\n            'f': \"7\",\n        },\n{\n            'v': 0.30784708249496984,\n            'f': \"0.30784708249496984\",\n        },\n\"{'C': 0.001, 'gamma': 0.001, 'idf': False, 'stop_words': None, 'ngram_range': (1, 2)}\"],\n [{\n            'v': 287,\n            'f': \"287\",\n        },\n{\n            'v': 0.30784708249496984,\n            'f': \"0.30784708249496984\",\n        },\n\"{'C': 100, 'gamma': 100, 'idf': False, 'stop_words': None, 'ngram_range': (1, 2)}\"]],\n        columns: [[\"number\", \"index\"], [\"number\", \"Top1 Acc.\"], [\"string\", \"SVM Classifier Parameters\"]],\n        columnOptions: [{\"width\": \"1px\", \"className\": \"index_column\"}],\n        rowsPerPage: 25,\n        helpUrl: \"https://colab.research.google.com/notebooks/data_table.ipynb\",\n        suppressOutputScrolling: true,\n        minimumWidth: undefined,\n      });\n    ",
            "text/plain": [
              "<google.colab.data_table.DataTable object>"
            ],
            "text/html": [
              "<div>\n",
              "<style scoped>\n",
              "    .dataframe tbody tr th:only-of-type {\n",
              "        vertical-align: middle;\n",
              "    }\n",
              "\n",
              "    .dataframe tbody tr th {\n",
              "        vertical-align: top;\n",
              "    }\n",
              "\n",
              "    .dataframe thead th {\n",
              "        text-align: right;\n",
              "    }\n",
              "</style>\n",
              "<table border=\"1\" class=\"dataframe\">\n",
              "  <thead>\n",
              "    <tr style=\"text-align: right;\">\n",
              "      <th></th>\n",
              "      <th>Top1 Acc.</th>\n",
              "      <th>SVM Classifier Parameters</th>\n",
              "    </tr>\n",
              "  </thead>\n",
              "  <tbody>\n",
              "    <tr>\n",
              "      <th>0</th>\n",
              "      <td>0.734406</td>\n",
              "      <td>{'C': 0.001, 'gamma': 0.001, 'idf': True, 'sto...</td>\n",
              "    </tr>\n",
              "    <tr>\n",
              "      <th>32</th>\n",
              "      <td>0.734406</td>\n",
              "      <td>{'C': 10, 'gamma': 0.001, 'idf': True, 'stop_w...</td>\n",
              "    </tr>\n",
              "    <tr>\n",
              "      <th>48</th>\n",
              "      <td>0.734406</td>\n",
              "      <td>{'C': 0.001, 'gamma': 0.01, 'idf': True, 'stop...</td>\n",
              "    </tr>\n",
              "    <tr>\n",
              "      <th>56</th>\n",
              "      <td>0.734406</td>\n",
              "      <td>{'C': 0.01, 'gamma': 0.01, 'idf': True, 'stop_...</td>\n",
              "    </tr>\n",
              "    <tr>\n",
              "      <th>64</th>\n",
              "      <td>0.734406</td>\n",
              "      <td>{'C': 0.1, 'gamma': 0.01, 'idf': True, 'stop_w...</td>\n",
              "    </tr>\n",
              "    <tr>\n",
              "      <th>...</th>\n",
              "      <td>...</td>\n",
              "      <td>...</td>\n",
              "    </tr>\n",
              "    <tr>\n",
              "      <th>183</th>\n",
              "      <td>0.307847</td>\n",
              "      <td>{'C': 10, 'gamma': 1, 'idf': False, 'stop_word...</td>\n",
              "    </tr>\n",
              "    <tr>\n",
              "      <th>87</th>\n",
              "      <td>0.307847</td>\n",
              "      <td>{'C': 10, 'gamma': 0.01, 'idf': False, 'stop_w...</td>\n",
              "    </tr>\n",
              "    <tr>\n",
              "      <th>223</th>\n",
              "      <td>0.307847</td>\n",
              "      <td>{'C': 1, 'gamma': 10, 'idf': False, 'stop_word...</td>\n",
              "    </tr>\n",
              "    <tr>\n",
              "      <th>7</th>\n",
              "      <td>0.307847</td>\n",
              "      <td>{'C': 0.001, 'gamma': 0.001, 'idf': False, 'st...</td>\n",
              "    </tr>\n",
              "    <tr>\n",
              "      <th>287</th>\n",
              "      <td>0.307847</td>\n",
              "      <td>{'C': 100, 'gamma': 100, 'idf': False, 'stop_w...</td>\n",
              "    </tr>\n",
              "  </tbody>\n",
              "</table>\n",
              "<p>288 rows × 2 columns</p>\n",
              "</div>"
            ]
          },
          "metadata": {
            "tags": []
          },
          "execution_count": 113
        }
      ]
    },
    {
      "cell_type": "markdown",
      "metadata": {
        "id": "AyqYb-Vz1vE7",
        "colab_type": "text"
      },
      "source": [
        "### Multinomial Naive Bayes classifier"
      ]
    },
    {
      "cell_type": "code",
      "metadata": {
        "id": "XlHKLJRMonbE",
        "colab_type": "code",
        "outputId": "95074166-e578-498d-ff0d-d2120307ec60",
        "colab": {
          "base_uri": "https://localhost:8080/",
          "height": 51
        }
      },
      "source": [
        "best_mnb_wiki_score = 0\n",
        "mnb_wiki_models_params = list()\n",
        "for alpha in [0.001, 0.01, 0.1, 1]:\n",
        "    for idf in [True, False]:\n",
        "        for stop_words in ['english', None]:\n",
        "            for ngram_range in [(1,1), (1,2)]:\n",
        "                # for each combination of parameters, train an SVC\n",
        "                mnb = Pipeline([('vect', CountVectorizer(stop_words=stop_words,ngram_range=ngram_range)),\n",
        "                                ('tfidf', TfidfTransformer(use_idf=idf)),\n",
        "                                ('clf', MultinomialNB(alpha=alpha)),\n",
        "                                ])    \n",
        "                mnb.fit(x_train, y_train)\n",
        "                # evaluate the SVC on the test set\n",
        "                score = mnb.score(x_test, y_test)\n",
        "\n",
        "                params = {'alpha': alpha, 'idf': idf, 'stop_words':stop_words, 'ngram_range':ngram_range}\n",
        "                mnb_wiki_models_params.append((score, params))\n",
        "                # if we got a better score, store the score and parameters\n",
        "                if score > best_mnb_wiki_score:\n",
        "                    best_mnb_wiki_score = score\n",
        "                    best_mnb_wiki_parameters = {'alpha': alpha, 'idf': idf, 'stop_words':stop_words, 'ngram_range':ngram_range}\n",
        "\n",
        "print(\"Best score: {:.2f}\".format(best_mnb_wiki_score))\n",
        "print(\"Best parameters: {}\".format(best_mnb_wiki_parameters))"
      ],
      "execution_count": 0,
      "outputs": [
        {
          "output_type": "stream",
          "text": [
            "Best score: 0.74\n",
            "Best parameters: {'alpha': 1, 'idf': True, 'stop_words': 'english', 'ngram_range': (1, 1)}\n"
          ],
          "name": "stdout"
        }
      ]
    },
    {
      "cell_type": "code",
      "metadata": {
        "id": "RPVP1nVeortS",
        "colab_type": "code",
        "outputId": "1d9a7ecf-4bd1-45c3-e6b0-5e461ac0c309",
        "colab": {
          "base_uri": "https://localhost:8080/",
          "height": 623
        }
      },
      "source": [
        "df = pd.DataFrame.from_dict(mnb_wiki_models_params)\n",
        "df.columns = ['Top1 Acc.', 'Multinomial NB Classifier Parameters']\n",
        "DataTable(df.sort_values(by=['Top1 Acc.'], ascending=False))"
      ],
      "execution_count": 0,
      "outputs": [
        {
          "output_type": "execute_result",
          "data": {
            "application/vnd.google.colaboratory.module+javascript": "\n      import \"https://ssl.gstatic.com/colaboratory/data_table/a6224c040fa35dcf/data_table.js\";\n\n      window.createDataTable({\n        data: [[{\n            'v': 24,\n            'f': \"24\",\n        },\n{\n            'v': 0.738430583501006,\n            'f': \"0.738430583501006\",\n        },\n\"{'alpha': 1, 'idf': True, 'stop_words': 'english', 'ngram_range': (1, 1)}\"],\n [{\n            'v': 25,\n            'f': \"25\",\n        },\n{\n            'v': 0.7374245472837022,\n            'f': \"0.7374245472837022\",\n        },\n\"{'alpha': 1, 'idf': True, 'stop_words': 'english', 'ngram_range': (1, 2)}\"],\n [{\n            'v': 17,\n            'f': \"17\",\n        },\n{\n            'v': 0.7374245472837022,\n            'f': \"0.7374245472837022\",\n        },\n\"{'alpha': 0.1, 'idf': True, 'stop_words': 'english', 'ngram_range': (1, 2)}\"],\n [{\n            'v': 16,\n            'f': \"16\",\n        },\n{\n            'v': 0.7323943661971831,\n            'f': \"0.7323943661971831\",\n        },\n\"{'alpha': 0.1, 'idf': True, 'stop_words': 'english', 'ngram_range': (1, 1)}\"],\n [{\n            'v': 9,\n            'f': \"9\",\n        },\n{\n            'v': 0.710261569416499,\n            'f': \"0.710261569416499\",\n        },\n\"{'alpha': 0.01, 'idf': True, 'stop_words': 'english', 'ngram_range': (1, 2)}\"],\n [{\n            'v': 8,\n            'f': \"8\",\n        },\n{\n            'v': 0.6971830985915493,\n            'f': \"0.6971830985915493\",\n        },\n\"{'alpha': 0.01, 'idf': True, 'stop_words': 'english', 'ngram_range': (1, 1)}\"],\n [{\n            'v': 29,\n            'f': \"29\",\n        },\n{\n            'v': 0.6911468812877264,\n            'f': \"0.6911468812877264\",\n        },\n\"{'alpha': 1, 'idf': False, 'stop_words': 'english', 'ngram_range': (1, 2)}\"],\n [{\n            'v': 21,\n            'f': \"21\",\n        },\n{\n            'v': 0.6891348088531187,\n            'f': \"0.6891348088531187\",\n        },\n\"{'alpha': 0.1, 'idf': False, 'stop_words': 'english', 'ngram_range': (1, 2)}\"],\n [{\n            'v': 13,\n            'f': \"13\",\n        },\n{\n            'v': 0.6851106639839034,\n            'f': \"0.6851106639839034\",\n        },\n\"{'alpha': 0.01, 'idf': False, 'stop_words': 'english', 'ngram_range': (1, 2)}\"],\n [{\n            'v': 20,\n            'f': \"20\",\n        },\n{\n            'v': 0.6810865191146881,\n            'f': \"0.6810865191146881\",\n        },\n\"{'alpha': 0.1, 'idf': False, 'stop_words': 'english', 'ngram_range': (1, 1)}\"],\n [{\n            'v': 12,\n            'f': \"12\",\n        },\n{\n            'v': 0.6770623742454729,\n            'f': \"0.6770623742454729\",\n        },\n\"{'alpha': 0.01, 'idf': False, 'stop_words': 'english', 'ngram_range': (1, 1)}\"],\n [{\n            'v': 28,\n            'f': \"28\",\n        },\n{\n            'v': 0.6750503018108652,\n            'f': \"0.6750503018108652\",\n        },\n\"{'alpha': 1, 'idf': False, 'stop_words': 'english', 'ngram_range': (1, 1)}\"],\n [{\n            'v': 10,\n            'f': \"10\",\n        },\n{\n            'v': 0.6549295774647887,\n            'f': \"0.6549295774647887\",\n        },\n\"{'alpha': 0.01, 'idf': True, 'stop_words': None, 'ngram_range': (1, 1)}\"],\n [{\n            'v': 1,\n            'f': \"1\",\n        },\n{\n            'v': 0.6498993963782697,\n            'f': \"0.6498993963782697\",\n        },\n\"{'alpha': 0.001, 'idf': True, 'stop_words': 'english', 'ngram_range': (1, 2)}\"],\n [{\n            'v': 11,\n            'f': \"11\",\n        },\n{\n            'v': 0.6498993963782697,\n            'f': \"0.6498993963782697\",\n        },\n\"{'alpha': 0.01, 'idf': True, 'stop_words': None, 'ngram_range': (1, 2)}\"],\n [{\n            'v': 0,\n            'f': \"0\",\n        },\n{\n            'v': 0.6368209255533199,\n            'f': \"0.6368209255533199\",\n        },\n\"{'alpha': 0.001, 'idf': True, 'stop_words': 'english', 'ngram_range': (1, 1)}\"],\n [{\n            'v': 5,\n            'f': \"5\",\n        },\n{\n            'v': 0.6338028169014085,\n            'f': \"0.6338028169014085\",\n        },\n\"{'alpha': 0.001, 'idf': False, 'stop_words': 'english', 'ngram_range': (1, 2)}\"],\n [{\n            'v': 3,\n            'f': \"3\",\n        },\n{\n            'v': 0.6317907444668008,\n            'f': \"0.6317907444668008\",\n        },\n\"{'alpha': 0.001, 'idf': True, 'stop_words': None, 'ngram_range': (1, 2)}\"],\n [{\n            'v': 2,\n            'f': \"2\",\n        },\n{\n            'v': 0.6267605633802817,\n            'f': \"0.6267605633802817\",\n        },\n\"{'alpha': 0.001, 'idf': True, 'stop_words': None, 'ngram_range': (1, 1)}\"],\n [{\n            'v': 4,\n            'f': \"4\",\n        },\n{\n            'v': 0.6227364185110664,\n            'f': \"0.6227364185110664\",\n        },\n\"{'alpha': 0.001, 'idf': False, 'stop_words': 'english', 'ngram_range': (1, 1)}\"],\n [{\n            'v': 18,\n            'f': \"18\",\n        },\n{\n            'v': 0.6106639839034205,\n            'f': \"0.6106639839034205\",\n        },\n\"{'alpha': 0.1, 'idf': True, 'stop_words': None, 'ngram_range': (1, 1)}\"],\n [{\n            'v': 6,\n            'f': \"6\",\n        },\n{\n            'v': 0.5885311871227364,\n            'f': \"0.5885311871227364\",\n        },\n\"{'alpha': 0.001, 'idf': False, 'stop_words': None, 'ngram_range': (1, 1)}\"],\n [{\n            'v': 7,\n            'f': \"7\",\n        },\n{\n            'v': 0.5704225352112676,\n            'f': \"0.5704225352112676\",\n        },\n\"{'alpha': 0.001, 'idf': False, 'stop_words': None, 'ngram_range': (1, 2)}\"],\n [{\n            'v': 19,\n            'f': \"19\",\n        },\n{\n            'v': 0.5533199195171026,\n            'f': \"0.5533199195171026\",\n        },\n\"{'alpha': 0.1, 'idf': True, 'stop_words': None, 'ngram_range': (1, 2)}\"],\n [{\n            'v': 14,\n            'f': \"14\",\n        },\n{\n            'v': 0.5503018108651911,\n            'f': \"0.5503018108651911\",\n        },\n\"{'alpha': 0.01, 'idf': False, 'stop_words': None, 'ngram_range': (1, 1)}\"],\n [{\n            'v': 26,\n            'f': \"26\",\n        },\n{\n            'v': 0.53420523138833,\n            'f': \"0.53420523138833\",\n        },\n\"{'alpha': 1, 'idf': True, 'stop_words': None, 'ngram_range': (1, 1)}\"],\n [{\n            'v': 15,\n            'f': \"15\",\n        },\n{\n            'v': 0.5321931589537223,\n            'f': \"0.5321931589537223\",\n        },\n\"{'alpha': 0.01, 'idf': False, 'stop_words': None, 'ngram_range': (1, 2)}\"],\n [{\n            'v': 27,\n            'f': \"27\",\n        },\n{\n            'v': 0.4476861167002012,\n            'f': \"0.4476861167002012\",\n        },\n\"{'alpha': 1, 'idf': True, 'stop_words': None, 'ngram_range': (1, 2)}\"],\n [{\n            'v': 22,\n            'f': \"22\",\n        },\n{\n            'v': 0.37424547283702214,\n            'f': \"0.37424547283702214\",\n        },\n\"{'alpha': 0.1, 'idf': False, 'stop_words': None, 'ngram_range': (1, 1)}\"],\n [{\n            'v': 30,\n            'f': \"30\",\n        },\n{\n            'v': 0.34305835010060365,\n            'f': \"0.34305835010060365\",\n        },\n\"{'alpha': 1, 'idf': False, 'stop_words': None, 'ngram_range': (1, 1)}\"],\n [{\n            'v': 23,\n            'f': \"23\",\n        },\n{\n            'v': 0.33601609657947684,\n            'f': \"0.33601609657947684\",\n        },\n\"{'alpha': 0.1, 'idf': False, 'stop_words': None, 'ngram_range': (1, 2)}\"],\n [{\n            'v': 31,\n            'f': \"31\",\n        },\n{\n            'v': 0.3058350100603622,\n            'f': \"0.3058350100603622\",\n        },\n\"{'alpha': 1, 'idf': False, 'stop_words': None, 'ngram_range': (1, 2)}\"]],\n        columns: [[\"number\", \"index\"], [\"number\", \"Top1 Acc.\"], [\"string\", \"Multinomial NB Classifier Parameters\"]],\n        columnOptions: [{\"width\": \"1px\", \"className\": \"index_column\"}],\n        rowsPerPage: 25,\n        helpUrl: \"https://colab.research.google.com/notebooks/data_table.ipynb\",\n        suppressOutputScrolling: true,\n        minimumWidth: undefined,\n      });\n    ",
            "text/plain": [
              "<google.colab.data_table.DataTable object>"
            ],
            "text/html": [
              "<div>\n",
              "<style scoped>\n",
              "    .dataframe tbody tr th:only-of-type {\n",
              "        vertical-align: middle;\n",
              "    }\n",
              "\n",
              "    .dataframe tbody tr th {\n",
              "        vertical-align: top;\n",
              "    }\n",
              "\n",
              "    .dataframe thead th {\n",
              "        text-align: right;\n",
              "    }\n",
              "</style>\n",
              "<table border=\"1\" class=\"dataframe\">\n",
              "  <thead>\n",
              "    <tr style=\"text-align: right;\">\n",
              "      <th></th>\n",
              "      <th>Top1 Acc.</th>\n",
              "      <th>Multinomial NB Classifier Parameters</th>\n",
              "    </tr>\n",
              "  </thead>\n",
              "  <tbody>\n",
              "    <tr>\n",
              "      <th>24</th>\n",
              "      <td>0.738431</td>\n",
              "      <td>{'alpha': 1, 'idf': True, 'stop_words': 'engli...</td>\n",
              "    </tr>\n",
              "    <tr>\n",
              "      <th>25</th>\n",
              "      <td>0.737425</td>\n",
              "      <td>{'alpha': 1, 'idf': True, 'stop_words': 'engli...</td>\n",
              "    </tr>\n",
              "    <tr>\n",
              "      <th>17</th>\n",
              "      <td>0.737425</td>\n",
              "      <td>{'alpha': 0.1, 'idf': True, 'stop_words': 'eng...</td>\n",
              "    </tr>\n",
              "    <tr>\n",
              "      <th>16</th>\n",
              "      <td>0.732394</td>\n",
              "      <td>{'alpha': 0.1, 'idf': True, 'stop_words': 'eng...</td>\n",
              "    </tr>\n",
              "    <tr>\n",
              "      <th>9</th>\n",
              "      <td>0.710262</td>\n",
              "      <td>{'alpha': 0.01, 'idf': True, 'stop_words': 'en...</td>\n",
              "    </tr>\n",
              "    <tr>\n",
              "      <th>8</th>\n",
              "      <td>0.697183</td>\n",
              "      <td>{'alpha': 0.01, 'idf': True, 'stop_words': 'en...</td>\n",
              "    </tr>\n",
              "    <tr>\n",
              "      <th>29</th>\n",
              "      <td>0.691147</td>\n",
              "      <td>{'alpha': 1, 'idf': False, 'stop_words': 'engl...</td>\n",
              "    </tr>\n",
              "    <tr>\n",
              "      <th>21</th>\n",
              "      <td>0.689135</td>\n",
              "      <td>{'alpha': 0.1, 'idf': False, 'stop_words': 'en...</td>\n",
              "    </tr>\n",
              "    <tr>\n",
              "      <th>13</th>\n",
              "      <td>0.685111</td>\n",
              "      <td>{'alpha': 0.01, 'idf': False, 'stop_words': 'e...</td>\n",
              "    </tr>\n",
              "    <tr>\n",
              "      <th>20</th>\n",
              "      <td>0.681087</td>\n",
              "      <td>{'alpha': 0.1, 'idf': False, 'stop_words': 'en...</td>\n",
              "    </tr>\n",
              "    <tr>\n",
              "      <th>12</th>\n",
              "      <td>0.677062</td>\n",
              "      <td>{'alpha': 0.01, 'idf': False, 'stop_words': 'e...</td>\n",
              "    </tr>\n",
              "    <tr>\n",
              "      <th>28</th>\n",
              "      <td>0.675050</td>\n",
              "      <td>{'alpha': 1, 'idf': False, 'stop_words': 'engl...</td>\n",
              "    </tr>\n",
              "    <tr>\n",
              "      <th>10</th>\n",
              "      <td>0.654930</td>\n",
              "      <td>{'alpha': 0.01, 'idf': True, 'stop_words': Non...</td>\n",
              "    </tr>\n",
              "    <tr>\n",
              "      <th>1</th>\n",
              "      <td>0.649899</td>\n",
              "      <td>{'alpha': 0.001, 'idf': True, 'stop_words': 'e...</td>\n",
              "    </tr>\n",
              "    <tr>\n",
              "      <th>11</th>\n",
              "      <td>0.649899</td>\n",
              "      <td>{'alpha': 0.01, 'idf': True, 'stop_words': Non...</td>\n",
              "    </tr>\n",
              "    <tr>\n",
              "      <th>0</th>\n",
              "      <td>0.636821</td>\n",
              "      <td>{'alpha': 0.001, 'idf': True, 'stop_words': 'e...</td>\n",
              "    </tr>\n",
              "    <tr>\n",
              "      <th>5</th>\n",
              "      <td>0.633803</td>\n",
              "      <td>{'alpha': 0.001, 'idf': False, 'stop_words': '...</td>\n",
              "    </tr>\n",
              "    <tr>\n",
              "      <th>3</th>\n",
              "      <td>0.631791</td>\n",
              "      <td>{'alpha': 0.001, 'idf': True, 'stop_words': No...</td>\n",
              "    </tr>\n",
              "    <tr>\n",
              "      <th>2</th>\n",
              "      <td>0.626761</td>\n",
              "      <td>{'alpha': 0.001, 'idf': True, 'stop_words': No...</td>\n",
              "    </tr>\n",
              "    <tr>\n",
              "      <th>4</th>\n",
              "      <td>0.622736</td>\n",
              "      <td>{'alpha': 0.001, 'idf': False, 'stop_words': '...</td>\n",
              "    </tr>\n",
              "    <tr>\n",
              "      <th>18</th>\n",
              "      <td>0.610664</td>\n",
              "      <td>{'alpha': 0.1, 'idf': True, 'stop_words': None...</td>\n",
              "    </tr>\n",
              "    <tr>\n",
              "      <th>6</th>\n",
              "      <td>0.588531</td>\n",
              "      <td>{'alpha': 0.001, 'idf': False, 'stop_words': N...</td>\n",
              "    </tr>\n",
              "    <tr>\n",
              "      <th>7</th>\n",
              "      <td>0.570423</td>\n",
              "      <td>{'alpha': 0.001, 'idf': False, 'stop_words': N...</td>\n",
              "    </tr>\n",
              "    <tr>\n",
              "      <th>19</th>\n",
              "      <td>0.553320</td>\n",
              "      <td>{'alpha': 0.1, 'idf': True, 'stop_words': None...</td>\n",
              "    </tr>\n",
              "    <tr>\n",
              "      <th>14</th>\n",
              "      <td>0.550302</td>\n",
              "      <td>{'alpha': 0.01, 'idf': False, 'stop_words': No...</td>\n",
              "    </tr>\n",
              "    <tr>\n",
              "      <th>26</th>\n",
              "      <td>0.534205</td>\n",
              "      <td>{'alpha': 1, 'idf': True, 'stop_words': None, ...</td>\n",
              "    </tr>\n",
              "    <tr>\n",
              "      <th>15</th>\n",
              "      <td>0.532193</td>\n",
              "      <td>{'alpha': 0.01, 'idf': False, 'stop_words': No...</td>\n",
              "    </tr>\n",
              "    <tr>\n",
              "      <th>27</th>\n",
              "      <td>0.447686</td>\n",
              "      <td>{'alpha': 1, 'idf': True, 'stop_words': None, ...</td>\n",
              "    </tr>\n",
              "    <tr>\n",
              "      <th>22</th>\n",
              "      <td>0.374245</td>\n",
              "      <td>{'alpha': 0.1, 'idf': False, 'stop_words': Non...</td>\n",
              "    </tr>\n",
              "    <tr>\n",
              "      <th>30</th>\n",
              "      <td>0.343058</td>\n",
              "      <td>{'alpha': 1, 'idf': False, 'stop_words': None,...</td>\n",
              "    </tr>\n",
              "    <tr>\n",
              "      <th>23</th>\n",
              "      <td>0.336016</td>\n",
              "      <td>{'alpha': 0.1, 'idf': False, 'stop_words': Non...</td>\n",
              "    </tr>\n",
              "    <tr>\n",
              "      <th>31</th>\n",
              "      <td>0.305835</td>\n",
              "      <td>{'alpha': 1, 'idf': False, 'stop_words': None,...</td>\n",
              "    </tr>\n",
              "  </tbody>\n",
              "</table>\n",
              "</div>"
            ]
          },
          "metadata": {
            "tags": []
          },
          "execution_count": 115
        }
      ]
    },
    {
      "cell_type": "markdown",
      "metadata": {
        "id": "IpYsaIDMtwnN",
        "colab_type": "text"
      },
      "source": [
        "## Comparing default models vs best parameters found"
      ]
    },
    {
      "cell_type": "markdown",
      "metadata": {
        "id": "rVaTG6OzubwM",
        "colab_type": "text"
      },
      "source": [
        "### Wiki dataset"
      ]
    },
    {
      "cell_type": "code",
      "metadata": {
        "id": "lCZ8trGP8gT6",
        "colab_type": "code",
        "colab": {}
      },
      "source": [
        "x_train, y_train, x_test, y_test = doc_utils.processClassifierData(engineering_topic_defs, \n",
        "                                                                   engineering_articles,\n",
        "                                                                   topics = doc_utils.ALL_TOPICS,\n",
        "                                                                   dataset_type =\"wiki\")"
      ],
      "execution_count": 0,
      "outputs": []
    },
    {
      "cell_type": "code",
      "metadata": {
        "id": "SQ7FM9mzoscc",
        "colab_type": "code",
        "outputId": "0241a736-d399-438b-d63b-ff38678ca91f",
        "colab": {
          "base_uri": "https://localhost:8080/",
          "height": 408
        }
      },
      "source": [
        "default_mnb = Pipeline([('vect', CountVectorizer()),\n",
        "                ('tfidf', TfidfTransformer()),\n",
        "                ('clf', MultinomialNB()),\n",
        "                ])\n",
        "default_mnb.fit(x_train, y_train)\n",
        "\n",
        "default_score = default_mnb.score(x_test, y_test)\n",
        "print(\"-->DEFAULT MNB Classifier - TOP1 Accuracy: \", default_score)\n",
        "pprint(default_mnb.get_params(deep=False)['steps'])\n",
        "\n",
        "\n",
        "stop_words = best_mnb_wiki_parameters['stop_words']\n",
        "ngram_range =best_mnb_wiki_parameters['ngram_range']\n",
        "idf = best_mnb_wiki_parameters['idf']\n",
        "alpha = best_mnb_wiki_parameters['alpha']\n",
        "\n",
        "mnb = Pipeline([('vect', CountVectorizer(stop_words=stop_words,ngram_range=ngram_range)),\n",
        "                ('tfidf', TfidfTransformer(use_idf=idf)),\n",
        "                ('clf', MultinomialNB(alpha=alpha)),\n",
        "                ])\n",
        "mnb.fit(x_train, y_train)\n",
        "\n",
        "score = mnb.score(x_test, y_test)\n",
        "print(\"\\n-->Best MNB classifier - TOP1 Accuracy:\", score)\n",
        "pprint(mnb.get_params(deep=False)['steps'])\n"
      ],
      "execution_count": 127,
      "outputs": [
        {
          "output_type": "stream",
          "text": [
            "-->DEFAULT MNB Classifier - TOP1 Accuracy:  0.53420523138833\n",
            "[('vect',\n",
            "  CountVectorizer(analyzer='word', binary=False, decode_error='strict',\n",
            "                dtype=<class 'numpy.int64'>, encoding='utf-8', input='content',\n",
            "                lowercase=True, max_df=1.0, max_features=None, min_df=1,\n",
            "                ngram_range=(1, 1), preprocessor=None, stop_words=None,\n",
            "                strip_accents=None, token_pattern='(?u)\\\\b\\\\w\\\\w+\\\\b',\n",
            "                tokenizer=None, vocabulary=None)),\n",
            " ('tfidf',\n",
            "  TfidfTransformer(norm='l2', smooth_idf=True, sublinear_tf=False, use_idf=True)),\n",
            " ('clf', MultinomialNB(alpha=1.0, class_prior=None, fit_prior=True))]\n",
            "\n",
            "-->Best MNB classifier - TOP1 Accuracy: 0.738430583501006\n",
            "[('vect',\n",
            "  CountVectorizer(analyzer='word', binary=False, decode_error='strict',\n",
            "                dtype=<class 'numpy.int64'>, encoding='utf-8', input='content',\n",
            "                lowercase=True, max_df=1.0, max_features=None, min_df=1,\n",
            "                ngram_range=(1, 1), preprocessor=None, stop_words='english',\n",
            "                strip_accents=None, token_pattern='(?u)\\\\b\\\\w\\\\w+\\\\b',\n",
            "                tokenizer=None, vocabulary=None)),\n",
            " ('tfidf',\n",
            "  TfidfTransformer(norm='l2', smooth_idf=True, sublinear_tf=False, use_idf=True)),\n",
            " ('clf', MultinomialNB(alpha=1, class_prior=None, fit_prior=True))]\n"
          ],
          "name": "stdout"
        }
      ]
    },
    {
      "cell_type": "code",
      "metadata": {
        "id": "6KLDjrxM74mD",
        "colab_type": "code",
        "colab": {
          "base_uri": "https://localhost:8080/",
          "height": 444
        },
        "outputId": "3bf2f9fd-0961-4e9f-a54f-975613a99336"
      },
      "source": [
        "y_pred = mnb.predict(x_test)\n",
        "doc_utils.plotConfMatrix(y_test, y_pred, model=\"NB\", dataset_type='wiki')"
      ],
      "execution_count": 128,
      "outputs": [
        {
          "output_type": "display_data",
          "data": {
            "image/png": "[encoded data removed]",
            "text/plain": [
              "<Figure size 720x504 with 2 Axes>"
            ]
          },
          "metadata": {
            "tags": [],
            "needs_background": "light"
          }
        }
      ]
    },
    {
      "cell_type": "code",
      "metadata": {
        "id": "JzWTFS91sznu",
        "colab_type": "code",
        "outputId": "b4d46c79-3dab-473c-d572-4992b4678f43",
        "colab": {
          "base_uri": "https://localhost:8080/",
          "height": 544
        }
      },
      "source": [
        "default_svm = Pipeline([('vect', CountVectorizer()),\n",
        "                ('tfidf', TfidfTransformer()),\n",
        "                ('clf', SVC()),])\n",
        "\n",
        "default_svm.fit(x_train, y_train)\n",
        "\n",
        "default_score = default_svm.score(x_test, y_test)\n",
        "print(\"-->DEFAULT SVM Classifier - TOP1 Accuracy: \", default_score)\n",
        "pprint(default_svm.get_params(deep=False)['steps'])\n",
        "\n",
        "\n",
        "stop_words = best_svm_wiki_parameters['stop_words']\n",
        "ngram_range =best_svm_wiki_parameters['ngram_range']\n",
        "idf = best_svm_wiki_parameters['idf']\n",
        "gamma = best_svm_wiki_parameters['gamma']\n",
        "C = best_svm_wiki_parameters['C']\n",
        "\n",
        "svm = Pipeline([('vect', CountVectorizer(stop_words=stop_words,ngram_range=ngram_range)),\n",
        "                ('tfidf', TfidfTransformer(use_idf=idf)),\n",
        "                ('clf', SVC(C=C, gamma=gamma)),\n",
        "                ])\n",
        "svm.fit(x_train, y_train)\n",
        "\n",
        "score = svm.score(x_test, y_test)\n",
        "print(\"\\n-->Best SVM classifier - TOP1 Accuracy:\", score)\n",
        "pprint(svm.get_params(deep=False)['steps'])\n"
      ],
      "execution_count": 129,
      "outputs": [
        {
          "output_type": "stream",
          "text": [
            "-->DEFAULT SVM Classifier - TOP1 Accuracy:  0.5201207243460765\n",
            "[('vect',\n",
            "  CountVectorizer(analyzer='word', binary=False, decode_error='strict',\n",
            "                dtype=<class 'numpy.int64'>, encoding='utf-8', input='content',\n",
            "                lowercase=True, max_df=1.0, max_features=None, min_df=1,\n",
            "                ngram_range=(1, 1), preprocessor=None, stop_words=None,\n",
            "                strip_accents=None, token_pattern='(?u)\\\\b\\\\w\\\\w+\\\\b',\n",
            "                tokenizer=None, vocabulary=None)),\n",
            " ('tfidf',\n",
            "  TfidfTransformer(norm='l2', smooth_idf=True, sublinear_tf=False, use_idf=True)),\n",
            " ('clf',\n",
            "  SVC(C=1.0, break_ties=False, cache_size=200, class_weight=None, coef0=0.0,\n",
            "    decision_function_shape='ovr', degree=3, gamma='scale', kernel='rbf',\n",
            "    max_iter=-1, probability=False, random_state=None, shrinking=True,\n",
            "    tol=0.001, verbose=False))]\n",
            "\n",
            "-->Best SVM classifier - TOP1 Accuracy: 0.7344064386317908\n",
            "[('vect',\n",
            "  CountVectorizer(analyzer='word', binary=False, decode_error='strict',\n",
            "                dtype=<class 'numpy.int64'>, encoding='utf-8', input='content',\n",
            "                lowercase=True, max_df=1.0, max_features=None, min_df=1,\n",
            "                ngram_range=(1, 1), preprocessor=None, stop_words='english',\n",
            "                strip_accents=None, token_pattern='(?u)\\\\b\\\\w\\\\w+\\\\b',\n",
            "                tokenizer=None, vocabulary=None)),\n",
            " ('tfidf',\n",
            "  TfidfTransformer(norm='l2', smooth_idf=True, sublinear_tf=False, use_idf=True)),\n",
            " ('clf',\n",
            "  SVC(C=0.001, break_ties=False, cache_size=200, class_weight=None, coef0=0.0,\n",
            "    decision_function_shape='ovr', degree=3, gamma=0.001, kernel='rbf',\n",
            "    max_iter=-1, probability=False, random_state=None, shrinking=True,\n",
            "    tol=0.001, verbose=False))]\n"
          ],
          "name": "stdout"
        }
      ]
    },
    {
      "cell_type": "code",
      "metadata": {
        "id": "uRUQ5ZQz8p_5",
        "colab_type": "code",
        "colab": {
          "base_uri": "https://localhost:8080/",
          "height": 444
        },
        "outputId": "07bf9ed7-230c-4579-8a89-deb0efe2baff"
      },
      "source": [
        "y_pred = svm.predict(x_test)\n",
        "doc_utils.plotConfMatrix(y_test, y_pred, model=\"SVM\", dataset_type='wiki')"
      ],
      "execution_count": 130,
      "outputs": [
        {
          "output_type": "display_data",
          "data": {
            "image/png": "[encoded data removed]",
            "text/plain": [
              "<Figure size 720x504 with 2 Axes>"
            ]
          },
          "metadata": {
            "tags": [],
            "needs_background": "light"
          }
        }
      ]
    },
    {
      "cell_type": "markdown",
      "metadata": {
        "id": "rXU5qUHYudgP",
        "colab_type": "text"
      },
      "source": [
        "### arXiv dataset"
      ]
    },
    {
      "cell_type": "code",
      "metadata": {
        "id": "YP_uOaCgueyw",
        "colab_type": "code",
        "colab": {}
      },
      "source": [
        "x_train, y_train, x_test, y_test = doc_utils.processClassifierData(arxiv_topic_defs, \n",
        "                                                                   arxiv_papers,\n",
        "                                                                   topics = doc_utils.ARXIV_WIKI_TOPICS,\n",
        "                                                                   dataset_type =\"arxiv\")"
      ],
      "execution_count": 0,
      "outputs": []
    },
    {
      "cell_type": "code",
      "metadata": {
        "id": "_AtEhoz_wwDr",
        "colab_type": "code",
        "outputId": "559cdc95-db56-4a2f-e678-fc49eb3be480",
        "colab": {
          "base_uri": "https://localhost:8080/",
          "height": 408
        }
      },
      "source": [
        "default_mnb = Pipeline([('vect', CountVectorizer()),\n",
        "                ('tfidf', TfidfTransformer()),\n",
        "                ('clf', MultinomialNB()),\n",
        "                ])\n",
        "default_mnb.fit(x_train, y_train)\n",
        "\n",
        "default_score = default_mnb.score(x_test, y_test)\n",
        "print(\"-->DEFAULT MNB Classifier - TOP1 Accuracy: \", default_score)\n",
        "pprint(default_mnb.get_params(deep=False)['steps'])\n",
        "\n",
        "\n",
        "stop_words = best_mnb_arxiv_parameters['stop_words']\n",
        "ngram_range =best_mnb_arxiv_parameters['ngram_range']\n",
        "idf = best_mnb_arxiv_parameters['idf']\n",
        "alpha = best_mnb_arxiv_parameters['alpha']\n",
        "\n",
        "mnb = Pipeline([('vect', CountVectorizer(stop_words=stop_words,ngram_range=ngram_range)),\n",
        "                ('tfidf', TfidfTransformer(use_idf=idf)),\n",
        "                ('clf', MultinomialNB(alpha=alpha)),\n",
        "                ])\n",
        "mnb.fit(x_train, y_train)\n",
        "\n",
        "score = mnb.score(x_test, y_test)\n",
        "print(\"\\n-->Best MNB classifier - TOP1 Accuracy:\", score)\n",
        "pprint(mnb.get_params(deep=False)['steps'])"
      ],
      "execution_count": 122,
      "outputs": [
        {
          "output_type": "stream",
          "text": [
            "-->DEFAULT MNB Classifier - TOP1 Accuracy:  0.2625\n",
            "[('vect',\n",
            "  CountVectorizer(analyzer='word', binary=False, decode_error='strict',\n",
            "                dtype=<class 'numpy.int64'>, encoding='utf-8', input='content',\n",
            "                lowercase=True, max_df=1.0, max_features=None, min_df=1,\n",
            "                ngram_range=(1, 1), preprocessor=None, stop_words=None,\n",
            "                strip_accents=None, token_pattern='(?u)\\\\b\\\\w\\\\w+\\\\b',\n",
            "                tokenizer=None, vocabulary=None)),\n",
            " ('tfidf',\n",
            "  TfidfTransformer(norm='l2', smooth_idf=True, sublinear_tf=False, use_idf=True)),\n",
            " ('clf', MultinomialNB(alpha=1.0, class_prior=None, fit_prior=True))]\n",
            "\n",
            "-->Best MNB classifier - TOP1 Accuracy: 0.425\n",
            "[('vect',\n",
            "  CountVectorizer(analyzer='word', binary=False, decode_error='strict',\n",
            "                dtype=<class 'numpy.int64'>, encoding='utf-8', input='content',\n",
            "                lowercase=True, max_df=1.0, max_features=None, min_df=1,\n",
            "                ngram_range=(1, 1), preprocessor=None, stop_words='english',\n",
            "                strip_accents=None, token_pattern='(?u)\\\\b\\\\w\\\\w+\\\\b',\n",
            "                tokenizer=None, vocabulary=None)),\n",
            " ('tfidf',\n",
            "  TfidfTransformer(norm='l2', smooth_idf=True, sublinear_tf=False, use_idf=True)),\n",
            " ('clf', MultinomialNB(alpha=0.1, class_prior=None, fit_prior=True))]\n"
          ],
          "name": "stdout"
        }
      ]
    },
    {
      "cell_type": "code",
      "metadata": {
        "id": "X28xToLK8Ndg",
        "colab_type": "code",
        "colab": {
          "base_uri": "https://localhost:8080/",
          "height": 547
        },
        "outputId": "fc2aa49c-2ccc-4137-c206-8f8e87e30d33"
      },
      "source": [
        "y_pred = mnb.predict(x_test)\n",
        "doc_utils.plotConfMatrix(y_test, y_pred, model=\"NB\", dataset_type='arxiv')"
      ],
      "execution_count": 123,
      "outputs": [
        {
          "output_type": "display_data",
          "data": {
            "image/png": "[encoded data removed]",
            "text/plain": [
              "<Figure size 720x504 with 2 Axes>"
            ]
          },
          "metadata": {
            "tags": [],
            "needs_background": "light"
          }
        }
      ]
    },
    {
      "cell_type": "code",
      "metadata": {
        "id": "Vqx61wwIw0C8",
        "colab_type": "code",
        "outputId": "1a9e0c2a-45e1-4c13-b575-7d6a9bc1f382",
        "colab": {
          "base_uri": "https://localhost:8080/",
          "height": 544
        }
      },
      "source": [
        "default_svm = Pipeline([('vect', CountVectorizer()),\n",
        "                ('tfidf', TfidfTransformer()),\n",
        "                ('clf', SVC()),])\n",
        "\n",
        "default_svm.fit(x_train, y_train)\n",
        "\n",
        "default_score = default_svm.score(x_test, y_test)\n",
        "print(\"-->DEFAULT SVM Classifier - TOP1 Accuracy: \", default_score)\n",
        "pprint(default_svm.get_params(deep=False)['steps'])\n",
        "\n",
        "\n",
        "stop_words = best_svm_arxiv_parameters['stop_words']\n",
        "ngram_range =best_svm_arxiv_parameters['ngram_range']\n",
        "idf = best_svm_arxiv_parameters['idf']\n",
        "gamma = best_svm_arxiv_parameters['gamma']\n",
        "C = best_svm_arxiv_parameters['C']\n",
        "\n",
        "svm = Pipeline([('vect', CountVectorizer(stop_words=stop_words,ngram_range=ngram_range)),\n",
        "                ('tfidf', TfidfTransformer(use_idf=idf)),\n",
        "                ('clf', SVC(C=C, gamma=gamma)),\n",
        "                ])\n",
        "svm.fit(x_train, y_train)\n",
        "\n",
        "score = svm.score(x_test, y_test)\n",
        "print(\"\\n-->Best SVM classifier - TOP1 Accuracy:\", score)\n",
        "pprint(svm.get_params(deep=False)['steps'])"
      ],
      "execution_count": 124,
      "outputs": [
        {
          "output_type": "stream",
          "text": [
            "-->DEFAULT SVM Classifier - TOP1 Accuracy:  0.24\n",
            "[('vect',\n",
            "  CountVectorizer(analyzer='word', binary=False, decode_error='strict',\n",
            "                dtype=<class 'numpy.int64'>, encoding='utf-8', input='content',\n",
            "                lowercase=True, max_df=1.0, max_features=None, min_df=1,\n",
            "                ngram_range=(1, 1), preprocessor=None, stop_words=None,\n",
            "                strip_accents=None, token_pattern='(?u)\\\\b\\\\w\\\\w+\\\\b',\n",
            "                tokenizer=None, vocabulary=None)),\n",
            " ('tfidf',\n",
            "  TfidfTransformer(norm='l2', smooth_idf=True, sublinear_tf=False, use_idf=True)),\n",
            " ('clf',\n",
            "  SVC(C=1.0, break_ties=False, cache_size=200, class_weight=None, coef0=0.0,\n",
            "    decision_function_shape='ovr', degree=3, gamma='scale', kernel='rbf',\n",
            "    max_iter=-1, probability=False, random_state=None, shrinking=True,\n",
            "    tol=0.001, verbose=False))]\n",
            "\n",
            "-->Best SVM classifier - TOP1 Accuracy: 0.415\n",
            "[('vect',\n",
            "  CountVectorizer(analyzer='word', binary=False, decode_error='strict',\n",
            "                dtype=<class 'numpy.int64'>, encoding='utf-8', input='content',\n",
            "                lowercase=True, max_df=1.0, max_features=None, min_df=1,\n",
            "                ngram_range=(1, 2), preprocessor=None, stop_words='english',\n",
            "                strip_accents=None, token_pattern='(?u)\\\\b\\\\w\\\\w+\\\\b',\n",
            "                tokenizer=None, vocabulary=None)),\n",
            " ('tfidf',\n",
            "  TfidfTransformer(norm='l2', smooth_idf=True, sublinear_tf=False, use_idf=True)),\n",
            " ('clf',\n",
            "  SVC(C=0.001, break_ties=False, cache_size=200, class_weight=None, coef0=0.0,\n",
            "    decision_function_shape='ovr', degree=3, gamma=0.001, kernel='rbf',\n",
            "    max_iter=-1, probability=False, random_state=None, shrinking=True,\n",
            "    tol=0.001, verbose=False))]\n"
          ],
          "name": "stdout"
        }
      ]
    },
    {
      "cell_type": "code",
      "metadata": {
        "id": "1MrmMSm98V2x",
        "colab_type": "code",
        "colab": {
          "base_uri": "https://localhost:8080/",
          "height": 547
        },
        "outputId": "86bdf871-29da-4d0a-8785-306b9fe345b7"
      },
      "source": [
        "y_pred = svm.predict(x_test)\n",
        "doc_utils.plotConfMatrix(y_test, y_pred, model=\"SVM\", dataset_type='arxiv')"
      ],
      "execution_count": 125,
      "outputs": [
        {
          "output_type": "display_data",
          "data": {
            "image/png": "[encoded data removed]",
            "text/plain": [
              "<Figure size 720x504 with 2 Axes>"
            ]
          },
          "metadata": {
            "tags": [],
            "needs_background": "light"
          }
        }
      ]
    },
    {
      "cell_type": "markdown",
      "metadata": {
        "id": "_OAlolT74kRK",
        "colab_type": "text"
      },
      "source": [
        "# SVM-MNB Baseline results summary"
      ]
    },
    {
      "cell_type": "markdown",
      "metadata": {
        "id": "LGVGBJkB3wex",
        "colab_type": "text"
      },
      "source": [
        "***Multinomial Naive Bayes best results***\n",
        "\n",
        "| Dataset   | StopWords | tf-(idf) | ngram_range | alpha | Top1 Acc. |\n",
        "|-----------|-----------|----------|-------------|-------|-----------|\n",
        "| Wikipedia | 'english' | Use idf  | (1, 1)      | 1     | 0.738     |\n",
        "| ArXiv     | 'english' | Use idf  | (1, 1)      | 0.1   | 0.425     |\n",
        "\n",
        "***Support Vector Machine best results***\n",
        "\n",
        "| Dataset   | StopWords | tf-(idf) | ngram_range | C     | gamma | Top1 Acc. |\n",
        "|-----------|-----------|----------|-------------|-------|-------|-----------|\n",
        "| Wikipedia | 'english' | Use idf  | (1, 1)      | 0.001 | 0.001 | 0.734     |\n",
        "| ArXiv     | 'english' | Use idf  | (1, 1)      | 0.001 | 0.001 | 0.415     |\n"
      ]
    },
    {
      "cell_type": "markdown",
      "metadata": {
        "id": "pPX4vPM6769r",
        "colab_type": "text"
      },
      "source": [
        "# Feed Forward Neural Network"
      ]
    },
    {
      "cell_type": "markdown",
      "metadata": {
        "id": "ypcnCipfCGPn",
        "colab_type": "text"
      },
      "source": [
        "## Wikipedia dataset"
      ]
    },
    {
      "cell_type": "markdown",
      "metadata": {
        "id": "uY5_ruLg7-9i",
        "colab_type": "text"
      },
      "source": [
        "### Data preprocessing"
      ]
    },
    {
      "cell_type": "code",
      "metadata": {
        "id": "TcnhtvXgGItv",
        "colab_type": "code",
        "colab": {}
      },
      "source": [
        "x_train, y_train, x_test, y_test, dictionary = doc_utils.processNeuralNetData(engineering_topic_defs,\n",
        "                                                                              engineering_articles,\n",
        "                                                                              dataset_type = \"wiki\",\n",
        "                                                                              preprocess = 'simple')"
      ],
      "execution_count": 0,
      "outputs": []
    },
    {
      "cell_type": "markdown",
      "metadata": {
        "id": "fYrbj4XuLi3x",
        "colab_type": "text"
      },
      "source": [
        "### Model train and evaluation"
      ]
    },
    {
      "cell_type": "code",
      "metadata": {
        "id": "jI5dXTq9GIxy",
        "colab_type": "code",
        "outputId": "5eba06b2-9f5b-44c3-8d1f-3ab77d8aab0a",
        "colab": {
          "base_uri": "https://localhost:8080/",
          "height": 208,
          "referenced_widgets": [
            "07934b4150f74d8d8e6d571bedfd31f2",
            "aef159be450b49a8acebbd733bdf725c",
            "2df657edb6084ae08c0feaaf358e7e16",
            "317b17f5a9ee480e818866e05dd6517b",
            "da4140accf4a4a02bf2a59d1bd1cb8b6",
            "538263bfcc764c62abb2bdb53c518a7a",
            "390a00747a054e419a3e7bf0982a554a",
            "0a80f3216310441ba552feed3d6eb891"
          ]
        }
      },
      "source": [
        "mean_acc = 0\n",
        "max_acc = 0\n",
        "acc_list = []\n",
        "n_runs = 30\n",
        "print(\"Executing\",n_runs,\"runs of model training/evaluation...\\n\")\n",
        "\n",
        "for i in tqdm(range(n_runs)):\n",
        "    clear_session()\n",
        "\n",
        "    #Neural Architecture Definition\n",
        "    model = Sequential()\n",
        "    model.add(Dense(512, activation='relu', input_shape=(len(dictionary),)))\n",
        "\n",
        "    model.add(Dense(len(doc_utils.ALL_TOPICS), activation='softmax'))\n",
        "    #Model compilation\n",
        "    model.compile(optimizer='rmsprop', loss='categorical_crossentropy',metrics=['accuracy'])\n",
        "    #Model training\n",
        "    hist = model.fit(x_train, y_train, epochs=5,verbose=0)\n",
        "\n",
        "    model_acc = model.evaluate(x_test, y_test, verbose=0)[1]\n",
        "    acc_list.append(model_acc)\n",
        "\n",
        "    if model_acc >= max(acc_list):\n",
        "        #save best model to date\n",
        "        model_json = model.to_json()\n",
        "        with open(\"wiki_model.json\", \"w\") as f:\n",
        "            f.write(model_json)\n",
        "        model.save_weights(\"wiki_model.h5\")\n",
        "\n",
        "\n",
        "print(\"\\nResulting Average accuracy:\",np.mean(acc_list))\n",
        "print(\"Best accuracy:\", max(acc_list))"
      ],
      "execution_count": 0,
      "outputs": [
        {
          "output_type": "stream",
          "text": [
            "Executing 30 runs of model training/evaluation...\n",
            "\n"
          ],
          "name": "stdout"
        },
        {
          "output_type": "stream",
          "text": [
            "/usr/local/lib/python3.6/dist-packages/ipykernel_launcher.py:7: TqdmDeprecationWarning: This function will be removed in tqdm==5.0.0\n",
            "Please use `tqdm.notebook.tqdm` instead of `tqdm.tqdm_notebook`\n",
            "  import sys\n"
          ],
          "name": "stderr"
        },
        {
          "output_type": "display_data",
          "data": {
            "application/vnd.jupyter.widget-view+json": {
              "model_id": "07934b4150f74d8d8e6d571bedfd31f2",
              "version_minor": 0,
              "version_major": 2
            },
            "text/plain": [
              "HBox(children=(IntProgress(value=0, max=30), HTML(value='')))"
            ]
          },
          "metadata": {
            "tags": []
          }
        },
        {
          "output_type": "stream",
          "text": [
            "\n",
            "\n",
            "Resulting Average accuracy: 0.32045606871445975\n",
            "Best accuracy: 0.4195170998573303\n"
          ],
          "name": "stdout"
        }
      ]
    },
    {
      "cell_type": "code",
      "metadata": {
        "id": "LovfSXVmQK7h",
        "colab_type": "code",
        "outputId": "645dd8c6-1a0a-4bbc-e789-9679ca4859ce",
        "colab": {
          "base_uri": "https://localhost:8080/",
          "height": 34
        }
      },
      "source": [
        "from keras.models import model_from_json\n",
        "#loading best model obtained\n",
        "json_f = open('wiki_model.json', 'r')\n",
        "best_model_json = json_f.read()\n",
        "json_f.close()\n",
        "best_model = model_from_json(best_model_json)\n",
        "#loading weights\n",
        "best_model.load_weights(\"wiki_model.h5\")\n",
        "\n",
        "# evaluate loaded model on test data\n",
        "best_model.compile(optimizer='rmsprop', loss='categorical_crossentropy',metrics=['accuracy'])\n",
        "predictions = best_model.predict_classes(x_test) #for later building confusion matrix\n",
        "print(\"Model accuracy:\",best_model.evaluate(x_test, y_test, verbose=0)[1])"
      ],
      "execution_count": 0,
      "outputs": [
        {
          "output_type": "stream",
          "text": [
            "Model accuracy: 0.4195170998573303\n"
          ],
          "name": "stdout"
        }
      ]
    },
    {
      "cell_type": "code",
      "metadata": {
        "id": "pKJxRGjOQk_j",
        "colab_type": "code",
        "outputId": "fe9bb3e0-28c8-4289-a8e3-fadccbae63a9",
        "colab": {
          "base_uri": "https://localhost:8080/",
          "height": 444
        }
      },
      "source": [
        "doc_utils.plotConfMatrix(y_test, predictions, model = \"NN\")"
      ],
      "execution_count": 0,
      "outputs": [
        {
          "output_type": "display_data",
          "data": {
            "image/png": "[encoded data removed]",
            "text/plain": [
              "<Figure size 720x504 with 2 Axes>"
            ]
          },
          "metadata": {
            "tags": [],
            "needs_background": "light"
          }
        }
      ]
    },
    {
      "cell_type": "markdown",
      "metadata": {
        "id": "FmGW9WgnLSaw",
        "colab_type": "text"
      },
      "source": [
        "## ArXiv dataset"
      ]
    },
    {
      "cell_type": "markdown",
      "metadata": {
        "id": "f5gF0FaZLc-c",
        "colab_type": "text"
      },
      "source": [
        "### Data preprocessing"
      ]
    },
    {
      "cell_type": "code",
      "metadata": {
        "id": "_B6nfGTdLVZf",
        "colab_type": "code",
        "colab": {}
      },
      "source": [
        "x_train, y_train, x_test, y_test, dictionary  = doc_utils.processNeuralNetData(arxiv_topic_defs,\n",
        "                                                                                arxiv_papers,\n",
        "                                                                                dataset_type = \"arxiv\",\n",
        "                                                                                preprocess = 'simple')"
      ],
      "execution_count": 0,
      "outputs": []
    },
    {
      "cell_type": "markdown",
      "metadata": {
        "id": "IU4va3oNLeh5",
        "colab_type": "text"
      },
      "source": [
        "### Model train and evaluation"
      ]
    },
    {
      "cell_type": "code",
      "metadata": {
        "id": "Cj1-LcBkLgcz",
        "colab_type": "code",
        "outputId": "780995df-897a-4392-ee82-e73b36cb8ec1",
        "colab": {
          "base_uri": "https://localhost:8080/",
          "height": 208,
          "referenced_widgets": [
            "90dd95ecc0964335aa7ab4345a61dfb2",
            "3493c268f7f24b66bb34149624bea6f5",
            "0b9efad4765f442fb936686de429bf14",
            "5654c94f2ae84c2bbfb5fdb035d639b5",
            "e75faac20a614ab987bc61bdfc5ac9c0",
            "eec1ccb497b945a681dea84d3ad4eac0",
            "5b348e11b798488db6b6760ad8a919f3",
            "45c6ed6856454a88988480b2fc278426"
          ]
        }
      },
      "source": [
        "mean_acc = 0\n",
        "max_acc = 0\n",
        "acc_list = []\n",
        "n_runs = 30 \n",
        "\n",
        "print(\"Executing\",n_runs,\"runs of model training/evaluation...\\n\")\n",
        "\n",
        "for i in tqdm(range(n_runs)):\n",
        "    clear_session()\n",
        "\n",
        "    #Neural Architecture Definition\n",
        "    model = Sequential()\n",
        "    model.add(Dense(512, activation='relu', input_shape=(len(dictionary),)))\n",
        "\n",
        "    model.add(Dense(len(doc_utils.ARXIV_WIKI_TOPICS), activation='softmax'))\n",
        "    #Model compilation\n",
        "    model.compile(optimizer='rmsprop', loss='categorical_crossentropy',metrics=['accuracy'])\n",
        "    #Model training\n",
        "    hist = model.fit(x_train, y_train, epochs=15,verbose=0)\n",
        "\n",
        "    model_acc = model.evaluate(x_test, y_test, verbose=0)[1]\n",
        "    acc_list.append(model_acc)\n",
        "\n",
        "    if model_acc >= max(acc_list):\n",
        "        #save best model to date\n",
        "        model_json = model.to_json()\n",
        "        with open(\"arxiv_model.json\", \"w\") as f:\n",
        "            f.write(model_json)\n",
        "        model.save_weights(\"arxiv_model.h5\")\n",
        "\n",
        "\n",
        "print(\"\\nResulting Average accuracy:\",np.mean(acc_list))\n",
        "print(\"Best accuracy:\", max(acc_list))"
      ],
      "execution_count": 0,
      "outputs": [
        {
          "output_type": "stream",
          "text": [
            "Executing 30 runs of model training/evaluation...\n",
            "\n"
          ],
          "name": "stdout"
        },
        {
          "output_type": "stream",
          "text": [
            "/usr/local/lib/python3.6/dist-packages/ipykernel_launcher.py:8: TqdmDeprecationWarning: This function will be removed in tqdm==5.0.0\n",
            "Please use `tqdm.notebook.tqdm` instead of `tqdm.tqdm_notebook`\n",
            "  \n"
          ],
          "name": "stderr"
        },
        {
          "output_type": "display_data",
          "data": {
            "application/vnd.jupyter.widget-view+json": {
              "model_id": "90dd95ecc0964335aa7ab4345a61dfb2",
              "version_minor": 0,
              "version_major": 2
            },
            "text/plain": [
              "HBox(children=(IntProgress(value=0, max=30), HTML(value='')))"
            ]
          },
          "metadata": {
            "tags": []
          }
        },
        {
          "output_type": "stream",
          "text": [
            "\n",
            "\n",
            "Resulting Average accuracy: 0.19166666666666668\n",
            "Best accuracy: 0.2475000023841858\n"
          ],
          "name": "stdout"
        }
      ]
    },
    {
      "cell_type": "code",
      "metadata": {
        "id": "Nsq-T73TQ33F",
        "colab_type": "code",
        "outputId": "e2795300-20e3-4dcb-a565-e895b3ad22e6",
        "colab": {
          "base_uri": "https://localhost:8080/",
          "height": 34
        }
      },
      "source": [
        "#loading best model obtained\n",
        "json_f = open('arxiv_model.json', 'r')\n",
        "best_model_json = json_f.read()\n",
        "json_f.close()\n",
        "best_model = model_from_json(best_model_json)\n",
        "#loading weights\n",
        "best_model.load_weights(\"arxiv_model.h5\")\n",
        "\n",
        "# evaluate loaded model on test data\n",
        "best_model.compile(optimizer='rmsprop', loss='categorical_crossentropy',metrics=['accuracy'])\n",
        "predictions = best_model.predict_classes(x_test) #for later building confusion matrix\n",
        "print(\"Model accuracy:\",best_model.evaluate(x_test, y_test, verbose=0)[1])"
      ],
      "execution_count": 0,
      "outputs": [
        {
          "output_type": "stream",
          "text": [
            "Model accuracy: 0.2475000023841858\n"
          ],
          "name": "stdout"
        }
      ]
    },
    {
      "cell_type": "code",
      "metadata": {
        "id": "-JWGfVYVUH5-",
        "colab_type": "code",
        "outputId": "a542dac6-f4eb-44ce-d462-10ad40c1f664",
        "colab": {
          "base_uri": "https://localhost:8080/",
          "height": 546
        }
      },
      "source": [
        "doc_utils.plotConfMatrix(y_test, predictions, model = \"NN\",dataset_type=\"arxiv\")"
      ],
      "execution_count": 0,
      "outputs": [
        {
          "output_type": "display_data",
          "data": {
            "image/png": "[encoded data removed]",
            "text/plain": [
              "<Figure size 720x504 with 2 Axes>"
            ]
          },
          "metadata": {
            "tags": [],
            "needs_background": "light"
          }
        }
      ]
    },
    {
      "cell_type": "code",
      "metadata": {
        "id": "X34gyBFF3xDP",
        "colab_type": "code",
        "colab": {}
      },
      "source": [
        ""
      ],
      "execution_count": 0,
      "outputs": []
    }
  ]
}