{
  "nbformat": 4,
  "nbformat_minor": 0,
  "metadata": {
    "colab": {
      "name": "[TFG] \"Naive\" Label propagation with MaxSimilarity Classifier.ipynb",
      "provenance": []
    },
    "kernelspec": {
      "name": "python3",
      "display_name": "Python 3"
    }
  },
  "cells": [
    {
      "cell_type": "code",
      "metadata": {
        "id": "M6hKhsn6ITAd",
        "colab_type": "code",
        "colab": {}
      },
      "source": [
        "!pip install wikipedia\n",
        "!pip install wikipedia-api"
      ],
      "execution_count": 0,
      "outputs": []
    },
    {
      "cell_type": "code",
      "metadata": {
        "id": "VpKF6rJXIUfe",
        "colab_type": "code",
        "colab": {}
      },
      "source": [
        "import doc_utils\n",
        "from wiki_parser import concurrentGetAllCatArticles, concurrentGetWikiFullPage\n",
        "from arxiv_parser import arxiv_parser\n",
        "from max_sim_classifier import MaxSimClassifier"
      ],
      "execution_count": 0,
      "outputs": []
    },
    {
      "cell_type": "code",
      "metadata": {
        "id": "rvSoO8pZIZuM",
        "colab_type": "code",
        "colab": {}
      },
      "source": [
        "import random\n",
        "import numpy as np \n",
        "import warnings\n",
        "\n",
        "warnings.filterwarnings(\"ignore\")\n",
        "\n",
        "np.random.seed(2020)\n",
        "random.seed(2020)"
      ],
      "execution_count": 0,
      "outputs": []
    },
    {
      "cell_type": "code",
      "metadata": {
        "id": "NUsrj7kTIbMK",
        "colab_type": "code",
        "colab": {
          "base_uri": "https://localhost:8080/",
          "height": 173
        },
        "outputId": "f4abaec6-1b71-4cc9-a95b-22be889e30b0"
      },
      "source": [
        "arxiv_wiki_topics = [\"Computer science\",\n",
        "                    \"Economics\",\n",
        "                    \"Systems engineering\",\n",
        "                    \"Mathematics\",\n",
        "                    \"Astrophysics\",\n",
        "                    \"Computational biology\",\n",
        "                    \"Quantitative finance\",\n",
        "                    \"Statistics\"]\n",
        "\n",
        "topic_defs = concurrentGetWikiFullPage(topics_list = arxiv_wiki_topics )"
      ],
      "execution_count": 4,
      "outputs": [
        {
          "output_type": "stream",
          "text": [
            "Obtaining full wikipedia page for the topic: Computer science. (Definition of Class #[0])\n",
            "Obtaining full wikipedia page for the topic: Economics. (Definition of Class #[1])Obtaining full wikipedia page for the topic: Systems engineering. (Definition of Class #[2])\n",
            "\n",
            "Obtaining full wikipedia page for the topic: Mathematics. (Definition of Class #[3])\n",
            "Obtaining full wikipedia page for the topic: Astrophysics. (Definition of Class #[4])Obtaining full wikipedia page for the topic: Computational biology. (Definition of Class #[5])\n",
            "Obtaining full wikipedia page for the topic: Quantitative finance. (Definition of Class #[6])\n",
            "\n",
            "Obtaining full wikipedia page for the topic: Statistics. (Definition of Class #[7])\n"
          ],
          "name": "stdout"
        }
      ]
    },
    {
      "cell_type": "code",
      "metadata": {
        "id": "ZBoai7cZIcqb",
        "colab_type": "code",
        "colab": {
          "base_uri": "https://localhost:8080/",
          "height": 34
        },
        "outputId": "bff339f6-73da-4334-88ed-909e72fd82ba"
      },
      "source": [
        "dataset, paperslist = arxiv_parser(100)"
      ],
      "execution_count": 14,
      "outputs": [
        {
          "output_type": "stream",
          "text": [
            "Retrieved 800 papers in total from 8 subjects (100 from each).\n"
          ],
          "name": "stdout"
        }
      ]
    },
    {
      "cell_type": "code",
      "metadata": {
        "id": "_vhO0bzZIeTs",
        "colab_type": "code",
        "colab": {}
      },
      "source": [
        "x_train, y_train, x_test, y_test = doc_utils.processClassifierData(topic_defs, \n",
        "                                                                   dataset, \n",
        "                                                                   arxiv_wiki_topics, \n",
        "                                                                   dataset_type=\"arxiv\")\n",
        "max_sim_model = MaxSimClassifier(dataset_type=\"arxiv\")"
      ],
      "execution_count": 0,
      "outputs": []
    },
    {
      "cell_type": "code",
      "metadata": {
        "id": "Dan3QKlkIgas",
        "colab_type": "code",
        "colab": {
          "base_uri": "https://localhost:8080/",
          "height": 34
        },
        "outputId": "bce9666d-a101-46ba-e36e-a46a6adf852f"
      },
      "source": [
        "max_sim_model.fit(x_train, y_train)"
      ],
      "execution_count": 16,
      "outputs": [
        {
          "output_type": "execute_result",
          "data": {
            "text/plain": [
              "MaxSimClassifier(dataset_type='arxiv', epochs=50, min_count=2, vector_size=50)"
            ]
          },
          "metadata": {
            "tags": []
          },
          "execution_count": 16
        }
      ]
    },
    {
      "cell_type": "code",
      "metadata": {
        "id": "t8-w6V8cIis0",
        "colab_type": "code",
        "colab": {
          "base_uri": "https://localhost:8080/",
          "height": 34
        },
        "outputId": "1bf7fb17-5d69-4147-94ec-47b22888e710"
      },
      "source": [
        "max_sim_model.score(dataset,y_test, eval=\"top2\")"
      ],
      "execution_count": 17,
      "outputs": [
        {
          "output_type": "execute_result",
          "data": {
            "text/plain": [
              "0.51125"
            ]
          },
          "metadata": {
            "tags": []
          },
          "execution_count": 17
        }
      ]
    },
    {
      "cell_type": "markdown",
      "metadata": {
        "id": "SgTBXSAwImCa",
        "colab_type": "text"
      },
      "source": [
        "## Label propagation with \"extended\" train data"
      ]
    },
    {
      "cell_type": "code",
      "metadata": {
        "id": "h5h85LUFIxFl",
        "colab_type": "code",
        "colab": {
          "base_uri": "https://localhost:8080/",
          "height": 496
        },
        "outputId": "bdde6730-66ae-46ee-dc90-ed21e43f2f3b"
      },
      "source": [
        "new_dataset, new_x_train, new_y_test = max_sim_model.label_prop(x_train, dataset , paperslist,\n",
        "                                                                result=\"extended\" ,debug = True )"
      ],
      "execution_count": 19,
      "outputs": [
        {
          "output_type": "stream",
          "text": [
            "Topic 0 (computer_science) best matching paper: id #88\n",
            "\t--->True label:[ 0 ]( computer_science ) \t\tPaper title: KI, Philosophie, Logik\n",
            "Topic 1 (economics) best matching paper: id #136\n",
            "\t--->True label:[ 1 ]( economics ) \t\tPaper title: The transmission of liquidity shocks via China's segmented money market: evidence from recent market events\n",
            "Topic 2 (eess) best matching paper: id #250\n",
            "\t--->True label:[ 2 ]( eess ) \t\tPaper title: Performance and Scaling of Collaborative Sensing and Networking for Automated Driving Applications\n",
            "Topic 3 (mathematics) best matching paper: id #384\n",
            "\t--->True label:[ 3 ]( mathematics ) \t\tPaper title: Coordinates on the augmented moduli space of convex RP^2 structures\n",
            "Topic 4 (physics) best matching paper: id #480\n",
            "\t--->True label:[ 4 ]( physics ) \t\tPaper title: Contribution of Cosmic Rays from Sources with a Monoenergetic Proton Spectrum to the Extragalactic Diffuse Gamma-Ray Emission\n",
            "Topic 5 (q_biology) best matching paper: id #527\n",
            "\t--->True label:[ 5 ]( q_biology ) \t\tPaper title: Pan-Cancer Epigenetic Biomarker Selection from Blood Samples Using SAS\n",
            "Topic 6 (q_finance) best matching paper: id #677\n",
            "\t--->True label:[ 6 ]( q_finance ) \t\tPaper title: Better to stay apart: asset commonality, bipartite network centrality, and investment strategies\n",
            "Topic 7 (statistics) best matching paper: id #777\n",
            "\t--->True label:[ 7 ]( statistics ) \t\tPaper title: Gaussian Process Mixtures for Estimating Heterogeneous Treatment Effects\n",
            " \n",
            "Removing paper #88 (local #88) from dataset (topic #0).\n",
            "Removing paper #136 (local #36) from dataset (topic #1).\n",
            "Removing paper #250 (local #50) from dataset (topic #2).\n",
            "Removing paper #384 (local #84) from dataset (topic #3).\n",
            "Removing paper #480 (local #80) from dataset (topic #4).\n",
            "Removing paper #527 (local #27) from dataset (topic #5).\n",
            "Removing paper #677 (local #77) from dataset (topic #6).\n",
            "Removing paper #777 (local #77) from dataset (topic #7).\n",
            "\n",
            "Length of dataset (nº papers) after label propagation:  792\n"
          ],
          "name": "stdout"
        }
      ]
    },
    {
      "cell_type": "code",
      "metadata": {
        "id": "iJ7wBNNCPJmW",
        "colab_type": "code",
        "colab": {
          "base_uri": "https://localhost:8080/",
          "height": 34
        },
        "outputId": "8eb11542-4056-4c24-d8fe-4fbb453ef4c5"
      },
      "source": [
        "label_prop_model = MaxSimClassifier(\"arxiv\")\n",
        "label_prop_model.fit(new_x_train, y_train)"
      ],
      "execution_count": 20,
      "outputs": [
        {
          "output_type": "execute_result",
          "data": {
            "text/plain": [
              "MaxSimClassifier(dataset_type='arxiv', epochs=50, min_count=2, vector_size=50)"
            ]
          },
          "metadata": {
            "tags": []
          },
          "execution_count": 20
        }
      ]
    },
    {
      "cell_type": "code",
      "metadata": {
        "id": "dyqvGC2WPu0Y",
        "colab_type": "code",
        "colab": {
          "base_uri": "https://localhost:8080/",
          "height": 34
        },
        "outputId": "074dcd60-43c3-46cc-ea2a-709892a30b37"
      },
      "source": [
        "label_prop_model.score(new_dataset, new_y_test, eval=\"top2\")"
      ],
      "execution_count": 21,
      "outputs": [
        {
          "output_type": "execute_result",
          "data": {
            "text/plain": [
              "0.5416666666666666"
            ]
          },
          "metadata": {
            "tags": []
          },
          "execution_count": 21
        }
      ]
    },
    {
      "cell_type": "markdown",
      "metadata": {
        "id": "iBKCmdL8QwuQ",
        "colab_type": "text"
      },
      "source": [
        "## Label propagation with Best papers as train data"
      ]
    },
    {
      "cell_type": "code",
      "metadata": {
        "id": "hbXYhm2XRG1q",
        "colab_type": "code",
        "colab": {
          "base_uri": "https://localhost:8080/",
          "height": 34
        },
        "outputId": "829e5c49-ce2e-4265-cb25-9c0460918e90"
      },
      "source": [
        "new_dataset, new_x_train, new_y_test = max_sim_model.label_prop(x_train, dataset , paperslist,\n",
        "                                                                result=\"bestpapers\" ,debug = False )"
      ],
      "execution_count": 22,
      "outputs": [
        {
          "output_type": "stream",
          "text": [
            " \n"
          ],
          "name": "stdout"
        }
      ]
    },
    {
      "cell_type": "code",
      "metadata": {
        "id": "zO1B3vG-Q9R1",
        "colab_type": "code",
        "colab": {
          "base_uri": "https://localhost:8080/",
          "height": 34
        },
        "outputId": "47e106f7-b61c-4170-f89a-48accacddc38"
      },
      "source": [
        "label_prop_model_2 = MaxSimClassifier(\"arxiv\")\n",
        "label_prop_model_2.fit(new_x_train, y_train)"
      ],
      "execution_count": 23,
      "outputs": [
        {
          "output_type": "execute_result",
          "data": {
            "text/plain": [
              "MaxSimClassifier(dataset_type='arxiv', epochs=50, min_count=2, vector_size=50)"
            ]
          },
          "metadata": {
            "tags": []
          },
          "execution_count": 23
        }
      ]
    },
    {
      "cell_type": "code",
      "metadata": {
        "id": "EmP43GoXPzif",
        "colab_type": "code",
        "colab": {
          "base_uri": "https://localhost:8080/",
          "height": 34
        },
        "outputId": "393d5660-326f-4dda-e2ed-44ba2371fbfc"
      },
      "source": [
        "label_prop_model_2.score(new_dataset, new_y_test, eval=\"top2\")"
      ],
      "execution_count": 24,
      "outputs": [
        {
          "output_type": "execute_result",
          "data": {
            "text/plain": [
              "0.33035714285714285"
            ]
          },
          "metadata": {
            "tags": []
          },
          "execution_count": 24
        }
      ]
    },
    {
      "cell_type": "code",
      "metadata": {
        "id": "yu3--us0P-zL",
        "colab_type": "code",
        "colab": {}
      },
      "source": [
        ""
      ],
      "execution_count": 0,
      "outputs": []
    }
  ]
}