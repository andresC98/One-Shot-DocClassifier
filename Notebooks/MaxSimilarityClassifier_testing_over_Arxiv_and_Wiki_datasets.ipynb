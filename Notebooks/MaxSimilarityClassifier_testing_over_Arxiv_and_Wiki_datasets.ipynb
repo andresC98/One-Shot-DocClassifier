{
  "nbformat": 4,
  "nbformat_minor": 0,
  "metadata": {
    "colab": {
      "name": "[TFG] MaxSimilarityClassifier testing over Arxiv and Wiki datasets.ipynb",
      "provenance": [],
      "collapsed_sections": []
    },
    "kernelspec": {
      "name": "python3",
      "display_name": "Python 3"
    }
  },
  "cells": [
    {
      "cell_type": "code",
      "metadata": {
        "id": "dtqUIXtDbtYf",
        "colab_type": "code",
        "outputId": "36c0bcbb-ed0f-42a7-df34-1a8cc95ff3f8",
        "colab": {
          "base_uri": "https://localhost:8080/",
          "height": 530
        }
      },
      "source": [
        "!pip install wikipedia\n",
        "!pip install wikipedia-api"
      ],
      "execution_count": 1,
      "outputs": [
        {
          "output_type": "stream",
          "text": [
            "Collecting wikipedia\n",
            "  Downloading https://files.pythonhosted.org/packages/67/35/25e68fbc99e672127cc6fbb14b8ec1ba3dfef035bf1e4c90f78f24a80b7d/wikipedia-1.4.0.tar.gz\n",
            "Requirement already satisfied: beautifulsoup4 in /usr/local/lib/python3.6/dist-packages (from wikipedia) (4.6.3)\n",
            "Requirement already satisfied: requests<3.0.0,>=2.0.0 in /usr/local/lib/python3.6/dist-packages (from wikipedia) (2.21.0)\n",
            "Requirement already satisfied: urllib3<1.25,>=1.21.1 in /usr/local/lib/python3.6/dist-packages (from requests<3.0.0,>=2.0.0->wikipedia) (1.24.3)\n",
            "Requirement already satisfied: idna<2.9,>=2.5 in /usr/local/lib/python3.6/dist-packages (from requests<3.0.0,>=2.0.0->wikipedia) (2.8)\n",
            "Requirement already satisfied: certifi>=2017.4.17 in /usr/local/lib/python3.6/dist-packages (from requests<3.0.0,>=2.0.0->wikipedia) (2020.4.5.1)\n",
            "Requirement already satisfied: chardet<3.1.0,>=3.0.2 in /usr/local/lib/python3.6/dist-packages (from requests<3.0.0,>=2.0.0->wikipedia) (3.0.4)\n",
            "Building wheels for collected packages: wikipedia\n",
            "  Building wheel for wikipedia (setup.py) ... \u001b[?25l\u001b[?25hdone\n",
            "  Created wheel for wikipedia: filename=wikipedia-1.4.0-cp36-none-any.whl size=11686 sha256=ddaf3be806cc2f3193916a5b7b669fb7e1da3635b6fed09e476098adcdfbb66d\n",
            "  Stored in directory: /root/.cache/pip/wheels/87/2a/18/4e471fd96d12114d16fe4a446d00c3b38fb9efcb744bd31f4a\n",
            "Successfully built wikipedia\n",
            "Installing collected packages: wikipedia\n",
            "Successfully installed wikipedia-1.4.0\n",
            "Collecting wikipedia-api\n",
            "  Downloading https://files.pythonhosted.org/packages/ef/3d/289963bbf51f8d00cdf7483cdc2baee25ba877e8b4eb72157c47211e3b57/Wikipedia-API-0.5.4.tar.gz\n",
            "Requirement already satisfied: requests in /usr/local/lib/python3.6/dist-packages (from wikipedia-api) (2.21.0)\n",
            "Requirement already satisfied: chardet<3.1.0,>=3.0.2 in /usr/local/lib/python3.6/dist-packages (from requests->wikipedia-api) (3.0.4)\n",
            "Requirement already satisfied: idna<2.9,>=2.5 in /usr/local/lib/python3.6/dist-packages (from requests->wikipedia-api) (2.8)\n",
            "Requirement already satisfied: certifi>=2017.4.17 in /usr/local/lib/python3.6/dist-packages (from requests->wikipedia-api) (2020.4.5.1)\n",
            "Requirement already satisfied: urllib3<1.25,>=1.21.1 in /usr/local/lib/python3.6/dist-packages (from requests->wikipedia-api) (1.24.3)\n",
            "Building wheels for collected packages: wikipedia-api\n",
            "  Building wheel for wikipedia-api (setup.py) ... \u001b[?25l\u001b[?25hdone\n",
            "  Created wheel for wikipedia-api: filename=Wikipedia_API-0.5.4-cp36-none-any.whl size=13462 sha256=ce16c0b3a854567de9c78e5204709c95b8a79e8f93ed27e29cb40ba8be554cd7\n",
            "  Stored in directory: /root/.cache/pip/wheels/bf/40/42/ba1d497f3712281b659dd65b566fc868035c859239571a725a\n",
            "Successfully built wikipedia-api\n",
            "Installing collected packages: wikipedia-api\n",
            "Successfully installed wikipedia-api-0.5.4\n"
          ],
          "name": "stdout"
        }
      ]
    },
    {
      "cell_type": "code",
      "metadata": {
        "id": "StCDQOdWi8LH",
        "colab_type": "code",
        "outputId": "16bd3859-a61b-4e01-dae4-b6f92e5ac0a4",
        "colab": {
          "base_uri": "https://localhost:8080/",
          "height": 190
        }
      },
      "source": [
        "import doc_utils\n",
        "import max_sim_classifier\n",
        "from arxiv_parser import arxiv_parser"
      ],
      "execution_count": 2,
      "outputs": [
        {
          "output_type": "stream",
          "text": [
            "[nltk_data] Downloading package punkt to /root/nltk_data...\n",
            "[nltk_data]   Unzipping tokenizers/punkt.zip.\n",
            "[nltk_data] Downloading package wordnet to /root/nltk_data...\n",
            "[nltk_data]   Unzipping corpora/wordnet.zip.\n",
            "[nltk_data] Downloading package stopwords to /root/nltk_data...\n",
            "[nltk_data]   Unzipping corpora/stopwords.zip.\n"
          ],
          "name": "stdout"
        },
        {
          "output_type": "stream",
          "text": [
            "/usr/local/lib/python3.6/dist-packages/statsmodels/tools/_testing.py:19: FutureWarning: pandas.util.testing is deprecated. Use the functions in the public API at pandas.testing instead.\n",
            "  import pandas.util.testing as tm\n",
            "Using TensorFlow backend.\n"
          ],
          "name": "stderr"
        }
      ]
    },
    {
      "cell_type": "code",
      "metadata": {
        "id": "X7TdmYxyjA7I",
        "colab_type": "code",
        "colab": {}
      },
      "source": [
        "from max_sim_classifier import MaxSimClassifier"
      ],
      "execution_count": 0,
      "outputs": []
    },
    {
      "cell_type": "markdown",
      "metadata": {
        "id": "_0ScSH3t3BMu",
        "colab_type": "text"
      },
      "source": [
        "#Testing MaxSimClassifier with Arxiv dataset"
      ]
    },
    {
      "cell_type": "code",
      "metadata": {
        "id": "MBat7aUfjS58",
        "colab_type": "code",
        "outputId": "52ac5760-cedd-4501-a2a0-53c32937b8f2",
        "colab": {
          "base_uri": "https://localhost:8080/",
          "height": 173
        }
      },
      "source": [
        "arxiv_wiki_topics = [\"Computer science\",\n",
        "               \"Economics\",\n",
        "               \"Systems engineering\",\n",
        "               \"Mathematics\",\n",
        "               \"Astrophysics\",\n",
        "               \"Quantitative biology\",\n",
        "               \"Quantitative finance\",\n",
        "               \"Statistics\"]\n",
        "#note: Astrophysics should be physics, but throws error\n",
        "topic_defs = doc_utils.concurrentGetWikiFullPage(topics_list =arxiv_wiki_topics )"
      ],
      "execution_count": 4,
      "outputs": [
        {
          "output_type": "stream",
          "text": [
            "Obtaining full wikipedia page for the topic: Computer science. (Definition of Class #[0])\n",
            "Obtaining full wikipedia page for the topic: Economics. (Definition of Class #[1])Obtaining full wikipedia page for the topic: Systems engineering. (Definition of Class #[2])\n",
            "\n",
            "Obtaining full wikipedia page for the topic: Mathematics. (Definition of Class #[3])\n",
            "Obtaining full wikipedia page for the topic: Astrophysics. (Definition of Class #[4])Obtaining full wikipedia page for the topic: Quantitative biology. (Definition of Class #[5])\n",
            "\n",
            "Obtaining full wikipedia page for the topic: Quantitative finance. (Definition of Class #[6])Obtaining full wikipedia page for the topic: Statistics. (Definition of Class #[7])\n",
            "\n"
          ],
          "name": "stdout"
        }
      ]
    },
    {
      "cell_type": "markdown",
      "metadata": {
        "id": "7jmQhFXSM-ZX",
        "colab_type": "text"
      },
      "source": [
        "## Off-the-shelf model testing"
      ]
    },
    {
      "cell_type": "code",
      "metadata": {
        "id": "z4_uZhiijc7G",
        "colab_type": "code",
        "outputId": "2c3baddf-885b-4c3f-f79c-459979cedbf4",
        "colab": {
          "base_uri": "https://localhost:8080/",
          "height": 34
        }
      },
      "source": [
        "dataset = arxiv_parser(100)"
      ],
      "execution_count": 5,
      "outputs": [
        {
          "output_type": "stream",
          "text": [
            "Retrieved 800 papers in total from 8 subjects (100 from each).\n"
          ],
          "name": "stdout"
        }
      ]
    },
    {
      "cell_type": "code",
      "metadata": {
        "id": "XpMGUBINjXax",
        "colab_type": "code",
        "colab": {}
      },
      "source": [
        "x_train, y_train, x_test, y_test = doc_utils.processClassifierData(topic_defs, \n",
        "                                                                   dataset, \n",
        "                                                                   arxiv_wiki_topics, \n",
        "                                                                   dataset_type=\"arxiv\")"
      ],
      "execution_count": 0,
      "outputs": []
    },
    {
      "cell_type": "code",
      "metadata": {
        "id": "VqfHRFvRjH-I",
        "colab_type": "code",
        "colab": {}
      },
      "source": [
        "max_sim_model = MaxSimClassifier(dataset_type=\"arxiv\")"
      ],
      "execution_count": 0,
      "outputs": []
    },
    {
      "cell_type": "code",
      "metadata": {
        "id": "QC05aV-Sk6RX",
        "colab_type": "code",
        "outputId": "ace19093-51c0-419d-8924-6cace102205e",
        "colab": {
          "base_uri": "https://localhost:8080/",
          "height": 34
        }
      },
      "source": [
        "max_sim_model.fit(x_train, y_train)"
      ],
      "execution_count": 10,
      "outputs": [
        {
          "output_type": "execute_result",
          "data": {
            "text/plain": [
              "MaxSimClassifier(dataset_type='arxiv', epochs=50, min_count=2, vector_size=50)"
            ]
          },
          "metadata": {
            "tags": []
          },
          "execution_count": 10
        }
      ]
    },
    {
      "cell_type": "code",
      "metadata": {
        "id": "-l4f8pzrnHfI",
        "colab_type": "code",
        "outputId": "183df2b4-7000-4f9d-c031-76102de75170",
        "colab": {
          "base_uri": "https://localhost:8080/",
          "height": 88
        }
      },
      "source": [
        "#note that x_test is not used TODO: change processClassifierData\n",
        "max_sim_model.score(dataset, y_test)"
      ],
      "execution_count": 11,
      "outputs": [
        {
          "output_type": "stream",
          "text": [
            "/usr/local/lib/python3.6/dist-packages/gensim/matutils.py:737: FutureWarning: Conversion of the second argument of issubdtype from `int` to `np.signedinteger` is deprecated. In future, it will be treated as `np.int64 == np.dtype(int).type`.\n",
            "  if np.issubdtype(vec.dtype, np.int):\n"
          ],
          "name": "stderr"
        },
        {
          "output_type": "execute_result",
          "data": {
            "text/plain": [
              "0.381875"
            ]
          },
          "metadata": {
            "tags": []
          },
          "execution_count": 11
        }
      ]
    },
    {
      "cell_type": "markdown",
      "metadata": {
        "id": "hGfrlfSgMcMa",
        "colab_type": "text"
      },
      "source": [
        "Accuracy: **38.2%**"
      ]
    },
    {
      "cell_type": "code",
      "metadata": {
        "id": "hgBshdCgkttY",
        "colab_type": "code",
        "outputId": "72bf3a1f-30fb-4d66-bca5-8cb657db63f1",
        "colab": {
          "base_uri": "https://localhost:8080/",
          "height": 71
        }
      },
      "source": [
        "predictions = max_sim_model.predict(dataset)"
      ],
      "execution_count": 12,
      "outputs": [
        {
          "output_type": "stream",
          "text": [
            "/usr/local/lib/python3.6/dist-packages/gensim/matutils.py:737: FutureWarning: Conversion of the second argument of issubdtype from `int` to `np.signedinteger` is deprecated. In future, it will be treated as `np.int64 == np.dtype(int).type`.\n",
            "  if np.issubdtype(vec.dtype, np.int):\n"
          ],
          "name": "stderr"
        }
      ]
    },
    {
      "cell_type": "code",
      "metadata": {
        "id": "Kc7cETV9sARs",
        "colab_type": "code",
        "outputId": "4aff0c65-972a-46ae-9a22-60ef3ed36798",
        "colab": {
          "base_uri": "https://localhost:8080/",
          "height": 525
        }
      },
      "source": [
        "doc_utils.plotConfMatrix(y_test, predictions, model=\"maxsim\", dataset_type=\"arxiv\")"
      ],
      "execution_count": 13,
      "outputs": [
        {
          "output_type": "display_data",
          "data": {
            "image/png": "[encoded data removed]",
            "text/plain": [
              "<Figure size 720x504 with 2 Axes>"
            ]
          },
          "metadata": {
            "tags": [],
            "needs_background": "light"
          }
        }
      ]
    },
    {
      "cell_type": "markdown",
      "metadata": {
        "id": "YLzQCHxT7Udh",
        "colab_type": "text"
      },
      "source": [
        "Los fallos localizados en quantitative biology tienen sentido ya que es con diferencia el tópico peor definido."
      ]
    },
    {
      "cell_type": "code",
      "metadata": {
        "id": "5spWbm5T7Qu6",
        "colab_type": "code",
        "outputId": "83ec67b8-44cb-40f0-c332-793d837f4177",
        "colab": {
          "base_uri": "https://localhost:8080/",
          "height": 54
        }
      },
      "source": [
        "x_train[5]"
      ],
      "execution_count": 14,
      "outputs": [
        {
          "output_type": "execute_result",
          "data": {
            "text/plain": [
              "'Quantitative biology is an umbrella term encompassing the use of mathematical, statistical or computational techniques to study life and living organisms. The central theme and goal of quantitative biology is the creation of predictive models based on fundamental principles governing living systems.The subfields of biology that employ quantitative approaches include:\\n\\nMathematical and theoretical biology\\nComputational biology\\nBioinformatics\\nBiostatistics\\nSystems biology\\nPopulation biology\\nSynthetic biology\\nEpidemiology\\n\\n\\n== References =='"
            ]
          },
          "metadata": {
            "tags": []
          },
          "execution_count": 14
        }
      ]
    },
    {
      "cell_type": "code",
      "metadata": {
        "id": "lLnVvq6b8dbh",
        "colab_type": "code",
        "outputId": "b8f6f98a-d275-4203-ce8a-3f335224463a",
        "colab": {
          "base_uri": "https://localhost:8080/",
          "height": 312
        }
      },
      "source": [
        "import matplotlib.pyplot as plt\n",
        "\n",
        "total_len = 0\n",
        "topic_lengths = list()\n",
        "for topic in x_train:\n",
        "    total_len += len(topic)\n",
        "    topic_lengths.append(len(topic))\n",
        "\n",
        "print(\"Mean topic definition length:\", total_len/len(x_train))\n",
        "\n",
        "plt.barh(doc_utils.ARXIV_SUBJECTS, topic_lengths, align='center')\n",
        "plt.title(\"Length of topic definitions\")\n",
        "plt.xlabel(\"Number of words\")\n",
        "plt.ylabel(\"topic\")\n",
        "plt.show()"
      ],
      "execution_count": 15,
      "outputs": [
        {
          "output_type": "stream",
          "text": [
            "Mean topic definition length: 23881.125\n"
          ],
          "name": "stdout"
        },
        {
          "output_type": "display_data",
          "data": {
            "image/png": "[encoded data removed]",
            "text/plain": [
              "<Figure size 432x288 with 1 Axes>"
            ]
          },
          "metadata": {
            "tags": [],
            "needs_background": "light"
          }
        }
      ]
    },
    {
      "cell_type": "markdown",
      "metadata": {
        "id": "zPFXV7J-wwWw",
        "colab_type": "text"
      },
      "source": [
        "## Improving accuracy by changing topic definition"
      ]
    },
    {
      "cell_type": "code",
      "metadata": {
        "id": "rd3OxQKPw0Rj",
        "colab_type": "code",
        "colab": {}
      },
      "source": [
        "#Let's just change the name of the topic for the wikipedia topic retrieval"
      ],
      "execution_count": 0,
      "outputs": []
    },
    {
      "cell_type": "code",
      "metadata": {
        "id": "roEBj3E4w3to",
        "colab_type": "code",
        "colab": {
          "base_uri": "https://localhost:8080/",
          "height": 153
        },
        "outputId": "a835628a-5036-4eea-8207-c608e0a891f4"
      },
      "source": [
        "arxiv_wiki_topics = [\"Computer science\",\n",
        "               \"Economics\",\n",
        "               \"Systems engineering\",\n",
        "               \"Mathematics\",\n",
        "               \"Astrophysics\",\n",
        "               \"Computational biology\",\n",
        "               \"Quantitative finance\",\n",
        "               \"Statistics\"]\n",
        "#note: Astrophysics should be physics, but throws error\n",
        "topic_defs = doc_utils.concurrentGetWikiFullPage(topics_list =arxiv_wiki_topics )"
      ],
      "execution_count": 28,
      "outputs": [
        {
          "output_type": "stream",
          "text": [
            "Obtaining full wikipedia page for the topic: Computer science. (Definition of Class #[0])\n",
            "Obtaining full wikipedia page for the topic: Economics. (Definition of Class #[1])\n",
            "Obtaining full wikipedia page for the topic: Systems engineering. (Definition of Class #[2])\n",
            "Obtaining full wikipedia page for the topic: Mathematics. (Definition of Class #[3])\n",
            "Obtaining full wikipedia page for the topic: Astrophysics. (Definition of Class #[4])\n",
            "Obtaining full wikipedia page for the topic: Computational biology. (Definition of Class #[5])\n",
            "Obtaining full wikipedia page for the topic: Quantitative finance. (Definition of Class #[6])\n",
            "Obtaining full wikipedia page for the topic: Statistics. (Definition of Class #[7])\n"
          ],
          "name": "stdout"
        }
      ]
    },
    {
      "cell_type": "code",
      "metadata": {
        "id": "TpyiAbKfw-yW",
        "colab_type": "code",
        "colab": {
          "base_uri": "https://localhost:8080/",
          "height": 34
        },
        "outputId": "b93f6854-15c1-4ec2-fbdd-f49606d2b53e"
      },
      "source": [
        "x_train, y_train, x_test, y_test = doc_utils.processClassifierData(topic_defs, dataset, \n",
        "                                                                    arxiv_wiki_topics, \n",
        "                                                                   dataset_type=\"arxiv\")\n",
        "max_sim_model = MaxSimClassifier(dataset_type=\"arxiv\")\n",
        "\n",
        "max_sim_model.fit(x_train, y_train)"
      ],
      "execution_count": 31,
      "outputs": [
        {
          "output_type": "execute_result",
          "data": {
            "text/plain": [
              "MaxSimClassifier(dataset_type='arxiv', epochs=50, min_count=2, vector_size=50)"
            ]
          },
          "metadata": {
            "tags": []
          },
          "execution_count": 31
        }
      ]
    },
    {
      "cell_type": "markdown",
      "metadata": {
        "id": "kANa5TvLNTKs",
        "colab_type": "text"
      },
      "source": [
        "### Weighted top2 accuracy"
      ]
    },
    {
      "cell_type": "markdown",
      "metadata": {
        "id": "kh-HACZJMUty",
        "colab_type": "text"
      },
      "source": [
        "Improved weighted accuracy to **43.7%**\n",
        "\n",
        "*Note*: **weighted** acc = (first guess reward (1) vs rest (0) )"
      ]
    },
    {
      "cell_type": "code",
      "metadata": {
        "id": "g5hu9deINQRg",
        "colab_type": "code",
        "colab": {
          "base_uri": "https://localhost:8080/",
          "height": 88
        },
        "outputId": "3a1bb338-45da-40e0-ed13-bade935e6290"
      },
      "source": [
        "max_sim_model.score(dataset, y_test) #eval = weighted"
      ],
      "execution_count": 32,
      "outputs": [
        {
          "output_type": "stream",
          "text": [
            "/usr/local/lib/python3.6/dist-packages/gensim/matutils.py:737: FutureWarning: Conversion of the second argument of issubdtype from `int` to `np.signedinteger` is deprecated. In future, it will be treated as `np.int64 == np.dtype(int).type`.\n",
            "  if np.issubdtype(vec.dtype, np.int):\n"
          ],
          "name": "stderr"
        },
        {
          "output_type": "execute_result",
          "data": {
            "text/plain": [
              "0.436875"
            ]
          },
          "metadata": {
            "tags": []
          },
          "execution_count": 32
        }
      ]
    },
    {
      "cell_type": "markdown",
      "metadata": {
        "id": "ALY2fZW9MnML",
        "colab_type": "text"
      },
      "source": [
        "### Top2 accuracy"
      ]
    },
    {
      "cell_type": "markdown",
      "metadata": {
        "id": "jtKDXYD9NcOr",
        "colab_type": "text"
      },
      "source": [
        "Achieves **51.15%** (first or second guesses have same reward (1) vs rest (0) )"
      ]
    },
    {
      "cell_type": "code",
      "metadata": {
        "id": "YvORoMpuMpSW",
        "colab_type": "code",
        "colab": {
          "base_uri": "https://localhost:8080/",
          "height": 88
        },
        "outputId": "332a0383-9427-4f0d-f9fb-2cf9371a542e"
      },
      "source": [
        "max_sim_model.score(dataset, y_test, eval=\"top2\")"
      ],
      "execution_count": 30,
      "outputs": [
        {
          "output_type": "stream",
          "text": [
            "/usr/local/lib/python3.6/dist-packages/gensim/matutils.py:737: FutureWarning: Conversion of the second argument of issubdtype from `int` to `np.signedinteger` is deprecated. In future, it will be treated as `np.int64 == np.dtype(int).type`.\n",
            "  if np.issubdtype(vec.dtype, np.int):\n"
          ],
          "name": "stderr"
        },
        {
          "output_type": "execute_result",
          "data": {
            "text/plain": [
              "0.515"
            ]
          },
          "metadata": {
            "tags": []
          },
          "execution_count": 30
        }
      ]
    },
    {
      "cell_type": "markdown",
      "metadata": {
        "id": "bdyYeGMSMqJ7",
        "colab_type": "text"
      },
      "source": [
        "### Model and data explainability and error evaluation"
      ]
    },
    {
      "cell_type": "code",
      "metadata": {
        "id": "WUMbJnYT0L7M",
        "colab_type": "code",
        "colab": {
          "base_uri": "https://localhost:8080/",
          "height": 312
        },
        "outputId": "d2ca195b-1940-4d17-d1c5-a8571879903b"
      },
      "source": [
        "import matplotlib.pyplot as plt\n",
        "\n",
        "total_len = 0\n",
        "topic_lengths = list()\n",
        "for topic in x_train:\n",
        "    total_len += len(topic)\n",
        "    topic_lengths.append(len(topic))\n",
        "\n",
        "print(\"Mean topic definition length:\", total_len/len(x_train))\n",
        "\n",
        "plt.barh(arxiv_wiki_topics, topic_lengths, align='center')\n",
        "plt.title(\"Length of topic definitions\")\n",
        "plt.xlabel(\"Number of words\")\n",
        "plt.ylabel(\"topic\")\n",
        "plt.show()"
      ],
      "execution_count": 18,
      "outputs": [
        {
          "output_type": "stream",
          "text": [
            "Mean topic definition length: 25648.25\n"
          ],
          "name": "stdout"
        },
        {
          "output_type": "display_data",
          "data": {
            "image/png": "[encoded data removed]",
            "text/plain": [
              "<Figure size 432x288 with 1 Axes>"
            ]
          },
          "metadata": {
            "tags": [],
            "needs_background": "light"
          }
        }
      ]
    },
    {
      "cell_type": "code",
      "metadata": {
        "id": "IaA9mockxU3B",
        "colab_type": "code",
        "colab": {
          "base_uri": "https://localhost:8080/",
          "height": 71
        },
        "outputId": "96737008-5a55-454e-b35a-933abdd48783"
      },
      "source": [
        "predictions = max_sim_model.predict(dataset)"
      ],
      "execution_count": 19,
      "outputs": [
        {
          "output_type": "stream",
          "text": [
            "/usr/local/lib/python3.6/dist-packages/gensim/matutils.py:737: FutureWarning: Conversion of the second argument of issubdtype from `int` to `np.signedinteger` is deprecated. In future, it will be treated as `np.int64 == np.dtype(int).type`.\n",
            "  if np.issubdtype(vec.dtype, np.int):\n"
          ],
          "name": "stderr"
        }
      ]
    },
    {
      "cell_type": "code",
      "metadata": {
        "id": "OrqCJyWUxVi4",
        "colab_type": "code",
        "colab": {
          "base_uri": "https://localhost:8080/",
          "height": 525
        },
        "outputId": "bcc5fb87-4192-4c7c-f1cb-cf50ad787f0c"
      },
      "source": [
        "doc_utils.plotConfMatrix(y_test, predictions, model=\"maxsim\", dataset_type=\"arxiv\")"
      ],
      "execution_count": 20,
      "outputs": [
        {
          "output_type": "display_data",
          "data": {
            "image/png": "[encoded data removed]",
            "text/plain": [
              "<Figure size 720x504 with 2 Axes>"
            ]
          },
          "metadata": {
            "tags": [],
            "needs_background": "light"
          }
        }
      ]
    },
    {
      "cell_type": "markdown",
      "metadata": {
        "id": "Z9twm-5a05Tv",
        "colab_type": "text"
      },
      "source": [
        "this amount of classification mistakes classifying as statistics may have 2 main reasons:\n",
        "\n",
        "\n",
        "*   Obviously every paper contains certain degree of statistical commentary, thus makes sense. However, we are also giving a .5 weight on 2nd classifications. --> Possible solution, to simply do a TOP2 classification error, i.e 1 if 1st or 2nd category, 0 if none.\n",
        "*   Topic definition of Statistics is huge (x2 the avg. words)\n",
        "\n"
      ]
    },
    {
      "cell_type": "markdown",
      "metadata": {
        "id": "e7vlkqn_2Wlc",
        "colab_type": "text"
      },
      "source": [
        "# Testing MaxSimClassifier with Wikipedia dataset"
      ]
    },
    {
      "cell_type": "code",
      "metadata": {
        "id": "BW7ImHGo0Cgk",
        "colab_type": "code",
        "colab": {
          "base_uri": "https://localhost:8080/",
          "height": 323
        },
        "outputId": "9a80c5c9-d59d-448d-fb0a-577cd870da24"
      },
      "source": [
        "wiki_topic_defs_full = doc_utils.concurrentGetWikiFullPage(topics_list = doc_utils.ALL_TOPICS)\n",
        "wiki_test_data, n_test_samples = doc_utils.concurrentGetAllCatArticles(doc_utils.ALL_TOPICS, full_text_test=True)"
      ],
      "execution_count": 33,
      "outputs": [
        {
          "output_type": "stream",
          "text": [
            "Obtaining full wikipedia page for the topic: Chemical engineering. (Definition of Class #[0])\n",
            "Obtaining full wikipedia page for the topic: Biomedical engineering. (Definition of Class #[1])\n",
            "Obtaining full wikipedia page for the topic: Civil engineering. (Definition of Class #[2])\n",
            "Obtaining full wikipedia page for the topic: Electrical engineering. (Definition of Class #[3])\n",
            "Obtaining full wikipedia page for the topic: Mechanical engineering. (Definition of Class #[4])\n",
            "Obtaining full wikipedia page for the topic: Aerospace engineering. (Definition of Class #[5])\n",
            "Obtaining full wikipedia page for the topic: Software engineering. (Definition of Class #[6])\n",
            "Obtaining full wikipedia page for the topic: Industrial engineering. (Definition of Class #[7])\n",
            "Obtaining full wikipedia page for the topic: Computer engineering. (Definition of Class #[8])\n",
            "Retrieved 38 articles from category topic 'Computer engineering'[TopicID:8]\n",
            "Retrieved 57 articles from category topic 'Software engineering'[TopicID:6]\n",
            "Retrieved 67 articles from category topic 'Chemical engineering'[TopicID:0]\n",
            "Retrieved 74 articles from category topic 'Industrial engineering'[TopicID:7]\n",
            "Retrieved 74 articles from category topic 'Biomedical engineering'[TopicID:1]\n",
            "Retrieved 140 articles from category topic 'Electrical engineering'[TopicID:3]\n",
            "Retrieved 153 articles from category topic 'Civil engineering'[TopicID:2]\n",
            "Retrieved 173 articles from category topic 'Aerospace engineering'[TopicID:5]\n",
            "Retrieved 216 articles from category topic 'Mechanical engineering'[TopicID:4]\n"
          ],
          "name": "stdout"
        }
      ]
    },
    {
      "cell_type": "code",
      "metadata": {
        "id": "rmLlNzps2-D1",
        "colab_type": "code",
        "colab": {
          "base_uri": "https://localhost:8080/",
          "height": 34
        },
        "outputId": "d2ad650a-4e68-4453-c13a-ee8269f91a1b"
      },
      "source": [
        "x_train, y_train, x_test, y_test = doc_utils.processClassifierData(wiki_topic_defs_full, wiki_test_data, \n",
        "                                                                    doc_utils.ALL_TOPICS, \n",
        "                                                                    dataset_type=\"wiki\")\n",
        "                                                        \n",
        "max_sim_model = MaxSimClassifier(dataset_type=\"wiki\")\n",
        "\n",
        "max_sim_model.fit(x_train, y_train)"
      ],
      "execution_count": 34,
      "outputs": [
        {
          "output_type": "execute_result",
          "data": {
            "text/plain": [
              "MaxSimClassifier(dataset_type='wiki', epochs=50, min_count=2, vector_size=50)"
            ]
          },
          "metadata": {
            "tags": []
          },
          "execution_count": 34
        }
      ]
    },
    {
      "cell_type": "markdown",
      "metadata": {
        "id": "QMPzgLEQOHJs",
        "colab_type": "text"
      },
      "source": [
        "## Weighted top2 accuracy"
      ]
    },
    {
      "cell_type": "markdown",
      "metadata": {
        "id": "7Ah72PzHOnKc",
        "colab_type": "text"
      },
      "source": [
        "**66%**"
      ]
    },
    {
      "cell_type": "code",
      "metadata": {
        "id": "s8mcIcIDN8b7",
        "colab_type": "code",
        "colab": {
          "base_uri": "https://localhost:8080/",
          "height": 88
        },
        "outputId": "2597140c-406f-4902-c79b-1d7598758922"
      },
      "source": [
        "max_sim_model.score(wiki_test_data, y_test) #todo: solve x_test issue"
      ],
      "execution_count": 35,
      "outputs": [
        {
          "output_type": "stream",
          "text": [
            "/usr/local/lib/python3.6/dist-packages/gensim/matutils.py:737: FutureWarning: Conversion of the second argument of issubdtype from `int` to `np.signedinteger` is deprecated. In future, it will be treated as `np.int64 == np.dtype(int).type`.\n",
            "  if np.issubdtype(vec.dtype, np.int):\n"
          ],
          "name": "stderr"
        },
        {
          "output_type": "execute_result",
          "data": {
            "text/plain": [
              "0.6602822580645161"
            ]
          },
          "metadata": {
            "tags": []
          },
          "execution_count": 35
        }
      ]
    },
    {
      "cell_type": "markdown",
      "metadata": {
        "id": "c4DlvLNrOLEI",
        "colab_type": "text"
      },
      "source": [
        "## Top2 accuracy"
      ]
    },
    {
      "cell_type": "markdown",
      "metadata": {
        "id": "UOR3ErGDOktW",
        "colab_type": "text"
      },
      "source": [
        "**74.1%**"
      ]
    },
    {
      "cell_type": "code",
      "metadata": {
        "id": "XLjp_lpROOGW",
        "colab_type": "code",
        "colab": {
          "base_uri": "https://localhost:8080/",
          "height": 88
        },
        "outputId": "40437ad8-c3e0-424e-d681-f01276d0d21c"
      },
      "source": [
        "max_sim_model.score(wiki_test_data, y_test, eval=\"top2\")"
      ],
      "execution_count": 36,
      "outputs": [
        {
          "output_type": "stream",
          "text": [
            "/usr/local/lib/python3.6/dist-packages/gensim/matutils.py:737: FutureWarning: Conversion of the second argument of issubdtype from `int` to `np.signedinteger` is deprecated. In future, it will be treated as `np.int64 == np.dtype(int).type`.\n",
            "  if np.issubdtype(vec.dtype, np.int):\n"
          ],
          "name": "stderr"
        },
        {
          "output_type": "execute_result",
          "data": {
            "text/plain": [
              "0.7419354838709677"
            ]
          },
          "metadata": {
            "tags": []
          },
          "execution_count": 36
        }
      ]
    },
    {
      "cell_type": "markdown",
      "metadata": {
        "id": "pmxC1ZcvOSP_",
        "colab_type": "text"
      },
      "source": [
        "## Model and data explainability and error evaluation"
      ]
    },
    {
      "cell_type": "code",
      "metadata": {
        "id": "6FS-_khKOacg",
        "colab_type": "code",
        "colab": {
          "base_uri": "https://localhost:8080/",
          "height": 312
        },
        "outputId": "fa6376f0-888b-463a-e1a7-96731cb74bc8"
      },
      "source": [
        "total_len = 0\n",
        "topic_lengths = list()\n",
        "for topic in x_train:\n",
        "    total_len += len(topic)\n",
        "    topic_lengths.append(len(topic))\n",
        "\n",
        "print(\"Mean topic definition length:\", total_len/len(x_train))\n",
        "\n",
        "plt.barh(doc_utils.ALL_TOPICS, topic_lengths, align='center')\n",
        "plt.title(\"Length of topic definitions\")\n",
        "plt.xlabel(\"Number of words\")\n",
        "plt.ylabel(\"topic\")\n",
        "plt.show()"
      ],
      "execution_count": 37,
      "outputs": [
        {
          "output_type": "stream",
          "text": [
            "Mean topic definition length: 22756.222222222223\n"
          ],
          "name": "stdout"
        },
        {
          "output_type": "display_data",
          "data": {
            "image/png": "[encoded data removed]",
            "text/plain": [
              "<Figure size 432x288 with 1 Axes>"
            ]
          },
          "metadata": {
            "tags": [],
            "needs_background": "light"
          }
        }
      ]
    },
    {
      "cell_type": "code",
      "metadata": {
        "id": "24ywM4wnGt09",
        "colab_type": "code",
        "colab": {
          "base_uri": "https://localhost:8080/",
          "height": 498
        },
        "outputId": "7f780bd8-2938-414c-a641-0a0a37a05b10"
      },
      "source": [
        "predictions = max_sim_model.predict(wiki_test_data)\n",
        "doc_utils.plotConfMatrix(y_test, predictions, model=\"maxsim\", dataset_type=\"wiki\")"
      ],
      "execution_count": 27,
      "outputs": [
        {
          "output_type": "stream",
          "text": [
            "/usr/local/lib/python3.6/dist-packages/gensim/matutils.py:737: FutureWarning: Conversion of the second argument of issubdtype from `int` to `np.signedinteger` is deprecated. In future, it will be treated as `np.int64 == np.dtype(int).type`.\n",
            "  if np.issubdtype(vec.dtype, np.int):\n"
          ],
          "name": "stderr"
        },
        {
          "output_type": "display_data",
          "data": {
            "image/png": "[encoded data removed]",
            "text/plain": [
              "<Figure size 720x504 with 2 Axes>"
            ]
          },
          "metadata": {
            "tags": [],
            "needs_background": "light"
          }
        }
      ]
    }
  ]
}