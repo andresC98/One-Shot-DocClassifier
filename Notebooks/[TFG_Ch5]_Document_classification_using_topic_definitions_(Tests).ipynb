{
  "nbformat": 4,
  "nbformat_minor": 0,
  "metadata": {
    "colab": {
      "name": "[TFG Ch5] Document classification using topic definitions (Tests).ipynb",
      "provenance": [],
      "collapsed_sections": [
        "nebeMZHkOAT4"
      ],
      "toc_visible": true
    },
    "kernelspec": {
      "name": "python3",
      "display_name": "Python 3"
    },
    "widgets": {
      "application/vnd.jupyter.widget-state+json": {
        "cd151c74442f43f5b3ea25717cdd780b": {
          "model_module": "@jupyter-widgets/controls",
          "model_name": "HBoxModel",
          "state": {
            "_view_name": "HBoxView",
            "_dom_classes": [],
            "_model_name": "HBoxModel",
            "_view_module": "@jupyter-widgets/controls",
            "_model_module_version": "1.5.0",
            "_view_count": null,
            "_view_module_version": "1.5.0",
            "box_style": "",
            "layout": "IPY_MODEL_b6b34fb11d0c4b5b89209ebef308baea",
            "_model_module": "@jupyter-widgets/controls",
            "children": [
              "IPY_MODEL_8527ab0919ee408898c58879369d6669",
              "IPY_MODEL_b8bfee29baba4fada71c4b3aa11200c5"
            ]
          }
        },
        "b6b34fb11d0c4b5b89209ebef308baea": {
          "model_module": "@jupyter-widgets/base",
          "model_name": "LayoutModel",
          "state": {
            "_view_name": "LayoutView",
            "grid_template_rows": null,
            "right": null,
            "justify_content": null,
            "_view_module": "@jupyter-widgets/base",
            "overflow": null,
            "_model_module_version": "1.2.0",
            "_view_count": null,
            "flex_flow": null,
            "width": null,
            "min_width": null,
            "border": null,
            "align_items": null,
            "bottom": null,
            "_model_module": "@jupyter-widgets/base",
            "top": null,
            "grid_column": null,
            "overflow_y": null,
            "overflow_x": null,
            "grid_auto_flow": null,
            "grid_area": null,
            "grid_template_columns": null,
            "flex": null,
            "_model_name": "LayoutModel",
            "justify_items": null,
            "grid_row": null,
            "max_height": null,
            "align_content": null,
            "visibility": null,
            "align_self": null,
            "height": null,
            "min_height": null,
            "padding": null,
            "grid_auto_rows": null,
            "grid_gap": null,
            "max_width": null,
            "order": null,
            "_view_module_version": "1.2.0",
            "grid_template_areas": null,
            "object_position": null,
            "object_fit": null,
            "grid_auto_columns": null,
            "margin": null,
            "display": null,
            "left": null
          }
        },
        "8527ab0919ee408898c58879369d6669": {
          "model_module": "@jupyter-widgets/controls",
          "model_name": "FloatProgressModel",
          "state": {
            "_view_name": "ProgressView",
            "style": "IPY_MODEL_dca52748ea864b34a993ff3105c41d40",
            "_dom_classes": [],
            "description": "100%",
            "_model_name": "FloatProgressModel",
            "bar_style": "success",
            "max": 30,
            "_view_module": "@jupyter-widgets/controls",
            "_model_module_version": "1.5.0",
            "value": 30,
            "_view_count": null,
            "_view_module_version": "1.5.0",
            "orientation": "horizontal",
            "min": 0,
            "description_tooltip": null,
            "_model_module": "@jupyter-widgets/controls",
            "layout": "IPY_MODEL_44ce94a91ebd453ea38d313ab7bdf6b9"
          }
        },
        "b8bfee29baba4fada71c4b3aa11200c5": {
          "model_module": "@jupyter-widgets/controls",
          "model_name": "HTMLModel",
          "state": {
            "_view_name": "HTMLView",
            "style": "IPY_MODEL_988e38c5395341f28ce4fc011b97b6e0",
            "_dom_classes": [],
            "description": "",
            "_model_name": "HTMLModel",
            "placeholder": "​",
            "_view_module": "@jupyter-widgets/controls",
            "_model_module_version": "1.5.0",
            "value": " 30/30 [01:05&lt;00:00,  2.17s/it]",
            "_view_count": null,
            "_view_module_version": "1.5.0",
            "description_tooltip": null,
            "_model_module": "@jupyter-widgets/controls",
            "layout": "IPY_MODEL_5bdce3ff6fed43328312bbf909dca92c"
          }
        },
        "dca52748ea864b34a993ff3105c41d40": {
          "model_module": "@jupyter-widgets/controls",
          "model_name": "ProgressStyleModel",
          "state": {
            "_view_name": "StyleView",
            "_model_name": "ProgressStyleModel",
            "description_width": "initial",
            "_view_module": "@jupyter-widgets/base",
            "_model_module_version": "1.5.0",
            "_view_count": null,
            "_view_module_version": "1.2.0",
            "bar_color": null,
            "_model_module": "@jupyter-widgets/controls"
          }
        },
        "44ce94a91ebd453ea38d313ab7bdf6b9": {
          "model_module": "@jupyter-widgets/base",
          "model_name": "LayoutModel",
          "state": {
            "_view_name": "LayoutView",
            "grid_template_rows": null,
            "right": null,
            "justify_content": null,
            "_view_module": "@jupyter-widgets/base",
            "overflow": null,
            "_model_module_version": "1.2.0",
            "_view_count": null,
            "flex_flow": null,
            "width": null,
            "min_width": null,
            "border": null,
            "align_items": null,
            "bottom": null,
            "_model_module": "@jupyter-widgets/base",
            "top": null,
            "grid_column": null,
            "overflow_y": null,
            "overflow_x": null,
            "grid_auto_flow": null,
            "grid_area": null,
            "grid_template_columns": null,
            "flex": null,
            "_model_name": "LayoutModel",
            "justify_items": null,
            "grid_row": null,
            "max_height": null,
            "align_content": null,
            "visibility": null,
            "align_self": null,
            "height": null,
            "min_height": null,
            "padding": null,
            "grid_auto_rows": null,
            "grid_gap": null,
            "max_width": null,
            "order": null,
            "_view_module_version": "1.2.0",
            "grid_template_areas": null,
            "object_position": null,
            "object_fit": null,
            "grid_auto_columns": null,
            "margin": null,
            "display": null,
            "left": null
          }
        },
        "988e38c5395341f28ce4fc011b97b6e0": {
          "model_module": "@jupyter-widgets/controls",
          "model_name": "DescriptionStyleModel",
          "state": {
            "_view_name": "StyleView",
            "_model_name": "DescriptionStyleModel",
            "description_width": "",
            "_view_module": "@jupyter-widgets/base",
            "_model_module_version": "1.5.0",
            "_view_count": null,
            "_view_module_version": "1.2.0",
            "_model_module": "@jupyter-widgets/controls"
          }
        },
        "5bdce3ff6fed43328312bbf909dca92c": {
          "model_module": "@jupyter-widgets/base",
          "model_name": "LayoutModel",
          "state": {
            "_view_name": "LayoutView",
            "grid_template_rows": null,
            "right": null,
            "justify_content": null,
            "_view_module": "@jupyter-widgets/base",
            "overflow": null,
            "_model_module_version": "1.2.0",
            "_view_count": null,
            "flex_flow": null,
            "width": null,
            "min_width": null,
            "border": null,
            "align_items": null,
            "bottom": null,
            "_model_module": "@jupyter-widgets/base",
            "top": null,
            "grid_column": null,
            "overflow_y": null,
            "overflow_x": null,
            "grid_auto_flow": null,
            "grid_area": null,
            "grid_template_columns": null,
            "flex": null,
            "_model_name": "LayoutModel",
            "justify_items": null,
            "grid_row": null,
            "max_height": null,
            "align_content": null,
            "visibility": null,
            "align_self": null,
            "height": null,
            "min_height": null,
            "padding": null,
            "grid_auto_rows": null,
            "grid_gap": null,
            "max_width": null,
            "order": null,
            "_view_module_version": "1.2.0",
            "grid_template_areas": null,
            "object_position": null,
            "object_fit": null,
            "grid_auto_columns": null,
            "margin": null,
            "display": null,
            "left": null
          }
        },
        "7cfa8d2e7e1e4802ba04063e601ee339": {
          "model_module": "@jupyter-widgets/controls",
          "model_name": "HBoxModel",
          "state": {
            "_view_name": "HBoxView",
            "_dom_classes": [],
            "_model_name": "HBoxModel",
            "_view_module": "@jupyter-widgets/controls",
            "_model_module_version": "1.5.0",
            "_view_count": null,
            "_view_module_version": "1.5.0",
            "box_style": "",
            "layout": "IPY_MODEL_7f06e54da84248b586a5453dc166b84b",
            "_model_module": "@jupyter-widgets/controls",
            "children": [
              "IPY_MODEL_687d9a0b83894ad687932d7855cef85a",
              "IPY_MODEL_18dfff00c9f64417ad255494e6ae9350"
            ]
          }
        },
        "7f06e54da84248b586a5453dc166b84b": {
          "model_module": "@jupyter-widgets/base",
          "model_name": "LayoutModel",
          "state": {
            "_view_name": "LayoutView",
            "grid_template_rows": null,
            "right": null,
            "justify_content": null,
            "_view_module": "@jupyter-widgets/base",
            "overflow": null,
            "_model_module_version": "1.2.0",
            "_view_count": null,
            "flex_flow": null,
            "width": null,
            "min_width": null,
            "border": null,
            "align_items": null,
            "bottom": null,
            "_model_module": "@jupyter-widgets/base",
            "top": null,
            "grid_column": null,
            "overflow_y": null,
            "overflow_x": null,
            "grid_auto_flow": null,
            "grid_area": null,
            "grid_template_columns": null,
            "flex": null,
            "_model_name": "LayoutModel",
            "justify_items": null,
            "grid_row": null,
            "max_height": null,
            "align_content": null,
            "visibility": null,
            "align_self": null,
            "height": null,
            "min_height": null,
            "padding": null,
            "grid_auto_rows": null,
            "grid_gap": null,
            "max_width": null,
            "order": null,
            "_view_module_version": "1.2.0",
            "grid_template_areas": null,
            "object_position": null,
            "object_fit": null,
            "grid_auto_columns": null,
            "margin": null,
            "display": null,
            "left": null
          }
        },
        "687d9a0b83894ad687932d7855cef85a": {
          "model_module": "@jupyter-widgets/controls",
          "model_name": "FloatProgressModel",
          "state": {
            "_view_name": "ProgressView",
            "style": "IPY_MODEL_7817e9ac41954225aad7f29cdaf98d49",
            "_dom_classes": [],
            "description": "100%",
            "_model_name": "FloatProgressModel",
            "bar_style": "success",
            "max": 30,
            "_view_module": "@jupyter-widgets/controls",
            "_model_module_version": "1.5.0",
            "value": 30,
            "_view_count": null,
            "_view_module_version": "1.5.0",
            "orientation": "horizontal",
            "min": 0,
            "description_tooltip": null,
            "_model_module": "@jupyter-widgets/controls",
            "layout": "IPY_MODEL_4f5388e6a24a4ad5be7542f79194ed4d"
          }
        },
        "18dfff00c9f64417ad255494e6ae9350": {
          "model_module": "@jupyter-widgets/controls",
          "model_name": "HTMLModel",
          "state": {
            "_view_name": "HTMLView",
            "style": "IPY_MODEL_5d82d3802e9d45e38013ad4e5918993e",
            "_dom_classes": [],
            "description": "",
            "_model_name": "HTMLModel",
            "placeholder": "​",
            "_view_module": "@jupyter-widgets/controls",
            "_model_module_version": "1.5.0",
            "value": " 30/30 [00:49&lt;00:00,  1.64s/it]",
            "_view_count": null,
            "_view_module_version": "1.5.0",
            "description_tooltip": null,
            "_model_module": "@jupyter-widgets/controls",
            "layout": "IPY_MODEL_77ac59d545d84a73b3b4b89662a4652b"
          }
        },
        "7817e9ac41954225aad7f29cdaf98d49": {
          "model_module": "@jupyter-widgets/controls",
          "model_name": "ProgressStyleModel",
          "state": {
            "_view_name": "StyleView",
            "_model_name": "ProgressStyleModel",
            "description_width": "initial",
            "_view_module": "@jupyter-widgets/base",
            "_model_module_version": "1.5.0",
            "_view_count": null,
            "_view_module_version": "1.2.0",
            "bar_color": null,
            "_model_module": "@jupyter-widgets/controls"
          }
        },
        "4f5388e6a24a4ad5be7542f79194ed4d": {
          "model_module": "@jupyter-widgets/base",
          "model_name": "LayoutModel",
          "state": {
            "_view_name": "LayoutView",
            "grid_template_rows": null,
            "right": null,
            "justify_content": null,
            "_view_module": "@jupyter-widgets/base",
            "overflow": null,
            "_model_module_version": "1.2.0",
            "_view_count": null,
            "flex_flow": null,
            "width": null,
            "min_width": null,
            "border": null,
            "align_items": null,
            "bottom": null,
            "_model_module": "@jupyter-widgets/base",
            "top": null,
            "grid_column": null,
            "overflow_y": null,
            "overflow_x": null,
            "grid_auto_flow": null,
            "grid_area": null,
            "grid_template_columns": null,
            "flex": null,
            "_model_name": "LayoutModel",
            "justify_items": null,
            "grid_row": null,
            "max_height": null,
            "align_content": null,
            "visibility": null,
            "align_self": null,
            "height": null,
            "min_height": null,
            "padding": null,
            "grid_auto_rows": null,
            "grid_gap": null,
            "max_width": null,
            "order": null,
            "_view_module_version": "1.2.0",
            "grid_template_areas": null,
            "object_position": null,
            "object_fit": null,
            "grid_auto_columns": null,
            "margin": null,
            "display": null,
            "left": null
          }
        },
        "5d82d3802e9d45e38013ad4e5918993e": {
          "model_module": "@jupyter-widgets/controls",
          "model_name": "DescriptionStyleModel",
          "state": {
            "_view_name": "StyleView",
            "_model_name": "DescriptionStyleModel",
            "description_width": "",
            "_view_module": "@jupyter-widgets/base",
            "_model_module_version": "1.5.0",
            "_view_count": null,
            "_view_module_version": "1.2.0",
            "_model_module": "@jupyter-widgets/controls"
          }
        },
        "77ac59d545d84a73b3b4b89662a4652b": {
          "model_module": "@jupyter-widgets/base",
          "model_name": "LayoutModel",
          "state": {
            "_view_name": "LayoutView",
            "grid_template_rows": null,
            "right": null,
            "justify_content": null,
            "_view_module": "@jupyter-widgets/base",
            "overflow": null,
            "_model_module_version": "1.2.0",
            "_view_count": null,
            "flex_flow": null,
            "width": null,
            "min_width": null,
            "border": null,
            "align_items": null,
            "bottom": null,
            "_model_module": "@jupyter-widgets/base",
            "top": null,
            "grid_column": null,
            "overflow_y": null,
            "overflow_x": null,
            "grid_auto_flow": null,
            "grid_area": null,
            "grid_template_columns": null,
            "flex": null,
            "_model_name": "LayoutModel",
            "justify_items": null,
            "grid_row": null,
            "max_height": null,
            "align_content": null,
            "visibility": null,
            "align_self": null,
            "height": null,
            "min_height": null,
            "padding": null,
            "grid_auto_rows": null,
            "grid_gap": null,
            "max_width": null,
            "order": null,
            "_view_module_version": "1.2.0",
            "grid_template_areas": null,
            "object_position": null,
            "object_fit": null,
            "grid_auto_columns": null,
            "margin": null,
            "display": null,
            "left": null
          }
        },
        "87f733126b9048a6829180c8642cc6ea": {
          "model_module": "@jupyter-widgets/controls",
          "model_name": "HBoxModel",
          "state": {
            "_view_name": "HBoxView",
            "_dom_classes": [],
            "_model_name": "HBoxModel",
            "_view_module": "@jupyter-widgets/controls",
            "_model_module_version": "1.5.0",
            "_view_count": null,
            "_view_module_version": "1.5.0",
            "box_style": "",
            "layout": "IPY_MODEL_6eb51104838a4968bc2fc3b446a4324b",
            "_model_module": "@jupyter-widgets/controls",
            "children": [
              "IPY_MODEL_493bde2bf1194462a608195fc2d64110",
              "IPY_MODEL_357703dad4c14eaebfb20000e7c4f7b9"
            ]
          }
        },
        "6eb51104838a4968bc2fc3b446a4324b": {
          "model_module": "@jupyter-widgets/base",
          "model_name": "LayoutModel",
          "state": {
            "_view_name": "LayoutView",
            "grid_template_rows": null,
            "right": null,
            "justify_content": null,
            "_view_module": "@jupyter-widgets/base",
            "overflow": null,
            "_model_module_version": "1.2.0",
            "_view_count": null,
            "flex_flow": null,
            "width": null,
            "min_width": null,
            "border": null,
            "align_items": null,
            "bottom": null,
            "_model_module": "@jupyter-widgets/base",
            "top": null,
            "grid_column": null,
            "overflow_y": null,
            "overflow_x": null,
            "grid_auto_flow": null,
            "grid_area": null,
            "grid_template_columns": null,
            "flex": null,
            "_model_name": "LayoutModel",
            "justify_items": null,
            "grid_row": null,
            "max_height": null,
            "align_content": null,
            "visibility": null,
            "align_self": null,
            "height": null,
            "min_height": null,
            "padding": null,
            "grid_auto_rows": null,
            "grid_gap": null,
            "max_width": null,
            "order": null,
            "_view_module_version": "1.2.0",
            "grid_template_areas": null,
            "object_position": null,
            "object_fit": null,
            "grid_auto_columns": null,
            "margin": null,
            "display": null,
            "left": null
          }
        },
        "493bde2bf1194462a608195fc2d64110": {
          "model_module": "@jupyter-widgets/controls",
          "model_name": "FloatProgressModel",
          "state": {
            "_view_name": "ProgressView",
            "style": "IPY_MODEL_77ae0fa6e15a4cbb9fa956562ceac673",
            "_dom_classes": [],
            "description": "100%",
            "_model_name": "FloatProgressModel",
            "bar_style": "success",
            "max": 30,
            "_view_module": "@jupyter-widgets/controls",
            "_model_module_version": "1.5.0",
            "value": 30,
            "_view_count": null,
            "_view_module_version": "1.5.0",
            "orientation": "horizontal",
            "min": 0,
            "description_tooltip": null,
            "_model_module": "@jupyter-widgets/controls",
            "layout": "IPY_MODEL_cb42812e745044598332335445b9c1c1"
          }
        },
        "357703dad4c14eaebfb20000e7c4f7b9": {
          "model_module": "@jupyter-widgets/controls",
          "model_name": "HTMLModel",
          "state": {
            "_view_name": "HTMLView",
            "style": "IPY_MODEL_b7392d08ae184362a60f434d38a86dee",
            "_dom_classes": [],
            "description": "",
            "_model_name": "HTMLModel",
            "placeholder": "​",
            "_view_module": "@jupyter-widgets/controls",
            "_model_module_version": "1.5.0",
            "value": " 30/30 [01:38&lt;00:00,  3.27s/it]",
            "_view_count": null,
            "_view_module_version": "1.5.0",
            "description_tooltip": null,
            "_model_module": "@jupyter-widgets/controls",
            "layout": "IPY_MODEL_2f66cc4a753c4c69b070d4feb035dc16"
          }
        },
        "77ae0fa6e15a4cbb9fa956562ceac673": {
          "model_module": "@jupyter-widgets/controls",
          "model_name": "ProgressStyleModel",
          "state": {
            "_view_name": "StyleView",
            "_model_name": "ProgressStyleModel",
            "description_width": "initial",
            "_view_module": "@jupyter-widgets/base",
            "_model_module_version": "1.5.0",
            "_view_count": null,
            "_view_module_version": "1.2.0",
            "bar_color": null,
            "_model_module": "@jupyter-widgets/controls"
          }
        },
        "cb42812e745044598332335445b9c1c1": {
          "model_module": "@jupyter-widgets/base",
          "model_name": "LayoutModel",
          "state": {
            "_view_name": "LayoutView",
            "grid_template_rows": null,
            "right": null,
            "justify_content": null,
            "_view_module": "@jupyter-widgets/base",
            "overflow": null,
            "_model_module_version": "1.2.0",
            "_view_count": null,
            "flex_flow": null,
            "width": null,
            "min_width": null,
            "border": null,
            "align_items": null,
            "bottom": null,
            "_model_module": "@jupyter-widgets/base",
            "top": null,
            "grid_column": null,
            "overflow_y": null,
            "overflow_x": null,
            "grid_auto_flow": null,
            "grid_area": null,
            "grid_template_columns": null,
            "flex": null,
            "_model_name": "LayoutModel",
            "justify_items": null,
            "grid_row": null,
            "max_height": null,
            "align_content": null,
            "visibility": null,
            "align_self": null,
            "height": null,
            "min_height": null,
            "padding": null,
            "grid_auto_rows": null,
            "grid_gap": null,
            "max_width": null,
            "order": null,
            "_view_module_version": "1.2.0",
            "grid_template_areas": null,
            "object_position": null,
            "object_fit": null,
            "grid_auto_columns": null,
            "margin": null,
            "display": null,
            "left": null
          }
        },
        "b7392d08ae184362a60f434d38a86dee": {
          "model_module": "@jupyter-widgets/controls",
          "model_name": "DescriptionStyleModel",
          "state": {
            "_view_name": "StyleView",
            "_model_name": "DescriptionStyleModel",
            "description_width": "",
            "_view_module": "@jupyter-widgets/base",
            "_model_module_version": "1.5.0",
            "_view_count": null,
            "_view_module_version": "1.2.0",
            "_model_module": "@jupyter-widgets/controls"
          }
        },
        "2f66cc4a753c4c69b070d4feb035dc16": {
          "model_module": "@jupyter-widgets/base",
          "model_name": "LayoutModel",
          "state": {
            "_view_name": "LayoutView",
            "grid_template_rows": null,
            "right": null,
            "justify_content": null,
            "_view_module": "@jupyter-widgets/base",
            "overflow": null,
            "_model_module_version": "1.2.0",
            "_view_count": null,
            "flex_flow": null,
            "width": null,
            "min_width": null,
            "border": null,
            "align_items": null,
            "bottom": null,
            "_model_module": "@jupyter-widgets/base",
            "top": null,
            "grid_column": null,
            "overflow_y": null,
            "overflow_x": null,
            "grid_auto_flow": null,
            "grid_area": null,
            "grid_template_columns": null,
            "flex": null,
            "_model_name": "LayoutModel",
            "justify_items": null,
            "grid_row": null,
            "max_height": null,
            "align_content": null,
            "visibility": null,
            "align_self": null,
            "height": null,
            "min_height": null,
            "padding": null,
            "grid_auto_rows": null,
            "grid_gap": null,
            "max_width": null,
            "order": null,
            "_view_module_version": "1.2.0",
            "grid_template_areas": null,
            "object_position": null,
            "object_fit": null,
            "grid_auto_columns": null,
            "margin": null,
            "display": null,
            "left": null
          }
        },
        "70879ae1209147a5933285065ee9d7f5": {
          "model_module": "@jupyter-widgets/controls",
          "model_name": "HBoxModel",
          "state": {
            "_view_name": "HBoxView",
            "_dom_classes": [],
            "_model_name": "HBoxModel",
            "_view_module": "@jupyter-widgets/controls",
            "_model_module_version": "1.5.0",
            "_view_count": null,
            "_view_module_version": "1.5.0",
            "box_style": "",
            "layout": "IPY_MODEL_58638f9a0fbb4021912711c88ed41c74",
            "_model_module": "@jupyter-widgets/controls",
            "children": [
              "IPY_MODEL_cf60c0e7be5a427f9e42ee6d2150c569",
              "IPY_MODEL_4916304df34f4784b1da1f1b726758bd"
            ]
          }
        },
        "58638f9a0fbb4021912711c88ed41c74": {
          "model_module": "@jupyter-widgets/base",
          "model_name": "LayoutModel",
          "state": {
            "_view_name": "LayoutView",
            "grid_template_rows": null,
            "right": null,
            "justify_content": null,
            "_view_module": "@jupyter-widgets/base",
            "overflow": null,
            "_model_module_version": "1.2.0",
            "_view_count": null,
            "flex_flow": null,
            "width": null,
            "min_width": null,
            "border": null,
            "align_items": null,
            "bottom": null,
            "_model_module": "@jupyter-widgets/base",
            "top": null,
            "grid_column": null,
            "overflow_y": null,
            "overflow_x": null,
            "grid_auto_flow": null,
            "grid_area": null,
            "grid_template_columns": null,
            "flex": null,
            "_model_name": "LayoutModel",
            "justify_items": null,
            "grid_row": null,
            "max_height": null,
            "align_content": null,
            "visibility": null,
            "align_self": null,
            "height": null,
            "min_height": null,
            "padding": null,
            "grid_auto_rows": null,
            "grid_gap": null,
            "max_width": null,
            "order": null,
            "_view_module_version": "1.2.0",
            "grid_template_areas": null,
            "object_position": null,
            "object_fit": null,
            "grid_auto_columns": null,
            "margin": null,
            "display": null,
            "left": null
          }
        },
        "cf60c0e7be5a427f9e42ee6d2150c569": {
          "model_module": "@jupyter-widgets/controls",
          "model_name": "FloatProgressModel",
          "state": {
            "_view_name": "ProgressView",
            "style": "IPY_MODEL_37117a1250644674ad29d47394e5ca8a",
            "_dom_classes": [],
            "description": "100%",
            "_model_name": "FloatProgressModel",
            "bar_style": "success",
            "max": 30,
            "_view_module": "@jupyter-widgets/controls",
            "_model_module_version": "1.5.0",
            "value": 30,
            "_view_count": null,
            "_view_module_version": "1.5.0",
            "orientation": "horizontal",
            "min": 0,
            "description_tooltip": null,
            "_model_module": "@jupyter-widgets/controls",
            "layout": "IPY_MODEL_b3e0f403cb144fb9a89e8dc70ab18d20"
          }
        },
        "4916304df34f4784b1da1f1b726758bd": {
          "model_module": "@jupyter-widgets/controls",
          "model_name": "HTMLModel",
          "state": {
            "_view_name": "HTMLView",
            "style": "IPY_MODEL_a1069ef1caa744eeb1c1e1484c2aeed0",
            "_dom_classes": [],
            "description": "",
            "_model_name": "HTMLModel",
            "placeholder": "​",
            "_view_module": "@jupyter-widgets/controls",
            "_model_module_version": "1.5.0",
            "value": " 30/30 [36:02&lt;00:00, 72.07s/it]",
            "_view_count": null,
            "_view_module_version": "1.5.0",
            "description_tooltip": null,
            "_model_module": "@jupyter-widgets/controls",
            "layout": "IPY_MODEL_1789b0160d0d47aea167c9ac5e39e01a"
          }
        },
        "37117a1250644674ad29d47394e5ca8a": {
          "model_module": "@jupyter-widgets/controls",
          "model_name": "ProgressStyleModel",
          "state": {
            "_view_name": "StyleView",
            "_model_name": "ProgressStyleModel",
            "description_width": "initial",
            "_view_module": "@jupyter-widgets/base",
            "_model_module_version": "1.5.0",
            "_view_count": null,
            "_view_module_version": "1.2.0",
            "bar_color": null,
            "_model_module": "@jupyter-widgets/controls"
          }
        },
        "b3e0f403cb144fb9a89e8dc70ab18d20": {
          "model_module": "@jupyter-widgets/base",
          "model_name": "LayoutModel",
          "state": {
            "_view_name": "LayoutView",
            "grid_template_rows": null,
            "right": null,
            "justify_content": null,
            "_view_module": "@jupyter-widgets/base",
            "overflow": null,
            "_model_module_version": "1.2.0",
            "_view_count": null,
            "flex_flow": null,
            "width": null,
            "min_width": null,
            "border": null,
            "align_items": null,
            "bottom": null,
            "_model_module": "@jupyter-widgets/base",
            "top": null,
            "grid_column": null,
            "overflow_y": null,
            "overflow_x": null,
            "grid_auto_flow": null,
            "grid_area": null,
            "grid_template_columns": null,
            "flex": null,
            "_model_name": "LayoutModel",
            "justify_items": null,
            "grid_row": null,
            "max_height": null,
            "align_content": null,
            "visibility": null,
            "align_self": null,
            "height": null,
            "min_height": null,
            "padding": null,
            "grid_auto_rows": null,
            "grid_gap": null,
            "max_width": null,
            "order": null,
            "_view_module_version": "1.2.0",
            "grid_template_areas": null,
            "object_position": null,
            "object_fit": null,
            "grid_auto_columns": null,
            "margin": null,
            "display": null,
            "left": null
          }
        },
        "a1069ef1caa744eeb1c1e1484c2aeed0": {
          "model_module": "@jupyter-widgets/controls",
          "model_name": "DescriptionStyleModel",
          "state": {
            "_view_name": "StyleView",
            "_model_name": "DescriptionStyleModel",
            "description_width": "",
            "_view_module": "@jupyter-widgets/base",
            "_model_module_version": "1.5.0",
            "_view_count": null,
            "_view_module_version": "1.2.0",
            "_model_module": "@jupyter-widgets/controls"
          }
        },
        "1789b0160d0d47aea167c9ac5e39e01a": {
          "model_module": "@jupyter-widgets/base",
          "model_name": "LayoutModel",
          "state": {
            "_view_name": "LayoutView",
            "grid_template_rows": null,
            "right": null,
            "justify_content": null,
            "_view_module": "@jupyter-widgets/base",
            "overflow": null,
            "_model_module_version": "1.2.0",
            "_view_count": null,
            "flex_flow": null,
            "width": null,
            "min_width": null,
            "border": null,
            "align_items": null,
            "bottom": null,
            "_model_module": "@jupyter-widgets/base",
            "top": null,
            "grid_column": null,
            "overflow_y": null,
            "overflow_x": null,
            "grid_auto_flow": null,
            "grid_area": null,
            "grid_template_columns": null,
            "flex": null,
            "_model_name": "LayoutModel",
            "justify_items": null,
            "grid_row": null,
            "max_height": null,
            "align_content": null,
            "visibility": null,
            "align_self": null,
            "height": null,
            "min_height": null,
            "padding": null,
            "grid_auto_rows": null,
            "grid_gap": null,
            "max_width": null,
            "order": null,
            "_view_module_version": "1.2.0",
            "grid_template_areas": null,
            "object_position": null,
            "object_fit": null,
            "grid_auto_columns": null,
            "margin": null,
            "display": null,
            "left": null
          }
        },
        "dea8b6b48b644a07b0a95e6f3dc55cb6": {
          "model_module": "@jupyter-widgets/controls",
          "model_name": "HBoxModel",
          "state": {
            "_view_name": "HBoxView",
            "_dom_classes": [],
            "_model_name": "HBoxModel",
            "_view_module": "@jupyter-widgets/controls",
            "_model_module_version": "1.5.0",
            "_view_count": null,
            "_view_module_version": "1.5.0",
            "box_style": "",
            "layout": "IPY_MODEL_fbe25ad3d5514e63aec0f19b81772953",
            "_model_module": "@jupyter-widgets/controls",
            "children": [
              "IPY_MODEL_3504df3452c94c818ac3b0904da297ab",
              "IPY_MODEL_596119f861a74b03b6c78b06cf706880"
            ]
          }
        },
        "fbe25ad3d5514e63aec0f19b81772953": {
          "model_module": "@jupyter-widgets/base",
          "model_name": "LayoutModel",
          "state": {
            "_view_name": "LayoutView",
            "grid_template_rows": null,
            "right": null,
            "justify_content": null,
            "_view_module": "@jupyter-widgets/base",
            "overflow": null,
            "_model_module_version": "1.2.0",
            "_view_count": null,
            "flex_flow": null,
            "width": null,
            "min_width": null,
            "border": null,
            "align_items": null,
            "bottom": null,
            "_model_module": "@jupyter-widgets/base",
            "top": null,
            "grid_column": null,
            "overflow_y": null,
            "overflow_x": null,
            "grid_auto_flow": null,
            "grid_area": null,
            "grid_template_columns": null,
            "flex": null,
            "_model_name": "LayoutModel",
            "justify_items": null,
            "grid_row": null,
            "max_height": null,
            "align_content": null,
            "visibility": null,
            "align_self": null,
            "height": null,
            "min_height": null,
            "padding": null,
            "grid_auto_rows": null,
            "grid_gap": null,
            "max_width": null,
            "order": null,
            "_view_module_version": "1.2.0",
            "grid_template_areas": null,
            "object_position": null,
            "object_fit": null,
            "grid_auto_columns": null,
            "margin": null,
            "display": null,
            "left": null
          }
        },
        "3504df3452c94c818ac3b0904da297ab": {
          "model_module": "@jupyter-widgets/controls",
          "model_name": "FloatProgressModel",
          "state": {
            "_view_name": "ProgressView",
            "style": "IPY_MODEL_2851367810ed495aafe36f3b0eb7f09a",
            "_dom_classes": [],
            "description": "100%",
            "_model_name": "FloatProgressModel",
            "bar_style": "success",
            "max": 30,
            "_view_module": "@jupyter-widgets/controls",
            "_model_module_version": "1.5.0",
            "value": 30,
            "_view_count": null,
            "_view_module_version": "1.5.0",
            "orientation": "horizontal",
            "min": 0,
            "description_tooltip": null,
            "_model_module": "@jupyter-widgets/controls",
            "layout": "IPY_MODEL_5df90b36fc4d431a86ce84259c580012"
          }
        },
        "596119f861a74b03b6c78b06cf706880": {
          "model_module": "@jupyter-widgets/controls",
          "model_name": "HTMLModel",
          "state": {
            "_view_name": "HTMLView",
            "style": "IPY_MODEL_b2318b7eec7e47de8c9311d11b784ca0",
            "_dom_classes": [],
            "description": "",
            "_model_name": "HTMLModel",
            "placeholder": "​",
            "_view_module": "@jupyter-widgets/controls",
            "_model_module_version": "1.5.0",
            "value": " 30/30 [04:56&lt;00:00,  9.87s/it]",
            "_view_count": null,
            "_view_module_version": "1.5.0",
            "description_tooltip": null,
            "_model_module": "@jupyter-widgets/controls",
            "layout": "IPY_MODEL_319011b813b8436a982e9797d4c6ee22"
          }
        },
        "2851367810ed495aafe36f3b0eb7f09a": {
          "model_module": "@jupyter-widgets/controls",
          "model_name": "ProgressStyleModel",
          "state": {
            "_view_name": "StyleView",
            "_model_name": "ProgressStyleModel",
            "description_width": "initial",
            "_view_module": "@jupyter-widgets/base",
            "_model_module_version": "1.5.0",
            "_view_count": null,
            "_view_module_version": "1.2.0",
            "bar_color": null,
            "_model_module": "@jupyter-widgets/controls"
          }
        },
        "5df90b36fc4d431a86ce84259c580012": {
          "model_module": "@jupyter-widgets/base",
          "model_name": "LayoutModel",
          "state": {
            "_view_name": "LayoutView",
            "grid_template_rows": null,
            "right": null,
            "justify_content": null,
            "_view_module": "@jupyter-widgets/base",
            "overflow": null,
            "_model_module_version": "1.2.0",
            "_view_count": null,
            "flex_flow": null,
            "width": null,
            "min_width": null,
            "border": null,
            "align_items": null,
            "bottom": null,
            "_model_module": "@jupyter-widgets/base",
            "top": null,
            "grid_column": null,
            "overflow_y": null,
            "overflow_x": null,
            "grid_auto_flow": null,
            "grid_area": null,
            "grid_template_columns": null,
            "flex": null,
            "_model_name": "LayoutModel",
            "justify_items": null,
            "grid_row": null,
            "max_height": null,
            "align_content": null,
            "visibility": null,
            "align_self": null,
            "height": null,
            "min_height": null,
            "padding": null,
            "grid_auto_rows": null,
            "grid_gap": null,
            "max_width": null,
            "order": null,
            "_view_module_version": "1.2.0",
            "grid_template_areas": null,
            "object_position": null,
            "object_fit": null,
            "grid_auto_columns": null,
            "margin": null,
            "display": null,
            "left": null
          }
        },
        "b2318b7eec7e47de8c9311d11b784ca0": {
          "model_module": "@jupyter-widgets/controls",
          "model_name": "DescriptionStyleModel",
          "state": {
            "_view_name": "StyleView",
            "_model_name": "DescriptionStyleModel",
            "description_width": "",
            "_view_module": "@jupyter-widgets/base",
            "_model_module_version": "1.5.0",
            "_view_count": null,
            "_view_module_version": "1.2.0",
            "_model_module": "@jupyter-widgets/controls"
          }
        },
        "319011b813b8436a982e9797d4c6ee22": {
          "model_module": "@jupyter-widgets/base",
          "model_name": "LayoutModel",
          "state": {
            "_view_name": "LayoutView",
            "grid_template_rows": null,
            "right": null,
            "justify_content": null,
            "_view_module": "@jupyter-widgets/base",
            "overflow": null,
            "_model_module_version": "1.2.0",
            "_view_count": null,
            "flex_flow": null,
            "width": null,
            "min_width": null,
            "border": null,
            "align_items": null,
            "bottom": null,
            "_model_module": "@jupyter-widgets/base",
            "top": null,
            "grid_column": null,
            "overflow_y": null,
            "overflow_x": null,
            "grid_auto_flow": null,
            "grid_area": null,
            "grid_template_columns": null,
            "flex": null,
            "_model_name": "LayoutModel",
            "justify_items": null,
            "grid_row": null,
            "max_height": null,
            "align_content": null,
            "visibility": null,
            "align_self": null,
            "height": null,
            "min_height": null,
            "padding": null,
            "grid_auto_rows": null,
            "grid_gap": null,
            "max_width": null,
            "order": null,
            "_view_module_version": "1.2.0",
            "grid_template_areas": null,
            "object_position": null,
            "object_fit": null,
            "grid_auto_columns": null,
            "margin": null,
            "display": null,
            "left": null
          }
        },
        "5d48729fb7e8474f845b521ac666b955": {
          "model_module": "@jupyter-widgets/controls",
          "model_name": "HBoxModel",
          "state": {
            "_view_name": "HBoxView",
            "_dom_classes": [],
            "_model_name": "HBoxModel",
            "_view_module": "@jupyter-widgets/controls",
            "_model_module_version": "1.5.0",
            "_view_count": null,
            "_view_module_version": "1.5.0",
            "box_style": "",
            "layout": "IPY_MODEL_2fbe32c0f2c9476f98a5dfa91b212f43",
            "_model_module": "@jupyter-widgets/controls",
            "children": [
              "IPY_MODEL_a872b62286054198ad561158e21075df",
              "IPY_MODEL_33b2a6b389d142e1b5a32f60db2596e5"
            ]
          }
        },
        "2fbe32c0f2c9476f98a5dfa91b212f43": {
          "model_module": "@jupyter-widgets/base",
          "model_name": "LayoutModel",
          "state": {
            "_view_name": "LayoutView",
            "grid_template_rows": null,
            "right": null,
            "justify_content": null,
            "_view_module": "@jupyter-widgets/base",
            "overflow": null,
            "_model_module_version": "1.2.0",
            "_view_count": null,
            "flex_flow": null,
            "width": null,
            "min_width": null,
            "border": null,
            "align_items": null,
            "bottom": null,
            "_model_module": "@jupyter-widgets/base",
            "top": null,
            "grid_column": null,
            "overflow_y": null,
            "overflow_x": null,
            "grid_auto_flow": null,
            "grid_area": null,
            "grid_template_columns": null,
            "flex": null,
            "_model_name": "LayoutModel",
            "justify_items": null,
            "grid_row": null,
            "max_height": null,
            "align_content": null,
            "visibility": null,
            "align_self": null,
            "height": null,
            "min_height": null,
            "padding": null,
            "grid_auto_rows": null,
            "grid_gap": null,
            "max_width": null,
            "order": null,
            "_view_module_version": "1.2.0",
            "grid_template_areas": null,
            "object_position": null,
            "object_fit": null,
            "grid_auto_columns": null,
            "margin": null,
            "display": null,
            "left": null
          }
        },
        "a872b62286054198ad561158e21075df": {
          "model_module": "@jupyter-widgets/controls",
          "model_name": "FloatProgressModel",
          "state": {
            "_view_name": "ProgressView",
            "style": "IPY_MODEL_216bf74b4d08483499d23fc46c1a1810",
            "_dom_classes": [],
            "description": "100%",
            "_model_name": "FloatProgressModel",
            "bar_style": "success",
            "max": 30,
            "_view_module": "@jupyter-widgets/controls",
            "_model_module_version": "1.5.0",
            "value": 30,
            "_view_count": null,
            "_view_module_version": "1.5.0",
            "orientation": "horizontal",
            "min": 0,
            "description_tooltip": null,
            "_model_module": "@jupyter-widgets/controls",
            "layout": "IPY_MODEL_66c7fef49c8c4648ad7a60f98df06c60"
          }
        },
        "33b2a6b389d142e1b5a32f60db2596e5": {
          "model_module": "@jupyter-widgets/controls",
          "model_name": "HTMLModel",
          "state": {
            "_view_name": "HTMLView",
            "style": "IPY_MODEL_c06cafec15be4b7dadb0419d8103c4e1",
            "_dom_classes": [],
            "description": "",
            "_model_name": "HTMLModel",
            "placeholder": "​",
            "_view_module": "@jupyter-widgets/controls",
            "_model_module_version": "1.5.0",
            "value": " 30/30 [15:32&lt;00:00, 31.07s/it]",
            "_view_count": null,
            "_view_module_version": "1.5.0",
            "description_tooltip": null,
            "_model_module": "@jupyter-widgets/controls",
            "layout": "IPY_MODEL_d18de1af7fc94083a0ec458276eee519"
          }
        },
        "216bf74b4d08483499d23fc46c1a1810": {
          "model_module": "@jupyter-widgets/controls",
          "model_name": "ProgressStyleModel",
          "state": {
            "_view_name": "StyleView",
            "_model_name": "ProgressStyleModel",
            "description_width": "initial",
            "_view_module": "@jupyter-widgets/base",
            "_model_module_version": "1.5.0",
            "_view_count": null,
            "_view_module_version": "1.2.0",
            "bar_color": null,
            "_model_module": "@jupyter-widgets/controls"
          }
        },
        "66c7fef49c8c4648ad7a60f98df06c60": {
          "model_module": "@jupyter-widgets/base",
          "model_name": "LayoutModel",
          "state": {
            "_view_name": "LayoutView",
            "grid_template_rows": null,
            "right": null,
            "justify_content": null,
            "_view_module": "@jupyter-widgets/base",
            "overflow": null,
            "_model_module_version": "1.2.0",
            "_view_count": null,
            "flex_flow": null,
            "width": null,
            "min_width": null,
            "border": null,
            "align_items": null,
            "bottom": null,
            "_model_module": "@jupyter-widgets/base",
            "top": null,
            "grid_column": null,
            "overflow_y": null,
            "overflow_x": null,
            "grid_auto_flow": null,
            "grid_area": null,
            "grid_template_columns": null,
            "flex": null,
            "_model_name": "LayoutModel",
            "justify_items": null,
            "grid_row": null,
            "max_height": null,
            "align_content": null,
            "visibility": null,
            "align_self": null,
            "height": null,
            "min_height": null,
            "padding": null,
            "grid_auto_rows": null,
            "grid_gap": null,
            "max_width": null,
            "order": null,
            "_view_module_version": "1.2.0",
            "grid_template_areas": null,
            "object_position": null,
            "object_fit": null,
            "grid_auto_columns": null,
            "margin": null,
            "display": null,
            "left": null
          }
        },
        "c06cafec15be4b7dadb0419d8103c4e1": {
          "model_module": "@jupyter-widgets/controls",
          "model_name": "DescriptionStyleModel",
          "state": {
            "_view_name": "StyleView",
            "_model_name": "DescriptionStyleModel",
            "description_width": "",
            "_view_module": "@jupyter-widgets/base",
            "_model_module_version": "1.5.0",
            "_view_count": null,
            "_view_module_version": "1.2.0",
            "_model_module": "@jupyter-widgets/controls"
          }
        },
        "d18de1af7fc94083a0ec458276eee519": {
          "model_module": "@jupyter-widgets/base",
          "model_name": "LayoutModel",
          "state": {
            "_view_name": "LayoutView",
            "grid_template_rows": null,
            "right": null,
            "justify_content": null,
            "_view_module": "@jupyter-widgets/base",
            "overflow": null,
            "_model_module_version": "1.2.0",
            "_view_count": null,
            "flex_flow": null,
            "width": null,
            "min_width": null,
            "border": null,
            "align_items": null,
            "bottom": null,
            "_model_module": "@jupyter-widgets/base",
            "top": null,
            "grid_column": null,
            "overflow_y": null,
            "overflow_x": null,
            "grid_auto_flow": null,
            "grid_area": null,
            "grid_template_columns": null,
            "flex": null,
            "_model_name": "LayoutModel",
            "justify_items": null,
            "grid_row": null,
            "max_height": null,
            "align_content": null,
            "visibility": null,
            "align_self": null,
            "height": null,
            "min_height": null,
            "padding": null,
            "grid_auto_rows": null,
            "grid_gap": null,
            "max_width": null,
            "order": null,
            "_view_module_version": "1.2.0",
            "grid_template_areas": null,
            "object_position": null,
            "object_fit": null,
            "grid_auto_columns": null,
            "margin": null,
            "display": null,
            "left": null
          }
        },
        "03fd06a7df024fa7938f33ff35406b66": {
          "model_module": "@jupyter-widgets/controls",
          "model_name": "HBoxModel",
          "state": {
            "_view_name": "HBoxView",
            "_dom_classes": [],
            "_model_name": "HBoxModel",
            "_view_module": "@jupyter-widgets/controls",
            "_model_module_version": "1.5.0",
            "_view_count": null,
            "_view_module_version": "1.5.0",
            "box_style": "",
            "layout": "IPY_MODEL_6d18dd8ff8564c6fbbdc3a2126d6e0d3",
            "_model_module": "@jupyter-widgets/controls",
            "children": [
              "IPY_MODEL_24a0b0dca5e345a1b82a3e3b97480683",
              "IPY_MODEL_1a4a1e08cc404dcca8eed4e45c66f76b"
            ]
          }
        },
        "6d18dd8ff8564c6fbbdc3a2126d6e0d3": {
          "model_module": "@jupyter-widgets/base",
          "model_name": "LayoutModel",
          "state": {
            "_view_name": "LayoutView",
            "grid_template_rows": null,
            "right": null,
            "justify_content": null,
            "_view_module": "@jupyter-widgets/base",
            "overflow": null,
            "_model_module_version": "1.2.0",
            "_view_count": null,
            "flex_flow": null,
            "width": null,
            "min_width": null,
            "border": null,
            "align_items": null,
            "bottom": null,
            "_model_module": "@jupyter-widgets/base",
            "top": null,
            "grid_column": null,
            "overflow_y": null,
            "overflow_x": null,
            "grid_auto_flow": null,
            "grid_area": null,
            "grid_template_columns": null,
            "flex": null,
            "_model_name": "LayoutModel",
            "justify_items": null,
            "grid_row": null,
            "max_height": null,
            "align_content": null,
            "visibility": null,
            "align_self": null,
            "height": null,
            "min_height": null,
            "padding": null,
            "grid_auto_rows": null,
            "grid_gap": null,
            "max_width": null,
            "order": null,
            "_view_module_version": "1.2.0",
            "grid_template_areas": null,
            "object_position": null,
            "object_fit": null,
            "grid_auto_columns": null,
            "margin": null,
            "display": null,
            "left": null
          }
        },
        "24a0b0dca5e345a1b82a3e3b97480683": {
          "model_module": "@jupyter-widgets/controls",
          "model_name": "FloatProgressModel",
          "state": {
            "_view_name": "ProgressView",
            "style": "IPY_MODEL_939b157fa8644ccb8924c5915005b66d",
            "_dom_classes": [],
            "description": "100%",
            "_model_name": "FloatProgressModel",
            "bar_style": "success",
            "max": 30,
            "_view_module": "@jupyter-widgets/controls",
            "_model_module_version": "1.5.0",
            "value": 30,
            "_view_count": null,
            "_view_module_version": "1.5.0",
            "orientation": "horizontal",
            "min": 0,
            "description_tooltip": null,
            "_model_module": "@jupyter-widgets/controls",
            "layout": "IPY_MODEL_784d605c7af546e9947fa019a881df57"
          }
        },
        "1a4a1e08cc404dcca8eed4e45c66f76b": {
          "model_module": "@jupyter-widgets/controls",
          "model_name": "HTMLModel",
          "state": {
            "_view_name": "HTMLView",
            "style": "IPY_MODEL_3f34c216a1fb4a6b998dc06b21280406",
            "_dom_classes": [],
            "description": "",
            "_model_name": "HTMLModel",
            "placeholder": "​",
            "_view_module": "@jupyter-widgets/controls",
            "_model_module_version": "1.5.0",
            "value": " 30/30 [02:30&lt;00:00,  5.01s/it]",
            "_view_count": null,
            "_view_module_version": "1.5.0",
            "description_tooltip": null,
            "_model_module": "@jupyter-widgets/controls",
            "layout": "IPY_MODEL_9527b6084dcf426cbcdbef84d54c8e8a"
          }
        },
        "939b157fa8644ccb8924c5915005b66d": {
          "model_module": "@jupyter-widgets/controls",
          "model_name": "ProgressStyleModel",
          "state": {
            "_view_name": "StyleView",
            "_model_name": "ProgressStyleModel",
            "description_width": "initial",
            "_view_module": "@jupyter-widgets/base",
            "_model_module_version": "1.5.0",
            "_view_count": null,
            "_view_module_version": "1.2.0",
            "bar_color": null,
            "_model_module": "@jupyter-widgets/controls"
          }
        },
        "784d605c7af546e9947fa019a881df57": {
          "model_module": "@jupyter-widgets/base",
          "model_name": "LayoutModel",
          "state": {
            "_view_name": "LayoutView",
            "grid_template_rows": null,
            "right": null,
            "justify_content": null,
            "_view_module": "@jupyter-widgets/base",
            "overflow": null,
            "_model_module_version": "1.2.0",
            "_view_count": null,
            "flex_flow": null,
            "width": null,
            "min_width": null,
            "border": null,
            "align_items": null,
            "bottom": null,
            "_model_module": "@jupyter-widgets/base",
            "top": null,
            "grid_column": null,
            "overflow_y": null,
            "overflow_x": null,
            "grid_auto_flow": null,
            "grid_area": null,
            "grid_template_columns": null,
            "flex": null,
            "_model_name": "LayoutModel",
            "justify_items": null,
            "grid_row": null,
            "max_height": null,
            "align_content": null,
            "visibility": null,
            "align_self": null,
            "height": null,
            "min_height": null,
            "padding": null,
            "grid_auto_rows": null,
            "grid_gap": null,
            "max_width": null,
            "order": null,
            "_view_module_version": "1.2.0",
            "grid_template_areas": null,
            "object_position": null,
            "object_fit": null,
            "grid_auto_columns": null,
            "margin": null,
            "display": null,
            "left": null
          }
        },
        "3f34c216a1fb4a6b998dc06b21280406": {
          "model_module": "@jupyter-widgets/controls",
          "model_name": "DescriptionStyleModel",
          "state": {
            "_view_name": "StyleView",
            "_model_name": "DescriptionStyleModel",
            "description_width": "",
            "_view_module": "@jupyter-widgets/base",
            "_model_module_version": "1.5.0",
            "_view_count": null,
            "_view_module_version": "1.2.0",
            "_model_module": "@jupyter-widgets/controls"
          }
        },
        "9527b6084dcf426cbcdbef84d54c8e8a": {
          "model_module": "@jupyter-widgets/base",
          "model_name": "LayoutModel",
          "state": {
            "_view_name": "LayoutView",
            "grid_template_rows": null,
            "right": null,
            "justify_content": null,
            "_view_module": "@jupyter-widgets/base",
            "overflow": null,
            "_model_module_version": "1.2.0",
            "_view_count": null,
            "flex_flow": null,
            "width": null,
            "min_width": null,
            "border": null,
            "align_items": null,
            "bottom": null,
            "_model_module": "@jupyter-widgets/base",
            "top": null,
            "grid_column": null,
            "overflow_y": null,
            "overflow_x": null,
            "grid_auto_flow": null,
            "grid_area": null,
            "grid_template_columns": null,
            "flex": null,
            "_model_name": "LayoutModel",
            "justify_items": null,
            "grid_row": null,
            "max_height": null,
            "align_content": null,
            "visibility": null,
            "align_self": null,
            "height": null,
            "min_height": null,
            "padding": null,
            "grid_auto_rows": null,
            "grid_gap": null,
            "max_width": null,
            "order": null,
            "_view_module_version": "1.2.0",
            "grid_template_areas": null,
            "object_position": null,
            "object_fit": null,
            "grid_auto_columns": null,
            "margin": null,
            "display": null,
            "left": null
          }
        },
        "1863bbabc72b458996a738fdf8db2a01": {
          "model_module": "@jupyter-widgets/controls",
          "model_name": "HBoxModel",
          "state": {
            "_view_name": "HBoxView",
            "_dom_classes": [],
            "_model_name": "HBoxModel",
            "_view_module": "@jupyter-widgets/controls",
            "_model_module_version": "1.5.0",
            "_view_count": null,
            "_view_module_version": "1.5.0",
            "box_style": "",
            "layout": "IPY_MODEL_fce4ca78756b494290d4f13abc2a77ab",
            "_model_module": "@jupyter-widgets/controls",
            "children": [
              "IPY_MODEL_823576f713eb49778fa0670dacf4f236",
              "IPY_MODEL_7ab4e2e6b75741c7ad0aedc2419e2757"
            ]
          }
        },
        "fce4ca78756b494290d4f13abc2a77ab": {
          "model_module": "@jupyter-widgets/base",
          "model_name": "LayoutModel",
          "state": {
            "_view_name": "LayoutView",
            "grid_template_rows": null,
            "right": null,
            "justify_content": null,
            "_view_module": "@jupyter-widgets/base",
            "overflow": null,
            "_model_module_version": "1.2.0",
            "_view_count": null,
            "flex_flow": null,
            "width": null,
            "min_width": null,
            "border": null,
            "align_items": null,
            "bottom": null,
            "_model_module": "@jupyter-widgets/base",
            "top": null,
            "grid_column": null,
            "overflow_y": null,
            "overflow_x": null,
            "grid_auto_flow": null,
            "grid_area": null,
            "grid_template_columns": null,
            "flex": null,
            "_model_name": "LayoutModel",
            "justify_items": null,
            "grid_row": null,
            "max_height": null,
            "align_content": null,
            "visibility": null,
            "align_self": null,
            "height": null,
            "min_height": null,
            "padding": null,
            "grid_auto_rows": null,
            "grid_gap": null,
            "max_width": null,
            "order": null,
            "_view_module_version": "1.2.0",
            "grid_template_areas": null,
            "object_position": null,
            "object_fit": null,
            "grid_auto_columns": null,
            "margin": null,
            "display": null,
            "left": null
          }
        },
        "823576f713eb49778fa0670dacf4f236": {
          "model_module": "@jupyter-widgets/controls",
          "model_name": "FloatProgressModel",
          "state": {
            "_view_name": "ProgressView",
            "style": "IPY_MODEL_ccdc7fb6ba3b4ad5ad11a5399316de74",
            "_dom_classes": [],
            "description": "100%",
            "_model_name": "FloatProgressModel",
            "bar_style": "success",
            "max": 30,
            "_view_module": "@jupyter-widgets/controls",
            "_model_module_version": "1.5.0",
            "value": 30,
            "_view_count": null,
            "_view_module_version": "1.5.0",
            "orientation": "horizontal",
            "min": 0,
            "description_tooltip": null,
            "_model_module": "@jupyter-widgets/controls",
            "layout": "IPY_MODEL_371fe44efc354751b74ed30ad44a866e"
          }
        },
        "7ab4e2e6b75741c7ad0aedc2419e2757": {
          "model_module": "@jupyter-widgets/controls",
          "model_name": "HTMLModel",
          "state": {
            "_view_name": "HTMLView",
            "style": "IPY_MODEL_6a7e64c57add4d85b285790de88a2b56",
            "_dom_classes": [],
            "description": "",
            "_model_name": "HTMLModel",
            "placeholder": "​",
            "_view_module": "@jupyter-widgets/controls",
            "_model_module_version": "1.5.0",
            "value": " 30/30 [02:13&lt;00:00,  4.45s/it]",
            "_view_count": null,
            "_view_module_version": "1.5.0",
            "description_tooltip": null,
            "_model_module": "@jupyter-widgets/controls",
            "layout": "IPY_MODEL_359a17ecb8b64ab3a28be91c63097985"
          }
        },
        "ccdc7fb6ba3b4ad5ad11a5399316de74": {
          "model_module": "@jupyter-widgets/controls",
          "model_name": "ProgressStyleModel",
          "state": {
            "_view_name": "StyleView",
            "_model_name": "ProgressStyleModel",
            "description_width": "initial",
            "_view_module": "@jupyter-widgets/base",
            "_model_module_version": "1.5.0",
            "_view_count": null,
            "_view_module_version": "1.2.0",
            "bar_color": null,
            "_model_module": "@jupyter-widgets/controls"
          }
        },
        "371fe44efc354751b74ed30ad44a866e": {
          "model_module": "@jupyter-widgets/base",
          "model_name": "LayoutModel",
          "state": {
            "_view_name": "LayoutView",
            "grid_template_rows": null,
            "right": null,
            "justify_content": null,
            "_view_module": "@jupyter-widgets/base",
            "overflow": null,
            "_model_module_version": "1.2.0",
            "_view_count": null,
            "flex_flow": null,
            "width": null,
            "min_width": null,
            "border": null,
            "align_items": null,
            "bottom": null,
            "_model_module": "@jupyter-widgets/base",
            "top": null,
            "grid_column": null,
            "overflow_y": null,
            "overflow_x": null,
            "grid_auto_flow": null,
            "grid_area": null,
            "grid_template_columns": null,
            "flex": null,
            "_model_name": "LayoutModel",
            "justify_items": null,
            "grid_row": null,
            "max_height": null,
            "align_content": null,
            "visibility": null,
            "align_self": null,
            "height": null,
            "min_height": null,
            "padding": null,
            "grid_auto_rows": null,
            "grid_gap": null,
            "max_width": null,
            "order": null,
            "_view_module_version": "1.2.0",
            "grid_template_areas": null,
            "object_position": null,
            "object_fit": null,
            "grid_auto_columns": null,
            "margin": null,
            "display": null,
            "left": null
          }
        },
        "6a7e64c57add4d85b285790de88a2b56": {
          "model_module": "@jupyter-widgets/controls",
          "model_name": "DescriptionStyleModel",
          "state": {
            "_view_name": "StyleView",
            "_model_name": "DescriptionStyleModel",
            "description_width": "",
            "_view_module": "@jupyter-widgets/base",
            "_model_module_version": "1.5.0",
            "_view_count": null,
            "_view_module_version": "1.2.0",
            "_model_module": "@jupyter-widgets/controls"
          }
        },
        "359a17ecb8b64ab3a28be91c63097985": {
          "model_module": "@jupyter-widgets/base",
          "model_name": "LayoutModel",
          "state": {
            "_view_name": "LayoutView",
            "grid_template_rows": null,
            "right": null,
            "justify_content": null,
            "_view_module": "@jupyter-widgets/base",
            "overflow": null,
            "_model_module_version": "1.2.0",
            "_view_count": null,
            "flex_flow": null,
            "width": null,
            "min_width": null,
            "border": null,
            "align_items": null,
            "bottom": null,
            "_model_module": "@jupyter-widgets/base",
            "top": null,
            "grid_column": null,
            "overflow_y": null,
            "overflow_x": null,
            "grid_auto_flow": null,
            "grid_area": null,
            "grid_template_columns": null,
            "flex": null,
            "_model_name": "LayoutModel",
            "justify_items": null,
            "grid_row": null,
            "max_height": null,
            "align_content": null,
            "visibility": null,
            "align_self": null,
            "height": null,
            "min_height": null,
            "padding": null,
            "grid_auto_rows": null,
            "grid_gap": null,
            "max_width": null,
            "order": null,
            "_view_module_version": "1.2.0",
            "grid_template_areas": null,
            "object_position": null,
            "object_fit": null,
            "grid_auto_columns": null,
            "margin": null,
            "display": null,
            "left": null
          }
        },
        "8be8e31a562743bb975fa3e086428351": {
          "model_module": "@jupyter-widgets/controls",
          "model_name": "HBoxModel",
          "state": {
            "_view_name": "HBoxView",
            "_dom_classes": [],
            "_model_name": "HBoxModel",
            "_view_module": "@jupyter-widgets/controls",
            "_model_module_version": "1.5.0",
            "_view_count": null,
            "_view_module_version": "1.5.0",
            "box_style": "",
            "layout": "IPY_MODEL_1485056113ca45feb56ceb393a68a49f",
            "_model_module": "@jupyter-widgets/controls",
            "children": [
              "IPY_MODEL_8bbcee6d236c46f1b327e9cd09cb82f5",
              "IPY_MODEL_5b7fb9fd5cc441738588c8f3b9d4f8c9"
            ]
          }
        },
        "1485056113ca45feb56ceb393a68a49f": {
          "model_module": "@jupyter-widgets/base",
          "model_name": "LayoutModel",
          "state": {
            "_view_name": "LayoutView",
            "grid_template_rows": null,
            "right": null,
            "justify_content": null,
            "_view_module": "@jupyter-widgets/base",
            "overflow": null,
            "_model_module_version": "1.2.0",
            "_view_count": null,
            "flex_flow": null,
            "width": null,
            "min_width": null,
            "border": null,
            "align_items": null,
            "bottom": null,
            "_model_module": "@jupyter-widgets/base",
            "top": null,
            "grid_column": null,
            "overflow_y": null,
            "overflow_x": null,
            "grid_auto_flow": null,
            "grid_area": null,
            "grid_template_columns": null,
            "flex": null,
            "_model_name": "LayoutModel",
            "justify_items": null,
            "grid_row": null,
            "max_height": null,
            "align_content": null,
            "visibility": null,
            "align_self": null,
            "height": null,
            "min_height": null,
            "padding": null,
            "grid_auto_rows": null,
            "grid_gap": null,
            "max_width": null,
            "order": null,
            "_view_module_version": "1.2.0",
            "grid_template_areas": null,
            "object_position": null,
            "object_fit": null,
            "grid_auto_columns": null,
            "margin": null,
            "display": null,
            "left": null
          }
        },
        "8bbcee6d236c46f1b327e9cd09cb82f5": {
          "model_module": "@jupyter-widgets/controls",
          "model_name": "FloatProgressModel",
          "state": {
            "_view_name": "ProgressView",
            "style": "IPY_MODEL_27901bda157d413b872f119a5c5a68e4",
            "_dom_classes": [],
            "description": "100%",
            "_model_name": "FloatProgressModel",
            "bar_style": "success",
            "max": 30,
            "_view_module": "@jupyter-widgets/controls",
            "_model_module_version": "1.5.0",
            "value": 30,
            "_view_count": null,
            "_view_module_version": "1.5.0",
            "orientation": "horizontal",
            "min": 0,
            "description_tooltip": null,
            "_model_module": "@jupyter-widgets/controls",
            "layout": "IPY_MODEL_87c96c4ec43742f0950d9a4367070632"
          }
        },
        "5b7fb9fd5cc441738588c8f3b9d4f8c9": {
          "model_module": "@jupyter-widgets/controls",
          "model_name": "HTMLModel",
          "state": {
            "_view_name": "HTMLView",
            "style": "IPY_MODEL_9e6e6f723ca445de93f2de944fba05f5",
            "_dom_classes": [],
            "description": "",
            "_model_name": "HTMLModel",
            "placeholder": "​",
            "_view_module": "@jupyter-widgets/controls",
            "_model_module_version": "1.5.0",
            "value": " 30/30 [01:50&lt;00:00,  3.67s/it]",
            "_view_count": null,
            "_view_module_version": "1.5.0",
            "description_tooltip": null,
            "_model_module": "@jupyter-widgets/controls",
            "layout": "IPY_MODEL_8f8ff146b8ae47f4970a6629ef0ba7a7"
          }
        },
        "27901bda157d413b872f119a5c5a68e4": {
          "model_module": "@jupyter-widgets/controls",
          "model_name": "ProgressStyleModel",
          "state": {
            "_view_name": "StyleView",
            "_model_name": "ProgressStyleModel",
            "description_width": "initial",
            "_view_module": "@jupyter-widgets/base",
            "_model_module_version": "1.5.0",
            "_view_count": null,
            "_view_module_version": "1.2.0",
            "bar_color": null,
            "_model_module": "@jupyter-widgets/controls"
          }
        },
        "87c96c4ec43742f0950d9a4367070632": {
          "model_module": "@jupyter-widgets/base",
          "model_name": "LayoutModel",
          "state": {
            "_view_name": "LayoutView",
            "grid_template_rows": null,
            "right": null,
            "justify_content": null,
            "_view_module": "@jupyter-widgets/base",
            "overflow": null,
            "_model_module_version": "1.2.0",
            "_view_count": null,
            "flex_flow": null,
            "width": null,
            "min_width": null,
            "border": null,
            "align_items": null,
            "bottom": null,
            "_model_module": "@jupyter-widgets/base",
            "top": null,
            "grid_column": null,
            "overflow_y": null,
            "overflow_x": null,
            "grid_auto_flow": null,
            "grid_area": null,
            "grid_template_columns": null,
            "flex": null,
            "_model_name": "LayoutModel",
            "justify_items": null,
            "grid_row": null,
            "max_height": null,
            "align_content": null,
            "visibility": null,
            "align_self": null,
            "height": null,
            "min_height": null,
            "padding": null,
            "grid_auto_rows": null,
            "grid_gap": null,
            "max_width": null,
            "order": null,
            "_view_module_version": "1.2.0",
            "grid_template_areas": null,
            "object_position": null,
            "object_fit": null,
            "grid_auto_columns": null,
            "margin": null,
            "display": null,
            "left": null
          }
        },
        "9e6e6f723ca445de93f2de944fba05f5": {
          "model_module": "@jupyter-widgets/controls",
          "model_name": "DescriptionStyleModel",
          "state": {
            "_view_name": "StyleView",
            "_model_name": "DescriptionStyleModel",
            "description_width": "",
            "_view_module": "@jupyter-widgets/base",
            "_model_module_version": "1.5.0",
            "_view_count": null,
            "_view_module_version": "1.2.0",
            "_model_module": "@jupyter-widgets/controls"
          }
        },
        "8f8ff146b8ae47f4970a6629ef0ba7a7": {
          "model_module": "@jupyter-widgets/base",
          "model_name": "LayoutModel",
          "state": {
            "_view_name": "LayoutView",
            "grid_template_rows": null,
            "right": null,
            "justify_content": null,
            "_view_module": "@jupyter-widgets/base",
            "overflow": null,
            "_model_module_version": "1.2.0",
            "_view_count": null,
            "flex_flow": null,
            "width": null,
            "min_width": null,
            "border": null,
            "align_items": null,
            "bottom": null,
            "_model_module": "@jupyter-widgets/base",
            "top": null,
            "grid_column": null,
            "overflow_y": null,
            "overflow_x": null,
            "grid_auto_flow": null,
            "grid_area": null,
            "grid_template_columns": null,
            "flex": null,
            "_model_name": "LayoutModel",
            "justify_items": null,
            "grid_row": null,
            "max_height": null,
            "align_content": null,
            "visibility": null,
            "align_self": null,
            "height": null,
            "min_height": null,
            "padding": null,
            "grid_auto_rows": null,
            "grid_gap": null,
            "max_width": null,
            "order": null,
            "_view_module_version": "1.2.0",
            "grid_template_areas": null,
            "object_position": null,
            "object_fit": null,
            "grid_auto_columns": null,
            "margin": null,
            "display": null,
            "left": null
          }
        },
        "a579e6ff1fd2453ea81bb65bf182bf62": {
          "model_module": "@jupyter-widgets/controls",
          "model_name": "HBoxModel",
          "state": {
            "_view_name": "HBoxView",
            "_dom_classes": [],
            "_model_name": "HBoxModel",
            "_view_module": "@jupyter-widgets/controls",
            "_model_module_version": "1.5.0",
            "_view_count": null,
            "_view_module_version": "1.5.0",
            "box_style": "",
            "layout": "IPY_MODEL_f098043ab22a4335896f57b350c67ec9",
            "_model_module": "@jupyter-widgets/controls",
            "children": [
              "IPY_MODEL_b008e825bd094c94885829f0f8f829a6",
              "IPY_MODEL_64d67937607a4c05b2fd87c38b6e130f"
            ]
          }
        },
        "f098043ab22a4335896f57b350c67ec9": {
          "model_module": "@jupyter-widgets/base",
          "model_name": "LayoutModel",
          "state": {
            "_view_name": "LayoutView",
            "grid_template_rows": null,
            "right": null,
            "justify_content": null,
            "_view_module": "@jupyter-widgets/base",
            "overflow": null,
            "_model_module_version": "1.2.0",
            "_view_count": null,
            "flex_flow": null,
            "width": null,
            "min_width": null,
            "border": null,
            "align_items": null,
            "bottom": null,
            "_model_module": "@jupyter-widgets/base",
            "top": null,
            "grid_column": null,
            "overflow_y": null,
            "overflow_x": null,
            "grid_auto_flow": null,
            "grid_area": null,
            "grid_template_columns": null,
            "flex": null,
            "_model_name": "LayoutModel",
            "justify_items": null,
            "grid_row": null,
            "max_height": null,
            "align_content": null,
            "visibility": null,
            "align_self": null,
            "height": null,
            "min_height": null,
            "padding": null,
            "grid_auto_rows": null,
            "grid_gap": null,
            "max_width": null,
            "order": null,
            "_view_module_version": "1.2.0",
            "grid_template_areas": null,
            "object_position": null,
            "object_fit": null,
            "grid_auto_columns": null,
            "margin": null,
            "display": null,
            "left": null
          }
        },
        "b008e825bd094c94885829f0f8f829a6": {
          "model_module": "@jupyter-widgets/controls",
          "model_name": "FloatProgressModel",
          "state": {
            "_view_name": "ProgressView",
            "style": "IPY_MODEL_d7379a4339554735a7f5a0f38283b0df",
            "_dom_classes": [],
            "description": "100%",
            "_model_name": "FloatProgressModel",
            "bar_style": "success",
            "max": 30,
            "_view_module": "@jupyter-widgets/controls",
            "_model_module_version": "1.5.0",
            "value": 30,
            "_view_count": null,
            "_view_module_version": "1.5.0",
            "orientation": "horizontal",
            "min": 0,
            "description_tooltip": null,
            "_model_module": "@jupyter-widgets/controls",
            "layout": "IPY_MODEL_b0f833681e5b4f99b22498656dcd8e42"
          }
        },
        "64d67937607a4c05b2fd87c38b6e130f": {
          "model_module": "@jupyter-widgets/controls",
          "model_name": "HTMLModel",
          "state": {
            "_view_name": "HTMLView",
            "style": "IPY_MODEL_ed3a03a4d4ea4c5e8959fc29b4d2ce28",
            "_dom_classes": [],
            "description": "",
            "_model_name": "HTMLModel",
            "placeholder": "​",
            "_view_module": "@jupyter-widgets/controls",
            "_model_module_version": "1.5.0",
            "value": " 30/30 [03:49&lt;00:00,  7.66s/it]",
            "_view_count": null,
            "_view_module_version": "1.5.0",
            "description_tooltip": null,
            "_model_module": "@jupyter-widgets/controls",
            "layout": "IPY_MODEL_e8bb993e1ce54731b793fdb5236004c9"
          }
        },
        "d7379a4339554735a7f5a0f38283b0df": {
          "model_module": "@jupyter-widgets/controls",
          "model_name": "ProgressStyleModel",
          "state": {
            "_view_name": "StyleView",
            "_model_name": "ProgressStyleModel",
            "description_width": "initial",
            "_view_module": "@jupyter-widgets/base",
            "_model_module_version": "1.5.0",
            "_view_count": null,
            "_view_module_version": "1.2.0",
            "bar_color": null,
            "_model_module": "@jupyter-widgets/controls"
          }
        },
        "b0f833681e5b4f99b22498656dcd8e42": {
          "model_module": "@jupyter-widgets/base",
          "model_name": "LayoutModel",
          "state": {
            "_view_name": "LayoutView",
            "grid_template_rows": null,
            "right": null,
            "justify_content": null,
            "_view_module": "@jupyter-widgets/base",
            "overflow": null,
            "_model_module_version": "1.2.0",
            "_view_count": null,
            "flex_flow": null,
            "width": null,
            "min_width": null,
            "border": null,
            "align_items": null,
            "bottom": null,
            "_model_module": "@jupyter-widgets/base",
            "top": null,
            "grid_column": null,
            "overflow_y": null,
            "overflow_x": null,
            "grid_auto_flow": null,
            "grid_area": null,
            "grid_template_columns": null,
            "flex": null,
            "_model_name": "LayoutModel",
            "justify_items": null,
            "grid_row": null,
            "max_height": null,
            "align_content": null,
            "visibility": null,
            "align_self": null,
            "height": null,
            "min_height": null,
            "padding": null,
            "grid_auto_rows": null,
            "grid_gap": null,
            "max_width": null,
            "order": null,
            "_view_module_version": "1.2.0",
            "grid_template_areas": null,
            "object_position": null,
            "object_fit": null,
            "grid_auto_columns": null,
            "margin": null,
            "display": null,
            "left": null
          }
        },
        "ed3a03a4d4ea4c5e8959fc29b4d2ce28": {
          "model_module": "@jupyter-widgets/controls",
          "model_name": "DescriptionStyleModel",
          "state": {
            "_view_name": "StyleView",
            "_model_name": "DescriptionStyleModel",
            "description_width": "",
            "_view_module": "@jupyter-widgets/base",
            "_model_module_version": "1.5.0",
            "_view_count": null,
            "_view_module_version": "1.2.0",
            "_model_module": "@jupyter-widgets/controls"
          }
        },
        "e8bb993e1ce54731b793fdb5236004c9": {
          "model_module": "@jupyter-widgets/base",
          "model_name": "LayoutModel",
          "state": {
            "_view_name": "LayoutView",
            "grid_template_rows": null,
            "right": null,
            "justify_content": null,
            "_view_module": "@jupyter-widgets/base",
            "overflow": null,
            "_model_module_version": "1.2.0",
            "_view_count": null,
            "flex_flow": null,
            "width": null,
            "min_width": null,
            "border": null,
            "align_items": null,
            "bottom": null,
            "_model_module": "@jupyter-widgets/base",
            "top": null,
            "grid_column": null,
            "overflow_y": null,
            "overflow_x": null,
            "grid_auto_flow": null,
            "grid_area": null,
            "grid_template_columns": null,
            "flex": null,
            "_model_name": "LayoutModel",
            "justify_items": null,
            "grid_row": null,
            "max_height": null,
            "align_content": null,
            "visibility": null,
            "align_self": null,
            "height": null,
            "min_height": null,
            "padding": null,
            "grid_auto_rows": null,
            "grid_gap": null,
            "max_width": null,
            "order": null,
            "_view_module_version": "1.2.0",
            "grid_template_areas": null,
            "object_position": null,
            "object_fit": null,
            "grid_auto_columns": null,
            "margin": null,
            "display": null,
            "left": null
          }
        },
        "81b4f828e2974884a9c38cd9c136d854": {
          "model_module": "@jupyter-widgets/controls",
          "model_name": "HBoxModel",
          "state": {
            "_view_name": "HBoxView",
            "_dom_classes": [],
            "_model_name": "HBoxModel",
            "_view_module": "@jupyter-widgets/controls",
            "_model_module_version": "1.5.0",
            "_view_count": null,
            "_view_module_version": "1.5.0",
            "box_style": "",
            "layout": "IPY_MODEL_f28f0db184f1404aa166abe1d618653b",
            "_model_module": "@jupyter-widgets/controls",
            "children": [
              "IPY_MODEL_8f9216ef15d148feae16b5c901a4b08b",
              "IPY_MODEL_b965f7ab716d4b49839239f548d240eb"
            ]
          }
        },
        "f28f0db184f1404aa166abe1d618653b": {
          "model_module": "@jupyter-widgets/base",
          "model_name": "LayoutModel",
          "state": {
            "_view_name": "LayoutView",
            "grid_template_rows": null,
            "right": null,
            "justify_content": null,
            "_view_module": "@jupyter-widgets/base",
            "overflow": null,
            "_model_module_version": "1.2.0",
            "_view_count": null,
            "flex_flow": null,
            "width": null,
            "min_width": null,
            "border": null,
            "align_items": null,
            "bottom": null,
            "_model_module": "@jupyter-widgets/base",
            "top": null,
            "grid_column": null,
            "overflow_y": null,
            "overflow_x": null,
            "grid_auto_flow": null,
            "grid_area": null,
            "grid_template_columns": null,
            "flex": null,
            "_model_name": "LayoutModel",
            "justify_items": null,
            "grid_row": null,
            "max_height": null,
            "align_content": null,
            "visibility": null,
            "align_self": null,
            "height": null,
            "min_height": null,
            "padding": null,
            "grid_auto_rows": null,
            "grid_gap": null,
            "max_width": null,
            "order": null,
            "_view_module_version": "1.2.0",
            "grid_template_areas": null,
            "object_position": null,
            "object_fit": null,
            "grid_auto_columns": null,
            "margin": null,
            "display": null,
            "left": null
          }
        },
        "8f9216ef15d148feae16b5c901a4b08b": {
          "model_module": "@jupyter-widgets/controls",
          "model_name": "FloatProgressModel",
          "state": {
            "_view_name": "ProgressView",
            "style": "IPY_MODEL_ffd49ff86d25481b851b3fedc472e28d",
            "_dom_classes": [],
            "description": "100%",
            "_model_name": "FloatProgressModel",
            "bar_style": "success",
            "max": 30,
            "_view_module": "@jupyter-widgets/controls",
            "_model_module_version": "1.5.0",
            "value": 30,
            "_view_count": null,
            "_view_module_version": "1.5.0",
            "orientation": "horizontal",
            "min": 0,
            "description_tooltip": null,
            "_model_module": "@jupyter-widgets/controls",
            "layout": "IPY_MODEL_04a7aedfe64e43ee83bc4a962bbfd9cd"
          }
        },
        "b965f7ab716d4b49839239f548d240eb": {
          "model_module": "@jupyter-widgets/controls",
          "model_name": "HTMLModel",
          "state": {
            "_view_name": "HTMLView",
            "style": "IPY_MODEL_f3c48fa2af834b059c6b0b3e700570c6",
            "_dom_classes": [],
            "description": "",
            "_model_name": "HTMLModel",
            "placeholder": "​",
            "_view_module": "@jupyter-widgets/controls",
            "_model_module_version": "1.5.0",
            "value": " 30/30 [01:54&lt;00:00,  3.82s/it]",
            "_view_count": null,
            "_view_module_version": "1.5.0",
            "description_tooltip": null,
            "_model_module": "@jupyter-widgets/controls",
            "layout": "IPY_MODEL_f74d260631a74dffa15a9ee7d66d1cb3"
          }
        },
        "ffd49ff86d25481b851b3fedc472e28d": {
          "model_module": "@jupyter-widgets/controls",
          "model_name": "ProgressStyleModel",
          "state": {
            "_view_name": "StyleView",
            "_model_name": "ProgressStyleModel",
            "description_width": "initial",
            "_view_module": "@jupyter-widgets/base",
            "_model_module_version": "1.5.0",
            "_view_count": null,
            "_view_module_version": "1.2.0",
            "bar_color": null,
            "_model_module": "@jupyter-widgets/controls"
          }
        },
        "04a7aedfe64e43ee83bc4a962bbfd9cd": {
          "model_module": "@jupyter-widgets/base",
          "model_name": "LayoutModel",
          "state": {
            "_view_name": "LayoutView",
            "grid_template_rows": null,
            "right": null,
            "justify_content": null,
            "_view_module": "@jupyter-widgets/base",
            "overflow": null,
            "_model_module_version": "1.2.0",
            "_view_count": null,
            "flex_flow": null,
            "width": null,
            "min_width": null,
            "border": null,
            "align_items": null,
            "bottom": null,
            "_model_module": "@jupyter-widgets/base",
            "top": null,
            "grid_column": null,
            "overflow_y": null,
            "overflow_x": null,
            "grid_auto_flow": null,
            "grid_area": null,
            "grid_template_columns": null,
            "flex": null,
            "_model_name": "LayoutModel",
            "justify_items": null,
            "grid_row": null,
            "max_height": null,
            "align_content": null,
            "visibility": null,
            "align_self": null,
            "height": null,
            "min_height": null,
            "padding": null,
            "grid_auto_rows": null,
            "grid_gap": null,
            "max_width": null,
            "order": null,
            "_view_module_version": "1.2.0",
            "grid_template_areas": null,
            "object_position": null,
            "object_fit": null,
            "grid_auto_columns": null,
            "margin": null,
            "display": null,
            "left": null
          }
        },
        "f3c48fa2af834b059c6b0b3e700570c6": {
          "model_module": "@jupyter-widgets/controls",
          "model_name": "DescriptionStyleModel",
          "state": {
            "_view_name": "StyleView",
            "_model_name": "DescriptionStyleModel",
            "description_width": "",
            "_view_module": "@jupyter-widgets/base",
            "_model_module_version": "1.5.0",
            "_view_count": null,
            "_view_module_version": "1.2.0",
            "_model_module": "@jupyter-widgets/controls"
          }
        },
        "f74d260631a74dffa15a9ee7d66d1cb3": {
          "model_module": "@jupyter-widgets/base",
          "model_name": "LayoutModel",
          "state": {
            "_view_name": "LayoutView",
            "grid_template_rows": null,
            "right": null,
            "justify_content": null,
            "_view_module": "@jupyter-widgets/base",
            "overflow": null,
            "_model_module_version": "1.2.0",
            "_view_count": null,
            "flex_flow": null,
            "width": null,
            "min_width": null,
            "border": null,
            "align_items": null,
            "bottom": null,
            "_model_module": "@jupyter-widgets/base",
            "top": null,
            "grid_column": null,
            "overflow_y": null,
            "overflow_x": null,
            "grid_auto_flow": null,
            "grid_area": null,
            "grid_template_columns": null,
            "flex": null,
            "_model_name": "LayoutModel",
            "justify_items": null,
            "grid_row": null,
            "max_height": null,
            "align_content": null,
            "visibility": null,
            "align_self": null,
            "height": null,
            "min_height": null,
            "padding": null,
            "grid_auto_rows": null,
            "grid_gap": null,
            "max_width": null,
            "order": null,
            "_view_module_version": "1.2.0",
            "grid_template_areas": null,
            "object_position": null,
            "object_fit": null,
            "grid_auto_columns": null,
            "margin": null,
            "display": null,
            "left": null
          }
        },
        "7dda7d703fd4445e8f8d4200ec24184c": {
          "model_module": "@jupyter-widgets/controls",
          "model_name": "HBoxModel",
          "state": {
            "_view_name": "HBoxView",
            "_dom_classes": [],
            "_model_name": "HBoxModel",
            "_view_module": "@jupyter-widgets/controls",
            "_model_module_version": "1.5.0",
            "_view_count": null,
            "_view_module_version": "1.5.0",
            "box_style": "",
            "layout": "IPY_MODEL_703951d57f5c48849f965657a070fd54",
            "_model_module": "@jupyter-widgets/controls",
            "children": [
              "IPY_MODEL_4b5a618db03043b18dd71011c154b00b",
              "IPY_MODEL_e62614abf6274b3db020fa8550e9daf6"
            ]
          }
        },
        "703951d57f5c48849f965657a070fd54": {
          "model_module": "@jupyter-widgets/base",
          "model_name": "LayoutModel",
          "state": {
            "_view_name": "LayoutView",
            "grid_template_rows": null,
            "right": null,
            "justify_content": null,
            "_view_module": "@jupyter-widgets/base",
            "overflow": null,
            "_model_module_version": "1.2.0",
            "_view_count": null,
            "flex_flow": null,
            "width": null,
            "min_width": null,
            "border": null,
            "align_items": null,
            "bottom": null,
            "_model_module": "@jupyter-widgets/base",
            "top": null,
            "grid_column": null,
            "overflow_y": null,
            "overflow_x": null,
            "grid_auto_flow": null,
            "grid_area": null,
            "grid_template_columns": null,
            "flex": null,
            "_model_name": "LayoutModel",
            "justify_items": null,
            "grid_row": null,
            "max_height": null,
            "align_content": null,
            "visibility": null,
            "align_self": null,
            "height": null,
            "min_height": null,
            "padding": null,
            "grid_auto_rows": null,
            "grid_gap": null,
            "max_width": null,
            "order": null,
            "_view_module_version": "1.2.0",
            "grid_template_areas": null,
            "object_position": null,
            "object_fit": null,
            "grid_auto_columns": null,
            "margin": null,
            "display": null,
            "left": null
          }
        },
        "4b5a618db03043b18dd71011c154b00b": {
          "model_module": "@jupyter-widgets/controls",
          "model_name": "FloatProgressModel",
          "state": {
            "_view_name": "ProgressView",
            "style": "IPY_MODEL_abde8f13c7e3419f891bbf38a3ea1e32",
            "_dom_classes": [],
            "description": "100%",
            "_model_name": "FloatProgressModel",
            "bar_style": "success",
            "max": 30,
            "_view_module": "@jupyter-widgets/controls",
            "_model_module_version": "1.5.0",
            "value": 30,
            "_view_count": null,
            "_view_module_version": "1.5.0",
            "orientation": "horizontal",
            "min": 0,
            "description_tooltip": null,
            "_model_module": "@jupyter-widgets/controls",
            "layout": "IPY_MODEL_c90f386fea7f46afb03f1c29a7c7a301"
          }
        },
        "e62614abf6274b3db020fa8550e9daf6": {
          "model_module": "@jupyter-widgets/controls",
          "model_name": "HTMLModel",
          "state": {
            "_view_name": "HTMLView",
            "style": "IPY_MODEL_94b3320bf579408887c90aeb25020c04",
            "_dom_classes": [],
            "description": "",
            "_model_name": "HTMLModel",
            "placeholder": "​",
            "_view_module": "@jupyter-widgets/controls",
            "_model_module_version": "1.5.0",
            "value": " 30/30 [04:57&lt;00:00,  9.90s/it]",
            "_view_count": null,
            "_view_module_version": "1.5.0",
            "description_tooltip": null,
            "_model_module": "@jupyter-widgets/controls",
            "layout": "IPY_MODEL_1af8a8c16dc94ce495de29922835517a"
          }
        },
        "abde8f13c7e3419f891bbf38a3ea1e32": {
          "model_module": "@jupyter-widgets/controls",
          "model_name": "ProgressStyleModel",
          "state": {
            "_view_name": "StyleView",
            "_model_name": "ProgressStyleModel",
            "description_width": "initial",
            "_view_module": "@jupyter-widgets/base",
            "_model_module_version": "1.5.0",
            "_view_count": null,
            "_view_module_version": "1.2.0",
            "bar_color": null,
            "_model_module": "@jupyter-widgets/controls"
          }
        },
        "c90f386fea7f46afb03f1c29a7c7a301": {
          "model_module": "@jupyter-widgets/base",
          "model_name": "LayoutModel",
          "state": {
            "_view_name": "LayoutView",
            "grid_template_rows": null,
            "right": null,
            "justify_content": null,
            "_view_module": "@jupyter-widgets/base",
            "overflow": null,
            "_model_module_version": "1.2.0",
            "_view_count": null,
            "flex_flow": null,
            "width": null,
            "min_width": null,
            "border": null,
            "align_items": null,
            "bottom": null,
            "_model_module": "@jupyter-widgets/base",
            "top": null,
            "grid_column": null,
            "overflow_y": null,
            "overflow_x": null,
            "grid_auto_flow": null,
            "grid_area": null,
            "grid_template_columns": null,
            "flex": null,
            "_model_name": "LayoutModel",
            "justify_items": null,
            "grid_row": null,
            "max_height": null,
            "align_content": null,
            "visibility": null,
            "align_self": null,
            "height": null,
            "min_height": null,
            "padding": null,
            "grid_auto_rows": null,
            "grid_gap": null,
            "max_width": null,
            "order": null,
            "_view_module_version": "1.2.0",
            "grid_template_areas": null,
            "object_position": null,
            "object_fit": null,
            "grid_auto_columns": null,
            "margin": null,
            "display": null,
            "left": null
          }
        },
        "94b3320bf579408887c90aeb25020c04": {
          "model_module": "@jupyter-widgets/controls",
          "model_name": "DescriptionStyleModel",
          "state": {
            "_view_name": "StyleView",
            "_model_name": "DescriptionStyleModel",
            "description_width": "",
            "_view_module": "@jupyter-widgets/base",
            "_model_module_version": "1.5.0",
            "_view_count": null,
            "_view_module_version": "1.2.0",
            "_model_module": "@jupyter-widgets/controls"
          }
        },
        "1af8a8c16dc94ce495de29922835517a": {
          "model_module": "@jupyter-widgets/base",
          "model_name": "LayoutModel",
          "state": {
            "_view_name": "LayoutView",
            "grid_template_rows": null,
            "right": null,
            "justify_content": null,
            "_view_module": "@jupyter-widgets/base",
            "overflow": null,
            "_model_module_version": "1.2.0",
            "_view_count": null,
            "flex_flow": null,
            "width": null,
            "min_width": null,
            "border": null,
            "align_items": null,
            "bottom": null,
            "_model_module": "@jupyter-widgets/base",
            "top": null,
            "grid_column": null,
            "overflow_y": null,
            "overflow_x": null,
            "grid_auto_flow": null,
            "grid_area": null,
            "grid_template_columns": null,
            "flex": null,
            "_model_name": "LayoutModel",
            "justify_items": null,
            "grid_row": null,
            "max_height": null,
            "align_content": null,
            "visibility": null,
            "align_self": null,
            "height": null,
            "min_height": null,
            "padding": null,
            "grid_auto_rows": null,
            "grid_gap": null,
            "max_width": null,
            "order": null,
            "_view_module_version": "1.2.0",
            "grid_template_areas": null,
            "object_position": null,
            "object_fit": null,
            "grid_auto_columns": null,
            "margin": null,
            "display": null,
            "left": null
          }
        },
        "b3e99fa0939b486d87890fe987078bb1": {
          "model_module": "@jupyter-widgets/controls",
          "model_name": "HBoxModel",
          "state": {
            "_view_name": "HBoxView",
            "_dom_classes": [],
            "_model_name": "HBoxModel",
            "_view_module": "@jupyter-widgets/controls",
            "_model_module_version": "1.5.0",
            "_view_count": null,
            "_view_module_version": "1.5.0",
            "box_style": "",
            "layout": "IPY_MODEL_da3b094ddb9745cf8747cbaa658a92bf",
            "_model_module": "@jupyter-widgets/controls",
            "children": [
              "IPY_MODEL_550c2728e2444a70bb35baa22e4c7a2f",
              "IPY_MODEL_2b090ee0f43d4d149bb69e50e32d376b"
            ]
          }
        },
        "da3b094ddb9745cf8747cbaa658a92bf": {
          "model_module": "@jupyter-widgets/base",
          "model_name": "LayoutModel",
          "state": {
            "_view_name": "LayoutView",
            "grid_template_rows": null,
            "right": null,
            "justify_content": null,
            "_view_module": "@jupyter-widgets/base",
            "overflow": null,
            "_model_module_version": "1.2.0",
            "_view_count": null,
            "flex_flow": null,
            "width": null,
            "min_width": null,
            "border": null,
            "align_items": null,
            "bottom": null,
            "_model_module": "@jupyter-widgets/base",
            "top": null,
            "grid_column": null,
            "overflow_y": null,
            "overflow_x": null,
            "grid_auto_flow": null,
            "grid_area": null,
            "grid_template_columns": null,
            "flex": null,
            "_model_name": "LayoutModel",
            "justify_items": null,
            "grid_row": null,
            "max_height": null,
            "align_content": null,
            "visibility": null,
            "align_self": null,
            "height": null,
            "min_height": null,
            "padding": null,
            "grid_auto_rows": null,
            "grid_gap": null,
            "max_width": null,
            "order": null,
            "_view_module_version": "1.2.0",
            "grid_template_areas": null,
            "object_position": null,
            "object_fit": null,
            "grid_auto_columns": null,
            "margin": null,
            "display": null,
            "left": null
          }
        },
        "550c2728e2444a70bb35baa22e4c7a2f": {
          "model_module": "@jupyter-widgets/controls",
          "model_name": "FloatProgressModel",
          "state": {
            "_view_name": "ProgressView",
            "style": "IPY_MODEL_11f5f2de193c41309cab1620d3863b0b",
            "_dom_classes": [],
            "description": "100%",
            "_model_name": "FloatProgressModel",
            "bar_style": "success",
            "max": 30,
            "_view_module": "@jupyter-widgets/controls",
            "_model_module_version": "1.5.0",
            "value": 30,
            "_view_count": null,
            "_view_module_version": "1.5.0",
            "orientation": "horizontal",
            "min": 0,
            "description_tooltip": null,
            "_model_module": "@jupyter-widgets/controls",
            "layout": "IPY_MODEL_bef7ba1f1f8349f3a35ca20d69225a31"
          }
        },
        "2b090ee0f43d4d149bb69e50e32d376b": {
          "model_module": "@jupyter-widgets/controls",
          "model_name": "HTMLModel",
          "state": {
            "_view_name": "HTMLView",
            "style": "IPY_MODEL_9cac9dd8037c4eaaadf2dfd960663788",
            "_dom_classes": [],
            "description": "",
            "_model_name": "HTMLModel",
            "placeholder": "​",
            "_view_module": "@jupyter-widgets/controls",
            "_model_module_version": "1.5.0",
            "value": " 30/30 [04:07&lt;00:00,  8.25s/it]",
            "_view_count": null,
            "_view_module_version": "1.5.0",
            "description_tooltip": null,
            "_model_module": "@jupyter-widgets/controls",
            "layout": "IPY_MODEL_f1f372646c5c4fddaf1186b1389ef817"
          }
        },
        "11f5f2de193c41309cab1620d3863b0b": {
          "model_module": "@jupyter-widgets/controls",
          "model_name": "ProgressStyleModel",
          "state": {
            "_view_name": "StyleView",
            "_model_name": "ProgressStyleModel",
            "description_width": "initial",
            "_view_module": "@jupyter-widgets/base",
            "_model_module_version": "1.5.0",
            "_view_count": null,
            "_view_module_version": "1.2.0",
            "bar_color": null,
            "_model_module": "@jupyter-widgets/controls"
          }
        },
        "bef7ba1f1f8349f3a35ca20d69225a31": {
          "model_module": "@jupyter-widgets/base",
          "model_name": "LayoutModel",
          "state": {
            "_view_name": "LayoutView",
            "grid_template_rows": null,
            "right": null,
            "justify_content": null,
            "_view_module": "@jupyter-widgets/base",
            "overflow": null,
            "_model_module_version": "1.2.0",
            "_view_count": null,
            "flex_flow": null,
            "width": null,
            "min_width": null,
            "border": null,
            "align_items": null,
            "bottom": null,
            "_model_module": "@jupyter-widgets/base",
            "top": null,
            "grid_column": null,
            "overflow_y": null,
            "overflow_x": null,
            "grid_auto_flow": null,
            "grid_area": null,
            "grid_template_columns": null,
            "flex": null,
            "_model_name": "LayoutModel",
            "justify_items": null,
            "grid_row": null,
            "max_height": null,
            "align_content": null,
            "visibility": null,
            "align_self": null,
            "height": null,
            "min_height": null,
            "padding": null,
            "grid_auto_rows": null,
            "grid_gap": null,
            "max_width": null,
            "order": null,
            "_view_module_version": "1.2.0",
            "grid_template_areas": null,
            "object_position": null,
            "object_fit": null,
            "grid_auto_columns": null,
            "margin": null,
            "display": null,
            "left": null
          }
        },
        "9cac9dd8037c4eaaadf2dfd960663788": {
          "model_module": "@jupyter-widgets/controls",
          "model_name": "DescriptionStyleModel",
          "state": {
            "_view_name": "StyleView",
            "_model_name": "DescriptionStyleModel",
            "description_width": "",
            "_view_module": "@jupyter-widgets/base",
            "_model_module_version": "1.5.0",
            "_view_count": null,
            "_view_module_version": "1.2.0",
            "_model_module": "@jupyter-widgets/controls"
          }
        },
        "f1f372646c5c4fddaf1186b1389ef817": {
          "model_module": "@jupyter-widgets/base",
          "model_name": "LayoutModel",
          "state": {
            "_view_name": "LayoutView",
            "grid_template_rows": null,
            "right": null,
            "justify_content": null,
            "_view_module": "@jupyter-widgets/base",
            "overflow": null,
            "_model_module_version": "1.2.0",
            "_view_count": null,
            "flex_flow": null,
            "width": null,
            "min_width": null,
            "border": null,
            "align_items": null,
            "bottom": null,
            "_model_module": "@jupyter-widgets/base",
            "top": null,
            "grid_column": null,
            "overflow_y": null,
            "overflow_x": null,
            "grid_auto_flow": null,
            "grid_area": null,
            "grid_template_columns": null,
            "flex": null,
            "_model_name": "LayoutModel",
            "justify_items": null,
            "grid_row": null,
            "max_height": null,
            "align_content": null,
            "visibility": null,
            "align_self": null,
            "height": null,
            "min_height": null,
            "padding": null,
            "grid_auto_rows": null,
            "grid_gap": null,
            "max_width": null,
            "order": null,
            "_view_module_version": "1.2.0",
            "grid_template_areas": null,
            "object_position": null,
            "object_fit": null,
            "grid_auto_columns": null,
            "margin": null,
            "display": null,
            "left": null
          }
        },
        "24b6ad8089214f6cbffdeeec67df2ccb": {
          "model_module": "@jupyter-widgets/controls",
          "model_name": "HBoxModel",
          "state": {
            "_view_name": "HBoxView",
            "_dom_classes": [],
            "_model_name": "HBoxModel",
            "_view_module": "@jupyter-widgets/controls",
            "_model_module_version": "1.5.0",
            "_view_count": null,
            "_view_module_version": "1.5.0",
            "box_style": "",
            "layout": "IPY_MODEL_dedaa161b2704471a6554cf26601c3e2",
            "_model_module": "@jupyter-widgets/controls",
            "children": [
              "IPY_MODEL_ac04064513f94d25877548d172945806",
              "IPY_MODEL_ef6ea38080f543bfb891220959428ad4"
            ]
          }
        },
        "dedaa161b2704471a6554cf26601c3e2": {
          "model_module": "@jupyter-widgets/base",
          "model_name": "LayoutModel",
          "state": {
            "_view_name": "LayoutView",
            "grid_template_rows": null,
            "right": null,
            "justify_content": null,
            "_view_module": "@jupyter-widgets/base",
            "overflow": null,
            "_model_module_version": "1.2.0",
            "_view_count": null,
            "flex_flow": null,
            "width": null,
            "min_width": null,
            "border": null,
            "align_items": null,
            "bottom": null,
            "_model_module": "@jupyter-widgets/base",
            "top": null,
            "grid_column": null,
            "overflow_y": null,
            "overflow_x": null,
            "grid_auto_flow": null,
            "grid_area": null,
            "grid_template_columns": null,
            "flex": null,
            "_model_name": "LayoutModel",
            "justify_items": null,
            "grid_row": null,
            "max_height": null,
            "align_content": null,
            "visibility": null,
            "align_self": null,
            "height": null,
            "min_height": null,
            "padding": null,
            "grid_auto_rows": null,
            "grid_gap": null,
            "max_width": null,
            "order": null,
            "_view_module_version": "1.2.0",
            "grid_template_areas": null,
            "object_position": null,
            "object_fit": null,
            "grid_auto_columns": null,
            "margin": null,
            "display": null,
            "left": null
          }
        },
        "ac04064513f94d25877548d172945806": {
          "model_module": "@jupyter-widgets/controls",
          "model_name": "FloatProgressModel",
          "state": {
            "_view_name": "ProgressView",
            "style": "IPY_MODEL_6390c4d2aaeb4564818b84deab912677",
            "_dom_classes": [],
            "description": "100%",
            "_model_name": "FloatProgressModel",
            "bar_style": "success",
            "max": 30,
            "_view_module": "@jupyter-widgets/controls",
            "_model_module_version": "1.5.0",
            "value": 30,
            "_view_count": null,
            "_view_module_version": "1.5.0",
            "orientation": "horizontal",
            "min": 0,
            "description_tooltip": null,
            "_model_module": "@jupyter-widgets/controls",
            "layout": "IPY_MODEL_7aef4299d090462e9c0ee1272210bfe3"
          }
        },
        "ef6ea38080f543bfb891220959428ad4": {
          "model_module": "@jupyter-widgets/controls",
          "model_name": "HTMLModel",
          "state": {
            "_view_name": "HTMLView",
            "style": "IPY_MODEL_ed372839f02240eb90f23138fcc2ba14",
            "_dom_classes": [],
            "description": "",
            "_model_name": "HTMLModel",
            "placeholder": "​",
            "_view_module": "@jupyter-widgets/controls",
            "_model_module_version": "1.5.0",
            "value": " 30/30 [03:03&lt;00:00,  6.11s/it]",
            "_view_count": null,
            "_view_module_version": "1.5.0",
            "description_tooltip": null,
            "_model_module": "@jupyter-widgets/controls",
            "layout": "IPY_MODEL_f29766b0ef7746efaa78737140bf2b56"
          }
        },
        "6390c4d2aaeb4564818b84deab912677": {
          "model_module": "@jupyter-widgets/controls",
          "model_name": "ProgressStyleModel",
          "state": {
            "_view_name": "StyleView",
            "_model_name": "ProgressStyleModel",
            "description_width": "initial",
            "_view_module": "@jupyter-widgets/base",
            "_model_module_version": "1.5.0",
            "_view_count": null,
            "_view_module_version": "1.2.0",
            "bar_color": null,
            "_model_module": "@jupyter-widgets/controls"
          }
        },
        "7aef4299d090462e9c0ee1272210bfe3": {
          "model_module": "@jupyter-widgets/base",
          "model_name": "LayoutModel",
          "state": {
            "_view_name": "LayoutView",
            "grid_template_rows": null,
            "right": null,
            "justify_content": null,
            "_view_module": "@jupyter-widgets/base",
            "overflow": null,
            "_model_module_version": "1.2.0",
            "_view_count": null,
            "flex_flow": null,
            "width": null,
            "min_width": null,
            "border": null,
            "align_items": null,
            "bottom": null,
            "_model_module": "@jupyter-widgets/base",
            "top": null,
            "grid_column": null,
            "overflow_y": null,
            "overflow_x": null,
            "grid_auto_flow": null,
            "grid_area": null,
            "grid_template_columns": null,
            "flex": null,
            "_model_name": "LayoutModel",
            "justify_items": null,
            "grid_row": null,
            "max_height": null,
            "align_content": null,
            "visibility": null,
            "align_self": null,
            "height": null,
            "min_height": null,
            "padding": null,
            "grid_auto_rows": null,
            "grid_gap": null,
            "max_width": null,
            "order": null,
            "_view_module_version": "1.2.0",
            "grid_template_areas": null,
            "object_position": null,
            "object_fit": null,
            "grid_auto_columns": null,
            "margin": null,
            "display": null,
            "left": null
          }
        },
        "ed372839f02240eb90f23138fcc2ba14": {
          "model_module": "@jupyter-widgets/controls",
          "model_name": "DescriptionStyleModel",
          "state": {
            "_view_name": "StyleView",
            "_model_name": "DescriptionStyleModel",
            "description_width": "",
            "_view_module": "@jupyter-widgets/base",
            "_model_module_version": "1.5.0",
            "_view_count": null,
            "_view_module_version": "1.2.0",
            "_model_module": "@jupyter-widgets/controls"
          }
        },
        "f29766b0ef7746efaa78737140bf2b56": {
          "model_module": "@jupyter-widgets/base",
          "model_name": "LayoutModel",
          "state": {
            "_view_name": "LayoutView",
            "grid_template_rows": null,
            "right": null,
            "justify_content": null,
            "_view_module": "@jupyter-widgets/base",
            "overflow": null,
            "_model_module_version": "1.2.0",
            "_view_count": null,
            "flex_flow": null,
            "width": null,
            "min_width": null,
            "border": null,
            "align_items": null,
            "bottom": null,
            "_model_module": "@jupyter-widgets/base",
            "top": null,
            "grid_column": null,
            "overflow_y": null,
            "overflow_x": null,
            "grid_auto_flow": null,
            "grid_area": null,
            "grid_template_columns": null,
            "flex": null,
            "_model_name": "LayoutModel",
            "justify_items": null,
            "grid_row": null,
            "max_height": null,
            "align_content": null,
            "visibility": null,
            "align_self": null,
            "height": null,
            "min_height": null,
            "padding": null,
            "grid_auto_rows": null,
            "grid_gap": null,
            "max_width": null,
            "order": null,
            "_view_module_version": "1.2.0",
            "grid_template_areas": null,
            "object_position": null,
            "object_fit": null,
            "grid_auto_columns": null,
            "margin": null,
            "display": null,
            "left": null
          }
        },
        "574a0cbfee7247b3a140c7c0f42424c2": {
          "model_module": "@jupyter-widgets/controls",
          "model_name": "HBoxModel",
          "state": {
            "_view_name": "HBoxView",
            "_dom_classes": [],
            "_model_name": "HBoxModel",
            "_view_module": "@jupyter-widgets/controls",
            "_model_module_version": "1.5.0",
            "_view_count": null,
            "_view_module_version": "1.5.0",
            "box_style": "",
            "layout": "IPY_MODEL_221232db717c4e1188b7c7d2657dfc04",
            "_model_module": "@jupyter-widgets/controls",
            "children": [
              "IPY_MODEL_eaaf3000cb5a40adb78e8d08340804e8",
              "IPY_MODEL_a28c64e883954666923632e3e19b7fe1"
            ]
          }
        },
        "221232db717c4e1188b7c7d2657dfc04": {
          "model_module": "@jupyter-widgets/base",
          "model_name": "LayoutModel",
          "state": {
            "_view_name": "LayoutView",
            "grid_template_rows": null,
            "right": null,
            "justify_content": null,
            "_view_module": "@jupyter-widgets/base",
            "overflow": null,
            "_model_module_version": "1.2.0",
            "_view_count": null,
            "flex_flow": null,
            "width": null,
            "min_width": null,
            "border": null,
            "align_items": null,
            "bottom": null,
            "_model_module": "@jupyter-widgets/base",
            "top": null,
            "grid_column": null,
            "overflow_y": null,
            "overflow_x": null,
            "grid_auto_flow": null,
            "grid_area": null,
            "grid_template_columns": null,
            "flex": null,
            "_model_name": "LayoutModel",
            "justify_items": null,
            "grid_row": null,
            "max_height": null,
            "align_content": null,
            "visibility": null,
            "align_self": null,
            "height": null,
            "min_height": null,
            "padding": null,
            "grid_auto_rows": null,
            "grid_gap": null,
            "max_width": null,
            "order": null,
            "_view_module_version": "1.2.0",
            "grid_template_areas": null,
            "object_position": null,
            "object_fit": null,
            "grid_auto_columns": null,
            "margin": null,
            "display": null,
            "left": null
          }
        },
        "eaaf3000cb5a40adb78e8d08340804e8": {
          "model_module": "@jupyter-widgets/controls",
          "model_name": "FloatProgressModel",
          "state": {
            "_view_name": "ProgressView",
            "style": "IPY_MODEL_cc5fb2651e084aa9939d43d6bbb791b8",
            "_dom_classes": [],
            "description": "100%",
            "_model_name": "FloatProgressModel",
            "bar_style": "success",
            "max": 30,
            "_view_module": "@jupyter-widgets/controls",
            "_model_module_version": "1.5.0",
            "value": 30,
            "_view_count": null,
            "_view_module_version": "1.5.0",
            "orientation": "horizontal",
            "min": 0,
            "description_tooltip": null,
            "_model_module": "@jupyter-widgets/controls",
            "layout": "IPY_MODEL_61ad82d3227849ad8b5f21f8e8e6c5d0"
          }
        },
        "a28c64e883954666923632e3e19b7fe1": {
          "model_module": "@jupyter-widgets/controls",
          "model_name": "HTMLModel",
          "state": {
            "_view_name": "HTMLView",
            "style": "IPY_MODEL_737bf4c1bec044a480aa32973dc3acba",
            "_dom_classes": [],
            "description": "",
            "_model_name": "HTMLModel",
            "placeholder": "​",
            "_view_module": "@jupyter-widgets/controls",
            "_model_module_version": "1.5.0",
            "value": " 30/30 [00:35&lt;00:00,  1.17s/it]",
            "_view_count": null,
            "_view_module_version": "1.5.0",
            "description_tooltip": null,
            "_model_module": "@jupyter-widgets/controls",
            "layout": "IPY_MODEL_9ce3c739eec1419195f4903bff656e6f"
          }
        },
        "cc5fb2651e084aa9939d43d6bbb791b8": {
          "model_module": "@jupyter-widgets/controls",
          "model_name": "ProgressStyleModel",
          "state": {
            "_view_name": "StyleView",
            "_model_name": "ProgressStyleModel",
            "description_width": "initial",
            "_view_module": "@jupyter-widgets/base",
            "_model_module_version": "1.5.0",
            "_view_count": null,
            "_view_module_version": "1.2.0",
            "bar_color": null,
            "_model_module": "@jupyter-widgets/controls"
          }
        },
        "61ad82d3227849ad8b5f21f8e8e6c5d0": {
          "model_module": "@jupyter-widgets/base",
          "model_name": "LayoutModel",
          "state": {
            "_view_name": "LayoutView",
            "grid_template_rows": null,
            "right": null,
            "justify_content": null,
            "_view_module": "@jupyter-widgets/base",
            "overflow": null,
            "_model_module_version": "1.2.0",
            "_view_count": null,
            "flex_flow": null,
            "width": null,
            "min_width": null,
            "border": null,
            "align_items": null,
            "bottom": null,
            "_model_module": "@jupyter-widgets/base",
            "top": null,
            "grid_column": null,
            "overflow_y": null,
            "overflow_x": null,
            "grid_auto_flow": null,
            "grid_area": null,
            "grid_template_columns": null,
            "flex": null,
            "_model_name": "LayoutModel",
            "justify_items": null,
            "grid_row": null,
            "max_height": null,
            "align_content": null,
            "visibility": null,
            "align_self": null,
            "height": null,
            "min_height": null,
            "padding": null,
            "grid_auto_rows": null,
            "grid_gap": null,
            "max_width": null,
            "order": null,
            "_view_module_version": "1.2.0",
            "grid_template_areas": null,
            "object_position": null,
            "object_fit": null,
            "grid_auto_columns": null,
            "margin": null,
            "display": null,
            "left": null
          }
        },
        "737bf4c1bec044a480aa32973dc3acba": {
          "model_module": "@jupyter-widgets/controls",
          "model_name": "DescriptionStyleModel",
          "state": {
            "_view_name": "StyleView",
            "_model_name": "DescriptionStyleModel",
            "description_width": "",
            "_view_module": "@jupyter-widgets/base",
            "_model_module_version": "1.5.0",
            "_view_count": null,
            "_view_module_version": "1.2.0",
            "_model_module": "@jupyter-widgets/controls"
          }
        },
        "9ce3c739eec1419195f4903bff656e6f": {
          "model_module": "@jupyter-widgets/base",
          "model_name": "LayoutModel",
          "state": {
            "_view_name": "LayoutView",
            "grid_template_rows": null,
            "right": null,
            "justify_content": null,
            "_view_module": "@jupyter-widgets/base",
            "overflow": null,
            "_model_module_version": "1.2.0",
            "_view_count": null,
            "flex_flow": null,
            "width": null,
            "min_width": null,
            "border": null,
            "align_items": null,
            "bottom": null,
            "_model_module": "@jupyter-widgets/base",
            "top": null,
            "grid_column": null,
            "overflow_y": null,
            "overflow_x": null,
            "grid_auto_flow": null,
            "grid_area": null,
            "grid_template_columns": null,
            "flex": null,
            "_model_name": "LayoutModel",
            "justify_items": null,
            "grid_row": null,
            "max_height": null,
            "align_content": null,
            "visibility": null,
            "align_self": null,
            "height": null,
            "min_height": null,
            "padding": null,
            "grid_auto_rows": null,
            "grid_gap": null,
            "max_width": null,
            "order": null,
            "_view_module_version": "1.2.0",
            "grid_template_areas": null,
            "object_position": null,
            "object_fit": null,
            "grid_auto_columns": null,
            "margin": null,
            "display": null,
            "left": null
          }
        }
      }
    }
  },
  "cells": [
    {
      "cell_type": "markdown",
      "metadata": {
        "id": "Eh3Ft3vFt0U0",
        "colab_type": "text"
      },
      "source": [
        "\n",
        "*   **Author:** Andrés Carrillo López\n",
        "\n",
        "*   **Project:** Bachelor Thesis - Clasificación de documentos basada en definiciones de categorías.\n",
        "*   **GitHub Repo:** [source](https://github.com/andresC98/One-Shot-DocClassifier)\n",
        "\n",
        "\n",
        "---\n",
        "\n",
        "\n",
        "\n",
        "**Goals of this notebook:**\n",
        "\n",
        "1.   Show project library examples of use of: Dataset extractors (*Wiki/arXiv Parsers*) and Classifiers (Baseline and *MaxSimClassifier*) for document classification using topic definitions.\n",
        "\n",
        "2.   Perform hyperparameter search of models to obtain best suited configurations.\n",
        "\n",
        "3.   Evaluate best configurations of models on test set and compare baseline with MaxSimClassifier.\n",
        "\n",
        "*Note: use notebook Index of Contents (left side in Colab notebook) to navigate easily through notebook contents.*\n",
        "\n",
        "---\n",
        "\n",
        "\n",
        "**Table of Notebook Contents:**\n",
        "\n",
        "\n",
        "1.   Project repository and library downloads/installation.\n",
        "2.   Dataset retrieval using library *arXiv* and *Wiki* Parsers.\n",
        "3.   Vectorization and Train/Test sets construction.\n",
        "4.   Baseline classifiers: Grid Search and Evaluation\n",
        "\n",
        "    4.1.   Support Vector Machine\n",
        "    \n",
        "    4.2.   Multinomial Naive Bayes\n",
        "\n",
        "    4.3.   Feed Forward Neural Network\n",
        "\n",
        "5.  Maximum Similarity Classifier: Grid search and Evaluation\n",
        "6.  Comparing classification via topic definitions against other approaches \n",
        "\n",
        "\n",
        "\n",
        "\n"
      ]
    },
    {
      "cell_type": "markdown",
      "metadata": {
        "id": "k4lFZygPoXt1",
        "colab_type": "text"
      },
      "source": [
        "#1. Project repository download and Library installations"
      ]
    },
    {
      "cell_type": "markdown",
      "metadata": {
        "id": "8QTUX06vPvV9",
        "colab_type": "text"
      },
      "source": [
        "###Prerequisites (ext. libraries)"
      ]
    },
    {
      "cell_type": "code",
      "metadata": {
        "id": "JBbrvHUqPt8F",
        "colab_type": "code",
        "colab": {
          "base_uri": "https://localhost:8080/",
          "height": 570
        },
        "outputId": "9f0e0086-cf12-49af-bec9-8daea389d027"
      },
      "source": [
        "#Prerequisites (external libraries not found in Google Colab)\n",
        "!pip install wikipedia\n",
        "!pip install wikipedia-api\n",
        "###Baseline classifiers libraries###\n",
        "\n",
        "#Keras Neural Network (Feedforward)\n",
        "from keras.metrics import top_k_categorical_accuracy\n",
        "from keras.backend import clear_session\n",
        "from keras.models import Sequential\n",
        "from keras.layers import Dense\n",
        "#Computations \n",
        "import numpy as np\n",
        "#Tables\n",
        "import pandas as pd\n",
        "from google.colab.data_table import DataTable\n",
        "#Sklearn classifiers and utils\n",
        "from sklearn.svm import SVC\n",
        "from sklearn.naive_bayes import MultinomialNB\n",
        "from sklearn.pipeline import Pipeline\n",
        "from sklearn.feature_extraction.text import CountVectorizer, TfidfTransformer"
      ],
      "execution_count": null,
      "outputs": [
        {
          "output_type": "stream",
          "text": [
            "Collecting wikipedia\n",
            "  Downloading https://files.pythonhosted.org/packages/67/35/25e68fbc99e672127cc6fbb14b8ec1ba3dfef035bf1e4c90f78f24a80b7d/wikipedia-1.4.0.tar.gz\n",
            "Requirement already satisfied: beautifulsoup4 in /usr/local/lib/python3.6/dist-packages (from wikipedia) (4.6.3)\n",
            "Requirement already satisfied: requests<3.0.0,>=2.0.0 in /usr/local/lib/python3.6/dist-packages (from wikipedia) (2.23.0)\n",
            "Requirement already satisfied: chardet<4,>=3.0.2 in /usr/local/lib/python3.6/dist-packages (from requests<3.0.0,>=2.0.0->wikipedia) (3.0.4)\n",
            "Requirement already satisfied: urllib3!=1.25.0,!=1.25.1,<1.26,>=1.21.1 in /usr/local/lib/python3.6/dist-packages (from requests<3.0.0,>=2.0.0->wikipedia) (1.24.3)\n",
            "Requirement already satisfied: idna<3,>=2.5 in /usr/local/lib/python3.6/dist-packages (from requests<3.0.0,>=2.0.0->wikipedia) (2.9)\n",
            "Requirement already satisfied: certifi>=2017.4.17 in /usr/local/lib/python3.6/dist-packages (from requests<3.0.0,>=2.0.0->wikipedia) (2020.4.5.1)\n",
            "Building wheels for collected packages: wikipedia\n",
            "  Building wheel for wikipedia (setup.py) ... \u001b[?25l\u001b[?25hdone\n",
            "  Created wheel for wikipedia: filename=wikipedia-1.4.0-cp36-none-any.whl size=11686 sha256=1136751a847eca1f43bab50c9fd133c5e9b786dae06e69915722492d8bb63ebd\n",
            "  Stored in directory: /root/.cache/pip/wheels/87/2a/18/4e471fd96d12114d16fe4a446d00c3b38fb9efcb744bd31f4a\n",
            "Successfully built wikipedia\n",
            "Installing collected packages: wikipedia\n",
            "Successfully installed wikipedia-1.4.0\n",
            "Collecting wikipedia-api\n",
            "  Downloading https://files.pythonhosted.org/packages/ef/3d/289963bbf51f8d00cdf7483cdc2baee25ba877e8b4eb72157c47211e3b57/Wikipedia-API-0.5.4.tar.gz\n",
            "Requirement already satisfied: requests in /usr/local/lib/python3.6/dist-packages (from wikipedia-api) (2.23.0)\n",
            "Requirement already satisfied: idna<3,>=2.5 in /usr/local/lib/python3.6/dist-packages (from requests->wikipedia-api) (2.9)\n",
            "Requirement already satisfied: certifi>=2017.4.17 in /usr/local/lib/python3.6/dist-packages (from requests->wikipedia-api) (2020.4.5.1)\n",
            "Requirement already satisfied: urllib3!=1.25.0,!=1.25.1,<1.26,>=1.21.1 in /usr/local/lib/python3.6/dist-packages (from requests->wikipedia-api) (1.24.3)\n",
            "Requirement already satisfied: chardet<4,>=3.0.2 in /usr/local/lib/python3.6/dist-packages (from requests->wikipedia-api) (3.0.4)\n",
            "Building wheels for collected packages: wikipedia-api\n",
            "  Building wheel for wikipedia-api (setup.py) ... \u001b[?25l\u001b[?25hdone\n",
            "  Created wheel for wikipedia-api: filename=Wikipedia_API-0.5.4-cp36-none-any.whl size=13462 sha256=ac77da45bdf643911ae751d85eae749e92f5f4a4ef445d366367de603ed7ebd2\n",
            "  Stored in directory: /root/.cache/pip/wheels/bf/40/42/ba1d497f3712281b659dd65b566fc868035c859239571a725a\n",
            "Successfully built wikipedia-api\n",
            "Installing collected packages: wikipedia-api\n",
            "Successfully installed wikipedia-api-0.5.4\n"
          ],
          "name": "stdout"
        },
        {
          "output_type": "stream",
          "text": [
            "Using TensorFlow backend.\n"
          ],
          "name": "stderr"
        }
      ]
    },
    {
      "cell_type": "markdown",
      "metadata": {
        "id": "OLfq3C2dPyb_",
        "colab_type": "text"
      },
      "source": [
        "##Project repository download and imports"
      ]
    },
    {
      "cell_type": "code",
      "metadata": {
        "id": "T-_m4pKQeHq3",
        "colab_type": "code",
        "colab": {
          "base_uri": "https://localhost:8080/",
          "height": 176
        },
        "outputId": "7d4a7dd9-8bdb-4785-e6a2-1ad37159440b"
      },
      "source": [
        "!git clone https://github.com/andresC98/One-Shot-DocClassifier.git\n",
        "%cd One-Shot-DocClassifier/lib\n",
        "!ls"
      ],
      "execution_count": 1,
      "outputs": [
        {
          "output_type": "stream",
          "text": [
            "Cloning into 'One-Shot-DocClassifier'...\n",
            "remote: Enumerating objects: 285, done.\u001b[K\n",
            "remote: Counting objects: 100% (285/285), done.\u001b[K\n",
            "remote: Compressing objects: 100% (208/208), done.\u001b[K\n",
            "remote: Total 285 (delta 155), reused 183 (delta 75), pack-reused 0\u001b[K\n",
            "Receiving objects: 100% (285/285), 1.94 MiB | 1.95 MiB/s, done.\n",
            "Resolving deltas: 100% (155/155), done.\n",
            "/content/One-Shot-DocClassifier/lib\n",
            "arxiv_parser.py  doc_utils.py  max_sim_classifier.py  wiki_parser.py\n"
          ],
          "name": "stdout"
        }
      ]
    },
    {
      "cell_type": "code",
      "metadata": {
        "id": "bHARruZZPqpl",
        "colab_type": "code",
        "colab": {
          "base_uri": "https://localhost:8080/",
          "height": 178
        },
        "outputId": "2cb19247-4739-4282-b467-f0f0638b8f39"
      },
      "source": [
        "###Importing project library###\n",
        "\n",
        "import doc_utils #cleaning and other helper functions (visualization...)\n",
        "from max_sim_classifier import MaxSimClassifier #maximum similarity classifier\n",
        "#Parser libraries: wikipedia dataset and arxiv dataset\n",
        "from arxiv_parser import arxiv_parser\n",
        "from wiki_parser import concurrentGetWikiFullPage, concurrentGetAllCatArticles"
      ],
      "execution_count": null,
      "outputs": [
        {
          "output_type": "stream",
          "text": [
            "[nltk_data] Downloading package punkt to /root/nltk_data...\n",
            "[nltk_data]   Unzipping tokenizers/punkt.zip.\n",
            "[nltk_data] Downloading package wordnet to /root/nltk_data...\n",
            "[nltk_data]   Unzipping corpora/wordnet.zip.\n",
            "[nltk_data] Downloading package stopwords to /root/nltk_data...\n",
            "[nltk_data]   Unzipping corpora/stopwords.zip.\n"
          ],
          "name": "stdout"
        },
        {
          "output_type": "stream",
          "text": [
            "/usr/local/lib/python3.6/dist-packages/statsmodels/tools/_testing.py:19: FutureWarning: pandas.util.testing is deprecated. Use the functions in the public API at pandas.testing instead.\n",
            "  import pandas.util.testing as tm\n"
          ],
          "name": "stderr"
        }
      ]
    },
    {
      "cell_type": "markdown",
      "metadata": {
        "id": "9byvW584oc7d",
        "colab_type": "text"
      },
      "source": [
        "#2. Dataset retrieval using library *Parsers*"
      ]
    },
    {
      "cell_type": "code",
      "metadata": {
        "id": "kBTL_OzMi8NS",
        "colab_type": "code",
        "colab": {}
      },
      "source": [
        "#EXECUTE THIS IF EXTRACTED DATA WAS SAVED; OTHERWISE DO NOT AND EXECUTE NEXT CELLS INSTEAD\n",
        "import pickle\n",
        "#Note: if had data previously saved, upload to colab main folder, this will move to current dir\n",
        "!mv ../../*.data .\n",
        "wiki_topic_defs = pickle.load( open( \"wiki_topic_defs.data\", \"rb\" ))\n",
        "wiki_articles = pickle.load( open( \"wiki_articles.data\", \"rb\" ))\n",
        "arxiv_dataset = pickle.load( open( \"arxiv_dataset.data\", \"rb\" ))\n",
        "arxiv_topic_defs = pickle.load( open( \"arxiv_topic_defs.data\", \"rb\" ))"
      ],
      "execution_count": null,
      "outputs": []
    },
    {
      "cell_type": "markdown",
      "metadata": {
        "id": "fxsFMHSJzi2t",
        "colab_type": "text"
      },
      "source": [
        "## Wikipedia articles data (*WikiParser*)"
      ]
    },
    {
      "cell_type": "code",
      "metadata": {
        "id": "5NzGqNJ3oTME",
        "colab_type": "code",
        "colab": {
          "base_uri": "https://localhost:8080/",
          "height": 336
        },
        "outputId": "c41044ff-f468-462b-8d3f-e72a38c66019"
      },
      "source": [
        "engineering_topic_defs = concurrentGetWikiFullPage(topics_list = doc_utils.ALL_TOPICS )\n",
        "\n",
        "engineering_articles, n_test_samples = concurrentGetAllCatArticles(doc_utils.ALL_TOPICS, full_text_test=True)"
      ],
      "execution_count": null,
      "outputs": [
        {
          "output_type": "stream",
          "text": [
            "Obtaining full wikipedia page for the topic: Chemical engineering. (Definition of Class #[0])\n",
            "Obtaining full wikipedia page for the topic: Biomedical engineering. (Definition of Class #[1])\n",
            "Obtaining full wikipedia page for the topic: Civil engineering. (Definition of Class #[2])\n",
            "Obtaining full wikipedia page for the topic: Electrical engineering. (Definition of Class #[3])\n",
            "Obtaining full wikipedia page for the topic: Mechanical engineering. (Definition of Class #[4])\n",
            "Obtaining full wikipedia page for the topic: Aerospace engineering. (Definition of Class #[5])\n",
            "Obtaining full wikipedia page for the topic: Software engineering. (Definition of Class #[6])\n",
            "Obtaining full wikipedia page for the topic: Industrial engineering. (Definition of Class #[7])\n",
            "Obtaining full wikipedia page for the topic: Computer engineering. (Definition of Class #[8])\n",
            "Retrieved 38 articles from category topic 'Computer engineering'[TopicID:8]\n",
            "Retrieved 57 articles from category topic 'Software engineering'[TopicID:6]\n",
            "Retrieved 67 articles from category topic 'Chemical engineering'[TopicID:0]\n",
            "Retrieved 74 articles from category topic 'Industrial engineering'[TopicID:7]\n",
            "Retrieved 74 articles from category topic 'Biomedical engineering'[TopicID:1]\n",
            "Retrieved 141 articles from category topic 'Electrical engineering'[TopicID:3]\n",
            "Retrieved 153 articles from category topic 'Civil engineering'[TopicID:2]\n",
            "Retrieved 175 articles from category topic 'Aerospace engineering'[TopicID:5]\n",
            "Retrieved 216 articles from category topic 'Mechanical engineering'[TopicID:4]\n"
          ],
          "name": "stdout"
        }
      ]
    },
    {
      "cell_type": "markdown",
      "metadata": {
        "id": "peU4j_EozpFv",
        "colab_type": "text"
      },
      "source": [
        "## *arXiv* papers data (*arXiv Parser* + *WikiParser*)"
      ]
    },
    {
      "cell_type": "code",
      "metadata": {
        "id": "zSop-p6Zzzur",
        "colab_type": "code",
        "colab": {
          "base_uri": "https://localhost:8080/",
          "height": 338
        },
        "outputId": "e88ad4a8-04ff-42f8-c55f-28ba8d6f98bb"
      },
      "source": [
        "arxiv_topic_defs = concurrentGetWikiFullPage(topics_list = doc_utils.ARXIV_WIKI_TOPICS )\n",
        "\n",
        "arxiv_dataset, paperslist = arxiv_parser(100)"
      ],
      "execution_count": null,
      "outputs": [
        {
          "output_type": "stream",
          "text": [
            "Obtaining full wikipedia page for the topic: Computer science. (Definition of Class #[0])\n",
            "Obtaining full wikipedia page for the topic: Economics. (Definition of Class #[1])\n",
            "Obtaining full wikipedia page for the topic: Systems engineering. (Definition of Class #[2])Obtaining full wikipedia page for the topic: Mathematics. (Definition of Class #[3])\n",
            "\n",
            "Obtaining full wikipedia page for the topic: Astrophysics. (Definition of Class #[4])\n",
            "Obtaining full wikipedia page for the topic: Computational biology. (Definition of Class #[5])\n",
            "Obtaining full wikipedia page for the topic: Quantitative finance. (Definition of Class #[6])\n",
            "Obtaining full wikipedia page for the topic: Statistics. (Definition of Class #[7])\n",
            "Retrieving papers for subject: computer_science\n",
            "Retrieving papers for subject: economics\n",
            "Retrieving papers for subject: eess\n",
            "Retrieving papers for subject: mathematics\n",
            "Retrieving papers for subject: physics\n",
            "Retrieving papers for subject: q_biology\n",
            "Retrieving papers for subject: q_finance\n",
            "Retrieving papers for subject: statistics\n",
            "Retrieved 800 papers in total from 8 subjects (100 from each).\n"
          ],
          "name": "stdout"
        }
      ]
    },
    {
      "cell_type": "code",
      "metadata": {
        "id": "jpZkuPWg3t2h",
        "colab_type": "code",
        "colab": {}
      },
      "source": [
        "#Saving data to disk for persistence/reusability\n",
        "import pickle\n",
        "\n",
        "pickle.dump( engineering_topic_defs, open( \"wiki_topic_defs.data\", \"wb\" ) )\n",
        "pickle.dump( engineering_articles, open( \"wiki_articles.data\", \"wb\" ) )\n",
        "pickle.dump( arxiv_topic_defs, open( \"arxiv_topic_defs.data\", \"wb\" ) )\n",
        "pickle.dump( arxiv_dataset, open( \"arxiv_dataset.data\", \"wb\" ) )"
      ],
      "execution_count": null,
      "outputs": []
    },
    {
      "cell_type": "markdown",
      "metadata": {
        "id": "AxQFNb6MojfE",
        "colab_type": "text"
      },
      "source": [
        "#3. Vectorization and Train / Test sets construction"
      ]
    },
    {
      "cell_type": "code",
      "metadata": {
        "id": "uW4zmRoLrmAf",
        "colab_type": "code",
        "colab": {}
      },
      "source": [
        "#FFNN_W_S: FeedForward NeuralNet Wiki data with simple preprocessing (just tokenization)\n",
        "#FFNN_W_C: FeedForward NeuralNet Wiki data with custom preprocessing (tokenization + lemmatization + stopwords filtering)\n",
        "#FFNN_A_S: FeedForward NeuralNet Arxiv data with simple preprocessing (just tokenization)\n",
        "#FFNN_A_C: FeedForward NeuralNet Arxiv data with custom preprocessing (tokenization + lemmatization + stopwords filtering)\n",
        "\n",
        "x_train_FFNN_W_S, y_train_FFNN_W_S, x_test_FFNN_W_S, y_test_FFNN_W_S, dictionary_FFNN_W_S = doc_utils.processNeuralNetData(wiki_topic_defs,wiki_articles,dataset_type = \"wiki\",preprocess = 'simple')\n",
        "x_train_FFNN_W_C, y_train_FFNN_W_C, x_test_FFNN_W_C, y_test_FFNN_W_C, dictionary_FFNN_W_C = doc_utils.processNeuralNetData(wiki_topic_defs,wiki_articles,dataset_type = \"wiki\",preprocess = 'custom')\n",
        "x_train_FFNN_A_S, y_train_FFNN_A_S, x_test_FFNN_A_S, y_test_FFNN_A_S, dictionary_FFNN_A_S = doc_utils.processNeuralNetData(arxiv_topic_defs,arxiv_dataset,dataset_type = \"arxiv\",preprocess = 'simple')\n",
        "x_train_FFNN_A_C, y_train_FFNN_A_C, x_test_FFNN_A_C, y_test_FFNN_A_C, dictionary_FFNN_A_C = doc_utils.processNeuralNetData(arxiv_topic_defs,arxiv_dataset,dataset_type = \"arxiv\",preprocess = 'custom')\n",
        "\n",
        "#MSC ,SVM and MNB compatible (clf_data): NOTE: Preprocess type selected in pipeline later\n",
        "x_train_CLF_W, y_train_CLF_W, x_test_CLF_W, y_test_CLF_W = doc_utils.processClassifierData(wiki_topic_defs, wiki_articles,topics = doc_utils.ALL_TOPICS,dataset_type =\"wiki\")\n",
        "x_train_CLF_A, y_train_CLF_A, x_test_CLF_A, y_test_CLF_A = doc_utils.processClassifierData(arxiv_topic_defs, arxiv_dataset,topics = doc_utils.ARXIV_WIKI_TOPICS,dataset_type =\"arxiv\")"
      ],
      "execution_count": null,
      "outputs": []
    },
    {
      "cell_type": "markdown",
      "metadata": {
        "id": "sJOQOfMPrmqp",
        "colab_type": "text"
      },
      "source": [
        "#4.  Baseline model's Hyperparameter GridSearch and Evaluation"
      ]
    },
    {
      "cell_type": "markdown",
      "metadata": {
        "id": "1MWciEfttNuE",
        "colab_type": "text"
      },
      "source": [
        "## Support Vector Machine"
      ]
    },
    {
      "cell_type": "markdown",
      "metadata": {
        "id": "DhJr6n60eCnX",
        "colab_type": "text"
      },
      "source": [
        "### Wiki dataset"
      ]
    },
    {
      "cell_type": "code",
      "metadata": {
        "id": "-Qva2_EItJK7",
        "colab_type": "code",
        "colab": {
          "base_uri": "https://localhost:8080/",
          "height": 52
        },
        "outputId": "90f2cd22-75ee-4487-a949-26d12bc8ac3e"
      },
      "source": [
        "best_svm_wiki_score = 0\n",
        "svm_wiki_models_params = list()\n",
        "for gamma in [0.001, 0.01, 0.1, 1, 10, 100]:\n",
        "    for C in [0.001, 0.01, 0.1, 1, 10, 100]:\n",
        "        for idf in [True, False]:\n",
        "            for stop_words in ['english', None]:\n",
        "                for ngram_range in [(1,1), (1,2)]:\n",
        "                    #Training the SVM for the hyperparam  + preprocessing combinations\n",
        "                    svm = Pipeline([('vect', CountVectorizer(stop_words=stop_words,ngram_range=ngram_range)),\n",
        "                                    ('tfidf', TfidfTransformer(use_idf=idf)),\n",
        "                                    ('clf', SVC(C=C, gamma=gamma)),\n",
        "                                    ])    \n",
        "                    svm.fit(x_train_CLF_W, y_train_CLF_W)\n",
        "                    # evaluate the SVM on the test set\n",
        "                    score = svm.score(x_test_CLF_W, y_test_CLF_W)\n",
        "\n",
        "                    #keeping track of the combinations\n",
        "                    params = {'C': C, 'gamma': gamma, 'idf': idf, 'stop_words':stop_words, 'ngram_range':ngram_range}\n",
        "                    svm_wiki_models_params.append((score, params))\n",
        "\n",
        "                    # if we got a better score, store the score and parameters\n",
        "                    if score > best_svm_wiki_score:\n",
        "                        best_svm_wiki_score = score\n",
        "                        best_svm_wiki_parameters = {'C': C, 'gamma': gamma, 'idf': idf, 'stop_words':stop_words, 'ngram_range':ngram_range}\n",
        "\n",
        "print(\"Best Top-1 Accuracy: {:.4f}\".format(best_svm_wiki_score))#(Top-1 acc score)\n",
        "print(\"Best parameters: {}\".format(best_svm_wiki_parameters))"
      ],
      "execution_count": null,
      "outputs": [
        {
          "output_type": "stream",
          "text": [
            "Best Top-1 Accuracy: 0.7357\n",
            "Best parameters: {'C': 0.001, 'gamma': 0.001, 'idf': True, 'stop_words': 'english', 'ngram_range': (1, 1)}\n"
          ],
          "name": "stdout"
        }
      ]
    },
    {
      "cell_type": "code",
      "metadata": {
        "id": "HdAJfzr-GQQM",
        "colab_type": "code",
        "colab": {
          "base_uri": "https://localhost:8080/",
          "height": 567
        },
        "outputId": "ef3be183-b5d2-4ac0-9aa9-f819aef735d1"
      },
      "source": [
        "df = pd.DataFrame.from_dict(svm_wiki_models_params)\n",
        "df.columns = ['Top1 Acc.', 'SVM Classifier Parameters']\n",
        "DataTable(df.sort_values(by=['Top1 Acc.'], ascending=False))"
      ],
      "execution_count": null,
      "outputs": [
        {
          "output_type": "execute_result",
          "data": {
            "application/vnd.google.colaboratory.module+javascript": "\n      import \"https://ssl.gstatic.com/colaboratory/data_table/a6224c040fa35dcf/data_table.js\";\n\n      window.createDataTable({\n        data: [[{\n            'v': 0,\n            'f': \"0\",\n        },\n{\n            'v': 0.735678391959799,\n            'f': \"0.735678391959799\",\n        },\n\"{'C': 0.001, 'gamma': 0.001, 'idf': True, 'stop_words': 'english', 'ngram_range': (1, 1)}\"],\n [{\n            'v': 32,\n            'f': \"32\",\n        },\n{\n            'v': 0.735678391959799,\n            'f': \"0.735678391959799\",\n        },\n\"{'C': 10, 'gamma': 0.001, 'idf': True, 'stop_words': 'english', 'ngram_range': (1, 1)}\"],\n [{\n            'v': 48,\n            'f': \"48\",\n        },\n{\n            'v': 0.735678391959799,\n            'f': \"0.735678391959799\",\n        },\n\"{'C': 0.001, 'gamma': 0.01, 'idf': True, 'stop_words': 'english', 'ngram_range': (1, 1)}\"],\n [{\n            'v': 56,\n            'f': \"56\",\n        },\n{\n            'v': 0.735678391959799,\n            'f': \"0.735678391959799\",\n        },\n\"{'C': 0.01, 'gamma': 0.01, 'idf': True, 'stop_words': 'english', 'ngram_range': (1, 1)}\"],\n [{\n            'v': 64,\n            'f': \"64\",\n        },\n{\n            'v': 0.735678391959799,\n            'f': \"0.735678391959799\",\n        },\n\"{'C': 0.1, 'gamma': 0.01, 'idf': True, 'stop_words': 'english', 'ngram_range': (1, 1)}\"],\n [{\n            'v': 72,\n            'f': \"72\",\n        },\n{\n            'v': 0.735678391959799,\n            'f': \"0.735678391959799\",\n        },\n\"{'C': 1, 'gamma': 0.01, 'idf': True, 'stop_words': 'english', 'ngram_range': (1, 1)}\"],\n [{\n            'v': 80,\n            'f': \"80\",\n        },\n{\n            'v': 0.735678391959799,\n            'f': \"0.735678391959799\",\n        },\n\"{'C': 10, 'gamma': 0.01, 'idf': True, 'stop_words': 'english', 'ngram_range': (1, 1)}\"],\n [{\n            'v': 88,\n            'f': \"88\",\n        },\n{\n            'v': 0.735678391959799,\n            'f': \"0.735678391959799\",\n        },\n\"{'C': 100, 'gamma': 0.01, 'idf': True, 'stop_words': 'english', 'ngram_range': (1, 1)}\"],\n [{\n            'v': 96,\n            'f': \"96\",\n        },\n{\n            'v': 0.735678391959799,\n            'f': \"0.735678391959799\",\n        },\n\"{'C': 0.001, 'gamma': 0.1, 'idf': True, 'stop_words': 'english', 'ngram_range': (1, 1)}\"],\n [{\n            'v': 104,\n            'f': \"104\",\n        },\n{\n            'v': 0.735678391959799,\n            'f': \"0.735678391959799\",\n        },\n\"{'C': 0.01, 'gamma': 0.1, 'idf': True, 'stop_words': 'english', 'ngram_range': (1, 1)}\"],\n [{\n            'v': 112,\n            'f': \"112\",\n        },\n{\n            'v': 0.735678391959799,\n            'f': \"0.735678391959799\",\n        },\n\"{'C': 0.1, 'gamma': 0.1, 'idf': True, 'stop_words': 'english', 'ngram_range': (1, 1)}\"],\n [{\n            'v': 120,\n            'f': \"120\",\n        },\n{\n            'v': 0.735678391959799,\n            'f': \"0.735678391959799\",\n        },\n\"{'C': 1, 'gamma': 0.1, 'idf': True, 'stop_words': 'english', 'ngram_range': (1, 1)}\"],\n [{\n            'v': 128,\n            'f': \"128\",\n        },\n{\n            'v': 0.735678391959799,\n            'f': \"0.735678391959799\",\n        },\n\"{'C': 10, 'gamma': 0.1, 'idf': True, 'stop_words': 'english', 'ngram_range': (1, 1)}\"],\n [{\n            'v': 136,\n            'f': \"136\",\n        },\n{\n            'v': 0.735678391959799,\n            'f': \"0.735678391959799\",\n        },\n\"{'C': 100, 'gamma': 0.1, 'idf': True, 'stop_words': 'english', 'ngram_range': (1, 1)}\"],\n [{\n            'v': 152,\n            'f': \"152\",\n        },\n{\n            'v': 0.735678391959799,\n            'f': \"0.735678391959799\",\n        },\n\"{'C': 0.01, 'gamma': 1, 'idf': True, 'stop_words': 'english', 'ngram_range': (1, 1)}\"],\n [{\n            'v': 160,\n            'f': \"160\",\n        },\n{\n            'v': 0.735678391959799,\n            'f': \"0.735678391959799\",\n        },\n\"{'C': 0.1, 'gamma': 1, 'idf': True, 'stop_words': 'english', 'ngram_range': (1, 1)}\"],\n [{\n            'v': 168,\n            'f': \"168\",\n        },\n{\n            'v': 0.735678391959799,\n            'f': \"0.735678391959799\",\n        },\n\"{'C': 1, 'gamma': 1, 'idf': True, 'stop_words': 'english', 'ngram_range': (1, 1)}\"],\n [{\n            'v': 176,\n            'f': \"176\",\n        },\n{\n            'v': 0.735678391959799,\n            'f': \"0.735678391959799\",\n        },\n\"{'C': 10, 'gamma': 1, 'idf': True, 'stop_words': 'english', 'ngram_range': (1, 1)}\"],\n [{\n            'v': 184,\n            'f': \"184\",\n        },\n{\n            'v': 0.735678391959799,\n            'f': \"0.735678391959799\",\n        },\n\"{'C': 100, 'gamma': 1, 'idf': True, 'stop_words': 'english', 'ngram_range': (1, 1)}\"],\n [{\n            'v': 192,\n            'f': \"192\",\n        },\n{\n            'v': 0.735678391959799,\n            'f': \"0.735678391959799\",\n        },\n\"{'C': 0.001, 'gamma': 10, 'idf': True, 'stop_words': 'english', 'ngram_range': (1, 1)}\"],\n [{\n            'v': 200,\n            'f': \"200\",\n        },\n{\n            'v': 0.735678391959799,\n            'f': \"0.735678391959799\",\n        },\n\"{'C': 0.01, 'gamma': 10, 'idf': True, 'stop_words': 'english', 'ngram_range': (1, 1)}\"],\n [{\n            'v': 208,\n            'f': \"208\",\n        },\n{\n            'v': 0.735678391959799,\n            'f': \"0.735678391959799\",\n        },\n\"{'C': 0.1, 'gamma': 10, 'idf': True, 'stop_words': 'english', 'ngram_range': (1, 1)}\"],\n [{\n            'v': 216,\n            'f': \"216\",\n        },\n{\n            'v': 0.735678391959799,\n            'f': \"0.735678391959799\",\n        },\n\"{'C': 1, 'gamma': 10, 'idf': True, 'stop_words': 'english', 'ngram_range': (1, 1)}\"],\n [{\n            'v': 224,\n            'f': \"224\",\n        },\n{\n            'v': 0.735678391959799,\n            'f': \"0.735678391959799\",\n        },\n\"{'C': 10, 'gamma': 10, 'idf': True, 'stop_words': 'english', 'ngram_range': (1, 1)}\"],\n [{\n            'v': 232,\n            'f': \"232\",\n        },\n{\n            'v': 0.735678391959799,\n            'f': \"0.735678391959799\",\n        },\n\"{'C': 100, 'gamma': 10, 'idf': True, 'stop_words': 'english', 'ngram_range': (1, 1)}\"],\n [{\n            'v': 240,\n            'f': \"240\",\n        },\n{\n            'v': 0.735678391959799,\n            'f': \"0.735678391959799\",\n        },\n\"{'C': 0.001, 'gamma': 100, 'idf': True, 'stop_words': 'english', 'ngram_range': (1, 1)}\"],\n [{\n            'v': 248,\n            'f': \"248\",\n        },\n{\n            'v': 0.735678391959799,\n            'f': \"0.735678391959799\",\n        },\n\"{'C': 0.01, 'gamma': 100, 'idf': True, 'stop_words': 'english', 'ngram_range': (1, 1)}\"],\n [{\n            'v': 256,\n            'f': \"256\",\n        },\n{\n            'v': 0.735678391959799,\n            'f': \"0.735678391959799\",\n        },\n\"{'C': 0.1, 'gamma': 100, 'idf': True, 'stop_words': 'english', 'ngram_range': (1, 1)}\"],\n [{\n            'v': 264,\n            'f': \"264\",\n        },\n{\n            'v': 0.735678391959799,\n            'f': \"0.735678391959799\",\n        },\n\"{'C': 1, 'gamma': 100, 'idf': True, 'stop_words': 'english', 'ngram_range': (1, 1)}\"],\n [{\n            'v': 272,\n            'f': \"272\",\n        },\n{\n            'v': 0.735678391959799,\n            'f': \"0.735678391959799\",\n        },\n\"{'C': 10, 'gamma': 100, 'idf': True, 'stop_words': 'english', 'ngram_range': (1, 1)}\"],\n [{\n            'v': 280,\n            'f': \"280\",\n        },\n{\n            'v': 0.735678391959799,\n            'f': \"0.735678391959799\",\n        },\n\"{'C': 100, 'gamma': 100, 'idf': True, 'stop_words': 'english', 'ngram_range': (1, 1)}\"],\n [{\n            'v': 40,\n            'f': \"40\",\n        },\n{\n            'v': 0.735678391959799,\n            'f': \"0.735678391959799\",\n        },\n\"{'C': 100, 'gamma': 0.001, 'idf': True, 'stop_words': 'english', 'ngram_range': (1, 1)}\"],\n [{\n            'v': 144,\n            'f': \"144\",\n        },\n{\n            'v': 0.735678391959799,\n            'f': \"0.735678391959799\",\n        },\n\"{'C': 0.001, 'gamma': 1, 'idf': True, 'stop_words': 'english', 'ngram_range': (1, 1)}\"],\n [{\n            'v': 16,\n            'f': \"16\",\n        },\n{\n            'v': 0.735678391959799,\n            'f': \"0.735678391959799\",\n        },\n\"{'C': 0.1, 'gamma': 0.001, 'idf': True, 'stop_words': 'english', 'ngram_range': (1, 1)}\"],\n [{\n            'v': 8,\n            'f': \"8\",\n        },\n{\n            'v': 0.735678391959799,\n            'f': \"0.735678391959799\",\n        },\n\"{'C': 0.01, 'gamma': 0.001, 'idf': True, 'stop_words': 'english', 'ngram_range': (1, 1)}\"],\n [{\n            'v': 24,\n            'f': \"24\",\n        },\n{\n            'v': 0.735678391959799,\n            'f': \"0.735678391959799\",\n        },\n\"{'C': 1, 'gamma': 0.001, 'idf': True, 'stop_words': 'english', 'ngram_range': (1, 1)}\"],\n [{\n            'v': 161,\n            'f': \"161\",\n        },\n{\n            'v': 0.7286432160804021,\n            'f': \"0.7286432160804021\",\n        },\n\"{'C': 0.1, 'gamma': 1, 'idf': True, 'stop_words': 'english', 'ngram_range': (1, 2)}\"],\n [{\n            'v': 153,\n            'f': \"153\",\n        },\n{\n            'v': 0.7286432160804021,\n            'f': \"0.7286432160804021\",\n        },\n\"{'C': 0.01, 'gamma': 1, 'idf': True, 'stop_words': 'english', 'ngram_range': (1, 2)}\"],\n [{\n            'v': 145,\n            'f': \"145\",\n        },\n{\n            'v': 0.7286432160804021,\n            'f': \"0.7286432160804021\",\n        },\n\"{'C': 0.001, 'gamma': 1, 'idf': True, 'stop_words': 'english', 'ngram_range': (1, 2)}\"],\n [{\n            'v': 1,\n            'f': \"1\",\n        },\n{\n            'v': 0.7286432160804021,\n            'f': \"0.7286432160804021\",\n        },\n\"{'C': 0.001, 'gamma': 0.001, 'idf': True, 'stop_words': 'english', 'ngram_range': (1, 2)}\"],\n [{\n            'v': 137,\n            'f': \"137\",\n        },\n{\n            'v': 0.7286432160804021,\n            'f': \"0.7286432160804021\",\n        },\n\"{'C': 100, 'gamma': 0.1, 'idf': True, 'stop_words': 'english', 'ngram_range': (1, 2)}\"],\n [{\n            'v': 129,\n            'f': \"129\",\n        },\n{\n            'v': 0.7286432160804021,\n            'f': \"0.7286432160804021\",\n        },\n\"{'C': 10, 'gamma': 0.1, 'idf': True, 'stop_words': 'english', 'ngram_range': (1, 2)}\"],\n [{\n            'v': 33,\n            'f': \"33\",\n        },\n{\n            'v': 0.7286432160804021,\n            'f': \"0.7286432160804021\",\n        },\n\"{'C': 10, 'gamma': 0.001, 'idf': True, 'stop_words': 'english', 'ngram_range': (1, 2)}\"],\n [{\n            'v': 169,\n            'f': \"169\",\n        },\n{\n            'v': 0.7286432160804021,\n            'f': \"0.7286432160804021\",\n        },\n\"{'C': 1, 'gamma': 1, 'idf': True, 'stop_words': 'english', 'ngram_range': (1, 2)}\"],\n [{\n            'v': 113,\n            'f': \"113\",\n        },\n{\n            'v': 0.7286432160804021,\n            'f': \"0.7286432160804021\",\n        },\n\"{'C': 0.1, 'gamma': 0.1, 'idf': True, 'stop_words': 'english', 'ngram_range': (1, 2)}\"],\n [{\n            'v': 105,\n            'f': \"105\",\n        },\n{\n            'v': 0.7286432160804021,\n            'f': \"0.7286432160804021\",\n        },\n\"{'C': 0.01, 'gamma': 0.1, 'idf': True, 'stop_words': 'english', 'ngram_range': (1, 2)}\"],\n [{\n            'v': 97,\n            'f': \"97\",\n        },\n{\n            'v': 0.7286432160804021,\n            'f': \"0.7286432160804021\",\n        },\n\"{'C': 0.001, 'gamma': 0.1, 'idf': True, 'stop_words': 'english', 'ngram_range': (1, 2)}\"],\n [{\n            'v': 89,\n            'f': \"89\",\n        },\n{\n            'v': 0.7286432160804021,\n            'f': \"0.7286432160804021\",\n        },\n\"{'C': 100, 'gamma': 0.01, 'idf': True, 'stop_words': 'english', 'ngram_range': (1, 2)}\"],\n [{\n            'v': 25,\n            'f': \"25\",\n        },\n{\n            'v': 0.7286432160804021,\n            'f': \"0.7286432160804021\",\n        },\n\"{'C': 1, 'gamma': 0.001, 'idf': True, 'stop_words': 'english', 'ngram_range': (1, 2)}\"],\n [{\n            'v': 121,\n            'f': \"121\",\n        },\n{\n            'v': 0.7286432160804021,\n            'f': \"0.7286432160804021\",\n        },\n\"{'C': 1, 'gamma': 0.1, 'idf': True, 'stop_words': 'english', 'ngram_range': (1, 2)}\"],\n [{\n            'v': 177,\n            'f': \"177\",\n        },\n{\n            'v': 0.7286432160804021,\n            'f': \"0.7286432160804021\",\n        },\n\"{'C': 10, 'gamma': 1, 'idf': True, 'stop_words': 'english', 'ngram_range': (1, 2)}\"],\n [{\n            'v': 73,\n            'f': \"73\",\n        },\n{\n            'v': 0.7286432160804021,\n            'f': \"0.7286432160804021\",\n        },\n\"{'C': 1, 'gamma': 0.01, 'idf': True, 'stop_words': 'english', 'ngram_range': (1, 2)}\"],\n [{\n            'v': 185,\n            'f': \"185\",\n        },\n{\n            'v': 0.7286432160804021,\n            'f': \"0.7286432160804021\",\n        },\n\"{'C': 100, 'gamma': 1, 'idf': True, 'stop_words': 'english', 'ngram_range': (1, 2)}\"],\n [{\n            'v': 193,\n            'f': \"193\",\n        },\n{\n            'v': 0.7286432160804021,\n            'f': \"0.7286432160804021\",\n        },\n\"{'C': 0.001, 'gamma': 10, 'idf': True, 'stop_words': 'english', 'ngram_range': (1, 2)}\"],\n [{\n            'v': 201,\n            'f': \"201\",\n        },\n{\n            'v': 0.7286432160804021,\n            'f': \"0.7286432160804021\",\n        },\n\"{'C': 0.01, 'gamma': 10, 'idf': True, 'stop_words': 'english', 'ngram_range': (1, 2)}\"],\n [{\n            'v': 209,\n            'f': \"209\",\n        },\n{\n            'v': 0.7286432160804021,\n            'f': \"0.7286432160804021\",\n        },\n\"{'C': 0.1, 'gamma': 10, 'idf': True, 'stop_words': 'english', 'ngram_range': (1, 2)}\"],\n [{\n            'v': 217,\n            'f': \"217\",\n        },\n{\n            'v': 0.7286432160804021,\n            'f': \"0.7286432160804021\",\n        },\n\"{'C': 1, 'gamma': 10, 'idf': True, 'stop_words': 'english', 'ngram_range': (1, 2)}\"],\n [{\n            'v': 9,\n            'f': \"9\",\n        },\n{\n            'v': 0.7286432160804021,\n            'f': \"0.7286432160804021\",\n        },\n\"{'C': 0.01, 'gamma': 0.001, 'idf': True, 'stop_words': 'english', 'ngram_range': (1, 2)}\"],\n [{\n            'v': 225,\n            'f': \"225\",\n        },\n{\n            'v': 0.7286432160804021,\n            'f': \"0.7286432160804021\",\n        },\n\"{'C': 10, 'gamma': 10, 'idf': True, 'stop_words': 'english', 'ngram_range': (1, 2)}\"],\n [{\n            'v': 233,\n            'f': \"233\",\n        },\n{\n            'v': 0.7286432160804021,\n            'f': \"0.7286432160804021\",\n        },\n\"{'C': 100, 'gamma': 10, 'idf': True, 'stop_words': 'english', 'ngram_range': (1, 2)}\"],\n [{\n            'v': 241,\n            'f': \"241\",\n        },\n{\n            'v': 0.7286432160804021,\n            'f': \"0.7286432160804021\",\n        },\n\"{'C': 0.001, 'gamma': 100, 'idf': True, 'stop_words': 'english', 'ngram_range': (1, 2)}\"],\n [{\n            'v': 249,\n            'f': \"249\",\n        },\n{\n            'v': 0.7286432160804021,\n            'f': \"0.7286432160804021\",\n        },\n\"{'C': 0.01, 'gamma': 100, 'idf': True, 'stop_words': 'english', 'ngram_range': (1, 2)}\"],\n [{\n            'v': 257,\n            'f': \"257\",\n        },\n{\n            'v': 0.7286432160804021,\n            'f': \"0.7286432160804021\",\n        },\n\"{'C': 0.1, 'gamma': 100, 'idf': True, 'stop_words': 'english', 'ngram_range': (1, 2)}\"],\n [{\n            'v': 265,\n            'f': \"265\",\n        },\n{\n            'v': 0.7286432160804021,\n            'f': \"0.7286432160804021\",\n        },\n\"{'C': 1, 'gamma': 100, 'idf': True, 'stop_words': 'english', 'ngram_range': (1, 2)}\"],\n [{\n            'v': 273,\n            'f': \"273\",\n        },\n{\n            'v': 0.7286432160804021,\n            'f': \"0.7286432160804021\",\n        },\n\"{'C': 10, 'gamma': 100, 'idf': True, 'stop_words': 'english', 'ngram_range': (1, 2)}\"],\n [{\n            'v': 281,\n            'f': \"281\",\n        },\n{\n            'v': 0.7286432160804021,\n            'f': \"0.7286432160804021\",\n        },\n\"{'C': 100, 'gamma': 100, 'idf': True, 'stop_words': 'english', 'ngram_range': (1, 2)}\"],\n [{\n            'v': 81,\n            'f': \"81\",\n        },\n{\n            'v': 0.7286432160804021,\n            'f': \"0.7286432160804021\",\n        },\n\"{'C': 10, 'gamma': 0.01, 'idf': True, 'stop_words': 'english', 'ngram_range': (1, 2)}\"],\n [{\n            'v': 17,\n            'f': \"17\",\n        },\n{\n            'v': 0.7286432160804021,\n            'f': \"0.7286432160804021\",\n        },\n\"{'C': 0.1, 'gamma': 0.001, 'idf': True, 'stop_words': 'english', 'ngram_range': (1, 2)}\"],\n [{\n            'v': 49,\n            'f': \"49\",\n        },\n{\n            'v': 0.7286432160804021,\n            'f': \"0.7286432160804021\",\n        },\n\"{'C': 0.001, 'gamma': 0.01, 'idf': True, 'stop_words': 'english', 'ngram_range': (1, 2)}\"],\n [{\n            'v': 65,\n            'f': \"65\",\n        },\n{\n            'v': 0.7286432160804021,\n            'f': \"0.7286432160804021\",\n        },\n\"{'C': 0.1, 'gamma': 0.01, 'idf': True, 'stop_words': 'english', 'ngram_range': (1, 2)}\"],\n [{\n            'v': 57,\n            'f': \"57\",\n        },\n{\n            'v': 0.7286432160804021,\n            'f': \"0.7286432160804021\",\n        },\n\"{'C': 0.01, 'gamma': 0.01, 'idf': True, 'stop_words': 'english', 'ngram_range': (1, 2)}\"],\n [{\n            'v': 41,\n            'f': \"41\",\n        },\n{\n            'v': 0.7286432160804021,\n            'f': \"0.7286432160804021\",\n        },\n\"{'C': 100, 'gamma': 0.001, 'idf': True, 'stop_words': 'english', 'ngram_range': (1, 2)}\"],\n [{\n            'v': 53,\n            'f': \"53\",\n        },\n{\n            'v': 0.6834170854271356,\n            'f': \"0.6834170854271356\",\n        },\n\"{'C': 0.001, 'gamma': 0.01, 'idf': False, 'stop_words': 'english', 'ngram_range': (1, 2)}\"],\n [{\n            'v': 197,\n            'f': \"197\",\n        },\n{\n            'v': 0.6834170854271356,\n            'f': \"0.6834170854271356\",\n        },\n\"{'C': 0.001, 'gamma': 10, 'idf': False, 'stop_words': 'english', 'ngram_range': (1, 2)}\"],\n [{\n            'v': 45,\n            'f': \"45\",\n        },\n{\n            'v': 0.6834170854271356,\n            'f': \"0.6834170854271356\",\n        },\n\"{'C': 100, 'gamma': 0.001, 'idf': False, 'stop_words': 'english', 'ngram_range': (1, 2)}\"],\n [{\n            'v': 13,\n            'f': \"13\",\n        },\n{\n            'v': 0.6834170854271356,\n            'f': \"0.6834170854271356\",\n        },\n\"{'C': 0.01, 'gamma': 0.001, 'idf': False, 'stop_words': 'english', 'ngram_range': (1, 2)}\"],\n [{\n            'v': 141,\n            'f': \"141\",\n        },\n{\n            'v': 0.6834170854271356,\n            'f': \"0.6834170854271356\",\n        },\n\"{'C': 100, 'gamma': 0.1, 'idf': False, 'stop_words': 'english', 'ngram_range': (1, 2)}\"],\n [{\n            'v': 245,\n            'f': \"245\",\n        },\n{\n            'v': 0.6834170854271356,\n            'f': \"0.6834170854271356\",\n        },\n\"{'C': 0.001, 'gamma': 100, 'idf': False, 'stop_words': 'english', 'ngram_range': (1, 2)}\"],\n [{\n            'v': 101,\n            'f': \"101\",\n        },\n{\n            'v': 0.6834170854271356,\n            'f': \"0.6834170854271356\",\n        },\n\"{'C': 0.001, 'gamma': 0.1, 'idf': False, 'stop_words': 'english', 'ngram_range': (1, 2)}\"],\n [{\n            'v': 237,\n            'f': \"237\",\n        },\n{\n            'v': 0.6834170854271356,\n            'f': \"0.6834170854271356\",\n        },\n\"{'C': 100, 'gamma': 10, 'idf': False, 'stop_words': 'english', 'ngram_range': (1, 2)}\"],\n [{\n            'v': 61,\n            'f': \"61\",\n        },\n{\n            'v': 0.6834170854271356,\n            'f': \"0.6834170854271356\",\n        },\n\"{'C': 0.01, 'gamma': 0.01, 'idf': False, 'stop_words': 'english', 'ngram_range': (1, 2)}\"],\n [{\n            'v': 93,\n            'f': \"93\",\n        },\n{\n            'v': 0.6834170854271356,\n            'f': \"0.6834170854271356\",\n        },\n\"{'C': 100, 'gamma': 0.01, 'idf': False, 'stop_words': 'english', 'ngram_range': (1, 2)}\"],\n [{\n            'v': 133,\n            'f': \"133\",\n        },\n{\n            'v': 0.6834170854271356,\n            'f': \"0.6834170854271356\",\n        },\n\"{'C': 10, 'gamma': 0.1, 'idf': False, 'stop_words': 'english', 'ngram_range': (1, 2)}\"],\n [{\n            'v': 109,\n            'f': \"109\",\n        },\n{\n            'v': 0.6834170854271356,\n            'f': \"0.6834170854271356\",\n        },\n\"{'C': 0.01, 'gamma': 0.1, 'idf': False, 'stop_words': 'english', 'ngram_range': (1, 2)}\"],\n [{\n            'v': 229,\n            'f': \"229\",\n        },\n{\n            'v': 0.6834170854271356,\n            'f': \"0.6834170854271356\",\n        },\n\"{'C': 10, 'gamma': 10, 'idf': False, 'stop_words': 'english', 'ngram_range': (1, 2)}\"],\n [{\n            'v': 205,\n            'f': \"205\",\n        },\n{\n            'v': 0.6834170854271356,\n            'f': \"0.6834170854271356\",\n        },\n\"{'C': 0.01, 'gamma': 10, 'idf': False, 'stop_words': 'english', 'ngram_range': (1, 2)}\"],\n [{\n            'v': 213,\n            'f': \"213\",\n        },\n{\n            'v': 0.6834170854271356,\n            'f': \"0.6834170854271356\",\n        },\n\"{'C': 0.1, 'gamma': 10, 'idf': False, 'stop_words': 'english', 'ngram_range': (1, 2)}\"],\n [{\n            'v': 117,\n            'f': \"117\",\n        },\n{\n            'v': 0.6834170854271356,\n            'f': \"0.6834170854271356\",\n        },\n\"{'C': 0.1, 'gamma': 0.1, 'idf': False, 'stop_words': 'english', 'ngram_range': (1, 2)}\"],\n [{\n            'v': 221,\n            'f': \"221\",\n        },\n{\n            'v': 0.6834170854271356,\n            'f': \"0.6834170854271356\",\n        },\n\"{'C': 1, 'gamma': 10, 'idf': False, 'stop_words': 'english', 'ngram_range': (1, 2)}\"],\n [{\n            'v': 125,\n            'f': \"125\",\n        },\n{\n            'v': 0.6834170854271356,\n            'f': \"0.6834170854271356\",\n        },\n\"{'C': 1, 'gamma': 0.1, 'idf': False, 'stop_words': 'english', 'ngram_range': (1, 2)}\"],\n [{\n            'v': 21,\n            'f': \"21\",\n        },\n{\n            'v': 0.6834170854271356,\n            'f': \"0.6834170854271356\",\n        },\n\"{'C': 0.1, 'gamma': 0.001, 'idf': False, 'stop_words': 'english', 'ngram_range': (1, 2)}\"],\n [{\n            'v': 5,\n            'f': \"5\",\n        },\n{\n            'v': 0.6834170854271356,\n            'f': \"0.6834170854271356\",\n        },\n\"{'C': 0.001, 'gamma': 0.001, 'idf': False, 'stop_words': 'english', 'ngram_range': (1, 2)}\"],\n [{\n            'v': 253,\n            'f': \"253\",\n        },\n{\n            'v': 0.6834170854271356,\n            'f': \"0.6834170854271356\",\n        },\n\"{'C': 0.01, 'gamma': 100, 'idf': False, 'stop_words': 'english', 'ngram_range': (1, 2)}\"],\n [{\n            'v': 189,\n            'f': \"189\",\n        },\n{\n            'v': 0.6834170854271356,\n            'f': \"0.6834170854271356\",\n        },\n\"{'C': 100, 'gamma': 1, 'idf': False, 'stop_words': 'english', 'ngram_range': (1, 2)}\"],\n [{\n            'v': 181,\n            'f': \"181\",\n        },\n{\n            'v': 0.6834170854271356,\n            'f': \"0.6834170854271356\",\n        },\n\"{'C': 10, 'gamma': 1, 'idf': False, 'stop_words': 'english', 'ngram_range': (1, 2)}\"],\n [{\n            'v': 285,\n            'f': \"285\",\n        },\n{\n            'v': 0.6834170854271356,\n            'f': \"0.6834170854271356\",\n        },\n\"{'C': 100, 'gamma': 100, 'idf': False, 'stop_words': 'english', 'ngram_range': (1, 2)}\"],\n [{\n            'v': 165,\n            'f': \"165\",\n        },\n{\n            'v': 0.6834170854271356,\n            'f': \"0.6834170854271356\",\n        },\n\"{'C': 0.1, 'gamma': 1, 'idf': False, 'stop_words': 'english', 'ngram_range': (1, 2)}\"],\n [{\n            'v': 157,\n            'f': \"157\",\n        },\n{\n            'v': 0.6834170854271356,\n            'f': \"0.6834170854271356\",\n        },\n\"{'C': 0.01, 'gamma': 1, 'idf': False, 'stop_words': 'english', 'ngram_range': (1, 2)}\"],\n [{\n            'v': 277,\n            'f': \"277\",\n        },\n{\n            'v': 0.6834170854271356,\n            'f': \"0.6834170854271356\",\n        },\n\"{'C': 10, 'gamma': 100, 'idf': False, 'stop_words': 'english', 'ngram_range': (1, 2)}\"],\n [{\n            'v': 77,\n            'f': \"77\",\n        },\n{\n            'v': 0.6834170854271356,\n            'f': \"0.6834170854271356\",\n        },\n\"{'C': 1, 'gamma': 0.01, 'idf': False, 'stop_words': 'english', 'ngram_range': (1, 2)}\"],\n [{\n            'v': 173,\n            'f': \"173\",\n        },\n{\n            'v': 0.6834170854271356,\n            'f': \"0.6834170854271356\",\n        },\n\"{'C': 1, 'gamma': 1, 'idf': False, 'stop_words': 'english', 'ngram_range': (1, 2)}\"],\n [{\n            'v': 29,\n            'f': \"29\",\n        },\n{\n            'v': 0.6834170854271356,\n            'f': \"0.6834170854271356\",\n        },\n\"{'C': 1, 'gamma': 0.001, 'idf': False, 'stop_words': 'english', 'ngram_range': (1, 2)}\"],\n [{\n            'v': 269,\n            'f': \"269\",\n        },\n{\n            'v': 0.6834170854271356,\n            'f': \"0.6834170854271356\",\n        },\n\"{'C': 1, 'gamma': 100, 'idf': False, 'stop_words': 'english', 'ngram_range': (1, 2)}\"],\n [{\n            'v': 69,\n            'f': \"69\",\n        },\n{\n            'v': 0.6834170854271356,\n            'f': \"0.6834170854271356\",\n        },\n\"{'C': 0.1, 'gamma': 0.01, 'idf': False, 'stop_words': 'english', 'ngram_range': (1, 2)}\"],\n [{\n            'v': 149,\n            'f': \"149\",\n        },\n{\n            'v': 0.6834170854271356,\n            'f': \"0.6834170854271356\",\n        },\n\"{'C': 0.001, 'gamma': 1, 'idf': False, 'stop_words': 'english', 'ngram_range': (1, 2)}\"],\n [{\n            'v': 261,\n            'f': \"261\",\n        },\n{\n            'v': 0.6834170854271356,\n            'f': \"0.6834170854271356\",\n        },\n\"{'C': 0.1, 'gamma': 100, 'idf': False, 'stop_words': 'english', 'ngram_range': (1, 2)}\"],\n [{\n            'v': 85,\n            'f': \"85\",\n        },\n{\n            'v': 0.6834170854271356,\n            'f': \"0.6834170854271356\",\n        },\n\"{'C': 10, 'gamma': 0.01, 'idf': False, 'stop_words': 'english', 'ngram_range': (1, 2)}\"],\n [{\n            'v': 37,\n            'f': \"37\",\n        },\n{\n            'v': 0.6834170854271356,\n            'f': \"0.6834170854271356\",\n        },\n\"{'C': 10, 'gamma': 0.001, 'idf': False, 'stop_words': 'english', 'ngram_range': (1, 2)}\"],\n [{\n            'v': 180,\n            'f': \"180\",\n        },\n{\n            'v': 0.6743718592964824,\n            'f': \"0.6743718592964824\",\n        },\n\"{'C': 10, 'gamma': 1, 'idf': False, 'stop_words': 'english', 'ngram_range': (1, 1)}\"],\n [{\n            'v': 20,\n            'f': \"20\",\n        },\n{\n            'v': 0.6743718592964824,\n            'f': \"0.6743718592964824\",\n        },\n\"{'C': 0.1, 'gamma': 0.001, 'idf': False, 'stop_words': 'english', 'ngram_range': (1, 1)}\"],\n [{\n            'v': 188,\n            'f': \"188\",\n        },\n{\n            'v': 0.6743718592964824,\n            'f': \"0.6743718592964824\",\n        },\n\"{'C': 100, 'gamma': 1, 'idf': False, 'stop_words': 'english', 'ngram_range': (1, 1)}\"],\n [{\n            'v': 52,\n            'f': \"52\",\n        },\n{\n            'v': 0.6743718592964824,\n            'f': \"0.6743718592964824\",\n        },\n\"{'C': 0.001, 'gamma': 0.01, 'idf': False, 'stop_words': 'english', 'ngram_range': (1, 1)}\"],\n [{\n            'v': 148,\n            'f': \"148\",\n        },\n{\n            'v': 0.6743718592964824,\n            'f': \"0.6743718592964824\",\n        },\n\"{'C': 0.001, 'gamma': 1, 'idf': False, 'stop_words': 'english', 'ngram_range': (1, 1)}\"],\n [{\n            'v': 212,\n            'f': \"212\",\n        },\n{\n            'v': 0.6743718592964824,\n            'f': \"0.6743718592964824\",\n        },\n\"{'C': 0.1, 'gamma': 10, 'idf': False, 'stop_words': 'english', 'ngram_range': (1, 1)}\"],\n [{\n            'v': 156,\n            'f': \"156\",\n        },\n{\n            'v': 0.6743718592964824,\n            'f': \"0.6743718592964824\",\n        },\n\"{'C': 0.01, 'gamma': 1, 'idf': False, 'stop_words': 'english', 'ngram_range': (1, 1)}\"],\n [{\n            'v': 204,\n            'f': \"204\",\n        },\n{\n            'v': 0.6743718592964824,\n            'f': \"0.6743718592964824\",\n        },\n\"{'C': 0.01, 'gamma': 10, 'idf': False, 'stop_words': 'english', 'ngram_range': (1, 1)}\"],\n [{\n            'v': 172,\n            'f': \"172\",\n        },\n{\n            'v': 0.6743718592964824,\n            'f': \"0.6743718592964824\",\n        },\n\"{'C': 1, 'gamma': 1, 'idf': False, 'stop_words': 'english', 'ngram_range': (1, 1)}\"],\n [{\n            'v': 132,\n            'f': \"132\",\n        },\n{\n            'v': 0.6743718592964824,\n            'f': \"0.6743718592964824\",\n        },\n\"{'C': 10, 'gamma': 0.1, 'idf': False, 'stop_words': 'english', 'ngram_range': (1, 1)}\"],\n [{\n            'v': 140,\n            'f': \"140\",\n        },\n{\n            'v': 0.6743718592964824,\n            'f': \"0.6743718592964824\",\n        },\n\"{'C': 100, 'gamma': 0.1, 'idf': False, 'stop_words': 'english', 'ngram_range': (1, 1)}\"],\n [{\n            'v': 196,\n            'f': \"196\",\n        },\n{\n            'v': 0.6743718592964824,\n            'f': \"0.6743718592964824\",\n        },\n\"{'C': 0.001, 'gamma': 10, 'idf': False, 'stop_words': 'english', 'ngram_range': (1, 1)}\"],\n [{\n            'v': 12,\n            'f': \"12\",\n        },\n{\n            'v': 0.6743718592964824,\n            'f': \"0.6743718592964824\",\n        },\n\"{'C': 0.01, 'gamma': 0.001, 'idf': False, 'stop_words': 'english', 'ngram_range': (1, 1)}\"],\n [{\n            'v': 124,\n            'f': \"124\",\n        },\n{\n            'v': 0.6743718592964824,\n            'f': \"0.6743718592964824\",\n        },\n\"{'C': 1, 'gamma': 0.1, 'idf': False, 'stop_words': 'english', 'ngram_range': (1, 1)}\"],\n [{\n            'v': 68,\n            'f': \"68\",\n        },\n{\n            'v': 0.6743718592964824,\n            'f': \"0.6743718592964824\",\n        },\n\"{'C': 0.1, 'gamma': 0.01, 'idf': False, 'stop_words': 'english', 'ngram_range': (1, 1)}\"],\n [{\n            'v': 252,\n            'f': \"252\",\n        },\n{\n            'v': 0.6743718592964824,\n            'f': \"0.6743718592964824\",\n        },\n\"{'C': 0.01, 'gamma': 100, 'idf': False, 'stop_words': 'english', 'ngram_range': (1, 1)}\"],\n [{\n            'v': 100,\n            'f': \"100\",\n        },\n{\n            'v': 0.6743718592964824,\n            'f': \"0.6743718592964824\",\n        },\n\"{'C': 0.001, 'gamma': 0.1, 'idf': False, 'stop_words': 'english', 'ngram_range': (1, 1)}\"],\n [{\n            'v': 284,\n            'f': \"284\",\n        },\n{\n            'v': 0.6743718592964824,\n            'f': \"0.6743718592964824\",\n        },\n\"{'C': 100, 'gamma': 100, 'idf': False, 'stop_words': 'english', 'ngram_range': (1, 1)}\"],\n [{\n            'v': 276,\n            'f': \"276\",\n        },\n{\n            'v': 0.6743718592964824,\n            'f': \"0.6743718592964824\",\n        },\n\"{'C': 10, 'gamma': 100, 'idf': False, 'stop_words': 'english', 'ngram_range': (1, 1)}\"],\n [{\n            'v': 76,\n            'f': \"76\",\n        },\n{\n            'v': 0.6743718592964824,\n            'f': \"0.6743718592964824\",\n        },\n\"{'C': 1, 'gamma': 0.01, 'idf': False, 'stop_words': 'english', 'ngram_range': (1, 1)}\"],\n [{\n            'v': 36,\n            'f': \"36\",\n        },\n{\n            'v': 0.6743718592964824,\n            'f': \"0.6743718592964824\",\n        },\n\"{'C': 10, 'gamma': 0.001, 'idf': False, 'stop_words': 'english', 'ngram_range': (1, 1)}\"],\n [{\n            'v': 268,\n            'f': \"268\",\n        },\n{\n            'v': 0.6743718592964824,\n            'f': \"0.6743718592964824\",\n        },\n\"{'C': 1, 'gamma': 100, 'idf': False, 'stop_words': 'english', 'ngram_range': (1, 1)}\"],\n [{\n            'v': 84,\n            'f': \"84\",\n        },\n{\n            'v': 0.6743718592964824,\n            'f': \"0.6743718592964824\",\n        },\n\"{'C': 10, 'gamma': 0.01, 'idf': False, 'stop_words': 'english', 'ngram_range': (1, 1)}\"],\n [{\n            'v': 4,\n            'f': \"4\",\n        },\n{\n            'v': 0.6743718592964824,\n            'f': \"0.6743718592964824\",\n        },\n\"{'C': 0.001, 'gamma': 0.001, 'idf': False, 'stop_words': 'english', 'ngram_range': (1, 1)}\"],\n [{\n            'v': 28,\n            'f': \"28\",\n        },\n{\n            'v': 0.6743718592964824,\n            'f': \"0.6743718592964824\",\n        },\n\"{'C': 1, 'gamma': 0.001, 'idf': False, 'stop_words': 'english', 'ngram_range': (1, 1)}\"],\n [{\n            'v': 260,\n            'f': \"260\",\n        },\n{\n            'v': 0.6743718592964824,\n            'f': \"0.6743718592964824\",\n        },\n\"{'C': 0.1, 'gamma': 100, 'idf': False, 'stop_words': 'english', 'ngram_range': (1, 1)}\"],\n [{\n            'v': 92,\n            'f': \"92\",\n        },\n{\n            'v': 0.6743718592964824,\n            'f': \"0.6743718592964824\",\n        },\n\"{'C': 100, 'gamma': 0.01, 'idf': False, 'stop_words': 'english', 'ngram_range': (1, 1)}\"],\n [{\n            'v': 244,\n            'f': \"244\",\n        },\n{\n            'v': 0.6743718592964824,\n            'f': \"0.6743718592964824\",\n        },\n\"{'C': 0.001, 'gamma': 100, 'idf': False, 'stop_words': 'english', 'ngram_range': (1, 1)}\"],\n [{\n            'v': 44,\n            'f': \"44\",\n        },\n{\n            'v': 0.6743718592964824,\n            'f': \"0.6743718592964824\",\n        },\n\"{'C': 100, 'gamma': 0.001, 'idf': False, 'stop_words': 'english', 'ngram_range': (1, 1)}\"],\n [{\n            'v': 60,\n            'f': \"60\",\n        },\n{\n            'v': 0.6743718592964824,\n            'f': \"0.6743718592964824\",\n        },\n\"{'C': 0.01, 'gamma': 0.01, 'idf': False, 'stop_words': 'english', 'ngram_range': (1, 1)}\"],\n [{\n            'v': 220,\n            'f': \"220\",\n        },\n{\n            'v': 0.6743718592964824,\n            'f': \"0.6743718592964824\",\n        },\n\"{'C': 1, 'gamma': 10, 'idf': False, 'stop_words': 'english', 'ngram_range': (1, 1)}\"],\n [{\n            'v': 116,\n            'f': \"116\",\n        },\n{\n            'v': 0.6743718592964824,\n            'f': \"0.6743718592964824\",\n        },\n\"{'C': 0.1, 'gamma': 0.1, 'idf': False, 'stop_words': 'english', 'ngram_range': (1, 1)}\"],\n [{\n            'v': 164,\n            'f': \"164\",\n        },\n{\n            'v': 0.6743718592964824,\n            'f': \"0.6743718592964824\",\n        },\n\"{'C': 0.1, 'gamma': 1, 'idf': False, 'stop_words': 'english', 'ngram_range': (1, 1)}\"],\n [{\n            'v': 108,\n            'f': \"108\",\n        },\n{\n            'v': 0.6743718592964824,\n            'f': \"0.6743718592964824\",\n        },\n\"{'C': 0.01, 'gamma': 0.1, 'idf': False, 'stop_words': 'english', 'ngram_range': (1, 1)}\"],\n [{\n            'v': 228,\n            'f': \"228\",\n        },\n{\n            'v': 0.6743718592964824,\n            'f': \"0.6743718592964824\",\n        },\n\"{'C': 10, 'gamma': 10, 'idf': False, 'stop_words': 'english', 'ngram_range': (1, 1)}\"],\n [{\n            'v': 236,\n            'f': \"236\",\n        },\n{\n            'v': 0.6743718592964824,\n            'f': \"0.6743718592964824\",\n        },\n\"{'C': 100, 'gamma': 10, 'idf': False, 'stop_words': 'english', 'ngram_range': (1, 1)}\"],\n [{\n            'v': 210,\n            'f': \"210\",\n        },\n{\n            'v': 0.521608040201005,\n            'f': \"0.521608040201005\",\n        },\n\"{'C': 0.1, 'gamma': 10, 'idf': True, 'stop_words': None, 'ngram_range': (1, 1)}\"],\n [{\n            'v': 282,\n            'f': \"282\",\n        },\n{\n            'v': 0.521608040201005,\n            'f': \"0.521608040201005\",\n        },\n\"{'C': 100, 'gamma': 100, 'idf': True, 'stop_words': None, 'ngram_range': (1, 1)}\"],\n [{\n            'v': 170,\n            'f': \"170\",\n        },\n{\n            'v': 0.521608040201005,\n            'f': \"0.521608040201005\",\n        },\n\"{'C': 1, 'gamma': 1, 'idf': True, 'stop_words': None, 'ngram_range': (1, 1)}\"],\n [{\n            'v': 2,\n            'f': \"2\",\n        },\n{\n            'v': 0.521608040201005,\n            'f': \"0.521608040201005\",\n        },\n\"{'C': 0.001, 'gamma': 0.001, 'idf': True, 'stop_words': None, 'ngram_range': (1, 1)}\"],\n [{\n            'v': 274,\n            'f': \"274\",\n        },\n{\n            'v': 0.521608040201005,\n            'f': \"0.521608040201005\",\n        },\n\"{'C': 10, 'gamma': 100, 'idf': True, 'stop_words': None, 'ngram_range': (1, 1)}\"],\n [{\n            'v': 50,\n            'f': \"50\",\n        },\n{\n            'v': 0.521608040201005,\n            'f': \"0.521608040201005\",\n        },\n\"{'C': 0.001, 'gamma': 0.01, 'idf': True, 'stop_words': None, 'ngram_range': (1, 1)}\"],\n [{\n            'v': 226,\n            'f': \"226\",\n        },\n{\n            'v': 0.521608040201005,\n            'f': \"0.521608040201005\",\n        },\n\"{'C': 10, 'gamma': 10, 'idf': True, 'stop_words': None, 'ngram_range': (1, 1)}\"],\n [{\n            'v': 242,\n            'f': \"242\",\n        },\n{\n            'v': 0.521608040201005,\n            'f': \"0.521608040201005\",\n        },\n\"{'C': 0.001, 'gamma': 100, 'idf': True, 'stop_words': None, 'ngram_range': (1, 1)}\"],\n [{\n            'v': 266,\n            'f': \"266\",\n        },\n{\n            'v': 0.521608040201005,\n            'f': \"0.521608040201005\",\n        },\n\"{'C': 1, 'gamma': 100, 'idf': True, 'stop_words': None, 'ngram_range': (1, 1)}\"],\n [{\n            'v': 42,\n            'f': \"42\",\n        },\n{\n            'v': 0.521608040201005,\n            'f': \"0.521608040201005\",\n        },\n\"{'C': 100, 'gamma': 0.001, 'idf': True, 'stop_words': None, 'ngram_range': (1, 1)}\"],\n [{\n            'v': 186,\n            'f': \"186\",\n        },\n{\n            'v': 0.521608040201005,\n            'f': \"0.521608040201005\",\n        },\n\"{'C': 100, 'gamma': 1, 'idf': True, 'stop_words': None, 'ngram_range': (1, 1)}\"],\n [{\n            'v': 258,\n            'f': \"258\",\n        },\n{\n            'v': 0.521608040201005,\n            'f': \"0.521608040201005\",\n        },\n\"{'C': 0.1, 'gamma': 100, 'idf': True, 'stop_words': None, 'ngram_range': (1, 1)}\"],\n [{\n            'v': 202,\n            'f': \"202\",\n        },\n{\n            'v': 0.521608040201005,\n            'f': \"0.521608040201005\",\n        },\n\"{'C': 0.01, 'gamma': 10, 'idf': True, 'stop_words': None, 'ngram_range': (1, 1)}\"],\n [{\n            'v': 218,\n            'f': \"218\",\n        },\n{\n            'v': 0.521608040201005,\n            'f': \"0.521608040201005\",\n        },\n\"{'C': 1, 'gamma': 10, 'idf': True, 'stop_words': None, 'ngram_range': (1, 1)}\"],\n [{\n            'v': 250,\n            'f': \"250\",\n        },\n{\n            'v': 0.521608040201005,\n            'f': \"0.521608040201005\",\n        },\n\"{'C': 0.01, 'gamma': 100, 'idf': True, 'stop_words': None, 'ngram_range': (1, 1)}\"],\n [{\n            'v': 234,\n            'f': \"234\",\n        },\n{\n            'v': 0.521608040201005,\n            'f': \"0.521608040201005\",\n        },\n\"{'C': 100, 'gamma': 10, 'idf': True, 'stop_words': None, 'ngram_range': (1, 1)}\"],\n [{\n            'v': 194,\n            'f': \"194\",\n        },\n{\n            'v': 0.521608040201005,\n            'f': \"0.521608040201005\",\n        },\n\"{'C': 0.001, 'gamma': 10, 'idf': True, 'stop_words': None, 'ngram_range': (1, 1)}\"],\n [{\n            'v': 10,\n            'f': \"10\",\n        },\n{\n            'v': 0.521608040201005,\n            'f': \"0.521608040201005\",\n        },\n\"{'C': 0.01, 'gamma': 0.001, 'idf': True, 'stop_words': None, 'ngram_range': (1, 1)}\"],\n [{\n            'v': 178,\n            'f': \"178\",\n        },\n{\n            'v': 0.521608040201005,\n            'f': \"0.521608040201005\",\n        },\n\"{'C': 10, 'gamma': 1, 'idf': True, 'stop_words': None, 'ngram_range': (1, 1)}\"],\n [{\n            'v': 66,\n            'f': \"66\",\n        },\n{\n            'v': 0.521608040201005,\n            'f': \"0.521608040201005\",\n        },\n\"{'C': 0.1, 'gamma': 0.01, 'idf': True, 'stop_words': None, 'ngram_range': (1, 1)}\"],\n [{\n            'v': 138,\n            'f': \"138\",\n        },\n{\n            'v': 0.521608040201005,\n            'f': \"0.521608040201005\",\n        },\n\"{'C': 100, 'gamma': 0.1, 'idf': True, 'stop_words': None, 'ngram_range': (1, 1)}\"],\n [{\n            'v': 146,\n            'f': \"146\",\n        },\n{\n            'v': 0.521608040201005,\n            'f': \"0.521608040201005\",\n        },\n\"{'C': 0.001, 'gamma': 1, 'idf': True, 'stop_words': None, 'ngram_range': (1, 1)}\"],\n [{\n            'v': 98,\n            'f': \"98\",\n        },\n{\n            'v': 0.521608040201005,\n            'f': \"0.521608040201005\",\n        },\n\"{'C': 0.001, 'gamma': 0.1, 'idf': True, 'stop_words': None, 'ngram_range': (1, 1)}\"],\n [{\n            'v': 130,\n            'f': \"130\",\n        },\n{\n            'v': 0.521608040201005,\n            'f': \"0.521608040201005\",\n        },\n\"{'C': 10, 'gamma': 0.1, 'idf': True, 'stop_words': None, 'ngram_range': (1, 1)}\"],\n [{\n            'v': 114,\n            'f': \"114\",\n        },\n{\n            'v': 0.521608040201005,\n            'f': \"0.521608040201005\",\n        },\n\"{'C': 0.1, 'gamma': 0.1, 'idf': True, 'stop_words': None, 'ngram_range': (1, 1)}\"],\n [{\n            'v': 90,\n            'f': \"90\",\n        },\n{\n            'v': 0.521608040201005,\n            'f': \"0.521608040201005\",\n        },\n\"{'C': 100, 'gamma': 0.01, 'idf': True, 'stop_words': None, 'ngram_range': (1, 1)}\"],\n [{\n            'v': 162,\n            'f': \"162\",\n        },\n{\n            'v': 0.521608040201005,\n            'f': \"0.521608040201005\",\n        },\n\"{'C': 0.1, 'gamma': 1, 'idf': True, 'stop_words': None, 'ngram_range': (1, 1)}\"],\n [{\n            'v': 82,\n            'f': \"82\",\n        },\n{\n            'v': 0.521608040201005,\n            'f': \"0.521608040201005\",\n        },\n\"{'C': 10, 'gamma': 0.01, 'idf': True, 'stop_words': None, 'ngram_range': (1, 1)}\"],\n [{\n            'v': 18,\n            'f': \"18\",\n        },\n{\n            'v': 0.521608040201005,\n            'f': \"0.521608040201005\",\n        },\n\"{'C': 0.1, 'gamma': 0.001, 'idf': True, 'stop_words': None, 'ngram_range': (1, 1)}\"],\n [{\n            'v': 26,\n            'f': \"26\",\n        },\n{\n            'v': 0.521608040201005,\n            'f': \"0.521608040201005\",\n        },\n\"{'C': 1, 'gamma': 0.001, 'idf': True, 'stop_words': None, 'ngram_range': (1, 1)}\"],\n [{\n            'v': 106,\n            'f': \"106\",\n        },\n{\n            'v': 0.521608040201005,\n            'f': \"0.521608040201005\",\n        },\n\"{'C': 0.01, 'gamma': 0.1, 'idf': True, 'stop_words': None, 'ngram_range': (1, 1)}\"],\n [{\n            'v': 154,\n            'f': \"154\",\n        },\n{\n            'v': 0.521608040201005,\n            'f': \"0.521608040201005\",\n        },\n\"{'C': 0.01, 'gamma': 1, 'idf': True, 'stop_words': None, 'ngram_range': (1, 1)}\"],\n [{\n            'v': 74,\n            'f': \"74\",\n        },\n{\n            'v': 0.521608040201005,\n            'f': \"0.521608040201005\",\n        },\n\"{'C': 1, 'gamma': 0.01, 'idf': True, 'stop_words': None, 'ngram_range': (1, 1)}\"],\n [{\n            'v': 122,\n            'f': \"122\",\n        },\n{\n            'v': 0.521608040201005,\n            'f': \"0.521608040201005\",\n        },\n\"{'C': 1, 'gamma': 0.1, 'idf': True, 'stop_words': None, 'ngram_range': (1, 1)}\"],\n [{\n            'v': 58,\n            'f': \"58\",\n        },\n{\n            'v': 0.521608040201005,\n            'f': \"0.521608040201005\",\n        },\n\"{'C': 0.01, 'gamma': 0.01, 'idf': True, 'stop_words': None, 'ngram_range': (1, 1)}\"],\n [{\n            'v': 34,\n            'f': \"34\",\n        },\n{\n            'v': 0.521608040201005,\n            'f': \"0.521608040201005\",\n        },\n\"{'C': 10, 'gamma': 0.001, 'idf': True, 'stop_words': None, 'ngram_range': (1, 1)}\"],\n [{\n            'v': 235,\n            'f': \"235\",\n        },\n{\n            'v': 0.41809045226130653,\n            'f': \"0.41809045226130653\",\n        },\n\"{'C': 100, 'gamma': 10, 'idf': True, 'stop_words': None, 'ngram_range': (1, 2)}\"],\n [{\n            'v': 115,\n            'f': \"115\",\n        },\n{\n            'v': 0.41809045226130653,\n            'f': \"0.41809045226130653\",\n        },\n\"{'C': 0.1, 'gamma': 0.1, 'idf': True, 'stop_words': None, 'ngram_range': (1, 2)}\"],\n [{\n            'v': 219,\n            'f': \"219\",\n        },\n{\n            'v': 0.41809045226130653,\n            'f': \"0.41809045226130653\",\n        },\n\"{'C': 1, 'gamma': 10, 'idf': True, 'stop_words': None, 'ngram_range': (1, 2)}\"],\n [{\n            'v': 59,\n            'f': \"59\",\n        },\n{\n            'v': 0.41809045226130653,\n            'f': \"0.41809045226130653\",\n        },\n\"{'C': 0.01, 'gamma': 0.01, 'idf': True, 'stop_words': None, 'ngram_range': (1, 2)}\"],\n [{\n            'v': 123,\n            'f': \"123\",\n        },\n{\n            'v': 0.41809045226130653,\n            'f': \"0.41809045226130653\",\n        },\n\"{'C': 1, 'gamma': 0.1, 'idf': True, 'stop_words': None, 'ngram_range': (1, 2)}\"],\n [{\n            'v': 211,\n            'f': \"211\",\n        },\n{\n            'v': 0.41809045226130653,\n            'f': \"0.41809045226130653\",\n        },\n\"{'C': 0.1, 'gamma': 10, 'idf': True, 'stop_words': None, 'ngram_range': (1, 2)}\"],\n [{\n            'v': 227,\n            'f': \"227\",\n        },\n{\n            'v': 0.41809045226130653,\n            'f': \"0.41809045226130653\",\n        },\n\"{'C': 10, 'gamma': 10, 'idf': True, 'stop_words': None, 'ngram_range': (1, 2)}\"],\n [{\n            'v': 107,\n            'f': \"107\",\n        },\n{\n            'v': 0.41809045226130653,\n            'f': \"0.41809045226130653\",\n        },\n\"{'C': 0.01, 'gamma': 0.1, 'idf': True, 'stop_words': None, 'ngram_range': (1, 2)}\"],\n [{\n            'v': 163,\n            'f': \"163\",\n        },\n{\n            'v': 0.41809045226130653,\n            'f': \"0.41809045226130653\",\n        },\n\"{'C': 0.1, 'gamma': 1, 'idf': True, 'stop_words': None, 'ngram_range': (1, 2)}\"],\n [{\n            'v': 91,\n            'f': \"91\",\n        },\n{\n            'v': 0.41809045226130653,\n            'f': \"0.41809045226130653\",\n        },\n\"{'C': 100, 'gamma': 0.01, 'idf': True, 'stop_words': None, 'ngram_range': (1, 2)}\"],\n [{\n            'v': 243,\n            'f': \"243\",\n        },\n{\n            'v': 0.41809045226130653,\n            'f': \"0.41809045226130653\",\n        },\n\"{'C': 0.001, 'gamma': 100, 'idf': True, 'stop_words': None, 'ngram_range': (1, 2)}\"],\n [{\n            'v': 99,\n            'f': \"99\",\n        },\n{\n            'v': 0.41809045226130653,\n            'f': \"0.41809045226130653\",\n        },\n\"{'C': 0.001, 'gamma': 0.1, 'idf': True, 'stop_words': None, 'ngram_range': (1, 2)}\"],\n [{\n            'v': 251,\n            'f': \"251\",\n        },\n{\n            'v': 0.41809045226130653,\n            'f': \"0.41809045226130653\",\n        },\n\"{'C': 0.01, 'gamma': 100, 'idf': True, 'stop_words': None, 'ngram_range': (1, 2)}\"],\n [{\n            'v': 259,\n            'f': \"259\",\n        },\n{\n            'v': 0.41809045226130653,\n            'f': \"0.41809045226130653\",\n        },\n\"{'C': 0.1, 'gamma': 100, 'idf': True, 'stop_words': None, 'ngram_range': (1, 2)}\"],\n [{\n            'v': 83,\n            'f': \"83\",\n        },\n{\n            'v': 0.41809045226130653,\n            'f': \"0.41809045226130653\",\n        },\n\"{'C': 10, 'gamma': 0.01, 'idf': True, 'stop_words': None, 'ngram_range': (1, 2)}\"],\n [{\n            'v': 267,\n            'f': \"267\",\n        },\n{\n            'v': 0.41809045226130653,\n            'f': \"0.41809045226130653\",\n        },\n\"{'C': 1, 'gamma': 100, 'idf': True, 'stop_words': None, 'ngram_range': (1, 2)}\"],\n [{\n            'v': 3,\n            'f': \"3\",\n        },\n{\n            'v': 0.41809045226130653,\n            'f': \"0.41809045226130653\",\n        },\n\"{'C': 0.001, 'gamma': 0.001, 'idf': True, 'stop_words': None, 'ngram_range': (1, 2)}\"],\n [{\n            'v': 275,\n            'f': \"275\",\n        },\n{\n            'v': 0.41809045226130653,\n            'f': \"0.41809045226130653\",\n        },\n\"{'C': 10, 'gamma': 100, 'idf': True, 'stop_words': None, 'ngram_range': (1, 2)}\"],\n [{\n            'v': 75,\n            'f': \"75\",\n        },\n{\n            'v': 0.41809045226130653,\n            'f': \"0.41809045226130653\",\n        },\n\"{'C': 1, 'gamma': 0.01, 'idf': True, 'stop_words': None, 'ngram_range': (1, 2)}\"],\n [{\n            'v': 67,\n            'f': \"67\",\n        },\n{\n            'v': 0.41809045226130653,\n            'f': \"0.41809045226130653\",\n        },\n\"{'C': 0.1, 'gamma': 0.01, 'idf': True, 'stop_words': None, 'ngram_range': (1, 2)}\"],\n [{\n            'v': 35,\n            'f': \"35\",\n        },\n{\n            'v': 0.41809045226130653,\n            'f': \"0.41809045226130653\",\n        },\n\"{'C': 10, 'gamma': 0.001, 'idf': True, 'stop_words': None, 'ngram_range': (1, 2)}\"],\n [{\n            'v': 27,\n            'f': \"27\",\n        },\n{\n            'v': 0.41809045226130653,\n            'f': \"0.41809045226130653\",\n        },\n\"{'C': 1, 'gamma': 0.001, 'idf': True, 'stop_words': None, 'ngram_range': (1, 2)}\"],\n [{\n            'v': 283,\n            'f': \"283\",\n        },\n{\n            'v': 0.41809045226130653,\n            'f': \"0.41809045226130653\",\n        },\n\"{'C': 100, 'gamma': 100, 'idf': True, 'stop_words': None, 'ngram_range': (1, 2)}\"],\n [{\n            'v': 11,\n            'f': \"11\",\n        },\n{\n            'v': 0.41809045226130653,\n            'f': \"0.41809045226130653\",\n        },\n\"{'C': 0.01, 'gamma': 0.001, 'idf': True, 'stop_words': None, 'ngram_range': (1, 2)}\"],\n [{\n            'v': 43,\n            'f': \"43\",\n        },\n{\n            'v': 0.41809045226130653,\n            'f': \"0.41809045226130653\",\n        },\n\"{'C': 100, 'gamma': 0.001, 'idf': True, 'stop_words': None, 'ngram_range': (1, 2)}\"],\n [{\n            'v': 131,\n            'f': \"131\",\n        },\n{\n            'v': 0.41809045226130653,\n            'f': \"0.41809045226130653\",\n        },\n\"{'C': 10, 'gamma': 0.1, 'idf': True, 'stop_words': None, 'ngram_range': (1, 2)}\"],\n [{\n            'v': 171,\n            'f': \"171\",\n        },\n{\n            'v': 0.41809045226130653,\n            'f': \"0.41809045226130653\",\n        },\n\"{'C': 1, 'gamma': 1, 'idf': True, 'stop_words': None, 'ngram_range': (1, 2)}\"],\n [{\n            'v': 187,\n            'f': \"187\",\n        },\n{\n            'v': 0.41809045226130653,\n            'f': \"0.41809045226130653\",\n        },\n\"{'C': 100, 'gamma': 1, 'idf': True, 'stop_words': None, 'ngram_range': (1, 2)}\"],\n [{\n            'v': 147,\n            'f': \"147\",\n        },\n{\n            'v': 0.41809045226130653,\n            'f': \"0.41809045226130653\",\n        },\n\"{'C': 0.001, 'gamma': 1, 'idf': True, 'stop_words': None, 'ngram_range': (1, 2)}\"],\n [{\n            'v': 139,\n            'f': \"139\",\n        },\n{\n            'v': 0.41809045226130653,\n            'f': \"0.41809045226130653\",\n        },\n\"{'C': 100, 'gamma': 0.1, 'idf': True, 'stop_words': None, 'ngram_range': (1, 2)}\"],\n [{\n            'v': 195,\n            'f': \"195\",\n        },\n{\n            'v': 0.41809045226130653,\n            'f': \"0.41809045226130653\",\n        },\n\"{'C': 0.001, 'gamma': 10, 'idf': True, 'stop_words': None, 'ngram_range': (1, 2)}\"],\n [{\n            'v': 19,\n            'f': \"19\",\n        },\n{\n            'v': 0.41809045226130653,\n            'f': \"0.41809045226130653\",\n        },\n\"{'C': 0.1, 'gamma': 0.001, 'idf': True, 'stop_words': None, 'ngram_range': (1, 2)}\"],\n [{\n            'v': 155,\n            'f': \"155\",\n        },\n{\n            'v': 0.41809045226130653,\n            'f': \"0.41809045226130653\",\n        },\n\"{'C': 0.01, 'gamma': 1, 'idf': True, 'stop_words': None, 'ngram_range': (1, 2)}\"],\n [{\n            'v': 179,\n            'f': \"179\",\n        },\n{\n            'v': 0.41809045226130653,\n            'f': \"0.41809045226130653\",\n        },\n\"{'C': 10, 'gamma': 1, 'idf': True, 'stop_words': None, 'ngram_range': (1, 2)}\"],\n [{\n            'v': 203,\n            'f': \"203\",\n        },\n{\n            'v': 0.41809045226130653,\n            'f': \"0.41809045226130653\",\n        },\n\"{'C': 0.01, 'gamma': 10, 'idf': True, 'stop_words': None, 'ngram_range': (1, 2)}\"],\n [{\n            'v': 51,\n            'f': \"51\",\n        },\n{\n            'v': 0.41809045226130653,\n            'f': \"0.41809045226130653\",\n        },\n\"{'C': 0.001, 'gamma': 0.01, 'idf': True, 'stop_words': None, 'ngram_range': (1, 2)}\"],\n [{\n            'v': 158,\n            'f': \"158\",\n        },\n{\n            'v': 0.3457286432160804,\n            'f': \"0.3457286432160804\",\n        },\n\"{'C': 0.01, 'gamma': 1, 'idf': False, 'stop_words': None, 'ngram_range': (1, 1)}\"],\n [{\n            'v': 182,\n            'f': \"182\",\n        },\n{\n            'v': 0.3457286432160804,\n            'f': \"0.3457286432160804\",\n        },\n\"{'C': 10, 'gamma': 1, 'idf': False, 'stop_words': None, 'ngram_range': (1, 1)}\"],\n [{\n            'v': 286,\n            'f': \"286\",\n        },\n{\n            'v': 0.3457286432160804,\n            'f': \"0.3457286432160804\",\n        },\n\"{'C': 100, 'gamma': 100, 'idf': False, 'stop_words': None, 'ngram_range': (1, 1)}\"],\n [{\n            'v': 206,\n            'f': \"206\",\n        },\n{\n            'v': 0.3457286432160804,\n            'f': \"0.3457286432160804\",\n        },\n\"{'C': 0.01, 'gamma': 10, 'idf': False, 'stop_words': None, 'ngram_range': (1, 1)}\"],\n [{\n            'v': 6,\n            'f': \"6\",\n        },\n{\n            'v': 0.3457286432160804,\n            'f': \"0.3457286432160804\",\n        },\n\"{'C': 0.001, 'gamma': 0.001, 'idf': False, 'stop_words': None, 'ngram_range': (1, 1)}\"],\n [{\n            'v': 62,\n            'f': \"62\",\n        },\n{\n            'v': 0.3457286432160804,\n            'f': \"0.3457286432160804\",\n        },\n\"{'C': 0.01, 'gamma': 0.01, 'idf': False, 'stop_words': None, 'ngram_range': (1, 1)}\"],\n [{\n            'v': 14,\n            'f': \"14\",\n        },\n{\n            'v': 0.3457286432160804,\n            'f': \"0.3457286432160804\",\n        },\n\"{'C': 0.01, 'gamma': 0.001, 'idf': False, 'stop_words': None, 'ngram_range': (1, 1)}\"],\n [{\n            'v': 254,\n            'f': \"254\",\n        },\n{\n            'v': 0.3457286432160804,\n            'f': \"0.3457286432160804\",\n        },\n\"{'C': 0.01, 'gamma': 100, 'idf': False, 'stop_words': None, 'ngram_range': (1, 1)}\"],\n [{\n            'v': 94,\n            'f': \"94\",\n        },\n{\n            'v': 0.3457286432160804,\n            'f': \"0.3457286432160804\",\n        },\n\"{'C': 100, 'gamma': 0.01, 'idf': False, 'stop_words': None, 'ngram_range': (1, 1)}\"],\n [{\n            'v': 38,\n            'f': \"38\",\n        },\n{\n            'v': 0.3457286432160804,\n            'f': \"0.3457286432160804\",\n        },\n\"{'C': 10, 'gamma': 0.001, 'idf': False, 'stop_words': None, 'ngram_range': (1, 1)}\"],\n [{\n            'v': 150,\n            'f': \"150\",\n        },\n{\n            'v': 0.3457286432160804,\n            'f': \"0.3457286432160804\",\n        },\n\"{'C': 0.001, 'gamma': 1, 'idf': False, 'stop_words': None, 'ngram_range': (1, 1)}\"],\n [{\n            'v': 278,\n            'f': \"278\",\n        },\n{\n            'v': 0.3457286432160804,\n            'f': \"0.3457286432160804\",\n        },\n\"{'C': 10, 'gamma': 100, 'idf': False, 'stop_words': None, 'ngram_range': (1, 1)}\"],\n [{\n            'v': 70,\n            'f': \"70\",\n        },\n{\n            'v': 0.3457286432160804,\n            'f': \"0.3457286432160804\",\n        },\n\"{'C': 0.1, 'gamma': 0.01, 'idf': False, 'stop_words': None, 'ngram_range': (1, 1)}\"],\n [{\n            'v': 166,\n            'f': \"166\",\n        },\n{\n            'v': 0.3457286432160804,\n            'f': \"0.3457286432160804\",\n        },\n\"{'C': 0.1, 'gamma': 1, 'idf': False, 'stop_words': None, 'ngram_range': (1, 1)}\"],\n [{\n            'v': 262,\n            'f': \"262\",\n        },\n{\n            'v': 0.3457286432160804,\n            'f': \"0.3457286432160804\",\n        },\n\"{'C': 0.1, 'gamma': 100, 'idf': False, 'stop_words': None, 'ngram_range': (1, 1)}\"],\n [{\n            'v': 86,\n            'f': \"86\",\n        },\n{\n            'v': 0.3457286432160804,\n            'f': \"0.3457286432160804\",\n        },\n\"{'C': 10, 'gamma': 0.01, 'idf': False, 'stop_words': None, 'ngram_range': (1, 1)}\"],\n [{\n            'v': 238,\n            'f': \"238\",\n        },\n{\n            'v': 0.3457286432160804,\n            'f': \"0.3457286432160804\",\n        },\n\"{'C': 100, 'gamma': 10, 'idf': False, 'stop_words': None, 'ngram_range': (1, 1)}\"],\n [{\n            'v': 54,\n            'f': \"54\",\n        },\n{\n            'v': 0.3457286432160804,\n            'f': \"0.3457286432160804\",\n        },\n\"{'C': 0.001, 'gamma': 0.01, 'idf': False, 'stop_words': None, 'ngram_range': (1, 1)}\"],\n [{\n            'v': 270,\n            'f': \"270\",\n        },\n{\n            'v': 0.3457286432160804,\n            'f': \"0.3457286432160804\",\n        },\n\"{'C': 1, 'gamma': 100, 'idf': False, 'stop_words': None, 'ngram_range': (1, 1)}\"],\n [{\n            'v': 174,\n            'f': \"174\",\n        },\n{\n            'v': 0.3457286432160804,\n            'f': \"0.3457286432160804\",\n        },\n\"{'C': 1, 'gamma': 1, 'idf': False, 'stop_words': None, 'ngram_range': (1, 1)}\"],\n [{\n            'v': 78,\n            'f': \"78\",\n        },\n{\n            'v': 0.3457286432160804,\n            'f': \"0.3457286432160804\",\n        },\n\"{'C': 1, 'gamma': 0.01, 'idf': False, 'stop_words': None, 'ngram_range': (1, 1)}\"],\n [{\n            'v': 102,\n            'f': \"102\",\n        },\n{\n            'v': 0.3457286432160804,\n            'f': \"0.3457286432160804\",\n        },\n\"{'C': 0.001, 'gamma': 0.1, 'idf': False, 'stop_words': None, 'ngram_range': (1, 1)}\"],\n [{\n            'v': 246,\n            'f': \"246\",\n        },\n{\n            'v': 0.3457286432160804,\n            'f': \"0.3457286432160804\",\n        },\n\"{'C': 0.001, 'gamma': 100, 'idf': False, 'stop_words': None, 'ngram_range': (1, 1)}\"],\n [{\n            'v': 214,\n            'f': \"214\",\n        },\n{\n            'v': 0.3457286432160804,\n            'f': \"0.3457286432160804\",\n        },\n\"{'C': 0.1, 'gamma': 10, 'idf': False, 'stop_words': None, 'ngram_range': (1, 1)}\"],\n [{\n            'v': 110,\n            'f': \"110\",\n        },\n{\n            'v': 0.3457286432160804,\n            'f': \"0.3457286432160804\",\n        },\n\"{'C': 0.01, 'gamma': 0.1, 'idf': False, 'stop_words': None, 'ngram_range': (1, 1)}\"],\n [{\n            'v': 222,\n            'f': \"222\",\n        },\n{\n            'v': 0.3457286432160804,\n            'f': \"0.3457286432160804\",\n        },\n\"{'C': 1, 'gamma': 10, 'idf': False, 'stop_words': None, 'ngram_range': (1, 1)}\"],\n [{\n            'v': 198,\n            'f': \"198\",\n        },\n{\n            'v': 0.3457286432160804,\n            'f': \"0.3457286432160804\",\n        },\n\"{'C': 0.001, 'gamma': 10, 'idf': False, 'stop_words': None, 'ngram_range': (1, 1)}\"],\n [{\n            'v': 30,\n            'f': \"30\",\n        },\n{\n            'v': 0.3457286432160804,\n            'f': \"0.3457286432160804\",\n        },\n\"{'C': 1, 'gamma': 0.001, 'idf': False, 'stop_words': None, 'ngram_range': (1, 1)}\"],\n [{\n            'v': 142,\n            'f': \"142\",\n        },\n{\n            'v': 0.3457286432160804,\n            'f': \"0.3457286432160804\",\n        },\n\"{'C': 100, 'gamma': 0.1, 'idf': False, 'stop_words': None, 'ngram_range': (1, 1)}\"],\n [{\n            'v': 22,\n            'f': \"22\",\n        },\n{\n            'v': 0.3457286432160804,\n            'f': \"0.3457286432160804\",\n        },\n\"{'C': 0.1, 'gamma': 0.001, 'idf': False, 'stop_words': None, 'ngram_range': (1, 1)}\"],\n [{\n            'v': 230,\n            'f': \"230\",\n        },\n{\n            'v': 0.3457286432160804,\n            'f': \"0.3457286432160804\",\n        },\n\"{'C': 10, 'gamma': 10, 'idf': False, 'stop_words': None, 'ngram_range': (1, 1)}\"],\n [{\n            'v': 126,\n            'f': \"126\",\n        },\n{\n            'v': 0.3457286432160804,\n            'f': \"0.3457286432160804\",\n        },\n\"{'C': 1, 'gamma': 0.1, 'idf': False, 'stop_words': None, 'ngram_range': (1, 1)}\"],\n [{\n            'v': 118,\n            'f': \"118\",\n        },\n{\n            'v': 0.3457286432160804,\n            'f': \"0.3457286432160804\",\n        },\n\"{'C': 0.1, 'gamma': 0.1, 'idf': False, 'stop_words': None, 'ngram_range': (1, 1)}\"],\n [{\n            'v': 134,\n            'f': \"134\",\n        },\n{\n            'v': 0.3457286432160804,\n            'f': \"0.3457286432160804\",\n        },\n\"{'C': 10, 'gamma': 0.1, 'idf': False, 'stop_words': None, 'ngram_range': (1, 1)}\"],\n [{\n            'v': 46,\n            'f': \"46\",\n        },\n{\n            'v': 0.3457286432160804,\n            'f': \"0.3457286432160804\",\n        },\n\"{'C': 100, 'gamma': 0.001, 'idf': False, 'stop_words': None, 'ngram_range': (1, 1)}\"],\n [{\n            'v': 190,\n            'f': \"190\",\n        },\n{\n            'v': 0.3457286432160804,\n            'f': \"0.3457286432160804\",\n        },\n\"{'C': 100, 'gamma': 1, 'idf': False, 'stop_words': None, 'ngram_range': (1, 1)}\"],\n [{\n            'v': 279,\n            'f': \"279\",\n        },\n{\n            'v': 0.31256281407035175,\n            'f': \"0.31256281407035175\",\n        },\n\"{'C': 10, 'gamma': 100, 'idf': False, 'stop_words': None, 'ngram_range': (1, 2)}\"],\n [{\n            'v': 175,\n            'f': \"175\",\n        },\n{\n            'v': 0.31256281407035175,\n            'f': \"0.31256281407035175\",\n        },\n\"{'C': 1, 'gamma': 1, 'idf': False, 'stop_words': None, 'ngram_range': (1, 2)}\"],\n [{\n            'v': 207,\n            'f': \"207\",\n        },\n{\n            'v': 0.31256281407035175,\n            'f': \"0.31256281407035175\",\n        },\n\"{'C': 0.01, 'gamma': 10, 'idf': False, 'stop_words': None, 'ngram_range': (1, 2)}\"],\n [{\n            'v': 271,\n            'f': \"271\",\n        },\n{\n            'v': 0.31256281407035175,\n            'f': \"0.31256281407035175\",\n        },\n\"{'C': 1, 'gamma': 100, 'idf': False, 'stop_words': None, 'ngram_range': (1, 2)}\"],\n [{\n            'v': 199,\n            'f': \"199\",\n        },\n{\n            'v': 0.31256281407035175,\n            'f': \"0.31256281407035175\",\n        },\n\"{'C': 0.001, 'gamma': 10, 'idf': False, 'stop_words': None, 'ngram_range': (1, 2)}\"],\n [{\n            'v': 71,\n            'f': \"71\",\n        },\n{\n            'v': 0.31256281407035175,\n            'f': \"0.31256281407035175\",\n        },\n\"{'C': 0.1, 'gamma': 0.01, 'idf': False, 'stop_words': None, 'ngram_range': (1, 2)}\"],\n [{\n            'v': 79,\n            'f': \"79\",\n        },\n{\n            'v': 0.31256281407035175,\n            'f': \"0.31256281407035175\",\n        },\n\"{'C': 1, 'gamma': 0.01, 'idf': False, 'stop_words': None, 'ngram_range': (1, 2)}\"],\n [{\n            'v': 47,\n            'f': \"47\",\n        },\n{\n            'v': 0.31256281407035175,\n            'f': \"0.31256281407035175\",\n        },\n\"{'C': 100, 'gamma': 0.001, 'idf': False, 'stop_words': None, 'ngram_range': (1, 2)}\"],\n [{\n            'v': 167,\n            'f': \"167\",\n        },\n{\n            'v': 0.31256281407035175,\n            'f': \"0.31256281407035175\",\n        },\n\"{'C': 0.1, 'gamma': 1, 'idf': False, 'stop_words': None, 'ngram_range': (1, 2)}\"],\n [{\n            'v': 135,\n            'f': \"135\",\n        },\n{\n            'v': 0.31256281407035175,\n            'f': \"0.31256281407035175\",\n        },\n\"{'C': 10, 'gamma': 0.1, 'idf': False, 'stop_words': None, 'ngram_range': (1, 2)}\"],\n [{\n            'v': 215,\n            'f': \"215\",\n        },\n{\n            'v': 0.31256281407035175,\n            'f': \"0.31256281407035175\",\n        },\n\"{'C': 0.1, 'gamma': 10, 'idf': False, 'stop_words': None, 'ngram_range': (1, 2)}\"],\n [{\n            'v': 15,\n            'f': \"15\",\n        },\n{\n            'v': 0.31256281407035175,\n            'f': \"0.31256281407035175\",\n        },\n\"{'C': 0.01, 'gamma': 0.001, 'idf': False, 'stop_words': None, 'ngram_range': (1, 2)}\"],\n [{\n            'v': 159,\n            'f': \"159\",\n        },\n{\n            'v': 0.31256281407035175,\n            'f': \"0.31256281407035175\",\n        },\n\"{'C': 0.01, 'gamma': 1, 'idf': False, 'stop_words': None, 'ngram_range': (1, 2)}\"],\n [{\n            'v': 127,\n            'f': \"127\",\n        },\n{\n            'v': 0.31256281407035175,\n            'f': \"0.31256281407035175\",\n        },\n\"{'C': 1, 'gamma': 0.1, 'idf': False, 'stop_words': None, 'ngram_range': (1, 2)}\"],\n [{\n            'v': 239,\n            'f': \"239\",\n        },\n{\n            'v': 0.31256281407035175,\n            'f': \"0.31256281407035175\",\n        },\n\"{'C': 100, 'gamma': 10, 'idf': False, 'stop_words': None, 'ngram_range': (1, 2)}\"],\n [{\n            'v': 263,\n            'f': \"263\",\n        },\n{\n            'v': 0.31256281407035175,\n            'f': \"0.31256281407035175\",\n        },\n\"{'C': 0.1, 'gamma': 100, 'idf': False, 'stop_words': None, 'ngram_range': (1, 2)}\"],\n [{\n            'v': 119,\n            'f': \"119\",\n        },\n{\n            'v': 0.31256281407035175,\n            'f': \"0.31256281407035175\",\n        },\n\"{'C': 0.1, 'gamma': 0.1, 'idf': False, 'stop_words': None, 'ngram_range': (1, 2)}\"],\n [{\n            'v': 151,\n            'f': \"151\",\n        },\n{\n            'v': 0.31256281407035175,\n            'f': \"0.31256281407035175\",\n        },\n\"{'C': 0.001, 'gamma': 1, 'idf': False, 'stop_words': None, 'ngram_range': (1, 2)}\"],\n [{\n            'v': 31,\n            'f': \"31\",\n        },\n{\n            'v': 0.31256281407035175,\n            'f': \"0.31256281407035175\",\n        },\n\"{'C': 1, 'gamma': 0.001, 'idf': False, 'stop_words': None, 'ngram_range': (1, 2)}\"],\n [{\n            'v': 103,\n            'f': \"103\",\n        },\n{\n            'v': 0.31256281407035175,\n            'f': \"0.31256281407035175\",\n        },\n\"{'C': 0.001, 'gamma': 0.1, 'idf': False, 'stop_words': None, 'ngram_range': (1, 2)}\"],\n [{\n            'v': 55,\n            'f': \"55\",\n        },\n{\n            'v': 0.31256281407035175,\n            'f': \"0.31256281407035175\",\n        },\n\"{'C': 0.001, 'gamma': 0.01, 'idf': False, 'stop_words': None, 'ngram_range': (1, 2)}\"],\n [{\n            'v': 23,\n            'f': \"23\",\n        },\n{\n            'v': 0.31256281407035175,\n            'f': \"0.31256281407035175\",\n        },\n\"{'C': 0.1, 'gamma': 0.001, 'idf': False, 'stop_words': None, 'ngram_range': (1, 2)}\"],\n [{\n            'v': 143,\n            'f': \"143\",\n        },\n{\n            'v': 0.31256281407035175,\n            'f': \"0.31256281407035175\",\n        },\n\"{'C': 100, 'gamma': 0.1, 'idf': False, 'stop_words': None, 'ngram_range': (1, 2)}\"],\n [{\n            'v': 247,\n            'f': \"247\",\n        },\n{\n            'v': 0.31256281407035175,\n            'f': \"0.31256281407035175\",\n        },\n\"{'C': 0.001, 'gamma': 100, 'idf': False, 'stop_words': None, 'ngram_range': (1, 2)}\"],\n [{\n            'v': 191,\n            'f': \"191\",\n        },\n{\n            'v': 0.31256281407035175,\n            'f': \"0.31256281407035175\",\n        },\n\"{'C': 100, 'gamma': 1, 'idf': False, 'stop_words': None, 'ngram_range': (1, 2)}\"],\n [{\n            'v': 39,\n            'f': \"39\",\n        },\n{\n            'v': 0.31256281407035175,\n            'f': \"0.31256281407035175\",\n        },\n\"{'C': 10, 'gamma': 0.001, 'idf': False, 'stop_words': None, 'ngram_range': (1, 2)}\"],\n [{\n            'v': 231,\n            'f': \"231\",\n        },\n{\n            'v': 0.31256281407035175,\n            'f': \"0.31256281407035175\",\n        },\n\"{'C': 10, 'gamma': 10, 'idf': False, 'stop_words': None, 'ngram_range': (1, 2)}\"],\n [{\n            'v': 63,\n            'f': \"63\",\n        },\n{\n            'v': 0.31256281407035175,\n            'f': \"0.31256281407035175\",\n        },\n\"{'C': 0.01, 'gamma': 0.01, 'idf': False, 'stop_words': None, 'ngram_range': (1, 2)}\"],\n [{\n            'v': 95,\n            'f': \"95\",\n        },\n{\n            'v': 0.31256281407035175,\n            'f': \"0.31256281407035175\",\n        },\n\"{'C': 100, 'gamma': 0.01, 'idf': False, 'stop_words': None, 'ngram_range': (1, 2)}\"],\n [{\n            'v': 255,\n            'f': \"255\",\n        },\n{\n            'v': 0.31256281407035175,\n            'f': \"0.31256281407035175\",\n        },\n\"{'C': 0.01, 'gamma': 100, 'idf': False, 'stop_words': None, 'ngram_range': (1, 2)}\"],\n [{\n            'v': 111,\n            'f': \"111\",\n        },\n{\n            'v': 0.31256281407035175,\n            'f': \"0.31256281407035175\",\n        },\n\"{'C': 0.01, 'gamma': 0.1, 'idf': False, 'stop_words': None, 'ngram_range': (1, 2)}\"],\n [{\n            'v': 183,\n            'f': \"183\",\n        },\n{\n            'v': 0.31256281407035175,\n            'f': \"0.31256281407035175\",\n        },\n\"{'C': 10, 'gamma': 1, 'idf': False, 'stop_words': None, 'ngram_range': (1, 2)}\"],\n [{\n            'v': 87,\n            'f': \"87\",\n        },\n{\n            'v': 0.31256281407035175,\n            'f': \"0.31256281407035175\",\n        },\n\"{'C': 10, 'gamma': 0.01, 'idf': False, 'stop_words': None, 'ngram_range': (1, 2)}\"],\n [{\n            'v': 223,\n            'f': \"223\",\n        },\n{\n            'v': 0.31256281407035175,\n            'f': \"0.31256281407035175\",\n        },\n\"{'C': 1, 'gamma': 10, 'idf': False, 'stop_words': None, 'ngram_range': (1, 2)}\"],\n [{\n            'v': 7,\n            'f': \"7\",\n        },\n{\n            'v': 0.31256281407035175,\n            'f': \"0.31256281407035175\",\n        },\n\"{'C': 0.001, 'gamma': 0.001, 'idf': False, 'stop_words': None, 'ngram_range': (1, 2)}\"],\n [{\n            'v': 287,\n            'f': \"287\",\n        },\n{\n            'v': 0.31256281407035175,\n            'f': \"0.31256281407035175\",\n        },\n\"{'C': 100, 'gamma': 100, 'idf': False, 'stop_words': None, 'ngram_range': (1, 2)}\"]],\n        columns: [[\"number\", \"index\"], [\"number\", \"Top1 Acc.\"], [\"string\", \"SVM Classifier Parameters\"]],\n        columnOptions: [{\"width\": \"1px\", \"className\": \"index_column\"}],\n        rowsPerPage: 25,\n        helpUrl: \"https://colab.research.google.com/notebooks/data_table.ipynb\",\n        suppressOutputScrolling: true,\n        minimumWidth: undefined,\n      });\n    ",
            "text/plain": [
              "<google.colab.data_table.DataTable object>"
            ],
            "text/html": [
              "<div>\n",
              "<style scoped>\n",
              "    .dataframe tbody tr th:only-of-type {\n",
              "        vertical-align: middle;\n",
              "    }\n",
              "\n",
              "    .dataframe tbody tr th {\n",
              "        vertical-align: top;\n",
              "    }\n",
              "\n",
              "    .dataframe thead th {\n",
              "        text-align: right;\n",
              "    }\n",
              "</style>\n",
              "<table border=\"1\" class=\"dataframe\">\n",
              "  <thead>\n",
              "    <tr style=\"text-align: right;\">\n",
              "      <th></th>\n",
              "      <th>Top1 Acc.</th>\n",
              "      <th>SVM Classifier Parameters</th>\n",
              "    </tr>\n",
              "  </thead>\n",
              "  <tbody>\n",
              "    <tr>\n",
              "      <th>0</th>\n",
              "      <td>0.735678</td>\n",
              "      <td>{'C': 0.001, 'gamma': 0.001, 'idf': True, 'sto...</td>\n",
              "    </tr>\n",
              "    <tr>\n",
              "      <th>32</th>\n",
              "      <td>0.735678</td>\n",
              "      <td>{'C': 10, 'gamma': 0.001, 'idf': True, 'stop_w...</td>\n",
              "    </tr>\n",
              "    <tr>\n",
              "      <th>48</th>\n",
              "      <td>0.735678</td>\n",
              "      <td>{'C': 0.001, 'gamma': 0.01, 'idf': True, 'stop...</td>\n",
              "    </tr>\n",
              "    <tr>\n",
              "      <th>56</th>\n",
              "      <td>0.735678</td>\n",
              "      <td>{'C': 0.01, 'gamma': 0.01, 'idf': True, 'stop_...</td>\n",
              "    </tr>\n",
              "    <tr>\n",
              "      <th>64</th>\n",
              "      <td>0.735678</td>\n",
              "      <td>{'C': 0.1, 'gamma': 0.01, 'idf': True, 'stop_w...</td>\n",
              "    </tr>\n",
              "    <tr>\n",
              "      <th>...</th>\n",
              "      <td>...</td>\n",
              "      <td>...</td>\n",
              "    </tr>\n",
              "    <tr>\n",
              "      <th>183</th>\n",
              "      <td>0.312563</td>\n",
              "      <td>{'C': 10, 'gamma': 1, 'idf': False, 'stop_word...</td>\n",
              "    </tr>\n",
              "    <tr>\n",
              "      <th>87</th>\n",
              "      <td>0.312563</td>\n",
              "      <td>{'C': 10, 'gamma': 0.01, 'idf': False, 'stop_w...</td>\n",
              "    </tr>\n",
              "    <tr>\n",
              "      <th>223</th>\n",
              "      <td>0.312563</td>\n",
              "      <td>{'C': 1, 'gamma': 10, 'idf': False, 'stop_word...</td>\n",
              "    </tr>\n",
              "    <tr>\n",
              "      <th>7</th>\n",
              "      <td>0.312563</td>\n",
              "      <td>{'C': 0.001, 'gamma': 0.001, 'idf': False, 'st...</td>\n",
              "    </tr>\n",
              "    <tr>\n",
              "      <th>287</th>\n",
              "      <td>0.312563</td>\n",
              "      <td>{'C': 100, 'gamma': 100, 'idf': False, 'stop_w...</td>\n",
              "    </tr>\n",
              "  </tbody>\n",
              "</table>\n",
              "<p>288 rows × 2 columns</p>\n",
              "</div>"
            ]
          },
          "metadata": {
            "tags": []
          },
          "execution_count": 29
        }
      ]
    },
    {
      "cell_type": "code",
      "metadata": {
        "id": "s9W3ijPaDEZ7",
        "colab_type": "code",
        "colab": {}
      },
      "source": [
        "stop_words = best_svm_wiki_parameters['stop_words']\n",
        "ngram_range = best_svm_wiki_parameters['ngram_range']\n",
        "idf = best_svm_wiki_parameters['idf']\n",
        "C = best_svm_wiki_parameters['C']\n",
        "gamma = best_svm_wiki_parameters['gamma']\n",
        "\n",
        "svm = Pipeline([('vect', CountVectorizer(stop_words=stop_words,ngram_range=ngram_range)),\n",
        "                ('tfidf', TfidfTransformer(use_idf=idf)),\n",
        "                ('clf', SVC(C=C, gamma=gamma)),\n",
        "                ])    \n",
        "svm.fit(x_train_CLF_W, y_train_CLF_W)\n",
        "\n",
        "y_test_preds_class = svm.predict(x_test_CLF_W)\n",
        "y_test_preds_proba = svm.decision_function(x_test_CLF_W)"
      ],
      "execution_count": null,
      "outputs": []
    },
    {
      "cell_type": "code",
      "metadata": {
        "id": "v8GLfjWIDNxy",
        "colab_type": "code",
        "colab": {
          "base_uri": "https://localhost:8080/",
          "height": 70
        },
        "outputId": "1da2c5c0-c733-4eb7-da16-f825e93fbcab"
      },
      "source": [
        "doc_utils.top2_acc(y_test_preds_proba, y_test_CLF_W,verbose=1)"
      ],
      "execution_count": null,
      "outputs": [
        {
          "output_type": "stream",
          "text": [
            "TOP-1 acc.: \t0.736\n",
            "TOP-2 acc.: \t0.881\n"
          ],
          "name": "stdout"
        },
        {
          "output_type": "execute_result",
          "data": {
            "text/plain": [
              "(0.735678391959799, 0.8814070351758794)"
            ]
          },
          "metadata": {
            "tags": []
          },
          "execution_count": 31
        }
      ]
    },
    {
      "cell_type": "code",
      "metadata": {
        "id": "QehV2bIaIy7q",
        "colab_type": "code",
        "colab": {
          "base_uri": "https://localhost:8080/",
          "height": 444
        },
        "outputId": "651359c2-c1cd-4860-f7ce-df67655d4262"
      },
      "source": [
        "doc_utils.plotConfMatrix(y_test_CLF_W, y_test_preds_class, model=\"SVM\", dataset_type='wiki')"
      ],
      "execution_count": null,
      "outputs": [
        {
          "output_type": "display_data",
          "data": {
            "image/png": "[encoded data removed]",
            "text/plain": [
              "<Figure size 720x504 with 2 Axes>"
            ]
          },
          "metadata": {
            "tags": [],
            "needs_background": "light"
          }
        }
      ]
    },
    {
      "cell_type": "markdown",
      "metadata": {
        "id": "h60y61DZeGAX",
        "colab_type": "text"
      },
      "source": [
        "### arXiv dataset"
      ]
    },
    {
      "cell_type": "code",
      "metadata": {
        "id": "XkJhCD-aeHtE",
        "colab_type": "code",
        "colab": {
          "base_uri": "https://localhost:8080/",
          "height": 52
        },
        "outputId": "eea0ea06-8a60-4f79-d1b5-8655eedab280"
      },
      "source": [
        "best_svm_arxiv_score = 0\n",
        "svm_arxiv_models_params = list()\n",
        "for gamma in [0.001, 0.01, 0.1, 1, 10, 100]:\n",
        "    for C in [0.001, 0.01, 0.1, 1, 10, 100]:\n",
        "        for idf in [True, False]:\n",
        "            for stop_words in ['english', None]:\n",
        "                for ngram_range in [(1,1), (1,2)]:\n",
        "                    #Training the SVM for the hyperparam  + preprocessing combinations\n",
        "                    svm = Pipeline([('vect', CountVectorizer(stop_words=stop_words,ngram_range=ngram_range)),\n",
        "                                    ('tfidf', TfidfTransformer(use_idf=idf)),\n",
        "                                    ('clf', SVC(C=C, gamma=gamma)),\n",
        "                                    ])    \n",
        "                    svm.fit(x_train_CLF_A, y_train_CLF_A)\n",
        "                    # evaluate the SVM on the test set\n",
        "                    score = svm.score(x_test_CLF_A, y_test_CLF_A)\n",
        "\n",
        "                    #keeping track of the combinations\n",
        "                    params = {'C': C, 'gamma': gamma, 'idf': idf, 'stop_words':stop_words, 'ngram_range':ngram_range}\n",
        "                    svm_arxiv_models_params.append((score, params))\n",
        "\n",
        "                    # if we got a better score, store the score and parameters\n",
        "                    if score > best_svm_arxiv_score:\n",
        "                        best_svm_arxiv_score = score\n",
        "                        best_svm_arxiv_parameters = {'C': C, 'gamma': gamma, 'idf': idf, 'stop_words':stop_words, 'ngram_range':ngram_range}\n",
        "\n",
        "print(\"Best Top-1 Accuracy: {:.4f}\".format(best_svm_arxiv_score))#(Top-1 acc score)\n",
        "print(\"Best parameters: {}\".format(best_svm_arxiv_parameters))"
      ],
      "execution_count": null,
      "outputs": [
        {
          "output_type": "stream",
          "text": [
            "Best Top-1 Accuracy: 0.4188\n",
            "Best parameters: {'C': 0.001, 'gamma': 0.001, 'idf': True, 'stop_words': 'english', 'ngram_range': (1, 2)}\n"
          ],
          "name": "stdout"
        }
      ]
    },
    {
      "cell_type": "code",
      "metadata": {
        "id": "oxwa2YkFgUeX",
        "colab_type": "code",
        "colab": {
          "base_uri": "https://localhost:8080/",
          "height": 567
        },
        "outputId": "e51f187d-338b-481a-e594-c82cabb55b8b"
      },
      "source": [
        "df = pd.DataFrame.from_dict(svm_arxiv_models_params)\n",
        "df.columns = ['Top1 Acc.', 'SVM Classifier Parameters']\n",
        "DataTable(df.sort_values(by=['Top1 Acc.'], ascending=False))"
      ],
      "execution_count": null,
      "outputs": [
        {
          "output_type": "execute_result",
          "data": {
            "application/vnd.google.colaboratory.module+javascript": "\n      import \"https://ssl.gstatic.com/colaboratory/data_table/a6224c040fa35dcf/data_table.js\";\n\n      window.createDataTable({\n        data: [[{\n            'v': 65,\n            'f': \"65\",\n        },\n{\n            'v': 0.41875,\n            'f': \"0.41875\",\n        },\n\"{'C': 0.1, 'gamma': 0.01, 'idf': True, 'stop_words': 'english', 'ngram_range': (1, 2)}\"],\n [{\n            'v': 217,\n            'f': \"217\",\n        },\n{\n            'v': 0.41875,\n            'f': \"0.41875\",\n        },\n\"{'C': 1, 'gamma': 10, 'idf': True, 'stop_words': 'english', 'ngram_range': (1, 2)}\"],\n [{\n            'v': 129,\n            'f': \"129\",\n        },\n{\n            'v': 0.41875,\n            'f': \"0.41875\",\n        },\n\"{'C': 10, 'gamma': 0.1, 'idf': True, 'stop_words': 'english', 'ngram_range': (1, 2)}\"],\n [{\n            'v': 201,\n            'f': \"201\",\n        },\n{\n            'v': 0.41875,\n            'f': \"0.41875\",\n        },\n\"{'C': 0.01, 'gamma': 10, 'idf': True, 'stop_words': 'english', 'ngram_range': (1, 2)}\"],\n [{\n            'v': 25,\n            'f': \"25\",\n        },\n{\n            'v': 0.41875,\n            'f': \"0.41875\",\n        },\n\"{'C': 1, 'gamma': 0.001, 'idf': True, 'stop_words': 'english', 'ngram_range': (1, 2)}\"],\n [{\n            'v': 105,\n            'f': \"105\",\n        },\n{\n            'v': 0.41875,\n            'f': \"0.41875\",\n        },\n\"{'C': 0.01, 'gamma': 0.1, 'idf': True, 'stop_words': 'english', 'ngram_range': (1, 2)}\"],\n [{\n            'v': 193,\n            'f': \"193\",\n        },\n{\n            'v': 0.41875,\n            'f': \"0.41875\",\n        },\n\"{'C': 0.001, 'gamma': 10, 'idf': True, 'stop_words': 'english', 'ngram_range': (1, 2)}\"],\n [{\n            'v': 185,\n            'f': \"185\",\n        },\n{\n            'v': 0.41875,\n            'f': \"0.41875\",\n        },\n\"{'C': 100, 'gamma': 1, 'idf': True, 'stop_words': 'english', 'ngram_range': (1, 2)}\"],\n [{\n            'v': 113,\n            'f': \"113\",\n        },\n{\n            'v': 0.41875,\n            'f': \"0.41875\",\n        },\n\"{'C': 0.1, 'gamma': 0.1, 'idf': True, 'stop_words': 'english', 'ngram_range': (1, 2)}\"],\n [{\n            'v': 177,\n            'f': \"177\",\n        },\n{\n            'v': 0.41875,\n            'f': \"0.41875\",\n        },\n\"{'C': 10, 'gamma': 1, 'idf': True, 'stop_words': 'english', 'ngram_range': (1, 2)}\"],\n [{\n            'v': 49,\n            'f': \"49\",\n        },\n{\n            'v': 0.41875,\n            'f': \"0.41875\",\n        },\n\"{'C': 0.001, 'gamma': 0.01, 'idf': True, 'stop_words': 'english', 'ngram_range': (1, 2)}\"],\n [{\n            'v': 33,\n            'f': \"33\",\n        },\n{\n            'v': 0.41875,\n            'f': \"0.41875\",\n        },\n\"{'C': 10, 'gamma': 0.001, 'idf': True, 'stop_words': 'english', 'ngram_range': (1, 2)}\"],\n [{\n            'v': 169,\n            'f': \"169\",\n        },\n{\n            'v': 0.41875,\n            'f': \"0.41875\",\n        },\n\"{'C': 1, 'gamma': 1, 'idf': True, 'stop_words': 'english', 'ngram_range': (1, 2)}\"],\n [{\n            'v': 161,\n            'f': \"161\",\n        },\n{\n            'v': 0.41875,\n            'f': \"0.41875\",\n        },\n\"{'C': 0.1, 'gamma': 1, 'idf': True, 'stop_words': 'english', 'ngram_range': (1, 2)}\"],\n [{\n            'v': 121,\n            'f': \"121\",\n        },\n{\n            'v': 0.41875,\n            'f': \"0.41875\",\n        },\n\"{'C': 1, 'gamma': 0.1, 'idf': True, 'stop_words': 'english', 'ngram_range': (1, 2)}\"],\n [{\n            'v': 153,\n            'f': \"153\",\n        },\n{\n            'v': 0.41875,\n            'f': \"0.41875\",\n        },\n\"{'C': 0.01, 'gamma': 1, 'idf': True, 'stop_words': 'english', 'ngram_range': (1, 2)}\"],\n [{\n            'v': 145,\n            'f': \"145\",\n        },\n{\n            'v': 0.41875,\n            'f': \"0.41875\",\n        },\n\"{'C': 0.001, 'gamma': 1, 'idf': True, 'stop_words': 'english', 'ngram_range': (1, 2)}\"],\n [{\n            'v': 41,\n            'f': \"41\",\n        },\n{\n            'v': 0.41875,\n            'f': \"0.41875\",\n        },\n\"{'C': 100, 'gamma': 0.001, 'idf': True, 'stop_words': 'english', 'ngram_range': (1, 2)}\"],\n [{\n            'v': 1,\n            'f': \"1\",\n        },\n{\n            'v': 0.41875,\n            'f': \"0.41875\",\n        },\n\"{'C': 0.001, 'gamma': 0.001, 'idf': True, 'stop_words': 'english', 'ngram_range': (1, 2)}\"],\n [{\n            'v': 97,\n            'f': \"97\",\n        },\n{\n            'v': 0.41875,\n            'f': \"0.41875\",\n        },\n\"{'C': 0.001, 'gamma': 0.1, 'idf': True, 'stop_words': 'english', 'ngram_range': (1, 2)}\"],\n [{\n            'v': 209,\n            'f': \"209\",\n        },\n{\n            'v': 0.41875,\n            'f': \"0.41875\",\n        },\n\"{'C': 0.1, 'gamma': 10, 'idf': True, 'stop_words': 'english', 'ngram_range': (1, 2)}\"],\n [{\n            'v': 81,\n            'f': \"81\",\n        },\n{\n            'v': 0.41875,\n            'f': \"0.41875\",\n        },\n\"{'C': 10, 'gamma': 0.01, 'idf': True, 'stop_words': 'english', 'ngram_range': (1, 2)}\"],\n [{\n            'v': 249,\n            'f': \"249\",\n        },\n{\n            'v': 0.41875,\n            'f': \"0.41875\",\n        },\n\"{'C': 0.01, 'gamma': 100, 'idf': True, 'stop_words': 'english', 'ngram_range': (1, 2)}\"],\n [{\n            'v': 281,\n            'f': \"281\",\n        },\n{\n            'v': 0.41875,\n            'f': \"0.41875\",\n        },\n\"{'C': 100, 'gamma': 100, 'idf': True, 'stop_words': 'english', 'ngram_range': (1, 2)}\"],\n [{\n            'v': 273,\n            'f': \"273\",\n        },\n{\n            'v': 0.41875,\n            'f': \"0.41875\",\n        },\n\"{'C': 10, 'gamma': 100, 'idf': True, 'stop_words': 'english', 'ngram_range': (1, 2)}\"],\n [{\n            'v': 73,\n            'f': \"73\",\n        },\n{\n            'v': 0.41875,\n            'f': \"0.41875\",\n        },\n\"{'C': 1, 'gamma': 0.01, 'idf': True, 'stop_words': 'english', 'ngram_range': (1, 2)}\"],\n [{\n            'v': 265,\n            'f': \"265\",\n        },\n{\n            'v': 0.41875,\n            'f': \"0.41875\",\n        },\n\"{'C': 1, 'gamma': 100, 'idf': True, 'stop_words': 'english', 'ngram_range': (1, 2)}\"],\n [{\n            'v': 257,\n            'f': \"257\",\n        },\n{\n            'v': 0.41875,\n            'f': \"0.41875\",\n        },\n\"{'C': 0.1, 'gamma': 100, 'idf': True, 'stop_words': 'english', 'ngram_range': (1, 2)}\"],\n [{\n            'v': 9,\n            'f': \"9\",\n        },\n{\n            'v': 0.41875,\n            'f': \"0.41875\",\n        },\n\"{'C': 0.01, 'gamma': 0.001, 'idf': True, 'stop_words': 'english', 'ngram_range': (1, 2)}\"],\n [{\n            'v': 225,\n            'f': \"225\",\n        },\n{\n            'v': 0.41875,\n            'f': \"0.41875\",\n        },\n\"{'C': 10, 'gamma': 10, 'idf': True, 'stop_words': 'english', 'ngram_range': (1, 2)}\"],\n [{\n            'v': 137,\n            'f': \"137\",\n        },\n{\n            'v': 0.41875,\n            'f': \"0.41875\",\n        },\n\"{'C': 100, 'gamma': 0.1, 'idf': True, 'stop_words': 'english', 'ngram_range': (1, 2)}\"],\n [{\n            'v': 241,\n            'f': \"241\",\n        },\n{\n            'v': 0.41875,\n            'f': \"0.41875\",\n        },\n\"{'C': 0.001, 'gamma': 100, 'idf': True, 'stop_words': 'english', 'ngram_range': (1, 2)}\"],\n [{\n            'v': 57,\n            'f': \"57\",\n        },\n{\n            'v': 0.41875,\n            'f': \"0.41875\",\n        },\n\"{'C': 0.01, 'gamma': 0.01, 'idf': True, 'stop_words': 'english', 'ngram_range': (1, 2)}\"],\n [{\n            'v': 233,\n            'f': \"233\",\n        },\n{\n            'v': 0.41875,\n            'f': \"0.41875\",\n        },\n\"{'C': 100, 'gamma': 10, 'idf': True, 'stop_words': 'english', 'ngram_range': (1, 2)}\"],\n [{\n            'v': 89,\n            'f': \"89\",\n        },\n{\n            'v': 0.41875,\n            'f': \"0.41875\",\n        },\n\"{'C': 100, 'gamma': 0.01, 'idf': True, 'stop_words': 'english', 'ngram_range': (1, 2)}\"],\n [{\n            'v': 17,\n            'f': \"17\",\n        },\n{\n            'v': 0.41875,\n            'f': \"0.41875\",\n        },\n\"{'C': 0.1, 'gamma': 0.001, 'idf': True, 'stop_words': 'english', 'ngram_range': (1, 2)}\"],\n [{\n            'v': 88,\n            'f': \"88\",\n        },\n{\n            'v': 0.415,\n            'f': \"0.415\",\n        },\n\"{'C': 100, 'gamma': 0.01, 'idf': True, 'stop_words': 'english', 'ngram_range': (1, 1)}\"],\n [{\n            'v': 112,\n            'f': \"112\",\n        },\n{\n            'v': 0.415,\n            'f': \"0.415\",\n        },\n\"{'C': 0.1, 'gamma': 0.1, 'idf': True, 'stop_words': 'english', 'ngram_range': (1, 1)}\"],\n [{\n            'v': 120,\n            'f': \"120\",\n        },\n{\n            'v': 0.415,\n            'f': \"0.415\",\n        },\n\"{'C': 1, 'gamma': 0.1, 'idf': True, 'stop_words': 'english', 'ngram_range': (1, 1)}\"],\n [{\n            'v': 80,\n            'f': \"80\",\n        },\n{\n            'v': 0.415,\n            'f': \"0.415\",\n        },\n\"{'C': 10, 'gamma': 0.01, 'idf': True, 'stop_words': 'english', 'ngram_range': (1, 1)}\"],\n [{\n            'v': 128,\n            'f': \"128\",\n        },\n{\n            'v': 0.415,\n            'f': \"0.415\",\n        },\n\"{'C': 10, 'gamma': 0.1, 'idf': True, 'stop_words': 'english', 'ngram_range': (1, 1)}\"],\n [{\n            'v': 72,\n            'f': \"72\",\n        },\n{\n            'v': 0.415,\n            'f': \"0.415\",\n        },\n\"{'C': 1, 'gamma': 0.01, 'idf': True, 'stop_words': 'english', 'ngram_range': (1, 1)}\"],\n [{\n            'v': 104,\n            'f': \"104\",\n        },\n{\n            'v': 0.415,\n            'f': \"0.415\",\n        },\n\"{'C': 0.01, 'gamma': 0.1, 'idf': True, 'stop_words': 'english', 'ngram_range': (1, 1)}\"],\n [{\n            'v': 96,\n            'f': \"96\",\n        },\n{\n            'v': 0.415,\n            'f': \"0.415\",\n        },\n\"{'C': 0.001, 'gamma': 0.1, 'idf': True, 'stop_words': 'english', 'ngram_range': (1, 1)}\"],\n [{\n            'v': 0,\n            'f': \"0\",\n        },\n{\n            'v': 0.415,\n            'f': \"0.415\",\n        },\n\"{'C': 0.001, 'gamma': 0.001, 'idf': True, 'stop_words': 'english', 'ngram_range': (1, 1)}\"],\n [{\n            'v': 136,\n            'f': \"136\",\n        },\n{\n            'v': 0.415,\n            'f': \"0.415\",\n        },\n\"{'C': 100, 'gamma': 0.1, 'idf': True, 'stop_words': 'english', 'ngram_range': (1, 1)}\"],\n [{\n            'v': 224,\n            'f': \"224\",\n        },\n{\n            'v': 0.415,\n            'f': \"0.415\",\n        },\n\"{'C': 10, 'gamma': 10, 'idf': True, 'stop_words': 'english', 'ngram_range': (1, 1)}\"],\n [{\n            'v': 280,\n            'f': \"280\",\n        },\n{\n            'v': 0.415,\n            'f': \"0.415\",\n        },\n\"{'C': 100, 'gamma': 100, 'idf': True, 'stop_words': 'english', 'ngram_range': (1, 1)}\"],\n [{\n            'v': 272,\n            'f': \"272\",\n        },\n{\n            'v': 0.415,\n            'f': \"0.415\",\n        },\n\"{'C': 10, 'gamma': 100, 'idf': True, 'stop_words': 'english', 'ngram_range': (1, 1)}\"],\n [{\n            'v': 264,\n            'f': \"264\",\n        },\n{\n            'v': 0.415,\n            'f': \"0.415\",\n        },\n\"{'C': 1, 'gamma': 100, 'idf': True, 'stop_words': 'english', 'ngram_range': (1, 1)}\"],\n [{\n            'v': 256,\n            'f': \"256\",\n        },\n{\n            'v': 0.415,\n            'f': \"0.415\",\n        },\n\"{'C': 0.1, 'gamma': 100, 'idf': True, 'stop_words': 'english', 'ngram_range': (1, 1)}\"],\n [{\n            'v': 248,\n            'f': \"248\",\n        },\n{\n            'v': 0.415,\n            'f': \"0.415\",\n        },\n\"{'C': 0.01, 'gamma': 100, 'idf': True, 'stop_words': 'english', 'ngram_range': (1, 1)}\"],\n [{\n            'v': 240,\n            'f': \"240\",\n        },\n{\n            'v': 0.415,\n            'f': \"0.415\",\n        },\n\"{'C': 0.001, 'gamma': 100, 'idf': True, 'stop_words': 'english', 'ngram_range': (1, 1)}\"],\n [{\n            'v': 232,\n            'f': \"232\",\n        },\n{\n            'v': 0.415,\n            'f': \"0.415\",\n        },\n\"{'C': 100, 'gamma': 10, 'idf': True, 'stop_words': 'english', 'ngram_range': (1, 1)}\"],\n [{\n            'v': 216,\n            'f': \"216\",\n        },\n{\n            'v': 0.415,\n            'f': \"0.415\",\n        },\n\"{'C': 1, 'gamma': 10, 'idf': True, 'stop_words': 'english', 'ngram_range': (1, 1)}\"],\n [{\n            'v': 152,\n            'f': \"152\",\n        },\n{\n            'v': 0.415,\n            'f': \"0.415\",\n        },\n\"{'C': 0.01, 'gamma': 1, 'idf': True, 'stop_words': 'english', 'ngram_range': (1, 1)}\"],\n [{\n            'v': 208,\n            'f': \"208\",\n        },\n{\n            'v': 0.415,\n            'f': \"0.415\",\n        },\n\"{'C': 0.1, 'gamma': 10, 'idf': True, 'stop_words': 'english', 'ngram_range': (1, 1)}\"],\n [{\n            'v': 200,\n            'f': \"200\",\n        },\n{\n            'v': 0.415,\n            'f': \"0.415\",\n        },\n\"{'C': 0.01, 'gamma': 10, 'idf': True, 'stop_words': 'english', 'ngram_range': (1, 1)}\"],\n [{\n            'v': 192,\n            'f': \"192\",\n        },\n{\n            'v': 0.415,\n            'f': \"0.415\",\n        },\n\"{'C': 0.001, 'gamma': 10, 'idf': True, 'stop_words': 'english', 'ngram_range': (1, 1)}\"],\n [{\n            'v': 184,\n            'f': \"184\",\n        },\n{\n            'v': 0.415,\n            'f': \"0.415\",\n        },\n\"{'C': 100, 'gamma': 1, 'idf': True, 'stop_words': 'english', 'ngram_range': (1, 1)}\"],\n [{\n            'v': 64,\n            'f': \"64\",\n        },\n{\n            'v': 0.415,\n            'f': \"0.415\",\n        },\n\"{'C': 0.1, 'gamma': 0.01, 'idf': True, 'stop_words': 'english', 'ngram_range': (1, 1)}\"],\n [{\n            'v': 168,\n            'f': \"168\",\n        },\n{\n            'v': 0.415,\n            'f': \"0.415\",\n        },\n\"{'C': 1, 'gamma': 1, 'idf': True, 'stop_words': 'english', 'ngram_range': (1, 1)}\"],\n [{\n            'v': 160,\n            'f': \"160\",\n        },\n{\n            'v': 0.415,\n            'f': \"0.415\",\n        },\n\"{'C': 0.1, 'gamma': 1, 'idf': True, 'stop_words': 'english', 'ngram_range': (1, 1)}\"],\n [{\n            'v': 176,\n            'f': \"176\",\n        },\n{\n            'v': 0.415,\n            'f': \"0.415\",\n        },\n\"{'C': 10, 'gamma': 1, 'idf': True, 'stop_words': 'english', 'ngram_range': (1, 1)}\"],\n [{\n            'v': 144,\n            'f': \"144\",\n        },\n{\n            'v': 0.415,\n            'f': \"0.415\",\n        },\n\"{'C': 0.001, 'gamma': 1, 'idf': True, 'stop_words': 'english', 'ngram_range': (1, 1)}\"],\n [{\n            'v': 32,\n            'f': \"32\",\n        },\n{\n            'v': 0.415,\n            'f': \"0.415\",\n        },\n\"{'C': 10, 'gamma': 0.001, 'idf': True, 'stop_words': 'english', 'ngram_range': (1, 1)}\"],\n [{\n            'v': 56,\n            'f': \"56\",\n        },\n{\n            'v': 0.415,\n            'f': \"0.415\",\n        },\n\"{'C': 0.01, 'gamma': 0.01, 'idf': True, 'stop_words': 'english', 'ngram_range': (1, 1)}\"],\n [{\n            'v': 16,\n            'f': \"16\",\n        },\n{\n            'v': 0.415,\n            'f': \"0.415\",\n        },\n\"{'C': 0.1, 'gamma': 0.001, 'idf': True, 'stop_words': 'english', 'ngram_range': (1, 1)}\"],\n [{\n            'v': 24,\n            'f': \"24\",\n        },\n{\n            'v': 0.415,\n            'f': \"0.415\",\n        },\n\"{'C': 1, 'gamma': 0.001, 'idf': True, 'stop_words': 'english', 'ngram_range': (1, 1)}\"],\n [{\n            'v': 40,\n            'f': \"40\",\n        },\n{\n            'v': 0.415,\n            'f': \"0.415\",\n        },\n\"{'C': 100, 'gamma': 0.001, 'idf': True, 'stop_words': 'english', 'ngram_range': (1, 1)}\"],\n [{\n            'v': 48,\n            'f': \"48\",\n        },\n{\n            'v': 0.415,\n            'f': \"0.415\",\n        },\n\"{'C': 0.001, 'gamma': 0.01, 'idf': True, 'stop_words': 'english', 'ngram_range': (1, 1)}\"],\n [{\n            'v': 8,\n            'f': \"8\",\n        },\n{\n            'v': 0.415,\n            'f': \"0.415\",\n        },\n\"{'C': 0.01, 'gamma': 0.001, 'idf': True, 'stop_words': 'english', 'ngram_range': (1, 1)}\"],\n [{\n            'v': 164,\n            'f': \"164\",\n        },\n{\n            'v': 0.36875,\n            'f': \"0.36875\",\n        },\n\"{'C': 0.1, 'gamma': 1, 'idf': False, 'stop_words': 'english', 'ngram_range': (1, 1)}\"],\n [{\n            'v': 212,\n            'f': \"212\",\n        },\n{\n            'v': 0.36875,\n            'f': \"0.36875\",\n        },\n\"{'C': 0.1, 'gamma': 10, 'idf': False, 'stop_words': 'english', 'ngram_range': (1, 1)}\"],\n [{\n            'v': 68,\n            'f': \"68\",\n        },\n{\n            'v': 0.36875,\n            'f': \"0.36875\",\n        },\n\"{'C': 0.1, 'gamma': 0.01, 'idf': False, 'stop_words': 'english', 'ngram_range': (1, 1)}\"],\n [{\n            'v': 100,\n            'f': \"100\",\n        },\n{\n            'v': 0.36875,\n            'f': \"0.36875\",\n        },\n\"{'C': 0.001, 'gamma': 0.1, 'idf': False, 'stop_words': 'english', 'ngram_range': (1, 1)}\"],\n [{\n            'v': 132,\n            'f': \"132\",\n        },\n{\n            'v': 0.36875,\n            'f': \"0.36875\",\n        },\n\"{'C': 10, 'gamma': 0.1, 'idf': False, 'stop_words': 'english', 'ngram_range': (1, 1)}\"],\n [{\n            'v': 28,\n            'f': \"28\",\n        },\n{\n            'v': 0.36875,\n            'f': \"0.36875\",\n        },\n\"{'C': 1, 'gamma': 0.001, 'idf': False, 'stop_words': 'english', 'ngram_range': (1, 1)}\"],\n [{\n            'v': 52,\n            'f': \"52\",\n        },\n{\n            'v': 0.36875,\n            'f': \"0.36875\",\n        },\n\"{'C': 0.001, 'gamma': 0.01, 'idf': False, 'stop_words': 'english', 'ngram_range': (1, 1)}\"],\n [{\n            'v': 188,\n            'f': \"188\",\n        },\n{\n            'v': 0.36875,\n            'f': \"0.36875\",\n        },\n\"{'C': 100, 'gamma': 1, 'idf': False, 'stop_words': 'english', 'ngram_range': (1, 1)}\"],\n [{\n            'v': 108,\n            'f': \"108\",\n        },\n{\n            'v': 0.36875,\n            'f': \"0.36875\",\n        },\n\"{'C': 0.01, 'gamma': 0.1, 'idf': False, 'stop_words': 'english', 'ngram_range': (1, 1)}\"],\n [{\n            'v': 268,\n            'f': \"268\",\n        },\n{\n            'v': 0.36875,\n            'f': \"0.36875\",\n        },\n\"{'C': 1, 'gamma': 100, 'idf': False, 'stop_words': 'english', 'ngram_range': (1, 1)}\"],\n [{\n            'v': 180,\n            'f': \"180\",\n        },\n{\n            'v': 0.36875,\n            'f': \"0.36875\",\n        },\n\"{'C': 10, 'gamma': 1, 'idf': False, 'stop_words': 'english', 'ngram_range': (1, 1)}\"],\n [{\n            'v': 172,\n            'f': \"172\",\n        },\n{\n            'v': 0.36875,\n            'f': \"0.36875\",\n        },\n\"{'C': 1, 'gamma': 1, 'idf': False, 'stop_words': 'english', 'ngram_range': (1, 1)}\"],\n [{\n            'v': 116,\n            'f': \"116\",\n        },\n{\n            'v': 0.36875,\n            'f': \"0.36875\",\n        },\n\"{'C': 0.1, 'gamma': 0.1, 'idf': False, 'stop_words': 'english', 'ngram_range': (1, 1)}\"],\n [{\n            'v': 36,\n            'f': \"36\",\n        },\n{\n            'v': 0.36875,\n            'f': \"0.36875\",\n        },\n\"{'C': 10, 'gamma': 0.001, 'idf': False, 'stop_words': 'english', 'ngram_range': (1, 1)}\"],\n [{\n            'v': 156,\n            'f': \"156\",\n        },\n{\n            'v': 0.36875,\n            'f': \"0.36875\",\n        },\n\"{'C': 0.01, 'gamma': 1, 'idf': False, 'stop_words': 'english', 'ngram_range': (1, 1)}\"],\n [{\n            'v': 4,\n            'f': \"4\",\n        },\n{\n            'v': 0.36875,\n            'f': \"0.36875\",\n        },\n\"{'C': 0.001, 'gamma': 0.001, 'idf': False, 'stop_words': 'english', 'ngram_range': (1, 1)}\"],\n [{\n            'v': 124,\n            'f': \"124\",\n        },\n{\n            'v': 0.36875,\n            'f': \"0.36875\",\n        },\n\"{'C': 1, 'gamma': 0.1, 'idf': False, 'stop_words': 'english', 'ngram_range': (1, 1)}\"],\n [{\n            'v': 148,\n            'f': \"148\",\n        },\n{\n            'v': 0.36875,\n            'f': \"0.36875\",\n        },\n\"{'C': 0.001, 'gamma': 1, 'idf': False, 'stop_words': 'english', 'ngram_range': (1, 1)}\"],\n [{\n            'v': 140,\n            'f': \"140\",\n        },\n{\n            'v': 0.36875,\n            'f': \"0.36875\",\n        },\n\"{'C': 100, 'gamma': 0.1, 'idf': False, 'stop_words': 'english', 'ngram_range': (1, 1)}\"],\n [{\n            'v': 44,\n            'f': \"44\",\n        },\n{\n            'v': 0.36875,\n            'f': \"0.36875\",\n        },\n\"{'C': 100, 'gamma': 0.001, 'idf': False, 'stop_words': 'english', 'ngram_range': (1, 1)}\"],\n [{\n            'v': 276,\n            'f': \"276\",\n        },\n{\n            'v': 0.36875,\n            'f': \"0.36875\",\n        },\n\"{'C': 10, 'gamma': 100, 'idf': False, 'stop_words': 'english', 'ngram_range': (1, 1)}\"],\n [{\n            'v': 204,\n            'f': \"204\",\n        },\n{\n            'v': 0.36875,\n            'f': \"0.36875\",\n        },\n\"{'C': 0.01, 'gamma': 10, 'idf': False, 'stop_words': 'english', 'ngram_range': (1, 1)}\"],\n [{\n            'v': 196,\n            'f': \"196\",\n        },\n{\n            'v': 0.36875,\n            'f': \"0.36875\",\n        },\n\"{'C': 0.001, 'gamma': 10, 'idf': False, 'stop_words': 'english', 'ngram_range': (1, 1)}\"],\n [{\n            'v': 284,\n            'f': \"284\",\n        },\n{\n            'v': 0.36875,\n            'f': \"0.36875\",\n        },\n\"{'C': 100, 'gamma': 100, 'idf': False, 'stop_words': 'english', 'ngram_range': (1, 1)}\"],\n [{\n            'v': 20,\n            'f': \"20\",\n        },\n{\n            'v': 0.36875,\n            'f': \"0.36875\",\n        },\n\"{'C': 0.1, 'gamma': 0.001, 'idf': False, 'stop_words': 'english', 'ngram_range': (1, 1)}\"],\n [{\n            'v': 92,\n            'f': \"92\",\n        },\n{\n            'v': 0.36875,\n            'f': \"0.36875\",\n        },\n\"{'C': 100, 'gamma': 0.01, 'idf': False, 'stop_words': 'english', 'ngram_range': (1, 1)}\"],\n [{\n            'v': 220,\n            'f': \"220\",\n        },\n{\n            'v': 0.36875,\n            'f': \"0.36875\",\n        },\n\"{'C': 1, 'gamma': 10, 'idf': False, 'stop_words': 'english', 'ngram_range': (1, 1)}\"],\n [{\n            'v': 252,\n            'f': \"252\",\n        },\n{\n            'v': 0.36875,\n            'f': \"0.36875\",\n        },\n\"{'C': 0.01, 'gamma': 100, 'idf': False, 'stop_words': 'english', 'ngram_range': (1, 1)}\"],\n [{\n            'v': 76,\n            'f': \"76\",\n        },\n{\n            'v': 0.36875,\n            'f': \"0.36875\",\n        },\n\"{'C': 1, 'gamma': 0.01, 'idf': False, 'stop_words': 'english', 'ngram_range': (1, 1)}\"],\n [{\n            'v': 228,\n            'f': \"228\",\n        },\n{\n            'v': 0.36875,\n            'f': \"0.36875\",\n        },\n\"{'C': 10, 'gamma': 10, 'idf': False, 'stop_words': 'english', 'ngram_range': (1, 1)}\"],\n [{\n            'v': 236,\n            'f': \"236\",\n        },\n{\n            'v': 0.36875,\n            'f': \"0.36875\",\n        },\n\"{'C': 100, 'gamma': 10, 'idf': False, 'stop_words': 'english', 'ngram_range': (1, 1)}\"],\n [{\n            'v': 60,\n            'f': \"60\",\n        },\n{\n            'v': 0.36875,\n            'f': \"0.36875\",\n        },\n\"{'C': 0.01, 'gamma': 0.01, 'idf': False, 'stop_words': 'english', 'ngram_range': (1, 1)}\"],\n [{\n            'v': 244,\n            'f': \"244\",\n        },\n{\n            'v': 0.36875,\n            'f': \"0.36875\",\n        },\n\"{'C': 0.001, 'gamma': 100, 'idf': False, 'stop_words': 'english', 'ngram_range': (1, 1)}\"],\n [{\n            'v': 12,\n            'f': \"12\",\n        },\n{\n            'v': 0.36875,\n            'f': \"0.36875\",\n        },\n\"{'C': 0.01, 'gamma': 0.001, 'idf': False, 'stop_words': 'english', 'ngram_range': (1, 1)}\"],\n [{\n            'v': 84,\n            'f': \"84\",\n        },\n{\n            'v': 0.36875,\n            'f': \"0.36875\",\n        },\n\"{'C': 10, 'gamma': 0.01, 'idf': False, 'stop_words': 'english', 'ngram_range': (1, 1)}\"],\n [{\n            'v': 260,\n            'f': \"260\",\n        },\n{\n            'v': 0.36875,\n            'f': \"0.36875\",\n        },\n\"{'C': 0.1, 'gamma': 100, 'idf': False, 'stop_words': 'english', 'ngram_range': (1, 1)}\"],\n [{\n            'v': 149,\n            'f': \"149\",\n        },\n{\n            'v': 0.365,\n            'f': \"0.365\",\n        },\n\"{'C': 0.001, 'gamma': 1, 'idf': False, 'stop_words': 'english', 'ngram_range': (1, 2)}\"],\n [{\n            'v': 157,\n            'f': \"157\",\n        },\n{\n            'v': 0.365,\n            'f': \"0.365\",\n        },\n\"{'C': 0.01, 'gamma': 1, 'idf': False, 'stop_words': 'english', 'ngram_range': (1, 2)}\"],\n [{\n            'v': 213,\n            'f': \"213\",\n        },\n{\n            'v': 0.365,\n            'f': \"0.365\",\n        },\n\"{'C': 0.1, 'gamma': 10, 'idf': False, 'stop_words': 'english', 'ngram_range': (1, 2)}\"],\n [{\n            'v': 245,\n            'f': \"245\",\n        },\n{\n            'v': 0.365,\n            'f': \"0.365\",\n        },\n\"{'C': 0.001, 'gamma': 100, 'idf': False, 'stop_words': 'english', 'ngram_range': (1, 2)}\"],\n [{\n            'v': 13,\n            'f': \"13\",\n        },\n{\n            'v': 0.365,\n            'f': \"0.365\",\n        },\n\"{'C': 0.01, 'gamma': 0.001, 'idf': False, 'stop_words': 'english', 'ngram_range': (1, 2)}\"],\n [{\n            'v': 69,\n            'f': \"69\",\n        },\n{\n            'v': 0.365,\n            'f': \"0.365\",\n        },\n\"{'C': 0.1, 'gamma': 0.01, 'idf': False, 'stop_words': 'english', 'ngram_range': (1, 2)}\"],\n [{\n            'v': 141,\n            'f': \"141\",\n        },\n{\n            'v': 0.365,\n            'f': \"0.365\",\n        },\n\"{'C': 100, 'gamma': 0.1, 'idf': False, 'stop_words': 'english', 'ngram_range': (1, 2)}\"],\n [{\n            'v': 253,\n            'f': \"253\",\n        },\n{\n            'v': 0.365,\n            'f': \"0.365\",\n        },\n\"{'C': 0.01, 'gamma': 100, 'idf': False, 'stop_words': 'english', 'ngram_range': (1, 2)}\"],\n [{\n            'v': 5,\n            'f': \"5\",\n        },\n{\n            'v': 0.365,\n            'f': \"0.365\",\n        },\n\"{'C': 0.001, 'gamma': 0.001, 'idf': False, 'stop_words': 'english', 'ngram_range': (1, 2)}\"],\n [{\n            'v': 173,\n            'f': \"173\",\n        },\n{\n            'v': 0.365,\n            'f': \"0.365\",\n        },\n\"{'C': 1, 'gamma': 1, 'idf': False, 'stop_words': 'english', 'ngram_range': (1, 2)}\"],\n [{\n            'v': 61,\n            'f': \"61\",\n        },\n{\n            'v': 0.365,\n            'f': \"0.365\",\n        },\n\"{'C': 0.01, 'gamma': 0.01, 'idf': False, 'stop_words': 'english', 'ngram_range': (1, 2)}\"],\n [{\n            'v': 237,\n            'f': \"237\",\n        },\n{\n            'v': 0.365,\n            'f': \"0.365\",\n        },\n\"{'C': 100, 'gamma': 10, 'idf': False, 'stop_words': 'english', 'ngram_range': (1, 2)}\"],\n [{\n            'v': 165,\n            'f': \"165\",\n        },\n{\n            'v': 0.365,\n            'f': \"0.365\",\n        },\n\"{'C': 0.1, 'gamma': 1, 'idf': False, 'stop_words': 'english', 'ngram_range': (1, 2)}\"],\n [{\n            'v': 21,\n            'f': \"21\",\n        },\n{\n            'v': 0.365,\n            'f': \"0.365\",\n        },\n\"{'C': 0.1, 'gamma': 0.001, 'idf': False, 'stop_words': 'english', 'ngram_range': (1, 2)}\"],\n [{\n            'v': 269,\n            'f': \"269\",\n        },\n{\n            'v': 0.365,\n            'f': \"0.365\",\n        },\n\"{'C': 1, 'gamma': 100, 'idf': False, 'stop_words': 'english', 'ngram_range': (1, 2)}\"],\n [{\n            'v': 181,\n            'f': \"181\",\n        },\n{\n            'v': 0.365,\n            'f': \"0.365\",\n        },\n\"{'C': 10, 'gamma': 1, 'idf': False, 'stop_words': 'english', 'ngram_range': (1, 2)}\"],\n [{\n            'v': 261,\n            'f': \"261\",\n        },\n{\n            'v': 0.365,\n            'f': \"0.365\",\n        },\n\"{'C': 0.1, 'gamma': 100, 'idf': False, 'stop_words': 'english', 'ngram_range': (1, 2)}\"],\n [{\n            'v': 29,\n            'f': \"29\",\n        },\n{\n            'v': 0.365,\n            'f': \"0.365\",\n        },\n\"{'C': 1, 'gamma': 0.001, 'idf': False, 'stop_words': 'english', 'ngram_range': (1, 2)}\"],\n [{\n            'v': 229,\n            'f': \"229\",\n        },\n{\n            'v': 0.365,\n            'f': \"0.365\",\n        },\n\"{'C': 10, 'gamma': 10, 'idf': False, 'stop_words': 'english', 'ngram_range': (1, 2)}\"],\n [{\n            'v': 189,\n            'f': \"189\",\n        },\n{\n            'v': 0.365,\n            'f': \"0.365\",\n        },\n\"{'C': 100, 'gamma': 1, 'idf': False, 'stop_words': 'english', 'ngram_range': (1, 2)}\"],\n [{\n            'v': 221,\n            'f': \"221\",\n        },\n{\n            'v': 0.365,\n            'f': \"0.365\",\n        },\n\"{'C': 1, 'gamma': 10, 'idf': False, 'stop_words': 'english', 'ngram_range': (1, 2)}\"],\n [{\n            'v': 197,\n            'f': \"197\",\n        },\n{\n            'v': 0.365,\n            'f': \"0.365\",\n        },\n\"{'C': 0.001, 'gamma': 10, 'idf': False, 'stop_words': 'english', 'ngram_range': (1, 2)}\"],\n [{\n            'v': 205,\n            'f': \"205\",\n        },\n{\n            'v': 0.365,\n            'f': \"0.365\",\n        },\n\"{'C': 0.01, 'gamma': 10, 'idf': False, 'stop_words': 'english', 'ngram_range': (1, 2)}\"],\n [{\n            'v': 133,\n            'f': \"133\",\n        },\n{\n            'v': 0.365,\n            'f': \"0.365\",\n        },\n\"{'C': 10, 'gamma': 0.1, 'idf': False, 'stop_words': 'english', 'ngram_range': (1, 2)}\"],\n [{\n            'v': 37,\n            'f': \"37\",\n        },\n{\n            'v': 0.365,\n            'f': \"0.365\",\n        },\n\"{'C': 10, 'gamma': 0.001, 'idf': False, 'stop_words': 'english', 'ngram_range': (1, 2)}\"],\n [{\n            'v': 85,\n            'f': \"85\",\n        },\n{\n            'v': 0.365,\n            'f': \"0.365\",\n        },\n\"{'C': 10, 'gamma': 0.01, 'idf': False, 'stop_words': 'english', 'ngram_range': (1, 2)}\"],\n [{\n            'v': 77,\n            'f': \"77\",\n        },\n{\n            'v': 0.365,\n            'f': \"0.365\",\n        },\n\"{'C': 1, 'gamma': 0.01, 'idf': False, 'stop_words': 'english', 'ngram_range': (1, 2)}\"],\n [{\n            'v': 93,\n            'f': \"93\",\n        },\n{\n            'v': 0.365,\n            'f': \"0.365\",\n        },\n\"{'C': 100, 'gamma': 0.01, 'idf': False, 'stop_words': 'english', 'ngram_range': (1, 2)}\"],\n [{\n            'v': 101,\n            'f': \"101\",\n        },\n{\n            'v': 0.365,\n            'f': \"0.365\",\n        },\n\"{'C': 0.001, 'gamma': 0.1, 'idf': False, 'stop_words': 'english', 'ngram_range': (1, 2)}\"],\n [{\n            'v': 117,\n            'f': \"117\",\n        },\n{\n            'v': 0.365,\n            'f': \"0.365\",\n        },\n\"{'C': 0.1, 'gamma': 0.1, 'idf': False, 'stop_words': 'english', 'ngram_range': (1, 2)}\"],\n [{\n            'v': 53,\n            'f': \"53\",\n        },\n{\n            'v': 0.365,\n            'f': \"0.365\",\n        },\n\"{'C': 0.001, 'gamma': 0.01, 'idf': False, 'stop_words': 'english', 'ngram_range': (1, 2)}\"],\n [{\n            'v': 285,\n            'f': \"285\",\n        },\n{\n            'v': 0.365,\n            'f': \"0.365\",\n        },\n\"{'C': 100, 'gamma': 100, 'idf': False, 'stop_words': 'english', 'ngram_range': (1, 2)}\"],\n [{\n            'v': 125,\n            'f': \"125\",\n        },\n{\n            'v': 0.365,\n            'f': \"0.365\",\n        },\n\"{'C': 1, 'gamma': 0.1, 'idf': False, 'stop_words': 'english', 'ngram_range': (1, 2)}\"],\n [{\n            'v': 109,\n            'f': \"109\",\n        },\n{\n            'v': 0.365,\n            'f': \"0.365\",\n        },\n\"{'C': 0.01, 'gamma': 0.1, 'idf': False, 'stop_words': 'english', 'ngram_range': (1, 2)}\"],\n [{\n            'v': 277,\n            'f': \"277\",\n        },\n{\n            'v': 0.365,\n            'f': \"0.365\",\n        },\n\"{'C': 10, 'gamma': 100, 'idf': False, 'stop_words': 'english', 'ngram_range': (1, 2)}\"],\n [{\n            'v': 45,\n            'f': \"45\",\n        },\n{\n            'v': 0.365,\n            'f': \"0.365\",\n        },\n\"{'C': 100, 'gamma': 0.001, 'idf': False, 'stop_words': 'english', 'ngram_range': (1, 2)}\"],\n [{\n            'v': 162,\n            'f': \"162\",\n        },\n{\n            'v': 0.2425,\n            'f': \"0.2425\",\n        },\n\"{'C': 0.1, 'gamma': 1, 'idf': True, 'stop_words': None, 'ngram_range': (1, 1)}\"],\n [{\n            'v': 266,\n            'f': \"266\",\n        },\n{\n            'v': 0.2425,\n            'f': \"0.2425\",\n        },\n\"{'C': 1, 'gamma': 100, 'idf': True, 'stop_words': None, 'ngram_range': (1, 1)}\"],\n [{\n            'v': 226,\n            'f': \"226\",\n        },\n{\n            'v': 0.2425,\n            'f': \"0.2425\",\n        },\n\"{'C': 10, 'gamma': 10, 'idf': True, 'stop_words': None, 'ngram_range': (1, 1)}\"],\n [{\n            'v': 18,\n            'f': \"18\",\n        },\n{\n            'v': 0.2425,\n            'f': \"0.2425\",\n        },\n\"{'C': 0.1, 'gamma': 0.001, 'idf': True, 'stop_words': None, 'ngram_range': (1, 1)}\"],\n [{\n            'v': 106,\n            'f': \"106\",\n        },\n{\n            'v': 0.2425,\n            'f': \"0.2425\",\n        },\n\"{'C': 0.01, 'gamma': 0.1, 'idf': True, 'stop_words': None, 'ngram_range': (1, 1)}\"],\n [{\n            'v': 34,\n            'f': \"34\",\n        },\n{\n            'v': 0.2425,\n            'f': \"0.2425\",\n        },\n\"{'C': 10, 'gamma': 0.001, 'idf': True, 'stop_words': None, 'ngram_range': (1, 1)}\"],\n [{\n            'v': 170,\n            'f': \"170\",\n        },\n{\n            'v': 0.2425,\n            'f': \"0.2425\",\n        },\n\"{'C': 1, 'gamma': 1, 'idf': True, 'stop_words': None, 'ngram_range': (1, 1)}\"],\n [{\n            'v': 114,\n            'f': \"114\",\n        },\n{\n            'v': 0.2425,\n            'f': \"0.2425\",\n        },\n\"{'C': 0.1, 'gamma': 0.1, 'idf': True, 'stop_words': None, 'ngram_range': (1, 1)}\"],\n [{\n            'v': 50,\n            'f': \"50\",\n        },\n{\n            'v': 0.2425,\n            'f': \"0.2425\",\n        },\n\"{'C': 0.001, 'gamma': 0.01, 'idf': True, 'stop_words': None, 'ngram_range': (1, 1)}\"],\n [{\n            'v': 90,\n            'f': \"90\",\n        },\n{\n            'v': 0.2425,\n            'f': \"0.2425\",\n        },\n\"{'C': 100, 'gamma': 0.01, 'idf': True, 'stop_words': None, 'ngram_range': (1, 1)}\"],\n [{\n            'v': 218,\n            'f': \"218\",\n        },\n{\n            'v': 0.2425,\n            'f': \"0.2425\",\n        },\n\"{'C': 1, 'gamma': 10, 'idf': True, 'stop_words': None, 'ngram_range': (1, 1)}\"],\n [{\n            'v': 66,\n            'f': \"66\",\n        },\n{\n            'v': 0.2425,\n            'f': \"0.2425\",\n        },\n\"{'C': 0.1, 'gamma': 0.01, 'idf': True, 'stop_words': None, 'ngram_range': (1, 1)}\"],\n [{\n            'v': 130,\n            'f': \"130\",\n        },\n{\n            'v': 0.2425,\n            'f': \"0.2425\",\n        },\n\"{'C': 10, 'gamma': 0.1, 'idf': True, 'stop_words': None, 'ngram_range': (1, 1)}\"],\n [{\n            'v': 178,\n            'f': \"178\",\n        },\n{\n            'v': 0.2425,\n            'f': \"0.2425\",\n        },\n\"{'C': 10, 'gamma': 1, 'idf': True, 'stop_words': None, 'ngram_range': (1, 1)}\"],\n [{\n            'v': 186,\n            'f': \"186\",\n        },\n{\n            'v': 0.2425,\n            'f': \"0.2425\",\n        },\n\"{'C': 100, 'gamma': 1, 'idf': True, 'stop_words': None, 'ngram_range': (1, 1)}\"],\n [{\n            'v': 282,\n            'f': \"282\",\n        },\n{\n            'v': 0.2425,\n            'f': \"0.2425\",\n        },\n\"{'C': 100, 'gamma': 100, 'idf': True, 'stop_words': None, 'ngram_range': (1, 1)}\"],\n [{\n            'v': 210,\n            'f': \"210\",\n        },\n{\n            'v': 0.2425,\n            'f': \"0.2425\",\n        },\n\"{'C': 0.1, 'gamma': 10, 'idf': True, 'stop_words': None, 'ngram_range': (1, 1)}\"],\n [{\n            'v': 258,\n            'f': \"258\",\n        },\n{\n            'v': 0.2425,\n            'f': \"0.2425\",\n        },\n\"{'C': 0.1, 'gamma': 100, 'idf': True, 'stop_words': None, 'ngram_range': (1, 1)}\"],\n [{\n            'v': 58,\n            'f': \"58\",\n        },\n{\n            'v': 0.2425,\n            'f': \"0.2425\",\n        },\n\"{'C': 0.01, 'gamma': 0.01, 'idf': True, 'stop_words': None, 'ngram_range': (1, 1)}\"],\n [{\n            'v': 138,\n            'f': \"138\",\n        },\n{\n            'v': 0.2425,\n            'f': \"0.2425\",\n        },\n\"{'C': 100, 'gamma': 0.1, 'idf': True, 'stop_words': None, 'ngram_range': (1, 1)}\"],\n [{\n            'v': 10,\n            'f': \"10\",\n        },\n{\n            'v': 0.2425,\n            'f': \"0.2425\",\n        },\n\"{'C': 0.01, 'gamma': 0.001, 'idf': True, 'stop_words': None, 'ngram_range': (1, 1)}\"],\n [{\n            'v': 42,\n            'f': \"42\",\n        },\n{\n            'v': 0.2425,\n            'f': \"0.2425\",\n        },\n\"{'C': 100, 'gamma': 0.001, 'idf': True, 'stop_words': None, 'ngram_range': (1, 1)}\"],\n [{\n            'v': 26,\n            'f': \"26\",\n        },\n{\n            'v': 0.2425,\n            'f': \"0.2425\",\n        },\n\"{'C': 1, 'gamma': 0.001, 'idf': True, 'stop_words': None, 'ngram_range': (1, 1)}\"],\n [{\n            'v': 146,\n            'f': \"146\",\n        },\n{\n            'v': 0.2425,\n            'f': \"0.2425\",\n        },\n\"{'C': 0.001, 'gamma': 1, 'idf': True, 'stop_words': None, 'ngram_range': (1, 1)}\"],\n [{\n            'v': 202,\n            'f': \"202\",\n        },\n{\n            'v': 0.2425,\n            'f': \"0.2425\",\n        },\n\"{'C': 0.01, 'gamma': 10, 'idf': True, 'stop_words': None, 'ngram_range': (1, 1)}\"],\n [{\n            'v': 250,\n            'f': \"250\",\n        },\n{\n            'v': 0.2425,\n            'f': \"0.2425\",\n        },\n\"{'C': 0.01, 'gamma': 100, 'idf': True, 'stop_words': None, 'ngram_range': (1, 1)}\"],\n [{\n            'v': 74,\n            'f': \"74\",\n        },\n{\n            'v': 0.2425,\n            'f': \"0.2425\",\n        },\n\"{'C': 1, 'gamma': 0.01, 'idf': True, 'stop_words': None, 'ngram_range': (1, 1)}\"],\n [{\n            'v': 242,\n            'f': \"242\",\n        },\n{\n            'v': 0.2425,\n            'f': \"0.2425\",\n        },\n\"{'C': 0.001, 'gamma': 100, 'idf': True, 'stop_words': None, 'ngram_range': (1, 1)}\"],\n [{\n            'v': 274,\n            'f': \"274\",\n        },\n{\n            'v': 0.2425,\n            'f': \"0.2425\",\n        },\n\"{'C': 10, 'gamma': 100, 'idf': True, 'stop_words': None, 'ngram_range': (1, 1)}\"],\n [{\n            'v': 122,\n            'f': \"122\",\n        },\n{\n            'v': 0.2425,\n            'f': \"0.2425\",\n        },\n\"{'C': 1, 'gamma': 0.1, 'idf': True, 'stop_words': None, 'ngram_range': (1, 1)}\"],\n [{\n            'v': 2,\n            'f': \"2\",\n        },\n{\n            'v': 0.2425,\n            'f': \"0.2425\",\n        },\n\"{'C': 0.001, 'gamma': 0.001, 'idf': True, 'stop_words': None, 'ngram_range': (1, 1)}\"],\n [{\n            'v': 154,\n            'f': \"154\",\n        },\n{\n            'v': 0.2425,\n            'f': \"0.2425\",\n        },\n\"{'C': 0.01, 'gamma': 1, 'idf': True, 'stop_words': None, 'ngram_range': (1, 1)}\"],\n [{\n            'v': 98,\n            'f': \"98\",\n        },\n{\n            'v': 0.2425,\n            'f': \"0.2425\",\n        },\n\"{'C': 0.001, 'gamma': 0.1, 'idf': True, 'stop_words': None, 'ngram_range': (1, 1)}\"],\n [{\n            'v': 82,\n            'f': \"82\",\n        },\n{\n            'v': 0.2425,\n            'f': \"0.2425\",\n        },\n\"{'C': 10, 'gamma': 0.01, 'idf': True, 'stop_words': None, 'ngram_range': (1, 1)}\"],\n [{\n            'v': 234,\n            'f': \"234\",\n        },\n{\n            'v': 0.2425,\n            'f': \"0.2425\",\n        },\n\"{'C': 100, 'gamma': 10, 'idf': True, 'stop_words': None, 'ngram_range': (1, 1)}\"],\n [{\n            'v': 194,\n            'f': \"194\",\n        },\n{\n            'v': 0.2425,\n            'f': \"0.2425\",\n        },\n\"{'C': 0.001, 'gamma': 10, 'idf': True, 'stop_words': None, 'ngram_range': (1, 1)}\"],\n [{\n            'v': 206,\n            'f': \"206\",\n        },\n{\n            'v': 0.20625,\n            'f': \"0.20625\",\n        },\n\"{'C': 0.01, 'gamma': 10, 'idf': False, 'stop_words': None, 'ngram_range': (1, 1)}\"],\n [{\n            'v': 6,\n            'f': \"6\",\n        },\n{\n            'v': 0.20625,\n            'f': \"0.20625\",\n        },\n\"{'C': 0.001, 'gamma': 0.001, 'idf': False, 'stop_words': None, 'ngram_range': (1, 1)}\"],\n [{\n            'v': 22,\n            'f': \"22\",\n        },\n{\n            'v': 0.20625,\n            'f': \"0.20625\",\n        },\n\"{'C': 0.1, 'gamma': 0.001, 'idf': False, 'stop_words': None, 'ngram_range': (1, 1)}\"],\n [{\n            'v': 54,\n            'f': \"54\",\n        },\n{\n            'v': 0.20625,\n            'f': \"0.20625\",\n        },\n\"{'C': 0.001, 'gamma': 0.01, 'idf': False, 'stop_words': None, 'ngram_range': (1, 1)}\"],\n [{\n            'v': 286,\n            'f': \"286\",\n        },\n{\n            'v': 0.20625,\n            'f': \"0.20625\",\n        },\n\"{'C': 100, 'gamma': 100, 'idf': False, 'stop_words': None, 'ngram_range': (1, 1)}\"],\n [{\n            'v': 214,\n            'f': \"214\",\n        },\n{\n            'v': 0.20625,\n            'f': \"0.20625\",\n        },\n\"{'C': 0.1, 'gamma': 10, 'idf': False, 'stop_words': None, 'ngram_range': (1, 1)}\"],\n [{\n            'v': 94,\n            'f': \"94\",\n        },\n{\n            'v': 0.20625,\n            'f': \"0.20625\",\n        },\n\"{'C': 100, 'gamma': 0.01, 'idf': False, 'stop_words': None, 'ngram_range': (1, 1)}\"],\n [{\n            'v': 222,\n            'f': \"222\",\n        },\n{\n            'v': 0.20625,\n            'f': \"0.20625\",\n        },\n\"{'C': 1, 'gamma': 10, 'idf': False, 'stop_words': None, 'ngram_range': (1, 1)}\"],\n [{\n            'v': 262,\n            'f': \"262\",\n        },\n{\n            'v': 0.20625,\n            'f': \"0.20625\",\n        },\n\"{'C': 0.1, 'gamma': 100, 'idf': False, 'stop_words': None, 'ngram_range': (1, 1)}\"],\n [{\n            'v': 230,\n            'f': \"230\",\n        },\n{\n            'v': 0.20625,\n            'f': \"0.20625\",\n        },\n\"{'C': 10, 'gamma': 10, 'idf': False, 'stop_words': None, 'ngram_range': (1, 1)}\"],\n [{\n            'v': 86,\n            'f': \"86\",\n        },\n{\n            'v': 0.20625,\n            'f': \"0.20625\",\n        },\n\"{'C': 10, 'gamma': 0.01, 'idf': False, 'stop_words': None, 'ngram_range': (1, 1)}\"],\n [{\n            'v': 238,\n            'f': \"238\",\n        },\n{\n            'v': 0.20625,\n            'f': \"0.20625\",\n        },\n\"{'C': 100, 'gamma': 10, 'idf': False, 'stop_words': None, 'ngram_range': (1, 1)}\"],\n [{\n            'v': 14,\n            'f': \"14\",\n        },\n{\n            'v': 0.20625,\n            'f': \"0.20625\",\n        },\n\"{'C': 0.01, 'gamma': 0.001, 'idf': False, 'stop_words': None, 'ngram_range': (1, 1)}\"],\n [{\n            'v': 78,\n            'f': \"78\",\n        },\n{\n            'v': 0.20625,\n            'f': \"0.20625\",\n        },\n\"{'C': 1, 'gamma': 0.01, 'idf': False, 'stop_words': None, 'ngram_range': (1, 1)}\"],\n [{\n            'v': 246,\n            'f': \"246\",\n        },\n{\n            'v': 0.20625,\n            'f': \"0.20625\",\n        },\n\"{'C': 0.001, 'gamma': 100, 'idf': False, 'stop_words': None, 'ngram_range': (1, 1)}\"],\n [{\n            'v': 254,\n            'f': \"254\",\n        },\n{\n            'v': 0.20625,\n            'f': \"0.20625\",\n        },\n\"{'C': 0.01, 'gamma': 100, 'idf': False, 'stop_words': None, 'ngram_range': (1, 1)}\"],\n [{\n            'v': 198,\n            'f': \"198\",\n        },\n{\n            'v': 0.20625,\n            'f': \"0.20625\",\n        },\n\"{'C': 0.001, 'gamma': 10, 'idf': False, 'stop_words': None, 'ngram_range': (1, 1)}\"],\n [{\n            'v': 62,\n            'f': \"62\",\n        },\n{\n            'v': 0.20625,\n            'f': \"0.20625\",\n        },\n\"{'C': 0.01, 'gamma': 0.01, 'idf': False, 'stop_words': None, 'ngram_range': (1, 1)}\"],\n [{\n            'v': 102,\n            'f': \"102\",\n        },\n{\n            'v': 0.20625,\n            'f': \"0.20625\",\n        },\n\"{'C': 0.001, 'gamma': 0.1, 'idf': False, 'stop_words': None, 'ngram_range': (1, 1)}\"],\n [{\n            'v': 182,\n            'f': \"182\",\n        },\n{\n            'v': 0.20625,\n            'f': \"0.20625\",\n        },\n\"{'C': 10, 'gamma': 1, 'idf': False, 'stop_words': None, 'ngram_range': (1, 1)}\"],\n [{\n            'v': 158,\n            'f': \"158\",\n        },\n{\n            'v': 0.20625,\n            'f': \"0.20625\",\n        },\n\"{'C': 0.01, 'gamma': 1, 'idf': False, 'stop_words': None, 'ngram_range': (1, 1)}\"],\n [{\n            'v': 70,\n            'f': \"70\",\n        },\n{\n            'v': 0.20625,\n            'f': \"0.20625\",\n        },\n\"{'C': 0.1, 'gamma': 0.01, 'idf': False, 'stop_words': None, 'ngram_range': (1, 1)}\"],\n [{\n            'v': 166,\n            'f': \"166\",\n        },\n{\n            'v': 0.20625,\n            'f': \"0.20625\",\n        },\n\"{'C': 0.1, 'gamma': 1, 'idf': False, 'stop_words': None, 'ngram_range': (1, 1)}\"],\n [{\n            'v': 278,\n            'f': \"278\",\n        },\n{\n            'v': 0.20625,\n            'f': \"0.20625\",\n        },\n\"{'C': 10, 'gamma': 100, 'idf': False, 'stop_words': None, 'ngram_range': (1, 1)}\"],\n [{\n            'v': 174,\n            'f': \"174\",\n        },\n{\n            'v': 0.20625,\n            'f': \"0.20625\",\n        },\n\"{'C': 1, 'gamma': 1, 'idf': False, 'stop_words': None, 'ngram_range': (1, 1)}\"],\n [{\n            'v': 38,\n            'f': \"38\",\n        },\n{\n            'v': 0.20625,\n            'f': \"0.20625\",\n        },\n\"{'C': 10, 'gamma': 0.001, 'idf': False, 'stop_words': None, 'ngram_range': (1, 1)}\"],\n [{\n            'v': 270,\n            'f': \"270\",\n        },\n{\n            'v': 0.20625,\n            'f': \"0.20625\",\n        },\n\"{'C': 1, 'gamma': 100, 'idf': False, 'stop_words': None, 'ngram_range': (1, 1)}\"],\n [{\n            'v': 150,\n            'f': \"150\",\n        },\n{\n            'v': 0.20625,\n            'f': \"0.20625\",\n        },\n\"{'C': 0.001, 'gamma': 1, 'idf': False, 'stop_words': None, 'ngram_range': (1, 1)}\"],\n [{\n            'v': 126,\n            'f': \"126\",\n        },\n{\n            'v': 0.20625,\n            'f': \"0.20625\",\n        },\n\"{'C': 1, 'gamma': 0.1, 'idf': False, 'stop_words': None, 'ngram_range': (1, 1)}\"],\n [{\n            'v': 110,\n            'f': \"110\",\n        },\n{\n            'v': 0.20625,\n            'f': \"0.20625\",\n        },\n\"{'C': 0.01, 'gamma': 0.1, 'idf': False, 'stop_words': None, 'ngram_range': (1, 1)}\"],\n [{\n            'v': 118,\n            'f': \"118\",\n        },\n{\n            'v': 0.20625,\n            'f': \"0.20625\",\n        },\n\"{'C': 0.1, 'gamma': 0.1, 'idf': False, 'stop_words': None, 'ngram_range': (1, 1)}\"],\n [{\n            'v': 142,\n            'f': \"142\",\n        },\n{\n            'v': 0.20625,\n            'f': \"0.20625\",\n        },\n\"{'C': 100, 'gamma': 0.1, 'idf': False, 'stop_words': None, 'ngram_range': (1, 1)}\"],\n [{\n            'v': 134,\n            'f': \"134\",\n        },\n{\n            'v': 0.20625,\n            'f': \"0.20625\",\n        },\n\"{'C': 10, 'gamma': 0.1, 'idf': False, 'stop_words': None, 'ngram_range': (1, 1)}\"],\n [{\n            'v': 46,\n            'f': \"46\",\n        },\n{\n            'v': 0.20625,\n            'f': \"0.20625\",\n        },\n\"{'C': 100, 'gamma': 0.001, 'idf': False, 'stop_words': None, 'ngram_range': (1, 1)}\"],\n [{\n            'v': 190,\n            'f': \"190\",\n        },\n{\n            'v': 0.20625,\n            'f': \"0.20625\",\n        },\n\"{'C': 100, 'gamma': 1, 'idf': False, 'stop_words': None, 'ngram_range': (1, 1)}\"],\n [{\n            'v': 30,\n            'f': \"30\",\n        },\n{\n            'v': 0.20625,\n            'f': \"0.20625\",\n        },\n\"{'C': 1, 'gamma': 0.001, 'idf': False, 'stop_words': None, 'ngram_range': (1, 1)}\"],\n [{\n            'v': 275,\n            'f': \"275\",\n        },\n{\n            'v': 0.205,\n            'f': \"0.205\",\n        },\n\"{'C': 10, 'gamma': 100, 'idf': True, 'stop_words': None, 'ngram_range': (1, 2)}\"],\n [{\n            'v': 155,\n            'f': \"155\",\n        },\n{\n            'v': 0.205,\n            'f': \"0.205\",\n        },\n\"{'C': 0.01, 'gamma': 1, 'idf': True, 'stop_words': None, 'ngram_range': (1, 2)}\"],\n [{\n            'v': 43,\n            'f': \"43\",\n        },\n{\n            'v': 0.205,\n            'f': \"0.205\",\n        },\n\"{'C': 100, 'gamma': 0.001, 'idf': True, 'stop_words': None, 'ngram_range': (1, 2)}\"],\n [{\n            'v': 235,\n            'f': \"235\",\n        },\n{\n            'v': 0.205,\n            'f': \"0.205\",\n        },\n\"{'C': 100, 'gamma': 10, 'idf': True, 'stop_words': None, 'ngram_range': (1, 2)}\"],\n [{\n            'v': 139,\n            'f': \"139\",\n        },\n{\n            'v': 0.205,\n            'f': \"0.205\",\n        },\n\"{'C': 100, 'gamma': 0.1, 'idf': True, 'stop_words': None, 'ngram_range': (1, 2)}\"],\n [{\n            'v': 83,\n            'f': \"83\",\n        },\n{\n            'v': 0.205,\n            'f': \"0.205\",\n        },\n\"{'C': 10, 'gamma': 0.01, 'idf': True, 'stop_words': None, 'ngram_range': (1, 2)}\"],\n [{\n            'v': 75,\n            'f': \"75\",\n        },\n{\n            'v': 0.205,\n            'f': \"0.205\",\n        },\n\"{'C': 1, 'gamma': 0.01, 'idf': True, 'stop_words': None, 'ngram_range': (1, 2)}\"],\n [{\n            'v': 251,\n            'f': \"251\",\n        },\n{\n            'v': 0.205,\n            'f': \"0.205\",\n        },\n\"{'C': 0.01, 'gamma': 100, 'idf': True, 'stop_words': None, 'ngram_range': (1, 2)}\"],\n [{\n            'v': 259,\n            'f': \"259\",\n        },\n{\n            'v': 0.205,\n            'f': \"0.205\",\n        },\n\"{'C': 0.1, 'gamma': 100, 'idf': True, 'stop_words': None, 'ngram_range': (1, 2)}\"],\n [{\n            'v': 59,\n            'f': \"59\",\n        },\n{\n            'v': 0.205,\n            'f': \"0.205\",\n        },\n\"{'C': 0.01, 'gamma': 0.01, 'idf': True, 'stop_words': None, 'ngram_range': (1, 2)}\"],\n [{\n            'v': 11,\n            'f': \"11\",\n        },\n{\n            'v': 0.205,\n            'f': \"0.205\",\n        },\n\"{'C': 0.01, 'gamma': 0.001, 'idf': True, 'stop_words': None, 'ngram_range': (1, 2)}\"],\n [{\n            'v': 243,\n            'f': \"243\",\n        },\n{\n            'v': 0.205,\n            'f': \"0.205\",\n        },\n\"{'C': 0.001, 'gamma': 100, 'idf': True, 'stop_words': None, 'ngram_range': (1, 2)}\"],\n [{\n            'v': 123,\n            'f': \"123\",\n        },\n{\n            'v': 0.205,\n            'f': \"0.205\",\n        },\n\"{'C': 1, 'gamma': 0.1, 'idf': True, 'stop_words': None, 'ngram_range': (1, 2)}\"],\n [{\n            'v': 67,\n            'f': \"67\",\n        },\n{\n            'v': 0.205,\n            'f': \"0.205\",\n        },\n\"{'C': 0.1, 'gamma': 0.01, 'idf': True, 'stop_words': None, 'ngram_range': (1, 2)}\"],\n [{\n            'v': 147,\n            'f': \"147\",\n        },\n{\n            'v': 0.205,\n            'f': \"0.205\",\n        },\n\"{'C': 0.001, 'gamma': 1, 'idf': True, 'stop_words': None, 'ngram_range': (1, 2)}\"],\n [{\n            'v': 227,\n            'f': \"227\",\n        },\n{\n            'v': 0.205,\n            'f': \"0.205\",\n        },\n\"{'C': 10, 'gamma': 10, 'idf': True, 'stop_words': None, 'ngram_range': (1, 2)}\"],\n [{\n            'v': 131,\n            'f': \"131\",\n        },\n{\n            'v': 0.205,\n            'f': \"0.205\",\n        },\n\"{'C': 10, 'gamma': 0.1, 'idf': True, 'stop_words': None, 'ngram_range': (1, 2)}\"],\n [{\n            'v': 203,\n            'f': \"203\",\n        },\n{\n            'v': 0.205,\n            'f': \"0.205\",\n        },\n\"{'C': 0.01, 'gamma': 10, 'idf': True, 'stop_words': None, 'ngram_range': (1, 2)}\"],\n [{\n            'v': 187,\n            'f': \"187\",\n        },\n{\n            'v': 0.205,\n            'f': \"0.205\",\n        },\n\"{'C': 100, 'gamma': 1, 'idf': True, 'stop_words': None, 'ngram_range': (1, 2)}\"],\n [{\n            'v': 107,\n            'f': \"107\",\n        },\n{\n            'v': 0.205,\n            'f': \"0.205\",\n        },\n\"{'C': 0.01, 'gamma': 0.1, 'idf': True, 'stop_words': None, 'ngram_range': (1, 2)}\"],\n [{\n            'v': 27,\n            'f': \"27\",\n        },\n{\n            'v': 0.205,\n            'f': \"0.205\",\n        },\n\"{'C': 1, 'gamma': 0.001, 'idf': True, 'stop_words': None, 'ngram_range': (1, 2)}\"],\n [{\n            'v': 211,\n            'f': \"211\",\n        },\n{\n            'v': 0.205,\n            'f': \"0.205\",\n        },\n\"{'C': 0.1, 'gamma': 10, 'idf': True, 'stop_words': None, 'ngram_range': (1, 2)}\"],\n [{\n            'v': 283,\n            'f': \"283\",\n        },\n{\n            'v': 0.205,\n            'f': \"0.205\",\n        },\n\"{'C': 100, 'gamma': 100, 'idf': True, 'stop_words': None, 'ngram_range': (1, 2)}\"],\n [{\n            'v': 3,\n            'f': \"3\",\n        },\n{\n            'v': 0.205,\n            'f': \"0.205\",\n        },\n\"{'C': 0.001, 'gamma': 0.001, 'idf': True, 'stop_words': None, 'ngram_range': (1, 2)}\"],\n [{\n            'v': 163,\n            'f': \"163\",\n        },\n{\n            'v': 0.205,\n            'f': \"0.205\",\n        },\n\"{'C': 0.1, 'gamma': 1, 'idf': True, 'stop_words': None, 'ngram_range': (1, 2)}\"],\n [{\n            'v': 179,\n            'f': \"179\",\n        },\n{\n            'v': 0.205,\n            'f': \"0.205\",\n        },\n\"{'C': 10, 'gamma': 1, 'idf': True, 'stop_words': None, 'ngram_range': (1, 2)}\"],\n [{\n            'v': 51,\n            'f': \"51\",\n        },\n{\n            'v': 0.205,\n            'f': \"0.205\",\n        },\n\"{'C': 0.001, 'gamma': 0.01, 'idf': True, 'stop_words': None, 'ngram_range': (1, 2)}\"],\n [{\n            'v': 219,\n            'f': \"219\",\n        },\n{\n            'v': 0.205,\n            'f': \"0.205\",\n        },\n\"{'C': 1, 'gamma': 10, 'idf': True, 'stop_words': None, 'ngram_range': (1, 2)}\"],\n [{\n            'v': 91,\n            'f': \"91\",\n        },\n{\n            'v': 0.205,\n            'f': \"0.205\",\n        },\n\"{'C': 100, 'gamma': 0.01, 'idf': True, 'stop_words': None, 'ngram_range': (1, 2)}\"],\n [{\n            'v': 171,\n            'f': \"171\",\n        },\n{\n            'v': 0.205,\n            'f': \"0.205\",\n        },\n\"{'C': 1, 'gamma': 1, 'idf': True, 'stop_words': None, 'ngram_range': (1, 2)}\"],\n [{\n            'v': 35,\n            'f': \"35\",\n        },\n{\n            'v': 0.205,\n            'f': \"0.205\",\n        },\n\"{'C': 10, 'gamma': 0.001, 'idf': True, 'stop_words': None, 'ngram_range': (1, 2)}\"],\n [{\n            'v': 19,\n            'f': \"19\",\n        },\n{\n            'v': 0.205,\n            'f': \"0.205\",\n        },\n\"{'C': 0.1, 'gamma': 0.001, 'idf': True, 'stop_words': None, 'ngram_range': (1, 2)}\"],\n [{\n            'v': 99,\n            'f': \"99\",\n        },\n{\n            'v': 0.205,\n            'f': \"0.205\",\n        },\n\"{'C': 0.001, 'gamma': 0.1, 'idf': True, 'stop_words': None, 'ngram_range': (1, 2)}\"],\n [{\n            'v': 195,\n            'f': \"195\",\n        },\n{\n            'v': 0.205,\n            'f': \"0.205\",\n        },\n\"{'C': 0.001, 'gamma': 10, 'idf': True, 'stop_words': None, 'ngram_range': (1, 2)}\"],\n [{\n            'v': 115,\n            'f': \"115\",\n        },\n{\n            'v': 0.205,\n            'f': \"0.205\",\n        },\n\"{'C': 0.1, 'gamma': 0.1, 'idf': True, 'stop_words': None, 'ngram_range': (1, 2)}\"],\n [{\n            'v': 267,\n            'f': \"267\",\n        },\n{\n            'v': 0.205,\n            'f': \"0.205\",\n        },\n\"{'C': 1, 'gamma': 100, 'idf': True, 'stop_words': None, 'ngram_range': (1, 2)}\"],\n [{\n            'v': 279,\n            'f': \"279\",\n        },\n{\n            'v': 0.20125,\n            'f': \"0.20125\",\n        },\n\"{'C': 10, 'gamma': 100, 'idf': False, 'stop_words': None, 'ngram_range': (1, 2)}\"],\n [{\n            'v': 7,\n            'f': \"7\",\n        },\n{\n            'v': 0.20125,\n            'f': \"0.20125\",\n        },\n\"{'C': 0.001, 'gamma': 0.001, 'idf': False, 'stop_words': None, 'ngram_range': (1, 2)}\"],\n [{\n            'v': 271,\n            'f': \"271\",\n        },\n{\n            'v': 0.20125,\n            'f': \"0.20125\",\n        },\n\"{'C': 1, 'gamma': 100, 'idf': False, 'stop_words': None, 'ngram_range': (1, 2)}\"],\n [{\n            'v': 263,\n            'f': \"263\",\n        },\n{\n            'v': 0.20125,\n            'f': \"0.20125\",\n        },\n\"{'C': 0.1, 'gamma': 100, 'idf': False, 'stop_words': None, 'ngram_range': (1, 2)}\"],\n [{\n            'v': 63,\n            'f': \"63\",\n        },\n{\n            'v': 0.20125,\n            'f': \"0.20125\",\n        },\n\"{'C': 0.01, 'gamma': 0.01, 'idf': False, 'stop_words': None, 'ngram_range': (1, 2)}\"],\n [{\n            'v': 255,\n            'f': \"255\",\n        },\n{\n            'v': 0.20125,\n            'f': \"0.20125\",\n        },\n\"{'C': 0.01, 'gamma': 100, 'idf': False, 'stop_words': None, 'ngram_range': (1, 2)}\"],\n [{\n            'v': 39,\n            'f': \"39\",\n        },\n{\n            'v': 0.20125,\n            'f': \"0.20125\",\n        },\n\"{'C': 10, 'gamma': 0.001, 'idf': False, 'stop_words': None, 'ngram_range': (1, 2)}\"],\n [{\n            'v': 71,\n            'f': \"71\",\n        },\n{\n            'v': 0.20125,\n            'f': \"0.20125\",\n        },\n\"{'C': 0.1, 'gamma': 0.01, 'idf': False, 'stop_words': None, 'ngram_range': (1, 2)}\"],\n [{\n            'v': 79,\n            'f': \"79\",\n        },\n{\n            'v': 0.20125,\n            'f': \"0.20125\",\n        },\n\"{'C': 1, 'gamma': 0.01, 'idf': False, 'stop_words': None, 'ngram_range': (1, 2)}\"],\n [{\n            'v': 87,\n            'f': \"87\",\n        },\n{\n            'v': 0.20125,\n            'f': \"0.20125\",\n        },\n\"{'C': 10, 'gamma': 0.01, 'idf': False, 'stop_words': None, 'ngram_range': (1, 2)}\"],\n [{\n            'v': 95,\n            'f': \"95\",\n        },\n{\n            'v': 0.20125,\n            'f': \"0.20125\",\n        },\n\"{'C': 100, 'gamma': 0.01, 'idf': False, 'stop_words': None, 'ngram_range': (1, 2)}\"],\n [{\n            'v': 55,\n            'f': \"55\",\n        },\n{\n            'v': 0.20125,\n            'f': \"0.20125\",\n        },\n\"{'C': 0.001, 'gamma': 0.01, 'idf': False, 'stop_words': None, 'ngram_range': (1, 2)}\"],\n [{\n            'v': 103,\n            'f': \"103\",\n        },\n{\n            'v': 0.20125,\n            'f': \"0.20125\",\n        },\n\"{'C': 0.001, 'gamma': 0.1, 'idf': False, 'stop_words': None, 'ngram_range': (1, 2)}\"],\n [{\n            'v': 111,\n            'f': \"111\",\n        },\n{\n            'v': 0.20125,\n            'f': \"0.20125\",\n        },\n\"{'C': 0.01, 'gamma': 0.1, 'idf': False, 'stop_words': None, 'ngram_range': (1, 2)}\"],\n [{\n            'v': 119,\n            'f': \"119\",\n        },\n{\n            'v': 0.20125,\n            'f': \"0.20125\",\n        },\n\"{'C': 0.1, 'gamma': 0.1, 'idf': False, 'stop_words': None, 'ngram_range': (1, 2)}\"],\n [{\n            'v': 47,\n            'f': \"47\",\n        },\n{\n            'v': 0.20125,\n            'f': \"0.20125\",\n        },\n\"{'C': 100, 'gamma': 0.001, 'idf': False, 'stop_words': None, 'ngram_range': (1, 2)}\"],\n [{\n            'v': 127,\n            'f': \"127\",\n        },\n{\n            'v': 0.20125,\n            'f': \"0.20125\",\n        },\n\"{'C': 1, 'gamma': 0.1, 'idf': False, 'stop_words': None, 'ngram_range': (1, 2)}\"],\n [{\n            'v': 135,\n            'f': \"135\",\n        },\n{\n            'v': 0.20125,\n            'f': \"0.20125\",\n        },\n\"{'C': 10, 'gamma': 0.1, 'idf': False, 'stop_words': None, 'ngram_range': (1, 2)}\"],\n [{\n            'v': 143,\n            'f': \"143\",\n        },\n{\n            'v': 0.20125,\n            'f': \"0.20125\",\n        },\n\"{'C': 100, 'gamma': 0.1, 'idf': False, 'stop_words': None, 'ngram_range': (1, 2)}\"],\n [{\n            'v': 151,\n            'f': \"151\",\n        },\n{\n            'v': 0.20125,\n            'f': \"0.20125\",\n        },\n\"{'C': 0.001, 'gamma': 1, 'idf': False, 'stop_words': None, 'ngram_range': (1, 2)}\"],\n [{\n            'v': 159,\n            'f': \"159\",\n        },\n{\n            'v': 0.20125,\n            'f': \"0.20125\",\n        },\n\"{'C': 0.01, 'gamma': 1, 'idf': False, 'stop_words': None, 'ngram_range': (1, 2)}\"],\n [{\n            'v': 247,\n            'f': \"247\",\n        },\n{\n            'v': 0.20125,\n            'f': \"0.20125\",\n        },\n\"{'C': 0.001, 'gamma': 100, 'idf': False, 'stop_words': None, 'ngram_range': (1, 2)}\"],\n [{\n            'v': 167,\n            'f': \"167\",\n        },\n{\n            'v': 0.20125,\n            'f': \"0.20125\",\n        },\n\"{'C': 0.1, 'gamma': 1, 'idf': False, 'stop_words': None, 'ngram_range': (1, 2)}\"],\n [{\n            'v': 175,\n            'f': \"175\",\n        },\n{\n            'v': 0.20125,\n            'f': \"0.20125\",\n        },\n\"{'C': 1, 'gamma': 1, 'idf': False, 'stop_words': None, 'ngram_range': (1, 2)}\"],\n [{\n            'v': 31,\n            'f': \"31\",\n        },\n{\n            'v': 0.20125,\n            'f': \"0.20125\",\n        },\n\"{'C': 1, 'gamma': 0.001, 'idf': False, 'stop_words': None, 'ngram_range': (1, 2)}\"],\n [{\n            'v': 183,\n            'f': \"183\",\n        },\n{\n            'v': 0.20125,\n            'f': \"0.20125\",\n        },\n\"{'C': 10, 'gamma': 1, 'idf': False, 'stop_words': None, 'ngram_range': (1, 2)}\"],\n [{\n            'v': 191,\n            'f': \"191\",\n        },\n{\n            'v': 0.20125,\n            'f': \"0.20125\",\n        },\n\"{'C': 100, 'gamma': 1, 'idf': False, 'stop_words': None, 'ngram_range': (1, 2)}\"],\n [{\n            'v': 199,\n            'f': \"199\",\n        },\n{\n            'v': 0.20125,\n            'f': \"0.20125\",\n        },\n\"{'C': 0.001, 'gamma': 10, 'idf': False, 'stop_words': None, 'ngram_range': (1, 2)}\"],\n [{\n            'v': 207,\n            'f': \"207\",\n        },\n{\n            'v': 0.20125,\n            'f': \"0.20125\",\n        },\n\"{'C': 0.01, 'gamma': 10, 'idf': False, 'stop_words': None, 'ngram_range': (1, 2)}\"],\n [{\n            'v': 23,\n            'f': \"23\",\n        },\n{\n            'v': 0.20125,\n            'f': \"0.20125\",\n        },\n\"{'C': 0.1, 'gamma': 0.001, 'idf': False, 'stop_words': None, 'ngram_range': (1, 2)}\"],\n [{\n            'v': 215,\n            'f': \"215\",\n        },\n{\n            'v': 0.20125,\n            'f': \"0.20125\",\n        },\n\"{'C': 0.1, 'gamma': 10, 'idf': False, 'stop_words': None, 'ngram_range': (1, 2)}\"],\n [{\n            'v': 223,\n            'f': \"223\",\n        },\n{\n            'v': 0.20125,\n            'f': \"0.20125\",\n        },\n\"{'C': 1, 'gamma': 10, 'idf': False, 'stop_words': None, 'ngram_range': (1, 2)}\"],\n [{\n            'v': 231,\n            'f': \"231\",\n        },\n{\n            'v': 0.20125,\n            'f': \"0.20125\",\n        },\n\"{'C': 10, 'gamma': 10, 'idf': False, 'stop_words': None, 'ngram_range': (1, 2)}\"],\n [{\n            'v': 15,\n            'f': \"15\",\n        },\n{\n            'v': 0.20125,\n            'f': \"0.20125\",\n        },\n\"{'C': 0.01, 'gamma': 0.001, 'idf': False, 'stop_words': None, 'ngram_range': (1, 2)}\"],\n [{\n            'v': 239,\n            'f': \"239\",\n        },\n{\n            'v': 0.20125,\n            'f': \"0.20125\",\n        },\n\"{'C': 100, 'gamma': 10, 'idf': False, 'stop_words': None, 'ngram_range': (1, 2)}\"],\n [{\n            'v': 287,\n            'f': \"287\",\n        },\n{\n            'v': 0.20125,\n            'f': \"0.20125\",\n        },\n\"{'C': 100, 'gamma': 100, 'idf': False, 'stop_words': None, 'ngram_range': (1, 2)}\"]],\n        columns: [[\"number\", \"index\"], [\"number\", \"Top1 Acc.\"], [\"string\", \"SVM Classifier Parameters\"]],\n        columnOptions: [{\"width\": \"1px\", \"className\": \"index_column\"}],\n        rowsPerPage: 25,\n        helpUrl: \"https://colab.research.google.com/notebooks/data_table.ipynb\",\n        suppressOutputScrolling: true,\n        minimumWidth: undefined,\n      });\n    ",
            "text/plain": [
              "<google.colab.data_table.DataTable object>"
            ],
            "text/html": [
              "<div>\n",
              "<style scoped>\n",
              "    .dataframe tbody tr th:only-of-type {\n",
              "        vertical-align: middle;\n",
              "    }\n",
              "\n",
              "    .dataframe tbody tr th {\n",
              "        vertical-align: top;\n",
              "    }\n",
              "\n",
              "    .dataframe thead th {\n",
              "        text-align: right;\n",
              "    }\n",
              "</style>\n",
              "<table border=\"1\" class=\"dataframe\">\n",
              "  <thead>\n",
              "    <tr style=\"text-align: right;\">\n",
              "      <th></th>\n",
              "      <th>Top1 Acc.</th>\n",
              "      <th>SVM Classifier Parameters</th>\n",
              "    </tr>\n",
              "  </thead>\n",
              "  <tbody>\n",
              "    <tr>\n",
              "      <th>65</th>\n",
              "      <td>0.41875</td>\n",
              "      <td>{'C': 0.1, 'gamma': 0.01, 'idf': True, 'stop_w...</td>\n",
              "    </tr>\n",
              "    <tr>\n",
              "      <th>217</th>\n",
              "      <td>0.41875</td>\n",
              "      <td>{'C': 1, 'gamma': 10, 'idf': True, 'stop_words...</td>\n",
              "    </tr>\n",
              "    <tr>\n",
              "      <th>129</th>\n",
              "      <td>0.41875</td>\n",
              "      <td>{'C': 10, 'gamma': 0.1, 'idf': True, 'stop_wor...</td>\n",
              "    </tr>\n",
              "    <tr>\n",
              "      <th>201</th>\n",
              "      <td>0.41875</td>\n",
              "      <td>{'C': 0.01, 'gamma': 10, 'idf': True, 'stop_wo...</td>\n",
              "    </tr>\n",
              "    <tr>\n",
              "      <th>25</th>\n",
              "      <td>0.41875</td>\n",
              "      <td>{'C': 1, 'gamma': 0.001, 'idf': True, 'stop_wo...</td>\n",
              "    </tr>\n",
              "    <tr>\n",
              "      <th>...</th>\n",
              "      <td>...</td>\n",
              "      <td>...</td>\n",
              "    </tr>\n",
              "    <tr>\n",
              "      <th>223</th>\n",
              "      <td>0.20125</td>\n",
              "      <td>{'C': 1, 'gamma': 10, 'idf': False, 'stop_word...</td>\n",
              "    </tr>\n",
              "    <tr>\n",
              "      <th>231</th>\n",
              "      <td>0.20125</td>\n",
              "      <td>{'C': 10, 'gamma': 10, 'idf': False, 'stop_wor...</td>\n",
              "    </tr>\n",
              "    <tr>\n",
              "      <th>15</th>\n",
              "      <td>0.20125</td>\n",
              "      <td>{'C': 0.01, 'gamma': 0.001, 'idf': False, 'sto...</td>\n",
              "    </tr>\n",
              "    <tr>\n",
              "      <th>239</th>\n",
              "      <td>0.20125</td>\n",
              "      <td>{'C': 100, 'gamma': 10, 'idf': False, 'stop_wo...</td>\n",
              "    </tr>\n",
              "    <tr>\n",
              "      <th>287</th>\n",
              "      <td>0.20125</td>\n",
              "      <td>{'C': 100, 'gamma': 100, 'idf': False, 'stop_w...</td>\n",
              "    </tr>\n",
              "  </tbody>\n",
              "</table>\n",
              "<p>288 rows × 2 columns</p>\n",
              "</div>"
            ]
          },
          "metadata": {
            "tags": []
          },
          "execution_count": 34
        }
      ]
    },
    {
      "cell_type": "code",
      "metadata": {
        "id": "ZkjjquYKgUww",
        "colab_type": "code",
        "colab": {}
      },
      "source": [
        "stop_words = best_svm_arxiv_parameters['stop_words']\n",
        "ngram_range = best_svm_arxiv_parameters['ngram_range']\n",
        "idf = best_svm_arxiv_parameters['idf']\n",
        "C = best_svm_arxiv_parameters['C']\n",
        "gamma = best_svm_arxiv_parameters['gamma']\n",
        "\n",
        "svm = Pipeline([('vect', CountVectorizer(stop_words=stop_words,ngram_range=ngram_range)),\n",
        "                ('tfidf', TfidfTransformer(use_idf=idf)),\n",
        "                ('clf', SVC(C=C, gamma=gamma)),\n",
        "                ])    \n",
        "svm.fit(x_train_CLF_A, y_train_CLF_A)\n",
        "\n",
        "y_test_preds_class = svm.predict(x_test_CLF_A)\n",
        "y_test_preds_proba = svm.decision_function(x_test_CLF_A)"
      ],
      "execution_count": null,
      "outputs": []
    },
    {
      "cell_type": "code",
      "metadata": {
        "id": "IiO7nub9pHOc",
        "colab_type": "code",
        "colab": {
          "base_uri": "https://localhost:8080/",
          "height": 70
        },
        "outputId": "41895f21-6412-4fd1-ab0a-fc43571fd41e"
      },
      "source": [
        "doc_utils.top2_acc(y_test_preds_proba, y_test_CLF_A,verbose=1)"
      ],
      "execution_count": null,
      "outputs": [
        {
          "output_type": "stream",
          "text": [
            "TOP-1 acc.: \t0.419\n",
            "TOP-2 acc.: \t0.606\n"
          ],
          "name": "stdout"
        },
        {
          "output_type": "execute_result",
          "data": {
            "text/plain": [
              "(0.41875, 0.60625)"
            ]
          },
          "metadata": {
            "tags": []
          },
          "execution_count": 36
        }
      ]
    },
    {
      "cell_type": "code",
      "metadata": {
        "id": "BdQxJnuBpZ-Y",
        "colab_type": "code",
        "colab": {
          "base_uri": "https://localhost:8080/",
          "height": 546
        },
        "outputId": "5ceea9a0-95f6-418c-c0c8-b150c307bfa6"
      },
      "source": [
        "doc_utils.plotConfMatrix(y_test_CLF_A, y_test_preds_class, model=\"SVM\", dataset_type='arxiv')"
      ],
      "execution_count": null,
      "outputs": [
        {
          "output_type": "display_data",
          "data": {
            "image/png": "[encoded data removed]",
            "text/plain": [
              "<Figure size 720x504 with 2 Axes>"
            ]
          },
          "metadata": {
            "tags": [],
            "needs_background": "light"
          }
        }
      ]
    },
    {
      "cell_type": "markdown",
      "metadata": {
        "id": "tZ4-766UtJ4t",
        "colab_type": "text"
      },
      "source": [
        "## Multinomial Naive Bayes"
      ]
    },
    {
      "cell_type": "markdown",
      "metadata": {
        "id": "Xm5mI1UfqdzW",
        "colab_type": "text"
      },
      "source": [
        "###Wiki dataset"
      ]
    },
    {
      "cell_type": "code",
      "metadata": {
        "id": "-syLxh-WtPdH",
        "colab_type": "code",
        "colab": {
          "base_uri": "https://localhost:8080/",
          "height": 52
        },
        "outputId": "11af3f8a-17bf-4beb-e8ec-6d387df6ba3b"
      },
      "source": [
        "best_mnb_wiki_score = 0\n",
        "mnb_wiki_models_params = list()\n",
        "for alpha in [0.001, 0.01, 0.1, 1]:\n",
        "    for idf in [True, False]:\n",
        "        for stop_words in ['english', None]:\n",
        "            for ngram_range in [(1,1), (1,2)]:\n",
        "                # for each combination of parameters, train a MNB\n",
        "                mnb = Pipeline([('vect', CountVectorizer(stop_words=stop_words,ngram_range=ngram_range)),\n",
        "                                ('tfidf', TfidfTransformer(use_idf=idf)),\n",
        "                                ('clf', MultinomialNB(alpha=alpha)),\n",
        "                                ])    \n",
        "                mnb.fit(x_train_CLF_W, y_train_CLF_W)\n",
        "                # evaluate the MNB on the test set\n",
        "                score = mnb.score(x_test_CLF_W, y_test_CLF_W)\n",
        "\n",
        "                params = {'alpha': alpha, 'idf': idf, 'stop_words':stop_words, 'ngram_range':ngram_range}\n",
        "                mnb_wiki_models_params.append((score, params))\n",
        "                # if we got a better score, store the score and parameters\n",
        "                if score > best_mnb_wiki_score:\n",
        "                    best_mnb_wiki_score = score\n",
        "                    best_mnb_wiki_parameters = {'alpha': alpha, 'idf': idf, 'stop_words':stop_words, 'ngram_range':ngram_range}\n",
        "\n",
        "print(\"Best score: {:.3f}\".format(best_mnb_wiki_score))#(Top-1 acc score)\n",
        "print(\"Best parameters: {}\".format(best_mnb_wiki_parameters))"
      ],
      "execution_count": null,
      "outputs": [
        {
          "output_type": "stream",
          "text": [
            "Best score: 0.740\n",
            "Best parameters: {'alpha': 1, 'idf': True, 'stop_words': 'english', 'ngram_range': (1, 1)}\n"
          ],
          "name": "stdout"
        }
      ]
    },
    {
      "cell_type": "code",
      "metadata": {
        "id": "8enualSrKKdl",
        "colab_type": "code",
        "colab": {
          "base_uri": "https://localhost:8080/",
          "height": 567
        },
        "outputId": "487971e6-dfb5-471d-9007-b40e6b89b961"
      },
      "source": [
        "df = pd.DataFrame.from_dict(mnb_wiki_models_params)\n",
        "df.columns = ['Top1 Acc.', 'MNB Classifier Parameters']\n",
        "DataTable(df.sort_values(by=['Top1 Acc.'], ascending=False))"
      ],
      "execution_count": null,
      "outputs": [
        {
          "output_type": "execute_result",
          "data": {
            "application/vnd.google.colaboratory.module+javascript": "\n      import \"https://ssl.gstatic.com/colaboratory/data_table/a6224c040fa35dcf/data_table.js\";\n\n      window.createDataTable({\n        data: [[{\n            'v': 24,\n            'f': \"24\",\n        },\n{\n            'v': 0.7396984924623116,\n            'f': \"0.7396984924623116\",\n        },\n\"{'alpha': 1, 'idf': True, 'stop_words': 'english', 'ngram_range': (1, 1)}\"],\n [{\n            'v': 25,\n            'f': \"25\",\n        },\n{\n            'v': 0.7366834170854272,\n            'f': \"0.7366834170854272\",\n        },\n\"{'alpha': 1, 'idf': True, 'stop_words': 'english', 'ngram_range': (1, 2)}\"],\n [{\n            'v': 16,\n            'f': \"16\",\n        },\n{\n            'v': 0.735678391959799,\n            'f': \"0.735678391959799\",\n        },\n\"{'alpha': 0.1, 'idf': True, 'stop_words': 'english', 'ngram_range': (1, 1)}\"],\n [{\n            'v': 17,\n            'f': \"17\",\n        },\n{\n            'v': 0.735678391959799,\n            'f': \"0.735678391959799\",\n        },\n\"{'alpha': 0.1, 'idf': True, 'stop_words': 'english', 'ngram_range': (1, 2)}\"],\n [{\n            'v': 9,\n            'f': \"9\",\n        },\n{\n            'v': 0.7115577889447237,\n            'f': \"0.7115577889447237\",\n        },\n\"{'alpha': 0.01, 'idf': True, 'stop_words': 'english', 'ngram_range': (1, 2)}\"],\n [{\n            'v': 8,\n            'f': \"8\",\n        },\n{\n            'v': 0.7015075376884422,\n            'f': \"0.7015075376884422\",\n        },\n\"{'alpha': 0.01, 'idf': True, 'stop_words': 'english', 'ngram_range': (1, 1)}\"],\n [{\n            'v': 29,\n            'f': \"29\",\n        },\n{\n            'v': 0.6924623115577889,\n            'f': \"0.6924623115577889\",\n        },\n\"{'alpha': 1, 'idf': False, 'stop_words': 'english', 'ngram_range': (1, 2)}\"],\n [{\n            'v': 21,\n            'f': \"21\",\n        },\n{\n            'v': 0.6924623115577889,\n            'f': \"0.6924623115577889\",\n        },\n\"{'alpha': 0.1, 'idf': False, 'stop_words': 'english', 'ngram_range': (1, 2)}\"],\n [{\n            'v': 13,\n            'f': \"13\",\n        },\n{\n            'v': 0.6874371859296482,\n            'f': \"0.6874371859296482\",\n        },\n\"{'alpha': 0.01, 'idf': False, 'stop_words': 'english', 'ngram_range': (1, 2)}\"],\n [{\n            'v': 20,\n            'f': \"20\",\n        },\n{\n            'v': 0.6864321608040201,\n            'f': \"0.6864321608040201\",\n        },\n\"{'alpha': 0.1, 'idf': False, 'stop_words': 'english', 'ngram_range': (1, 1)}\"],\n [{\n            'v': 28,\n            'f': \"28\",\n        },\n{\n            'v': 0.6814070351758794,\n            'f': \"0.6814070351758794\",\n        },\n\"{'alpha': 1, 'idf': False, 'stop_words': 'english', 'ngram_range': (1, 1)}\"],\n [{\n            'v': 12,\n            'f': \"12\",\n        },\n{\n            'v': 0.6773869346733669,\n            'f': \"0.6773869346733669\",\n        },\n\"{'alpha': 0.01, 'idf': False, 'stop_words': 'english', 'ngram_range': (1, 1)}\"],\n [{\n            'v': 10,\n            'f': \"10\",\n        },\n{\n            'v': 0.6603015075376885,\n            'f': \"0.6603015075376885\",\n        },\n\"{'alpha': 0.01, 'idf': True, 'stop_words': None, 'ngram_range': (1, 1)}\"],\n [{\n            'v': 1,\n            'f': \"1\",\n        },\n{\n            'v': 0.6532663316582915,\n            'f': \"0.6532663316582915\",\n        },\n\"{'alpha': 0.001, 'idf': True, 'stop_words': 'english', 'ngram_range': (1, 2)}\"],\n [{\n            'v': 11,\n            'f': \"11\",\n        },\n{\n            'v': 0.650251256281407,\n            'f': \"0.650251256281407\",\n        },\n\"{'alpha': 0.01, 'idf': True, 'stop_words': None, 'ngram_range': (1, 2)}\"],\n [{\n            'v': 0,\n            'f': \"0\",\n        },\n{\n            'v': 0.6432160804020101,\n            'f': \"0.6432160804020101\",\n        },\n\"{'alpha': 0.001, 'idf': True, 'stop_words': 'english', 'ngram_range': (1, 1)}\"],\n [{\n            'v': 5,\n            'f': \"5\",\n        },\n{\n            'v': 0.6391959798994975,\n            'f': \"0.6391959798994975\",\n        },\n\"{'alpha': 0.001, 'idf': False, 'stop_words': 'english', 'ngram_range': (1, 2)}\"],\n [{\n            'v': 3,\n            'f': \"3\",\n        },\n{\n            'v': 0.6351758793969849,\n            'f': \"0.6351758793969849\",\n        },\n\"{'alpha': 0.001, 'idf': True, 'stop_words': None, 'ngram_range': (1, 2)}\"],\n [{\n            'v': 2,\n            'f': \"2\",\n        },\n{\n            'v': 0.6321608040201006,\n            'f': \"0.6321608040201006\",\n        },\n\"{'alpha': 0.001, 'idf': True, 'stop_words': None, 'ngram_range': (1, 1)}\"],\n [{\n            'v': 4,\n            'f': \"4\",\n        },\n{\n            'v': 0.6251256281407035,\n            'f': \"0.6251256281407035\",\n        },\n\"{'alpha': 0.001, 'idf': False, 'stop_words': 'english', 'ngram_range': (1, 1)}\"],\n [{\n            'v': 18,\n            'f': \"18\",\n        },\n{\n            'v': 0.6130653266331658,\n            'f': \"0.6130653266331658\",\n        },\n\"{'alpha': 0.1, 'idf': True, 'stop_words': None, 'ngram_range': (1, 1)}\"],\n [{\n            'v': 6,\n            'f': \"6\",\n        },\n{\n            'v': 0.592964824120603,\n            'f': \"0.592964824120603\",\n        },\n\"{'alpha': 0.001, 'idf': False, 'stop_words': None, 'ngram_range': (1, 1)}\"],\n [{\n            'v': 7,\n            'f': \"7\",\n        },\n{\n            'v': 0.5778894472361809,\n            'f': \"0.5778894472361809\",\n        },\n\"{'alpha': 0.001, 'idf': False, 'stop_words': None, 'ngram_range': (1, 2)}\"],\n [{\n            'v': 14,\n            'f': \"14\",\n        },\n{\n            'v': 0.5527638190954773,\n            'f': \"0.5527638190954773\",\n        },\n\"{'alpha': 0.01, 'idf': False, 'stop_words': None, 'ngram_range': (1, 1)}\"],\n [{\n            'v': 19,\n            'f': \"19\",\n        },\n{\n            'v': 0.5517587939698493,\n            'f': \"0.5517587939698493\",\n        },\n\"{'alpha': 0.1, 'idf': True, 'stop_words': None, 'ngram_range': (1, 2)}\"],\n [{\n            'v': 26,\n            'f': \"26\",\n        },\n{\n            'v': 0.5386934673366834,\n            'f': \"0.5386934673366834\",\n        },\n\"{'alpha': 1, 'idf': True, 'stop_words': None, 'ngram_range': (1, 1)}\"],\n [{\n            'v': 15,\n            'f': \"15\",\n        },\n{\n            'v': 0.5366834170854271,\n            'f': \"0.5366834170854271\",\n        },\n\"{'alpha': 0.01, 'idf': False, 'stop_words': None, 'ngram_range': (1, 2)}\"],\n [{\n            'v': 27,\n            'f': \"27\",\n        },\n{\n            'v': 0.45125628140703516,\n            'f': \"0.45125628140703516\",\n        },\n\"{'alpha': 1, 'idf': True, 'stop_words': None, 'ngram_range': (1, 2)}\"],\n [{\n            'v': 22,\n            'f': \"22\",\n        },\n{\n            'v': 0.37286432160804023,\n            'f': \"0.37286432160804023\",\n        },\n\"{'alpha': 0.1, 'idf': False, 'stop_words': None, 'ngram_range': (1, 1)}\"],\n [{\n            'v': 30,\n            'f': \"30\",\n        },\n{\n            'v': 0.34472361809045227,\n            'f': \"0.34472361809045227\",\n        },\n\"{'alpha': 1, 'idf': False, 'stop_words': None, 'ngram_range': (1, 1)}\"],\n [{\n            'v': 23,\n            'f': \"23\",\n        },\n{\n            'v': 0.33668341708542715,\n            'f': \"0.33668341708542715\",\n        },\n\"{'alpha': 0.1, 'idf': False, 'stop_words': None, 'ngram_range': (1, 2)}\"],\n [{\n            'v': 31,\n            'f': \"31\",\n        },\n{\n            'v': 0.31155778894472363,\n            'f': \"0.31155778894472363\",\n        },\n\"{'alpha': 1, 'idf': False, 'stop_words': None, 'ngram_range': (1, 2)}\"]],\n        columns: [[\"number\", \"index\"], [\"number\", \"Top1 Acc.\"], [\"string\", \"MNB Classifier Parameters\"]],\n        columnOptions: [{\"width\": \"1px\", \"className\": \"index_column\"}],\n        rowsPerPage: 25,\n        helpUrl: \"https://colab.research.google.com/notebooks/data_table.ipynb\",\n        suppressOutputScrolling: true,\n        minimumWidth: undefined,\n      });\n    ",
            "text/plain": [
              "<google.colab.data_table.DataTable object>"
            ],
            "text/html": [
              "<div>\n",
              "<style scoped>\n",
              "    .dataframe tbody tr th:only-of-type {\n",
              "        vertical-align: middle;\n",
              "    }\n",
              "\n",
              "    .dataframe tbody tr th {\n",
              "        vertical-align: top;\n",
              "    }\n",
              "\n",
              "    .dataframe thead th {\n",
              "        text-align: right;\n",
              "    }\n",
              "</style>\n",
              "<table border=\"1\" class=\"dataframe\">\n",
              "  <thead>\n",
              "    <tr style=\"text-align: right;\">\n",
              "      <th></th>\n",
              "      <th>Top1 Acc.</th>\n",
              "      <th>MNB Classifier Parameters</th>\n",
              "    </tr>\n",
              "  </thead>\n",
              "  <tbody>\n",
              "    <tr>\n",
              "      <th>24</th>\n",
              "      <td>0.739698</td>\n",
              "      <td>{'alpha': 1, 'idf': True, 'stop_words': 'engli...</td>\n",
              "    </tr>\n",
              "    <tr>\n",
              "      <th>25</th>\n",
              "      <td>0.736683</td>\n",
              "      <td>{'alpha': 1, 'idf': True, 'stop_words': 'engli...</td>\n",
              "    </tr>\n",
              "    <tr>\n",
              "      <th>16</th>\n",
              "      <td>0.735678</td>\n",
              "      <td>{'alpha': 0.1, 'idf': True, 'stop_words': 'eng...</td>\n",
              "    </tr>\n",
              "    <tr>\n",
              "      <th>17</th>\n",
              "      <td>0.735678</td>\n",
              "      <td>{'alpha': 0.1, 'idf': True, 'stop_words': 'eng...</td>\n",
              "    </tr>\n",
              "    <tr>\n",
              "      <th>9</th>\n",
              "      <td>0.711558</td>\n",
              "      <td>{'alpha': 0.01, 'idf': True, 'stop_words': 'en...</td>\n",
              "    </tr>\n",
              "    <tr>\n",
              "      <th>8</th>\n",
              "      <td>0.701508</td>\n",
              "      <td>{'alpha': 0.01, 'idf': True, 'stop_words': 'en...</td>\n",
              "    </tr>\n",
              "    <tr>\n",
              "      <th>29</th>\n",
              "      <td>0.692462</td>\n",
              "      <td>{'alpha': 1, 'idf': False, 'stop_words': 'engl...</td>\n",
              "    </tr>\n",
              "    <tr>\n",
              "      <th>21</th>\n",
              "      <td>0.692462</td>\n",
              "      <td>{'alpha': 0.1, 'idf': False, 'stop_words': 'en...</td>\n",
              "    </tr>\n",
              "    <tr>\n",
              "      <th>13</th>\n",
              "      <td>0.687437</td>\n",
              "      <td>{'alpha': 0.01, 'idf': False, 'stop_words': 'e...</td>\n",
              "    </tr>\n",
              "    <tr>\n",
              "      <th>20</th>\n",
              "      <td>0.686432</td>\n",
              "      <td>{'alpha': 0.1, 'idf': False, 'stop_words': 'en...</td>\n",
              "    </tr>\n",
              "    <tr>\n",
              "      <th>28</th>\n",
              "      <td>0.681407</td>\n",
              "      <td>{'alpha': 1, 'idf': False, 'stop_words': 'engl...</td>\n",
              "    </tr>\n",
              "    <tr>\n",
              "      <th>12</th>\n",
              "      <td>0.677387</td>\n",
              "      <td>{'alpha': 0.01, 'idf': False, 'stop_words': 'e...</td>\n",
              "    </tr>\n",
              "    <tr>\n",
              "      <th>10</th>\n",
              "      <td>0.660302</td>\n",
              "      <td>{'alpha': 0.01, 'idf': True, 'stop_words': Non...</td>\n",
              "    </tr>\n",
              "    <tr>\n",
              "      <th>1</th>\n",
              "      <td>0.653266</td>\n",
              "      <td>{'alpha': 0.001, 'idf': True, 'stop_words': 'e...</td>\n",
              "    </tr>\n",
              "    <tr>\n",
              "      <th>11</th>\n",
              "      <td>0.650251</td>\n",
              "      <td>{'alpha': 0.01, 'idf': True, 'stop_words': Non...</td>\n",
              "    </tr>\n",
              "    <tr>\n",
              "      <th>0</th>\n",
              "      <td>0.643216</td>\n",
              "      <td>{'alpha': 0.001, 'idf': True, 'stop_words': 'e...</td>\n",
              "    </tr>\n",
              "    <tr>\n",
              "      <th>5</th>\n",
              "      <td>0.639196</td>\n",
              "      <td>{'alpha': 0.001, 'idf': False, 'stop_words': '...</td>\n",
              "    </tr>\n",
              "    <tr>\n",
              "      <th>3</th>\n",
              "      <td>0.635176</td>\n",
              "      <td>{'alpha': 0.001, 'idf': True, 'stop_words': No...</td>\n",
              "    </tr>\n",
              "    <tr>\n",
              "      <th>2</th>\n",
              "      <td>0.632161</td>\n",
              "      <td>{'alpha': 0.001, 'idf': True, 'stop_words': No...</td>\n",
              "    </tr>\n",
              "    <tr>\n",
              "      <th>4</th>\n",
              "      <td>0.625126</td>\n",
              "      <td>{'alpha': 0.001, 'idf': False, 'stop_words': '...</td>\n",
              "    </tr>\n",
              "    <tr>\n",
              "      <th>18</th>\n",
              "      <td>0.613065</td>\n",
              "      <td>{'alpha': 0.1, 'idf': True, 'stop_words': None...</td>\n",
              "    </tr>\n",
              "    <tr>\n",
              "      <th>6</th>\n",
              "      <td>0.592965</td>\n",
              "      <td>{'alpha': 0.001, 'idf': False, 'stop_words': N...</td>\n",
              "    </tr>\n",
              "    <tr>\n",
              "      <th>7</th>\n",
              "      <td>0.577889</td>\n",
              "      <td>{'alpha': 0.001, 'idf': False, 'stop_words': N...</td>\n",
              "    </tr>\n",
              "    <tr>\n",
              "      <th>14</th>\n",
              "      <td>0.552764</td>\n",
              "      <td>{'alpha': 0.01, 'idf': False, 'stop_words': No...</td>\n",
              "    </tr>\n",
              "    <tr>\n",
              "      <th>19</th>\n",
              "      <td>0.551759</td>\n",
              "      <td>{'alpha': 0.1, 'idf': True, 'stop_words': None...</td>\n",
              "    </tr>\n",
              "    <tr>\n",
              "      <th>26</th>\n",
              "      <td>0.538693</td>\n",
              "      <td>{'alpha': 1, 'idf': True, 'stop_words': None, ...</td>\n",
              "    </tr>\n",
              "    <tr>\n",
              "      <th>15</th>\n",
              "      <td>0.536683</td>\n",
              "      <td>{'alpha': 0.01, 'idf': False, 'stop_words': No...</td>\n",
              "    </tr>\n",
              "    <tr>\n",
              "      <th>27</th>\n",
              "      <td>0.451256</td>\n",
              "      <td>{'alpha': 1, 'idf': True, 'stop_words': None, ...</td>\n",
              "    </tr>\n",
              "    <tr>\n",
              "      <th>22</th>\n",
              "      <td>0.372864</td>\n",
              "      <td>{'alpha': 0.1, 'idf': False, 'stop_words': Non...</td>\n",
              "    </tr>\n",
              "    <tr>\n",
              "      <th>30</th>\n",
              "      <td>0.344724</td>\n",
              "      <td>{'alpha': 1, 'idf': False, 'stop_words': None,...</td>\n",
              "    </tr>\n",
              "    <tr>\n",
              "      <th>23</th>\n",
              "      <td>0.336683</td>\n",
              "      <td>{'alpha': 0.1, 'idf': False, 'stop_words': Non...</td>\n",
              "    </tr>\n",
              "    <tr>\n",
              "      <th>31</th>\n",
              "      <td>0.311558</td>\n",
              "      <td>{'alpha': 1, 'idf': False, 'stop_words': None,...</td>\n",
              "    </tr>\n",
              "  </tbody>\n",
              "</table>\n",
              "</div>"
            ]
          },
          "metadata": {
            "tags": []
          },
          "execution_count": 23
        }
      ]
    },
    {
      "cell_type": "code",
      "metadata": {
        "id": "fQ1rxagSdDd6",
        "colab_type": "code",
        "colab": {}
      },
      "source": [
        "stop_words = best_mnb_wiki_parameters['stop_words']\n",
        "ngram_range = best_mnb_wiki_parameters['ngram_range']\n",
        "idf = best_mnb_wiki_parameters['idf']\n",
        "alpha = best_mnb_wiki_parameters['alpha']\n",
        "\n",
        "mnb = Pipeline([('vect', CountVectorizer(stop_words=stop_words,ngram_range=ngram_range)),\n",
        "                ('tfidf', TfidfTransformer(use_idf=idf)),\n",
        "                ('clf', MultinomialNB(alpha=alpha)),\n",
        "                ])    \n",
        "mnb.fit(x_train_CLF_W, y_train_CLF_W) \n",
        "\n",
        "y_test_preds_class = mnb.predict(x_test_CLF_W)\n",
        "y_test_preds_proba = mnb.predict_proba(x_test_CLF_W)"
      ],
      "execution_count": null,
      "outputs": []
    },
    {
      "cell_type": "code",
      "metadata": {
        "id": "_g5nEZh6KQIS",
        "colab_type": "code",
        "colab": {
          "base_uri": "https://localhost:8080/",
          "height": 70
        },
        "outputId": "75023520-c595-4b48-8eef-b2257ab21b0b"
      },
      "source": [
        "doc_utils.top2_acc(y_test_preds_proba, y_test_CLF_W,verbose=1)"
      ],
      "execution_count": null,
      "outputs": [
        {
          "output_type": "stream",
          "text": [
            "TOP-1 acc.: \t0.740\n",
            "TOP-2 acc.: \t0.879\n"
          ],
          "name": "stdout"
        },
        {
          "output_type": "execute_result",
          "data": {
            "text/plain": [
              "(0.7396984924623116, 0.8793969849246231)"
            ]
          },
          "metadata": {
            "tags": []
          },
          "execution_count": 26
        }
      ]
    },
    {
      "cell_type": "code",
      "metadata": {
        "id": "6DXWFxSxdikl",
        "colab_type": "code",
        "colab": {
          "base_uri": "https://localhost:8080/",
          "height": 444
        },
        "outputId": "1930b363-f816-4c65-c309-5a2f7a07ff82"
      },
      "source": [
        "doc_utils.plotConfMatrix(y_test_CLF_W, y_test_preds_class, model=\"NB\", dataset_type='wiki')"
      ],
      "execution_count": null,
      "outputs": [
        {
          "output_type": "display_data",
          "data": {
            "image/png": "[encoded data removed]",
            "text/plain": [
              "<Figure size 720x504 with 2 Axes>"
            ]
          },
          "metadata": {
            "tags": [],
            "needs_background": "light"
          }
        }
      ]
    },
    {
      "cell_type": "markdown",
      "metadata": {
        "id": "3TKBCi01qhGc",
        "colab_type": "text"
      },
      "source": [
        "### arXiv dataset"
      ]
    },
    {
      "cell_type": "code",
      "metadata": {
        "id": "kQjaclIBqjV4",
        "colab_type": "code",
        "colab": {
          "base_uri": "https://localhost:8080/",
          "height": 52
        },
        "outputId": "8946a296-cb2d-4db8-e9d0-152140473c62"
      },
      "source": [
        "best_mnb_arxiv_score = 0\n",
        "mnb_arxiv_models_params = list()\n",
        "for alpha in [0.001, 0.01, 0.1, 1]:\n",
        "    for idf in [True, False]:\n",
        "        for stop_words in ['english', None]:\n",
        "            for ngram_range in [(1,1), (1,2)]:\n",
        "                # for each combination of parameters, train a MNB\n",
        "                mnb = Pipeline([('vect', CountVectorizer(stop_words=stop_words,ngram_range=ngram_range)),\n",
        "                                ('tfidf', TfidfTransformer(use_idf=idf)),\n",
        "                                ('clf', MultinomialNB(alpha=alpha)),\n",
        "                                ])    \n",
        "                mnb.fit(x_train_CLF_A, y_train_CLF_A)\n",
        "                # evaluate the MNB on the test set\n",
        "                score = mnb.score(x_test_CLF_A, y_test_CLF_A)\n",
        "\n",
        "                params = {'alpha': alpha, 'idf': idf, 'stop_words':stop_words, 'ngram_range':ngram_range}\n",
        "                mnb_arxiv_models_params.append((score, params))\n",
        "                # if we got a better score, store the score and parameters\n",
        "                if score > best_mnb_arxiv_score:\n",
        "                    best_mnb_arxiv_score = score\n",
        "                    best_mnb_arxiv_parameters = {'alpha': alpha, 'idf': idf, 'stop_words':stop_words, 'ngram_range':ngram_range}\n",
        "\n",
        "print(\"Best score: {:.3f}\".format(best_mnb_arxiv_score)) #(Top-1 acc score)\n",
        "print(\"Best parameters: {}\".format(best_mnb_arxiv_parameters))"
      ],
      "execution_count": null,
      "outputs": [
        {
          "output_type": "stream",
          "text": [
            "Best score: 0.429\n",
            "Best parameters: {'alpha': 0.1, 'idf': True, 'stop_words': 'english', 'ngram_range': (1, 1)}\n"
          ],
          "name": "stdout"
        }
      ]
    },
    {
      "cell_type": "code",
      "metadata": {
        "id": "aVxphPSaqjz7",
        "colab_type": "code",
        "colab": {}
      },
      "source": [
        "stop_words = best_mnb_arxiv_parameters['stop_words']\n",
        "ngram_range = best_mnb_arxiv_parameters['ngram_range']\n",
        "idf = best_mnb_arxiv_parameters['idf']\n",
        "alpha = best_mnb_arxiv_parameters['alpha']\n",
        "\n",
        "mnb = Pipeline([('vect', CountVectorizer(stop_words=stop_words,ngram_range=ngram_range)),\n",
        "                ('tfidf', TfidfTransformer(use_idf=idf)),\n",
        "                ('clf', MultinomialNB(alpha=alpha)),\n",
        "                ])    \n",
        "mnb.fit(x_train_CLF_A, y_train_CLF_A) \n",
        "\n",
        "y_test_preds_class = mnb.predict(x_test_CLF_A)\n",
        "y_test_preds_proba = mnb.predict_proba(x_test_CLF_A)"
      ],
      "execution_count": null,
      "outputs": []
    },
    {
      "cell_type": "code",
      "metadata": {
        "id": "0XDvxBByriBw",
        "colab_type": "code",
        "colab": {
          "base_uri": "https://localhost:8080/",
          "height": 70
        },
        "outputId": "09a631bf-c517-4f7f-c2ff-e63e77c00c16"
      },
      "source": [
        "doc_utils.top2_acc(y_test_preds_proba, y_test_CLF_A,verbose=1)"
      ],
      "execution_count": null,
      "outputs": [
        {
          "output_type": "stream",
          "text": [
            "TOP-1 acc.: \t0.429\n",
            "TOP-2 acc.: \t0.623\n"
          ],
          "name": "stdout"
        },
        {
          "output_type": "execute_result",
          "data": {
            "text/plain": [
              "(0.42875, 0.6225)"
            ]
          },
          "metadata": {
            "tags": []
          },
          "execution_count": 42
        }
      ]
    },
    {
      "cell_type": "code",
      "metadata": {
        "id": "5Eu3482MqkPC",
        "colab_type": "code",
        "colab": {
          "base_uri": "https://localhost:8080/",
          "height": 546
        },
        "outputId": "f789560c-58ea-4519-b81f-aea0d0f3aa00"
      },
      "source": [
        "doc_utils.plotConfMatrix(y_test_CLF_A, y_test_preds_class, model=\"NB\", dataset_type='arxiv')"
      ],
      "execution_count": null,
      "outputs": [
        {
          "output_type": "display_data",
          "data": {
            "image/png": "[encoded data removed]",
            "text/plain": [
              "<Figure size 720x504 with 2 Axes>"
            ]
          },
          "metadata": {
            "tags": [],
            "needs_background": "light"
          }
        }
      ]
    },
    {
      "cell_type": "markdown",
      "metadata": {
        "id": "iY7qzWa6tP7D",
        "colab_type": "text"
      },
      "source": [
        "## Feed Forward Neural Network"
      ]
    },
    {
      "cell_type": "code",
      "metadata": {
        "id": "qVSJThx2l1zo",
        "colab_type": "code",
        "colab": {}
      },
      "source": [
        "from tqdm.notebook import tqdm\n",
        "#Defining TOP-2 accuracy \n",
        "import functools\n",
        "top2_accuracy = functools.partial(top_k_categorical_accuracy, k=2)\n",
        "top2_accuracy.__name__ = 'TOP2_ACC'"
      ],
      "execution_count": null,
      "outputs": []
    },
    {
      "cell_type": "markdown",
      "metadata": {
        "id": "nebeMZHkOAT4",
        "colab_type": "text"
      },
      "source": [
        "### Neural Architecture Search"
      ]
    },
    {
      "cell_type": "code",
      "metadata": {
        "id": "rxa53yb6ly24",
        "colab_type": "code",
        "colab": {
          "base_uri": "https://localhost:8080/",
          "height": 120,
          "referenced_widgets": [
            "cd151c74442f43f5b3ea25717cdd780b",
            "b6b34fb11d0c4b5b89209ebef308baea",
            "8527ab0919ee408898c58879369d6669",
            "b8bfee29baba4fada71c4b3aa11200c5",
            "dca52748ea864b34a993ff3105c41d40",
            "44ce94a91ebd453ea38d313ab7bdf6b9",
            "988e38c5395341f28ce4fc011b97b6e0",
            "5bdce3ff6fed43328312bbf909dca92c"
          ]
        },
        "outputId": "30b3d3b5-5a25-4eb4-905d-c970de5bcce9"
      },
      "source": [
        "top1_acc_list = []\n",
        "top2_acc_list = []\n",
        "\n",
        "n_runs = 30\n",
        "\n",
        "for i in tqdm(range(n_runs)):\n",
        "    clear_session()\n",
        "    #Neural Architecture Definition\n",
        "    model = Sequential()\n",
        "    model.add(Dense(64, activation='relu', input_shape=(len(dictionary_FFNN_W_S),)))\n",
        "    model.add(Dense(len(doc_utils.ALL_TOPICS), activation='softmax'))\n",
        "\n",
        "    model.compile(optimizer='rmsprop', loss='categorical_crossentropy',metrics=['accuracy', top2_accuracy])\n",
        "    hist = model.fit(x_train_FFNN_W_S, y_train_FFNN_W_S, epochs=3,verbose=0)\n",
        "    model_top1_acc = model.evaluate(x_test_FFNN_W_S, y_test_FFNN_W_S, verbose=0)[1]\n",
        "    model_top2_acc = model.evaluate(x_test_FFNN_W_S, y_test_FFNN_W_S, verbose=0)[2]\n",
        "         \n",
        "    if top2_acc_list and model_top2_acc >= max(top2_acc_list):\n",
        "        #save best model to date\n",
        "        model_json = model.to_json()\n",
        "        with open(\"wiki_model_arq1.json\", \"w\") as f:\n",
        "            f.write(model_json)\n",
        "        model.save_weights(\"wiki_model_arq1.h5\")\n",
        "    \n",
        "    top1_acc_list.append(model_top1_acc)\n",
        "    top2_acc_list.append(model_top2_acc)\n",
        "\n",
        "print(\"\\nResulting Average TOP1 acc:{}\\t TOP2 acc:{}\".format(np.mean(top1_acc_list),np.mean(top2_acc_list)))\n",
        "print(\"Best model accuracies: TOP1:{} \\t TOP2:{}\".format(max(top1_acc_list), max(top2_acc_list)))"
      ],
      "execution_count": null,
      "outputs": [
        {
          "output_type": "display_data",
          "data": {
            "application/vnd.jupyter.widget-view+json": {
              "model_id": "cd151c74442f43f5b3ea25717cdd780b",
              "version_minor": 0,
              "version_major": 2
            },
            "text/plain": [
              "HBox(children=(FloatProgress(value=0.0, max=30.0), HTML(value='')))"
            ]
          },
          "metadata": {
            "tags": []
          }
        },
        {
          "output_type": "stream",
          "text": [
            "\n",
            "\n",
            "Resulting Average TOP1 acc:0.20160803919037182\t TOP2 acc:0.3651591305931409\n",
            "Best model accuracies: TOP1:0.286432147026062 \t TOP2:0.48040202260017395\n"
          ],
          "name": "stdout"
        }
      ]
    },
    {
      "cell_type": "markdown",
      "metadata": {
        "id": "vI8HFG0WltOx",
        "colab_type": "text"
      },
      "source": [
        "Same as prev. test but for complex preprocessing of text:"
      ]
    },
    {
      "cell_type": "code",
      "metadata": {
        "id": "uEOPQg_XmSa8",
        "colab_type": "code",
        "colab": {
          "base_uri": "https://localhost:8080/",
          "height": 120,
          "referenced_widgets": [
            "7cfa8d2e7e1e4802ba04063e601ee339",
            "7f06e54da84248b586a5453dc166b84b",
            "687d9a0b83894ad687932d7855cef85a",
            "18dfff00c9f64417ad255494e6ae9350",
            "7817e9ac41954225aad7f29cdaf98d49",
            "4f5388e6a24a4ad5be7542f79194ed4d",
            "5d82d3802e9d45e38013ad4e5918993e",
            "77ac59d545d84a73b3b4b89662a4652b"
          ]
        },
        "outputId": "c39a636f-41c5-4ba8-98c4-6b50b2ac5503"
      },
      "source": [
        "top1_acc_list = []\n",
        "top2_acc_list = []\n",
        "\n",
        "n_runs = 30\n",
        "\n",
        "for i in tqdm(range(n_runs)):\n",
        "    clear_session()\n",
        "    #Neural Architecture Definition\n",
        "    model = Sequential()\n",
        "    model.add(Dense(64, activation='relu', input_shape=(len(dictionary_FFNN_W_C),)))\n",
        "    model.add(Dense(len(doc_utils.ALL_TOPICS), activation='softmax'))\n",
        "\n",
        "    model.compile(optimizer='rmsprop', loss='categorical_crossentropy',metrics=['accuracy', top2_accuracy])\n",
        "    hist = model.fit(x_train_FFNN_W_C, y_train_FFNN_W_C, epochs=3,verbose=0)\n",
        "    model_top1_acc = model.evaluate(x_test_FFNN_W_C, y_test_FFNN_W_C, verbose=0)[1]\n",
        "    model_top2_acc = model.evaluate(x_test_FFNN_W_C, y_test_FFNN_W_C, verbose=0)[2]\n",
        "         \n",
        "    if top2_acc_list and model_top2_acc >= max(top2_acc_list):\n",
        "        #save best model to date\n",
        "        model_json = model.to_json()\n",
        "        with open(\"wiki_model_arq1.json\", \"w\") as f:\n",
        "            f.write(model_json)\n",
        "        model.save_weights(\"wiki_model_arq1.h5\")\n",
        "    \n",
        "    top1_acc_list.append(model_top1_acc)\n",
        "    top2_acc_list.append(model_top2_acc)\n",
        "\n",
        "print(\"\\nResulting Average TOP1 acc:{}\\t TOP2 acc:{}\".format(np.mean(top1_acc_list),np.mean(top2_acc_list)))\n",
        "print(\"Best model accuracies: TOP1:{} \\t TOP2:{}\".format(max(top1_acc_list), max(top2_acc_list)))"
      ],
      "execution_count": null,
      "outputs": [
        {
          "output_type": "display_data",
          "data": {
            "application/vnd.jupyter.widget-view+json": {
              "model_id": "7cfa8d2e7e1e4802ba04063e601ee339",
              "version_minor": 0,
              "version_major": 2
            },
            "text/plain": [
              "HBox(children=(FloatProgress(value=0.0, max=30.0), HTML(value='')))"
            ]
          },
          "metadata": {
            "tags": []
          }
        },
        {
          "output_type": "stream",
          "text": [
            "\n",
            "\n",
            "Resulting Average TOP1 acc:0.32288107126951215\t TOP2 acc:0.4905192623535792\n",
            "Best model accuracies: TOP1:0.42412060499191284 \t TOP2:0.5869346857070923\n"
          ],
          "name": "stdout"
        }
      ]
    },
    {
      "cell_type": "code",
      "metadata": {
        "id": "mFE6SsQ3oZFC",
        "colab_type": "code",
        "colab": {
          "base_uri": "https://localhost:8080/",
          "height": 120,
          "referenced_widgets": [
            "87f733126b9048a6829180c8642cc6ea",
            "6eb51104838a4968bc2fc3b446a4324b",
            "493bde2bf1194462a608195fc2d64110",
            "357703dad4c14eaebfb20000e7c4f7b9",
            "77ae0fa6e15a4cbb9fa956562ceac673",
            "cb42812e745044598332335445b9c1c1",
            "b7392d08ae184362a60f434d38a86dee",
            "2f66cc4a753c4c69b070d4feb035dc16"
          ]
        },
        "outputId": "24636471-9d2c-4fba-af9a-4aa25345b059"
      },
      "source": [
        "top1_acc_list = []\n",
        "top2_acc_list = []\n",
        "n_runs = 30\n",
        "\n",
        "for i in tqdm(range(n_runs)):\n",
        "    clear_session()\n",
        "    #Neural Architecture Definition\n",
        "    model = Sequential()\n",
        "    model.add(Dense(128, activation='relu', input_shape=(len(dictionary_FFNN_W_S),)))\n",
        "    model.add(Dense(len(doc_utils.ALL_TOPICS), activation='softmax'))\n",
        "\n",
        "    model.compile(optimizer='rmsprop', loss='categorical_crossentropy',metrics=['accuracy', top2_accuracy])\n",
        "    hist = model.fit(x_train_FFNN_W_S, y_train_FFNN_W_S, epochs=3,verbose=0)\n",
        "    model_top1_acc = model.evaluate(x_test_FFNN_W_S, y_test_FFNN_W_S, verbose=0)[1]\n",
        "    model_top2_acc = model.evaluate(x_test_FFNN_W_S, y_test_FFNN_W_S, verbose=0)[2]\n",
        "         \n",
        "    if top2_acc_list and model_top2_acc >= max(top2_acc_list):\n",
        "        #save best model to date\n",
        "        model_json = model.to_json()\n",
        "        with open(\"wiki_model_arq1.json\", \"w\") as f:\n",
        "            f.write(model_json)\n",
        "        model.save_weights(\"wiki_model_arq1.h5\")\n",
        "    \n",
        "    top1_acc_list.append(model_top1_acc)\n",
        "    top2_acc_list.append(model_top2_acc)\n",
        "\n",
        "print(\"\\nResulting Average TOP1 acc:{}\\t TOP2 acc:{}\".format(np.mean(top1_acc_list),np.mean(top2_acc_list)))\n",
        "print(\"Best model accuracies: TOP1:{} \\t TOP2:{}\".format(max(top1_acc_list), max(top2_acc_list)))"
      ],
      "execution_count": null,
      "outputs": [
        {
          "output_type": "display_data",
          "data": {
            "application/vnd.jupyter.widget-view+json": {
              "model_id": "87f733126b9048a6829180c8642cc6ea",
              "version_minor": 0,
              "version_major": 2
            },
            "text/plain": [
              "HBox(children=(FloatProgress(value=0.0, max=30.0), HTML(value='')))"
            ]
          },
          "metadata": {
            "tags": []
          }
        },
        {
          "output_type": "stream",
          "text": [
            "\n",
            "\n",
            "Resulting Average TOP1 acc:0.2473366841673851\t TOP2 acc:0.3868006691336632\n",
            "Best model accuracies: TOP1:0.3487437069416046 \t TOP2:0.49648240208625793\n"
          ],
          "name": "stdout"
        }
      ]
    },
    {
      "cell_type": "code",
      "metadata": {
        "id": "NHs3zkHfofAd",
        "colab_type": "code",
        "colab": {
          "base_uri": "https://localhost:8080/",
          "height": 120,
          "referenced_widgets": [
            "70879ae1209147a5933285065ee9d7f5",
            "58638f9a0fbb4021912711c88ed41c74",
            "cf60c0e7be5a427f9e42ee6d2150c569",
            "4916304df34f4784b1da1f1b726758bd",
            "37117a1250644674ad29d47394e5ca8a",
            "b3e0f403cb144fb9a89e8dc70ab18d20",
            "a1069ef1caa744eeb1c1e1484c2aeed0",
            "1789b0160d0d47aea167c9ac5e39e01a"
          ]
        },
        "outputId": "4f168fdd-6feb-4cd6-8be7-de121ae59272"
      },
      "source": [
        "top1_acc_list = []\n",
        "top2_acc_list = []\n",
        "\n",
        "n_runs = 30\n",
        "\n",
        "for i in tqdm(range(n_runs)):\n",
        "    clear_session()\n",
        "    #Neural Architecture Definition\n",
        "    model = Sequential()\n",
        "    model.add(Dense(128, activation='relu', input_shape=(len(dictionary_FFNN_W_C),)))\n",
        "    model.add(Dense(len(doc_utils.ALL_TOPICS), activation='softmax'))\n",
        "\n",
        "    model.compile(optimizer='rmsprop', loss='categorical_crossentropy',metrics=['accuracy', top2_accuracy])\n",
        "    hist = model.fit(x_train_FFNN_W_C, y_train_FFNN_W_C, epochs=3,verbose=0)\n",
        "    model_top1_acc = model.evaluate(x_test_FFNN_W_C, y_test_FFNN_W_C, verbose=0)[1]\n",
        "    model_top2_acc = model.evaluate(x_test_FFNN_W_C, y_test_FFNN_W_C, verbose=0)[2]\n",
        "         \n",
        "    if top2_acc_list and model_top2_acc >= max(top2_acc_list):\n",
        "        #save best model to date\n",
        "        model_json = model.to_json()\n",
        "        with open(\"wiki_model_arq1.json\", \"w\") as f:\n",
        "            f.write(model_json)\n",
        "        model.save_weights(\"wiki_model_arq1.h5\")\n",
        "    \n",
        "    top1_acc_list.append(model_top1_acc)\n",
        "    top2_acc_list.append(model_top2_acc)\n",
        "\n",
        "print(\"\\nResulting Average TOP1 acc:{}\\t TOP2 acc:{}\".format(np.mean(top1_acc_list),np.mean(top2_acc_list)))\n",
        "print(\"Best model accuracies: TOP1:{} \\t TOP2:{}\".format(max(top1_acc_list), max(top2_acc_list)))"
      ],
      "execution_count": null,
      "outputs": [
        {
          "output_type": "display_data",
          "data": {
            "application/vnd.jupyter.widget-view+json": {
              "model_id": "70879ae1209147a5933285065ee9d7f5",
              "version_minor": 0,
              "version_major": 2
            },
            "text/plain": [
              "HBox(children=(FloatProgress(value=0.0, max=30.0), HTML(value='')))"
            ]
          },
          "metadata": {
            "tags": []
          }
        },
        {
          "output_type": "stream",
          "text": [
            "\n",
            "\n",
            "Resulting Average TOP1 acc:0.34170854339996976\t TOP2 acc:0.5201005011796951\n",
            "Best model accuracies: TOP1:0.402010053396225 \t TOP2:0.6030150651931763\n"
          ],
          "name": "stdout"
        }
      ]
    },
    {
      "cell_type": "code",
      "metadata": {
        "id": "5zYeXDA0mHM9",
        "colab_type": "code",
        "colab": {
          "base_uri": "https://localhost:8080/",
          "height": 120,
          "referenced_widgets": [
            "dea8b6b48b644a07b0a95e6f3dc55cb6",
            "fbe25ad3d5514e63aec0f19b81772953",
            "3504df3452c94c818ac3b0904da297ab",
            "596119f861a74b03b6c78b06cf706880",
            "2851367810ed495aafe36f3b0eb7f09a",
            "5df90b36fc4d431a86ce84259c580012",
            "b2318b7eec7e47de8c9311d11b784ca0",
            "319011b813b8436a982e9797d4c6ee22"
          ]
        },
        "outputId": "965c68ea-5085-45d7-b412-82dd73d6ea59"
      },
      "source": [
        "top1_acc_list = []\n",
        "top2_acc_list = []\n",
        "\n",
        "n_runs = 30\n",
        "\n",
        "for i in tqdm(range(n_runs)):\n",
        "    clear_session()\n",
        "    #Neural Architecture Definition\n",
        "    model = Sequential()\n",
        "    model.add(Dense(256, activation='relu', input_shape=(len(dictionary_FFNN_W_S),)))\n",
        "    model.add(Dense(len(doc_utils.ALL_TOPICS), activation='softmax'))\n",
        "\n",
        "    model.compile(optimizer='rmsprop', loss='categorical_crossentropy',metrics=['accuracy', top2_accuracy])\n",
        "    hist = model.fit(x_train_FFNN_W_S, y_train_FFNN_W_S, epochs=3,verbose=0)\n",
        "    model_top1_acc = model.evaluate(x_test_FFNN_W_S, y_test_FFNN_W_S, verbose=0)[1]\n",
        "    model_top2_acc = model.evaluate(x_test_FFNN_W_S, y_test_FFNN_W_S, verbose=0)[2]\n",
        "         \n",
        "    if top2_acc_list and model_top2_acc >= max(top2_acc_list):\n",
        "        #save best model to date\n",
        "        model_json = model.to_json()\n",
        "        with open(\"wiki_model_arq1.json\", \"w\") as f:\n",
        "            f.write(model_json)\n",
        "        model.save_weights(\"wiki_model_arq1.h5\")\n",
        "    \n",
        "    top1_acc_list.append(model_top1_acc)\n",
        "    top2_acc_list.append(model_top2_acc)\n",
        "\n",
        "print(\"\\nResulting Average TOP1 acc:{}\\t TOP2 acc:{}\".format(np.mean(top1_acc_list),np.mean(top2_acc_list)))\n",
        "print(\"Best model accuracies: TOP1:{} \\t TOP2:{}\".format(max(top1_acc_list), max(top2_acc_list)))"
      ],
      "execution_count": null,
      "outputs": [
        {
          "output_type": "display_data",
          "data": {
            "application/vnd.jupyter.widget-view+json": {
              "model_id": "dea8b6b48b644a07b0a95e6f3dc55cb6",
              "version_minor": 0,
              "version_major": 2
            },
            "text/plain": [
              "HBox(children=(FloatProgress(value=0.0, max=30.0), HTML(value='')))"
            ]
          },
          "metadata": {
            "tags": []
          }
        },
        {
          "output_type": "stream",
          "text": [
            "\n",
            "\n",
            "Resulting Average TOP1 acc:0.28700167636076607\t TOP2 acc:0.44763818780581155\n",
            "Best model accuracies: TOP1:0.42613065242767334 \t TOP2:0.5879396796226501\n"
          ],
          "name": "stdout"
        }
      ]
    },
    {
      "cell_type": "code",
      "metadata": {
        "id": "sbXe-gm6xgwG",
        "colab_type": "code",
        "colab": {
          "base_uri": "https://localhost:8080/",
          "height": 120,
          "referenced_widgets": [
            "5d48729fb7e8474f845b521ac666b955",
            "2fbe32c0f2c9476f98a5dfa91b212f43",
            "a872b62286054198ad561158e21075df",
            "33b2a6b389d142e1b5a32f60db2596e5",
            "216bf74b4d08483499d23fc46c1a1810",
            "66c7fef49c8c4648ad7a60f98df06c60",
            "c06cafec15be4b7dadb0419d8103c4e1",
            "d18de1af7fc94083a0ec458276eee519"
          ]
        },
        "outputId": "8befefe6-6b9a-409f-876f-d6e92e00b1b3"
      },
      "source": [
        "top1_acc_list = []\n",
        "top2_acc_list = []\n",
        "\n",
        "n_runs = 30\n",
        "\n",
        "for i in tqdm(range(n_runs)):\n",
        "    clear_session()\n",
        "    #Neural Architecture Definition\n",
        "    model = Sequential()\n",
        "    model.add(Dense(256, activation='relu', input_shape=(len(dictionary_FFNN_W_C),)))\n",
        "    model.add(Dense(len(doc_utils.ALL_TOPICS), activation='softmax'))\n",
        "\n",
        "    model.compile(optimizer='rmsprop', loss='categorical_crossentropy',metrics=['accuracy', top2_accuracy])\n",
        "    hist = model.fit(x_train_FFNN_W_C, y_train_FFNN_W_C, epochs=3,verbose=0)\n",
        "    model_top1_acc = model.evaluate(x_test_FFNN_W_C, y_test_FFNN_W_C, verbose=0)[1]\n",
        "    model_top2_acc = model.evaluate(x_test_FFNN_W_C, y_test_FFNN_W_C, verbose=0)[2]\n",
        "         \n",
        "    if top2_acc_list and model_top2_acc >= max(top2_acc_list):\n",
        "        #save best model to date\n",
        "        model_json = model.to_json()\n",
        "        with open(\"wiki_model_arq1.json\", \"w\") as f:\n",
        "            f.write(model_json)\n",
        "        model.save_weights(\"wiki_model_arq1.h5\")\n",
        "    \n",
        "    top1_acc_list.append(model_top1_acc)\n",
        "    top2_acc_list.append(model_top2_acc)\n",
        "\n",
        "print(\"\\nResulting Average TOP1 acc:{}\\t TOP2 acc:{}\".format(np.mean(top1_acc_list),np.mean(top2_acc_list)))\n",
        "print(\"Best model accuracies: TOP1:{} \\t TOP2:{}\".format(max(top1_acc_list), max(top2_acc_list)))"
      ],
      "execution_count": null,
      "outputs": [
        {
          "output_type": "display_data",
          "data": {
            "application/vnd.jupyter.widget-view+json": {
              "model_id": "5d48729fb7e8474f845b521ac666b955",
              "version_minor": 0,
              "version_major": 2
            },
            "text/plain": [
              "HBox(children=(FloatProgress(value=0.0, max=30.0), HTML(value='')))"
            ]
          },
          "metadata": {
            "tags": []
          }
        },
        {
          "output_type": "stream",
          "text": [
            "\n",
            "\n",
            "Resulting Average TOP1 acc:0.371624789138635\t TOP2 acc:0.5495812426010768\n",
            "Best model accuracies: TOP1:0.48040202260017395 \t TOP2:0.6502512693405151\n"
          ],
          "name": "stdout"
        }
      ]
    },
    {
      "cell_type": "code",
      "metadata": {
        "id": "99LPCisKw8To",
        "colab_type": "code",
        "colab": {
          "base_uri": "https://localhost:8080/",
          "height": 120,
          "referenced_widgets": [
            "03fd06a7df024fa7938f33ff35406b66",
            "6d18dd8ff8564c6fbbdc3a2126d6e0d3",
            "24a0b0dca5e345a1b82a3e3b97480683",
            "1a4a1e08cc404dcca8eed4e45c66f76b",
            "939b157fa8644ccb8924c5915005b66d",
            "784d605c7af546e9947fa019a881df57",
            "3f34c216a1fb4a6b998dc06b21280406",
            "9527b6084dcf426cbcdbef84d54c8e8a"
          ]
        },
        "outputId": "7655718b-690a-4583-cd7d-77baaf6025c6"
      },
      "source": [
        "top1_acc_list = []\n",
        "top2_acc_list = []\n",
        "\n",
        "n_runs = 30\n",
        "\n",
        "for i in tqdm(range(n_runs)):\n",
        "    clear_session()\n",
        "    #Neural Architecture Definition\n",
        "    model = Sequential()\n",
        "    model.add(Dense(256, activation='tanh', input_shape=(len(dictionary_FFNN_W_C),)))\n",
        "    model.add(Dense(len(doc_utils.ALL_TOPICS), activation='softmax'))\n",
        "\n",
        "    model.compile(optimizer='rmsprop', loss='categorical_crossentropy',metrics=['accuracy', top2_accuracy])\n",
        "    hist = model.fit(x_train_FFNN_W_C, y_train_FFNN_W_C, epochs=3,verbose=0)\n",
        "    model_top1_acc = model.evaluate(x_test_FFNN_W_C, y_test_FFNN_W_C, verbose=0)[1]\n",
        "    model_top2_acc = model.evaluate(x_test_FFNN_W_C, y_test_FFNN_W_C, verbose=0)[2]\n",
        "         \n",
        "    if top2_acc_list and model_top2_acc >= max(top2_acc_list):\n",
        "        #save best model to date\n",
        "        model_json = model.to_json()\n",
        "        with open(\"wiki_model_arq1.json\", \"w\") as f:\n",
        "            f.write(model_json)\n",
        "        model.save_weights(\"wiki_model_arq1.h5\")\n",
        "    \n",
        "    top1_acc_list.append(model_top1_acc)\n",
        "    top2_acc_list.append(model_top2_acc)\n",
        "\n",
        "print(\"\\nResulting Average TOP1 acc:{}\\t TOP2 acc:{}\".format(np.mean(top1_acc_list),np.mean(top2_acc_list)))\n",
        "print(\"Best model accuracies: TOP1:{} \\t TOP2:{}\".format(max(top1_acc_list), max(top2_acc_list)))"
      ],
      "execution_count": null,
      "outputs": [
        {
          "output_type": "display_data",
          "data": {
            "application/vnd.jupyter.widget-view+json": {
              "model_id": "03fd06a7df024fa7938f33ff35406b66",
              "version_minor": 0,
              "version_major": 2
            },
            "text/plain": [
              "HBox(children=(FloatProgress(value=0.0, max=30.0), HTML(value='')))"
            ]
          },
          "metadata": {
            "tags": []
          }
        },
        {
          "output_type": "stream",
          "text": [
            "\n",
            "\n",
            "Resulting Average TOP1 acc:0.27216080327828723\t TOP2 acc:0.43775544265906013\n",
            "Best model accuracies: TOP1:0.38291457295417786 \t TOP2:0.544723629951477\n"
          ],
          "name": "stdout"
        }
      ]
    },
    {
      "cell_type": "code",
      "metadata": {
        "id": "wyMLs_RfodJA",
        "colab_type": "code",
        "colab": {
          "base_uri": "https://localhost:8080/",
          "height": 173,
          "referenced_widgets": [
            "1863bbabc72b458996a738fdf8db2a01",
            "fce4ca78756b494290d4f13abc2a77ab",
            "823576f713eb49778fa0670dacf4f236",
            "7ab4e2e6b75741c7ad0aedc2419e2757",
            "ccdc7fb6ba3b4ad5ad11a5399316de74",
            "371fe44efc354751b74ed30ad44a866e",
            "6a7e64c57add4d85b285790de88a2b56",
            "359a17ecb8b64ab3a28be91c63097985"
          ]
        },
        "outputId": "8567e25d-83cf-446c-d36c-116abdf8eec5"
      },
      "source": [
        "top1_acc_list = []\n",
        "top2_acc_list = []\n",
        "\n",
        "n_runs = 30\n",
        "\n",
        "for i in tqdm(range(n_runs)):\n",
        "    clear_session()\n",
        "    #Neural Architecture Definition\n",
        "    model = Sequential()\n",
        "    model.add(Dense(256, activation='relu', input_shape=(len(dictionary_FFNN_W_C),)))\n",
        "    model.add(Dense(len(doc_utils.ALL_TOPICS), activation='softmax'))\n",
        "\n",
        "    model.compile(optimizer='adam', loss='categorical_crossentropy',metrics=['accuracy', top2_accuracy])\n",
        "    hist = model.fit(x_train_FFNN_W_C, y_train_FFNN_W_C, epochs=3,verbose=0)\n",
        "    model_top1_acc = model.evaluate(x_test_FFNN_W_C, y_test_FFNN_W_C, verbose=0)[1]\n",
        "    model_top2_acc = model.evaluate(x_test_FFNN_W_C, y_test_FFNN_W_C, verbose=0)[2]\n",
        "         \n",
        "    if top2_acc_list and model_top2_acc >= max(top2_acc_list):\n",
        "        #save best model to date\n",
        "        model_json = model.to_json()\n",
        "        with open(\"wiki_model_arq1.json\", \"w\") as f:\n",
        "            f.write(model_json)\n",
        "        model.save_weights(\"wiki_model_arq1.h5\")\n",
        "    \n",
        "    top1_acc_list.append(model_top1_acc)\n",
        "    top2_acc_list.append(model_top2_acc)\n",
        "\n",
        "print(\"\\nResulting Average TOP1 acc:{}\\t TOP2 acc:{}\".format(np.mean(top1_acc_list),np.mean(top2_acc_list)))\n",
        "print(\"Best model accuracies: TOP1:{} \\t TOP2:{}\".format(max(top1_acc_list), max(top2_acc_list)))"
      ],
      "execution_count": null,
      "outputs": [
        {
          "output_type": "stream",
          "text": [
            "/usr/local/lib/python3.6/dist-packages/ipykernel_launcher.py:6: TqdmDeprecationWarning: This function will be removed in tqdm==5.0.0\n",
            "Please use `tqdm.notebook.tqdm` instead of `tqdm.tqdm_notebook`\n",
            "  \n"
          ],
          "name": "stderr"
        },
        {
          "output_type": "display_data",
          "data": {
            "application/vnd.jupyter.widget-view+json": {
              "model_id": "1863bbabc72b458996a738fdf8db2a01",
              "version_minor": 0,
              "version_major": 2
            },
            "text/plain": [
              "HBox(children=(FloatProgress(value=0.0, max=30.0), HTML(value='')))"
            ]
          },
          "metadata": {
            "tags": []
          }
        },
        {
          "output_type": "stream",
          "text": [
            "\n",
            "\n",
            "Resulting Average TOP1 acc:0.37738693356513975\t TOP2 acc:0.553701842824618\n",
            "Best model accuracies: TOP1:0.4522612988948822 \t TOP2:0.6291457414627075\n"
          ],
          "name": "stdout"
        }
      ]
    },
    {
      "cell_type": "code",
      "metadata": {
        "id": "EjhOl4wronnH",
        "colab_type": "code",
        "colab": {
          "base_uri": "https://localhost:8080/",
          "height": 173,
          "referenced_widgets": [
            "8be8e31a562743bb975fa3e086428351",
            "1485056113ca45feb56ceb393a68a49f",
            "8bbcee6d236c46f1b327e9cd09cb82f5",
            "5b7fb9fd5cc441738588c8f3b9d4f8c9",
            "27901bda157d413b872f119a5c5a68e4",
            "87c96c4ec43742f0950d9a4367070632",
            "9e6e6f723ca445de93f2de944fba05f5",
            "8f8ff146b8ae47f4970a6629ef0ba7a7"
          ]
        },
        "outputId": "bc55bc29-912d-4594-e547-8fcfa84d07d5"
      },
      "source": [
        "top1_acc_list = []\n",
        "top2_acc_list = []\n",
        "\n",
        "n_runs = 30\n",
        "\n",
        "for i in tqdm(range(n_runs)):\n",
        "    clear_session()\n",
        "    #Neural Architecture Definition\n",
        "    model = Sequential()\n",
        "    model.add(Dense(128, activation='relu', input_shape=(len(dictionary_FFNN_W_C),)))\n",
        "    model.add(Dense(128, activation='relu'))\n",
        "    model.add(Dense(len(doc_utils.ALL_TOPICS), activation='softmax'))\n",
        "\n",
        "    model.compile(optimizer='rmsprop', loss='categorical_crossentropy',metrics=['accuracy', top2_accuracy])\n",
        "    hist = model.fit(x_train_FFNN_W_C, y_train_FFNN_W_C, epochs=3,verbose=0)\n",
        "    model_top1_acc = model.evaluate(x_test_FFNN_W_C, y_test_FFNN_W_C, verbose=0)[1]\n",
        "    model_top2_acc = model.evaluate(x_test_FFNN_W_C, y_test_FFNN_W_C, verbose=0)[2]\n",
        "         \n",
        "    if top2_acc_list and model_top2_acc >= max(top2_acc_list):\n",
        "        #save best model to date\n",
        "        model_json = model.to_json()\n",
        "        with open(\"wiki_model_arq1.json\", \"w\") as f:\n",
        "            f.write(model_json)\n",
        "        model.save_weights(\"wiki_model_arq1.h5\")\n",
        "    \n",
        "    top1_acc_list.append(model_top1_acc)\n",
        "    top2_acc_list.append(model_top2_acc)\n",
        "\n",
        "print(\"\\nResulting Average TOP1 acc:{}\\t TOP2 acc:{}\".format(np.mean(top1_acc_list),np.mean(top2_acc_list)))\n",
        "print(\"Best model accuracies: TOP1:{} \\t TOP2:{}\".format(max(top1_acc_list), max(top2_acc_list)))"
      ],
      "execution_count": null,
      "outputs": [
        {
          "output_type": "stream",
          "text": [
            "/usr/local/lib/python3.6/dist-packages/ipykernel_launcher.py:6: TqdmDeprecationWarning: This function will be removed in tqdm==5.0.0\n",
            "Please use `tqdm.notebook.tqdm` instead of `tqdm.tqdm_notebook`\n",
            "  \n"
          ],
          "name": "stderr"
        },
        {
          "output_type": "display_data",
          "data": {
            "application/vnd.jupyter.widget-view+json": {
              "model_id": "8be8e31a562743bb975fa3e086428351",
              "version_minor": 0,
              "version_major": 2
            },
            "text/plain": [
              "HBox(children=(FloatProgress(value=0.0, max=30.0), HTML(value='')))"
            ]
          },
          "metadata": {
            "tags": []
          }
        },
        {
          "output_type": "stream",
          "text": [
            "\n",
            "\n",
            "Resulting Average TOP1 acc:0.26951423833767574\t TOP2 acc:0.4201340069373449\n",
            "Best model accuracies: TOP1:0.38492462038993835 \t TOP2:0.5346733927726746\n"
          ],
          "name": "stdout"
        }
      ]
    },
    {
      "cell_type": "code",
      "metadata": {
        "id": "ZCK-ZnTtoyNa",
        "colab_type": "code",
        "colab": {
          "base_uri": "https://localhost:8080/",
          "height": 120,
          "referenced_widgets": [
            "a579e6ff1fd2453ea81bb65bf182bf62",
            "f098043ab22a4335896f57b350c67ec9",
            "b008e825bd094c94885829f0f8f829a6",
            "64d67937607a4c05b2fd87c38b6e130f",
            "d7379a4339554735a7f5a0f38283b0df",
            "b0f833681e5b4f99b22498656dcd8e42",
            "ed3a03a4d4ea4c5e8959fc29b4d2ce28",
            "e8bb993e1ce54731b793fdb5236004c9"
          ]
        },
        "outputId": "20030a84-994b-4180-96a5-d925c45fb553"
      },
      "source": [
        "top1_acc_list = []\n",
        "top2_acc_list = []\n",
        "\n",
        "n_runs = 30\n",
        "\n",
        "for i in tqdm(range(n_runs)):\n",
        "    clear_session()\n",
        "    #Neural Architecture Definition\n",
        "    model = Sequential()\n",
        "    model.add(Dense(128, activation='tanh', input_shape=(len(dictionary_FFNN_W_C),)))\n",
        "    model.add(Dense(64, activation='tanh'))\n",
        "    model.add(Dense(len(doc_utils.ALL_TOPICS), activation='softmax'))\n",
        "\n",
        "    model.compile(optimizer='rmsprop', loss='categorical_crossentropy',metrics=['accuracy', top2_accuracy])\n",
        "    hist = model.fit(x_train_FFNN_W_C, y_train_FFNN_W_C, epochs=3,verbose=0)\n",
        "    model_top1_acc = model.evaluate(x_test_FFNN_W_C, y_test_FFNN_W_C, verbose=0)[1]\n",
        "    model_top2_acc = model.evaluate(x_test_FFNN_W_C, y_test_FFNN_W_C, verbose=0)[2]\n",
        "         \n",
        "    if top2_acc_list and model_top2_acc >= max(top2_acc_list):\n",
        "        #save best model to date\n",
        "        model_json = model.to_json()\n",
        "        with open(\"wiki_model_arq1.json\", \"w\") as f:\n",
        "            f.write(model_json)\n",
        "        model.save_weights(\"wiki_model_arq1.h5\")\n",
        "    \n",
        "    top1_acc_list.append(model_top1_acc)\n",
        "    top2_acc_list.append(model_top2_acc)\n",
        "\n",
        "print(\"\\nResulting Average TOP1 acc:{}\\t TOP2 acc:{}\".format(np.mean(top1_acc_list),np.mean(top2_acc_list)))\n",
        "print(\"Best model accuracies: TOP1:{} \\t TOP2:{}\".format(max(top1_acc_list), max(top2_acc_list)))"
      ],
      "execution_count": null,
      "outputs": [
        {
          "output_type": "display_data",
          "data": {
            "application/vnd.jupyter.widget-view+json": {
              "model_id": "a579e6ff1fd2453ea81bb65bf182bf62",
              "version_minor": 0,
              "version_major": 2
            },
            "text/plain": [
              "HBox(children=(FloatProgress(value=0.0, max=30.0), HTML(value='')))"
            ]
          },
          "metadata": {
            "tags": []
          }
        },
        {
          "output_type": "stream",
          "text": [
            "\n",
            "\n",
            "Resulting Average TOP1 acc:0.29989949862162274\t TOP2 acc:0.478425462047259\n",
            "Best model accuracies: TOP1:0.39497488737106323 \t TOP2:0.5708542466163635\n"
          ],
          "name": "stdout"
        }
      ]
    },
    {
      "cell_type": "code",
      "metadata": {
        "id": "W085b2yEvs7M",
        "colab_type": "code",
        "colab": {
          "base_uri": "https://localhost:8080/",
          "height": 120,
          "referenced_widgets": [
            "81b4f828e2974884a9c38cd9c136d854",
            "f28f0db184f1404aa166abe1d618653b",
            "8f9216ef15d148feae16b5c901a4b08b",
            "b965f7ab716d4b49839239f548d240eb",
            "ffd49ff86d25481b851b3fedc472e28d",
            "04a7aedfe64e43ee83bc4a962bbfd9cd",
            "f3c48fa2af834b059c6b0b3e700570c6",
            "f74d260631a74dffa15a9ee7d66d1cb3"
          ]
        },
        "outputId": "e60d6de6-cd4c-46ce-ef1b-0b295c5ecfe4"
      },
      "source": [
        "top1_acc_list = []\n",
        "top2_acc_list = []\n",
        "\n",
        "n_runs = 30\n",
        "\n",
        "for i in tqdm(range(n_runs)):\n",
        "    clear_session()\n",
        "    #Neural Architecture Definition\n",
        "    model = Sequential()\n",
        "    model.add(Dense(128, activation='relu', input_shape=(len(dictionary_FFNN_W_C),)))\n",
        "    model.add(Dense(64, activation='relu'))\n",
        "    model.add(Dense(len(doc_utils.ALL_TOPICS), activation='softmax'))\n",
        "\n",
        "    model.compile(optimizer='rmsprop', loss='categorical_crossentropy',metrics=['accuracy', top2_accuracy])\n",
        "    hist = model.fit(x_train_FFNN_W_C, y_train_FFNN_W_C, epochs=3,verbose=0)\n",
        "    model_top1_acc = model.evaluate(x_test_FFNN_W_C, y_test_FFNN_W_C, verbose=0)[1]\n",
        "    model_top2_acc = model.evaluate(x_test_FFNN_W_C, y_test_FFNN_W_C, verbose=0)[2]\n",
        "         \n",
        "    if top2_acc_list and model_top2_acc >= max(top2_acc_list):\n",
        "        #save best model to date\n",
        "        model_json = model.to_json()\n",
        "        with open(\"wiki_model_arq1.json\", \"w\") as f:\n",
        "            f.write(model_json)\n",
        "        model.save_weights(\"wiki_model_arq1.h5\")\n",
        "    \n",
        "    top1_acc_list.append(model_top1_acc)\n",
        "    top2_acc_list.append(model_top2_acc)\n",
        "\n",
        "print(\"\\nResulting Average TOP1 acc:{}\\t TOP2 acc:{}\".format(np.mean(top1_acc_list),np.mean(top2_acc_list)))\n",
        "print(\"Best model accuracies: TOP1:{} \\t TOP2:{}\".format(max(top1_acc_list), max(top2_acc_list)))"
      ],
      "execution_count": null,
      "outputs": [
        {
          "output_type": "display_data",
          "data": {
            "application/vnd.jupyter.widget-view+json": {
              "model_id": "81b4f828e2974884a9c38cd9c136d854",
              "version_minor": 0,
              "version_major": 2
            },
            "text/plain": [
              "HBox(children=(FloatProgress(value=0.0, max=30.0), HTML(value='')))"
            ]
          },
          "metadata": {
            "tags": []
          }
        },
        {
          "output_type": "stream",
          "text": [
            "\n",
            "\n",
            "Resulting Average TOP1 acc:0.25594639778137207\t TOP2 acc:0.4068676729996999\n",
            "Best model accuracies: TOP1:0.35376885533332825 \t TOP2:0.5537688732147217\n"
          ],
          "name": "stdout"
        }
      ]
    },
    {
      "cell_type": "code",
      "metadata": {
        "id": "i8oZcF41ot8t",
        "colab_type": "code",
        "colab": {
          "base_uri": "https://localhost:8080/",
          "height": 173,
          "referenced_widgets": [
            "7dda7d703fd4445e8f8d4200ec24184c",
            "703951d57f5c48849f965657a070fd54",
            "4b5a618db03043b18dd71011c154b00b",
            "e62614abf6274b3db020fa8550e9daf6",
            "abde8f13c7e3419f891bbf38a3ea1e32",
            "c90f386fea7f46afb03f1c29a7c7a301",
            "94b3320bf579408887c90aeb25020c04",
            "1af8a8c16dc94ce495de29922835517a"
          ]
        },
        "outputId": "40b838f5-a077-4936-c9a2-6ee6368efce7"
      },
      "source": [
        "top1_acc_list = []\n",
        "top2_acc_list = []\n",
        "\n",
        "n_runs = 30\n",
        "\n",
        "for i in tqdm(range(n_runs)):\n",
        "    clear_session()\n",
        "    #Neural Architecture Definition\n",
        "    model = Sequential()\n",
        "    model.add(Dense(512, activation='tanh', input_shape=(len(dictionary_FFNN_W_C),)))\n",
        "    model.add(Dense(256, activation='tanh'))\n",
        "    model.add(Dense(len(doc_utils.ALL_TOPICS), activation='softmax'))\n",
        "\n",
        "    model.compile(optimizer='rmsprop', loss='categorical_crossentropy',metrics=['accuracy', top2_accuracy])\n",
        "    hist = model.fit(x_train_FFNN_W_C, y_train_FFNN_W_C, epochs=3,verbose=0)\n",
        "    model_top1_acc = model.evaluate(x_test_FFNN_W_C, y_test_FFNN_W_C, verbose=0)[1]\n",
        "    model_top2_acc = model.evaluate(x_test_FFNN_W_C, y_test_FFNN_W_C, verbose=0)[2]\n",
        "         \n",
        "    if top2_acc_list and model_top2_acc >= max(top2_acc_list):\n",
        "        #save best model to date\n",
        "        model_json = model.to_json()\n",
        "        with open(\"wiki_model_arq1.json\", \"w\") as f:\n",
        "            f.write(model_json)\n",
        "        model.save_weights(\"wiki_model_arq1.h5\")\n",
        "    \n",
        "    top1_acc_list.append(model_top1_acc)\n",
        "    top2_acc_list.append(model_top2_acc)\n",
        "\n",
        "print(\"\\nResulting Average TOP1 acc:{}\\t TOP2 acc:{}\".format(np.mean(top1_acc_list),np.mean(top2_acc_list)))\n",
        "print(\"Best model accuracies: TOP1:{} \\t TOP2:{}\".format(max(top1_acc_list), max(top2_acc_list)))"
      ],
      "execution_count": null,
      "outputs": [
        {
          "output_type": "stream",
          "text": [
            "/usr/local/lib/python3.6/dist-packages/ipykernel_launcher.py:6: TqdmDeprecationWarning: This function will be removed in tqdm==5.0.0\n",
            "Please use `tqdm.notebook.tqdm` instead of `tqdm.tqdm_notebook`\n",
            "  \n"
          ],
          "name": "stderr"
        },
        {
          "output_type": "display_data",
          "data": {
            "application/vnd.jupyter.widget-view+json": {
              "model_id": "7dda7d703fd4445e8f8d4200ec24184c",
              "version_minor": 0,
              "version_major": 2
            },
            "text/plain": [
              "HBox(children=(FloatProgress(value=0.0, max=30.0), HTML(value='')))"
            ]
          },
          "metadata": {
            "tags": []
          }
        },
        {
          "output_type": "stream",
          "text": [
            "\n",
            "\n",
            "Resulting Average TOP1 acc:0.28134003231922783\t TOP2 acc:0.44696817398071287\n",
            "Best model accuracies: TOP1:0.36984923481941223 \t TOP2:0.5296482443809509\n"
          ],
          "name": "stdout"
        }
      ]
    },
    {
      "cell_type": "code",
      "metadata": {
        "id": "MG03w_resHds",
        "colab_type": "code",
        "colab": {
          "base_uri": "https://localhost:8080/",
          "height": 173,
          "referenced_widgets": [
            "b3e99fa0939b486d87890fe987078bb1",
            "da3b094ddb9745cf8747cbaa658a92bf",
            "550c2728e2444a70bb35baa22e4c7a2f",
            "2b090ee0f43d4d149bb69e50e32d376b",
            "11f5f2de193c41309cab1620d3863b0b",
            "bef7ba1f1f8349f3a35ca20d69225a31",
            "9cac9dd8037c4eaaadf2dfd960663788",
            "f1f372646c5c4fddaf1186b1389ef817"
          ]
        },
        "outputId": "45f9ddd7-373d-43b7-b9a9-cb5e8c24b68b"
      },
      "source": [
        "top1_acc_list = []\n",
        "top2_acc_list = []\n",
        "\n",
        "n_runs = 30\n",
        "\n",
        "for i in tqdm(range(n_runs)):\n",
        "    clear_session()\n",
        "    #Neural Architecture Definition\n",
        "    model = Sequential()\n",
        "    model.add(Dense(512, activation='relu', input_shape=(len(dictionary_FFNN_W_C),)))\n",
        "    model.add(Dense(256, activation='relu'))\n",
        "    model.add(Dense(len(doc_utils.ALL_TOPICS), activation='softmax'))\n",
        "\n",
        "    model.compile(optimizer='rmsprop', loss='categorical_crossentropy',metrics=['accuracy', top2_accuracy])\n",
        "    hist = model.fit(x_train_FFNN_W_C, y_train_FFNN_W_C, epochs=3,verbose=0)\n",
        "    model_top1_acc = model.evaluate(x_test_FFNN_W_C, y_test_FFNN_W_C, verbose=0)[1]\n",
        "    model_top2_acc = model.evaluate(x_test_FFNN_W_C, y_test_FFNN_W_C, verbose=0)[2]\n",
        "         \n",
        "    if top2_acc_list and model_top2_acc >= max(top2_acc_list):\n",
        "        #save best model to date\n",
        "        model_json = model.to_json()\n",
        "        with open(\"wiki_model_arq1.json\", \"w\") as f:\n",
        "            f.write(model_json)\n",
        "        model.save_weights(\"wiki_model_arq1.h5\")\n",
        "    \n",
        "    top1_acc_list.append(model_top1_acc)\n",
        "    top2_acc_list.append(model_top2_acc)\n",
        "\n",
        "print(\"\\nResulting Average TOP1 acc:{}\\t TOP2 acc:{}\".format(np.mean(top1_acc_list),np.mean(top2_acc_list)))\n",
        "print(\"Best model accuracies: TOP1:{} \\t TOP2:{}\".format(max(top1_acc_list), max(top2_acc_list)))"
      ],
      "execution_count": null,
      "outputs": [
        {
          "output_type": "stream",
          "text": [
            "/usr/local/lib/python3.6/dist-packages/ipykernel_launcher.py:6: TqdmDeprecationWarning: This function will be removed in tqdm==5.0.0\n",
            "Please use `tqdm.notebook.tqdm` instead of `tqdm.tqdm_notebook`\n",
            "  \n"
          ],
          "name": "stderr"
        },
        {
          "output_type": "display_data",
          "data": {
            "application/vnd.jupyter.widget-view+json": {
              "model_id": "b3e99fa0939b486d87890fe987078bb1",
              "version_minor": 0,
              "version_major": 2
            },
            "text/plain": [
              "HBox(children=(FloatProgress(value=0.0, max=30.0), HTML(value='')))"
            ]
          },
          "metadata": {
            "tags": []
          }
        },
        {
          "output_type": "stream",
          "text": [
            "\n",
            "\n",
            "Resulting Average TOP1 acc:0.17118927935759226\t TOP2 acc:0.3409045214454333\n",
            "Best model accuracies: TOP1:0.3135678470134735 \t TOP2:0.47839194536209106\n"
          ],
          "name": "stdout"
        }
      ]
    },
    {
      "cell_type": "markdown",
      "metadata": {
        "id": "FZUG_jGdsp2e",
        "colab_type": "text"
      },
      "source": [
        "### Wiki dataset"
      ]
    },
    {
      "cell_type": "code",
      "metadata": {
        "id": "HbM_Ed7T0wiM",
        "colab_type": "code",
        "colab": {
          "base_uri": "https://localhost:8080/",
          "height": 120,
          "referenced_widgets": [
            "24b6ad8089214f6cbffdeeec67df2ccb",
            "dedaa161b2704471a6554cf26601c3e2",
            "ac04064513f94d25877548d172945806",
            "ef6ea38080f543bfb891220959428ad4",
            "6390c4d2aaeb4564818b84deab912677",
            "7aef4299d090462e9c0ee1272210bfe3",
            "ed372839f02240eb90f23138fcc2ba14",
            "f29766b0ef7746efaa78737140bf2b56"
          ]
        },
        "outputId": "f753c859-c53f-4736-eb56-dbff8db27ce5"
      },
      "source": [
        "top1_acc_list = []\n",
        "top2_acc_list = []\n",
        "\n",
        "n_runs = 30\n",
        "\n",
        "for i in tqdm(range(n_runs)):\n",
        "    clear_session()\n",
        "    #Neural Architecture Definition\n",
        "    model = Sequential()\n",
        "    model.add(Dense(256, activation='relu', input_shape=(len(dictionary_FFNN_W_C),)))\n",
        "    model.add(Dense(len(doc_utils.ALL_TOPICS), activation='softmax'))\n",
        "\n",
        "    model.compile(optimizer='rmsprop', loss='categorical_crossentropy',metrics=['accuracy', top2_accuracy])\n",
        "    hist = model.fit(x_train_FFNN_W_C, y_train_FFNN_W_C, epochs=4,verbose=0)\n",
        "    model_top1_acc = model.evaluate(x_test_FFNN_W_C, y_test_FFNN_W_C, verbose=0)[1]\n",
        "    model_top2_acc = model.evaluate(x_test_FFNN_W_C, y_test_FFNN_W_C, verbose=0)[2]\n",
        "         \n",
        "    if top2_acc_list and model_top2_acc >= max(top2_acc_list):\n",
        "        #save best model to date\n",
        "        model_json = model.to_json()\n",
        "        with open(\"wiki_model_arq1.json\", \"w\") as f:\n",
        "            f.write(model_json)\n",
        "        model.save_weights(\"wiki_model_arq1.h5\")\n",
        "    \n",
        "    top1_acc_list.append(model_top1_acc)\n",
        "    top2_acc_list.append(model_top2_acc)\n",
        "\n",
        "print(\"\\nResulting Average TOP1 acc:{}\\t TOP2 acc:{}\".format(np.mean(top1_acc_list),np.mean(top2_acc_list)))\n",
        "print(\"Best model accuracies: TOP1:{} \\t TOP2:{}\".format(max(top1_acc_list), max(top2_acc_list)))"
      ],
      "execution_count": null,
      "outputs": [
        {
          "output_type": "display_data",
          "data": {
            "application/vnd.jupyter.widget-view+json": {
              "model_id": "24b6ad8089214f6cbffdeeec67df2ccb",
              "version_minor": 0,
              "version_major": 2
            },
            "text/plain": [
              "HBox(children=(FloatProgress(value=0.0, max=30.0), HTML(value='')))"
            ]
          },
          "metadata": {
            "tags": []
          }
        },
        {
          "output_type": "stream",
          "text": [
            "\n",
            "\n",
            "Resulting Average TOP1 acc:0.38422110776106516\t TOP2 acc:0.5498827447493871\n",
            "Best model accuracies: TOP1:0.44723618030548096 \t TOP2:0.6402010321617126\n"
          ],
          "name": "stdout"
        }
      ]
    },
    {
      "cell_type": "code",
      "metadata": {
        "id": "_mAOa7P2yR-n",
        "colab_type": "code",
        "colab": {
          "base_uri": "https://localhost:8080/",
          "height": 52
        },
        "outputId": "4f3cfbc3-4bfa-4bd3-9a67-fae62054ce99"
      },
      "source": [
        "from keras.models import model_from_json\n",
        "#loading best model obtained\n",
        "json_f = open('wiki_model_arq1.json', 'r')\n",
        "best_model_json = json_f.read()\n",
        "json_f.close()\n",
        "best_model = model_from_json(best_model_json)\n",
        "best_model.load_weights(\"wiki_model_arq1.h5\")#loading weights\n",
        "\n",
        "# evaluate loaded model on test data\n",
        "best_model.compile(optimizer='rmsprop', loss='categorical_crossentropy',metrics=['accuracy', top2_accuracy])\n",
        "predictions = best_model.predict_classes(x_test_FFNN_W_C) #for later building confusion matrix\n",
        "print(\"Best FFNN model TOP-1 acc.:\",best_model.evaluate(x_test_FFNN_W_C, y_test_FFNN_W_C, verbose=0)[1])\n",
        "print(\"Best FFNN model TOP-2 acc.:\",best_model.evaluate(x_test_FFNN_W_C, y_test_FFNN_W_C, verbose=0)[2])"
      ],
      "execution_count": null,
      "outputs": [
        {
          "output_type": "stream",
          "text": [
            "Best FFNN model TOP-1 acc.: 0.4050251245498657\n",
            "Best FFNN model TOP-2 acc.: 0.6402010321617126\n"
          ],
          "name": "stdout"
        }
      ]
    },
    {
      "cell_type": "code",
      "metadata": {
        "id": "XPJl5LPKy0MR",
        "colab_type": "code",
        "colab": {
          "base_uri": "https://localhost:8080/",
          "height": 444
        },
        "outputId": "77cc8dbf-dcc3-43af-9b5d-967ce6d0cc2b"
      },
      "source": [
        "doc_utils.plotConfMatrix(y_test_FFNN_W_C, predictions, model = \"NN\")"
      ],
      "execution_count": null,
      "outputs": [
        {
          "output_type": "display_data",
          "data": {
            "image/png": "[encoded data removed]",
            "text/plain": [
              "<Figure size 720x504 with 2 Axes>"
            ]
          },
          "metadata": {
            "tags": [],
            "needs_background": "light"
          }
        }
      ]
    },
    {
      "cell_type": "markdown",
      "metadata": {
        "id": "jBkT6SUgOF5N",
        "colab_type": "text"
      },
      "source": [
        "### arXiv dataset"
      ]
    },
    {
      "cell_type": "code",
      "metadata": {
        "id": "UE2egcLWsuR4",
        "colab_type": "code",
        "colab": {
          "base_uri": "https://localhost:8080/",
          "height": 173,
          "referenced_widgets": [
            "574a0cbfee7247b3a140c7c0f42424c2",
            "221232db717c4e1188b7c7d2657dfc04",
            "eaaf3000cb5a40adb78e8d08340804e8",
            "a28c64e883954666923632e3e19b7fe1",
            "cc5fb2651e084aa9939d43d6bbb791b8",
            "61ad82d3227849ad8b5f21f8e8e6c5d0",
            "737bf4c1bec044a480aa32973dc3acba",
            "9ce3c739eec1419195f4903bff656e6f"
          ]
        },
        "outputId": "a95e3976-a234-4974-8068-c38c7aa73331"
      },
      "source": [
        "top1_acc_list = []\n",
        "top2_acc_list = []\n",
        "\n",
        "n_runs = 30\n",
        "\n",
        "for i in tqdm(range(n_runs)):\n",
        "    clear_session()\n",
        "    #Neural Architecture Definition\n",
        "    model = Sequential()\n",
        "    model.add(Dense(256, activation='relu', input_shape=(len(dictionary_FFNN_A_C),)))\n",
        "    model.add(Dense(len(doc_utils.ARXIV_WIKI_TOPICS), activation='softmax'))\n",
        "\n",
        "    model.compile(optimizer='rmsprop', loss='categorical_crossentropy',metrics=['accuracy', top2_accuracy])\n",
        "    hist = model.fit(x_train_FFNN_A_C, y_train_FFNN_A_C, epochs=5,verbose=0)\n",
        "    model_top1_acc = model.evaluate(x_test_FFNN_A_C, y_test_FFNN_A_C, verbose=0)[1]\n",
        "    model_top2_acc = model.evaluate(x_test_FFNN_A_C, y_test_FFNN_A_C, verbose=0)[2]\n",
        "         \n",
        "    if top2_acc_list and model_top2_acc >= max(top2_acc_list):\n",
        "        #save best model to date\n",
        "        model_json = model.to_json()\n",
        "        with open(\"arxiv_model_arq1.json\", \"w\") as f:\n",
        "            f.write(model_json)\n",
        "        model.save_weights(\"arxiv_model_arq1.h5\")\n",
        "    \n",
        "    top1_acc_list.append(model_top1_acc)\n",
        "    top2_acc_list.append(model_top2_acc)\n",
        "\n",
        "print(\"\\nResulting Average TOP1 acc:{}\\t TOP2 acc:{}\".format(np.mean(top1_acc_list),np.mean(top2_acc_list)))\n",
        "print(\"Best model accuracies: TOP1:{} \\t TOP2:{}\".format(max(top1_acc_list), max(top2_acc_list)))"
      ],
      "execution_count": null,
      "outputs": [
        {
          "output_type": "stream",
          "text": [
            "/usr/local/lib/python3.6/dist-packages/ipykernel_launcher.py:6: TqdmDeprecationWarning: This function will be removed in tqdm==5.0.0\n",
            "Please use `tqdm.notebook.tqdm` instead of `tqdm.tqdm_notebook`\n",
            "  \n"
          ],
          "name": "stderr"
        },
        {
          "output_type": "display_data",
          "data": {
            "application/vnd.jupyter.widget-view+json": {
              "model_id": "574a0cbfee7247b3a140c7c0f42424c2",
              "version_minor": 0,
              "version_major": 2
            },
            "text/plain": [
              "HBox(children=(FloatProgress(value=0.0, max=30.0), HTML(value='')))"
            ]
          },
          "metadata": {
            "tags": []
          }
        },
        {
          "output_type": "stream",
          "text": [
            "\n",
            "\n",
            "Resulting Average TOP1 acc:0.19512499968210856\t TOP2 acc:0.3532499998807907\n",
            "Best model accuracies: TOP1:0.23499999940395355 \t TOP2:0.4099999964237213\n"
          ],
          "name": "stdout"
        }
      ]
    },
    {
      "cell_type": "code",
      "metadata": {
        "id": "oKpeWjcVzWrm",
        "colab_type": "code",
        "colab": {
          "base_uri": "https://localhost:8080/",
          "height": 52
        },
        "outputId": "d347ed9c-1c5e-44f7-c17c-7def6ba0d8a7"
      },
      "source": [
        "json_f = open('arxiv_model_arq1.json', 'r')\n",
        "best_model_json = json_f.read()\n",
        "json_f.close()\n",
        "best_model = model_from_json(best_model_json)\n",
        "best_model.load_weights(\"arxiv_model_arq1.h5\")#loading weights\n",
        "\n",
        "# evaluate loaded model on test data\n",
        "best_model.compile(optimizer='rmsprop', loss='categorical_crossentropy',metrics=['accuracy', top2_accuracy])\n",
        "predictions = best_model.predict_classes(x_test_FFNN_A_C) #for later building confusion matrix\n",
        "print(\"Best FFNN model TOP-1 acc.:\",best_model.evaluate(x_test_FFNN_A_C, y_test_FFNN_A_C, verbose=0)[1])\n",
        "print(\"Best FFNN model TOP-2 acc.:\",best_model.evaluate(x_test_FFNN_A_C, y_test_FFNN_A_C, verbose=0)[2])"
      ],
      "execution_count": null,
      "outputs": [
        {
          "output_type": "stream",
          "text": [
            "Best FFNN model TOP-1 acc.: 0.23499999940395355\n",
            "Best FFNN model TOP-2 acc.: 0.4099999964237213\n"
          ],
          "name": "stdout"
        }
      ]
    },
    {
      "cell_type": "code",
      "metadata": {
        "id": "vLBEe_B8zi8y",
        "colab_type": "code",
        "colab": {
          "base_uri": "https://localhost:8080/",
          "height": 546
        },
        "outputId": "65dabeab-ce9d-4f8e-94c8-be65d9b16cbc"
      },
      "source": [
        "doc_utils.plotConfMatrix(y_test_FFNN_A_C, predictions, model = \"NN\", dataset_type=\"arxiv\")"
      ],
      "execution_count": null,
      "outputs": [
        {
          "output_type": "display_data",
          "data": {
            "image/png": "[encoded data removed]",
            "text/plain": [
              "<Figure size 720x504 with 2 Axes>"
            ]
          },
          "metadata": {
            "tags": [],
            "needs_background": "light"
          }
        }
      ]
    },
    {
      "cell_type": "markdown",
      "metadata": {
        "id": "Ohg7HJ3wteL1",
        "colab_type": "text"
      },
      "source": [
        "#5. Maximum Similarity Classifier GridSearch and Evaluation"
      ]
    },
    {
      "cell_type": "code",
      "metadata": {
        "id": "g-F3AsCb4eRU",
        "colab_type": "code",
        "colab": {}
      },
      "source": [
        "MSC_hgrid  = {\n",
        "        'preprocess' : ['simple','custom'],\n",
        "        'dm' : [0,1],\n",
        "        'vector_size': [50, 100,200,300],\n",
        "        'min_count': [1, 2, 3],\n",
        "        'epochs': [50, 75, 100],\n",
        "        'window': [3, 5, 10]\n",
        "    }"
      ],
      "execution_count": null,
      "outputs": []
    },
    {
      "cell_type": "code",
      "metadata": {
        "id": "9mRsHVuMLHD5",
        "colab_type": "code",
        "colab": {}
      },
      "source": [
        "MSC_arxiv_models_params = list()"
      ],
      "execution_count": null,
      "outputs": []
    },
    {
      "cell_type": "code",
      "metadata": {
        "id": "ZlZkRLhUK0AB",
        "colab_type": "code",
        "colab": {}
      },
      "source": [
        "for epochs in MSC_hgrid['epochs']:\n",
        "    for preprocess in MSC_hgrid['preprocess']:\n",
        "        for dm in MSC_hgrid['dm']:\n",
        "            for vector_size in MSC_hgrid['vector_size']:\n",
        "                for min_count in MSC_hgrid['min_count']:\n",
        "                    for window in MSC_hgrid['window']:\n",
        "\n",
        "                        MSC = MaxSimClassifier(\"arxiv\", preprocess,vector_size, min_count, epochs, dm, window,workers=8)\n",
        "                        MSC.fit(x_train_CLF_A, y_train_CLF_A)\n",
        "                        top2acc = MSC.score(arxiv_dataset, y_test_CLF_A,eval=\"top2\")\n",
        "                        params = {'preprocess': preprocess,'dm':dm ,'epochs': epochs,\n",
        "                                  'vector_size':vector_size, 'min_count':min_count,'window':window}\n",
        "                        MSC_arxiv_models_params.append((top2acc, params))\n",
        "                        print(\"[MSC]:preprocess:{}, epochs:{}, dm:{}, vector_size:{}, min_count:{}, window:{} ==> TOP-2 Acc: {:.4f}\".format(\n",
        "                           preprocess, epochs,dm,vector_size,min_count,window,top2acc\n",
        "                        ))"
      ],
      "execution_count": null,
      "outputs": []
    },
    {
      "cell_type": "code",
      "metadata": {
        "id": "cdgN-9VJtsna",
        "colab_type": "code",
        "colab": {}
      },
      "source": [
        "import pickle #saving for reference later\n",
        "pickle.dump( MSC_arxiv_models_params, open( \"MSC_arxiv_models_params.table\", \"wb\" ) )"
      ],
      "execution_count": null,
      "outputs": []
    },
    {
      "cell_type": "code",
      "metadata": {
        "id": "-HkyDHb8zmuV",
        "colab_type": "code",
        "colab": {
          "base_uri": "https://localhost:8080/",
          "height": 567
        },
        "outputId": "83a078d1-eb34-42d4-a686-c10d2cdc9158"
      },
      "source": [
        "df = pd.DataFrame.from_dict(MSC_arxiv_models_params)\n",
        "df.columns = ['Top-2 Acc.', 'MSC Classifier Parameters']\n",
        "DataTable(df.sort_values(by=['Top-2 Acc.'], ascending=False))"
      ],
      "execution_count": null,
      "outputs": [
        {
          "output_type": "execute_result",
          "data": {
            "application/vnd.google.colaboratory.module+javascript": "\n      import \"https://ssl.gstatic.com/colaboratory/data_table/a6224c040fa35dcf/data_table.js\";\n\n      window.createDataTable({\n        data: [[{\n            'v': 73,\n            'f': \"73\",\n        },\n{\n            'v': 0.62,\n            'f': \"0.62\",\n        },\n\"{'preprocess': 'custom', 'dm': 0, 'epochs': 50, 'vector_size': 50, 'min_count': 1, 'window': 3}\"],\n [{\n            'v': 100,\n            'f': \"100\",\n        },\n{\n            'v': 0.61875,\n            'f': \"0.61875\",\n        },\n\"{'preprocess': 'custom', 'dm': 0, 'epochs': 50, 'vector_size': 300, 'min_count': 1, 'window': 3}\"],\n [{\n            'v': 74,\n            'f': \"74\",\n        },\n{\n            'v': 0.61875,\n            'f': \"0.61875\",\n        },\n\"{'preprocess': 'custom', 'dm': 0, 'epochs': 50, 'vector_size': 50, 'min_count': 1, 'window': 5}\"],\n [{\n            'v': 82,\n            'f': \"82\",\n        },\n{\n            'v': 0.61875,\n            'f': \"0.61875\",\n        },\n\"{'preprocess': 'custom', 'dm': 0, 'epochs': 50, 'vector_size': 100, 'min_count': 1, 'window': 3}\"],\n [{\n            'v': 102,\n            'f': \"102\",\n        },\n{\n            'v': 0.61875,\n            'f': \"0.61875\",\n        },\n\"{'preprocess': 'custom', 'dm': 0, 'epochs': 50, 'vector_size': 300, 'min_count': 1, 'window': 10}\"],\n [{\n            'v': 91,\n            'f': \"91\",\n        },\n{\n            'v': 0.6175,\n            'f': \"0.6175\",\n        },\n\"{'preprocess': 'custom', 'dm': 0, 'epochs': 50, 'vector_size': 200, 'min_count': 1, 'window': 3}\"],\n [{\n            'v': 92,\n            'f': \"92\",\n        },\n{\n            'v': 0.6175,\n            'f': \"0.6175\",\n        },\n\"{'preprocess': 'custom', 'dm': 0, 'epochs': 50, 'vector_size': 200, 'min_count': 1, 'window': 5}\"],\n [{\n            'v': 84,\n            'f': \"84\",\n        },\n{\n            'v': 0.61625,\n            'f': \"0.61625\",\n        },\n\"{'preprocess': 'custom', 'dm': 0, 'epochs': 50, 'vector_size': 100, 'min_count': 1, 'window': 10}\"],\n [{\n            'v': 83,\n            'f': \"83\",\n        },\n{\n            'v': 0.61625,\n            'f': \"0.61625\",\n        },\n\"{'preprocess': 'custom', 'dm': 0, 'epochs': 50, 'vector_size': 100, 'min_count': 1, 'window': 5}\"],\n [{\n            'v': 75,\n            'f': \"75\",\n        },\n{\n            'v': 0.61625,\n            'f': \"0.61625\",\n        },\n\"{'preprocess': 'custom', 'dm': 0, 'epochs': 50, 'vector_size': 50, 'min_count': 1, 'window': 10}\"],\n [{\n            'v': 101,\n            'f': \"101\",\n        },\n{\n            'v': 0.615,\n            'f': \"0.615\",\n        },\n\"{'preprocess': 'custom', 'dm': 0, 'epochs': 50, 'vector_size': 300, 'min_count': 1, 'window': 5}\"],\n [{\n            'v': 93,\n            'f': \"93\",\n        },\n{\n            'v': 0.615,\n            'f': \"0.615\",\n        },\n\"{'preprocess': 'custom', 'dm': 0, 'epochs': 50, 'vector_size': 200, 'min_count': 1, 'window': 10}\"],\n [{\n            'v': 77,\n            'f': \"77\",\n        },\n{\n            'v': 0.6125,\n            'f': \"0.6125\",\n        },\n\"{'preprocess': 'custom', 'dm': 0, 'epochs': 50, 'vector_size': 50, 'min_count': 2, 'window': 5}\"],\n [{\n            'v': 104,\n            'f': \"104\",\n        },\n{\n            'v': 0.6125,\n            'f': \"0.6125\",\n        },\n\"{'preprocess': 'custom', 'dm': 0, 'epochs': 50, 'vector_size': 300, 'min_count': 2, 'window': 5}\"],\n [{\n            'v': 78,\n            'f': \"78\",\n        },\n{\n            'v': 0.61125,\n            'f': \"0.61125\",\n        },\n\"{'preprocess': 'custom', 'dm': 0, 'epochs': 50, 'vector_size': 50, 'min_count': 2, 'window': 10}\"],\n [{\n            'v': 95,\n            'f': \"95\",\n        },\n{\n            'v': 0.61125,\n            'f': \"0.61125\",\n        },\n\"{'preprocess': 'custom', 'dm': 0, 'epochs': 50, 'vector_size': 200, 'min_count': 2, 'window': 5}\"],\n [{\n            'v': 85,\n            'f': \"85\",\n        },\n{\n            'v': 0.61125,\n            'f': \"0.61125\",\n        },\n\"{'preprocess': 'custom', 'dm': 0, 'epochs': 50, 'vector_size': 100, 'min_count': 2, 'window': 3}\"],\n [{\n            'v': 103,\n            'f': \"103\",\n        },\n{\n            'v': 0.61,\n            'f': \"0.61\",\n        },\n\"{'preprocess': 'custom', 'dm': 0, 'epochs': 50, 'vector_size': 300, 'min_count': 2, 'window': 3}\"],\n [{\n            'v': 105,\n            'f': \"105\",\n        },\n{\n            'v': 0.61,\n            'f': \"0.61\",\n        },\n\"{'preprocess': 'custom', 'dm': 0, 'epochs': 50, 'vector_size': 300, 'min_count': 2, 'window': 10}\"],\n [{\n            'v': 86,\n            'f': \"86\",\n        },\n{\n            'v': 0.61,\n            'f': \"0.61\",\n        },\n\"{'preprocess': 'custom', 'dm': 0, 'epochs': 50, 'vector_size': 100, 'min_count': 2, 'window': 5}\"],\n [{\n            'v': 76,\n            'f': \"76\",\n        },\n{\n            'v': 0.60875,\n            'f': \"0.60875\",\n        },\n\"{'preprocess': 'custom', 'dm': 0, 'epochs': 50, 'vector_size': 50, 'min_count': 2, 'window': 3}\"],\n [{\n            'v': 252,\n            'f': \"252\",\n        },\n{\n            'v': 0.60875,\n            'f': \"0.60875\",\n        },\n\"{'preprocess': 'custom', 'dm': 0, 'epochs': 75, 'vector_size': 300, 'min_count': 3, 'window': 10}\"],\n [{\n            'v': 249,\n            'f': \"249\",\n        },\n{\n            'v': 0.6075,\n            'f': \"0.6075\",\n        },\n\"{'preprocess': 'custom', 'dm': 0, 'epochs': 75, 'vector_size': 300, 'min_count': 2, 'window': 10}\"],\n [{\n            'v': 393,\n            'f': \"393\",\n        },\n{\n            'v': 0.6075,\n            'f': \"0.6075\",\n        },\n\"{'preprocess': 'custom', 'dm': 0, 'epochs': 100, 'vector_size': 300, 'min_count': 2, 'window': 10}\"],\n [{\n            'v': 250,\n            'f': \"250\",\n        },\n{\n            'v': 0.60625,\n            'f': \"0.60625\",\n        },\n\"{'preprocess': 'custom', 'dm': 0, 'epochs': 75, 'vector_size': 300, 'min_count': 3, 'window': 3}\"],\n [{\n            'v': 374,\n            'f': \"374\",\n        },\n{\n            'v': 0.60625,\n            'f': \"0.60625\",\n        },\n\"{'preprocess': 'custom', 'dm': 0, 'epochs': 100, 'vector_size': 100, 'min_count': 2, 'window': 5}\"],\n [{\n            'v': 96,\n            'f': \"96\",\n        },\n{\n            'v': 0.60625,\n            'f': \"0.60625\",\n        },\n\"{'preprocess': 'custom', 'dm': 0, 'epochs': 50, 'vector_size': 200, 'min_count': 2, 'window': 10}\"],\n [{\n            'v': 370,\n            'f': \"370\",\n        },\n{\n            'v': 0.60625,\n            'f': \"0.60625\",\n        },\n\"{'preprocess': 'custom', 'dm': 0, 'epochs': 100, 'vector_size': 100, 'min_count': 1, 'window': 3}\"],\n [{\n            'v': 251,\n            'f': \"251\",\n        },\n{\n            'v': 0.60625,\n            'f': \"0.60625\",\n        },\n\"{'preprocess': 'custom', 'dm': 0, 'epochs': 75, 'vector_size': 300, 'min_count': 3, 'window': 5}\"],\n [{\n            'v': 94,\n            'f': \"94\",\n        },\n{\n            'v': 0.605,\n            'f': \"0.605\",\n        },\n\"{'preprocess': 'custom', 'dm': 0, 'epochs': 50, 'vector_size': 200, 'min_count': 2, 'window': 3}\"],\n [{\n            'v': 218,\n            'f': \"218\",\n        },\n{\n            'v': 0.605,\n            'f': \"0.605\",\n        },\n\"{'preprocess': 'custom', 'dm': 0, 'epochs': 75, 'vector_size': 50, 'min_count': 1, 'window': 5}\"],\n [{\n            'v': 391,\n            'f': \"391\",\n        },\n{\n            'v': 0.605,\n            'f': \"0.605\",\n        },\n\"{'preprocess': 'custom', 'dm': 0, 'epochs': 100, 'vector_size': 300, 'min_count': 2, 'window': 3}\"],\n [{\n            'v': 107,\n            'f': \"107\",\n        },\n{\n            'v': 0.605,\n            'f': \"0.605\",\n        },\n\"{'preprocess': 'custom', 'dm': 0, 'epochs': 50, 'vector_size': 300, 'min_count': 3, 'window': 5}\"],\n [{\n            'v': 235,\n            'f': \"235\",\n        },\n{\n            'v': 0.605,\n            'f': \"0.605\",\n        },\n\"{'preprocess': 'custom', 'dm': 0, 'epochs': 75, 'vector_size': 200, 'min_count': 1, 'window': 3}\"],\n [{\n            'v': 225,\n            'f': \"225\",\n        },\n{\n            'v': 0.605,\n            'f': \"0.605\",\n        },\n\"{'preprocess': 'custom', 'dm': 0, 'epochs': 75, 'vector_size': 50, 'min_count': 3, 'window': 10}\"],\n [{\n            'v': 390,\n            'f': \"390\",\n        },\n{\n            'v': 0.605,\n            'f': \"0.605\",\n        },\n\"{'preprocess': 'custom', 'dm': 0, 'epochs': 100, 'vector_size': 300, 'min_count': 1, 'window': 10}\"],\n [{\n            'v': 245,\n            'f': \"245\",\n        },\n{\n            'v': 0.60375,\n            'f': \"0.60375\",\n        },\n\"{'preprocess': 'custom', 'dm': 0, 'epochs': 75, 'vector_size': 300, 'min_count': 1, 'window': 5}\"],\n [{\n            'v': 246,\n            'f': \"246\",\n        },\n{\n            'v': 0.60375,\n            'f': \"0.60375\",\n        },\n\"{'preprocess': 'custom', 'dm': 0, 'epochs': 75, 'vector_size': 300, 'min_count': 1, 'window': 10}\"],\n [{\n            'v': 239,\n            'f': \"239\",\n        },\n{\n            'v': 0.60375,\n            'f': \"0.60375\",\n        },\n\"{'preprocess': 'custom', 'dm': 0, 'epochs': 75, 'vector_size': 200, 'min_count': 2, 'window': 5}\"],\n [{\n            'v': 224,\n            'f': \"224\",\n        },\n{\n            'v': 0.60375,\n            'f': \"0.60375\",\n        },\n\"{'preprocess': 'custom', 'dm': 0, 'epochs': 75, 'vector_size': 50, 'min_count': 3, 'window': 5}\"],\n [{\n            'v': 389,\n            'f': \"389\",\n        },\n{\n            'v': 0.60375,\n            'f': \"0.60375\",\n        },\n\"{'preprocess': 'custom', 'dm': 0, 'epochs': 100, 'vector_size': 300, 'min_count': 1, 'window': 5}\"],\n [{\n            'v': 361,\n            'f': \"361\",\n        },\n{\n            'v': 0.60375,\n            'f': \"0.60375\",\n        },\n\"{'preprocess': 'custom', 'dm': 0, 'epochs': 100, 'vector_size': 50, 'min_count': 1, 'window': 3}\"],\n [{\n            'v': 87,\n            'f': \"87\",\n        },\n{\n            'v': 0.60375,\n            'f': \"0.60375\",\n        },\n\"{'preprocess': 'custom', 'dm': 0, 'epochs': 50, 'vector_size': 100, 'min_count': 2, 'window': 10}\"],\n [{\n            'v': 363,\n            'f': \"363\",\n        },\n{\n            'v': 0.60375,\n            'f': \"0.60375\",\n        },\n\"{'preprocess': 'custom', 'dm': 0, 'epochs': 100, 'vector_size': 50, 'min_count': 1, 'window': 10}\"],\n [{\n            'v': 382,\n            'f': \"382\",\n        },\n{\n            'v': 0.60375,\n            'f': \"0.60375\",\n        },\n\"{'preprocess': 'custom', 'dm': 0, 'epochs': 100, 'vector_size': 200, 'min_count': 2, 'window': 3}\"],\n [{\n            'v': 227,\n            'f': \"227\",\n        },\n{\n            'v': 0.6025,\n            'f': \"0.6025\",\n        },\n\"{'preprocess': 'custom', 'dm': 0, 'epochs': 75, 'vector_size': 100, 'min_count': 1, 'window': 5}\"],\n [{\n            'v': 226,\n            'f': \"226\",\n        },\n{\n            'v': 0.6025,\n            'f': \"0.6025\",\n        },\n\"{'preprocess': 'custom', 'dm': 0, 'epochs': 75, 'vector_size': 100, 'min_count': 1, 'window': 3}\"],\n [{\n            'v': 90,\n            'f': \"90\",\n        },\n{\n            'v': 0.6025,\n            'f': \"0.6025\",\n        },\n\"{'preprocess': 'custom', 'dm': 0, 'epochs': 50, 'vector_size': 100, 'min_count': 3, 'window': 10}\"],\n [{\n            'v': 89,\n            'f': \"89\",\n        },\n{\n            'v': 0.6025,\n            'f': \"0.6025\",\n        },\n\"{'preprocess': 'custom', 'dm': 0, 'epochs': 50, 'vector_size': 100, 'min_count': 3, 'window': 5}\"],\n [{\n            'v': 136,\n            'f': \"136\",\n        },\n{\n            'v': 0.6025,\n            'f': \"0.6025\",\n        },\n\"{'preprocess': 'custom', 'dm': 1, 'epochs': 50, 'vector_size': 300, 'min_count': 1, 'window': 3}\"],\n [{\n            'v': 221,\n            'f': \"221\",\n        },\n{\n            'v': 0.6025,\n            'f': \"0.6025\",\n        },\n\"{'preprocess': 'custom', 'dm': 0, 'epochs': 75, 'vector_size': 50, 'min_count': 2, 'window': 5}\"],\n [{\n            'v': 241,\n            'f': \"241\",\n        },\n{\n            'v': 0.6025,\n            'f': \"0.6025\",\n        },\n\"{'preprocess': 'custom', 'dm': 0, 'epochs': 75, 'vector_size': 200, 'min_count': 3, 'window': 3}\"],\n [{\n            'v': 372,\n            'f': \"372\",\n        },\n{\n            'v': 0.6025,\n            'f': \"0.6025\",\n        },\n\"{'preprocess': 'custom', 'dm': 0, 'epochs': 100, 'vector_size': 100, 'min_count': 1, 'window': 10}\"],\n [{\n            'v': 392,\n            'f': \"392\",\n        },\n{\n            'v': 0.6025,\n            'f': \"0.6025\",\n        },\n\"{'preprocess': 'custom', 'dm': 0, 'epochs': 100, 'vector_size': 300, 'min_count': 2, 'window': 5}\"],\n [{\n            'v': 219,\n            'f': \"219\",\n        },\n{\n            'v': 0.6025,\n            'f': \"0.6025\",\n        },\n\"{'preprocess': 'custom', 'dm': 0, 'epochs': 75, 'vector_size': 50, 'min_count': 1, 'window': 10}\"],\n [{\n            'v': 81,\n            'f': \"81\",\n        },\n{\n            'v': 0.6025,\n            'f': \"0.6025\",\n        },\n\"{'preprocess': 'custom', 'dm': 0, 'epochs': 50, 'vector_size': 50, 'min_count': 3, 'window': 10}\"],\n [{\n            'v': 231,\n            'f': \"231\",\n        },\n{\n            'v': 0.6025,\n            'f': \"0.6025\",\n        },\n\"{'preprocess': 'custom', 'dm': 0, 'epochs': 75, 'vector_size': 100, 'min_count': 2, 'window': 10}\"],\n [{\n            'v': 80,\n            'f': \"80\",\n        },\n{\n            'v': 0.60125,\n            'f': \"0.60125\",\n        },\n\"{'preprocess': 'custom', 'dm': 0, 'epochs': 50, 'vector_size': 50, 'min_count': 3, 'window': 5}\"],\n [{\n            'v': 88,\n            'f': \"88\",\n        },\n{\n            'v': 0.60125,\n            'f': \"0.60125\",\n        },\n\"{'preprocess': 'custom', 'dm': 0, 'epochs': 50, 'vector_size': 100, 'min_count': 3, 'window': 3}\"],\n [{\n            'v': 106,\n            'f': \"106\",\n        },\n{\n            'v': 0.60125,\n            'f': \"0.60125\",\n        },\n\"{'preprocess': 'custom', 'dm': 0, 'epochs': 50, 'vector_size': 300, 'min_count': 3, 'window': 3}\"],\n [{\n            'v': 228,\n            'f': \"228\",\n        },\n{\n            'v': 0.60125,\n            'f': \"0.60125\",\n        },\n\"{'preprocess': 'custom', 'dm': 0, 'epochs': 75, 'vector_size': 100, 'min_count': 1, 'window': 10}\"],\n [{\n            'v': 98,\n            'f': \"98\",\n        },\n{\n            'v': 0.60125,\n            'f': \"0.60125\",\n        },\n\"{'preprocess': 'custom', 'dm': 0, 'epochs': 50, 'vector_size': 200, 'min_count': 3, 'window': 5}\"],\n [{\n            'v': 217,\n            'f': \"217\",\n        },\n{\n            'v': 0.60125,\n            'f': \"0.60125\",\n        },\n\"{'preprocess': 'custom', 'dm': 0, 'epochs': 75, 'vector_size': 50, 'min_count': 1, 'window': 3}\"],\n [{\n            'v': 244,\n            'f': \"244\",\n        },\n{\n            'v': 0.60125,\n            'f': \"0.60125\",\n        },\n\"{'preprocess': 'custom', 'dm': 0, 'epochs': 75, 'vector_size': 300, 'min_count': 1, 'window': 3}\"],\n [{\n            'v': 366,\n            'f': \"366\",\n        },\n{\n            'v': 0.60125,\n            'f': \"0.60125\",\n        },\n\"{'preprocess': 'custom', 'dm': 0, 'epochs': 100, 'vector_size': 50, 'min_count': 2, 'window': 10}\"],\n [{\n            'v': 364,\n            'f': \"364\",\n        },\n{\n            'v': 0.60125,\n            'f': \"0.60125\",\n        },\n\"{'preprocess': 'custom', 'dm': 0, 'epochs': 100, 'vector_size': 50, 'min_count': 2, 'window': 3}\"],\n [{\n            'v': 362,\n            'f': \"362\",\n        },\n{\n            'v': 0.60125,\n            'f': \"0.60125\",\n        },\n\"{'preprocess': 'custom', 'dm': 0, 'epochs': 100, 'vector_size': 50, 'min_count': 1, 'window': 5}\"],\n [{\n            'v': 238,\n            'f': \"238\",\n        },\n{\n            'v': 0.60125,\n            'f': \"0.60125\",\n        },\n\"{'preprocess': 'custom', 'dm': 0, 'epochs': 75, 'vector_size': 200, 'min_count': 2, 'window': 3}\"],\n [{\n            'v': 248,\n            'f': \"248\",\n        },\n{\n            'v': 0.60125,\n            'f': \"0.60125\",\n        },\n\"{'preprocess': 'custom', 'dm': 0, 'epochs': 75, 'vector_size': 300, 'min_count': 2, 'window': 5}\"],\n [{\n            'v': 240,\n            'f': \"240\",\n        },\n{\n            'v': 0.60125,\n            'f': \"0.60125\",\n        },\n\"{'preprocess': 'custom', 'dm': 0, 'epochs': 75, 'vector_size': 200, 'min_count': 2, 'window': 10}\"],\n [{\n            'v': 242,\n            'f': \"242\",\n        },\n{\n            'v': 0.60125,\n            'f': \"0.60125\",\n        },\n\"{'preprocess': 'custom', 'dm': 0, 'epochs': 75, 'vector_size': 200, 'min_count': 3, 'window': 5}\"],\n [{\n            'v': 229,\n            'f': \"229\",\n        },\n{\n            'v': 0.6,\n            'f': \"0.6\",\n        },\n\"{'preprocess': 'custom', 'dm': 0, 'epochs': 75, 'vector_size': 100, 'min_count': 2, 'window': 3}\"],\n [{\n            'v': 108,\n            'f': \"108\",\n        },\n{\n            'v': 0.6,\n            'f': \"0.6\",\n        },\n\"{'preprocess': 'custom', 'dm': 0, 'epochs': 50, 'vector_size': 300, 'min_count': 3, 'window': 10}\"],\n [{\n            'v': 379,\n            'f': \"379\",\n        },\n{\n            'v': 0.6,\n            'f': \"0.6\",\n        },\n\"{'preprocess': 'custom', 'dm': 0, 'epochs': 100, 'vector_size': 200, 'min_count': 1, 'window': 3}\"],\n [{\n            'v': 365,\n            'f': \"365\",\n        },\n{\n            'v': 0.6,\n            'f': \"0.6\",\n        },\n\"{'preprocess': 'custom', 'dm': 0, 'epochs': 100, 'vector_size': 50, 'min_count': 2, 'window': 5}\"],\n [{\n            'v': 237,\n            'f': \"237\",\n        },\n{\n            'v': 0.6,\n            'f': \"0.6\",\n        },\n\"{'preprocess': 'custom', 'dm': 0, 'epochs': 75, 'vector_size': 200, 'min_count': 1, 'window': 10}\"],\n [{\n            'v': 243,\n            'f': \"243\",\n        },\n{\n            'v': 0.6,\n            'f': \"0.6\",\n        },\n\"{'preprocess': 'custom', 'dm': 0, 'epochs': 75, 'vector_size': 200, 'min_count': 3, 'window': 10}\"],\n [{\n            'v': 232,\n            'f': \"232\",\n        },\n{\n            'v': 0.6,\n            'f': \"0.6\",\n        },\n\"{'preprocess': 'custom', 'dm': 0, 'epochs': 75, 'vector_size': 100, 'min_count': 3, 'window': 3}\"],\n [{\n            'v': 236,\n            'f': \"236\",\n        },\n{\n            'v': 0.6,\n            'f': \"0.6\",\n        },\n\"{'preprocess': 'custom', 'dm': 0, 'epochs': 75, 'vector_size': 200, 'min_count': 1, 'window': 5}\"],\n [{\n            'v': 233,\n            'f': \"233\",\n        },\n{\n            'v': 0.6,\n            'f': \"0.6\",\n        },\n\"{'preprocess': 'custom', 'dm': 0, 'epochs': 75, 'vector_size': 100, 'min_count': 3, 'window': 5}\"],\n [{\n            'v': 373,\n            'f': \"373\",\n        },\n{\n            'v': 0.59875,\n            'f': \"0.59875\",\n        },\n\"{'preprocess': 'custom', 'dm': 0, 'epochs': 100, 'vector_size': 100, 'min_count': 2, 'window': 3}\"],\n [{\n            'v': 510,\n            'f': \"510\",\n        },\n{\n            'v': 0.59875,\n            'f': \"0.59875\",\n        },\n\"{'preprocess': 'custom', 'dm': 0, 'epochs': 125, 'vector_size': 50, 'min_count': 2, 'window': 10}\"],\n [{\n            'v': 523,\n            'f': \"523\",\n        },\n{\n            'v': 0.59875,\n            'f': \"0.59875\",\n        },\n\"{'preprocess': 'custom', 'dm': 0, 'epochs': 125, 'vector_size': 200, 'min_count': 1, 'window': 3}\"],\n [{\n            'v': 381,\n            'f': \"381\",\n        },\n{\n            'v': 0.59875,\n            'f': \"0.59875\",\n        },\n\"{'preprocess': 'custom', 'dm': 0, 'epochs': 100, 'vector_size': 200, 'min_count': 1, 'window': 10}\"],\n [{\n            'v': 230,\n            'f': \"230\",\n        },\n{\n            'v': 0.59875,\n            'f': \"0.59875\",\n        },\n\"{'preprocess': 'custom', 'dm': 0, 'epochs': 75, 'vector_size': 100, 'min_count': 2, 'window': 5}\"],\n [{\n            'v': 375,\n            'f': \"375\",\n        },\n{\n            'v': 0.59875,\n            'f': \"0.59875\",\n        },\n\"{'preprocess': 'custom', 'dm': 0, 'epochs': 100, 'vector_size': 100, 'min_count': 2, 'window': 10}\"],\n [{\n            'v': 371,\n            'f': \"371\",\n        },\n{\n            'v': 0.59875,\n            'f': \"0.59875\",\n        },\n\"{'preprocess': 'custom', 'dm': 0, 'epochs': 100, 'vector_size': 100, 'min_count': 1, 'window': 5}\"],\n [{\n            'v': 223,\n            'f': \"223\",\n        },\n{\n            'v': 0.59875,\n            'f': \"0.59875\",\n        },\n\"{'preprocess': 'custom', 'dm': 0, 'epochs': 75, 'vector_size': 50, 'min_count': 3, 'window': 3}\"],\n [{\n            'v': 79,\n            'f': \"79\",\n        },\n{\n            'v': 0.59875,\n            'f': \"0.59875\",\n        },\n\"{'preprocess': 'custom', 'dm': 0, 'epochs': 50, 'vector_size': 50, 'min_count': 3, 'window': 3}\"],\n [{\n            'v': 220,\n            'f': \"220\",\n        },\n{\n            'v': 0.5975,\n            'f': \"0.5975\",\n        },\n\"{'preprocess': 'custom', 'dm': 0, 'epochs': 75, 'vector_size': 50, 'min_count': 2, 'window': 3}\"],\n [{\n            'v': 383,\n            'f': \"383\",\n        },\n{\n            'v': 0.5975,\n            'f': \"0.5975\",\n        },\n\"{'preprocess': 'custom', 'dm': 0, 'epochs': 100, 'vector_size': 200, 'min_count': 2, 'window': 5}\"],\n [{\n            'v': 514,\n            'f': \"514\",\n        },\n{\n            'v': 0.5975,\n            'f': \"0.5975\",\n        },\n\"{'preprocess': 'custom', 'dm': 0, 'epochs': 125, 'vector_size': 100, 'min_count': 1, 'window': 3}\"],\n [{\n            'v': 535,\n            'f': \"535\",\n        },\n{\n            'v': 0.5975,\n            'f': \"0.5975\",\n        },\n\"{'preprocess': 'custom', 'dm': 0, 'epochs': 125, 'vector_size': 300, 'min_count': 2, 'window': 3}\"],\n [{\n            'v': 534,\n            'f': \"534\",\n        },\n{\n            'v': 0.5975,\n            'f': \"0.5975\",\n        },\n\"{'preprocess': 'custom', 'dm': 0, 'epochs': 125, 'vector_size': 300, 'min_count': 1, 'window': 10}\"],\n [{\n            'v': 377,\n            'f': \"377\",\n        },\n{\n            'v': 0.59625,\n            'f': \"0.59625\",\n        },\n\"{'preprocess': 'custom', 'dm': 0, 'epochs': 100, 'vector_size': 100, 'min_count': 3, 'window': 5}\"],\n [{\n            'v': 509,\n            'f': \"509\",\n        },\n{\n            'v': 0.59625,\n            'f': \"0.59625\",\n        },\n\"{'preprocess': 'custom', 'dm': 0, 'epochs': 125, 'vector_size': 50, 'min_count': 2, 'window': 5}\"],\n [{\n            'v': 222,\n            'f': \"222\",\n        },\n{\n            'v': 0.59625,\n            'f': \"0.59625\",\n        },\n\"{'preprocess': 'custom', 'dm': 0, 'epochs': 75, 'vector_size': 50, 'min_count': 2, 'window': 10}\"],\n [{\n            'v': 525,\n            'f': \"525\",\n        },\n{\n            'v': 0.59625,\n            'f': \"0.59625\",\n        },\n\"{'preprocess': 'custom', 'dm': 0, 'epochs': 125, 'vector_size': 200, 'min_count': 1, 'window': 10}\"],\n [{\n            'v': 527,\n            'f': \"527\",\n        },\n{\n            'v': 0.59625,\n            'f': \"0.59625\",\n        },\n\"{'preprocess': 'custom', 'dm': 0, 'epochs': 125, 'vector_size': 200, 'min_count': 2, 'window': 5}\"],\n [{\n            'v': 532,\n            'f': \"532\",\n        },\n{\n            'v': 0.59625,\n            'f': \"0.59625\",\n        },\n\"{'preprocess': 'custom', 'dm': 0, 'epochs': 125, 'vector_size': 300, 'min_count': 1, 'window': 3}\"],\n [{\n            'v': 247,\n            'f': \"247\",\n        },\n{\n            'v': 0.59625,\n            'f': \"0.59625\",\n        },\n\"{'preprocess': 'custom', 'dm': 0, 'epochs': 75, 'vector_size': 300, 'min_count': 2, 'window': 3}\"],\n [{\n            'v': 388,\n            'f': \"388\",\n        },\n{\n            'v': 0.59625,\n            'f': \"0.59625\",\n        },\n\"{'preprocess': 'custom', 'dm': 0, 'epochs': 100, 'vector_size': 300, 'min_count': 1, 'window': 3}\"],\n [{\n            'v': 380,\n            'f': \"380\",\n        },\n{\n            'v': 0.59625,\n            'f': \"0.59625\",\n        },\n\"{'preprocess': 'custom', 'dm': 0, 'epochs': 100, 'vector_size': 200, 'min_count': 1, 'window': 5}\"],\n [{\n            'v': 234,\n            'f': \"234\",\n        },\n{\n            'v': 0.59625,\n            'f': \"0.59625\",\n        },\n\"{'preprocess': 'custom', 'dm': 0, 'epochs': 75, 'vector_size': 100, 'min_count': 3, 'window': 10}\"],\n [{\n            'v': 524,\n            'f': \"524\",\n        },\n{\n            'v': 0.595,\n            'f': \"0.595\",\n        },\n\"{'preprocess': 'custom', 'dm': 0, 'epochs': 125, 'vector_size': 200, 'min_count': 1, 'window': 5}\"],\n [{\n            'v': 537,\n            'f': \"537\",\n        },\n{\n            'v': 0.595,\n            'f': \"0.595\",\n        },\n\"{'preprocess': 'custom', 'dm': 0, 'epochs': 125, 'vector_size': 300, 'min_count': 2, 'window': 10}\"],\n [{\n            'v': 516,\n            'f': \"516\",\n        },\n{\n            'v': 0.595,\n            'f': \"0.595\",\n        },\n\"{'preprocess': 'custom', 'dm': 0, 'epochs': 125, 'vector_size': 100, 'min_count': 1, 'window': 10}\"],\n [{\n            'v': 515,\n            'f': \"515\",\n        },\n{\n            'v': 0.595,\n            'f': \"0.595\",\n        },\n\"{'preprocess': 'custom', 'dm': 0, 'epochs': 125, 'vector_size': 100, 'min_count': 1, 'window': 5}\"],\n [{\n            'v': 508,\n            'f': \"508\",\n        },\n{\n            'v': 0.595,\n            'f': \"0.595\",\n        },\n\"{'preprocess': 'custom', 'dm': 0, 'epochs': 125, 'vector_size': 50, 'min_count': 2, 'window': 3}\"],\n [{\n            'v': 395,\n            'f': \"395\",\n        },\n{\n            'v': 0.595,\n            'f': \"0.595\",\n        },\n\"{'preprocess': 'custom', 'dm': 0, 'epochs': 100, 'vector_size': 300, 'min_count': 3, 'window': 5}\"],\n [{\n            'v': 506,\n            'f': \"506\",\n        },\n{\n            'v': 0.595,\n            'f': \"0.595\",\n        },\n\"{'preprocess': 'custom', 'dm': 0, 'epochs': 125, 'vector_size': 50, 'min_count': 1, 'window': 5}\"],\n [{\n            'v': 519,\n            'f': \"519\",\n        },\n{\n            'v': 0.59375,\n            'f': \"0.59375\",\n        },\n\"{'preprocess': 'custom', 'dm': 0, 'epochs': 125, 'vector_size': 100, 'min_count': 2, 'window': 10}\"],\n [{\n            'v': 369,\n            'f': \"369\",\n        },\n{\n            'v': 0.59375,\n            'f': \"0.59375\",\n        },\n\"{'preprocess': 'custom', 'dm': 0, 'epochs': 100, 'vector_size': 50, 'min_count': 3, 'window': 10}\"],\n [{\n            'v': 507,\n            'f': \"507\",\n        },\n{\n            'v': 0.59375,\n            'f': \"0.59375\",\n        },\n\"{'preprocess': 'custom', 'dm': 0, 'epochs': 125, 'vector_size': 50, 'min_count': 1, 'window': 10}\"],\n [{\n            'v': 505,\n            'f': \"505\",\n        },\n{\n            'v': 0.59375,\n            'f': \"0.59375\",\n        },\n\"{'preprocess': 'custom', 'dm': 0, 'epochs': 125, 'vector_size': 50, 'min_count': 1, 'window': 3}\"],\n [{\n            'v': 385,\n            'f': \"385\",\n        },\n{\n            'v': 0.59375,\n            'f': \"0.59375\",\n        },\n\"{'preprocess': 'custom', 'dm': 0, 'epochs': 100, 'vector_size': 200, 'min_count': 3, 'window': 3}\"],\n [{\n            'v': 99,\n            'f': \"99\",\n        },\n{\n            'v': 0.59375,\n            'f': \"0.59375\",\n        },\n\"{'preprocess': 'custom', 'dm': 0, 'epochs': 50, 'vector_size': 200, 'min_count': 3, 'window': 10}\"],\n [{\n            'v': 526,\n            'f': \"526\",\n        },\n{\n            'v': 0.5925,\n            'f': \"0.5925\",\n        },\n\"{'preprocess': 'custom', 'dm': 0, 'epochs': 125, 'vector_size': 200, 'min_count': 2, 'window': 3}\"],\n [{\n            'v': 533,\n            'f': \"533\",\n        },\n{\n            'v': 0.5925,\n            'f': \"0.5925\",\n        },\n\"{'preprocess': 'custom', 'dm': 0, 'epochs': 125, 'vector_size': 300, 'min_count': 1, 'window': 5}\"],\n [{\n            'v': 517,\n            'f': \"517\",\n        },\n{\n            'v': 0.5925,\n            'f': \"0.5925\",\n        },\n\"{'preprocess': 'custom', 'dm': 0, 'epochs': 125, 'vector_size': 100, 'min_count': 2, 'window': 3}\"],\n [{\n            'v': 139,\n            'f': \"139\",\n        },\n{\n            'v': 0.5925,\n            'f': \"0.5925\",\n        },\n\"{'preprocess': 'custom', 'dm': 1, 'epochs': 50, 'vector_size': 300, 'min_count': 2, 'window': 3}\"],\n [{\n            'v': 528,\n            'f': \"528\",\n        },\n{\n            'v': 0.5925,\n            'f': \"0.5925\",\n        },\n\"{'preprocess': 'custom', 'dm': 0, 'epochs': 125, 'vector_size': 200, 'min_count': 2, 'window': 10}\"],\n [{\n            'v': 97,\n            'f': \"97\",\n        },\n{\n            'v': 0.5925,\n            'f': \"0.5925\",\n        },\n\"{'preprocess': 'custom', 'dm': 0, 'epochs': 50, 'vector_size': 200, 'min_count': 3, 'window': 3}\"],\n [{\n            'v': 513,\n            'f': \"513\",\n        },\n{\n            'v': 0.59125,\n            'f': \"0.59125\",\n        },\n\"{'preprocess': 'custom', 'dm': 0, 'epochs': 125, 'vector_size': 50, 'min_count': 3, 'window': 10}\"],\n [{\n            'v': 386,\n            'f': \"386\",\n        },\n{\n            'v': 0.59125,\n            'f': \"0.59125\",\n        },\n\"{'preprocess': 'custom', 'dm': 0, 'epochs': 100, 'vector_size': 200, 'min_count': 3, 'window': 5}\"],\n [{\n            'v': 518,\n            'f': \"518\",\n        },\n{\n            'v': 0.59125,\n            'f': \"0.59125\",\n        },\n\"{'preprocess': 'custom', 'dm': 0, 'epochs': 125, 'vector_size': 100, 'min_count': 2, 'window': 5}\"],\n [{\n            'v': 384,\n            'f': \"384\",\n        },\n{\n            'v': 0.59125,\n            'f': \"0.59125\",\n        },\n\"{'preprocess': 'custom', 'dm': 0, 'epochs': 100, 'vector_size': 200, 'min_count': 2, 'window': 10}\"],\n [{\n            'v': 367,\n            'f': \"367\",\n        },\n{\n            'v': 0.59125,\n            'f': \"0.59125\",\n        },\n\"{'preprocess': 'custom', 'dm': 0, 'epochs': 100, 'vector_size': 50, 'min_count': 3, 'window': 3}\"],\n [{\n            'v': 529,\n            'f': \"529\",\n        },\n{\n            'v': 0.59125,\n            'f': \"0.59125\",\n        },\n\"{'preprocess': 'custom', 'dm': 0, 'epochs': 125, 'vector_size': 200, 'min_count': 3, 'window': 3}\"],\n [{\n            'v': 127,\n            'f': \"127\",\n        },\n{\n            'v': 0.59125,\n            'f': \"0.59125\",\n        },\n\"{'preprocess': 'custom', 'dm': 1, 'epochs': 50, 'vector_size': 200, 'min_count': 1, 'window': 3}\"],\n [{\n            'v': 396,\n            'f': \"396\",\n        },\n{\n            'v': 0.59125,\n            'f': \"0.59125\",\n        },\n\"{'preprocess': 'custom', 'dm': 0, 'epochs': 100, 'vector_size': 300, 'min_count': 3, 'window': 10}\"],\n [{\n            'v': 536,\n            'f': \"536\",\n        },\n{\n            'v': 0.59125,\n            'f': \"0.59125\",\n        },\n\"{'preprocess': 'custom', 'dm': 0, 'epochs': 125, 'vector_size': 300, 'min_count': 2, 'window': 5}\"],\n [{\n            'v': 118,\n            'f': \"118\",\n        },\n{\n            'v': 0.59125,\n            'f': \"0.59125\",\n        },\n\"{'preprocess': 'custom', 'dm': 1, 'epochs': 50, 'vector_size': 100, 'min_count': 1, 'window': 3}\"],\n [{\n            'v': 539,\n            'f': \"539\",\n        },\n{\n            'v': 0.59,\n            'f': \"0.59\",\n        },\n\"{'preprocess': 'custom', 'dm': 0, 'epochs': 125, 'vector_size': 300, 'min_count': 3, 'window': 5}\"],\n [{\n            'v': 109,\n            'f': \"109\",\n        },\n{\n            'v': 0.59,\n            'f': \"0.59\",\n        },\n\"{'preprocess': 'custom', 'dm': 1, 'epochs': 50, 'vector_size': 50, 'min_count': 1, 'window': 3}\"],\n [{\n            'v': 112,\n            'f': \"112\",\n        },\n{\n            'v': 0.59,\n            'f': \"0.59\",\n        },\n\"{'preprocess': 'custom', 'dm': 1, 'epochs': 50, 'vector_size': 50, 'min_count': 2, 'window': 3}\"],\n [{\n            'v': 378,\n            'f': \"378\",\n        },\n{\n            'v': 0.58875,\n            'f': \"0.58875\",\n        },\n\"{'preprocess': 'custom', 'dm': 0, 'epochs': 100, 'vector_size': 100, 'min_count': 3, 'window': 10}\"],\n [{\n            'v': 522,\n            'f': \"522\",\n        },\n{\n            'v': 0.58875,\n            'f': \"0.58875\",\n        },\n\"{'preprocess': 'custom', 'dm': 0, 'epochs': 125, 'vector_size': 100, 'min_count': 3, 'window': 10}\"],\n [{\n            'v': 530,\n            'f': \"530\",\n        },\n{\n            'v': 0.58875,\n            'f': \"0.58875\",\n        },\n\"{'preprocess': 'custom', 'dm': 0, 'epochs': 125, 'vector_size': 200, 'min_count': 3, 'window': 5}\"],\n [{\n            'v': 387,\n            'f': \"387\",\n        },\n{\n            'v': 0.58875,\n            'f': \"0.58875\",\n        },\n\"{'preprocess': 'custom', 'dm': 0, 'epochs': 100, 'vector_size': 200, 'min_count': 3, 'window': 10}\"],\n [{\n            'v': 130,\n            'f': \"130\",\n        },\n{\n            'v': 0.58875,\n            'f': \"0.58875\",\n        },\n\"{'preprocess': 'custom', 'dm': 1, 'epochs': 50, 'vector_size': 200, 'min_count': 2, 'window': 3}\"],\n [{\n            'v': 376,\n            'f': \"376\",\n        },\n{\n            'v': 0.58875,\n            'f': \"0.58875\",\n        },\n\"{'preprocess': 'custom', 'dm': 0, 'epochs': 100, 'vector_size': 100, 'min_count': 3, 'window': 3}\"],\n [{\n            'v': 394,\n            'f': \"394\",\n        },\n{\n            'v': 0.58875,\n            'f': \"0.58875\",\n        },\n\"{'preprocess': 'custom', 'dm': 0, 'epochs': 100, 'vector_size': 300, 'min_count': 3, 'window': 3}\"],\n [{\n            'v': 540,\n            'f': \"540\",\n        },\n{\n            'v': 0.58875,\n            'f': \"0.58875\",\n        },\n\"{'preprocess': 'custom', 'dm': 0, 'epochs': 125, 'vector_size': 300, 'min_count': 3, 'window': 10}\"],\n [{\n            'v': 521,\n            'f': \"521\",\n        },\n{\n            'v': 0.58875,\n            'f': \"0.58875\",\n        },\n\"{'preprocess': 'custom', 'dm': 0, 'epochs': 125, 'vector_size': 100, 'min_count': 3, 'window': 5}\"],\n [{\n            'v': 531,\n            'f': \"531\",\n        },\n{\n            'v': 0.5875,\n            'f': \"0.5875\",\n        },\n\"{'preprocess': 'custom', 'dm': 0, 'epochs': 125, 'vector_size': 200, 'min_count': 3, 'window': 10}\"],\n [{\n            'v': 368,\n            'f': \"368\",\n        },\n{\n            'v': 0.5875,\n            'f': \"0.5875\",\n        },\n\"{'preprocess': 'custom', 'dm': 0, 'epochs': 100, 'vector_size': 50, 'min_count': 3, 'window': 5}\"],\n [{\n            'v': 512,\n            'f': \"512\",\n        },\n{\n            'v': 0.5875,\n            'f': \"0.5875\",\n        },\n\"{'preprocess': 'custom', 'dm': 0, 'epochs': 125, 'vector_size': 50, 'min_count': 3, 'window': 5}\"],\n [{\n            'v': 520,\n            'f': \"520\",\n        },\n{\n            'v': 0.58625,\n            'f': \"0.58625\",\n        },\n\"{'preprocess': 'custom', 'dm': 0, 'epochs': 125, 'vector_size': 100, 'min_count': 3, 'window': 3}\"],\n [{\n            'v': 538,\n            'f': \"538\",\n        },\n{\n            'v': 0.585,\n            'f': \"0.585\",\n        },\n\"{'preprocess': 'custom', 'dm': 0, 'epochs': 125, 'vector_size': 300, 'min_count': 3, 'window': 3}\"],\n [{\n            'v': 121,\n            'f': \"121\",\n        },\n{\n            'v': 0.58375,\n            'f': \"0.58375\",\n        },\n\"{'preprocess': 'custom', 'dm': 1, 'epochs': 50, 'vector_size': 100, 'min_count': 2, 'window': 3}\"],\n [{\n            'v': 137,\n            'f': \"137\",\n        },\n{\n            'v': 0.58375,\n            'f': \"0.58375\",\n        },\n\"{'preprocess': 'custom', 'dm': 1, 'epochs': 50, 'vector_size': 300, 'min_count': 1, 'window': 5}\"],\n [{\n            'v': 511,\n            'f': \"511\",\n        },\n{\n            'v': 0.58375,\n            'f': \"0.58375\",\n        },\n\"{'preprocess': 'custom', 'dm': 0, 'epochs': 125, 'vector_size': 50, 'min_count': 3, 'window': 3}\"],\n [{\n            'v': 128,\n            'f': \"128\",\n        },\n{\n            'v': 0.575,\n            'f': \"0.575\",\n        },\n\"{'preprocess': 'custom', 'dm': 1, 'epochs': 50, 'vector_size': 200, 'min_count': 1, 'window': 5}\"],\n [{\n            'v': 131,\n            'f': \"131\",\n        },\n{\n            'v': 0.57375,\n            'f': \"0.57375\",\n        },\n\"{'preprocess': 'custom', 'dm': 1, 'epochs': 50, 'vector_size': 200, 'min_count': 2, 'window': 5}\"],\n [{\n            'v': 30,\n            'f': \"30\",\n        },\n{\n            'v': 0.57375,\n            'f': \"0.57375\",\n        },\n\"{'preprocess': 'simple', 'dm': 0, 'epochs': 50, 'vector_size': 300, 'min_count': 1, 'window': 10}\"],\n [{\n            'v': 21,\n            'f': \"21\",\n        },\n{\n            'v': 0.5725,\n            'f': \"0.5725\",\n        },\n\"{'preprocess': 'simple', 'dm': 0, 'epochs': 50, 'vector_size': 200, 'min_count': 1, 'window': 10}\"],\n [{\n            'v': 140,\n            'f': \"140\",\n        },\n{\n            'v': 0.5725,\n            'f': \"0.5725\",\n        },\n\"{'preprocess': 'custom', 'dm': 1, 'epochs': 50, 'vector_size': 300, 'min_count': 2, 'window': 5}\"],\n [{\n            'v': 113,\n            'f': \"113\",\n        },\n{\n            'v': 0.57125,\n            'f': \"0.57125\",\n        },\n\"{'preprocess': 'custom', 'dm': 1, 'epochs': 50, 'vector_size': 50, 'min_count': 2, 'window': 5}\"],\n [{\n            'v': 2,\n            'f': \"2\",\n        },\n{\n            'v': 0.57,\n            'f': \"0.57\",\n        },\n\"{'preprocess': 'simple', 'dm': 0, 'epochs': 50, 'vector_size': 50, 'min_count': 1, 'window': 5}\"],\n [{\n            'v': 29,\n            'f': \"29\",\n        },\n{\n            'v': 0.57,\n            'f': \"0.57\",\n        },\n\"{'preprocess': 'simple', 'dm': 0, 'epochs': 50, 'vector_size': 300, 'min_count': 1, 'window': 5}\"],\n [{\n            'v': 122,\n            'f': \"122\",\n        },\n{\n            'v': 0.57,\n            'f': \"0.57\",\n        },\n\"{'preprocess': 'custom', 'dm': 1, 'epochs': 50, 'vector_size': 100, 'min_count': 2, 'window': 5}\"],\n [{\n            'v': 110,\n            'f': \"110\",\n        },\n{\n            'v': 0.57,\n            'f': \"0.57\",\n        },\n\"{'preprocess': 'custom', 'dm': 1, 'epochs': 50, 'vector_size': 50, 'min_count': 1, 'window': 5}\"],\n [{\n            'v': 12,\n            'f': \"12\",\n        },\n{\n            'v': 0.57,\n            'f': \"0.57\",\n        },\n\"{'preprocess': 'simple', 'dm': 0, 'epochs': 50, 'vector_size': 100, 'min_count': 1, 'window': 10}\"],\n [{\n            'v': 1,\n            'f': \"1\",\n        },\n{\n            'v': 0.56875,\n            'f': \"0.56875\",\n        },\n\"{'preprocess': 'simple', 'dm': 0, 'epochs': 50, 'vector_size': 50, 'min_count': 1, 'window': 3}\"],\n [{\n            'v': 28,\n            'f': \"28\",\n        },\n{\n            'v': 0.56875,\n            'f': \"0.56875\",\n        },\n\"{'preprocess': 'simple', 'dm': 0, 'epochs': 50, 'vector_size': 300, 'min_count': 1, 'window': 3}\"],\n [{\n            'v': 253,\n            'f': \"253\",\n        },\n{\n            'v': 0.56875,\n            'f': \"0.56875\",\n        },\n\"{'preprocess': 'custom', 'dm': 1, 'epochs': 75, 'vector_size': 50, 'min_count': 1, 'window': 3}\"],\n [{\n            'v': 10,\n            'f': \"10\",\n        },\n{\n            'v': 0.56875,\n            'f': \"0.56875\",\n        },\n\"{'preprocess': 'simple', 'dm': 0, 'epochs': 50, 'vector_size': 100, 'min_count': 1, 'window': 3}\"],\n [{\n            'v': 19,\n            'f': \"19\",\n        },\n{\n            'v': 0.5675,\n            'f': \"0.5675\",\n        },\n\"{'preprocess': 'simple', 'dm': 0, 'epochs': 50, 'vector_size': 200, 'min_count': 1, 'window': 3}\"],\n [{\n            'v': 147,\n            'f': \"147\",\n        },\n{\n            'v': 0.5675,\n            'f': \"0.5675\",\n        },\n\"{'preprocess': 'simple', 'dm': 0, 'epochs': 75, 'vector_size': 50, 'min_count': 1, 'window': 10}\"],\n [{\n            'v': 11,\n            'f': \"11\",\n        },\n{\n            'v': 0.5675,\n            'f': \"0.5675\",\n        },\n\"{'preprocess': 'simple', 'dm': 0, 'epochs': 50, 'vector_size': 100, 'min_count': 1, 'window': 5}\"],\n [{\n            'v': 119,\n            'f': \"119\",\n        },\n{\n            'v': 0.5675,\n            'f': \"0.5675\",\n        },\n\"{'preprocess': 'custom', 'dm': 1, 'epochs': 50, 'vector_size': 100, 'min_count': 1, 'window': 5}\"],\n [{\n            'v': 3,\n            'f': \"3\",\n        },\n{\n            'v': 0.5675,\n            'f': \"0.5675\",\n        },\n\"{'preprocess': 'simple', 'dm': 0, 'epochs': 50, 'vector_size': 50, 'min_count': 1, 'window': 10}\"],\n [{\n            'v': 174,\n            'f': \"174\",\n        },\n{\n            'v': 0.56625,\n            'f': \"0.56625\",\n        },\n\"{'preprocess': 'simple', 'dm': 0, 'epochs': 75, 'vector_size': 300, 'min_count': 1, 'window': 10}\"],\n [{\n            'v': 0,\n            'f': \"0\",\n        },\n{\n            'v': 0.56625,\n            'f': \"0.56625\",\n        },\n\"{'preprocess': 'simple', 'dm': 0, 'epochs': 50, 'vector_size': 50, 'min_count': 1, 'window': 3}\"],\n [{\n            'v': 172,\n            'f': \"172\",\n        },\n{\n            'v': 0.56625,\n            'f': \"0.56625\",\n        },\n\"{'preprocess': 'simple', 'dm': 0, 'epochs': 75, 'vector_size': 300, 'min_count': 1, 'window': 3}\"],\n [{\n            'v': 163,\n            'f': \"163\",\n        },\n{\n            'v': 0.565,\n            'f': \"0.565\",\n        },\n\"{'preprocess': 'simple', 'dm': 0, 'epochs': 75, 'vector_size': 200, 'min_count': 1, 'window': 3}\"],\n [{\n            'v': 165,\n            'f': \"165\",\n        },\n{\n            'v': 0.56375,\n            'f': \"0.56375\",\n        },\n\"{'preprocess': 'simple', 'dm': 0, 'epochs': 75, 'vector_size': 200, 'min_count': 1, 'window': 10}\"],\n [{\n            'v': 20,\n            'f': \"20\",\n        },\n{\n            'v': 0.56375,\n            'f': \"0.56375\",\n        },\n\"{'preprocess': 'simple', 'dm': 0, 'epochs': 50, 'vector_size': 200, 'min_count': 1, 'window': 5}\"],\n [{\n            'v': 33,\n            'f': \"33\",\n        },\n{\n            'v': 0.56375,\n            'f': \"0.56375\",\n        },\n\"{'preprocess': 'simple', 'dm': 0, 'epochs': 50, 'vector_size': 300, 'min_count': 2, 'window': 10}\"],\n [{\n            'v': 155,\n            'f': \"155\",\n        },\n{\n            'v': 0.5625,\n            'f': \"0.5625\",\n        },\n\"{'preprocess': 'simple', 'dm': 0, 'epochs': 75, 'vector_size': 100, 'min_count': 1, 'window': 5}\"],\n [{\n            'v': 9,\n            'f': \"9\",\n        },\n{\n            'v': 0.5625,\n            'f': \"0.5625\",\n        },\n\"{'preprocess': 'simple', 'dm': 0, 'epochs': 50, 'vector_size': 50, 'min_count': 3, 'window': 10}\"],\n [{\n            'v': 13,\n            'f': \"13\",\n        },\n{\n            'v': 0.5625,\n            'f': \"0.5625\",\n        },\n\"{'preprocess': 'simple', 'dm': 0, 'epochs': 50, 'vector_size': 100, 'min_count': 2, 'window': 3}\"],\n [{\n            'v': 32,\n            'f': \"32\",\n        },\n{\n            'v': 0.5625,\n            'f': \"0.5625\",\n        },\n\"{'preprocess': 'simple', 'dm': 0, 'epochs': 50, 'vector_size': 300, 'min_count': 2, 'window': 5}\"],\n [{\n            'v': 173,\n            'f': \"173\",\n        },\n{\n            'v': 0.56125,\n            'f': \"0.56125\",\n        },\n\"{'preprocess': 'simple', 'dm': 0, 'epochs': 75, 'vector_size': 300, 'min_count': 1, 'window': 5}\"],\n [{\n            'v': 16,\n            'f': \"16\",\n        },\n{\n            'v': 0.56125,\n            'f': \"0.56125\",\n        },\n\"{'preprocess': 'simple', 'dm': 0, 'epochs': 50, 'vector_size': 100, 'min_count': 3, 'window': 3}\"],\n [{\n            'v': 154,\n            'f': \"154\",\n        },\n{\n            'v': 0.56125,\n            'f': \"0.56125\",\n        },\n\"{'preprocess': 'simple', 'dm': 0, 'epochs': 75, 'vector_size': 100, 'min_count': 1, 'window': 3}\"],\n [{\n            'v': 271,\n            'f': \"271\",\n        },\n{\n            'v': 0.56125,\n            'f': \"0.56125\",\n        },\n\"{'preprocess': 'custom', 'dm': 1, 'epochs': 75, 'vector_size': 200, 'min_count': 1, 'window': 3}\"],\n [{\n            'v': 36,\n            'f': \"36\",\n        },\n{\n            'v': 0.56125,\n            'f': \"0.56125\",\n        },\n\"{'preprocess': 'simple', 'dm': 0, 'epochs': 50, 'vector_size': 300, 'min_count': 3, 'window': 10}\"],\n [{\n            'v': 7,\n            'f': \"7\",\n        },\n{\n            'v': 0.56125,\n            'f': \"0.56125\",\n        },\n\"{'preprocess': 'simple', 'dm': 0, 'epochs': 50, 'vector_size': 50, 'min_count': 3, 'window': 3}\"],\n [{\n            'v': 142,\n            'f': \"142\",\n        },\n{\n            'v': 0.56125,\n            'f': \"0.56125\",\n        },\n\"{'preprocess': 'custom', 'dm': 1, 'epochs': 50, 'vector_size': 300, 'min_count': 3, 'window': 3}\"],\n [{\n            'v': 283,\n            'f': \"283\",\n        },\n{\n            'v': 0.56,\n            'f': \"0.56\",\n        },\n\"{'preprocess': 'custom', 'dm': 1, 'epochs': 75, 'vector_size': 300, 'min_count': 2, 'window': 3}\"],\n [{\n            'v': 31,\n            'f': \"31\",\n        },\n{\n            'v': 0.56,\n            'f': \"0.56\",\n        },\n\"{'preprocess': 'simple', 'dm': 0, 'epochs': 50, 'vector_size': 300, 'min_count': 2, 'window': 3}\"],\n [{\n            'v': 280,\n            'f': \"280\",\n        },\n{\n            'v': 0.56,\n            'f': \"0.56\",\n        },\n\"{'preprocess': 'custom', 'dm': 1, 'epochs': 75, 'vector_size': 300, 'min_count': 1, 'window': 3}\"],\n [{\n            'v': 156,\n            'f': \"156\",\n        },\n{\n            'v': 0.56,\n            'f': \"0.56\",\n        },\n\"{'preprocess': 'simple', 'dm': 0, 'epochs': 75, 'vector_size': 100, 'min_count': 1, 'window': 10}\"],\n [{\n            'v': 6,\n            'f': \"6\",\n        },\n{\n            'v': 0.56,\n            'f': \"0.56\",\n        },\n\"{'preprocess': 'simple', 'dm': 0, 'epochs': 50, 'vector_size': 50, 'min_count': 2, 'window': 10}\"],\n [{\n            'v': 14,\n            'f': \"14\",\n        },\n{\n            'v': 0.55875,\n            'f': \"0.55875\",\n        },\n\"{'preprocess': 'simple', 'dm': 0, 'epochs': 50, 'vector_size': 100, 'min_count': 2, 'window': 5}\"],\n [{\n            'v': 22,\n            'f': \"22\",\n        },\n{\n            'v': 0.55875,\n            'f': \"0.55875\",\n        },\n\"{'preprocess': 'simple', 'dm': 0, 'epochs': 50, 'vector_size': 200, 'min_count': 2, 'window': 3}\"],\n [{\n            'v': 115,\n            'f': \"115\",\n        },\n{\n            'v': 0.55875,\n            'f': \"0.55875\",\n        },\n\"{'preprocess': 'custom', 'dm': 1, 'epochs': 50, 'vector_size': 50, 'min_count': 3, 'window': 3}\"],\n [{\n            'v': 18,\n            'f': \"18\",\n        },\n{\n            'v': 0.55875,\n            'f': \"0.55875\",\n        },\n\"{'preprocess': 'simple', 'dm': 0, 'epochs': 50, 'vector_size': 100, 'min_count': 3, 'window': 10}\"],\n [{\n            'v': 8,\n            'f': \"8\",\n        },\n{\n            'v': 0.55875,\n            'f': \"0.55875\",\n        },\n\"{'preprocess': 'simple', 'dm': 0, 'epochs': 50, 'vector_size': 50, 'min_count': 3, 'window': 5}\"],\n [{\n            'v': 5,\n            'f': \"5\",\n        },\n{\n            'v': 0.55875,\n            'f': \"0.55875\",\n        },\n\"{'preprocess': 'simple', 'dm': 0, 'epochs': 50, 'vector_size': 50, 'min_count': 2, 'window': 5}\"],\n [{\n            'v': 145,\n            'f': \"145\",\n        },\n{\n            'v': 0.55875,\n            'f': \"0.55875\",\n        },\n\"{'preprocess': 'simple', 'dm': 0, 'epochs': 75, 'vector_size': 50, 'min_count': 1, 'window': 3}\"],\n [{\n            'v': 146,\n            'f': \"146\",\n        },\n{\n            'v': 0.55875,\n            'f': \"0.55875\",\n        },\n\"{'preprocess': 'simple', 'dm': 0, 'epochs': 75, 'vector_size': 50, 'min_count': 1, 'window': 5}\"],\n [{\n            'v': 272,\n            'f': \"272\",\n        },\n{\n            'v': 0.55875,\n            'f': \"0.55875\",\n        },\n\"{'preprocess': 'custom', 'dm': 1, 'epochs': 75, 'vector_size': 200, 'min_count': 1, 'window': 5}\"],\n [{\n            'v': 37,\n            'f': \"37\",\n        },\n{\n            'v': 0.55875,\n            'f': \"0.55875\",\n        },\n\"{'preprocess': 'simple', 'dm': 1, 'epochs': 50, 'vector_size': 50, 'min_count': 1, 'window': 3}\"],\n [{\n            'v': 35,\n            'f': \"35\",\n        },\n{\n            'v': 0.5575,\n            'f': \"0.5575\",\n        },\n\"{'preprocess': 'simple', 'dm': 0, 'epochs': 50, 'vector_size': 300, 'min_count': 3, 'window': 5}\"],\n [{\n            'v': 265,\n            'f': \"265\",\n        },\n{\n            'v': 0.5575,\n            'f': \"0.5575\",\n        },\n\"{'preprocess': 'custom', 'dm': 1, 'epochs': 75, 'vector_size': 100, 'min_count': 2, 'window': 3}\"],\n [{\n            'v': 26,\n            'f': \"26\",\n        },\n{\n            'v': 0.5575,\n            'f': \"0.5575\",\n        },\n\"{'preprocess': 'simple', 'dm': 0, 'epochs': 50, 'vector_size': 200, 'min_count': 3, 'window': 5}\"],\n [{\n            'v': 25,\n            'f': \"25\",\n        },\n{\n            'v': 0.5575,\n            'f': \"0.5575\",\n        },\n\"{'preprocess': 'simple', 'dm': 0, 'epochs': 50, 'vector_size': 200, 'min_count': 3, 'window': 3}\"],\n [{\n            'v': 24,\n            'f': \"24\",\n        },\n{\n            'v': 0.5575,\n            'f': \"0.5575\",\n        },\n\"{'preprocess': 'simple', 'dm': 0, 'epochs': 50, 'vector_size': 200, 'min_count': 2, 'window': 10}\"],\n [{\n            'v': 152,\n            'f': \"152\",\n        },\n{\n            'v': 0.5575,\n            'f': \"0.5575\",\n        },\n\"{'preprocess': 'simple', 'dm': 0, 'epochs': 75, 'vector_size': 50, 'min_count': 3, 'window': 5}\"],\n [{\n            'v': 17,\n            'f': \"17\",\n        },\n{\n            'v': 0.5575,\n            'f': \"0.5575\",\n        },\n\"{'preprocess': 'simple', 'dm': 0, 'epochs': 50, 'vector_size': 100, 'min_count': 3, 'window': 5}\"],\n [{\n            'v': 15,\n            'f': \"15\",\n        },\n{\n            'v': 0.5575,\n            'f': \"0.5575\",\n        },\n\"{'preprocess': 'simple', 'dm': 0, 'epochs': 50, 'vector_size': 100, 'min_count': 2, 'window': 10}\"],\n [{\n            'v': 133,\n            'f': \"133\",\n        },\n{\n            'v': 0.5575,\n            'f': \"0.5575\",\n        },\n\"{'preprocess': 'custom', 'dm': 1, 'epochs': 50, 'vector_size': 200, 'min_count': 3, 'window': 3}\"],\n [{\n            'v': 170,\n            'f': \"170\",\n        },\n{\n            'v': 0.55625,\n            'f': \"0.55625\",\n        },\n\"{'preprocess': 'simple', 'dm': 0, 'epochs': 75, 'vector_size': 200, 'min_count': 3, 'window': 5}\"],\n [{\n            'v': 262,\n            'f': \"262\",\n        },\n{\n            'v': 0.55625,\n            'f': \"0.55625\",\n        },\n\"{'preprocess': 'custom', 'dm': 1, 'epochs': 75, 'vector_size': 100, 'min_count': 1, 'window': 3}\"],\n [{\n            'v': 129,\n            'f': \"129\",\n        },\n{\n            'v': 0.555,\n            'f': \"0.555\",\n        },\n\"{'preprocess': 'custom', 'dm': 1, 'epochs': 50, 'vector_size': 200, 'min_count': 1, 'window': 10}\"],\n [{\n            'v': 4,\n            'f': \"4\",\n        },\n{\n            'v': 0.555,\n            'f': \"0.555\",\n        },\n\"{'preprocess': 'simple', 'dm': 0, 'epochs': 50, 'vector_size': 50, 'min_count': 2, 'window': 3}\"],\n [{\n            'v': 151,\n            'f': \"151\",\n        },\n{\n            'v': 0.555,\n            'f': \"0.555\",\n        },\n\"{'preprocess': 'simple', 'dm': 0, 'epochs': 75, 'vector_size': 50, 'min_count': 3, 'window': 3}\"],\n [{\n            'v': 160,\n            'f': \"160\",\n        },\n{\n            'v': 0.555,\n            'f': \"0.555\",\n        },\n\"{'preprocess': 'simple', 'dm': 0, 'epochs': 75, 'vector_size': 100, 'min_count': 3, 'window': 3}\"],\n [{\n            'v': 162,\n            'f': \"162\",\n        },\n{\n            'v': 0.555,\n            'f': \"0.555\",\n        },\n\"{'preprocess': 'simple', 'dm': 0, 'epochs': 75, 'vector_size': 100, 'min_count': 3, 'window': 10}\"],\n [{\n            'v': 138,\n            'f': \"138\",\n        },\n{\n            'v': 0.55375,\n            'f': \"0.55375\",\n        },\n\"{'preprocess': 'custom', 'dm': 1, 'epochs': 50, 'vector_size': 300, 'min_count': 1, 'window': 10}\"],\n [{\n            'v': 164,\n            'f': \"164\",\n        },\n{\n            'v': 0.55375,\n            'f': \"0.55375\",\n        },\n\"{'preprocess': 'simple', 'dm': 0, 'epochs': 75, 'vector_size': 200, 'min_count': 1, 'window': 5}\"],\n [{\n            'v': 274,\n            'f': \"274\",\n        },\n{\n            'v': 0.55375,\n            'f': \"0.55375\",\n        },\n\"{'preprocess': 'custom', 'dm': 1, 'epochs': 75, 'vector_size': 200, 'min_count': 2, 'window': 3}\"],\n [{\n            'v': 179,\n            'f': \"179\",\n        },\n{\n            'v': 0.55375,\n            'f': \"0.55375\",\n        },\n\"{'preprocess': 'simple', 'dm': 0, 'epochs': 75, 'vector_size': 300, 'min_count': 3, 'window': 5}\"],\n [{\n            'v': 180,\n            'f': \"180\",\n        },\n{\n            'v': 0.55375,\n            'f': \"0.55375\",\n        },\n\"{'preprocess': 'simple', 'dm': 0, 'epochs': 75, 'vector_size': 300, 'min_count': 3, 'window': 10}\"],\n [{\n            'v': 34,\n            'f': \"34\",\n        },\n{\n            'v': 0.5525,\n            'f': \"0.5525\",\n        },\n\"{'preprocess': 'simple', 'dm': 0, 'epochs': 50, 'vector_size': 300, 'min_count': 3, 'window': 3}\"],\n [{\n            'v': 427,\n            'f': \"427\",\n        },\n{\n            'v': 0.5525,\n            'f': \"0.5525\",\n        },\n\"{'preprocess': 'custom', 'dm': 1, 'epochs': 100, 'vector_size': 300, 'min_count': 2, 'window': 3}\"],\n [{\n            'v': 263,\n            'f': \"263\",\n        },\n{\n            'v': 0.5525,\n            'f': \"0.5525\",\n        },\n\"{'preprocess': 'custom', 'dm': 1, 'epochs': 75, 'vector_size': 100, 'min_count': 1, 'window': 5}\"],\n [{\n            'v': 424,\n            'f': \"424\",\n        },\n{\n            'v': 0.5525,\n            'f': \"0.5525\",\n        },\n\"{'preprocess': 'custom', 'dm': 1, 'epochs': 100, 'vector_size': 300, 'min_count': 1, 'window': 3}\"],\n [{\n            'v': 177,\n            'f': \"177\",\n        },\n{\n            'v': 0.5525,\n            'f': \"0.5525\",\n        },\n\"{'preprocess': 'simple', 'dm': 0, 'epochs': 75, 'vector_size': 300, 'min_count': 2, 'window': 10}\"],\n [{\n            'v': 291,\n            'f': \"291\",\n        },\n{\n            'v': 0.5525,\n            'f': \"0.5525\",\n        },\n\"{'preprocess': 'simple', 'dm': 0, 'epochs': 100, 'vector_size': 50, 'min_count': 1, 'window': 10}\"],\n [{\n            'v': 300,\n            'f': \"300\",\n        },\n{\n            'v': 0.5525,\n            'f': \"0.5525\",\n        },\n\"{'preprocess': 'simple', 'dm': 0, 'epochs': 100, 'vector_size': 100, 'min_count': 1, 'window': 10}\"],\n [{\n            'v': 308,\n            'f': \"308\",\n        },\n{\n            'v': 0.5525,\n            'f': \"0.5525\",\n        },\n\"{'preprocess': 'simple', 'dm': 0, 'epochs': 100, 'vector_size': 200, 'min_count': 1, 'window': 5}\"],\n [{\n            'v': 309,\n            'f': \"309\",\n        },\n{\n            'v': 0.5525,\n            'f': \"0.5525\",\n        },\n\"{'preprocess': 'simple', 'dm': 0, 'epochs': 100, 'vector_size': 200, 'min_count': 1, 'window': 10}\"],\n [{\n            'v': 23,\n            'f': \"23\",\n        },\n{\n            'v': 0.5525,\n            'f': \"0.5525\",\n        },\n\"{'preprocess': 'simple', 'dm': 0, 'epochs': 50, 'vector_size': 200, 'min_count': 2, 'window': 5}\"],\n [{\n            'v': 27,\n            'f': \"27\",\n        },\n{\n            'v': 0.5525,\n            'f': \"0.5525\",\n        },\n\"{'preprocess': 'simple', 'dm': 0, 'epochs': 50, 'vector_size': 200, 'min_count': 3, 'window': 10}\"],\n [{\n            'v': 290,\n            'f': \"290\",\n        },\n{\n            'v': 0.55125,\n            'f': \"0.55125\",\n        },\n\"{'preprocess': 'simple', 'dm': 0, 'epochs': 100, 'vector_size': 50, 'min_count': 1, 'window': 5}\"],\n [{\n            'v': 418,\n            'f': \"418\",\n        },\n{\n            'v': 0.55125,\n            'f': \"0.55125\",\n        },\n\"{'preprocess': 'custom', 'dm': 1, 'epochs': 100, 'vector_size': 200, 'min_count': 2, 'window': 3}\"],\n [{\n            'v': 317,\n            'f': \"317\",\n        },\n{\n            'v': 0.55125,\n            'f': \"0.55125\",\n        },\n\"{'preprocess': 'simple', 'dm': 0, 'epochs': 100, 'vector_size': 300, 'min_count': 1, 'window': 5}\"],\n [{\n            'v': 415,\n            'f': \"415\",\n        },\n{\n            'v': 0.55125,\n            'f': \"0.55125\",\n        },\n\"{'preprocess': 'custom', 'dm': 1, 'epochs': 100, 'vector_size': 200, 'min_count': 1, 'window': 3}\"],\n [{\n            'v': 462,\n            'f': \"462\",\n        },\n{\n            'v': 0.55125,\n            'f': \"0.55125\",\n        },\n\"{'preprocess': 'simple', 'dm': 0, 'epochs': 125, 'vector_size': 300, 'min_count': 1, 'window': 10}\"],\n [{\n            'v': 256,\n            'f': \"256\",\n        },\n{\n            'v': 0.55125,\n            'f': \"0.55125\",\n        },\n\"{'preprocess': 'custom', 'dm': 1, 'epochs': 75, 'vector_size': 50, 'min_count': 2, 'window': 3}\"],\n [{\n            'v': 434,\n            'f': \"434\",\n        },\n{\n            'v': 0.55125,\n            'f': \"0.55125\",\n        },\n\"{'preprocess': 'simple', 'dm': 0, 'epochs': 125, 'vector_size': 50, 'min_count': 1, 'window': 5}\"],\n [{\n            'v': 307,\n            'f': \"307\",\n        },\n{\n            'v': 0.55125,\n            'f': \"0.55125\",\n        },\n\"{'preprocess': 'simple', 'dm': 0, 'epochs': 100, 'vector_size': 200, 'min_count': 1, 'window': 3}\"],\n [{\n            'v': 168,\n            'f': \"168\",\n        },\n{\n            'v': 0.55125,\n            'f': \"0.55125\",\n        },\n\"{'preprocess': 'simple', 'dm': 0, 'epochs': 75, 'vector_size': 200, 'min_count': 2, 'window': 10}\"],\n [{\n            'v': 148,\n            'f': \"148\",\n        },\n{\n            'v': 0.55125,\n            'f': \"0.55125\",\n        },\n\"{'preprocess': 'simple', 'dm': 0, 'epochs': 75, 'vector_size': 50, 'min_count': 2, 'window': 3}\"],\n [{\n            'v': 166,\n            'f': \"166\",\n        },\n{\n            'v': 0.55125,\n            'f': \"0.55125\",\n        },\n\"{'preprocess': 'simple', 'dm': 0, 'epochs': 75, 'vector_size': 200, 'min_count': 2, 'window': 3}\"],\n [{\n            'v': 153,\n            'f': \"153\",\n        },\n{\n            'v': 0.55125,\n            'f': \"0.55125\",\n        },\n\"{'preprocess': 'simple', 'dm': 0, 'epochs': 75, 'vector_size': 50, 'min_count': 3, 'window': 10}\"],\n [{\n            'v': 150,\n            'f': \"150\",\n        },\n{\n            'v': 0.55125,\n            'f': \"0.55125\",\n        },\n\"{'preprocess': 'simple', 'dm': 0, 'epochs': 75, 'vector_size': 50, 'min_count': 2, 'window': 10}\"],\n [{\n            'v': 442,\n            'f': \"442\",\n        },\n{\n            'v': 0.55,\n            'f': \"0.55\",\n        },\n\"{'preprocess': 'simple', 'dm': 0, 'epochs': 125, 'vector_size': 100, 'min_count': 1, 'window': 3}\"],\n [{\n            'v': 289,\n            'f': \"289\",\n        },\n{\n            'v': 0.55,\n            'f': \"0.55\",\n        },\n\"{'preprocess': 'simple', 'dm': 0, 'epochs': 100, 'vector_size': 50, 'min_count': 1, 'window': 3}\"],\n [{\n            'v': 178,\n            'f': \"178\",\n        },\n{\n            'v': 0.55,\n            'f': \"0.55\",\n        },\n\"{'preprocess': 'simple', 'dm': 0, 'epochs': 75, 'vector_size': 300, 'min_count': 3, 'window': 3}\"],\n [{\n            'v': 409,\n            'f': \"409\",\n        },\n{\n            'v': 0.55,\n            'f': \"0.55\",\n        },\n\"{'preprocess': 'custom', 'dm': 1, 'epochs': 100, 'vector_size': 100, 'min_count': 2, 'window': 3}\"],\n [{\n            'v': 318,\n            'f': \"318\",\n        },\n{\n            'v': 0.55,\n            'f': \"0.55\",\n        },\n\"{'preprocess': 'simple', 'dm': 0, 'epochs': 100, 'vector_size': 300, 'min_count': 1, 'window': 10}\"],\n [{\n            'v': 132,\n            'f': \"132\",\n        },\n{\n            'v': 0.55,\n            'f': \"0.55\",\n        },\n\"{'preprocess': 'custom', 'dm': 1, 'epochs': 50, 'vector_size': 200, 'min_count': 2, 'window': 10}\"],\n [{\n            'v': 281,\n            'f': \"281\",\n        },\n{\n            'v': 0.55,\n            'f': \"0.55\",\n        },\n\"{'preprocess': 'custom', 'dm': 1, 'epochs': 75, 'vector_size': 300, 'min_count': 1, 'window': 5}\"],\n [{\n            'v': 397,\n            'f': \"397\",\n        },\n{\n            'v': 0.55,\n            'f': \"0.55\",\n        },\n\"{'preprocess': 'custom', 'dm': 1, 'epochs': 100, 'vector_size': 50, 'min_count': 1, 'window': 3}\"],\n [{\n            'v': 171,\n            'f': \"171\",\n        },\n{\n            'v': 0.55,\n            'f': \"0.55\",\n        },\n\"{'preprocess': 'simple', 'dm': 0, 'epochs': 75, 'vector_size': 200, 'min_count': 3, 'window': 10}\"],\n [{\n            'v': 452,\n            'f': \"452\",\n        },\n{\n            'v': 0.54875,\n            'f': \"0.54875\",\n        },\n\"{'preprocess': 'simple', 'dm': 0, 'epochs': 125, 'vector_size': 200, 'min_count': 1, 'window': 5}\"],\n [{\n            'v': 176,\n            'f': \"176\",\n        },\n{\n            'v': 0.54875,\n            'f': \"0.54875\",\n        },\n\"{'preprocess': 'simple', 'dm': 0, 'epochs': 75, 'vector_size': 300, 'min_count': 2, 'window': 5}\"],\n [{\n            'v': 453,\n            'f': \"453\",\n        },\n{\n            'v': 0.54875,\n            'f': \"0.54875\",\n        },\n\"{'preprocess': 'simple', 'dm': 0, 'epochs': 125, 'vector_size': 200, 'min_count': 1, 'window': 10}\"],\n [{\n            'v': 159,\n            'f': \"159\",\n        },\n{\n            'v': 0.54875,\n            'f': \"0.54875\",\n        },\n\"{'preprocess': 'simple', 'dm': 0, 'epochs': 75, 'vector_size': 100, 'min_count': 2, 'window': 10}\"],\n [{\n            'v': 161,\n            'f': \"161\",\n        },\n{\n            'v': 0.54875,\n            'f': \"0.54875\",\n        },\n\"{'preprocess': 'simple', 'dm': 0, 'epochs': 75, 'vector_size': 100, 'min_count': 3, 'window': 5}\"],\n [{\n            'v': 167,\n            'f': \"167\",\n        },\n{\n            'v': 0.54875,\n            'f': \"0.54875\",\n        },\n\"{'preprocess': 'simple', 'dm': 0, 'epochs': 75, 'vector_size': 200, 'min_count': 2, 'window': 5}\"],\n [{\n            'v': 157,\n            'f': \"157\",\n        },\n{\n            'v': 0.54875,\n            'f': \"0.54875\",\n        },\n\"{'preprocess': 'simple', 'dm': 0, 'epochs': 75, 'vector_size': 100, 'min_count': 2, 'window': 3}\"],\n [{\n            'v': 149,\n            'f': \"149\",\n        },\n{\n            'v': 0.54875,\n            'f': \"0.54875\",\n        },\n\"{'preprocess': 'simple', 'dm': 0, 'epochs': 75, 'vector_size': 50, 'min_count': 2, 'window': 5}\"],\n [{\n            'v': 143,\n            'f': \"143\",\n        },\n{\n            'v': 0.54875,\n            'f': \"0.54875\",\n        },\n\"{'preprocess': 'custom', 'dm': 1, 'epochs': 50, 'vector_size': 300, 'min_count': 3, 'window': 5}\"],\n [{\n            'v': 320,\n            'f': \"320\",\n        },\n{\n            'v': 0.54875,\n            'f': \"0.54875\",\n        },\n\"{'preprocess': 'simple', 'dm': 0, 'epochs': 100, 'vector_size': 300, 'min_count': 2, 'window': 5}\"],\n [{\n            'v': 400,\n            'f': \"400\",\n        },\n{\n            'v': 0.54875,\n            'f': \"0.54875\",\n        },\n\"{'preprocess': 'custom', 'dm': 1, 'epochs': 100, 'vector_size': 50, 'min_count': 2, 'window': 3}\"],\n [{\n            'v': 124,\n            'f': \"124\",\n        },\n{\n            'v': 0.54875,\n            'f': \"0.54875\",\n        },\n\"{'preprocess': 'custom', 'dm': 1, 'epochs': 50, 'vector_size': 100, 'min_count': 3, 'window': 3}\"],\n [{\n            'v': 435,\n            'f': \"435\",\n        },\n{\n            'v': 0.54875,\n            'f': \"0.54875\",\n        },\n\"{'preprocess': 'simple', 'dm': 0, 'epochs': 125, 'vector_size': 50, 'min_count': 1, 'window': 10}\"],\n [{\n            'v': 169,\n            'f': \"169\",\n        },\n{\n            'v': 0.54875,\n            'f': \"0.54875\",\n        },\n\"{'preprocess': 'simple', 'dm': 0, 'epochs': 75, 'vector_size': 200, 'min_count': 3, 'window': 3}\"],\n [{\n            'v': 433,\n            'f': \"433\",\n        },\n{\n            'v': 0.5475,\n            'f': \"0.5475\",\n        },\n\"{'preprocess': 'simple', 'dm': 0, 'epochs': 125, 'vector_size': 50, 'min_count': 1, 'window': 3}\"],\n [{\n            'v': 298,\n            'f': \"298\",\n        },\n{\n            'v': 0.5475,\n            'f': \"0.5475\",\n        },\n\"{'preprocess': 'simple', 'dm': 0, 'epochs': 100, 'vector_size': 100, 'min_count': 1, 'window': 3}\"],\n [{\n            'v': 443,\n            'f': \"443\",\n        },\n{\n            'v': 0.5475,\n            'f': \"0.5475\",\n        },\n\"{'preprocess': 'simple', 'dm': 0, 'epochs': 125, 'vector_size': 100, 'min_count': 1, 'window': 5}\"],\n [{\n            'v': 444,\n            'f': \"444\",\n        },\n{\n            'v': 0.5475,\n            'f': \"0.5475\",\n        },\n\"{'preprocess': 'simple', 'dm': 0, 'epochs': 125, 'vector_size': 100, 'min_count': 1, 'window': 10}\"],\n [{\n            'v': 299,\n            'f': \"299\",\n        },\n{\n            'v': 0.5475,\n            'f': \"0.5475\",\n        },\n\"{'preprocess': 'simple', 'dm': 0, 'epochs': 100, 'vector_size': 100, 'min_count': 1, 'window': 5}\"],\n [{\n            'v': 46,\n            'f': \"46\",\n        },\n{\n            'v': 0.5475,\n            'f': \"0.5475\",\n        },\n\"{'preprocess': 'simple', 'dm': 1, 'epochs': 50, 'vector_size': 100, 'min_count': 1, 'window': 3}\"],\n [{\n            'v': 451,\n            'f': \"451\",\n        },\n{\n            'v': 0.5475,\n            'f': \"0.5475\",\n        },\n\"{'preprocess': 'simple', 'dm': 0, 'epochs': 125, 'vector_size': 200, 'min_count': 1, 'window': 3}\"],\n [{\n            'v': 460,\n            'f': \"460\",\n        },\n{\n            'v': 0.5475,\n            'f': \"0.5475\",\n        },\n\"{'preprocess': 'simple', 'dm': 0, 'epochs': 125, 'vector_size': 300, 'min_count': 1, 'window': 3}\"],\n [{\n            'v': 316,\n            'f': \"316\",\n        },\n{\n            'v': 0.5475,\n            'f': \"0.5475\",\n        },\n\"{'preprocess': 'simple', 'dm': 0, 'epochs': 100, 'vector_size': 300, 'min_count': 1, 'window': 3}\"],\n [{\n            'v': 158,\n            'f': \"158\",\n        },\n{\n            'v': 0.5475,\n            'f': \"0.5475\",\n        },\n\"{'preprocess': 'simple', 'dm': 0, 'epochs': 75, 'vector_size': 100, 'min_count': 2, 'window': 5}\"],\n [{\n            'v': 114,\n            'f': \"114\",\n        },\n{\n            'v': 0.5475,\n            'f': \"0.5475\",\n        },\n\"{'preprocess': 'custom', 'dm': 1, 'epochs': 50, 'vector_size': 50, 'min_count': 2, 'window': 10}\"],\n [{\n            'v': 294,\n            'f': \"294\",\n        },\n{\n            'v': 0.5475,\n            'f': \"0.5475\",\n        },\n\"{'preprocess': 'simple', 'dm': 0, 'epochs': 100, 'vector_size': 50, 'min_count': 2, 'window': 10}\"],\n [{\n            'v': 277,\n            'f': \"277\",\n        },\n{\n            'v': 0.54625,\n            'f': \"0.54625\",\n        },\n\"{'preprocess': 'custom', 'dm': 1, 'epochs': 75, 'vector_size': 200, 'min_count': 3, 'window': 3}\"],\n [{\n            'v': 293,\n            'f': \"293\",\n        },\n{\n            'v': 0.54625,\n            'f': \"0.54625\",\n        },\n\"{'preprocess': 'simple', 'dm': 0, 'epochs': 100, 'vector_size': 50, 'min_count': 2, 'window': 5}\"],\n [{\n            'v': 284,\n            'f': \"284\",\n        },\n{\n            'v': 0.54625,\n            'f': \"0.54625\",\n        },\n\"{'preprocess': 'custom', 'dm': 1, 'epochs': 75, 'vector_size': 300, 'min_count': 2, 'window': 5}\"],\n [{\n            'v': 461,\n            'f': \"461\",\n        },\n{\n            'v': 0.54625,\n            'f': \"0.54625\",\n        },\n\"{'preprocess': 'simple', 'dm': 0, 'epochs': 125, 'vector_size': 300, 'min_count': 1, 'window': 5}\"],\n [{\n            'v': 257,\n            'f': \"257\",\n        },\n{\n            'v': 0.54625,\n            'f': \"0.54625\",\n        },\n\"{'preprocess': 'custom', 'dm': 1, 'epochs': 75, 'vector_size': 50, 'min_count': 2, 'window': 5}\"],\n [{\n            'v': 305,\n            'f': \"305\",\n        },\n{\n            'v': 0.545,\n            'f': \"0.545\",\n        },\n\"{'preprocess': 'simple', 'dm': 0, 'epochs': 100, 'vector_size': 100, 'min_count': 3, 'window': 5}\"],\n [{\n            'v': 295,\n            'f': \"295\",\n        },\n{\n            'v': 0.545,\n            'f': \"0.545\",\n        },\n\"{'preprocess': 'simple', 'dm': 0, 'epochs': 100, 'vector_size': 50, 'min_count': 3, 'window': 3}\"],\n [{\n            'v': 441,\n            'f': \"441\",\n        },\n{\n            'v': 0.545,\n            'f': \"0.545\",\n        },\n\"{'preprocess': 'simple', 'dm': 0, 'epochs': 125, 'vector_size': 50, 'min_count': 3, 'window': 10}\"],\n [{\n            'v': 449,\n            'f': \"449\",\n        },\n{\n            'v': 0.545,\n            'f': \"0.545\",\n        },\n\"{'preprocess': 'simple', 'dm': 0, 'epochs': 125, 'vector_size': 100, 'min_count': 3, 'window': 5}\"],\n [{\n            'v': 457,\n            'f': \"457\",\n        },\n{\n            'v': 0.545,\n            'f': \"0.545\",\n        },\n\"{'preprocess': 'simple', 'dm': 0, 'epochs': 125, 'vector_size': 200, 'min_count': 3, 'window': 3}\"],\n [{\n            'v': 310,\n            'f': \"310\",\n        },\n{\n            'v': 0.54375,\n            'f': \"0.54375\",\n        },\n\"{'preprocess': 'simple', 'dm': 0, 'epochs': 100, 'vector_size': 200, 'min_count': 2, 'window': 3}\"],\n [{\n            'v': 55,\n            'f': \"55\",\n        },\n{\n            'v': 0.54375,\n            'f': \"0.54375\",\n        },\n\"{'preprocess': 'simple', 'dm': 1, 'epochs': 50, 'vector_size': 200, 'min_count': 1, 'window': 3}\"],\n [{\n            'v': 324,\n            'f': \"324\",\n        },\n{\n            'v': 0.54375,\n            'f': \"0.54375\",\n        },\n\"{'preprocess': 'simple', 'dm': 0, 'epochs': 100, 'vector_size': 300, 'min_count': 3, 'window': 10}\"],\n [{\n            'v': 125,\n            'f': \"125\",\n        },\n{\n            'v': 0.54375,\n            'f': \"0.54375\",\n        },\n\"{'preprocess': 'custom', 'dm': 1, 'epochs': 50, 'vector_size': 100, 'min_count': 3, 'window': 5}\"],\n [{\n            'v': 322,\n            'f': \"322\",\n        },\n{\n            'v': 0.54375,\n            'f': \"0.54375\",\n        },\n\"{'preprocess': 'simple', 'dm': 0, 'epochs': 100, 'vector_size': 300, 'min_count': 3, 'window': 3}\"],\n [{\n            'v': 141,\n            'f': \"141\",\n        },\n{\n            'v': 0.54375,\n            'f': \"0.54375\",\n        },\n\"{'preprocess': 'custom', 'dm': 1, 'epochs': 50, 'vector_size': 300, 'min_count': 2, 'window': 10}\"],\n [{\n            'v': 466,\n            'f': \"466\",\n        },\n{\n            'v': 0.54375,\n            'f': \"0.54375\",\n        },\n\"{'preprocess': 'simple', 'dm': 0, 'epochs': 125, 'vector_size': 300, 'min_count': 3, 'window': 3}\"],\n [{\n            'v': 406,\n            'f': \"406\",\n        },\n{\n            'v': 0.54375,\n            'f': \"0.54375\",\n        },\n\"{'preprocess': 'custom', 'dm': 1, 'epochs': 100, 'vector_size': 100, 'min_count': 1, 'window': 3}\"],\n [{\n            'v': 314,\n            'f': \"314\",\n        },\n{\n            'v': 0.54375,\n            'f': \"0.54375\",\n        },\n\"{'preprocess': 'simple', 'dm': 0, 'epochs': 100, 'vector_size': 200, 'min_count': 3, 'window': 5}\"],\n [{\n            'v': 313,\n            'f': \"313\",\n        },\n{\n            'v': 0.54375,\n            'f': \"0.54375\",\n        },\n\"{'preprocess': 'simple', 'dm': 0, 'epochs': 100, 'vector_size': 200, 'min_count': 3, 'window': 3}\"],\n [{\n            'v': 312,\n            'f': \"312\",\n        },\n{\n            'v': 0.54375,\n            'f': \"0.54375\",\n        },\n\"{'preprocess': 'simple', 'dm': 0, 'epochs': 100, 'vector_size': 200, 'min_count': 2, 'window': 10}\"],\n [{\n            'v': 208,\n            'f': \"208\",\n        },\n{\n            'v': 0.54375,\n            'f': \"0.54375\",\n        },\n\"{'preprocess': 'simple', 'dm': 1, 'epochs': 75, 'vector_size': 300, 'min_count': 1, 'window': 3}\"],\n [{\n            'v': 175,\n            'f': \"175\",\n        },\n{\n            'v': 0.54375,\n            'f': \"0.54375\",\n        },\n\"{'preprocess': 'simple', 'dm': 0, 'epochs': 75, 'vector_size': 300, 'min_count': 2, 'window': 3}\"],\n [{\n            'v': 306,\n            'f': \"306\",\n        },\n{\n            'v': 0.5425,\n            'f': \"0.5425\",\n        },\n\"{'preprocess': 'simple', 'dm': 0, 'epochs': 100, 'vector_size': 100, 'min_count': 3, 'window': 10}\"],\n [{\n            'v': 116,\n            'f': \"116\",\n        },\n{\n            'v': 0.5425,\n            'f': \"0.5425\",\n        },\n\"{'preprocess': 'custom', 'dm': 1, 'epochs': 50, 'vector_size': 50, 'min_count': 3, 'window': 5}\"],\n [{\n            'v': 439,\n            'f': \"439\",\n        },\n{\n            'v': 0.5425,\n            'f': \"0.5425\",\n        },\n\"{'preprocess': 'simple', 'dm': 0, 'epochs': 125, 'vector_size': 50, 'min_count': 3, 'window': 3}\"],\n [{\n            'v': 440,\n            'f': \"440\",\n        },\n{\n            'v': 0.5425,\n            'f': \"0.5425\",\n        },\n\"{'preprocess': 'simple', 'dm': 0, 'epochs': 125, 'vector_size': 50, 'min_count': 3, 'window': 5}\"],\n [{\n            'v': 559,\n            'f': \"559\",\n        },\n{\n            'v': 0.5425,\n            'f': \"0.5425\",\n        },\n\"{'preprocess': 'custom', 'dm': 1, 'epochs': 125, 'vector_size': 200, 'min_count': 1, 'window': 3}\"],\n [{\n            'v': 321,\n            'f': \"321\",\n        },\n{\n            'v': 0.5425,\n            'f': \"0.5425\",\n        },\n\"{'preprocess': 'simple', 'dm': 0, 'epochs': 100, 'vector_size': 300, 'min_count': 2, 'window': 10}\"],\n [{\n            'v': 445,\n            'f': \"445\",\n        },\n{\n            'v': 0.5425,\n            'f': \"0.5425\",\n        },\n\"{'preprocess': 'simple', 'dm': 0, 'epochs': 125, 'vector_size': 100, 'min_count': 2, 'window': 3}\"],\n [{\n            'v': 319,\n            'f': \"319\",\n        },\n{\n            'v': 0.5425,\n            'f': \"0.5425\",\n        },\n\"{'preprocess': 'simple', 'dm': 0, 'epochs': 100, 'vector_size': 300, 'min_count': 2, 'window': 3}\"],\n [{\n            'v': 292,\n            'f': \"292\",\n        },\n{\n            'v': 0.5425,\n            'f': \"0.5425\",\n        },\n\"{'preprocess': 'simple', 'dm': 0, 'epochs': 100, 'vector_size': 50, 'min_count': 2, 'window': 3}\"],\n [{\n            'v': 315,\n            'f': \"315\",\n        },\n{\n            'v': 0.5425,\n            'f': \"0.5425\",\n        },\n\"{'preprocess': 'simple', 'dm': 0, 'epochs': 100, 'vector_size': 200, 'min_count': 3, 'window': 10}\"],\n [{\n            'v': 302,\n            'f': \"302\",\n        },\n{\n            'v': 0.5425,\n            'f': \"0.5425\",\n        },\n\"{'preprocess': 'simple', 'dm': 0, 'epochs': 100, 'vector_size': 100, 'min_count': 2, 'window': 5}\"],\n [{\n            'v': 304,\n            'f': \"304\",\n        },\n{\n            'v': 0.5425,\n            'f': \"0.5425\",\n        },\n\"{'preprocess': 'simple', 'dm': 0, 'epochs': 100, 'vector_size': 100, 'min_count': 3, 'window': 3}\"],\n [{\n            'v': 458,\n            'f': \"458\",\n        },\n{\n            'v': 0.5425,\n            'f': \"0.5425\",\n        },\n\"{'preprocess': 'simple', 'dm': 0, 'epochs': 125, 'vector_size': 200, 'min_count': 3, 'window': 5}\"],\n [{\n            'v': 438,\n            'f': \"438\",\n        },\n{\n            'v': 0.5425,\n            'f': \"0.5425\",\n        },\n\"{'preprocess': 'simple', 'dm': 0, 'epochs': 125, 'vector_size': 50, 'min_count': 2, 'window': 10}\"],\n [{\n            'v': 446,\n            'f': \"446\",\n        },\n{\n            'v': 0.54125,\n            'f': \"0.54125\",\n        },\n\"{'preprocess': 'simple', 'dm': 0, 'epochs': 125, 'vector_size': 100, 'min_count': 2, 'window': 5}\"],\n [{\n            'v': 464,\n            'f': \"464\",\n        },\n{\n            'v': 0.54125,\n            'f': \"0.54125\",\n        },\n\"{'preprocess': 'simple', 'dm': 0, 'epochs': 125, 'vector_size': 300, 'min_count': 2, 'window': 5}\"],\n [{\n            'v': 450,\n            'f': \"450\",\n        },\n{\n            'v': 0.54125,\n            'f': \"0.54125\",\n        },\n\"{'preprocess': 'simple', 'dm': 0, 'epochs': 125, 'vector_size': 100, 'min_count': 3, 'window': 10}\"],\n [{\n            'v': 448,\n            'f': \"448\",\n        },\n{\n            'v': 0.54125,\n            'f': \"0.54125\",\n        },\n\"{'preprocess': 'simple', 'dm': 0, 'epochs': 125, 'vector_size': 100, 'min_count': 3, 'window': 3}\"],\n [{\n            'v': 111,\n            'f': \"111\",\n        },\n{\n            'v': 0.54125,\n            'f': \"0.54125\",\n        },\n\"{'preprocess': 'custom', 'dm': 1, 'epochs': 50, 'vector_size': 50, 'min_count': 1, 'window': 10}\"],\n [{\n            'v': 323,\n            'f': \"323\",\n        },\n{\n            'v': 0.54125,\n            'f': \"0.54125\",\n        },\n\"{'preprocess': 'simple', 'dm': 0, 'epochs': 100, 'vector_size': 300, 'min_count': 3, 'window': 5}\"],\n [{\n            'v': 303,\n            'f': \"303\",\n        },\n{\n            'v': 0.54125,\n            'f': \"0.54125\",\n        },\n\"{'preprocess': 'simple', 'dm': 0, 'epochs': 100, 'vector_size': 100, 'min_count': 2, 'window': 10}\"],\n [{\n            'v': 254,\n            'f': \"254\",\n        },\n{\n            'v': 0.54125,\n            'f': \"0.54125\",\n        },\n\"{'preprocess': 'custom', 'dm': 1, 'epochs': 75, 'vector_size': 50, 'min_count': 1, 'window': 5}\"],\n [{\n            'v': 311,\n            'f': \"311\",\n        },\n{\n            'v': 0.54125,\n            'f': \"0.54125\",\n        },\n\"{'preprocess': 'simple', 'dm': 0, 'epochs': 100, 'vector_size': 200, 'min_count': 2, 'window': 5}\"],\n [{\n            'v': 456,\n            'f': \"456\",\n        },\n{\n            'v': 0.54,\n            'f': \"0.54\",\n        },\n\"{'preprocess': 'simple', 'dm': 0, 'epochs': 125, 'vector_size': 200, 'min_count': 2, 'window': 10}\"],\n [{\n            'v': 463,\n            'f': \"463\",\n        },\n{\n            'v': 0.54,\n            'f': \"0.54\",\n        },\n\"{'preprocess': 'simple', 'dm': 0, 'epochs': 125, 'vector_size': 300, 'min_count': 2, 'window': 3}\"],\n [{\n            'v': 268,\n            'f': \"268\",\n        },\n{\n            'v': 0.54,\n            'f': \"0.54\",\n        },\n\"{'preprocess': 'custom', 'dm': 1, 'epochs': 75, 'vector_size': 100, 'min_count': 3, 'window': 3}\"],\n [{\n            'v': 199,\n            'f': \"199\",\n        },\n{\n            'v': 0.54,\n            'f': \"0.54\",\n        },\n\"{'preprocess': 'simple', 'dm': 1, 'epochs': 75, 'vector_size': 200, 'min_count': 1, 'window': 3}\"],\n [{\n            'v': 468,\n            'f': \"468\",\n        },\n{\n            'v': 0.54,\n            'f': \"0.54\",\n        },\n\"{'preprocess': 'simple', 'dm': 0, 'epochs': 125, 'vector_size': 300, 'min_count': 3, 'window': 10}\"],\n [{\n            'v': 190,\n            'f': \"190\",\n        },\n{\n            'v': 0.54,\n            'f': \"0.54\",\n        },\n\"{'preprocess': 'simple', 'dm': 1, 'epochs': 75, 'vector_size': 100, 'min_count': 1, 'window': 3}\"],\n [{\n            'v': 437,\n            'f': \"437\",\n        },\n{\n            'v': 0.54,\n            'f': \"0.54\",\n        },\n\"{'preprocess': 'simple', 'dm': 0, 'epochs': 125, 'vector_size': 50, 'min_count': 2, 'window': 5}\"],\n [{\n            'v': 134,\n            'f': \"134\",\n        },\n{\n            'v': 0.53875,\n            'f': \"0.53875\",\n        },\n\"{'preprocess': 'custom', 'dm': 1, 'epochs': 50, 'vector_size': 200, 'min_count': 3, 'window': 5}\"],\n [{\n            'v': 455,\n            'f': \"455\",\n        },\n{\n            'v': 0.53875,\n            'f': \"0.53875\",\n        },\n\"{'preprocess': 'simple', 'dm': 0, 'epochs': 125, 'vector_size': 200, 'min_count': 2, 'window': 5}\"],\n [{\n            'v': 301,\n            'f': \"301\",\n        },\n{\n            'v': 0.53875,\n            'f': \"0.53875\",\n        },\n\"{'preprocess': 'simple', 'dm': 0, 'epochs': 100, 'vector_size': 100, 'min_count': 2, 'window': 3}\"],\n [{\n            'v': 297,\n            'f': \"297\",\n        },\n{\n            'v': 0.53875,\n            'f': \"0.53875\",\n        },\n\"{'preprocess': 'simple', 'dm': 0, 'epochs': 100, 'vector_size': 50, 'min_count': 3, 'window': 10}\"],\n [{\n            'v': 181,\n            'f': \"181\",\n        },\n{\n            'v': 0.53875,\n            'f': \"0.53875\",\n        },\n\"{'preprocess': 'simple', 'dm': 1, 'epochs': 75, 'vector_size': 50, 'min_count': 1, 'window': 3}\"],\n [{\n            'v': 64,\n            'f': \"64\",\n        },\n{\n            'v': 0.53875,\n            'f': \"0.53875\",\n        },\n\"{'preprocess': 'simple', 'dm': 1, 'epochs': 50, 'vector_size': 300, 'min_count': 1, 'window': 3}\"],\n [{\n            'v': 59,\n            'f': \"59\",\n        },\n{\n            'v': 0.5375,\n            'f': \"0.5375\",\n        },\n\"{'preprocess': 'simple', 'dm': 1, 'epochs': 50, 'vector_size': 200, 'min_count': 2, 'window': 5}\"],\n [{\n            'v': 447,\n            'f': \"447\",\n        },\n{\n            'v': 0.5375,\n            'f': \"0.5375\",\n        },\n\"{'preprocess': 'simple', 'dm': 0, 'epochs': 125, 'vector_size': 100, 'min_count': 2, 'window': 10}\"],\n [{\n            'v': 296,\n            'f': \"296\",\n        },\n{\n            'v': 0.5375,\n            'f': \"0.5375\",\n        },\n\"{'preprocess': 'simple', 'dm': 0, 'epochs': 100, 'vector_size': 50, 'min_count': 3, 'window': 5}\"],\n [{\n            'v': 266,\n            'f': \"266\",\n        },\n{\n            'v': 0.5375,\n            'f': \"0.5375\",\n        },\n\"{'preprocess': 'custom', 'dm': 1, 'epochs': 75, 'vector_size': 100, 'min_count': 2, 'window': 5}\"],\n [{\n            'v': 465,\n            'f': \"465\",\n        },\n{\n            'v': 0.5375,\n            'f': \"0.5375\",\n        },\n\"{'preprocess': 'simple', 'dm': 0, 'epochs': 125, 'vector_size': 300, 'min_count': 2, 'window': 10}\"],\n [{\n            'v': 467,\n            'f': \"467\",\n        },\n{\n            'v': 0.5375,\n            'f': \"0.5375\",\n        },\n\"{'preprocess': 'simple', 'dm': 0, 'epochs': 125, 'vector_size': 300, 'min_count': 3, 'window': 5}\"],\n [{\n            'v': 416,\n            'f': \"416\",\n        },\n{\n            'v': 0.5375,\n            'f': \"0.5375\",\n        },\n\"{'preprocess': 'custom', 'dm': 1, 'epochs': 100, 'vector_size': 200, 'min_count': 1, 'window': 5}\"],\n [{\n            'v': 120,\n            'f': \"120\",\n        },\n{\n            'v': 0.5375,\n            'f': \"0.5375\",\n        },\n\"{'preprocess': 'custom', 'dm': 1, 'epochs': 50, 'vector_size': 100, 'min_count': 1, 'window': 10}\"],\n [{\n            'v': 43,\n            'f': \"43\",\n        },\n{\n            'v': 0.5375,\n            'f': \"0.5375\",\n        },\n\"{'preprocess': 'simple', 'dm': 1, 'epochs': 50, 'vector_size': 50, 'min_count': 3, 'window': 3}\"],\n [{\n            'v': 40,\n            'f': \"40\",\n        },\n{\n            'v': 0.53625,\n            'f': \"0.53625\",\n        },\n\"{'preprocess': 'simple', 'dm': 1, 'epochs': 50, 'vector_size': 50, 'min_count': 2, 'window': 3}\"],\n [{\n            'v': 436,\n            'f': \"436\",\n        },\n{\n            'v': 0.53625,\n            'f': \"0.53625\",\n        },\n\"{'preprocess': 'simple', 'dm': 0, 'epochs': 125, 'vector_size': 50, 'min_count': 2, 'window': 3}\"],\n [{\n            'v': 286,\n            'f': \"286\",\n        },\n{\n            'v': 0.53625,\n            'f': \"0.53625\",\n        },\n\"{'preprocess': 'custom', 'dm': 1, 'epochs': 75, 'vector_size': 300, 'min_count': 3, 'window': 3}\"],\n [{\n            'v': 61,\n            'f': \"61\",\n        },\n{\n            'v': 0.53625,\n            'f': \"0.53625\",\n        },\n\"{'preprocess': 'simple', 'dm': 1, 'epochs': 50, 'vector_size': 200, 'min_count': 3, 'window': 3}\"],\n [{\n            'v': 459,\n            'f': \"459\",\n        },\n{\n            'v': 0.53625,\n            'f': \"0.53625\",\n        },\n\"{'preprocess': 'simple', 'dm': 0, 'epochs': 125, 'vector_size': 200, 'min_count': 3, 'window': 10}\"],\n [{\n            'v': 144,\n            'f': \"144\",\n        },\n{\n            'v': 0.53625,\n            'f': \"0.53625\",\n        },\n\"{'preprocess': 'custom', 'dm': 1, 'epochs': 50, 'vector_size': 300, 'min_count': 3, 'window': 10}\"],\n [{\n            'v': 49,\n            'f': \"49\",\n        },\n{\n            'v': 0.53625,\n            'f': \"0.53625\",\n        },\n\"{'preprocess': 'simple', 'dm': 1, 'epochs': 50, 'vector_size': 100, 'min_count': 2, 'window': 3}\"],\n [{\n            'v': 550,\n            'f': \"550\",\n        },\n{\n            'v': 0.53625,\n            'f': \"0.53625\",\n        },\n\"{'preprocess': 'custom', 'dm': 1, 'epochs': 125, 'vector_size': 100, 'min_count': 1, 'window': 3}\"],\n [{\n            'v': 47,\n            'f': \"47\",\n        },\n{\n            'v': 0.535,\n            'f': \"0.535\",\n        },\n\"{'preprocess': 'simple', 'dm': 1, 'epochs': 50, 'vector_size': 100, 'min_count': 1, 'window': 5}\"],\n [{\n            'v': 58,\n            'f': \"58\",\n        },\n{\n            'v': 0.535,\n            'f': \"0.535\",\n        },\n\"{'preprocess': 'simple', 'dm': 1, 'epochs': 50, 'vector_size': 200, 'min_count': 2, 'window': 3}\"],\n [{\n            'v': 454,\n            'f': \"454\",\n        },\n{\n            'v': 0.535,\n            'f': \"0.535\",\n        },\n\"{'preprocess': 'simple', 'dm': 0, 'epochs': 125, 'vector_size': 200, 'min_count': 2, 'window': 3}\"],\n [{\n            'v': 123,\n            'f': \"123\",\n        },\n{\n            'v': 0.535,\n            'f': \"0.535\",\n        },\n\"{'preprocess': 'custom', 'dm': 1, 'epochs': 50, 'vector_size': 100, 'min_count': 2, 'window': 10}\"],\n [{\n            'v': 39,\n            'f': \"39\",\n        },\n{\n            'v': 0.53375,\n            'f': \"0.53375\",\n        },\n\"{'preprocess': 'simple', 'dm': 1, 'epochs': 50, 'vector_size': 50, 'min_count': 1, 'window': 10}\"],\n [{\n            'v': 52,\n            'f': \"52\",\n        },\n{\n            'v': 0.53375,\n            'f': \"0.53375\",\n        },\n\"{'preprocess': 'simple', 'dm': 1, 'epochs': 50, 'vector_size': 100, 'min_count': 3, 'window': 3}\"],\n [{\n            'v': 67,\n            'f': \"67\",\n        },\n{\n            'v': 0.5325,\n            'f': \"0.5325\",\n        },\n\"{'preprocess': 'simple', 'dm': 1, 'epochs': 50, 'vector_size': 300, 'min_count': 2, 'window': 3}\"],\n [{\n            'v': 325,\n            'f': \"325\",\n        },\n{\n            'v': 0.53125,\n            'f': \"0.53125\",\n        },\n\"{'preprocess': 'simple', 'dm': 1, 'epochs': 100, 'vector_size': 50, 'min_count': 1, 'window': 3}\"],\n [{\n            'v': 425,\n            'f': \"425\",\n        },\n{\n            'v': 0.53125,\n            'f': \"0.53125\",\n        },\n\"{'preprocess': 'custom', 'dm': 1, 'epochs': 100, 'vector_size': 300, 'min_count': 1, 'window': 5}\"],\n [{\n            'v': 38,\n            'f': \"38\",\n        },\n{\n            'v': 0.53,\n            'f': \"0.53\",\n        },\n\"{'preprocess': 'simple', 'dm': 1, 'epochs': 50, 'vector_size': 50, 'min_count': 1, 'window': 5}\"],\n [{\n            'v': 48,\n            'f': \"48\",\n        },\n{\n            'v': 0.53,\n            'f': \"0.53\",\n        },\n\"{'preprocess': 'simple', 'dm': 1, 'epochs': 50, 'vector_size': 100, 'min_count': 1, 'window': 10}\"],\n [{\n            'v': 126,\n            'f': \"126\",\n        },\n{\n            'v': 0.52875,\n            'f': \"0.52875\",\n        },\n\"{'preprocess': 'custom', 'dm': 1, 'epochs': 50, 'vector_size': 100, 'min_count': 3, 'window': 10}\"],\n [{\n            'v': 66,\n            'f': \"66\",\n        },\n{\n            'v': 0.52875,\n            'f': \"0.52875\",\n        },\n\"{'preprocess': 'simple', 'dm': 1, 'epochs': 50, 'vector_size': 300, 'min_count': 1, 'window': 10}\"],\n [{\n            'v': 278,\n            'f': \"278\",\n        },\n{\n            'v': 0.52875,\n            'f': \"0.52875\",\n        },\n\"{'preprocess': 'custom', 'dm': 1, 'epochs': 75, 'vector_size': 200, 'min_count': 3, 'window': 5}\"],\n [{\n            'v': 275,\n            'f': \"275\",\n        },\n{\n            'v': 0.52875,\n            'f': \"0.52875\",\n        },\n\"{'preprocess': 'custom', 'dm': 1, 'epochs': 75, 'vector_size': 200, 'min_count': 2, 'window': 5}\"],\n [{\n            'v': 560,\n            'f': \"560\",\n        },\n{\n            'v': 0.52875,\n            'f': \"0.52875\",\n        },\n\"{'preprocess': 'custom', 'dm': 1, 'epochs': 125, 'vector_size': 200, 'min_count': 1, 'window': 5}\"],\n [{\n            'v': 401,\n            'f': \"401\",\n        },\n{\n            'v': 0.52875,\n            'f': \"0.52875\",\n        },\n\"{'preprocess': 'custom', 'dm': 1, 'epochs': 100, 'vector_size': 50, 'min_count': 2, 'window': 5}\"],\n [{\n            'v': 65,\n            'f': \"65\",\n        },\n{\n            'v': 0.52875,\n            'f': \"0.52875\",\n        },\n\"{'preprocess': 'simple', 'dm': 1, 'epochs': 50, 'vector_size': 300, 'min_count': 1, 'window': 5}\"],\n [{\n            'v': 407,\n            'f': \"407\",\n        },\n{\n            'v': 0.52875,\n            'f': \"0.52875\",\n        },\n\"{'preprocess': 'custom', 'dm': 1, 'epochs': 100, 'vector_size': 100, 'min_count': 1, 'window': 5}\"],\n [{\n            'v': 200,\n            'f': \"200\",\n        },\n{\n            'v': 0.5275,\n            'f': \"0.5275\",\n        },\n\"{'preprocess': 'simple', 'dm': 1, 'epochs': 75, 'vector_size': 200, 'min_count': 1, 'window': 5}\"],\n [{\n            'v': 542,\n            'f': \"542\",\n        },\n{\n            'v': 0.5275,\n            'f': \"0.5275\",\n        },\n\"{'preprocess': 'custom', 'dm': 1, 'epochs': 125, 'vector_size': 50, 'min_count': 1, 'window': 5}\"],\n [{\n            'v': 196,\n            'f': \"196\",\n        },\n{\n            'v': 0.5275,\n            'f': \"0.5275\",\n        },\n\"{'preprocess': 'simple', 'dm': 1, 'epochs': 75, 'vector_size': 100, 'min_count': 3, 'window': 3}\"],\n [{\n            'v': 260,\n            'f': \"260\",\n        },\n{\n            'v': 0.5275,\n            'f': \"0.5275\",\n        },\n\"{'preprocess': 'custom', 'dm': 1, 'epochs': 75, 'vector_size': 50, 'min_count': 3, 'window': 5}\"],\n [{\n            'v': 541,\n            'f': \"541\",\n        },\n{\n            'v': 0.52625,\n            'f': \"0.52625\",\n        },\n\"{'preprocess': 'custom', 'dm': 1, 'epochs': 125, 'vector_size': 50, 'min_count': 1, 'window': 3}\"],\n [{\n            'v': 60,\n            'f': \"60\",\n        },\n{\n            'v': 0.52625,\n            'f': \"0.52625\",\n        },\n\"{'preprocess': 'simple', 'dm': 1, 'epochs': 50, 'vector_size': 200, 'min_count': 2, 'window': 10}\"],\n [{\n            'v': 430,\n            'f': \"430\",\n        },\n{\n            'v': 0.52625,\n            'f': \"0.52625\",\n        },\n\"{'preprocess': 'custom', 'dm': 1, 'epochs': 100, 'vector_size': 300, 'min_count': 3, 'window': 3}\"],\n [{\n            'v': 412,\n            'f': \"412\",\n        },\n{\n            'v': 0.52625,\n            'f': \"0.52625\",\n        },\n\"{'preprocess': 'custom', 'dm': 1, 'epochs': 100, 'vector_size': 100, 'min_count': 3, 'window': 3}\"],\n [{\n            'v': 191,\n            'f': \"191\",\n        },\n{\n            'v': 0.525,\n            'f': \"0.525\",\n        },\n\"{'preprocess': 'simple', 'dm': 1, 'epochs': 75, 'vector_size': 100, 'min_count': 1, 'window': 5}\"],\n [{\n            'v': 334,\n            'f': \"334\",\n        },\n{\n            'v': 0.525,\n            'f': \"0.525\",\n        },\n\"{'preprocess': 'simple', 'dm': 1, 'epochs': 100, 'vector_size': 100, 'min_count': 1, 'window': 3}\"],\n [{\n            'v': 419,\n            'f': \"419\",\n        },\n{\n            'v': 0.525,\n            'f': \"0.525\",\n        },\n\"{'preprocess': 'custom', 'dm': 1, 'epochs': 100, 'vector_size': 200, 'min_count': 2, 'window': 5}\"],\n [{\n            'v': 259,\n            'f': \"259\",\n        },\n{\n            'v': 0.525,\n            'f': \"0.525\",\n        },\n\"{'preprocess': 'custom', 'dm': 1, 'epochs': 75, 'vector_size': 50, 'min_count': 3, 'window': 3}\"],\n [{\n            'v': 45,\n            'f': \"45\",\n        },\n{\n            'v': 0.525,\n            'f': \"0.525\",\n        },\n\"{'preprocess': 'simple', 'dm': 1, 'epochs': 50, 'vector_size': 50, 'min_count': 3, 'window': 10}\"],\n [{\n            'v': 214,\n            'f': \"214\",\n        },\n{\n            'v': 0.525,\n            'f': \"0.525\",\n        },\n\"{'preprocess': 'simple', 'dm': 1, 'epochs': 75, 'vector_size': 300, 'min_count': 3, 'window': 3}\"],\n [{\n            'v': 44,\n            'f': \"44\",\n        },\n{\n            'v': 0.525,\n            'f': \"0.525\",\n        },\n\"{'preprocess': 'simple', 'dm': 1, 'epochs': 50, 'vector_size': 50, 'min_count': 3, 'window': 5}\"],\n [{\n            'v': 56,\n            'f': \"56\",\n        },\n{\n            'v': 0.52375,\n            'f': \"0.52375\",\n        },\n\"{'preprocess': 'simple', 'dm': 1, 'epochs': 50, 'vector_size': 200, 'min_count': 1, 'window': 5}\"],\n [{\n            'v': 70,\n            'f': \"70\",\n        },\n{\n            'v': 0.52375,\n            'f': \"0.52375\",\n        },\n\"{'preprocess': 'simple', 'dm': 1, 'epochs': 50, 'vector_size': 300, 'min_count': 3, 'window': 3}\"],\n [{\n            'v': 568,\n            'f': \"568\",\n        },\n{\n            'v': 0.52375,\n            'f': \"0.52375\",\n        },\n\"{'preprocess': 'custom', 'dm': 1, 'epochs': 125, 'vector_size': 300, 'min_count': 1, 'window': 3}\"],\n [{\n            'v': 398,\n            'f': \"398\",\n        },\n{\n            'v': 0.52375,\n            'f': \"0.52375\",\n        },\n\"{'preprocess': 'custom', 'dm': 1, 'epochs': 100, 'vector_size': 50, 'min_count': 1, 'window': 5}\"],\n [{\n            'v': 287,\n            'f': \"287\",\n        },\n{\n            'v': 0.52375,\n            'f': \"0.52375\",\n        },\n\"{'preprocess': 'custom', 'dm': 1, 'epochs': 75, 'vector_size': 300, 'min_count': 3, 'window': 5}\"],\n [{\n            'v': 54,\n            'f': \"54\",\n        },\n{\n            'v': 0.52375,\n            'f': \"0.52375\",\n        },\n\"{'preprocess': 'simple', 'dm': 1, 'epochs': 50, 'vector_size': 100, 'min_count': 3, 'window': 10}\"],\n [{\n            'v': 182,\n            'f': \"182\",\n        },\n{\n            'v': 0.52375,\n            'f': \"0.52375\",\n        },\n\"{'preprocess': 'simple', 'dm': 1, 'epochs': 75, 'vector_size': 50, 'min_count': 1, 'window': 5}\"],\n [{\n            'v': 403,\n            'f': \"403\",\n        },\n{\n            'v': 0.52375,\n            'f': \"0.52375\",\n        },\n\"{'preprocess': 'custom', 'dm': 1, 'epochs': 100, 'vector_size': 50, 'min_count': 3, 'window': 3}\"],\n [{\n            'v': 53,\n            'f': \"53\",\n        },\n{\n            'v': 0.52375,\n            'f': \"0.52375\",\n        },\n\"{'preprocess': 'simple', 'dm': 1, 'epochs': 50, 'vector_size': 100, 'min_count': 3, 'window': 5}\"],\n [{\n            'v': 421,\n            'f': \"421\",\n        },\n{\n            'v': 0.52375,\n            'f': \"0.52375\",\n        },\n\"{'preprocess': 'custom', 'dm': 1, 'epochs': 100, 'vector_size': 200, 'min_count': 3, 'window': 3}\"],\n [{\n            'v': 193,\n            'f': \"193\",\n        },\n{\n            'v': 0.5225,\n            'f': \"0.5225\",\n        },\n\"{'preprocess': 'simple', 'dm': 1, 'epochs': 75, 'vector_size': 100, 'min_count': 2, 'window': 3}\"],\n [{\n            'v': 187,\n            'f': \"187\",\n        },\n{\n            'v': 0.5225,\n            'f': \"0.5225\",\n        },\n\"{'preprocess': 'simple', 'dm': 1, 'epochs': 75, 'vector_size': 50, 'min_count': 3, 'window': 3}\"],\n [{\n            'v': 184,\n            'f': \"184\",\n        },\n{\n            'v': 0.52125,\n            'f': \"0.52125\",\n        },\n\"{'preprocess': 'simple', 'dm': 1, 'epochs': 75, 'vector_size': 50, 'min_count': 2, 'window': 3}\"],\n [{\n            'v': 135,\n            'f': \"135\",\n        },\n{\n            'v': 0.52125,\n            'f': \"0.52125\",\n        },\n\"{'preprocess': 'custom', 'dm': 1, 'epochs': 50, 'vector_size': 200, 'min_count': 3, 'window': 10}\"],\n [{\n            'v': 551,\n            'f': \"551\",\n        },\n{\n            'v': 0.52125,\n            'f': \"0.52125\",\n        },\n\"{'preprocess': 'custom', 'dm': 1, 'epochs': 125, 'vector_size': 100, 'min_count': 1, 'window': 5}\"],\n [{\n            'v': 50,\n            'f': \"50\",\n        },\n{\n            'v': 0.52,\n            'f': \"0.52\",\n        },\n\"{'preprocess': 'simple', 'dm': 1, 'epochs': 50, 'vector_size': 100, 'min_count': 2, 'window': 5}\"],\n [{\n            'v': 269,\n            'f': \"269\",\n        },\n{\n            'v': 0.52,\n            'f': \"0.52\",\n        },\n\"{'preprocess': 'custom', 'dm': 1, 'epochs': 75, 'vector_size': 100, 'min_count': 3, 'window': 5}\"],\n [{\n            'v': 57,\n            'f': \"57\",\n        },\n{\n            'v': 0.52,\n            'f': \"0.52\",\n        },\n\"{'preprocess': 'simple', 'dm': 1, 'epochs': 50, 'vector_size': 200, 'min_count': 1, 'window': 10}\"],\n [{\n            'v': 51,\n            'f': \"51\",\n        },\n{\n            'v': 0.52,\n            'f': \"0.52\",\n        },\n\"{'preprocess': 'simple', 'dm': 1, 'epochs': 50, 'vector_size': 100, 'min_count': 2, 'window': 10}\"],\n [{\n            'v': 544,\n            'f': \"544\",\n        },\n{\n            'v': 0.51875,\n            'f': \"0.51875\",\n        },\n\"{'preprocess': 'custom', 'dm': 1, 'epochs': 125, 'vector_size': 50, 'min_count': 2, 'window': 3}\"],\n [{\n            'v': 117,\n            'f': \"117\",\n        },\n{\n            'v': 0.5175,\n            'f': \"0.5175\",\n        },\n\"{'preprocess': 'custom', 'dm': 1, 'epochs': 50, 'vector_size': 50, 'min_count': 3, 'window': 10}\"],\n [{\n            'v': 62,\n            'f': \"62\",\n        },\n{\n            'v': 0.5175,\n            'f': \"0.5175\",\n        },\n\"{'preprocess': 'simple', 'dm': 1, 'epochs': 50, 'vector_size': 200, 'min_count': 3, 'window': 5}\"],\n [{\n            'v': 352,\n            'f': \"352\",\n        },\n{\n            'v': 0.5175,\n            'f': \"0.5175\",\n        },\n\"{'preprocess': 'simple', 'dm': 1, 'epochs': 100, 'vector_size': 300, 'min_count': 1, 'window': 3}\"],\n [{\n            'v': 410,\n            'f': \"410\",\n        },\n{\n            'v': 0.5175,\n            'f': \"0.5175\",\n        },\n\"{'preprocess': 'custom', 'dm': 1, 'epochs': 100, 'vector_size': 100, 'min_count': 2, 'window': 5}\"],\n [{\n            'v': 571,\n            'f': \"571\",\n        },\n{\n            'v': 0.5175,\n            'f': \"0.5175\",\n        },\n\"{'preprocess': 'custom', 'dm': 1, 'epochs': 125, 'vector_size': 300, 'min_count': 2, 'window': 3}\"],\n [{\n            'v': 68,\n            'f': \"68\",\n        },\n{\n            'v': 0.5175,\n            'f': \"0.5175\",\n        },\n\"{'preprocess': 'simple', 'dm': 1, 'epochs': 50, 'vector_size': 300, 'min_count': 2, 'window': 5}\"],\n [{\n            'v': 553,\n            'f': \"553\",\n        },\n{\n            'v': 0.51625,\n            'f': \"0.51625\",\n        },\n\"{'preprocess': 'custom', 'dm': 1, 'epochs': 125, 'vector_size': 100, 'min_count': 2, 'window': 3}\"],\n [{\n            'v': 205,\n            'f': \"205\",\n        },\n{\n            'v': 0.51625,\n            'f': \"0.51625\",\n        },\n\"{'preprocess': 'simple', 'dm': 1, 'epochs': 75, 'vector_size': 200, 'min_count': 3, 'window': 3}\"],\n [{\n            'v': 346,\n            'f': \"346\",\n        },\n{\n            'v': 0.51625,\n            'f': \"0.51625\",\n        },\n\"{'preprocess': 'simple', 'dm': 1, 'epochs': 100, 'vector_size': 200, 'min_count': 2, 'window': 3}\"],\n [{\n            'v': 71,\n            'f': \"71\",\n        },\n{\n            'v': 0.51625,\n            'f': \"0.51625\",\n        },\n\"{'preprocess': 'simple', 'dm': 1, 'epochs': 50, 'vector_size': 300, 'min_count': 3, 'window': 5}\"],\n [{\n            'v': 428,\n            'f': \"428\",\n        },\n{\n            'v': 0.51625,\n            'f': \"0.51625\",\n        },\n\"{'preprocess': 'custom', 'dm': 1, 'epochs': 100, 'vector_size': 300, 'min_count': 2, 'window': 5}\"],\n [{\n            'v': 41,\n            'f': \"41\",\n        },\n{\n            'v': 0.515,\n            'f': \"0.515\",\n        },\n\"{'preprocess': 'simple', 'dm': 1, 'epochs': 50, 'vector_size': 50, 'min_count': 2, 'window': 5}\"],\n [{\n            'v': 569,\n            'f': \"569\",\n        },\n{\n            'v': 0.515,\n            'f': \"0.515\",\n        },\n\"{'preprocess': 'custom', 'dm': 1, 'epochs': 125, 'vector_size': 300, 'min_count': 1, 'window': 5}\"],\n [{\n            'v': 209,\n            'f': \"209\",\n        },\n{\n            'v': 0.515,\n            'f': \"0.515\",\n        },\n\"{'preprocess': 'simple', 'dm': 1, 'epochs': 75, 'vector_size': 300, 'min_count': 1, 'window': 5}\"],\n [{\n            'v': 556,\n            'f': \"556\",\n        },\n{\n            'v': 0.51375,\n            'f': \"0.51375\",\n        },\n\"{'preprocess': 'custom', 'dm': 1, 'epochs': 125, 'vector_size': 100, 'min_count': 3, 'window': 3}\"],\n [{\n            'v': 343,\n            'f': \"343\",\n        },\n{\n            'v': 0.51375,\n            'f': \"0.51375\",\n        },\n\"{'preprocess': 'simple', 'dm': 1, 'epochs': 100, 'vector_size': 200, 'min_count': 1, 'window': 3}\"],\n [{\n            'v': 212,\n            'f': \"212\",\n        },\n{\n            'v': 0.5125,\n            'f': \"0.5125\",\n        },\n\"{'preprocess': 'simple', 'dm': 1, 'epochs': 75, 'vector_size': 300, 'min_count': 2, 'window': 5}\"],\n [{\n            'v': 478,\n            'f': \"478\",\n        },\n{\n            'v': 0.5125,\n            'f': \"0.5125\",\n        },\n\"{'preprocess': 'simple', 'dm': 1, 'epochs': 125, 'vector_size': 100, 'min_count': 1, 'window': 3}\"],\n [{\n            'v': 42,\n            'f': \"42\",\n        },\n{\n            'v': 0.5125,\n            'f': \"0.5125\",\n        },\n\"{'preprocess': 'simple', 'dm': 1, 'epochs': 50, 'vector_size': 50, 'min_count': 2, 'window': 10}\"],\n [{\n            'v': 202,\n            'f': \"202\",\n        },\n{\n            'v': 0.5125,\n            'f': \"0.5125\",\n        },\n\"{'preprocess': 'simple', 'dm': 1, 'epochs': 75, 'vector_size': 200, 'min_count': 2, 'window': 3}\"],\n [{\n            'v': 201,\n            'f': \"201\",\n        },\n{\n            'v': 0.5125,\n            'f': \"0.5125\",\n        },\n\"{'preprocess': 'simple', 'dm': 1, 'epochs': 75, 'vector_size': 200, 'min_count': 1, 'window': 10}\"],\n [{\n            'v': 563,\n            'f': \"563\",\n        },\n{\n            'v': 0.5125,\n            'f': \"0.5125\",\n        },\n\"{'preprocess': 'custom', 'dm': 1, 'epochs': 125, 'vector_size': 200, 'min_count': 2, 'window': 5}\"],\n [{\n            'v': 63,\n            'f': \"63\",\n        },\n{\n            'v': 0.51,\n            'f': \"0.51\",\n        },\n\"{'preprocess': 'simple', 'dm': 1, 'epochs': 50, 'vector_size': 200, 'min_count': 3, 'window': 10}\"],\n [{\n            'v': 255,\n            'f': \"255\",\n        },\n{\n            'v': 0.51,\n            'f': \"0.51\",\n        },\n\"{'preprocess': 'custom', 'dm': 1, 'epochs': 75, 'vector_size': 50, 'min_count': 1, 'window': 10}\"],\n [{\n            'v': 547,\n            'f': \"547\",\n        },\n{\n            'v': 0.51,\n            'f': \"0.51\",\n        },\n\"{'preprocess': 'custom', 'dm': 1, 'epochs': 125, 'vector_size': 50, 'min_count': 3, 'window': 3}\"],\n [{\n            'v': 574,\n            'f': \"574\",\n        },\n{\n            'v': 0.50875,\n            'f': \"0.50875\",\n        },\n\"{'preprocess': 'custom', 'dm': 1, 'epochs': 125, 'vector_size': 300, 'min_count': 3, 'window': 3}\"],\n [{\n            'v': 211,\n            'f': \"211\",\n        },\n{\n            'v': 0.50875,\n            'f': \"0.50875\",\n        },\n\"{'preprocess': 'simple', 'dm': 1, 'epochs': 75, 'vector_size': 300, 'min_count': 2, 'window': 3}\"],\n [{\n            'v': 469,\n            'f': \"469\",\n        },\n{\n            'v': 0.50875,\n            'f': \"0.50875\",\n        },\n\"{'preprocess': 'simple', 'dm': 1, 'epochs': 125, 'vector_size': 50, 'min_count': 1, 'window': 3}\"],\n [{\n            'v': 497,\n            'f': \"497\",\n        },\n{\n            'v': 0.50875,\n            'f': \"0.50875\",\n        },\n\"{'preprocess': 'simple', 'dm': 1, 'epochs': 125, 'vector_size': 300, 'min_count': 1, 'window': 5}\"],\n [{\n            'v': 337,\n            'f': \"337\",\n        },\n{\n            'v': 0.50875,\n            'f': \"0.50875\",\n        },\n\"{'preprocess': 'simple', 'dm': 1, 'epochs': 100, 'vector_size': 100, 'min_count': 2, 'window': 3}\"],\n [{\n            'v': 565,\n            'f': \"565\",\n        },\n{\n            'v': 0.5075,\n            'f': \"0.5075\",\n        },\n\"{'preprocess': 'custom', 'dm': 1, 'epochs': 125, 'vector_size': 200, 'min_count': 3, 'window': 3}\"],\n [{\n            'v': 562,\n            'f': \"562\",\n        },\n{\n            'v': 0.5075,\n            'f': \"0.5075\",\n        },\n\"{'preprocess': 'custom', 'dm': 1, 'epochs': 125, 'vector_size': 200, 'min_count': 2, 'window': 3}\"],\n [{\n            'v': 69,\n            'f': \"69\",\n        },\n{\n            'v': 0.5075,\n            'f': \"0.5075\",\n        },\n\"{'preprocess': 'simple', 'dm': 1, 'epochs': 50, 'vector_size': 300, 'min_count': 2, 'window': 10}\"],\n [{\n            'v': 358,\n            'f': \"358\",\n        },\n{\n            'v': 0.5075,\n            'f': \"0.5075\",\n        },\n\"{'preprocess': 'simple', 'dm': 1, 'epochs': 100, 'vector_size': 300, 'min_count': 3, 'window': 3}\"],\n [{\n            'v': 340,\n            'f': \"340\",\n        },\n{\n            'v': 0.50625,\n            'f': \"0.50625\",\n        },\n\"{'preprocess': 'simple', 'dm': 1, 'epochs': 100, 'vector_size': 100, 'min_count': 3, 'window': 3}\"],\n [{\n            'v': 183,\n            'f': \"183\",\n        },\n{\n            'v': 0.50625,\n            'f': \"0.50625\",\n        },\n\"{'preprocess': 'simple', 'dm': 1, 'epochs': 75, 'vector_size': 50, 'min_count': 1, 'window': 10}\"],\n [{\n            'v': 344,\n            'f': \"344\",\n        },\n{\n            'v': 0.50625,\n            'f': \"0.50625\",\n        },\n\"{'preprocess': 'simple', 'dm': 1, 'epochs': 100, 'vector_size': 200, 'min_count': 1, 'window': 5}\"],\n [{\n            'v': 335,\n            'f': \"335\",\n        },\n{\n            'v': 0.50625,\n            'f': \"0.50625\",\n        },\n\"{'preprocess': 'simple', 'dm': 1, 'epochs': 100, 'vector_size': 100, 'min_count': 1, 'window': 5}\"],\n [{\n            'v': 572,\n            'f': \"572\",\n        },\n{\n            'v': 0.505,\n            'f': \"0.505\",\n        },\n\"{'preprocess': 'custom', 'dm': 1, 'epochs': 125, 'vector_size': 300, 'min_count': 2, 'window': 5}\"],\n [{\n            'v': 192,\n            'f': \"192\",\n        },\n{\n            'v': 0.505,\n            'f': \"0.505\",\n        },\n\"{'preprocess': 'simple', 'dm': 1, 'epochs': 75, 'vector_size': 100, 'min_count': 1, 'window': 10}\"],\n [{\n            'v': 545,\n            'f': \"545\",\n        },\n{\n            'v': 0.50375,\n            'f': \"0.50375\",\n        },\n\"{'preprocess': 'custom', 'dm': 1, 'epochs': 125, 'vector_size': 50, 'min_count': 2, 'window': 5}\"],\n [{\n            'v': 282,\n            'f': \"282\",\n        },\n{\n            'v': 0.50375,\n            'f': \"0.50375\",\n        },\n\"{'preprocess': 'custom', 'dm': 1, 'epochs': 75, 'vector_size': 300, 'min_count': 1, 'window': 10}\"],\n [{\n            'v': 554,\n            'f': \"554\",\n        },\n{\n            'v': 0.50375,\n            'f': \"0.50375\",\n        },\n\"{'preprocess': 'custom', 'dm': 1, 'epochs': 125, 'vector_size': 100, 'min_count': 2, 'window': 5}\"],\n [{\n            'v': 487,\n            'f': \"487\",\n        },\n{\n            'v': 0.50375,\n            'f': \"0.50375\",\n        },\n\"{'preprocess': 'simple', 'dm': 1, 'epochs': 125, 'vector_size': 200, 'min_count': 1, 'window': 3}\"],\n [{\n            'v': 326,\n            'f': \"326\",\n        },\n{\n            'v': 0.50125,\n            'f': \"0.50125\",\n        },\n\"{'preprocess': 'simple', 'dm': 1, 'epochs': 100, 'vector_size': 50, 'min_count': 1, 'window': 5}\"],\n [{\n            'v': 210,\n            'f': \"210\",\n        },\n{\n            'v': 0.50125,\n            'f': \"0.50125\",\n        },\n\"{'preprocess': 'simple', 'dm': 1, 'epochs': 75, 'vector_size': 300, 'min_count': 1, 'window': 10}\"],\n [{\n            'v': 353,\n            'f': \"353\",\n        },\n{\n            'v': 0.50125,\n            'f': \"0.50125\",\n        },\n\"{'preprocess': 'simple', 'dm': 1, 'epochs': 100, 'vector_size': 300, 'min_count': 1, 'window': 5}\"],\n [{\n            'v': 188,\n            'f': \"188\",\n        },\n{\n            'v': 0.50125,\n            'f': \"0.50125\",\n        },\n\"{'preprocess': 'simple', 'dm': 1, 'epochs': 75, 'vector_size': 50, 'min_count': 3, 'window': 5}\"],\n [{\n            'v': 354,\n            'f': \"354\",\n        },\n{\n            'v': 0.50125,\n            'f': \"0.50125\",\n        },\n\"{'preprocess': 'simple', 'dm': 1, 'epochs': 100, 'vector_size': 300, 'min_count': 1, 'window': 10}\"],\n [{\n            'v': 496,\n            'f': \"496\",\n        },\n{\n            'v': 0.50125,\n            'f': \"0.50125\",\n        },\n\"{'preprocess': 'simple', 'dm': 1, 'epochs': 125, 'vector_size': 300, 'min_count': 1, 'window': 3}\"],\n [{\n            'v': 327,\n            'f': \"327\",\n        },\n{\n            'v': 0.5,\n            'f': \"0.5\",\n        },\n\"{'preprocess': 'simple', 'dm': 1, 'epochs': 100, 'vector_size': 50, 'min_count': 1, 'window': 10}\"],\n [{\n            'v': 72,\n            'f': \"72\",\n        },\n{\n            'v': 0.5,\n            'f': \"0.5\",\n        },\n\"{'preprocess': 'simple', 'dm': 1, 'epochs': 50, 'vector_size': 300, 'min_count': 3, 'window': 10}\"],\n [{\n            'v': 328,\n            'f': \"328\",\n        },\n{\n            'v': 0.5,\n            'f': \"0.5\",\n        },\n\"{'preprocess': 'simple', 'dm': 1, 'epochs': 100, 'vector_size': 50, 'min_count': 2, 'window': 3}\"],\n [{\n            'v': 197,\n            'f': \"197\",\n        },\n{\n            'v': 0.5,\n            'f': \"0.5\",\n        },\n\"{'preprocess': 'simple', 'dm': 1, 'epochs': 75, 'vector_size': 100, 'min_count': 3, 'window': 5}\"],\n [{\n            'v': 206,\n            'f': \"206\",\n        },\n{\n            'v': 0.5,\n            'f': \"0.5\",\n        },\n\"{'preprocess': 'simple', 'dm': 1, 'epochs': 75, 'vector_size': 200, 'min_count': 3, 'window': 5}\"],\n [{\n            'v': 273,\n            'f': \"273\",\n        },\n{\n            'v': 0.5,\n            'f': \"0.5\",\n        },\n\"{'preprocess': 'custom', 'dm': 1, 'epochs': 75, 'vector_size': 200, 'min_count': 1, 'window': 10}\"],\n [{\n            'v': 185,\n            'f': \"185\",\n        },\n{\n            'v': 0.49875,\n            'f': \"0.49875\",\n        },\n\"{'preprocess': 'simple', 'dm': 1, 'epochs': 75, 'vector_size': 50, 'min_count': 2, 'window': 5}\"],\n [{\n            'v': 336,\n            'f': \"336\",\n        },\n{\n            'v': 0.49875,\n            'f': \"0.49875\",\n        },\n\"{'preprocess': 'simple', 'dm': 1, 'epochs': 100, 'vector_size': 100, 'min_count': 1, 'window': 10}\"],\n [{\n            'v': 203,\n            'f': \"203\",\n        },\n{\n            'v': 0.49875,\n            'f': \"0.49875\",\n        },\n\"{'preprocess': 'simple', 'dm': 1, 'epochs': 75, 'vector_size': 200, 'min_count': 2, 'window': 5}\"],\n [{\n            'v': 431,\n            'f': \"431\",\n        },\n{\n            'v': 0.49875,\n            'f': \"0.49875\",\n        },\n\"{'preprocess': 'custom', 'dm': 1, 'epochs': 100, 'vector_size': 300, 'min_count': 3, 'window': 5}\"],\n [{\n            'v': 355,\n            'f': \"355\",\n        },\n{\n            'v': 0.49875,\n            'f': \"0.49875\",\n        },\n\"{'preprocess': 'simple', 'dm': 1, 'epochs': 100, 'vector_size': 300, 'min_count': 2, 'window': 3}\"],\n [{\n            'v': 422,\n            'f': \"422\",\n        },\n{\n            'v': 0.4975,\n            'f': \"0.4975\",\n        },\n\"{'preprocess': 'custom', 'dm': 1, 'epochs': 100, 'vector_size': 200, 'min_count': 3, 'window': 5}\"],\n [{\n            'v': 194,\n            'f': \"194\",\n        },\n{\n            'v': 0.4975,\n            'f': \"0.4975\",\n        },\n\"{'preprocess': 'simple', 'dm': 1, 'epochs': 75, 'vector_size': 100, 'min_count': 2, 'window': 5}\"],\n [{\n            'v': 331,\n            'f': \"331\",\n        },\n{\n            'v': 0.49625,\n            'f': \"0.49625\",\n        },\n\"{'preprocess': 'simple', 'dm': 1, 'epochs': 100, 'vector_size': 50, 'min_count': 3, 'window': 3}\"],\n [{\n            'v': 349,\n            'f': \"349\",\n        },\n{\n            'v': 0.495,\n            'f': \"0.495\",\n        },\n\"{'preprocess': 'simple', 'dm': 1, 'epochs': 100, 'vector_size': 200, 'min_count': 3, 'window': 3}\"],\n [{\n            'v': 264,\n            'f': \"264\",\n        },\n{\n            'v': 0.49375,\n            'f': \"0.49375\",\n        },\n\"{'preprocess': 'custom', 'dm': 1, 'epochs': 75, 'vector_size': 100, 'min_count': 1, 'window': 10}\"],\n [{\n            'v': 215,\n            'f': \"215\",\n        },\n{\n            'v': 0.49375,\n            'f': \"0.49375\",\n        },\n\"{'preprocess': 'simple', 'dm': 1, 'epochs': 75, 'vector_size': 300, 'min_count': 3, 'window': 5}\"],\n [{\n            'v': 267,\n            'f': \"267\",\n        },\n{\n            'v': 0.4925,\n            'f': \"0.4925\",\n        },\n\"{'preprocess': 'custom', 'dm': 1, 'epochs': 75, 'vector_size': 100, 'min_count': 2, 'window': 10}\"],\n [{\n            'v': 488,\n            'f': \"488\",\n        },\n{\n            'v': 0.4925,\n            'f': \"0.4925\",\n        },\n\"{'preprocess': 'simple', 'dm': 1, 'epochs': 125, 'vector_size': 200, 'min_count': 1, 'window': 5}\"],\n [{\n            'v': 475,\n            'f': \"475\",\n        },\n{\n            'v': 0.4925,\n            'f': \"0.4925\",\n        },\n\"{'preprocess': 'simple', 'dm': 1, 'epochs': 125, 'vector_size': 50, 'min_count': 3, 'window': 3}\"],\n [{\n            'v': 186,\n            'f': \"186\",\n        },\n{\n            'v': 0.49125,\n            'f': \"0.49125\",\n        },\n\"{'preprocess': 'simple', 'dm': 1, 'epochs': 75, 'vector_size': 50, 'min_count': 2, 'window': 10}\"],\n [{\n            'v': 493,\n            'f': \"493\",\n        },\n{\n            'v': 0.49125,\n            'f': \"0.49125\",\n        },\n\"{'preprocess': 'simple', 'dm': 1, 'epochs': 125, 'vector_size': 200, 'min_count': 3, 'window': 3}\"],\n [{\n            'v': 216,\n            'f': \"216\",\n        },\n{\n            'v': 0.49125,\n            'f': \"0.49125\",\n        },\n\"{'preprocess': 'simple', 'dm': 1, 'epochs': 75, 'vector_size': 300, 'min_count': 3, 'window': 10}\"],\n [{\n            'v': 195,\n            'f': \"195\",\n        },\n{\n            'v': 0.49125,\n            'f': \"0.49125\",\n        },\n\"{'preprocess': 'simple', 'dm': 1, 'epochs': 75, 'vector_size': 100, 'min_count': 2, 'window': 10}\"],\n [{\n            'v': 213,\n            'f': \"213\",\n        },\n{\n            'v': 0.49125,\n            'f': \"0.49125\",\n        },\n\"{'preprocess': 'simple', 'dm': 1, 'epochs': 75, 'vector_size': 300, 'min_count': 2, 'window': 10}\"],\n [{\n            'v': 345,\n            'f': \"345\",\n        },\n{\n            'v': 0.49,\n            'f': \"0.49\",\n        },\n\"{'preprocess': 'simple', 'dm': 1, 'epochs': 100, 'vector_size': 200, 'min_count': 1, 'window': 10}\"],\n [{\n            'v': 408,\n            'f': \"408\",\n        },\n{\n            'v': 0.49,\n            'f': \"0.49\",\n        },\n\"{'preprocess': 'custom', 'dm': 1, 'epochs': 100, 'vector_size': 100, 'min_count': 1, 'window': 10}\"],\n [{\n            'v': 566,\n            'f': \"566\",\n        },\n{\n            'v': 0.49,\n            'f': \"0.49\",\n        },\n\"{'preprocess': 'custom', 'dm': 1, 'epochs': 125, 'vector_size': 200, 'min_count': 3, 'window': 5}\"],\n [{\n            'v': 417,\n            'f': \"417\",\n        },\n{\n            'v': 0.49,\n            'f': \"0.49\",\n        },\n\"{'preprocess': 'custom', 'dm': 1, 'epochs': 100, 'vector_size': 200, 'min_count': 1, 'window': 10}\"],\n [{\n            'v': 470,\n            'f': \"470\",\n        },\n{\n            'v': 0.48875,\n            'f': \"0.48875\",\n        },\n\"{'preprocess': 'simple', 'dm': 1, 'epochs': 125, 'vector_size': 50, 'min_count': 1, 'window': 5}\"],\n [{\n            'v': 484,\n            'f': \"484\",\n        },\n{\n            'v': 0.48875,\n            'f': \"0.48875\",\n        },\n\"{'preprocess': 'simple', 'dm': 1, 'epochs': 125, 'vector_size': 100, 'min_count': 3, 'window': 3}\"],\n [{\n            'v': 413,\n            'f': \"413\",\n        },\n{\n            'v': 0.48875,\n            'f': \"0.48875\",\n        },\n\"{'preprocess': 'custom', 'dm': 1, 'epochs': 100, 'vector_size': 100, 'min_count': 3, 'window': 5}\"],\n [{\n            'v': 479,\n            'f': \"479\",\n        },\n{\n            'v': 0.48875,\n            'f': \"0.48875\",\n        },\n\"{'preprocess': 'simple', 'dm': 1, 'epochs': 125, 'vector_size': 100, 'min_count': 1, 'window': 5}\"],\n [{\n            'v': 502,\n            'f': \"502\",\n        },\n{\n            'v': 0.48875,\n            'f': \"0.48875\",\n        },\n\"{'preprocess': 'simple', 'dm': 1, 'epochs': 125, 'vector_size': 300, 'min_count': 3, 'window': 3}\"],\n [{\n            'v': 399,\n            'f': \"399\",\n        },\n{\n            'v': 0.48875,\n            'f': \"0.48875\",\n        },\n\"{'preprocess': 'custom', 'dm': 1, 'epochs': 100, 'vector_size': 50, 'min_count': 1, 'window': 10}\"],\n [{\n            'v': 404,\n            'f': \"404\",\n        },\n{\n            'v': 0.4875,\n            'f': \"0.4875\",\n        },\n\"{'preprocess': 'custom', 'dm': 1, 'epochs': 100, 'vector_size': 50, 'min_count': 3, 'window': 5}\"],\n [{\n            'v': 557,\n            'f': \"557\",\n        },\n{\n            'v': 0.4875,\n            'f': \"0.4875\",\n        },\n\"{'preprocess': 'custom', 'dm': 1, 'epochs': 125, 'vector_size': 100, 'min_count': 3, 'window': 5}\"],\n [{\n            'v': 207,\n            'f': \"207\",\n        },\n{\n            'v': 0.48625,\n            'f': \"0.48625\",\n        },\n\"{'preprocess': 'simple', 'dm': 1, 'epochs': 75, 'vector_size': 200, 'min_count': 3, 'window': 10}\"],\n [{\n            'v': 288,\n            'f': \"288\",\n        },\n{\n            'v': 0.485,\n            'f': \"0.485\",\n        },\n\"{'preprocess': 'custom', 'dm': 1, 'epochs': 75, 'vector_size': 300, 'min_count': 3, 'window': 10}\"],\n [{\n            'v': 276,\n            'f': \"276\",\n        },\n{\n            'v': 0.485,\n            'f': \"0.485\",\n        },\n\"{'preprocess': 'custom', 'dm': 1, 'epochs': 75, 'vector_size': 200, 'min_count': 2, 'window': 10}\"],\n [{\n            'v': 198,\n            'f': \"198\",\n        },\n{\n            'v': 0.485,\n            'f': \"0.485\",\n        },\n\"{'preprocess': 'simple', 'dm': 1, 'epochs': 75, 'vector_size': 100, 'min_count': 3, 'window': 10}\"],\n [{\n            'v': 490,\n            'f': \"490\",\n        },\n{\n            'v': 0.485,\n            'f': \"0.485\",\n        },\n\"{'preprocess': 'simple', 'dm': 1, 'epochs': 125, 'vector_size': 200, 'min_count': 2, 'window': 3}\"],\n [{\n            'v': 329,\n            'f': \"329\",\n        },\n{\n            'v': 0.485,\n            'f': \"0.485\",\n        },\n\"{'preprocess': 'simple', 'dm': 1, 'epochs': 100, 'vector_size': 50, 'min_count': 2, 'window': 5}\"],\n [{\n            'v': 350,\n            'f': \"350\",\n        },\n{\n            'v': 0.48375,\n            'f': \"0.48375\",\n        },\n\"{'preprocess': 'simple', 'dm': 1, 'epochs': 100, 'vector_size': 200, 'min_count': 3, 'window': 5}\"],\n [{\n            'v': 472,\n            'f': \"472\",\n        },\n{\n            'v': 0.48375,\n            'f': \"0.48375\",\n        },\n\"{'preprocess': 'simple', 'dm': 1, 'epochs': 125, 'vector_size': 50, 'min_count': 2, 'window': 3}\"],\n [{\n            'v': 258,\n            'f': \"258\",\n        },\n{\n            'v': 0.48375,\n            'f': \"0.48375\",\n        },\n\"{'preprocess': 'custom', 'dm': 1, 'epochs': 75, 'vector_size': 50, 'min_count': 2, 'window': 10}\"],\n [{\n            'v': 332,\n            'f': \"332\",\n        },\n{\n            'v': 0.4825,\n            'f': \"0.4825\",\n        },\n\"{'preprocess': 'simple', 'dm': 1, 'epochs': 100, 'vector_size': 50, 'min_count': 3, 'window': 5}\"],\n [{\n            'v': 338,\n            'f': \"338\",\n        },\n{\n            'v': 0.4825,\n            'f': \"0.4825\",\n        },\n\"{'preprocess': 'simple', 'dm': 1, 'epochs': 100, 'vector_size': 100, 'min_count': 2, 'window': 5}\"],\n [{\n            'v': 552,\n            'f': \"552\",\n        },\n{\n            'v': 0.4825,\n            'f': \"0.4825\",\n        },\n\"{'preprocess': 'custom', 'dm': 1, 'epochs': 125, 'vector_size': 100, 'min_count': 1, 'window': 10}\"],\n [{\n            'v': 189,\n            'f': \"189\",\n        },\n{\n            'v': 0.48125,\n            'f': \"0.48125\",\n        },\n\"{'preprocess': 'simple', 'dm': 1, 'epochs': 75, 'vector_size': 50, 'min_count': 3, 'window': 10}\"],\n [{\n            'v': 347,\n            'f': \"347\",\n        },\n{\n            'v': 0.48125,\n            'f': \"0.48125\",\n        },\n\"{'preprocess': 'simple', 'dm': 1, 'epochs': 100, 'vector_size': 200, 'min_count': 2, 'window': 5}\"],\n [{\n            'v': 503,\n            'f': \"503\",\n        },\n{\n            'v': 0.48125,\n            'f': \"0.48125\",\n        },\n\"{'preprocess': 'simple', 'dm': 1, 'epochs': 125, 'vector_size': 300, 'min_count': 3, 'window': 5}\"],\n [{\n            'v': 499,\n            'f': \"499\",\n        },\n{\n            'v': 0.48,\n            'f': \"0.48\",\n        },\n\"{'preprocess': 'simple', 'dm': 1, 'epochs': 125, 'vector_size': 300, 'min_count': 2, 'window': 3}\"],\n [{\n            'v': 481,\n            'f': \"481\",\n        },\n{\n            'v': 0.48,\n            'f': \"0.48\",\n        },\n\"{'preprocess': 'simple', 'dm': 1, 'epochs': 125, 'vector_size': 100, 'min_count': 2, 'window': 3}\"],\n [{\n            'v': 471,\n            'f': \"471\",\n        },\n{\n            'v': 0.48,\n            'f': \"0.48\",\n        },\n\"{'preprocess': 'simple', 'dm': 1, 'epochs': 125, 'vector_size': 50, 'min_count': 1, 'window': 10}\"],\n [{\n            'v': 356,\n            'f': \"356\",\n        },\n{\n            'v': 0.48,\n            'f': \"0.48\",\n        },\n\"{'preprocess': 'simple', 'dm': 1, 'epochs': 100, 'vector_size': 300, 'min_count': 2, 'window': 5}\"],\n [{\n            'v': 359,\n            'f': \"359\",\n        },\n{\n            'v': 0.47875,\n            'f': \"0.47875\",\n        },\n\"{'preprocess': 'simple', 'dm': 1, 'epochs': 100, 'vector_size': 300, 'min_count': 3, 'window': 5}\"],\n [{\n            'v': 548,\n            'f': \"548\",\n        },\n{\n            'v': 0.47875,\n            'f': \"0.47875\",\n        },\n\"{'preprocess': 'custom', 'dm': 1, 'epochs': 125, 'vector_size': 50, 'min_count': 3, 'window': 5}\"],\n [{\n            'v': 204,\n            'f': \"204\",\n        },\n{\n            'v': 0.4775,\n            'f': \"0.4775\",\n        },\n\"{'preprocess': 'simple', 'dm': 1, 'epochs': 75, 'vector_size': 200, 'min_count': 2, 'window': 10}\"],\n [{\n            'v': 261,\n            'f': \"261\",\n        },\n{\n            'v': 0.4775,\n            'f': \"0.4775\",\n        },\n\"{'preprocess': 'custom', 'dm': 1, 'epochs': 75, 'vector_size': 50, 'min_count': 3, 'window': 10}\"],\n [{\n            'v': 543,\n            'f': \"543\",\n        },\n{\n            'v': 0.4775,\n            'f': \"0.4775\",\n        },\n\"{'preprocess': 'custom', 'dm': 1, 'epochs': 125, 'vector_size': 50, 'min_count': 1, 'window': 10}\"],\n [{\n            'v': 485,\n            'f': \"485\",\n        },\n{\n            'v': 0.4775,\n            'f': \"0.4775\",\n        },\n\"{'preprocess': 'simple', 'dm': 1, 'epochs': 125, 'vector_size': 100, 'min_count': 3, 'window': 5}\"],\n [{\n            'v': 498,\n            'f': \"498\",\n        },\n{\n            'v': 0.4775,\n            'f': \"0.4775\",\n        },\n\"{'preprocess': 'simple', 'dm': 1, 'epochs': 125, 'vector_size': 300, 'min_count': 1, 'window': 10}\"],\n [{\n            'v': 285,\n            'f': \"285\",\n        },\n{\n            'v': 0.4775,\n            'f': \"0.4775\",\n        },\n\"{'preprocess': 'custom', 'dm': 1, 'epochs': 75, 'vector_size': 300, 'min_count': 2, 'window': 10}\"],\n [{\n            'v': 480,\n            'f': \"480\",\n        },\n{\n            'v': 0.47625,\n            'f': \"0.47625\",\n        },\n\"{'preprocess': 'simple', 'dm': 1, 'epochs': 125, 'vector_size': 100, 'min_count': 1, 'window': 10}\"],\n [{\n            'v': 426,\n            'f': \"426\",\n        },\n{\n            'v': 0.47625,\n            'f': \"0.47625\",\n        },\n\"{'preprocess': 'custom', 'dm': 1, 'epochs': 100, 'vector_size': 300, 'min_count': 1, 'window': 10}\"],\n [{\n            'v': 494,\n            'f': \"494\",\n        },\n{\n            'v': 0.475,\n            'f': \"0.475\",\n        },\n\"{'preprocess': 'simple', 'dm': 1, 'epochs': 125, 'vector_size': 200, 'min_count': 3, 'window': 5}\"],\n [{\n            'v': 270,\n            'f': \"270\",\n        },\n{\n            'v': 0.47375,\n            'f': \"0.47375\",\n        },\n\"{'preprocess': 'custom', 'dm': 1, 'epochs': 75, 'vector_size': 100, 'min_count': 3, 'window': 10}\"],\n [{\n            'v': 570,\n            'f': \"570\",\n        },\n{\n            'v': 0.47375,\n            'f': \"0.47375\",\n        },\n\"{'preprocess': 'custom', 'dm': 1, 'epochs': 125, 'vector_size': 300, 'min_count': 1, 'window': 10}\"],\n [{\n            'v': 561,\n            'f': \"561\",\n        },\n{\n            'v': 0.47375,\n            'f': \"0.47375\",\n        },\n\"{'preprocess': 'custom', 'dm': 1, 'epochs': 125, 'vector_size': 200, 'min_count': 1, 'window': 10}\"],\n [{\n            'v': 341,\n            'f': \"341\",\n        },\n{\n            'v': 0.4725,\n            'f': \"0.4725\",\n        },\n\"{'preprocess': 'simple', 'dm': 1, 'epochs': 100, 'vector_size': 100, 'min_count': 3, 'window': 5}\"],\n [{\n            'v': 279,\n            'f': \"279\",\n        },\n{\n            'v': 0.4725,\n            'f': \"0.4725\",\n        },\n\"{'preprocess': 'custom', 'dm': 1, 'epochs': 75, 'vector_size': 200, 'min_count': 3, 'window': 10}\"],\n [{\n            'v': 575,\n            'f': \"575\",\n        },\n{\n            'v': 0.4725,\n            'f': \"0.4725\",\n        },\n\"{'preprocess': 'custom', 'dm': 1, 'epochs': 125, 'vector_size': 300, 'min_count': 3, 'window': 5}\"],\n [{\n            'v': 351,\n            'f': \"351\",\n        },\n{\n            'v': 0.4725,\n            'f': \"0.4725\",\n        },\n\"{'preprocess': 'simple', 'dm': 1, 'epochs': 100, 'vector_size': 200, 'min_count': 3, 'window': 10}\"],\n [{\n            'v': 491,\n            'f': \"491\",\n        },\n{\n            'v': 0.47,\n            'f': \"0.47\",\n        },\n\"{'preprocess': 'simple', 'dm': 1, 'epochs': 125, 'vector_size': 200, 'min_count': 2, 'window': 5}\"],\n [{\n            'v': 357,\n            'f': \"357\",\n        },\n{\n            'v': 0.47,\n            'f': \"0.47\",\n        },\n\"{'preprocess': 'simple', 'dm': 1, 'epochs': 100, 'vector_size': 300, 'min_count': 2, 'window': 10}\"],\n [{\n            'v': 482,\n            'f': \"482\",\n        },\n{\n            'v': 0.47,\n            'f': \"0.47\",\n        },\n\"{'preprocess': 'simple', 'dm': 1, 'epochs': 125, 'vector_size': 100, 'min_count': 2, 'window': 5}\"],\n [{\n            'v': 429,\n            'f': \"429\",\n        },\n{\n            'v': 0.47,\n            'f': \"0.47\",\n        },\n\"{'preprocess': 'custom', 'dm': 1, 'epochs': 100, 'vector_size': 300, 'min_count': 2, 'window': 10}\"],\n [{\n            'v': 489,\n            'f': \"489\",\n        },\n{\n            'v': 0.46875,\n            'f': \"0.46875\",\n        },\n\"{'preprocess': 'simple', 'dm': 1, 'epochs': 125, 'vector_size': 200, 'min_count': 1, 'window': 10}\"],\n [{\n            'v': 402,\n            'f': \"402\",\n        },\n{\n            'v': 0.46875,\n            'f': \"0.46875\",\n        },\n\"{'preprocess': 'custom', 'dm': 1, 'epochs': 100, 'vector_size': 50, 'min_count': 2, 'window': 10}\"],\n [{\n            'v': 476,\n            'f': \"476\",\n        },\n{\n            'v': 0.4675,\n            'f': \"0.4675\",\n        },\n\"{'preprocess': 'simple', 'dm': 1, 'epochs': 125, 'vector_size': 50, 'min_count': 3, 'window': 5}\"],\n [{\n            'v': 546,\n            'f': \"546\",\n        },\n{\n            'v': 0.46625,\n            'f': \"0.46625\",\n        },\n\"{'preprocess': 'custom', 'dm': 1, 'epochs': 125, 'vector_size': 50, 'min_count': 2, 'window': 10}\"],\n [{\n            'v': 405,\n            'f': \"405\",\n        },\n{\n            'v': 0.46625,\n            'f': \"0.46625\",\n        },\n\"{'preprocess': 'custom', 'dm': 1, 'epochs': 100, 'vector_size': 50, 'min_count': 3, 'window': 10}\"],\n [{\n            'v': 411,\n            'f': \"411\",\n        },\n{\n            'v': 0.46625,\n            'f': \"0.46625\",\n        },\n\"{'preprocess': 'custom', 'dm': 1, 'epochs': 100, 'vector_size': 100, 'min_count': 2, 'window': 10}\"],\n [{\n            'v': 333,\n            'f': \"333\",\n        },\n{\n            'v': 0.465,\n            'f': \"0.465\",\n        },\n\"{'preprocess': 'simple', 'dm': 1, 'epochs': 100, 'vector_size': 50, 'min_count': 3, 'window': 10}\"],\n [{\n            'v': 339,\n            'f': \"339\",\n        },\n{\n            'v': 0.465,\n            'f': \"0.465\",\n        },\n\"{'preprocess': 'simple', 'dm': 1, 'epochs': 100, 'vector_size': 100, 'min_count': 2, 'window': 10}\"],\n [{\n            'v': 500,\n            'f': \"500\",\n        },\n{\n            'v': 0.465,\n            'f': \"0.465\",\n        },\n\"{'preprocess': 'simple', 'dm': 1, 'epochs': 125, 'vector_size': 300, 'min_count': 2, 'window': 5}\"],\n [{\n            'v': 348,\n            'f': \"348\",\n        },\n{\n            'v': 0.46375,\n            'f': \"0.46375\",\n        },\n\"{'preprocess': 'simple', 'dm': 1, 'epochs': 100, 'vector_size': 200, 'min_count': 2, 'window': 10}\"],\n [{\n            'v': 360,\n            'f': \"360\",\n        },\n{\n            'v': 0.46375,\n            'f': \"0.46375\",\n        },\n\"{'preprocess': 'simple', 'dm': 1, 'epochs': 100, 'vector_size': 300, 'min_count': 3, 'window': 10}\"],\n [{\n            'v': 473,\n            'f': \"473\",\n        },\n{\n            'v': 0.4625,\n            'f': \"0.4625\",\n        },\n\"{'preprocess': 'simple', 'dm': 1, 'epochs': 125, 'vector_size': 50, 'min_count': 2, 'window': 5}\"],\n [{\n            'v': 420,\n            'f': \"420\",\n        },\n{\n            'v': 0.46125,\n            'f': \"0.46125\",\n        },\n\"{'preprocess': 'custom', 'dm': 1, 'epochs': 100, 'vector_size': 200, 'min_count': 2, 'window': 10}\"],\n [{\n            'v': 414,\n            'f': \"414\",\n        },\n{\n            'v': 0.46125,\n            'f': \"0.46125\",\n        },\n\"{'preprocess': 'custom', 'dm': 1, 'epochs': 100, 'vector_size': 100, 'min_count': 3, 'window': 10}\"],\n [{\n            'v': 330,\n            'f': \"330\",\n        },\n{\n            'v': 0.45875,\n            'f': \"0.45875\",\n        },\n\"{'preprocess': 'simple', 'dm': 1, 'epochs': 100, 'vector_size': 50, 'min_count': 2, 'window': 10}\"],\n [{\n            'v': 576,\n            'f': \"576\",\n        },\n{\n            'v': 0.455,\n            'f': \"0.455\",\n        },\n\"{'preprocess': 'custom', 'dm': 1, 'epochs': 125, 'vector_size': 300, 'min_count': 3, 'window': 10}\"],\n [{\n            'v': 342,\n            'f': \"342\",\n        },\n{\n            'v': 0.455,\n            'f': \"0.455\",\n        },\n\"{'preprocess': 'simple', 'dm': 1, 'epochs': 100, 'vector_size': 100, 'min_count': 3, 'window': 10}\"],\n [{\n            'v': 549,\n            'f': \"549\",\n        },\n{\n            'v': 0.455,\n            'f': \"0.455\",\n        },\n\"{'preprocess': 'custom', 'dm': 1, 'epochs': 125, 'vector_size': 50, 'min_count': 3, 'window': 10}\"],\n [{\n            'v': 432,\n            'f': \"432\",\n        },\n{\n            'v': 0.45375,\n            'f': \"0.45375\",\n        },\n\"{'preprocess': 'custom', 'dm': 1, 'epochs': 100, 'vector_size': 300, 'min_count': 3, 'window': 10}\"],\n [{\n            'v': 474,\n            'f': \"474\",\n        },\n{\n            'v': 0.45125,\n            'f': \"0.45125\",\n        },\n\"{'preprocess': 'simple', 'dm': 1, 'epochs': 125, 'vector_size': 50, 'min_count': 2, 'window': 10}\"],\n [{\n            'v': 567,\n            'f': \"567\",\n        },\n{\n            'v': 0.44875,\n            'f': \"0.44875\",\n        },\n\"{'preprocess': 'custom', 'dm': 1, 'epochs': 125, 'vector_size': 200, 'min_count': 3, 'window': 10}\"],\n [{\n            'v': 477,\n            'f': \"477\",\n        },\n{\n            'v': 0.44625,\n            'f': \"0.44625\",\n        },\n\"{'preprocess': 'simple', 'dm': 1, 'epochs': 125, 'vector_size': 50, 'min_count': 3, 'window': 10}\"],\n [{\n            'v': 486,\n            'f': \"486\",\n        },\n{\n            'v': 0.44625,\n            'f': \"0.44625\",\n        },\n\"{'preprocess': 'simple', 'dm': 1, 'epochs': 125, 'vector_size': 100, 'min_count': 3, 'window': 10}\"],\n [{\n            'v': 555,\n            'f': \"555\",\n        },\n{\n            'v': 0.44625,\n            'f': \"0.44625\",\n        },\n\"{'preprocess': 'custom', 'dm': 1, 'epochs': 125, 'vector_size': 100, 'min_count': 2, 'window': 10}\"],\n [{\n            'v': 501,\n            'f': \"501\",\n        },\n{\n            'v': 0.445,\n            'f': \"0.445\",\n        },\n\"{'preprocess': 'simple', 'dm': 1, 'epochs': 125, 'vector_size': 300, 'min_count': 2, 'window': 10}\"],\n [{\n            'v': 558,\n            'f': \"558\",\n        },\n{\n            'v': 0.445,\n            'f': \"0.445\",\n        },\n\"{'preprocess': 'custom', 'dm': 1, 'epochs': 125, 'vector_size': 100, 'min_count': 3, 'window': 10}\"],\n [{\n            'v': 564,\n            'f': \"564\",\n        },\n{\n            'v': 0.445,\n            'f': \"0.445\",\n        },\n\"{'preprocess': 'custom', 'dm': 1, 'epochs': 125, 'vector_size': 200, 'min_count': 2, 'window': 10}\"],\n [{\n            'v': 423,\n            'f': \"423\",\n        },\n{\n            'v': 0.4425,\n            'f': \"0.4425\",\n        },\n\"{'preprocess': 'custom', 'dm': 1, 'epochs': 100, 'vector_size': 200, 'min_count': 3, 'window': 10}\"],\n [{\n            'v': 573,\n            'f': \"573\",\n        },\n{\n            'v': 0.4425,\n            'f': \"0.4425\",\n        },\n\"{'preprocess': 'custom', 'dm': 1, 'epochs': 125, 'vector_size': 300, 'min_count': 2, 'window': 10}\"],\n [{\n            'v': 483,\n            'f': \"483\",\n        },\n{\n            'v': 0.44125,\n            'f': \"0.44125\",\n        },\n\"{'preprocess': 'simple', 'dm': 1, 'epochs': 125, 'vector_size': 100, 'min_count': 2, 'window': 10}\"],\n [{\n            'v': 504,\n            'f': \"504\",\n        },\n{\n            'v': 0.44,\n            'f': \"0.44\",\n        },\n\"{'preprocess': 'simple', 'dm': 1, 'epochs': 125, 'vector_size': 300, 'min_count': 3, 'window': 10}\"],\n [{\n            'v': 492,\n            'f': \"492\",\n        },\n{\n            'v': 0.43875,\n            'f': \"0.43875\",\n        },\n\"{'preprocess': 'simple', 'dm': 1, 'epochs': 125, 'vector_size': 200, 'min_count': 2, 'window': 10}\"],\n [{\n            'v': 495,\n            'f': \"495\",\n        },\n{\n            'v': 0.4375,\n            'f': \"0.4375\",\n        },\n\"{'preprocess': 'simple', 'dm': 1, 'epochs': 125, 'vector_size': 200, 'min_count': 3, 'window': 10}\"]],\n        columns: [[\"number\", \"index\"], [\"number\", \"Top-2 Acc.\"], [\"string\", \"MSC Classifier Parameters\"]],\n        columnOptions: [{\"width\": \"1px\", \"className\": \"index_column\"}],\n        rowsPerPage: 25,\n        helpUrl: \"https://colab.research.google.com/notebooks/data_table.ipynb\",\n        suppressOutputScrolling: true,\n        minimumWidth: undefined,\n      });\n    ",
            "text/plain": [
              "<google.colab.data_table.DataTable object>"
            ],
            "text/html": [
              "<div>\n",
              "<style scoped>\n",
              "    .dataframe tbody tr th:only-of-type {\n",
              "        vertical-align: middle;\n",
              "    }\n",
              "\n",
              "    .dataframe tbody tr th {\n",
              "        vertical-align: top;\n",
              "    }\n",
              "\n",
              "    .dataframe thead th {\n",
              "        text-align: right;\n",
              "    }\n",
              "</style>\n",
              "<table border=\"1\" class=\"dataframe\">\n",
              "  <thead>\n",
              "    <tr style=\"text-align: right;\">\n",
              "      <th></th>\n",
              "      <th>Top-2 Acc.</th>\n",
              "      <th>MSC Classifier Parameters</th>\n",
              "    </tr>\n",
              "  </thead>\n",
              "  <tbody>\n",
              "    <tr>\n",
              "      <th>73</th>\n",
              "      <td>0.62000</td>\n",
              "      <td>{'preprocess': 'custom', 'dm': 0, 'epochs': 50...</td>\n",
              "    </tr>\n",
              "    <tr>\n",
              "      <th>100</th>\n",
              "      <td>0.61875</td>\n",
              "      <td>{'preprocess': 'custom', 'dm': 0, 'epochs': 50...</td>\n",
              "    </tr>\n",
              "    <tr>\n",
              "      <th>74</th>\n",
              "      <td>0.61875</td>\n",
              "      <td>{'preprocess': 'custom', 'dm': 0, 'epochs': 50...</td>\n",
              "    </tr>\n",
              "    <tr>\n",
              "      <th>82</th>\n",
              "      <td>0.61875</td>\n",
              "      <td>{'preprocess': 'custom', 'dm': 0, 'epochs': 50...</td>\n",
              "    </tr>\n",
              "    <tr>\n",
              "      <th>102</th>\n",
              "      <td>0.61875</td>\n",
              "      <td>{'preprocess': 'custom', 'dm': 0, 'epochs': 50...</td>\n",
              "    </tr>\n",
              "    <tr>\n",
              "      <th>...</th>\n",
              "      <td>...</td>\n",
              "      <td>...</td>\n",
              "    </tr>\n",
              "    <tr>\n",
              "      <th>573</th>\n",
              "      <td>0.44250</td>\n",
              "      <td>{'preprocess': 'custom', 'dm': 1, 'epochs': 12...</td>\n",
              "    </tr>\n",
              "    <tr>\n",
              "      <th>483</th>\n",
              "      <td>0.44125</td>\n",
              "      <td>{'preprocess': 'simple', 'dm': 1, 'epochs': 12...</td>\n",
              "    </tr>\n",
              "    <tr>\n",
              "      <th>504</th>\n",
              "      <td>0.44000</td>\n",
              "      <td>{'preprocess': 'simple', 'dm': 1, 'epochs': 12...</td>\n",
              "    </tr>\n",
              "    <tr>\n",
              "      <th>492</th>\n",
              "      <td>0.43875</td>\n",
              "      <td>{'preprocess': 'simple', 'dm': 1, 'epochs': 12...</td>\n",
              "    </tr>\n",
              "    <tr>\n",
              "      <th>495</th>\n",
              "      <td>0.43750</td>\n",
              "      <td>{'preprocess': 'simple', 'dm': 1, 'epochs': 12...</td>\n",
              "    </tr>\n",
              "  </tbody>\n",
              "</table>\n",
              "<p>577 rows × 2 columns</p>\n",
              "</div>"
            ]
          },
          "metadata": {
            "tags": []
          },
          "execution_count": 15
        }
      ]
    },
    {
      "cell_type": "code",
      "metadata": {
        "id": "vXihCOQIDxAR",
        "colab_type": "code",
        "colab": {}
      },
      "source": [
        "best_hparams = {'preprocess': 'custom', 'dm': 0, 'epochs': 50, 'vector_size': 50, 'min_count': 1, 'window': 3}"
      ],
      "execution_count": null,
      "outputs": []
    },
    {
      "cell_type": "markdown",
      "metadata": {
        "id": "3MyuG_TSxqkN",
        "colab_type": "text"
      },
      "source": [
        "## Evaluating MaxSimClassifier on documents using topic definitions\n"
      ]
    },
    {
      "cell_type": "markdown",
      "metadata": {
        "id": "8WZjmBTBBmok",
        "colab_type": "text"
      },
      "source": [
        "##Wiki dataset"
      ]
    },
    {
      "cell_type": "code",
      "metadata": {
        "id": "_LtQVPwDEPyt",
        "colab_type": "code",
        "colab": {
          "base_uri": "https://localhost:8080/",
          "height": 90
        },
        "outputId": "eed888e5-3561-424f-f24b-dd9e96090b49"
      },
      "source": [
        "max_sim_model = MaxSimClassifier(\"wiki\", best_hparams['preprocess'], best_hparams['vector_size'],best_hparams['min_count'],\n",
        "                                 best_hparams['epochs'],best_hparams['dm'],best_hparams['window'],workers=4)\n",
        "max_sim_model.fit(x_train_CLF_W, y_train_CLF_W)\n",
        "#Obtaining TOP-2 Accuracy\n",
        "max_sim_model.score(x_test_CLF_W, y_test_CLF_W,eval=\"top2\")"
      ],
      "execution_count": null,
      "outputs": [
        {
          "output_type": "stream",
          "text": [
            "/usr/local/lib/python3.6/dist-packages/gensim/matutils.py:737: FutureWarning: Conversion of the second argument of issubdtype from `int` to `np.signedinteger` is deprecated. In future, it will be treated as `np.int64 == np.dtype(int).type`.\n",
            "  if np.issubdtype(vec.dtype, np.int):\n"
          ],
          "name": "stderr"
        },
        {
          "output_type": "execute_result",
          "data": {
            "text/plain": [
              "0.7668341708542713"
            ]
          },
          "metadata": {
            "tags": []
          },
          "execution_count": 35
        }
      ]
    },
    {
      "cell_type": "code",
      "metadata": {
        "id": "DPkS-BQ4IPf9",
        "colab_type": "code",
        "colab": {
          "base_uri": "https://localhost:8080/",
          "height": 90
        },
        "outputId": "8311b3d0-8650-4cba-eba3-b69a4bc6ab9a"
      },
      "source": [
        "max_sim_model.score(x_test_CLF_W, y_test_CLF_W,eval=\"top1\")"
      ],
      "execution_count": null,
      "outputs": [
        {
          "output_type": "stream",
          "text": [
            "/usr/local/lib/python3.6/dist-packages/gensim/matutils.py:737: FutureWarning: Conversion of the second argument of issubdtype from `int` to `np.signedinteger` is deprecated. In future, it will be treated as `np.int64 == np.dtype(int).type`.\n",
            "  if np.issubdtype(vec.dtype, np.int):\n"
          ],
          "name": "stderr"
        },
        {
          "output_type": "execute_result",
          "data": {
            "text/plain": [
              "0.6100502512562814"
            ]
          },
          "metadata": {
            "tags": []
          },
          "execution_count": 36
        }
      ]
    },
    {
      "cell_type": "code",
      "metadata": {
        "id": "mW5l6KXvJyxG",
        "colab_type": "code",
        "colab": {
          "base_uri": "https://localhost:8080/",
          "height": 500
        },
        "outputId": "67488258-41a6-423b-e980-cc11cba8a4ea"
      },
      "source": [
        "MSC_predictions = max_sim_model.predict(x_test_CLF_W)\n",
        "doc_utils.plotConfMatrix(y_test_CLF_W, MSC_predictions, model=\"MSC\", dataset_type='wiki')"
      ],
      "execution_count": null,
      "outputs": [
        {
          "output_type": "stream",
          "text": [
            "/usr/local/lib/python3.6/dist-packages/gensim/matutils.py:737: FutureWarning: Conversion of the second argument of issubdtype from `int` to `np.signedinteger` is deprecated. In future, it will be treated as `np.int64 == np.dtype(int).type`.\n",
            "  if np.issubdtype(vec.dtype, np.int):\n"
          ],
          "name": "stderr"
        },
        {
          "output_type": "display_data",
          "data": {
            "image/png": "[encoded data removed]",
            "text/plain": [
              "<Figure size 720x504 with 2 Axes>"
            ]
          },
          "metadata": {
            "tags": [],
            "needs_background": "light"
          }
        }
      ]
    },
    {
      "cell_type": "markdown",
      "metadata": {
        "id": "Ezc74c9RBjXL",
        "colab_type": "text"
      },
      "source": [
        "## arXiv dataset"
      ]
    },
    {
      "cell_type": "code",
      "metadata": {
        "id": "XLqEVhrO3kmh",
        "colab_type": "code",
        "colab": {
          "base_uri": "https://localhost:8080/",
          "height": 90
        },
        "outputId": "fddc7f3b-4694-430c-943e-9031ebdc99a1"
      },
      "source": [
        "max_sim_model = MaxSimClassifier(\"arxiv\", best_hparams['preprocess'], best_hparams['vector_size'],best_hparams['min_count'],\n",
        "                                 best_hparams['epochs'],best_hparams['dm'],best_hparams['window'],workers=4)\n",
        "max_sim_model.fit(x_train_CLF_A, y_train_CLF_A)\n",
        "#Obtaining TOP-2 Accuracy\n",
        "max_sim_model.score(x_test_CLF_A, y_test_CLF_A,eval=\"top2\")"
      ],
      "execution_count": null,
      "outputs": [
        {
          "output_type": "stream",
          "text": [
            "/usr/local/lib/python3.6/dist-packages/gensim/matutils.py:737: FutureWarning: Conversion of the second argument of issubdtype from `int` to `np.signedinteger` is deprecated. In future, it will be treated as `np.int64 == np.dtype(int).type`.\n",
            "  if np.issubdtype(vec.dtype, np.int):\n"
          ],
          "name": "stderr"
        },
        {
          "output_type": "execute_result",
          "data": {
            "text/plain": [
              "0.62125"
            ]
          },
          "metadata": {
            "tags": []
          },
          "execution_count": 22
        }
      ]
    },
    {
      "cell_type": "code",
      "metadata": {
        "id": "Y3XKi-dXxrhd",
        "colab_type": "code",
        "colab": {
          "base_uri": "https://localhost:8080/",
          "height": 90
        },
        "outputId": "02a4051a-0606-411c-8f79-a419b01250f5"
      },
      "source": [
        "max_sim_model.score(x_test_CLF_A, y_test_CLF_A,eval=\"top1\") #Obtaining TOP-1 Acc"
      ],
      "execution_count": null,
      "outputs": [
        {
          "output_type": "stream",
          "text": [
            "/usr/local/lib/python3.6/dist-packages/gensim/matutils.py:737: FutureWarning: Conversion of the second argument of issubdtype from `int` to `np.signedinteger` is deprecated. In future, it will be treated as `np.int64 == np.dtype(int).type`.\n",
            "  if np.issubdtype(vec.dtype, np.int):\n"
          ],
          "name": "stderr"
        },
        {
          "output_type": "execute_result",
          "data": {
            "text/plain": [
              "0.42125"
            ]
          },
          "metadata": {
            "tags": []
          },
          "execution_count": 25
        }
      ]
    },
    {
      "cell_type": "code",
      "metadata": {
        "id": "rlMxsRyt4HuC",
        "colab_type": "code",
        "colab": {
          "base_uri": "https://localhost:8080/",
          "height": 602
        },
        "outputId": "189c35e9-bc13-4eda-ad0c-c79715539320"
      },
      "source": [
        "MSC_predictions = max_sim_model.predict(x_test_CLF_A)\n",
        "doc_utils.plotConfMatrix(y_test_CLF_A, MSC_predictions, model=\"MSC\", dataset_type='arxiv')"
      ],
      "execution_count": null,
      "outputs": [
        {
          "output_type": "stream",
          "text": [
            "/usr/local/lib/python3.6/dist-packages/gensim/matutils.py:737: FutureWarning: Conversion of the second argument of issubdtype from `int` to `np.signedinteger` is deprecated. In future, it will be treated as `np.int64 == np.dtype(int).type`.\n",
            "  if np.issubdtype(vec.dtype, np.int):\n"
          ],
          "name": "stderr"
        },
        {
          "output_type": "display_data",
          "data": {
            "image/png": "[encoded data removed]",
            "text/plain": [
              "<Figure size 720x504 with 2 Axes>"
            ]
          },
          "metadata": {
            "tags": [],
            "needs_background": "light"
          }
        }
      ]
    },
    {
      "cell_type": "markdown",
      "metadata": {
        "id": "PSGCGdaJVJIw",
        "colab_type": "text"
      },
      "source": [
        "## Trying to improve MSC through pseudo-labelling"
      ]
    },
    {
      "cell_type": "markdown",
      "metadata": {
        "id": "3yps3daVZmpA",
        "colab_type": "text"
      },
      "source": [
        "### Wiki extended dataset with pseudo-labeled data"
      ]
    },
    {
      "cell_type": "code",
      "metadata": {
        "id": "6uEYMzWdVPtc",
        "colab_type": "code",
        "colab": {}
      },
      "source": [
        "max_sim_model_pl = MaxSimClassifier(\"wiki\", best_hparams['preprocess'], best_hparams['vector_size'],best_hparams['min_count'],\n",
        "                                 best_hparams['epochs'],best_hparams['dm'],best_hparams['window'],workers=4)\n",
        "\n",
        "max_sim_model_pl.fit(x_train_CLF_W,y_train_CLF_W)\n",
        "\n",
        "new_x_train = max_sim_model_pl.pseudo_label(x_train_CLF_W, x_test_CLF_W,result=\"extended\" ,debug=True )"
      ],
      "execution_count": null,
      "outputs": []
    },
    {
      "cell_type": "markdown",
      "metadata": {
        "id": "_TE15vLqZr1X",
        "colab_type": "text"
      },
      "source": [
        "### arXiv extended dataset with pseudo-labeled data"
      ]
    },
    {
      "cell_type": "code",
      "metadata": {
        "id": "0u17BtkFZv87",
        "colab_type": "code",
        "colab": {
          "base_uri": "https://localhost:8080/",
          "height": 72
        },
        "outputId": "18b95009-fb06-4a2b-9e52-667d3cc7d73a"
      },
      "source": [
        "max_sim_model = MaxSimClassifier(\"arxiv\", best_hparams['preprocess'], best_hparams['vector_size'],best_hparams['min_count'],\n",
        "                                 best_hparams['epochs'],best_hparams['dm'],best_hparams['window'],workers=4)\n",
        "\n",
        "max_sim_model.fit(x_train_CLF_A,y_train_CLF_A)\n",
        "\n",
        "pre_pseudolabel_top2acc = max_sim_model.score(x_test_CLF_A, y_test_CLF_A, eval=\"top2\")"
      ],
      "execution_count": null,
      "outputs": [
        {
          "output_type": "stream",
          "text": [
            "/usr/local/lib/python3.6/dist-packages/gensim/matutils.py:737: FutureWarning: Conversion of the second argument of issubdtype from `int` to `np.signedinteger` is deprecated. In future, it will be treated as `np.int64 == np.dtype(int).type`.\n",
            "  if np.issubdtype(vec.dtype, np.int):\n"
          ],
          "name": "stderr"
        }
      ]
    },
    {
      "cell_type": "code",
      "metadata": {
        "id": "Geon3dTJcwAZ",
        "colab_type": "code",
        "colab": {
          "base_uri": "https://localhost:8080/",
          "height": 356
        },
        "outputId": "3e9b5185-9324-46da-8874-b150c4fd5cd6"
      },
      "source": [
        "new_x_train = max_sim_model.pseudo_label(x_train_CLF_A, x_test_CLF_A, paperslist, result=\"extended\" ,debug=True )\n",
        "\n",
        "max_sim_model_pl = MaxSimClassifier(\"arxiv\", best_hparams['preprocess'], best_hparams['vector_size'],best_hparams['min_count'],\n",
        "                                 best_hparams['epochs'],best_hparams['dm'],best_hparams['window'],workers=4)\n",
        "\n",
        "max_sim_model_pl.fit(new_x_train, y_train_CLF_A)\n",
        "\n",
        "post_pseudolabel_top2acc = max_sim_model_pl.score(x_test_CLF_A, y_test_CLF_A, eval=\"top2\")"
      ],
      "execution_count": null,
      "outputs": [
        {
          "output_type": "stream",
          "text": [
            "/usr/local/lib/python3.6/dist-packages/gensim/matutils.py:737: FutureWarning: Conversion of the second argument of issubdtype from `int` to `np.signedinteger` is deprecated. In future, it will be treated as `np.int64 == np.dtype(int).type`.\n",
            "  if np.issubdtype(vec.dtype, np.int):\n"
          ],
          "name": "stderr"
        },
        {
          "output_type": "stream",
          "text": [
            "Topic 0 (Computer science) best matching paper: id #704\n",
            "\t--->True label:[ 7 ]( Statistics ) \t\tPaper title: A Geometric Theory of Higher-Order Automatic Differentiation\n",
            "Topic 1 (Economics) best matching paper: id #136\n",
            "\t--->True label:[ 1 ]( Economics ) \t\tPaper title: The transmission of liquidity shocks via China's segmented money market: evidence from recent market events\n",
            "Topic 2 (Systems engineering) best matching paper: id #444\n",
            "\t--->True label:[ 4 ]( Astrophysics ) \t\tPaper title: Examining Travel Patterns and Characteristics in a Bikesharing Network and Implications for Data-Driven Decision Supports: Case Study in the Washington DC Area\n",
            "Topic 3 (Mathematics) best matching paper: id #304\n",
            "\t--->True label:[ 3 ]( Mathematics ) \t\tPaper title: Syntactic characterizations of classes of first-order structures in mathematical fuzzy logic\n",
            "Topic 4 (Astrophysics) best matching paper: id #499\n",
            "\t--->True label:[ 4 ]( Astrophysics ) \t\tPaper title: What does the information paradox say about the universe?\n",
            "Topic 5 (Computational biology) best matching paper: id #228\n",
            "\t--->True label:[ 2 ]( Systems engineering ) \t\tPaper title: TOP-GAN: Label-Free Cancer Cell Classification Using Deep Learning with a Small Training Set\n",
            "Topic 6 (Quantitative finance) best matching paper: id #660\n",
            "\t--->True label:[ 6 ]( Quantitative finance ) \t\tPaper title: A Big data analytical framework for portfolio optimization\n",
            "Topic 7 (Statistics) best matching paper: id #154\n",
            "\t--->True label:[ 1 ]( Economics ) \t\tPaper title: Bootstrapping Structural Change Tests\n"
          ],
          "name": "stdout"
        }
      ]
    },
    {
      "cell_type": "code",
      "metadata": {
        "id": "BmuTzlsLciW-",
        "colab_type": "code",
        "colab": {
          "base_uri": "https://localhost:8080/",
          "height": 52
        },
        "outputId": "8b00f33a-9a25-44a8-8245-9d8973ee701b"
      },
      "source": [
        "print(\"MSC TOP-2 Acc. (standard):\", pre_pseudolabel_top2acc)\n",
        "print(\"MSC TOP-2 Acc. (pseudo-label extended data):\",post_pseudolabel_top2acc)"
      ],
      "execution_count": null,
      "outputs": [
        {
          "output_type": "stream",
          "text": [
            "MSC TOP-2 Acc. (standard): 0.61375\n",
            "MSC TOP-2 Acc. (pseudo-label extended data): 0.59125\n"
          ],
          "name": "stdout"
        }
      ]
    },
    {
      "cell_type": "markdown",
      "metadata": {
        "id": "XogIcxrqxr7F",
        "colab_type": "text"
      },
      "source": [
        "# 6.  Comparing classification via topic definitions against other approaches"
      ]
    },
    {
      "cell_type": "markdown",
      "metadata": {
        "id": "zwJLjyJcWqXR",
        "colab_type": "text"
      },
      "source": [
        "Check these notebooks performing tests with two different scenarios:\n",
        "\n",
        "* Classification by using a subset of articles from each category: [TODO:Add link](https://)\n",
        "* Classification by using a randomly chosen article from each category: [TODO:Add link](https://)"
      ]
    }
  ]
}