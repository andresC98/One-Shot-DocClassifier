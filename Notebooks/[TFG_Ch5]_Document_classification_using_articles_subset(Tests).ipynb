{
  "nbformat": 4,
  "nbformat_minor": 0,
  "metadata": {
    "colab": {
      "name": "[TFG Ch5] Document classification using articles subset(Tests).ipynb",
      "provenance": [],
      "toc_visible": true
    },
    "kernelspec": {
      "name": "python3",
      "display_name": "Python 3"
    }
  },
  "cells": [
    {
      "cell_type": "markdown",
      "metadata": {
        "id": "NmPpBKlGdENu",
        "colab_type": "text"
      },
      "source": [
        "## Installing and importing libraries"
      ]
    },
    {
      "cell_type": "code",
      "metadata": {
        "id": "kpgctrrv4z13",
        "colab_type": "code",
        "outputId": "6baf1afe-04df-4d84-8234-e5255685decf",
        "colab": {
          "base_uri": "https://localhost:8080/",
          "height": 570
        }
      },
      "source": [
        "#Prerequisites (external libraries not found in Google Colab)\n",
        "!pip install wikipedia\n",
        "!pip install wikipedia-api\n",
        "###Baseline classifiers libraries###\n",
        "\n",
        "#Keras Neural Network (Feedforward)\n",
        "from keras.metrics import top_k_categorical_accuracy\n",
        "from keras.backend import clear_session\n",
        "from keras.models import Sequential\n",
        "from keras.layers import Dense\n",
        "#Computations \n",
        "import numpy as np\n",
        "#Tables\n",
        "import pandas as pd\n",
        "from google.colab.data_table import DataTable\n",
        "#Sklearn classifiers and utils\n",
        "from sklearn.svm import SVC\n",
        "from sklearn.naive_bayes import MultinomialNB\n",
        "from sklearn.pipeline import Pipeline\n",
        "from sklearn.feature_extraction.text import CountVectorizer, TfidfTransformer\n",
        "from sklearn.model_selection import train_test_split"
      ],
      "execution_count": 0,
      "outputs": [
        {
          "output_type": "stream",
          "text": [
            "Collecting wikipedia\n",
            "  Downloading https://files.pythonhosted.org/packages/67/35/25e68fbc99e672127cc6fbb14b8ec1ba3dfef035bf1e4c90f78f24a80b7d/wikipedia-1.4.0.tar.gz\n",
            "Requirement already satisfied: beautifulsoup4 in /usr/local/lib/python3.6/dist-packages (from wikipedia) (4.6.3)\n",
            "Requirement already satisfied: requests<3.0.0,>=2.0.0 in /usr/local/lib/python3.6/dist-packages (from wikipedia) (2.23.0)\n",
            "Requirement already satisfied: idna<3,>=2.5 in /usr/local/lib/python3.6/dist-packages (from requests<3.0.0,>=2.0.0->wikipedia) (2.9)\n",
            "Requirement already satisfied: chardet<4,>=3.0.2 in /usr/local/lib/python3.6/dist-packages (from requests<3.0.0,>=2.0.0->wikipedia) (3.0.4)\n",
            "Requirement already satisfied: urllib3!=1.25.0,!=1.25.1,<1.26,>=1.21.1 in /usr/local/lib/python3.6/dist-packages (from requests<3.0.0,>=2.0.0->wikipedia) (1.24.3)\n",
            "Requirement already satisfied: certifi>=2017.4.17 in /usr/local/lib/python3.6/dist-packages (from requests<3.0.0,>=2.0.0->wikipedia) (2020.4.5.1)\n",
            "Building wheels for collected packages: wikipedia\n",
            "  Building wheel for wikipedia (setup.py) ... \u001b[?25l\u001b[?25hdone\n",
            "  Created wheel for wikipedia: filename=wikipedia-1.4.0-cp36-none-any.whl size=11686 sha256=e1267a9060304e35d2f3e2eda68f71e584e2d404aeb65a02ee0f57d45aeeee8d\n",
            "  Stored in directory: /root/.cache/pip/wheels/87/2a/18/4e471fd96d12114d16fe4a446d00c3b38fb9efcb744bd31f4a\n",
            "Successfully built wikipedia\n",
            "Installing collected packages: wikipedia\n",
            "Successfully installed wikipedia-1.4.0\n",
            "Collecting wikipedia-api\n",
            "  Downloading https://files.pythonhosted.org/packages/ef/3d/289963bbf51f8d00cdf7483cdc2baee25ba877e8b4eb72157c47211e3b57/Wikipedia-API-0.5.4.tar.gz\n",
            "Requirement already satisfied: requests in /usr/local/lib/python3.6/dist-packages (from wikipedia-api) (2.23.0)\n",
            "Requirement already satisfied: certifi>=2017.4.17 in /usr/local/lib/python3.6/dist-packages (from requests->wikipedia-api) (2020.4.5.1)\n",
            "Requirement already satisfied: urllib3!=1.25.0,!=1.25.1,<1.26,>=1.21.1 in /usr/local/lib/python3.6/dist-packages (from requests->wikipedia-api) (1.24.3)\n",
            "Requirement already satisfied: chardet<4,>=3.0.2 in /usr/local/lib/python3.6/dist-packages (from requests->wikipedia-api) (3.0.4)\n",
            "Requirement already satisfied: idna<3,>=2.5 in /usr/local/lib/python3.6/dist-packages (from requests->wikipedia-api) (2.9)\n",
            "Building wheels for collected packages: wikipedia-api\n",
            "  Building wheel for wikipedia-api (setup.py) ... \u001b[?25l\u001b[?25hdone\n",
            "  Created wheel for wikipedia-api: filename=Wikipedia_API-0.5.4-cp36-none-any.whl size=13462 sha256=087d22fdaa173016a71f4d6849f26899d6d926e666c0339a05b6d53a334f5f59\n",
            "  Stored in directory: /root/.cache/pip/wheels/bf/40/42/ba1d497f3712281b659dd65b566fc868035c859239571a725a\n",
            "Successfully built wikipedia-api\n",
            "Installing collected packages: wikipedia-api\n",
            "Successfully installed wikipedia-api-0.5.4\n"
          ],
          "name": "stdout"
        },
        {
          "output_type": "stream",
          "text": [
            "Using TensorFlow backend.\n"
          ],
          "name": "stderr"
        }
      ]
    },
    {
      "cell_type": "markdown",
      "metadata": {
        "id": "5oXBLnVjdKIB",
        "colab_type": "text"
      },
      "source": [
        "### Project library modules"
      ]
    },
    {
      "cell_type": "code",
      "metadata": {
        "id": "d7MjbHuC75Wo",
        "colab_type": "code",
        "outputId": "a0773834-3593-4b38-a87b-5709735b6809",
        "colab": {
          "base_uri": "https://localhost:8080/",
          "height": 212
        }
      },
      "source": [
        "from getpass import getpass\n",
        "#[TODO:] Temporal; change when publishing repo to public\n",
        "user = 'andresC98' \n",
        "password = getpass('GitHub repo password')\n",
        "u = user; p = password; \n",
        "!git clone https://$u:$p@github.com/$u/One-Shot-DocClassifier.git\n",
        "%cd One-Shot-DocClassifier/lib\n",
        "!ls\n",
        "del p, password"
      ],
      "execution_count": 0,
      "outputs": [
        {
          "output_type": "stream",
          "text": [
            "GitHub repo password··········\n",
            "Cloning into 'One-Shot-DocClassifier'...\n",
            "remote: Enumerating objects: 263, done.\u001b[K\n",
            "remote: Counting objects: 100% (263/263), done.\u001b[K\n",
            "remote: Compressing objects: 100% (190/190), done.\u001b[K\n",
            "remote: Total 263 (delta 143), reused 171 (delta 71), pack-reused 0\u001b[K\n",
            "Receiving objects: 100% (263/263), 1.68 MiB | 9.26 MiB/s, done.\n",
            "Resolving deltas: 100% (143/143), done.\n",
            "/content/One-Shot-DocClassifier/lib\n",
            "arxiv_parser.py  doc_utils.py\t\twiki_parser.py\n",
            "class_utils.py\t max_sim_classifier.py\n"
          ],
          "name": "stdout"
        }
      ]
    },
    {
      "cell_type": "code",
      "metadata": {
        "id": "lxCN3U0277XD",
        "colab_type": "code",
        "outputId": "642e44f9-3c8b-44cb-ed25-9a7f1602fcc6",
        "colab": {
          "base_uri": "https://localhost:8080/",
          "height": 178
        }
      },
      "source": [
        "###Importing project library###\n",
        "\n",
        "import doc_utils #cleaning and other helper functions (visualization...)\n",
        "from max_sim_classifier import MaxSimClassifier #maximum similarity classifier\n",
        "#Parser libraries: wikipedia dataset and arxiv dataset\n",
        "from arxiv_parser import arxiv_parser\n",
        "from wiki_parser import concurrentGetWikiFullPage, concurrentGetAllCatArticles"
      ],
      "execution_count": 0,
      "outputs": [
        {
          "output_type": "stream",
          "text": [
            "[nltk_data] Downloading package punkt to /root/nltk_data...\n",
            "[nltk_data]   Unzipping tokenizers/punkt.zip.\n",
            "[nltk_data] Downloading package wordnet to /root/nltk_data...\n",
            "[nltk_data]   Unzipping corpora/wordnet.zip.\n",
            "[nltk_data] Downloading package stopwords to /root/nltk_data...\n",
            "[nltk_data]   Unzipping corpora/stopwords.zip.\n"
          ],
          "name": "stdout"
        },
        {
          "output_type": "stream",
          "text": [
            "/usr/local/lib/python3.6/dist-packages/statsmodels/tools/_testing.py:19: FutureWarning: pandas.util.testing is deprecated. Use the functions in the public API at pandas.testing instead.\n",
            "  import pandas.util.testing as tm\n"
          ],
          "name": "stderr"
        }
      ]
    },
    {
      "cell_type": "markdown",
      "metadata": {
        "id": "y7NqOOUTnMQ8",
        "colab_type": "text"
      },
      "source": [
        "# Data retrieval by Parsers , split and preprocessing"
      ]
    },
    {
      "cell_type": "code",
      "metadata": {
        "id": "22jK6vjV79gD",
        "colab_type": "code",
        "outputId": "9c9d882f-d5b4-495b-cfdf-119008318594",
        "colab": {
          "base_uri": "https://localhost:8080/",
          "height": 336
        }
      },
      "source": [
        "engineering_topic_defs = concurrentGetWikiFullPage(topics_list = doc_utils.ALL_TOPICS )\n",
        "\n",
        "engineering_articles, n_test_samples = concurrentGetAllCatArticles(doc_utils.ALL_TOPICS, full_text_test=True)"
      ],
      "execution_count": 0,
      "outputs": [
        {
          "output_type": "stream",
          "text": [
            "Obtaining full wikipedia page for the topic: Chemical engineering. (Definition of Class #[0])\n",
            "Obtaining full wikipedia page for the topic: Biomedical engineering. (Definition of Class #[1])\n",
            "Obtaining full wikipedia page for the topic: Civil engineering. (Definition of Class #[2])\n",
            "Obtaining full wikipedia page for the topic: Electrical engineering. (Definition of Class #[3])\n",
            "Obtaining full wikipedia page for the topic: Mechanical engineering. (Definition of Class #[4])\n",
            "Obtaining full wikipedia page for the topic: Aerospace engineering. (Definition of Class #[5])\n",
            "Obtaining full wikipedia page for the topic: Software engineering. (Definition of Class #[6])\n",
            "Obtaining full wikipedia page for the topic: Industrial engineering. (Definition of Class #[7])\n",
            "Obtaining full wikipedia page for the topic: Computer engineering. (Definition of Class #[8])\n",
            "Retrieved 38 articles from category topic 'Computer engineering'[TopicID:8]\n",
            "Retrieved 57 articles from category topic 'Software engineering'[TopicID:6]\n",
            "Retrieved 67 articles from category topic 'Chemical engineering'[TopicID:0]\n",
            "Retrieved 74 articles from category topic 'Industrial engineering'[TopicID:7]\n",
            "Retrieved 74 articles from category topic 'Biomedical engineering'[TopicID:1]\n",
            "Retrieved 141 articles from category topic 'Electrical engineering'[TopicID:3]\n",
            "Retrieved 153 articles from category topic 'Civil engineering'[TopicID:2]\n",
            "Retrieved 175 articles from category topic 'Aerospace engineering'[TopicID:5]\n",
            "Retrieved 216 articles from category topic 'Mechanical engineering'[TopicID:4]\n"
          ],
          "name": "stdout"
        }
      ]
    },
    {
      "cell_type": "code",
      "metadata": {
        "id": "aMrFltxM8MZ5",
        "colab_type": "code",
        "outputId": "1a5c4458-17a9-41f4-c9ad-1dc119f6411f",
        "colab": {
          "base_uri": "https://localhost:8080/",
          "height": 318
        }
      },
      "source": [
        "arxiv_topic_defs = concurrentGetWikiFullPage(topics_list = doc_utils.ARXIV_WIKI_TOPICS )\n",
        "\n",
        "arxiv_dataset, paperslist = arxiv_parser(100)"
      ],
      "execution_count": 0,
      "outputs": [
        {
          "output_type": "stream",
          "text": [
            "Obtaining full wikipedia page for the topic: Computer science. (Definition of Class #[0])\n",
            "Obtaining full wikipedia page for the topic: Economics. (Definition of Class #[1])\n",
            "Obtaining full wikipedia page for the topic: Systems engineering. (Definition of Class #[2])\n",
            "Obtaining full wikipedia page for the topic: Mathematics. (Definition of Class #[3])\n",
            "Obtaining full wikipedia page for the topic: Astrophysics. (Definition of Class #[4])\n",
            "Obtaining full wikipedia page for the topic: Computational biology. (Definition of Class #[5])\n",
            "Obtaining full wikipedia page for the topic: Quantitative finance. (Definition of Class #[6])\n",
            "Obtaining full wikipedia page for the topic: Statistics. (Definition of Class #[7])\n",
            "Retrieving papers for subject: computer_science\n",
            "Retrieving papers for subject: economics\n",
            "Retrieving papers for subject: eess\n",
            "Retrieving papers for subject: mathematics\n",
            "Retrieving papers for subject: physics\n",
            "Retrieving papers for subject: q_biology\n",
            "Retrieving papers for subject: q_finance\n",
            "Retrieving papers for subject: statistics\n",
            "Retrieved 800 papers in total from 8 subjects (100 from each).\n"
          ],
          "name": "stdout"
        }
      ]
    },
    {
      "cell_type": "code",
      "metadata": {
        "id": "VBov9Yv-8OmJ",
        "colab_type": "code",
        "colab": {}
      },
      "source": [
        "#MSC ,SVM and MNB compatible (clf_data): NOTE: Preprocess type selected in pipeline later\n",
        "x_train_CLF_W_defs, y_train_CLF_W_defs, x_test_CLF_W_full, y_test_CLF_W_full = doc_utils.processClassifierData(engineering_topic_defs, engineering_articles,topics = doc_utils.ALL_TOPICS,dataset_type =\"wiki\")\n",
        "x_train_CLF_A_defs, y_train_CLF_A_defs, x_test_CLF_A_full, y_test_CLF_A_full = doc_utils.processClassifierData(arxiv_topic_defs, arxiv_dataset,topics = doc_utils.ARXIV_WIKI_TOPICS,dataset_type =\"arxiv\")"
      ],
      "execution_count": 0,
      "outputs": []
    },
    {
      "cell_type": "code",
      "metadata": {
        "id": "hKhVd8kS9CMM",
        "colab_type": "code",
        "colab": {}
      },
      "source": [
        "#Obtaining TRAIN-TEST split documents from original TEST ARTICLES\n",
        "x_train_CLF_A, x_test_CLF_A, y_train_CLF_A, y_test_CLF_A = train_test_split(x_test_CLF_A_full, y_test_CLF_A_full, random_state=2020)\n",
        "x_train_CLF_W, x_test_CLF_W, y_train_CLF_W, y_test_CLF_W = train_test_split(x_test_CLF_W_full, y_test_CLF_W_full,random_state=2020)"
      ],
      "execution_count": 0,
      "outputs": []
    },
    {
      "cell_type": "code",
      "metadata": {
        "id": "qhXkKzI4KMBr",
        "colab_type": "code",
        "colab": {}
      },
      "source": [
        "#Selected the \"custom preprocessing\" datasets as they performed the best at DocDefs topics\n",
        "x_train_FFNN_W_C_defs, y_train_FFNN_W_C_defs, x_test_FFNN_W_C_full, y_test_FFNN_W_C_full, dictionary_FFNN_W_C = doc_utils.processNeuralNetData(engineering_topic_defs,engineering_articles,dataset_type = \"wiki\",preprocess = 'custom')\n",
        "x_train_FFNN_A_C_defs, y_train_FFNN_A_C_defs, x_test_FFNN_A_C_full, y_test_FFNN_A_C_full, dictionary_FFNN_A_C = doc_utils.processNeuralNetData(arxiv_topic_defs,arxiv_dataset,dataset_type = \"arxiv\",preprocess = 'custom')"
      ],
      "execution_count": 0,
      "outputs": []
    },
    {
      "cell_type": "code",
      "metadata": {
        "id": "kc5AfuLOKfAr",
        "colab_type": "code",
        "colab": {}
      },
      "source": [
        "x_train_FFNN_A, x_test_FFNN_A, y_train_FFNN_A, y_test_FFNN_A = train_test_split(x_test_FFNN_A_C_full, y_test_FFNN_A_C_full, random_state=2020)\n",
        "x_train_FFNN_W, x_test_FFNN_W, y_train_FFNN_W, y_test_FFNN_W = train_test_split(x_test_FFNN_W_C_full, y_test_FFNN_W_C_full, random_state=2020)"
      ],
      "execution_count": 0,
      "outputs": []
    },
    {
      "cell_type": "markdown",
      "metadata": {
        "id": "wAWHxI1VCthr",
        "colab_type": "text"
      },
      "source": [
        "# Document classification using articles - Baseline models"
      ]
    },
    {
      "cell_type": "markdown",
      "metadata": {
        "id": "t7RYRdEpCzKE",
        "colab_type": "text"
      },
      "source": [
        "## SVM"
      ]
    },
    {
      "cell_type": "markdown",
      "metadata": {
        "id": "rH8GPpJaSqTY",
        "colab_type": "text"
      },
      "source": [
        "### arXiv dataset"
      ]
    },
    {
      "cell_type": "code",
      "metadata": {
        "id": "mtCkJboo9Z5w",
        "colab_type": "code",
        "outputId": "5059574c-27c1-4485-ce17-f38aaa7b9279",
        "colab": {
          "base_uri": "https://localhost:8080/",
          "height": 52
        }
      },
      "source": [
        "best_svm_arxiv_score = 0\n",
        "svm_arxiv_models_params = list()\n",
        "for gamma in [0.001, 0.01, 0.1, 1, 10, 100]:\n",
        "    for C in [0.001, 0.01, 0.1, 1, 10, 100]:\n",
        "        for idf in [True, False]:\n",
        "            for stop_words in ['english', None]:\n",
        "                for ngram_range in [(1,1), (1,2)]:\n",
        "                    #Training the SVM for the hyperparam  + preprocessing combinations\n",
        "                    svm = Pipeline([('vect', CountVectorizer(stop_words=stop_words,ngram_range=ngram_range)),\n",
        "                                    ('tfidf', TfidfTransformer(use_idf=idf)),\n",
        "                                    ('clf', SVC(C=C, gamma=gamma)),\n",
        "                                    ])    \n",
        "                    svm.fit(x_train_CLF_A, y_train_CLF_A)\n",
        "                    # evaluate the SVM on the test set\n",
        "                    score = svm.score(x_test_CLF_A, y_test_CLF_A)\n",
        "\n",
        "                    #keeping track of the combinations\n",
        "                    params = {'C': C, 'gamma': gamma, 'idf': idf, 'stop_words':stop_words, 'ngram_range':ngram_range}\n",
        "                    svm_arxiv_models_params.append((score, params))\n",
        "\n",
        "                    # if we got a better score, store the score and parameters\n",
        "                    if score > best_svm_arxiv_score:\n",
        "                        best_svm_arxiv_score = score\n",
        "                        best_svm_arxiv_parameters = {'C': C, 'gamma': gamma, 'idf': idf, 'stop_words':stop_words, 'ngram_range':ngram_range}\n",
        "\n",
        "print(\"Best Top-1 Accuracy: {:.4f}\".format(best_svm_arxiv_score))#(Top-1 acc score)\n",
        "print(\"Best parameters: {}\".format(best_svm_arxiv_parameters))"
      ],
      "execution_count": 0,
      "outputs": [
        {
          "output_type": "stream",
          "text": [
            "Best Top-1 Accuracy: 0.6850\n",
            "Best parameters: {'C': 10, 'gamma': 0.1, 'idf': True, 'stop_words': 'english', 'ngram_range': (1, 1)}\n"
          ],
          "name": "stdout"
        }
      ]
    },
    {
      "cell_type": "code",
      "metadata": {
        "id": "zbIy_iBqS6a3",
        "colab_type": "code",
        "colab": {}
      },
      "source": [
        "stop_words = best_svm_arxiv_parameters['stop_words']\n",
        "ngram_range = best_svm_arxiv_parameters['ngram_range']\n",
        "idf = best_svm_arxiv_parameters['idf']\n",
        "C = best_svm_arxiv_parameters['C']\n",
        "gamma = best_svm_arxiv_parameters['gamma']\n",
        "\n",
        "svm = Pipeline([('vect', CountVectorizer(stop_words=stop_words,ngram_range=ngram_range)),\n",
        "                ('tfidf', TfidfTransformer(use_idf=idf)),\n",
        "                ('clf', SVC(C=C, gamma=gamma)),\n",
        "                ])    \n",
        "svm.fit(x_train_CLF_A, y_train_CLF_A)\n",
        "\n",
        "y_test_preds_class = svm.predict(x_test_CLF_A)\n",
        "y_test_preds_proba = svm.decision_function(x_test_CLF_A)"
      ],
      "execution_count": 0,
      "outputs": []
    },
    {
      "cell_type": "code",
      "metadata": {
        "id": "VugAofkBTMzv",
        "colab_type": "code",
        "outputId": "21a7a8bc-cabd-4420-9230-c6ef8b7ed525",
        "colab": {
          "base_uri": "https://localhost:8080/",
          "height": 52
        }
      },
      "source": [
        "_ = doc_utils.top2_acc(y_test_preds_proba, y_test_CLF_A_full,verbose=1)"
      ],
      "execution_count": 0,
      "outputs": [
        {
          "output_type": "stream",
          "text": [
            "TOP-1 acc.: \t0.710\n",
            "TOP-2 acc.: \t0.875\n"
          ],
          "name": "stdout"
        }
      ]
    },
    {
      "cell_type": "code",
      "metadata": {
        "id": "RX9J4JfGTVZt",
        "colab_type": "code",
        "outputId": "66b09221-a6be-4f43-aad7-bb0bad7f20c8",
        "colab": {
          "base_uri": "https://localhost:8080/",
          "height": 546
        }
      },
      "source": [
        "doc_utils.plotConfMatrix(y_test_CLF_A_full, y_test_preds_class, model=\"SVM\", dataset_type='arxiv')"
      ],
      "execution_count": 0,
      "outputs": [
        {
          "output_type": "display_data",
          "data": {
            "image/png": "[encoded data removed]",
            "text/plain": [
              "<Figure size 720x504 with 2 Axes>"
            ]
          },
          "metadata": {
            "tags": [],
            "needs_background": "light"
          }
        }
      ]
    },
    {
      "cell_type": "markdown",
      "metadata": {
        "id": "C8VXO3ZHSs50",
        "colab_type": "text"
      },
      "source": [
        "### Wiki dataset"
      ]
    },
    {
      "cell_type": "code",
      "metadata": {
        "id": "OmLHX9KL98-X",
        "colab_type": "code",
        "outputId": "dc50622b-38eb-41a0-b1e6-cf6ba39c70e4",
        "colab": {
          "base_uri": "https://localhost:8080/",
          "height": 52
        }
      },
      "source": [
        "best_svm_wiki_score = 0\n",
        "svm_wiki_models_params = list()\n",
        "for gamma in [0.001, 0.01, 0.1, 1, 10, 100]:\n",
        "    for C in [0.001, 0.01, 0.1, 1, 10, 100]:\n",
        "        for idf in [True, False]:\n",
        "            for stop_words in ['english', None]:\n",
        "                for ngram_range in [(1,1), (1,2)]:\n",
        "                    #Training the SVM for the hyperparam  + preprocessing combinations\n",
        "                    svm = Pipeline([('vect', CountVectorizer(stop_words=stop_words,ngram_range=ngram_range)),\n",
        "                                    ('tfidf', TfidfTransformer(use_idf=idf)),\n",
        "                                    ('clf', SVC(C=C, gamma=gamma)),\n",
        "                                    ])    \n",
        "                    svm.fit(x_train_CLF_W, y_train_CLF_W)\n",
        "                    # evaluate the SVM on the test set\n",
        "                    score = svm.score(x_test_CLF_W, y_test_CLF_W)\n",
        "\n",
        "                    #keeping track of the combinations\n",
        "                    params = {'C': C, 'gamma': gamma, 'idf': idf, 'stop_words':stop_words, 'ngram_range':ngram_range}\n",
        "                    svm_wiki_models_params.append((score, params))\n",
        "\n",
        "                    # if we got a better score, store the score and parameters\n",
        "                    if score > best_svm_wiki_score:\n",
        "                        best_svm_wiki_score = score\n",
        "                        best_svm_wiki_parameters = {'C': C, 'gamma': gamma, 'idf': idf, 'stop_words':stop_words, 'ngram_range':ngram_range}\n",
        "\n",
        "print(\"Best Top-1 Accuracy: {:.4f}\".format(best_svm_wiki_score))#(Top-1 acc score)\n",
        "print(\"Best parameters: {}\".format(best_svm_wiki_parameters))"
      ],
      "execution_count": 0,
      "outputs": [
        {
          "output_type": "stream",
          "text": [
            "Best Top-1 Accuracy: 0.7831\n",
            "Best parameters: {'C': 10, 'gamma': 0.1, 'idf': True, 'stop_words': None, 'ngram_range': (1, 1)}\n"
          ],
          "name": "stdout"
        }
      ]
    },
    {
      "cell_type": "markdown",
      "metadata": {
        "id": "CP_zIPKwDSTC",
        "colab_type": "text"
      },
      "source": [
        "As it can be noted: accuracy increases but so does time required for training+evaluating 30 different models on grid search: before was 6 mins, now 45 mins --> almos 750% increased train time"
      ]
    },
    {
      "cell_type": "code",
      "metadata": {
        "id": "yOF2h6cnQdZm",
        "colab_type": "code",
        "colab": {}
      },
      "source": [
        "stop_words = best_svm_wiki_parameters['stop_words']\n",
        "ngram_range = best_svm_wiki_parameters['ngram_range']\n",
        "idf = best_svm_wiki_parameters['idf']\n",
        "C = best_svm_wiki_parameters['C']\n",
        "gamma = best_svm_wiki_parameters['gamma']\n",
        "\n",
        "svm = Pipeline([('vect', CountVectorizer(stop_words=stop_words,ngram_range=ngram_range)),\n",
        "                ('tfidf', TfidfTransformer(use_idf=idf)),\n",
        "                ('clf', SVC(C=C, gamma=gamma)),\n",
        "                ])    \n",
        "svm.fit(x_train_CLF_W, y_train_CLF_W)\n",
        "\n",
        "y_test_preds_class = svm.predict(x_test_CLF_W)\n",
        "y_test_preds_proba = svm.decision_function(x_test_CLF_W)"
      ],
      "execution_count": 0,
      "outputs": []
    },
    {
      "cell_type": "code",
      "metadata": {
        "id": "cIUGSm2SSYTw",
        "colab_type": "code",
        "outputId": "ef6537a4-5dab-4f07-b71d-f847cb60671a",
        "colab": {
          "base_uri": "https://localhost:8080/",
          "height": 52
        }
      },
      "source": [
        "_ = doc_utils.top2_acc(y_test_preds_proba, y_test_CLF_W,verbose=1)"
      ],
      "execution_count": 0,
      "outputs": [
        {
          "output_type": "stream",
          "text": [
            "TOP-1 acc.: \t0.743\n",
            "TOP-2 acc.: \t0.892\n"
          ],
          "name": "stdout"
        }
      ]
    },
    {
      "cell_type": "code",
      "metadata": {
        "id": "B5xRBv0cSkOA",
        "colab_type": "code",
        "outputId": "002f4d88-dc67-4694-a009-756d54177629",
        "colab": {
          "base_uri": "https://localhost:8080/",
          "height": 444
        }
      },
      "source": [
        "doc_utils.plotConfMatrix(y_test_CLF_W, y_test_preds_class, model=\"SVM\", dataset_type='wiki')"
      ],
      "execution_count": 0,
      "outputs": [
        {
          "output_type": "display_data",
          "data": {
            "image/png": "[encoded data removed]",
            "text/plain": [
              "<Figure size 720x504 with 2 Axes>"
            ]
          },
          "metadata": {
            "tags": [],
            "needs_background": "light"
          }
        }
      ]
    },
    {
      "cell_type": "markdown",
      "metadata": {
        "id": "hfIoeYQyC2RS",
        "colab_type": "text"
      },
      "source": [
        "##MNB"
      ]
    },
    {
      "cell_type": "markdown",
      "metadata": {
        "id": "mZHSTqj4Szyy",
        "colab_type": "text"
      },
      "source": [
        "### arXiv dataset"
      ]
    },
    {
      "cell_type": "code",
      "metadata": {
        "id": "CWejInHf-Hnf",
        "colab_type": "code",
        "outputId": "efab7159-e0a9-4bac-dbef-6117e25452ec",
        "colab": {
          "base_uri": "https://localhost:8080/",
          "height": 52
        }
      },
      "source": [
        "best_mnb_arxiv_score = 0\n",
        "mnb_arxiv_models_params = list()\n",
        "for alpha in [0.001, 0.01, 0.1, 1]:\n",
        "    for idf in [True, False]:\n",
        "        for stop_words in ['english', None]:\n",
        "            for ngram_range in [(1,1), (1,2)]:\n",
        "                # for each combination of parameters, train a MNB\n",
        "                mnb = Pipeline([('vect', CountVectorizer(stop_words=stop_words,ngram_range=ngram_range)),\n",
        "                                ('tfidf', TfidfTransformer(use_idf=idf)),\n",
        "                                ('clf', MultinomialNB(alpha=alpha)),\n",
        "                                ])    \n",
        "                mnb.fit(x_train_CLF_A, y_train_CLF_A)\n",
        "                # evaluate the MNB on the test set\n",
        "                score = mnb.score(x_test_CLF_A, y_test_CLF_A)\n",
        "\n",
        "                params = {'alpha': alpha, 'idf': idf, 'stop_words':stop_words, 'ngram_range':ngram_range}\n",
        "                mnb_arxiv_models_params.append((score, params))\n",
        "                # if we got a better score, store the score and parameters\n",
        "                if score > best_mnb_arxiv_score:\n",
        "                    best_mnb_arxiv_score = score\n",
        "                    best_mnb_arxiv_parameters = {'alpha': alpha, 'idf': idf, 'stop_words':stop_words, 'ngram_range':ngram_range}\n",
        "\n",
        "print(\"Best score: {:.3f}\".format(best_mnb_arxiv_score))#(Top-1 acc score)\n",
        "print(\"Best parameters: {}\".format(best_mnb_arxiv_parameters))"
      ],
      "execution_count": 0,
      "outputs": [
        {
          "output_type": "stream",
          "text": [
            "Best score: 0.730\n",
            "Best parameters: {'alpha': 0.01, 'idf': False, 'stop_words': 'english', 'ngram_range': (1, 2)}\n"
          ],
          "name": "stdout"
        }
      ]
    },
    {
      "cell_type": "markdown",
      "metadata": {
        "id": "I_BEl4c5JZxa",
        "colab_type": "text"
      },
      "source": [
        "Fast (less number of test done), same top1 acc as SVM for arXiv data"
      ]
    },
    {
      "cell_type": "code",
      "metadata": {
        "id": "z8UFq0ktTdqo",
        "colab_type": "code",
        "colab": {}
      },
      "source": [
        "stop_words = best_mnb_arxiv_parameters['stop_words']\n",
        "ngram_range = best_mnb_arxiv_parameters['ngram_range']\n",
        "idf = best_mnb_arxiv_parameters['idf']\n",
        "alpha = best_mnb_arxiv_parameters['alpha']\n",
        "\n",
        "mnb = Pipeline([('vect', CountVectorizer(stop_words=stop_words,ngram_range=ngram_range)),\n",
        "                ('tfidf', TfidfTransformer(use_idf=idf)),\n",
        "                ('clf', MultinomialNB(alpha=alpha)),\n",
        "                ])    \n",
        "mnb.fit(x_train_CLF_A, y_train_CLF_A) \n",
        "\n",
        "y_test_preds_class = mnb.predict(x_test_CLF_A)\n",
        "y_test_preds_proba = mnb.predict_proba(x_test_CLF_A)"
      ],
      "execution_count": 0,
      "outputs": []
    },
    {
      "cell_type": "code",
      "metadata": {
        "id": "Leum2aCgohxl",
        "colab_type": "code",
        "outputId": "767e4634-128c-468f-84f7-a75c8a321e9c",
        "colab": {
          "base_uri": "https://localhost:8080/",
          "height": 70
        }
      },
      "source": [
        "doc_utils.top2_acc(y_test_preds_proba, y_test_CLF_A,verbose=1)"
      ],
      "execution_count": 0,
      "outputs": [
        {
          "output_type": "stream",
          "text": [
            "TOP-1 acc.: \t0.730\n",
            "TOP-2 acc.: \t0.870\n"
          ],
          "name": "stdout"
        },
        {
          "output_type": "execute_result",
          "data": {
            "text/plain": [
              "(0.73, 0.87)"
            ]
          },
          "metadata": {
            "tags": []
          },
          "execution_count": 21
        }
      ]
    },
    {
      "cell_type": "code",
      "metadata": {
        "id": "AazLAu3bTd_d",
        "colab_type": "code",
        "outputId": "331b0485-6e92-4b35-d539-7da99e0f3ea2",
        "colab": {
          "base_uri": "https://localhost:8080/",
          "height": 546
        }
      },
      "source": [
        "doc_utils.plotConfMatrix(y_test_CLF_A, y_test_preds_class, model=\"NB\", dataset_type='arxiv')"
      ],
      "execution_count": 0,
      "outputs": [
        {
          "output_type": "display_data",
          "data": {
            "image/png": "[encoded data removed]",
            "text/plain": [
              "<Figure size 720x504 with 2 Axes>"
            ]
          },
          "metadata": {
            "tags": [],
            "needs_background": "light"
          }
        }
      ]
    },
    {
      "cell_type": "markdown",
      "metadata": {
        "id": "NVFFZTkcS2ih",
        "colab_type": "text"
      },
      "source": [
        "### Wiki dataset"
      ]
    },
    {
      "cell_type": "code",
      "metadata": {
        "id": "4-ZylII9-R7x",
        "colab_type": "code",
        "outputId": "4cff2362-7529-4219-ab1a-8d58466d174f",
        "colab": {
          "base_uri": "https://localhost:8080/",
          "height": 52
        }
      },
      "source": [
        "best_mnb_wiki_score = 0\n",
        "mnb_wiki_models_params = list()\n",
        "for alpha in [0.001, 0.01, 0.1, 1]:\n",
        "    for idf in [True, False]:\n",
        "        for stop_words in ['english', None]:\n",
        "            for ngram_range in [(1,1), (1,2)]:\n",
        "                # for each combination of parameters, train a MNB\n",
        "                mnb = Pipeline([('vect', CountVectorizer(stop_words=stop_words,ngram_range=ngram_range)),\n",
        "                                ('tfidf', TfidfTransformer(use_idf=idf)),\n",
        "                                ('clf', MultinomialNB(alpha=alpha)),\n",
        "                                ])    \n",
        "                mnb.fit(x_train_CLF_W, y_train_CLF_W)\n",
        "                # evaluate the MNB on the test set\n",
        "                score = mnb.score(x_test_CLF_W, y_test_CLF_W)\n",
        "\n",
        "                params = {'alpha': alpha, 'idf': idf, 'stop_words':stop_words, 'ngram_range':ngram_range}\n",
        "                mnb_wiki_models_params.append((score, params))\n",
        "                # if we got a better score, store the score and parameters\n",
        "                if score > best_mnb_wiki_score:\n",
        "                    best_mnb_wiki_score = score\n",
        "                    best_mnb_wiki_parameters = {'alpha': alpha, 'idf': idf, 'stop_words':stop_words, 'ngram_range':ngram_range}\n",
        "\n",
        "print(\"Best score: {:.3f}\".format(best_mnb_wiki_score))#(Top-1 acc score)\n",
        "print(\"Best parameters: {}\".format(best_mnb_wiki_parameters))"
      ],
      "execution_count": 0,
      "outputs": [
        {
          "output_type": "stream",
          "text": [
            "Best score: 0.767\n",
            "Best parameters: {'alpha': 0.01, 'idf': True, 'stop_words': 'english', 'ngram_range': (1, 2)}\n"
          ],
          "name": "stdout"
        }
      ]
    },
    {
      "cell_type": "markdown",
      "metadata": {
        "id": "TZ64uaJXJrVl",
        "colab_type": "text"
      },
      "source": [
        "fast (less number of params to search), and LESS performance than SVM"
      ]
    },
    {
      "cell_type": "code",
      "metadata": {
        "id": "b1zFkJjtTe1X",
        "colab_type": "code",
        "colab": {}
      },
      "source": [
        "stop_words = best_mnb_wiki_parameters['stop_words']\n",
        "ngram_range = best_mnb_wiki_parameters['ngram_range']\n",
        "idf = best_mnb_wiki_parameters['idf']\n",
        "alpha = best_mnb_wiki_parameters['alpha']\n",
        "\n",
        "mnb = Pipeline([('vect', CountVectorizer(stop_words=stop_words,ngram_range=ngram_range)),\n",
        "                ('tfidf', TfidfTransformer(use_idf=idf)),\n",
        "                ('clf', MultinomialNB(alpha=alpha)),\n",
        "                ])    \n",
        "mnb.fit(x_train_CLF_W, y_train_CLF_W) \n",
        "\n",
        "y_test_preds_class = mnb.predict(x_test_CLF_W)\n",
        "y_test_preds_proba = mnb.predict_proba(x_test_CLF_W)"
      ],
      "execution_count": 0,
      "outputs": []
    },
    {
      "cell_type": "code",
      "metadata": {
        "id": "0uhFgx7Uo66q",
        "colab_type": "code",
        "outputId": "109c283f-2aee-40b0-b24e-6393713696ae",
        "colab": {
          "base_uri": "https://localhost:8080/",
          "height": 52
        }
      },
      "source": [
        "_ = doc_utils.top2_acc(y_test_preds_proba, y_test_CLF_W,verbose=1)"
      ],
      "execution_count": 0,
      "outputs": [
        {
          "output_type": "stream",
          "text": [
            "TOP-1 acc.: \t0.767\n",
            "TOP-2 acc.: \t0.884\n"
          ],
          "name": "stdout"
        }
      ]
    },
    {
      "cell_type": "code",
      "metadata": {
        "id": "kuD_6JIOTvEO",
        "colab_type": "code",
        "outputId": "ad04d9b9-3986-400c-bedb-b2e9cd219c5e",
        "colab": {
          "base_uri": "https://localhost:8080/",
          "height": 444
        }
      },
      "source": [
        "doc_utils.plotConfMatrix(y_test_CLF_W, y_test_preds_class, model=\"NB\", dataset_type='wiki')"
      ],
      "execution_count": 0,
      "outputs": [
        {
          "output_type": "display_data",
          "data": {
            "image/png": "[encoded data removed]",
            "text/plain": [
              "<Figure size 720x504 with 2 Axes>"
            ]
          },
          "metadata": {
            "tags": [],
            "needs_background": "light"
          }
        }
      ]
    },
    {
      "cell_type": "markdown",
      "metadata": {
        "id": "UfsbWea3C36K",
        "colab_type": "text"
      },
      "source": [
        "##FFNN"
      ]
    },
    {
      "cell_type": "code",
      "metadata": {
        "id": "lBvmkO6xNBzf",
        "colab_type": "code",
        "colab": {}
      },
      "source": [
        "#Defining TOP-2 accuracy \n",
        "import functools\n",
        "top2_accuracy = functools.partial(top_k_categorical_accuracy, k=2)\n",
        "top2_accuracy.__name__ = 'TOP2_ACC'"
      ],
      "execution_count": 0,
      "outputs": []
    },
    {
      "cell_type": "markdown",
      "metadata": {
        "id": "Mbvylw8Attzy",
        "colab_type": "text"
      },
      "source": [
        "### arXiv dataset"
      ]
    },
    {
      "cell_type": "code",
      "metadata": {
        "id": "CZZCAx7nC40_",
        "colab_type": "code",
        "colab": {}
      },
      "source": [
        "top1_acc_list = []\n",
        "top2_acc_list = []\n",
        "n_runs = 30\n",
        "for i in range(n_runs):\n",
        "    clear_session()\n",
        "    #Neural Architecture Definition\n",
        "    model = Sequential()\n",
        "    model.add(Dense(256, activation='relu', input_shape=(len(dictionary_FFNN_A_C),)))\n",
        "    model.add(Dense(len(doc_utils.ARXIV_WIKI_TOPICS), activation='softmax'))\n",
        "\n",
        "    model.compile(optimizer='rmsprop', loss='categorical_crossentropy',metrics=['accuracy', top2_accuracy])\n",
        "    hist = model.fit(x_train_FFNN_A, y_train_FFNN_A, epochs=5,verbose=0)\n",
        "    model_top1_acc = model.evaluate(x_test_FFNN_A, y_test_FFNN_A, verbose=0)[1]\n",
        "    model_top2_acc = model.evaluate(x_test_FFNN_A, y_test_FFNN_A, verbose=0)[2]\n",
        "         \n",
        "    if top2_acc_list and model_top2_acc >= max(top2_acc_list):\n",
        "        #save best model to date\n",
        "        model_json = model.to_json()\n",
        "        with open(\"arxiv_model_arq1.json\", \"w\") as f:\n",
        "            f.write(model_json)\n",
        "        model.save_weights(\"arxiv_model_arq1.h5\")\n",
        "    \n",
        "    top1_acc_list.append(model_top1_acc)\n",
        "    top2_acc_list.append(model_top2_acc)"
      ],
      "execution_count": 0,
      "outputs": []
    },
    {
      "cell_type": "code",
      "metadata": {
        "id": "LymGOe4Xpaxr",
        "colab_type": "code",
        "outputId": "098780e4-9ba7-40b8-aff1-a0b292c98922",
        "colab": {
          "base_uri": "https://localhost:8080/",
          "height": 70
        }
      },
      "source": [
        "print(\"\\nResulting Average TOP1 acc:{}\\t TOP2 acc:{}\".format(np.mean(top1_acc_list),np.mean(top2_acc_list)))\n",
        "print(\"Best model accuracies: TOP1:{} \\t TOP2:{}\".format(max(top1_acc_list), max(top2_acc_list)))"
      ],
      "execution_count": 0,
      "outputs": [
        {
          "output_type": "stream",
          "text": [
            "\n",
            "Resulting Average TOP1 acc:0.7008333305517832\t TOP2 acc:0.8618333458900451\n",
            "Best model accuracies: TOP1:0.7250000238418579 \t TOP2:0.8999999761581421\n"
          ],
          "name": "stdout"
        }
      ]
    },
    {
      "cell_type": "code",
      "metadata": {
        "id": "MgkM8gHcOOR8",
        "colab_type": "code",
        "colab": {}
      },
      "source": [
        "#FFNN is the model getting most beneficiated out of the augmented data available"
      ],
      "execution_count": 0,
      "outputs": []
    },
    {
      "cell_type": "code",
      "metadata": {
        "id": "GAnecxBNUWoV",
        "colab_type": "code",
        "outputId": "b8442fc0-5704-4b8f-d7a5-8e1ae162fece",
        "colab": {
          "base_uri": "https://localhost:8080/",
          "height": 52
        }
      },
      "source": [
        "from keras.models import model_from_json\n",
        "json_f = open('arxiv_model_arq1.json', 'r')\n",
        "best_model_json = json_f.read()\n",
        "json_f.close()\n",
        "best_model = model_from_json(best_model_json)\n",
        "best_model.load_weights(\"arxiv_model_arq1.h5\")#loading weights\n",
        "\n",
        "# evaluate loaded model on test data\n",
        "best_model.compile(optimizer='rmsprop', loss='categorical_crossentropy',metrics=['accuracy', top2_accuracy])\n",
        "predictions = best_model.predict_classes(x_test_FFNN_A) #for later building confusion matrix\n",
        "print(\"Best FFNN model TOP-1 acc.:\",best_model.evaluate(x_test_FFNN_A, y_test_FFNN_A, verbose=0)[1])\n",
        "print(\"Best FFNN model TOP-2 acc.:\",best_model.evaluate(x_test_FFNN_A, y_test_FFNN_A, verbose=0)[2])"
      ],
      "execution_count": 0,
      "outputs": [
        {
          "output_type": "stream",
          "text": [
            "Best FFNN model TOP-1 acc.: 0.7049999833106995\n",
            "Best FFNN model TOP-2 acc.: 0.8999999761581421\n"
          ],
          "name": "stdout"
        }
      ]
    },
    {
      "cell_type": "code",
      "metadata": {
        "id": "6TkxFPrfVvAI",
        "colab_type": "code",
        "outputId": "86b9843e-d2b8-458c-8759-818fba5c1fc7",
        "colab": {
          "base_uri": "https://localhost:8080/",
          "height": 546
        }
      },
      "source": [
        "doc_utils.plotConfMatrix(y_test_FFNN_A, predictions, model = \"NN\",dataset_type=\"arxiv\")"
      ],
      "execution_count": 0,
      "outputs": [
        {
          "output_type": "display_data",
          "data": {
            "image/png": "[encoded data removed]",
            "text/plain": [
              "<Figure size 720x504 with 2 Axes>"
            ]
          },
          "metadata": {
            "tags": [],
            "needs_background": "light"
          }
        }
      ]
    },
    {
      "cell_type": "markdown",
      "metadata": {
        "id": "bL_sZSoLVAGF",
        "colab_type": "text"
      },
      "source": [
        "### Wiki dataset"
      ]
    },
    {
      "cell_type": "code",
      "metadata": {
        "id": "XgBid1ffVBjd",
        "colab_type": "code",
        "colab": {}
      },
      "source": [
        "top1_acc_list = []\n",
        "top2_acc_list = []\n",
        "n_runs = 30\n",
        "for i in range(n_runs):\n",
        "    clear_session()\n",
        "    #Neural Architecture Definition\n",
        "    model = Sequential()\n",
        "    model.add(Dense(256, activation='relu', input_shape=(len(dictionary_FFNN_W_C),)))\n",
        "    model.add(Dense(len(doc_utils.ALL_TOPICS), activation='softmax'))\n",
        "\n",
        "    model.compile(optimizer='rmsprop', loss='categorical_crossentropy',metrics=['accuracy', top2_accuracy])\n",
        "    hist = model.fit(x_train_FFNN_W, y_train_FFNN_W, epochs=5,verbose=0)\n",
        "    model_top1_acc = model.evaluate(x_test_FFNN_W, y_test_FFNN_W, verbose=0)[1]\n",
        "    model_top2_acc = model.evaluate(x_test_FFNN_W, y_test_FFNN_W, verbose=0)[2]\n",
        "         \n",
        "    if top2_acc_list and model_top2_acc >= max(top2_acc_list):\n",
        "        #save best model to date\n",
        "        model_json = model.to_json()\n",
        "        with open(\"wiki_model_arq1.json\", \"w\") as f:\n",
        "            f.write(model_json)\n",
        "        model.save_weights(\"wiki_model_arq1.h5\")\n",
        "    \n",
        "    top1_acc_list.append(model_top1_acc)\n",
        "    top2_acc_list.append(model_top2_acc)"
      ],
      "execution_count": 0,
      "outputs": []
    },
    {
      "cell_type": "code",
      "metadata": {
        "id": "UVxrO2toVOz1",
        "colab_type": "code",
        "outputId": "ba1295e2-e18c-4dda-cba1-3a2ea9e9f619",
        "colab": {
          "base_uri": "https://localhost:8080/",
          "height": 70
        }
      },
      "source": [
        "print(\"\\nResulting Average TOP1 acc:{}\\t TOP2 acc:{}\".format(np.mean(top1_acc_list),np.mean(top2_acc_list)))\n",
        "print(\"Best model accuracies: TOP1:{} \\t TOP2:{}\".format(max(top1_acc_list), max(top2_acc_list)))"
      ],
      "execution_count": 0,
      "outputs": [
        {
          "output_type": "stream",
          "text": [
            "\n",
            "Resulting Average TOP1 acc:0.6989290455977122\t TOP2 acc:0.8622489988803863\n",
            "Best model accuracies: TOP1:0.7389557957649231 \t TOP2:0.8875501751899719\n"
          ],
          "name": "stdout"
        }
      ]
    },
    {
      "cell_type": "markdown",
      "metadata": {
        "id": "gd0Lxwq7rf3u",
        "colab_type": "text"
      },
      "source": [
        "Resulting Average TOP1 acc:0.7570281088352203\t TOP2 acc:0.8846050898234049\n",
        "Best model accuracies: TOP1:0.7911646366119385 \t TOP2:0.9156626462936401"
      ]
    },
    {
      "cell_type": "code",
      "metadata": {
        "id": "xENs1kg6VPps",
        "colab_type": "code",
        "outputId": "420923fb-beae-480b-e040-a89908851674",
        "colab": {
          "base_uri": "https://localhost:8080/",
          "height": 52
        }
      },
      "source": [
        "json_f = open('wiki_model_arq1.json', 'r')\n",
        "best_model_json = json_f.read()\n",
        "json_f.close()\n",
        "best_model = model_from_json(best_model_json)\n",
        "best_model.load_weights(\"wiki_model_arq1.h5\")#loading weights\n",
        "\n",
        "# evaluate loaded model on test data\n",
        "best_model.compile(optimizer='rmsprop', loss='categorical_crossentropy',metrics=['accuracy', top2_accuracy])\n",
        "predictions_wiki = best_model.predict_classes(x_test_FFNN_W) #for later building confusion matrix\n",
        "print(\"Best FFNN model TOP-1 acc.:\",best_model.evaluate(x_test_FFNN_W, y_test_FFNN_W, verbose=0)[1])\n",
        "print(\"Best FFNN model TOP-2 acc.:\",best_model.evaluate(x_test_FFNN_W, y_test_FFNN_W, verbose=0)[2])"
      ],
      "execution_count": 0,
      "outputs": [
        {
          "output_type": "stream",
          "text": [
            "Best FFNN model TOP-1 acc.: 0.7309237122535706\n",
            "Best FFNN model TOP-2 acc.: 0.8875501751899719\n"
          ],
          "name": "stdout"
        }
      ]
    },
    {
      "cell_type": "code",
      "metadata": {
        "id": "iXGgq1cOtbiU",
        "colab_type": "code",
        "outputId": "46f5b93c-2d70-45a6-fded-02f475e3e584",
        "colab": {
          "base_uri": "https://localhost:8080/",
          "height": 444
        }
      },
      "source": [
        "doc_utils.plotConfMatrix(y_test_FFNN_W, predictions_wiki, model = \"NN\",dataset_type=\"wiki\")"
      ],
      "execution_count": 0,
      "outputs": [
        {
          "output_type": "display_data",
          "data": {
            "image/png": "[encoded data removed]",
            "text/plain": [
              "<Figure size 720x504 with 2 Axes>"
            ]
          },
          "metadata": {
            "tags": [],
            "needs_background": "light"
          }
        }
      ]
    },
    {
      "cell_type": "markdown",
      "metadata": {
        "id": "CaR3vYeCOb0O",
        "colab_type": "text"
      },
      "source": [
        "#Document classification using articles - MSC with document embeddings"
      ]
    },
    {
      "cell_type": "code",
      "metadata": {
        "id": "Xjb_XWQsOfbP",
        "colab_type": "code",
        "colab": {}
      },
      "source": [
        "#From previous grid-search result\n",
        "best_hparams = {'preprocess': 'custom', 'dm': 0, 'epochs': 50, 'vector_size': 50, 'min_count': 1, 'window': 3}"
      ],
      "execution_count": 0,
      "outputs": []
    },
    {
      "cell_type": "markdown",
      "metadata": {
        "id": "GR_qxq8yYioI",
        "colab_type": "text"
      },
      "source": [
        "### arXiv dataset"
      ]
    },
    {
      "cell_type": "code",
      "metadata": {
        "id": "I5QUobdwUNMS",
        "colab_type": "code",
        "outputId": "61427db4-454d-4530-adb3-694b303b078b",
        "colab": {
          "base_uri": "https://localhost:8080/",
          "height": 90
        }
      },
      "source": [
        "max_sim_model = MaxSimClassifier(\"arxiv\", best_hparams['preprocess'], best_hparams['vector_size'],best_hparams['min_count'],\n",
        "                                 best_hparams['epochs'],best_hparams['dm'],best_hparams['window'],workers=8)\n",
        "\n",
        "max_sim_model.fit_articles(x_train_CLF_A, y_train_CLF_A)\n",
        "\n",
        "#Obtaining TOP-2 Accuracy\n",
        "max_sim_model.score(x_test_CLF_A, y_test_CLF_A,eval=\"top2\")"
      ],
      "execution_count": 0,
      "outputs": [
        {
          "output_type": "stream",
          "text": [
            "/usr/local/lib/python3.6/dist-packages/gensim/matutils.py:737: FutureWarning: Conversion of the second argument of issubdtype from `int` to `np.signedinteger` is deprecated. In future, it will be treated as `np.int64 == np.dtype(int).type`.\n",
            "  if np.issubdtype(vec.dtype, np.int):\n"
          ],
          "name": "stderr"
        },
        {
          "output_type": "execute_result",
          "data": {
            "text/plain": [
              "0.84"
            ]
          },
          "metadata": {
            "tags": []
          },
          "execution_count": 14
        }
      ]
    },
    {
      "cell_type": "code",
      "metadata": {
        "id": "N2bNYBUjX1R9",
        "colab_type": "code",
        "outputId": "5354ae03-dcc5-4336-fcb3-c3726b9cfe24",
        "colab": {
          "base_uri": "https://localhost:8080/",
          "height": 90
        }
      },
      "source": [
        "max_sim_model.score(x_test_CLF_A, y_test_CLF_A,eval=\"top1\")"
      ],
      "execution_count": 0,
      "outputs": [
        {
          "output_type": "stream",
          "text": [
            "/usr/local/lib/python3.6/dist-packages/gensim/matutils.py:737: FutureWarning: Conversion of the second argument of issubdtype from `int` to `np.signedinteger` is deprecated. In future, it will be treated as `np.int64 == np.dtype(int).type`.\n",
            "  if np.issubdtype(vec.dtype, np.int):\n"
          ],
          "name": "stderr"
        },
        {
          "output_type": "execute_result",
          "data": {
            "text/plain": [
              "0.695"
            ]
          },
          "metadata": {
            "tags": []
          },
          "execution_count": 16
        }
      ]
    },
    {
      "cell_type": "code",
      "metadata": {
        "id": "cBeS6T_TYK5m",
        "colab_type": "code",
        "outputId": "6426eaee-55e4-4014-fdd2-a87d16c34ab8",
        "colab": {
          "base_uri": "https://localhost:8080/",
          "height": 602
        }
      },
      "source": [
        "MSC_predictions = max_sim_model.predict(x_test_CLF_A)\n",
        "doc_utils.plotConfMatrix(y_test_CLF_A, MSC_predictions, model=\"MSC\", dataset_type='arxiv')"
      ],
      "execution_count": 0,
      "outputs": [
        {
          "output_type": "stream",
          "text": [
            "/usr/local/lib/python3.6/dist-packages/gensim/matutils.py:737: FutureWarning: Conversion of the second argument of issubdtype from `int` to `np.signedinteger` is deprecated. In future, it will be treated as `np.int64 == np.dtype(int).type`.\n",
            "  if np.issubdtype(vec.dtype, np.int):\n"
          ],
          "name": "stderr"
        },
        {
          "output_type": "display_data",
          "data": {
            "image/png": "[encoded data removed]",
            "text/plain": [
              "<Figure size 720x504 with 2 Axes>"
            ]
          },
          "metadata": {
            "tags": [],
            "needs_background": "light"
          }
        }
      ]
    },
    {
      "cell_type": "markdown",
      "metadata": {
        "id": "ftph1XmXXkJH",
        "colab_type": "text"
      },
      "source": [
        "###Wiki dataset"
      ]
    },
    {
      "cell_type": "code",
      "metadata": {
        "id": "V_JyTaknE0CX",
        "colab_type": "code",
        "outputId": "8efc6e0c-72da-424a-d255-3d69969ee68f",
        "colab": {
          "base_uri": "https://localhost:8080/",
          "height": 90
        }
      },
      "source": [
        "max_sim_model = MaxSimClassifier(\"wiki\", best_hparams['preprocess'], best_hparams['vector_size'],best_hparams['min_count'],\n",
        "                                 best_hparams['epochs'],best_hparams['dm'],best_hparams['window'],workers=8)\n",
        "\n",
        "max_sim_model.fit_articles(x_train_CLF_W, y_train_CLF_W)\n",
        "\n",
        "#Obtaining TOP-2 Accuracy\n",
        "max_sim_model.score(x_test_CLF_W, y_test_CLF_W,eval=\"top2\")"
      ],
      "execution_count": 0,
      "outputs": [
        {
          "output_type": "stream",
          "text": [
            "/usr/local/lib/python3.6/dist-packages/gensim/matutils.py:737: FutureWarning: Conversion of the second argument of issubdtype from `int` to `np.signedinteger` is deprecated. In future, it will be treated as `np.int64 == np.dtype(int).type`.\n",
            "  if np.issubdtype(vec.dtype, np.int):\n"
          ],
          "name": "stderr"
        },
        {
          "output_type": "execute_result",
          "data": {
            "text/plain": [
              "0.8433734939759037"
            ]
          },
          "metadata": {
            "tags": []
          },
          "execution_count": 11
        }
      ]
    },
    {
      "cell_type": "code",
      "metadata": {
        "id": "CNIZomvHNzg_",
        "colab_type": "code",
        "outputId": "c4d5ba59-c46d-4f17-ee19-8a613462808c",
        "colab": {
          "base_uri": "https://localhost:8080/",
          "height": 90
        }
      },
      "source": [
        "max_sim_model.score(x_test_CLF_W, y_test_CLF_W,eval=\"top1\")"
      ],
      "execution_count": 0,
      "outputs": [
        {
          "output_type": "stream",
          "text": [
            "/usr/local/lib/python3.6/dist-packages/gensim/matutils.py:737: FutureWarning: Conversion of the second argument of issubdtype from `int` to `np.signedinteger` is deprecated. In future, it will be treated as `np.int64 == np.dtype(int).type`.\n",
            "  if np.issubdtype(vec.dtype, np.int):\n"
          ],
          "name": "stderr"
        },
        {
          "output_type": "execute_result",
          "data": {
            "text/plain": [
              "0.6987951807228916"
            ]
          },
          "metadata": {
            "tags": []
          },
          "execution_count": 12
        }
      ]
    },
    {
      "cell_type": "code",
      "metadata": {
        "id": "fODi_AwVOw55",
        "colab_type": "code",
        "outputId": "333ca8e9-9276-4f86-a1d9-431bbf1193b8",
        "colab": {
          "base_uri": "https://localhost:8080/",
          "height": 500
        }
      },
      "source": [
        "MSC_predictions = max_sim_model.predict(x_test_CLF_W)\n",
        "doc_utils.plotConfMatrix(y_test_CLF_W, MSC_predictions, model=\"MSC\", dataset_type='wiki')"
      ],
      "execution_count": 0,
      "outputs": [
        {
          "output_type": "stream",
          "text": [
            "/usr/local/lib/python3.6/dist-packages/gensim/matutils.py:737: FutureWarning: Conversion of the second argument of issubdtype from `int` to `np.signedinteger` is deprecated. In future, it will be treated as `np.int64 == np.dtype(int).type`.\n",
            "  if np.issubdtype(vec.dtype, np.int):\n"
          ],
          "name": "stderr"
        },
        {
          "output_type": "display_data",
          "data": {
            "image/png": "[encoded data removed]",
            "text/plain": [
              "<Figure size 720x504 with 2 Axes>"
            ]
          },
          "metadata": {
            "tags": [],
            "needs_background": "light"
          }
        }
      ]
    },
    {
      "cell_type": "code",
      "metadata": {
        "id": "z4SXDj__ZgMb",
        "colab_type": "code",
        "colab": {}
      },
      "source": [
        ""
      ],
      "execution_count": 0,
      "outputs": []
    }
  ]
}