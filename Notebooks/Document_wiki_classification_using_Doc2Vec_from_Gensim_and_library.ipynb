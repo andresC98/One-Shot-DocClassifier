{
  "nbformat": 4,
  "nbformat_minor": 0,
  "metadata": {
    "colab": {
      "name": "[TFG] Document classification using Doc2Vec Gensim and library.ipynb",
      "provenance": [],
      "toc_visible": true
    },
    "kernelspec": {
      "name": "python3",
      "display_name": "Python 3"
    }
  },
  "cells": [
    {
      "cell_type": "markdown",
      "metadata": {
        "id": "11074Enb92Pg",
        "colab_type": "text"
      },
      "source": [
        "#Libraries"
      ]
    },
    {
      "cell_type": "code",
      "metadata": {
        "id": "frBLhfK1WhdU",
        "colab_type": "code",
        "outputId": "9db7dd18-c16e-4a3d-b0f1-119128a2a1be",
        "colab": {
          "base_uri": "https://localhost:8080/",
          "height": 377
        }
      },
      "source": [
        "import gensim , random\n",
        "import numpy as np\n",
        "import matplotlib.pyplot as plt\n",
        "\n",
        "#3rd party libraries installation for colaboratory\n",
        "!pip install wikipedia\n",
        "!pip install Wikipedia-API\n",
        "\n",
        "import doc_utils #thesis library"
      ],
      "execution_count": 0,
      "outputs": [
        {
          "output_type": "stream",
          "text": [
            "Requirement already satisfied: wikipedia in /usr/local/lib/python3.6/dist-packages (1.4.0)\n",
            "Requirement already satisfied: beautifulsoup4 in /usr/local/lib/python3.6/dist-packages (from wikipedia) (4.6.3)\n",
            "Requirement already satisfied: requests<3.0.0,>=2.0.0 in /usr/local/lib/python3.6/dist-packages (from wikipedia) (2.21.0)\n",
            "Requirement already satisfied: urllib3<1.25,>=1.21.1 in /usr/local/lib/python3.6/dist-packages (from requests<3.0.0,>=2.0.0->wikipedia) (1.24.3)\n",
            "Requirement already satisfied: certifi>=2017.4.17 in /usr/local/lib/python3.6/dist-packages (from requests<3.0.0,>=2.0.0->wikipedia) (2019.11.28)\n",
            "Requirement already satisfied: chardet<3.1.0,>=3.0.2 in /usr/local/lib/python3.6/dist-packages (from requests<3.0.0,>=2.0.0->wikipedia) (3.0.4)\n",
            "Requirement already satisfied: idna<2.9,>=2.5 in /usr/local/lib/python3.6/dist-packages (from requests<3.0.0,>=2.0.0->wikipedia) (2.8)\n",
            "Requirement already satisfied: Wikipedia-API in /usr/local/lib/python3.6/dist-packages (0.5.4)\n",
            "Requirement already satisfied: requests in /usr/local/lib/python3.6/dist-packages (from Wikipedia-API) (2.21.0)\n",
            "Requirement already satisfied: urllib3<1.25,>=1.21.1 in /usr/local/lib/python3.6/dist-packages (from requests->Wikipedia-API) (1.24.3)\n",
            "Requirement already satisfied: idna<2.9,>=2.5 in /usr/local/lib/python3.6/dist-packages (from requests->Wikipedia-API) (2.8)\n",
            "Requirement already satisfied: chardet<3.1.0,>=3.0.2 in /usr/local/lib/python3.6/dist-packages (from requests->Wikipedia-API) (3.0.4)\n",
            "Requirement already satisfied: certifi>=2017.4.17 in /usr/local/lib/python3.6/dist-packages (from requests->Wikipedia-API) (2019.11.28)\n",
            "[nltk_data] Downloading package punkt to /root/nltk_data...\n",
            "[nltk_data]   Package punkt is already up-to-date!\n",
            "[nltk_data] Downloading package wordnet to /root/nltk_data...\n",
            "[nltk_data]   Package wordnet is already up-to-date!\n",
            "[nltk_data] Downloading package stopwords to /root/nltk_data...\n",
            "[nltk_data]   Package stopwords is already up-to-date!\n"
          ],
          "name": "stdout"
        },
        {
          "output_type": "stream",
          "text": [
            "Using TensorFlow backend.\n"
          ],
          "name": "stderr"
        }
      ]
    },
    {
      "cell_type": "markdown",
      "metadata": {
        "id": "zplAQsk296GT",
        "colab_type": "text"
      },
      "source": [
        "#Data extraction and cleaning"
      ]
    },
    {
      "cell_type": "code",
      "metadata": {
        "id": "xsrPAyw_EDjf",
        "colab_type": "code",
        "outputId": "c6220085-76be-4f03-f1ae-d3ab1f728df7",
        "colab": {
          "base_uri": "https://localhost:8080/",
          "height": 343
        }
      },
      "source": [
        "wiki_topic_defs_full = doc_utils.concurrentGetWikiFullPage(topics_list = doc_utils.ALL_TOPICS)\n",
        "wiki_test_data, n_test_samples = doc_utils.concurrentGetAllCatArticles(doc_utils.ALL_TOPICS, full_text_test=True)"
      ],
      "execution_count": 0,
      "outputs": [
        {
          "output_type": "stream",
          "text": [
            "Obtaining full wikipedia page for the topic: Chemical engineering. (Definition of Class #[0])\n",
            "Obtaining full wikipedia page for the topic: Biomedical engineering. (Definition of Class #[1])\n",
            "Obtaining full wikipedia page for the topic: Civil engineering. (Definition of Class #[2])\n",
            "Obtaining full wikipedia page for the topic: Mechanical engineering. (Definition of Class #[4])Obtaining full wikipedia page for the topic: Electrical engineering. (Definition of Class #[3])\n",
            "Obtaining full wikipedia page for the topic: Aerospace engineering. (Definition of Class #[5])\n",
            "\n",
            "Obtaining full wikipedia page for the topic: Software engineering. (Definition of Class #[6])\n",
            "Obtaining full wikipedia page for the topic: Industrial engineering. (Definition of Class #[7])\n",
            "Obtaining full wikipedia page for the topic: Computer engineering. (Definition of Class #[8])\n",
            "Retrieved 32 articles from category topic 'Computer engineering'[TopicID:8]\n",
            "Retrieved 56 articles from category topic 'Software engineering'[TopicID:6]\n",
            "Retrieved 74 articles from category topic 'Industrial engineering'[TopicID:7]\n",
            "Retrieved 67 articles from category topic 'Chemical engineering'[TopicID:0]\n",
            "Retrieved 74 articles from category topic 'Biomedical engineering'[TopicID:1]\n",
            "Retrieved 152 articles from category topic 'Civil engineering'[TopicID:2]\n",
            "Retrieved 140 articles from category topic 'Electrical engineering'[TopicID:3]\n",
            "Retrieved 173 articles from category topic 'Aerospace engineering'[TopicID:5]\n",
            "Retrieved 216 articles from category topic 'Mechanical engineering'[TopicID:4]\n"
          ],
          "name": "stdout"
        }
      ]
    },
    {
      "cell_type": "code",
      "metadata": {
        "id": "mlf41XFaMbAS",
        "colab_type": "code",
        "colab": {}
      },
      "source": [
        "#Converting WikiPage format\n",
        "for i, elem in enumerate(wiki_topic_defs_full):\n",
        "    wiki_topic_defs_full[i] = elem.content \n",
        "\n",
        "#Obtaining test labels\n",
        "doc_id = 0\n",
        "test_labels = list()\n",
        "for class_id, docs in enumerate(wiki_test_data):\n",
        "    for doc in docs[0]:\n",
        "        test_labels.append(class_id)\n",
        "        doc_id += 1"
      ],
      "execution_count": 0,
      "outputs": []
    },
    {
      "cell_type": "code",
      "metadata": {
        "id": "2KyOJRZKF_nw",
        "colab_type": "code",
        "colab": {}
      },
      "source": [
        "train_corpus = list(doc_utils.prepare_corpus(wiki_topic_defs_full))\n",
        "test_corpus = list(doc_utils.prepare_corpus(wiki_test_data, train_data=False))"
      ],
      "execution_count": 0,
      "outputs": []
    },
    {
      "cell_type": "markdown",
      "metadata": {
        "id": "i9ENvJBR-Jcq",
        "colab_type": "text"
      },
      "source": [
        "#Initial model (no fine tuning)"
      ]
    },
    {
      "cell_type": "markdown",
      "metadata": {
        "id": "AN8h9uZR9_Co",
        "colab_type": "text"
      },
      "source": [
        "## Model training "
      ]
    },
    {
      "cell_type": "code",
      "metadata": {
        "colab_type": "code",
        "id": "F8SMc8mlHHp-",
        "colab": {}
      },
      "source": [
        "#Nota: eleccion de vector_size? depende del vocabulario. Hiperparam importante. Reducir epochs?\n",
        "#TODO: Hyperparam search\n",
        "model = gensim.models.doc2vec.Doc2Vec(vector_size=50, min_count=2, epochs=40)\n",
        "#Building a vocabulary:\n",
        "model.build_vocab(train_corpus)\n",
        "\n",
        "model.train(train_corpus, total_examples=model.corpus_count, epochs=model.epochs)"
      ],
      "execution_count": 0,
      "outputs": []
    },
    {
      "cell_type": "markdown",
      "metadata": {
        "id": "ia9DncbW-CV0",
        "colab_type": "text"
      },
      "source": [
        "##Model evaluation"
      ]
    },
    {
      "cell_type": "markdown",
      "metadata": {
        "id": "q6Lcoin--SWO",
        "colab_type": "text"
      },
      "source": [
        "### Using weighted accuracy"
      ]
    },
    {
      "cell_type": "code",
      "metadata": {
        "id": "eFgxb-AX8qj3",
        "colab_type": "code",
        "outputId": "e4ddbf02-eb74-489f-f757-97bf8807af03",
        "colab": {
          "base_uri": "https://localhost:8080/",
          "height": 88
        }
      },
      "source": [
        "predictions, model_acc_list = doc_utils.evaluate_model(model, test_corpus, test_labels, eval=\"weighted\")"
      ],
      "execution_count": 0,
      "outputs": [
        {
          "output_type": "stream",
          "text": [
            "/usr/local/lib/python3.6/dist-packages/gensim/matutils.py:737: FutureWarning: Conversion of the second argument of issubdtype from `int` to `np.signedinteger` is deprecated. In future, it will be treated as `np.int64 == np.dtype(int).type`.\n",
            "  if np.issubdtype(vec.dtype, np.int):\n"
          ],
          "name": "stderr"
        },
        {
          "output_type": "stream",
          "text": [
            "Model weighted accuracy over 984 test documents: 68.4451219512195%.\n"
          ],
          "name": "stdout"
        }
      ]
    },
    {
      "cell_type": "code",
      "metadata": {
        "id": "tNa3YSsq-QtA",
        "colab_type": "code",
        "outputId": "34700163-967e-4b6f-b20b-0bf62903f797",
        "colab": {
          "base_uri": "https://localhost:8080/",
          "height": 299
        }
      },
      "source": [
        "plt.style.use('ggplot')\n",
        "\n",
        "plt.hist(model_acc_list, bins=np.linspace(0,1,num=4))\n",
        "plt.title(\"Weighted accuracy distribution\")\n",
        "plt.xlabel(\"accuracy\")\n",
        "plt.show()"
      ],
      "execution_count": 0,
      "outputs": [
        {
          "output_type": "display_data",
          "data": {
            "image/png": "[encoded data removed]",
            "text/plain": [
              "<Figure size 432x288 with 1 Axes>"
            ]
          },
          "metadata": {
            "tags": []
          }
        }
      ]
    },
    {
      "cell_type": "code",
      "metadata": {
        "id": "U3D1jXRK-s_Z",
        "colab_type": "code",
        "outputId": "cb54444b-8d7d-4a5e-e507-675fb4c5a36e",
        "colab": {
          "base_uri": "https://localhost:8080/",
          "height": 445
        }
      },
      "source": [
        "doc_utils.plotConfMatrix(test_labels, predictions, model=\"Similarity\")"
      ],
      "execution_count": 0,
      "outputs": [
        {
          "output_type": "display_data",
          "data": {
            "image/png": "[encoded data removed]",
            "text/plain": [
              "<Figure size 720x504 with 2 Axes>"
            ]
          },
          "metadata": {
            "tags": []
          }
        }
      ]
    },
    {
      "cell_type": "markdown",
      "metadata": {
        "id": "TYf1zpxm-VwA",
        "colab_type": "text"
      },
      "source": [
        "### Using binary accuracy"
      ]
    },
    {
      "cell_type": "code",
      "metadata": {
        "id": "gxc4fY60-O63",
        "colab_type": "code",
        "outputId": "dc4dd534-5383-4fe0-8024-e643d70f9c00",
        "colab": {
          "base_uri": "https://localhost:8080/",
          "height": 88
        }
      },
      "source": [
        "predictions, model_acc_list = doc_utils.evaluate_model(model, test_corpus, test_labels, eval=\"binary\")"
      ],
      "execution_count": 0,
      "outputs": [
        {
          "output_type": "stream",
          "text": [
            "/usr/local/lib/python3.6/dist-packages/gensim/matutils.py:737: FutureWarning: Conversion of the second argument of issubdtype from `int` to `np.signedinteger` is deprecated. In future, it will be treated as `np.int64 == np.dtype(int).type`.\n",
            "  if np.issubdtype(vec.dtype, np.int):\n"
          ],
          "name": "stderr"
        },
        {
          "output_type": "stream",
          "text": [
            "Model binary accuracy over 984 test documents: 59.34959349593496%.\n"
          ],
          "name": "stdout"
        }
      ]
    },
    {
      "cell_type": "code",
      "metadata": {
        "id": "AY5dVUKT-4yD",
        "colab_type": "code",
        "colab": {}
      },
      "source": [
        "#Same confusion matrix as before."
      ],
      "execution_count": 0,
      "outputs": []
    },
    {
      "cell_type": "code",
      "metadata": {
        "id": "rd7bWixUAWsj",
        "colab_type": "code",
        "colab": {}
      },
      "source": [
        "doc_utils.plotConfMatrix(test_labels, predictions, model=\"Similarity\")"
      ],
      "execution_count": 0,
      "outputs": []
    },
    {
      "cell_type": "markdown",
      "metadata": {
        "id": "HIZRsCYx_AO5",
        "colab_type": "text"
      },
      "source": [
        "#Model fine tuning"
      ]
    },
    {
      "cell_type": "markdown",
      "metadata": {
        "id": "kago_n4XlaF9",
        "colab_type": "text"
      },
      "source": [
        "We want to improve the \n",
        "* 59.4% pure accuracy\n",
        "* 68% weighted accuracy \n",
        "\n",
        "That baseline was achieved with no hyperparameter tuning whatsoever and no complex text processing done over input documents."
      ]
    },
    {
      "cell_type": "markdown",
      "metadata": {
        "id": "k7PiMHBxlxrv",
        "colab_type": "text"
      },
      "source": [
        "## Step 1: Performing micro-analysis of documents prone to errors\n",
        "\n",
        "We want to take a look over those documents (can be seen on the confusion matrix) which categories are prone to fail classification. We can first take a look on their corresponding topic definition, and / or over the specific query articles. \n",
        "\n",
        "We want to (or may) look for the following issues that may be causing misclassification:\n",
        "* Short topic definitions \n",
        "* Short query articles\n",
        "* \"Dirty\" documents containing unnecesary / garbage words."
      ]
    },
    {
      "cell_type": "code",
      "metadata": {
        "colab_type": "code",
        "outputId": "b2c21b38-a606-49e3-a044-51c46a82a3a1",
        "id": "gkV9Vf0Qn3dz",
        "colab": {
          "base_uri": "https://localhost:8080/",
          "height": 445
        }
      },
      "source": [
        "doc_utils.plotConfMatrix(test_labels, predictions, model=\"Similarity\")"
      ],
      "execution_count": 0,
      "outputs": [
        {
          "output_type": "display_data",
          "data": {
            "image/png": "[encoded data removed]",
            "text/plain": [
              "<Figure size 720x504 with 2 Axes>"
            ]
          },
          "metadata": {
            "tags": []
          }
        }
      ]
    },
    {
      "cell_type": "markdown",
      "metadata": {
        "id": "mDoM3XmaoD_x",
        "colab_type": "text"
      },
      "source": [
        "There are a lot of predictions which fall onto the \"Aerospace Engineering\" topic, so it affects misclassifications over mainly the topics of \"Electrcal, Civil, Chem and Biomd\" engineerings. This is probably due to the fact that Aeroespace Engineering articles have many samples (around 175), 150 of those are correctly classified. This could happen because the topic definition of aerospace engineering is shorter and includes concepts that may be confused with the other engineerings. Aerospace engineering is contained within the Mechanical engineering field, and thus those misclassified articles makes sense."
      ]
    },
    {
      "cell_type": "code",
      "metadata": {
        "id": "atk3Iz7bo8zU",
        "colab_type": "code",
        "colab": {}
      },
      "source": [
        "#Looking at topic definition lengths\n",
        "wiki_topic_defs_full"
      ],
      "execution_count": 0,
      "outputs": []
    },
    {
      "cell_type": "code",
      "metadata": {
        "id": "ynGv5wGUpHM9",
        "colab_type": "code",
        "outputId": "5baa9abb-1558-4808-8bd3-a0228ab4d934",
        "colab": {
          "base_uri": "https://localhost:8080/",
          "height": 204
        }
      },
      "source": [
        "print(\"Preprocessed text information:\\n\")\n",
        "for topic in wiki_topic_defs_full:\n",
        "    print(\" \".join(topic.split(\" \")[:2])+\" --> topic definition length (nchars):\\t\"+str(len(topic))+\"; n_Words:\\t\"+str(len(topic.split(\" \"))))"
      ],
      "execution_count": 0,
      "outputs": [
        {
          "output_type": "stream",
          "text": [
            "Preprocessed text information:\n",
            "\n",
            "Chemical engineering --> topic definition length (nchars):\t11101; n_Words:\t1577\n",
            "Biomedical engineering --> topic definition length (nchars):\t33221; n_Words:\t4659\n",
            "Civil engineering --> topic definition length (nchars):\t22982; n_Words:\t3182\n",
            "Electrical engineering --> topic definition length (nchars):\t43195; n_Words:\t5998\n",
            "Mechanical engineering --> topic definition length (nchars):\t33991; n_Words:\t4838\n",
            "Aerospace engineering --> topic definition length (nchars):\t11303; n_Words:\t1594\n",
            "Software engineering --> topic definition length (nchars):\t19910; n_Words:\t2751\n",
            "Industrial engineering --> topic definition length (nchars):\t16616; n_Words:\t2293\n",
            "Computer engineering --> topic definition length (nchars):\t13129; n_Words:\t1804\n"
          ],
          "name": "stdout"
        }
      ]
    },
    {
      "cell_type": "markdown",
      "metadata": {
        "id": "6TmhvD13vfrm",
        "colab_type": "text"
      },
      "source": [
        "Chemical and Aerospace engineerings have short topic definitions, thus we could expect low accuracy on those 2 topics.\n"
      ]
    },
    {
      "cell_type": "code",
      "metadata": {
        "id": "vM1jPnWwpYHn",
        "colab_type": "code",
        "outputId": "47ab1a31-0ee1-4d48-c9b3-eb2bc2ae4479",
        "colab": {
          "base_uri": "https://localhost:8080/",
          "height": 170
        }
      },
      "source": [
        "for i, topic in enumerate(wiki_test_data):\n",
        "    print(doc_utils.ENG_TOPICS_ABVR[i]+\"-related total articles:\\t\"+str(len(topic[0])))"
      ],
      "execution_count": 0,
      "outputs": [
        {
          "output_type": "stream",
          "text": [
            "Chem-related total articles:\t67\n",
            "Biomd-related total articles:\t74\n",
            "Civil-related total articles:\t152\n",
            "Elec-related total articles:\t140\n",
            "Mech-related total articles:\t216\n",
            "Aero-related total articles:\t173\n",
            "SW-related total articles:\t56\n",
            "Ind-related total articles:\t74\n",
            "Comp-related total articles:\t32\n"
          ],
          "name": "stdout"
        }
      ]
    },
    {
      "cell_type": "markdown",
      "metadata": {
        "id": "fQwwRaQBwANd",
        "colab_type": "text"
      },
      "source": [
        "Let's take a look now on the **processed tokens** of the topic definitions, to see how well constructed are and how their lengths have varied"
      ]
    },
    {
      "cell_type": "code",
      "metadata": {
        "id": "GHE79FpItJg4",
        "colab_type": "code",
        "colab": {}
      },
      "source": [
        "train_corpus"
      ],
      "execution_count": 0,
      "outputs": []
    },
    {
      "cell_type": "code",
      "metadata": {
        "id": "jOM2u4JtyoPz",
        "colab_type": "code",
        "colab": {}
      },
      "source": [
        "for i in [0,1,2,3,4,5]:\n",
        "    print(test_corpus[i])"
      ],
      "execution_count": 0,
      "outputs": []
    },
    {
      "cell_type": "markdown",
      "metadata": {
        "id": "LAlw63lxzm8_",
        "colab_type": "text"
      },
      "source": [
        "It seems that we have many words that can be discarded. So lets try to create a better text processing function, instead of the \"*gensim.utils.simple_preprocess()*\" that is currently used in \"*prepare_corpus()*\""
      ]
    },
    {
      "cell_type": "markdown",
      "metadata": {
        "id": "S26LsOQu_eKS",
        "colab_type": "text"
      },
      "source": [
        "## Trying to improve text preprocessing"
      ]
    },
    {
      "cell_type": "code",
      "metadata": {
        "id": "hsfTa1Czyyke",
        "colab_type": "code",
        "colab": {}
      },
      "source": [
        "from gensim.utils import simple_preprocess"
      ],
      "execution_count": 0,
      "outputs": []
    },
    {
      "cell_type": "code",
      "metadata": {
        "id": "AruAv0xm0sOt",
        "colab_type": "code",
        "outputId": "76b39271-850b-40e4-e742-176bb9873f22",
        "colab": {
          "base_uri": "https://localhost:8080/",
          "height": 34
        }
      },
      "source": [
        "simple_preprocess "
      ],
      "execution_count": 0,
      "outputs": [
        {
          "output_type": "execute_result",
          "data": {
            "text/plain": [
              "<function gensim.utils.simple_preprocess>"
            ]
          },
          "metadata": {
            "tags": []
          },
          "execution_count": 15
        }
      ]
    },
    {
      "cell_type": "code",
      "metadata": {
        "id": "VZmxkdYS2k3f",
        "colab_type": "code",
        "colab": {}
      },
      "source": [
        "#Looking at Gensim function source code:\n",
        "#https://tedboy.github.io/nlps/_modules/gensim/utils.html#simple_preprocess\n",
        "def simple_preprocess(doc, deacc=False, min_len=2, max_len=15):\n",
        "    \"\"\"\n",
        "    Convert a document into a list of tokens.\n",
        "\n",
        "    This lowercases, tokenizes, de-accents (optional). -- the output are final\n",
        "    tokens = unicode strings, that won't be processed any further.\n",
        "\n",
        "    \"\"\"\n",
        "    tokens = [\n",
        "        token for token in tokenize(doc, lower=True, deacc=deacc, errors='ignore')\n",
        "        if min_len <= len(token) <= max_len and not token.startswith('_')\n",
        "    ]\n",
        "    return tokens\n",
        "#As we can see, it only performs a really basic tokenization with no stemming/lemmatization\n",
        "# or stopword, punctuation removal, etc."
      ],
      "execution_count": 0,
      "outputs": []
    },
    {
      "cell_type": "markdown",
      "metadata": {
        "id": "p_yid39nACBg",
        "colab_type": "text"
      },
      "source": [
        "Let's try to improve it"
      ]
    },
    {
      "cell_type": "code",
      "metadata": {
        "id": "AqiIcVPy5uxf",
        "colab_type": "code",
        "colab": {}
      },
      "source": [
        "doc= \"Chemical engineering is a branch of engineering that uses principles of chemistry, physics, mathematics, biology, and economics to efficiently use, produce, design, transport and transform energy and materials. The work of chemical engineers can range from the utilisation of nano-technology and nano-materials in the laboratory to large-scale industrial processes that convert chemicals, raw materials, living cells, microorganisms, and energy into useful forms and products.\\nChemical engineers are involved in many aspects of plant design and operation, including safety and hazard assessments, process design and analysis, modeling, control engineering, chemical reaction engineering, nuclear engineering, biological engineering,  construction specification, and operating instructions.\""
      ],
      "execution_count": 0,
      "outputs": []
    },
    {
      "cell_type": "code",
      "metadata": {
        "id": "9VY5Fcng4i1v",
        "colab_type": "code",
        "outputId": "0ba32cb6-ea60-476a-dd70-d66a3f8fb4aa",
        "colab": {
          "base_uri": "https://localhost:8080/",
          "height": 119
        }
      },
      "source": [
        "from nltk.stem import WordNetLemmatizer\n",
        "from nltk.tokenize import word_tokenize\n",
        "from nltk.corpus import stopwords\n",
        "import nltk\n",
        "nltk.download('punkt')\n",
        "nltk.download('wordnet')\n",
        "nltk.download('stopwords')\n",
        "stop_words = set(stopwords.words('english'))\n",
        "lemmatizer=WordNetLemmatizer()"
      ],
      "execution_count": 0,
      "outputs": [
        {
          "output_type": "stream",
          "text": [
            "[nltk_data] Downloading package punkt to /root/nltk_data...\n",
            "[nltk_data]   Package punkt is already up-to-date!\n",
            "[nltk_data] Downloading package wordnet to /root/nltk_data...\n",
            "[nltk_data]   Package wordnet is already up-to-date!\n",
            "[nltk_data] Downloading package stopwords to /root/nltk_data...\n",
            "[nltk_data]   Unzipping corpora/stopwords.zip.\n"
          ],
          "name": "stdout"
        }
      ]
    },
    {
      "cell_type": "code",
      "metadata": {
        "id": "ghtdmG0V6SgC",
        "colab_type": "code",
        "colab": {}
      },
      "source": [
        "tokenized_doc=word_tokenize(doc)\n",
        "lemmatized_doc = [lemmatizer.lemmatize(word) for word in tokenized_doc]\n",
        "lemmatized_doc= [word for word in lemmatized_doc if word.isalnum()]\n",
        "lemmatized_nostopw_doc= [word.lower() for word in lemmatized_doc if word.isalnum() and not word in stop_words]"
      ],
      "execution_count": 0,
      "outputs": []
    },
    {
      "cell_type": "markdown",
      "metadata": {
        "id": "4NxTl8Y-AMfg",
        "colab_type": "text"
      },
      "source": [
        "It seems that achieve our desired result, so let's make a custom preprocess function to include it into the \"prepare_corpus()\" function:"
      ]
    },
    {
      "cell_type": "code",
      "metadata": {
        "id": "wBUqsTzV_zo-",
        "colab_type": "code",
        "colab": {}
      },
      "source": [
        "#Dependencies\n",
        "from nltk.stem import WordNetLemmatizer\n",
        "from nltk.tokenize import word_tokenize\n",
        "from nltk.corpus import stopwords\n",
        "from nltk import download\n",
        "download('punkt')\n",
        "download('wordnet')\n",
        "download('stopwords')\n",
        "\n",
        "stop_words = set(stopwords.words('english'))\n",
        "lemmatizer=WordNetLemmatizer()\n",
        "\n",
        "def custom_preprocess(doc):\n",
        "    tokenized_doc=word_tokenize(doc)\n",
        "    lemmatized_doc = [lemmatizer.lemmatize(word) for word in tokenized_doc]\n",
        "    #lemmatized_doc= [word for word in lemmatized_doc if word.isalnum()]\n",
        "    lemmatized_nostopw_doc= [word.lower() for word in lemmatized_doc if word.isalnum() and not word in stop_words]\n",
        "\n",
        "    return lemmatized_nostopw_doc"
      ],
      "execution_count": 0,
      "outputs": []
    },
    {
      "cell_type": "markdown",
      "metadata": {
        "id": "XrhSdY8nC5VK",
        "colab_type": "text"
      },
      "source": [
        "## Testing model with new processing"
      ]
    },
    {
      "cell_type": "code",
      "metadata": {
        "id": "b7DGk59wC2fH",
        "colab_type": "code",
        "colab": {}
      },
      "source": [
        "train_corpus = list(doc_utils.prepare_corpus(wiki_topic_defs_full, preprocess='complex'))\n",
        "test_corpus = list(doc_utils.prepare_corpus(wiki_test_data,preprocess='complex' ,train_data=False))"
      ],
      "execution_count": 0,
      "outputs": []
    },
    {
      "cell_type": "code",
      "metadata": {
        "id": "A-YAxIH7DUE9",
        "colab_type": "code",
        "colab": {}
      },
      "source": [
        "model = gensim.models.doc2vec.Doc2Vec(vector_size=50, min_count=2, epochs=40)\n",
        "model.build_vocab(train_corpus)\n",
        "model.train(train_corpus, total_examples=model.corpus_count, epochs=model.epochs)"
      ],
      "execution_count": 0,
      "outputs": []
    },
    {
      "cell_type": "code",
      "metadata": {
        "id": "i3iIgKUbDXTX",
        "colab_type": "code",
        "outputId": "c28461ee-7a55-49e1-f74f-aba89186ce4c",
        "colab": {
          "base_uri": "https://localhost:8080/",
          "height": 88
        }
      },
      "source": [
        "predictions, model_acc_list = doc_utils.evaluate_model(model, test_corpus, test_labels, eval=\"weighted\")"
      ],
      "execution_count": 0,
      "outputs": [
        {
          "output_type": "stream",
          "text": [
            "/usr/local/lib/python3.6/dist-packages/gensim/matutils.py:737: FutureWarning: Conversion of the second argument of issubdtype from `int` to `np.signedinteger` is deprecated. In future, it will be treated as `np.int64 == np.dtype(int).type`.\n",
            "  if np.issubdtype(vec.dtype, np.int):\n"
          ],
          "name": "stderr"
        },
        {
          "output_type": "stream",
          "text": [
            "Model weighted accuracy over 984 test documents: 68.34349593495935%.\n"
          ],
          "name": "stdout"
        }
      ]
    },
    {
      "cell_type": "markdown",
      "metadata": {
        "id": "U9uhxoSGEN9g",
        "colab_type": "text"
      },
      "source": [
        "We do not seem to have a significative improvement over the accuracy"
      ]
    },
    {
      "cell_type": "code",
      "metadata": {
        "id": "ONI4WY9fDghG",
        "colab_type": "code",
        "outputId": "362c8da3-5c65-481b-f2be-c389958156e9",
        "colab": {
          "base_uri": "https://localhost:8080/",
          "height": 88
        }
      },
      "source": [
        "predictions, model_acc_list = doc_utils.evaluate_model(model, test_corpus, test_labels, eval=\"binary\")"
      ],
      "execution_count": 0,
      "outputs": [
        {
          "output_type": "stream",
          "text": [
            "/usr/local/lib/python3.6/dist-packages/gensim/matutils.py:737: FutureWarning: Conversion of the second argument of issubdtype from `int` to `np.signedinteger` is deprecated. In future, it will be treated as `np.int64 == np.dtype(int).type`.\n",
            "  if np.issubdtype(vec.dtype, np.int):\n"
          ],
          "name": "stderr"
        },
        {
          "output_type": "stream",
          "text": [
            "Model binary accuracy over 984 test documents: 60.36585365853659%.\n"
          ],
          "name": "stdout"
        }
      ]
    },
    {
      "cell_type": "markdown",
      "metadata": {
        "id": "_kAg3HKoEXM0",
        "colab_type": "text"
      },
      "source": [
        "## Step 2: Model hyperparameter tuning"
      ]
    },
    {
      "cell_type": "markdown",
      "metadata": {
        "id": "UM1sDs2CaF1N",
        "colab_type": "text"
      },
      "source": [
        "Doc2Vec Model Hyperparameters: [source](https://radimrehurek.com/gensim/models/doc2vec.html)\n",
        "    \n",
        "\n",
        "```\n",
        "gensim.models.doc2vec.Doc2Vec(documents=None, corpus_file=None, dm_mean=None, dm=1,\n",
        "                            dbow_words=0, dm_concat=0, dm_tag_count=1, docvecs=None, \n",
        "            docvecs_mapfile=None, comment=None, trim_rule=None, callbacks=(), **kwargs)\n",
        "```\n",
        "which is an extension from the base class:\n",
        "```\n",
        "class gensim.models.base_any2vec.BaseWordEmbeddingsModel(sentences=None, corpus_file=None, \n",
        "                        workers=3, vector_size=100, epochs=5, callbacks=(), batch_words=10000, \n",
        "                        trim_rule=None, sg=0, alpha=0.025, window=5, seed=1, hs=0, negative=5, ns_exponent=0.75, \n",
        "                        cbow_mean=1, min_alpha=0.0001, compute_loss=False, **kwargs)\n",
        "```\n",
        "* **documents** (iterable of list of TaggedDocument, optional) – Input corpus, can be simply a list of elements, but for larger corpora,consider an iterable that streams the documents directly from disk/network. If you don’t supply documents (or corpus_file), the model is left uninitialized – use if you plan to initialize it in some other way.\n",
        "\n",
        "* **corpus_file** (str, optional) – Path to a corpus file in LineSentence format. You may use this argument instead of documents to get performance boost. Only one of documents or corpus_file arguments need to be passed (or none of them, in that case, the model is left uninitialized). Documents’ tags are assigned automatically and are equal to line number, as in TaggedLineDocument.\n",
        "\n",
        "* **dm** ({1,0}, optional) – Defines the training algorithm. If dm=1, ‘distributed memory’ (PV-DM) is used. Otherwise, distributed bag of words (PV-DBOW) is employed.\n",
        "\n",
        "* **vector_size** (int, optional) – Dimensionality of the feature vectors.\n",
        "\n",
        "* **window** (int, optional) – The maximum distance between the current and predicted word within a sentence.\n",
        "\n",
        "* **alpha** (float, optional) – The initial learning rate.\n",
        "\n",
        "* **min_alpha** (float, optional) – Learning rate will linearly drop to min_alpha as training progresses.\n",
        "\n",
        "* **seed** (int, optional) – Seed for the random number generator. Initial vectors for each word are seeded with a hash of the concatenation of word + str(seed). Note that for a fully deterministically-reproducible run, you must also limit the model to a single worker thread (workers=1), to eliminate ordering jitter from OS thread scheduling. In Python 3, reproducibility between interpreter launches also requires use of the PYTHONHASHSEED environment variable to control hash randomization.\n",
        "\n",
        "* **min_count** (int, optional) – Ignores all words with total frequency lower than this.\n",
        "\n",
        "* **max_vocab_size** (int, optional) – Limits the RAM during vocabulary building; if there are more unique words than this, then prune the infrequent ones. Every 10 million word types need about 1GB of RAM. Set to None for no limit.\n",
        "\n",
        "* **sample** (float, optional) – The threshold for configuring which higher-frequency words are randomly downsampled, useful range is (0, 1e-5).\n",
        "\n",
        "* **workers** (int, optional) – Use these many worker threads to train the model (=faster training with multicore machines).\n",
        "\n",
        "* **epochs** (int, optional) – Number of iterations (epochs) over the corpus.\n",
        "\n",
        "* **hs** ({1,0}, optional) – If 1, hierarchical softmax will be used for model training. If set to 0, and negative is non-zero, negative sampling will be used.\n",
        "\n",
        "* **negative** (int, optional) – If > 0, negative sampling will be used, the int for negative specifies how many “noise words” should be drawn (usually between 5-20). If set to 0, no negative sampling is used.\n",
        "\n",
        "* **ns_exponent** (float, optional) – The exponent used to shape the negative sampling distribution. A value of 1.0 samples exactly in proportion to the frequencies, 0.0 samples all words equally, while a negative value samples low-frequency words more than high-frequency words. The popular default value of 0.75 was chosen by the original Word2Vec paper. More recently, in https://arxiv.org/abs/1804.04212, Caselles-Dupré, Lesaint, & Royo-Letelier suggest that other values may perform better for recommendation applications.\n",
        "\n",
        "* **dm_mean** ({1,0}, optional) – If 0 , use the sum of the context word vectors. If 1, use the mean. Only applies when dm is used in non-concatenative mode.\n",
        "\n",
        "* **dm_concat** ({1,0}, optional) – If 1, use concatenation of context vectors rather than sum/average; Note concatenation results in a much-larger model, as the input is no longer the size of one (sampled or arithmetically combined) word vector, but the size of the tag(s) and all words in the context strung together.\n",
        "\n",
        "* **dm_tag_count** (int, optional) – Expected constant number of document tags per document, when using dm_concat mode.\n",
        "\n",
        "* **dbow_words** ({1,0}, optional) – If set to 1 trains word-vectors (in skip-gram fashion) simultaneous with DBOW doc-vector training; If 0, only trains doc-vectors (faster).\n",
        "\n",
        "\n",
        "\n",
        "\n"
      ]
    },
    {
      "cell_type": "markdown",
      "metadata": {
        "id": "lhtteUx4w2O2",
        "colab_type": "text"
      },
      "source": [
        "### Rough grid search"
      ]
    },
    {
      "cell_type": "code",
      "metadata": {
        "id": "o__FFiJmEG8r",
        "colab_type": "code",
        "outputId": "38dbb937-9e88-4fd1-dd41-41997ca29e25",
        "colab": {
          "base_uri": "https://localhost:8080/",
          "height": 34
        }
      },
      "source": [
        "#Standard grid search procedure\n",
        "grid=[{\"epochs\": 10,\"min_count\": 1,\"vector_size\":25,\"acc\":\"\"},\n",
        "      {\"epochs\": 10,\"min_count\": 1,\"vector_size\":50,\"acc\":\"\"},\n",
        "      {\"epochs\": 10,\"min_count\": 1,\"vector_size\":75,\"acc\":\"\"},\n",
        "      {\"epochs\": 10,\"min_count\": 1,\"vector_size\":100,\"acc\":\"\"},\n",
        "      {\"epochs\": 30,\"min_count\": 1,\"vector_size\":25,\"acc\":\"\"},\n",
        "      {\"epochs\": 30,\"min_count\": 1,\"vector_size\":50,\"acc\":\"\"},\n",
        "      {\"epochs\": 30,\"min_count\": 1,\"vector_size\":75,\"acc\":\"\"},\n",
        "      {\"epochs\": 30,\"min_count\": 1,\"vector_size\":100,\"acc\":\"\"},\n",
        "      {\"epochs\": 50,\"min_count\": 1,\"vector_size\":25,\"acc\":\"\"},\n",
        "      {\"epochs\": 50,\"min_count\": 1,\"vector_size\":50,\"acc\":\"\"},\n",
        "      {\"epochs\": 50,\"min_count\": 1,\"vector_size\":75,\"acc\":\"\"},\n",
        "      {\"epochs\": 50,\"min_count\": 1,\"vector_size\":100,\"acc\":\"\"}\n",
        "      ]"
      ],
      "execution_count": 0,
      "outputs": [
        {
          "output_type": "stream",
          "text": [
            "ERROR! Session/line number was not unique in database. History logging moved to new session 62\n"
          ],
          "name": "stdout"
        }
      ]
    },
    {
      "cell_type": "code",
      "metadata": {
        "id": "KEtPcg2nTOKx",
        "colab_type": "code",
        "outputId": "abc21428-233d-4696-f599-70b3a6483d00",
        "colab": {
          "base_uri": "https://localhost:8080/",
          "height": 479
        }
      },
      "source": [
        "grid_predictions = list()\n",
        "grid_accs = list()\n",
        "\n",
        "for elem in grid:\n",
        "    model = gensim.models.doc2vec.Doc2Vec(vector_size=elem[\"vector_size\"], \n",
        "                                          min_count=elem[\"min_count\"], \n",
        "                                          epochs=elem[\"epochs\"])\n",
        "\n",
        "    model.build_vocab(train_corpus)\n",
        "    print(\"Training and evaluating model with params:\",elem)\n",
        "    model.train(train_corpus, total_examples=model.corpus_count, epochs=model.epochs)\n",
        "\n",
        "    model_preds, model_acc_list = doc_utils.evaluate_model(model, test_corpus, test_labels, eval=\"weighted\")\n",
        "\n",
        "    grid_predictions.append(model_preds)\n",
        "    elem[\"acc\"] = np.mean(model_acc_list) * 100\n",
        "    grid_accs.append(model_acc_list)\n"
      ],
      "execution_count": 0,
      "outputs": [
        {
          "output_type": "stream",
          "text": [
            "Training and evaluating model with params: {'epochs': 10, 'min_count': 1, 'vector_size': 25, 'acc': ''}\n"
          ],
          "name": "stdout"
        },
        {
          "output_type": "stream",
          "text": [
            "/usr/local/lib/python3.6/dist-packages/gensim/matutils.py:737: FutureWarning: Conversion of the second argument of issubdtype from `int` to `np.signedinteger` is deprecated. In future, it will be treated as `np.int64 == np.dtype(int).type`.\n",
            "  if np.issubdtype(vec.dtype, np.int):\n"
          ],
          "name": "stderr"
        },
        {
          "output_type": "stream",
          "text": [
            "Model weighted accuracy over 984 test documents: 38.46544715447154%.\n",
            "Training and evaluating model with params: {'epochs': 10, 'min_count': 1, 'vector_size': 50, 'acc': ''}\n",
            "Model weighted accuracy over 984 test documents: 40.65040650406504%.\n",
            "Training and evaluating model with params: {'epochs': 10, 'min_count': 1, 'vector_size': 75, 'acc': ''}\n",
            "Model weighted accuracy over 984 test documents: 42.47967479674797%.\n",
            "Training and evaluating model with params: {'epochs': 10, 'min_count': 1, 'vector_size': 100, 'acc': ''}\n",
            "Model weighted accuracy over 984 test documents: 40.853658536585364%.\n",
            "Training and evaluating model with params: {'epochs': 30, 'min_count': 1, 'vector_size': 25, 'acc': ''}\n",
            "Model weighted accuracy over 984 test documents: 58.790650406504064%.\n",
            "Training and evaluating model with params: {'epochs': 30, 'min_count': 1, 'vector_size': 50, 'acc': ''}\n",
            "Model weighted accuracy over 984 test documents: 58.58739837398373%.\n",
            "Training and evaluating model with params: {'epochs': 30, 'min_count': 1, 'vector_size': 75, 'acc': ''}\n",
            "Model weighted accuracy over 984 test documents: 58.18089430894309%.\n",
            "Training and evaluating model with params: {'epochs': 30, 'min_count': 1, 'vector_size': 100, 'acc': ''}\n",
            "Model weighted accuracy over 984 test documents: 57.367886178861795%.\n",
            "Training and evaluating model with params: {'epochs': 50, 'min_count': 1, 'vector_size': 25, 'acc': ''}\n",
            "Model weighted accuracy over 984 test documents: 67.78455284552845%.\n",
            "Training and evaluating model with params: {'epochs': 50, 'min_count': 1, 'vector_size': 50, 'acc': ''}\n",
            "Model weighted accuracy over 984 test documents: 68.39430894308943%.\n",
            "Training and evaluating model with params: {'epochs': 50, 'min_count': 1, 'vector_size': 75, 'acc': ''}\n",
            "Model weighted accuracy over 984 test documents: 68.24186991869918%.\n",
            "Training and evaluating model with params: {'epochs': 50, 'min_count': 1, 'vector_size': 100, 'acc': ''}\n",
            "Model weighted accuracy over 984 test documents: 68.1910569105691%.\n"
          ],
          "name": "stdout"
        }
      ]
    },
    {
      "cell_type": "code",
      "metadata": {
        "id": "niS07SMljDJE",
        "colab_type": "code",
        "colab": {}
      },
      "source": [
        "grid2=[{\"epochs\": 60,\"min_count\": 1,\"vector_size\":25,\"acc\":\"\"},\n",
        "      {\"epochs\": 60,\"min_count\": 1,\"vector_size\":50,\"acc\":\"\"},\n",
        "      {\"epochs\": 60,\"min_count\": 1,\"vector_size\":75,\"acc\":\"\"},\n",
        "      {\"epochs\": 60,\"min_count\": 1,\"vector_size\":100,\"acc\":\"\"},\n",
        "      {\"epochs\": 70,\"min_count\": 1,\"vector_size\":25,\"acc\":\"\"},\n",
        "      {\"epochs\": 70,\"min_count\": 1,\"vector_size\":50,\"acc\":\"\"},\n",
        "      {\"epochs\": 70,\"min_count\": 1,\"vector_size\":75,\"acc\":\"\"},\n",
        "      {\"epochs\": 70,\"min_count\": 1,\"vector_size\":100,\"acc\":\"\"},\n",
        "      {\"epochs\": 80,\"min_count\": 1,\"vector_size\":25,\"acc\":\"\"},\n",
        "      {\"epochs\": 80,\"min_count\": 1,\"vector_size\":50,\"acc\":\"\"},\n",
        "      {\"epochs\": 80,\"min_count\": 1,\"vector_size\":75,\"acc\":\"\"},\n",
        "      {\"epochs\": 80,\"min_count\": 1,\"vector_size\":100,\"acc\":\"\"},\n",
        "      {\"epochs\": 90,\"min_count\": 1,\"vector_size\":25,\"acc\":\"\"},\n",
        "      {\"epochs\": 90,\"min_count\": 1,\"vector_size\":50,\"acc\":\"\"},\n",
        "      {\"epochs\": 90,\"min_count\": 1,\"vector_size\":75,\"acc\":\"\"},\n",
        "      {\"epochs\": 90,\"min_count\": 1,\"vector_size\":100,\"acc\":\"\"},\n",
        "      {\"epochs\": 100,\"min_count\": 1,\"vector_size\":25,\"acc\":\"\"},\n",
        "      {\"epochs\": 100,\"min_count\": 1,\"vector_size\":50,\"acc\":\"\"},\n",
        "      {\"epochs\": 100,\"min_count\": 1,\"vector_size\":75,\"acc\":\"\"},\n",
        "      {\"epochs\": 100,\"min_count\": 1,\"vector_size\":100,\"acc\":\"\"},\n",
        "      {\"epochs\": 125,\"min_count\": 1,\"vector_size\":25,\"acc\":\"\"},\n",
        "      {\"epochs\": 125,\"min_count\": 1,\"vector_size\":50,\"acc\":\"\"},\n",
        "      {\"epochs\": 125,\"min_count\": 1,\"vector_size\":75,\"acc\":\"\"},\n",
        "      {\"epochs\": 125,\"min_count\": 1,\"vector_size\":100,\"acc\":\"\"},\n",
        "      {\"epochs\": 150,\"min_count\": 1,\"vector_size\":25,\"acc\":\"\"},\n",
        "      {\"epochs\": 150,\"min_count\": 1,\"vector_size\":50,\"acc\":\"\"},\n",
        "      {\"epochs\": 150,\"min_count\": 1,\"vector_size\":75,\"acc\":\"\"},\n",
        "      {\"epochs\": 150,\"min_count\": 1,\"vector_size\":100,\"acc\":\"\"}\n",
        "      ]"
      ],
      "execution_count": 0,
      "outputs": []
    },
    {
      "cell_type": "code",
      "metadata": {
        "id": "9Dgcza0wlMrz",
        "colab_type": "code",
        "outputId": "3a5c877b-f47e-4e1f-c8b0-cd2f67b01723",
        "colab": {
          "base_uri": "https://localhost:8080/",
          "height": 1000
        }
      },
      "source": [
        "grid_predictions = list()\n",
        "grid_accs = list()\n",
        "\n",
        "for elem in grid2:\n",
        "    model = gensim.models.doc2vec.Doc2Vec(vector_size=elem[\"vector_size\"], \n",
        "                                          min_count=elem[\"min_count\"], \n",
        "                                          epochs=elem[\"epochs\"])\n",
        "\n",
        "    model.build_vocab(train_corpus)\n",
        "    print(\"Training and evaluating model with params:\",elem)\n",
        "    model.train(train_corpus, total_examples=model.corpus_count, epochs=model.epochs)\n",
        "\n",
        "    model_preds, model_acc_list = doc_utils.evaluate_model(model, test_corpus, test_labels, eval=\"weighted\")\n",
        "\n",
        "    grid_predictions.append(model_preds)\n",
        "    elem[\"acc\"] = np.mean(model_acc_list) * 100\n",
        "    grid_accs.append(model_acc_list)"
      ],
      "execution_count": 0,
      "outputs": [
        {
          "output_type": "stream",
          "text": [
            "Training and evaluating model with params: {'epochs': 60, 'min_count': 1, 'vector_size': 25, 'acc': ''}\n"
          ],
          "name": "stdout"
        },
        {
          "output_type": "stream",
          "text": [
            "/usr/local/lib/python3.6/dist-packages/gensim/matutils.py:737: FutureWarning: Conversion of the second argument of issubdtype from `int` to `np.signedinteger` is deprecated. In future, it will be treated as `np.int64 == np.dtype(int).type`.\n",
            "  if np.issubdtype(vec.dtype, np.int):\n"
          ],
          "name": "stderr"
        },
        {
          "output_type": "stream",
          "text": [
            "Model weighted accuracy over 984 test documents: 66.0060975609756%.\n",
            "Training and evaluating model with params: {'epochs': 60, 'min_count': 1, 'vector_size': 50, 'acc': ''}\n",
            "Model weighted accuracy over 984 test documents: 65.4979674796748%.\n",
            "Training and evaluating model with params: {'epochs': 60, 'min_count': 1, 'vector_size': 75, 'acc': ''}\n",
            "Model weighted accuracy over 984 test documents: 66.0060975609756%.\n",
            "Training and evaluating model with params: {'epochs': 60, 'min_count': 1, 'vector_size': 100, 'acc': ''}\n",
            "Model weighted accuracy over 984 test documents: 65.8028455284553%.\n",
            "Training and evaluating model with params: {'epochs': 70, 'min_count': 1, 'vector_size': 25, 'acc': ''}\n",
            "Model weighted accuracy over 984 test documents: 64.1260162601626%.\n",
            "Training and evaluating model with params: {'epochs': 70, 'min_count': 1, 'vector_size': 50, 'acc': ''}\n",
            "Model weighted accuracy over 984 test documents: 64.22764227642277%.\n",
            "Training and evaluating model with params: {'epochs': 70, 'min_count': 1, 'vector_size': 75, 'acc': ''}\n",
            "Model weighted accuracy over 984 test documents: 64.73577235772358%.\n",
            "Training and evaluating model with params: {'epochs': 70, 'min_count': 1, 'vector_size': 100, 'acc': ''}\n",
            "Model weighted accuracy over 984 test documents: 63.87195121951219%.\n",
            "Training and evaluating model with params: {'epochs': 80, 'min_count': 1, 'vector_size': 25, 'acc': ''}\n",
            "Model weighted accuracy over 984 test documents: 63.00813008130082%.\n",
            "Training and evaluating model with params: {'epochs': 80, 'min_count': 1, 'vector_size': 50, 'acc': ''}\n",
            "Model weighted accuracy over 984 test documents: 62.601626016260155%.\n",
            "Training and evaluating model with params: {'epochs': 80, 'min_count': 1, 'vector_size': 75, 'acc': ''}\n",
            "Model weighted accuracy over 984 test documents: 62.90650406504065%.\n",
            "Training and evaluating model with params: {'epochs': 80, 'min_count': 1, 'vector_size': 100, 'acc': ''}\n",
            "Model weighted accuracy over 984 test documents: 63.16056910569105%.\n",
            "Training and evaluating model with params: {'epochs': 90, 'min_count': 1, 'vector_size': 25, 'acc': ''}\n",
            "Model weighted accuracy over 984 test documents: 61.17886178861789%.\n",
            "Training and evaluating model with params: {'epochs': 90, 'min_count': 1, 'vector_size': 50, 'acc': ''}\n",
            "Model weighted accuracy over 984 test documents: 60.61991869918699%.\n",
            "Training and evaluating model with params: {'epochs': 90, 'min_count': 1, 'vector_size': 75, 'acc': ''}\n",
            "Model weighted accuracy over 984 test documents: 62.09349593495935%.\n",
            "Training and evaluating model with params: {'epochs': 90, 'min_count': 1, 'vector_size': 100, 'acc': ''}\n",
            "Model weighted accuracy over 984 test documents: 62.29674796747967%.\n",
            "Training and evaluating model with params: {'epochs': 100, 'min_count': 1, 'vector_size': 25, 'acc': ''}\n",
            "Model weighted accuracy over 984 test documents: 60.213414634146346%.\n",
            "Training and evaluating model with params: {'epochs': 100, 'min_count': 1, 'vector_size': 50, 'acc': ''}\n",
            "Model weighted accuracy over 984 test documents: 60.61991869918699%.\n",
            "Training and evaluating model with params: {'epochs': 100, 'min_count': 1, 'vector_size': 75, 'acc': ''}\n",
            "Model weighted accuracy over 984 test documents: 59.80691056910569%.\n",
            "Training and evaluating model with params: {'epochs': 100, 'min_count': 1, 'vector_size': 100, 'acc': ''}\n",
            "Model weighted accuracy over 984 test documents: 60.61991869918699%.\n",
            "Training and evaluating model with params: {'epochs': 125, 'min_count': 1, 'vector_size': 25, 'acc': ''}\n",
            "Model weighted accuracy over 984 test documents: 56.605691056910565%.\n",
            "Training and evaluating model with params: {'epochs': 125, 'min_count': 1, 'vector_size': 50, 'acc': ''}\n",
            "Model weighted accuracy over 984 test documents: 56.91056910569105%.\n",
            "Training and evaluating model with params: {'epochs': 125, 'min_count': 1, 'vector_size': 75, 'acc': ''}\n",
            "Model weighted accuracy over 984 test documents: 58.13008130081301%.\n",
            "Training and evaluating model with params: {'epochs': 125, 'min_count': 1, 'vector_size': 100, 'acc': ''}\n",
            "Model weighted accuracy over 984 test documents: 56.75813008130082%.\n",
            "Training and evaluating model with params: {'epochs': 150, 'min_count': 1, 'vector_size': 25, 'acc': ''}\n",
            "Model weighted accuracy over 984 test documents: 55.74186991869918%.\n",
            "Training and evaluating model with params: {'epochs': 150, 'min_count': 1, 'vector_size': 50, 'acc': ''}\n",
            "Model weighted accuracy over 984 test documents: 56.40243902439024%.\n",
            "Training and evaluating model with params: {'epochs': 150, 'min_count': 1, 'vector_size': 75, 'acc': ''}\n",
            "Model weighted accuracy over 984 test documents: 57.16463414634146%.\n",
            "Training and evaluating model with params: {'epochs': 150, 'min_count': 1, 'vector_size': 100, 'acc': ''}\n",
            "Model weighted accuracy over 984 test documents: 56.55487804878049%.\n"
          ],
          "name": "stdout"
        }
      ]
    },
    {
      "cell_type": "code",
      "metadata": {
        "id": "kUqLmAvElPr2",
        "colab_type": "code",
        "colab": {}
      },
      "source": [
        "grid3=[{\"epochs\":60,\"min_count\": 1,\"vector_size\":125,\"acc\":\"\"},\n",
        "      {\"epochs\": 60,\"min_count\": 1,\"vector_size\":150,\"acc\":\"\"},\n",
        "      {\"epochs\": 60,\"min_count\": 1,\"vector_size\":175,\"acc\":\"\"},\n",
        "      {\"epochs\": 60,\"min_count\": 1,\"vector_size\":200,\"acc\":\"\"},\n",
        "      {\"epochs\":70,\"min_count\": 1,\"vector_size\":125,\"acc\":\"\"},\n",
        "      {\"epochs\": 70,\"min_count\": 1,\"vector_size\":150,\"acc\":\"\"},\n",
        "      {\"epochs\": 70,\"min_count\": 1,\"vector_size\":175,\"acc\":\"\"},\n",
        "      {\"epochs\": 70,\"min_count\": 1,\"vector_size\":200,\"acc\":\"\"},\n",
        "      {\"epochs\": 90,\"min_count\": 1,\"vector_size\":125,\"acc\":\"\"},\n",
        "      {\"epochs\": 90,\"min_count\": 1,\"vector_size\":150,\"acc\":\"\"},\n",
        "      {\"epochs\": 90,\"min_count\": 1,\"vector_size\":175,\"acc\":\"\"},\n",
        "      {\"epochs\": 90,\"min_count\": 1,\"vector_size\":200,\"acc\":\"\"},\n",
        "      {\"epochs\": 100,\"min_count\": 1,\"vector_size\":125,\"acc\":\"\"},\n",
        "      {\"epochs\": 100,\"min_count\": 1,\"vector_size\":150,\"acc\":\"\"},\n",
        "      {\"epochs\": 100,\"min_count\": 1,\"vector_size\":175,\"acc\":\"\"},\n",
        "      {\"epochs\": 100,\"min_count\": 1,\"vector_size\":200,\"acc\":\"\"},\n",
        "      ]"
      ],
      "execution_count": 0,
      "outputs": []
    },
    {
      "cell_type": "code",
      "metadata": {
        "id": "pAbInZVTvUNp",
        "colab_type": "code",
        "outputId": "0b565d96-e337-4d4f-e1e0-a6640c6d1d93",
        "colab": {
          "base_uri": "https://localhost:8080/",
          "height": 615
        }
      },
      "source": [
        "grid_predictions = list()\n",
        "grid_accs = list()\n",
        "\n",
        "for elem in grid3:\n",
        "    model = gensim.models.doc2vec.Doc2Vec(vector_size=elem[\"vector_size\"], \n",
        "                                          min_count=elem[\"min_count\"], \n",
        "                                          epochs=elem[\"epochs\"])\n",
        "\n",
        "    model.build_vocab(train_corpus)\n",
        "    print(\"Training and evaluating model with params:\",elem)\n",
        "    model.train(train_corpus, total_examples=model.corpus_count, epochs=model.epochs)\n",
        "\n",
        "    model_preds, model_acc_list = doc_utils.evaluate_model(model, test_corpus, test_labels, eval=\"weighted\")\n",
        "\n",
        "    grid_predictions.append(model_preds)\n",
        "    elem[\"acc\"] = np.mean(model_acc_list) * 100\n",
        "    grid_accs.append(model_acc_list)"
      ],
      "execution_count": 0,
      "outputs": [
        {
          "output_type": "stream",
          "text": [
            "Training and evaluating model with params: {'epochs': 60, 'min_count': 1, 'vector_size': 125, 'acc': ''}\n"
          ],
          "name": "stdout"
        },
        {
          "output_type": "stream",
          "text": [
            "/usr/local/lib/python3.6/dist-packages/gensim/matutils.py:737: FutureWarning: Conversion of the second argument of issubdtype from `int` to `np.signedinteger` is deprecated. In future, it will be treated as `np.int64 == np.dtype(int).type`.\n",
            "  if np.issubdtype(vec.dtype, np.int):\n"
          ],
          "name": "stderr"
        },
        {
          "output_type": "stream",
          "text": [
            "Model weighted accuracy over 984 test documents: 66.20934959349594%.\n",
            "Training and evaluating model with params: {'epochs': 60, 'min_count': 1, 'vector_size': 150, 'acc': ''}\n",
            "Model weighted accuracy over 984 test documents: 65.85365853658537%.\n",
            "Training and evaluating model with params: {'epochs': 60, 'min_count': 1, 'vector_size': 175, 'acc': ''}\n",
            "Model weighted accuracy over 984 test documents: 66.3109756097561%.\n",
            "Training and evaluating model with params: {'epochs': 60, 'min_count': 1, 'vector_size': 200, 'acc': ''}\n",
            "Model weighted accuracy over 984 test documents: 66.05691056910568%.\n",
            "Training and evaluating model with params: {'epochs': 70, 'min_count': 1, 'vector_size': 125, 'acc': ''}\n",
            "Model weighted accuracy over 984 test documents: 64.02439024390245%.\n",
            "Training and evaluating model with params: {'epochs': 70, 'min_count': 1, 'vector_size': 150, 'acc': ''}\n",
            "Model weighted accuracy over 984 test documents: 64.53252032520325%.\n",
            "Training and evaluating model with params: {'epochs': 70, 'min_count': 1, 'vector_size': 175, 'acc': ''}\n",
            "Model weighted accuracy over 984 test documents: 64.58333333333334%.\n",
            "Training and evaluating model with params: {'epochs': 70, 'min_count': 1, 'vector_size': 200, 'acc': ''}\n",
            "Model weighted accuracy over 984 test documents: 65.65040650406505%.\n",
            "Training and evaluating model with params: {'epochs': 90, 'min_count': 1, 'vector_size': 125, 'acc': ''}\n",
            "Model weighted accuracy over 984 test documents: 61.890243902439025%.\n",
            "Training and evaluating model with params: {'epochs': 90, 'min_count': 1, 'vector_size': 150, 'acc': ''}\n",
            "Model weighted accuracy over 984 test documents: 61.58536585365854%.\n",
            "Training and evaluating model with params: {'epochs': 90, 'min_count': 1, 'vector_size': 175, 'acc': ''}\n",
            "Model weighted accuracy over 984 test documents: 61.890243902439025%.\n",
            "Training and evaluating model with params: {'epochs': 90, 'min_count': 1, 'vector_size': 200, 'acc': ''}\n",
            "Model weighted accuracy over 984 test documents: 61.9410569105691%.\n",
            "Training and evaluating model with params: {'epochs': 100, 'min_count': 1, 'vector_size': 125, 'acc': ''}\n",
            "Model weighted accuracy over 984 test documents: 61.28048780487805%.\n",
            "Training and evaluating model with params: {'epochs': 100, 'min_count': 1, 'vector_size': 150, 'acc': ''}\n",
            "Model weighted accuracy over 984 test documents: 60.518292682926834%.\n",
            "Training and evaluating model with params: {'epochs': 100, 'min_count': 1, 'vector_size': 175, 'acc': ''}\n",
            "Model weighted accuracy over 984 test documents: 60.518292682926834%.\n",
            "Training and evaluating model with params: {'epochs': 100, 'min_count': 1, 'vector_size': 200, 'acc': ''}\n",
            "Model weighted accuracy over 984 test documents: 60.416666666666664%.\n"
          ],
          "name": "stdout"
        }
      ]
    },
    {
      "cell_type": "code",
      "metadata": {
        "id": "BeZWo-iSvZPj",
        "colab_type": "code",
        "colab": {}
      },
      "source": [
        "#todo: play with \"alpha\" parameter?"
      ],
      "execution_count": 0,
      "outputs": []
    }
  ]
}