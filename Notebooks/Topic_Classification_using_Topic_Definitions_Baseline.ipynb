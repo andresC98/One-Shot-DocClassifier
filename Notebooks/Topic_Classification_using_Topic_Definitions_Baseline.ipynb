{
  "nbformat": 4,
  "nbformat_minor": 0,
  "metadata": {
    "colab": {
      "name": "[TFG] Topic Classification using Topic Definitions - Baseline.ipynb",
      "provenance": [],
      "collapsed_sections": [],
      "toc_visible": true
    },
    "kernelspec": {
      "name": "python3",
      "display_name": "Python 3"
    },
    "widgets": {
      "application/vnd.jupyter.widget-state+json": {
        "7c349553fcc54b3492630ae9ea0885ac": {
          "model_module": "@jupyter-widgets/controls",
          "model_name": "HBoxModel",
          "state": {
            "_view_name": "HBoxView",
            "_dom_classes": [],
            "_model_name": "HBoxModel",
            "_view_module": "@jupyter-widgets/controls",
            "_model_module_version": "1.5.0",
            "_view_count": null,
            "_view_module_version": "1.5.0",
            "box_style": "",
            "layout": "IPY_MODEL_fdffa9f2401c4f3caa77c4d3e121ab06",
            "_model_module": "@jupyter-widgets/controls",
            "children": [
              "IPY_MODEL_898ccd361634436c9431d7343baeca69",
              "IPY_MODEL_13644c8efd1f47d8a2528393a1733b38"
            ]
          }
        },
        "fdffa9f2401c4f3caa77c4d3e121ab06": {
          "model_module": "@jupyter-widgets/base",
          "model_name": "LayoutModel",
          "state": {
            "_view_name": "LayoutView",
            "grid_template_rows": null,
            "right": null,
            "justify_content": null,
            "_view_module": "@jupyter-widgets/base",
            "overflow": null,
            "_model_module_version": "1.2.0",
            "_view_count": null,
            "flex_flow": null,
            "width": null,
            "min_width": null,
            "border": null,
            "align_items": null,
            "bottom": null,
            "_model_module": "@jupyter-widgets/base",
            "top": null,
            "grid_column": null,
            "overflow_y": null,
            "overflow_x": null,
            "grid_auto_flow": null,
            "grid_area": null,
            "grid_template_columns": null,
            "flex": null,
            "_model_name": "LayoutModel",
            "justify_items": null,
            "grid_row": null,
            "max_height": null,
            "align_content": null,
            "visibility": null,
            "align_self": null,
            "height": null,
            "min_height": null,
            "padding": null,
            "grid_auto_rows": null,
            "grid_gap": null,
            "max_width": null,
            "order": null,
            "_view_module_version": "1.2.0",
            "grid_template_areas": null,
            "object_position": null,
            "object_fit": null,
            "grid_auto_columns": null,
            "margin": null,
            "display": null,
            "left": null
          }
        },
        "898ccd361634436c9431d7343baeca69": {
          "model_module": "@jupyter-widgets/controls",
          "model_name": "IntProgressModel",
          "state": {
            "_view_name": "ProgressView",
            "style": "IPY_MODEL_b2663e20e894457b8150d6227cdf4173",
            "_dom_classes": [],
            "description": "",
            "_model_name": "IntProgressModel",
            "bar_style": "success",
            "max": 30,
            "_view_module": "@jupyter-widgets/controls",
            "_model_module_version": "1.5.0",
            "value": 30,
            "_view_count": null,
            "_view_module_version": "1.5.0",
            "orientation": "horizontal",
            "min": 0,
            "description_tooltip": null,
            "_model_module": "@jupyter-widgets/controls",
            "layout": "IPY_MODEL_e33b231dc4e8447ca5d711e7c89b5c61"
          }
        },
        "13644c8efd1f47d8a2528393a1733b38": {
          "model_module": "@jupyter-widgets/controls",
          "model_name": "HTMLModel",
          "state": {
            "_view_name": "HTMLView",
            "style": "IPY_MODEL_a357244b27424e5597f7abfb88b1c3b5",
            "_dom_classes": [],
            "description": "",
            "_model_name": "HTMLModel",
            "placeholder": "​",
            "_view_module": "@jupyter-widgets/controls",
            "_model_module_version": "1.5.0",
            "value": "100% 30/30 [02:16&lt;00:00,  4.74s/it]",
            "_view_count": null,
            "_view_module_version": "1.5.0",
            "description_tooltip": null,
            "_model_module": "@jupyter-widgets/controls",
            "layout": "IPY_MODEL_7472b4faf0fa4739a91be2a033b7ef18"
          }
        },
        "b2663e20e894457b8150d6227cdf4173": {
          "model_module": "@jupyter-widgets/controls",
          "model_name": "ProgressStyleModel",
          "state": {
            "_view_name": "StyleView",
            "_model_name": "ProgressStyleModel",
            "description_width": "",
            "_view_module": "@jupyter-widgets/base",
            "_model_module_version": "1.5.0",
            "_view_count": null,
            "_view_module_version": "1.2.0",
            "bar_color": null,
            "_model_module": "@jupyter-widgets/controls"
          }
        },
        "e33b231dc4e8447ca5d711e7c89b5c61": {
          "model_module": "@jupyter-widgets/base",
          "model_name": "LayoutModel",
          "state": {
            "_view_name": "LayoutView",
            "grid_template_rows": null,
            "right": null,
            "justify_content": null,
            "_view_module": "@jupyter-widgets/base",
            "overflow": null,
            "_model_module_version": "1.2.0",
            "_view_count": null,
            "flex_flow": null,
            "width": null,
            "min_width": null,
            "border": null,
            "align_items": null,
            "bottom": null,
            "_model_module": "@jupyter-widgets/base",
            "top": null,
            "grid_column": null,
            "overflow_y": null,
            "overflow_x": null,
            "grid_auto_flow": null,
            "grid_area": null,
            "grid_template_columns": null,
            "flex": null,
            "_model_name": "LayoutModel",
            "justify_items": null,
            "grid_row": null,
            "max_height": null,
            "align_content": null,
            "visibility": null,
            "align_self": null,
            "height": null,
            "min_height": null,
            "padding": null,
            "grid_auto_rows": null,
            "grid_gap": null,
            "max_width": null,
            "order": null,
            "_view_module_version": "1.2.0",
            "grid_template_areas": null,
            "object_position": null,
            "object_fit": null,
            "grid_auto_columns": null,
            "margin": null,
            "display": null,
            "left": null
          }
        },
        "a357244b27424e5597f7abfb88b1c3b5": {
          "model_module": "@jupyter-widgets/controls",
          "model_name": "DescriptionStyleModel",
          "state": {
            "_view_name": "StyleView",
            "_model_name": "DescriptionStyleModel",
            "description_width": "",
            "_view_module": "@jupyter-widgets/base",
            "_model_module_version": "1.5.0",
            "_view_count": null,
            "_view_module_version": "1.2.0",
            "_model_module": "@jupyter-widgets/controls"
          }
        },
        "7472b4faf0fa4739a91be2a033b7ef18": {
          "model_module": "@jupyter-widgets/base",
          "model_name": "LayoutModel",
          "state": {
            "_view_name": "LayoutView",
            "grid_template_rows": null,
            "right": null,
            "justify_content": null,
            "_view_module": "@jupyter-widgets/base",
            "overflow": null,
            "_model_module_version": "1.2.0",
            "_view_count": null,
            "flex_flow": null,
            "width": null,
            "min_width": null,
            "border": null,
            "align_items": null,
            "bottom": null,
            "_model_module": "@jupyter-widgets/base",
            "top": null,
            "grid_column": null,
            "overflow_y": null,
            "overflow_x": null,
            "grid_auto_flow": null,
            "grid_area": null,
            "grid_template_columns": null,
            "flex": null,
            "_model_name": "LayoutModel",
            "justify_items": null,
            "grid_row": null,
            "max_height": null,
            "align_content": null,
            "visibility": null,
            "align_self": null,
            "height": null,
            "min_height": null,
            "padding": null,
            "grid_auto_rows": null,
            "grid_gap": null,
            "max_width": null,
            "order": null,
            "_view_module_version": "1.2.0",
            "grid_template_areas": null,
            "object_position": null,
            "object_fit": null,
            "grid_auto_columns": null,
            "margin": null,
            "display": null,
            "left": null
          }
        },
        "9fe09e01f0fb4392b9417b3477896b97": {
          "model_module": "@jupyter-widgets/controls",
          "model_name": "HBoxModel",
          "state": {
            "_view_name": "HBoxView",
            "_dom_classes": [],
            "_model_name": "HBoxModel",
            "_view_module": "@jupyter-widgets/controls",
            "_model_module_version": "1.5.0",
            "_view_count": null,
            "_view_module_version": "1.5.0",
            "box_style": "",
            "layout": "IPY_MODEL_5c42ae4b2703485fb3dc32b570993b34",
            "_model_module": "@jupyter-widgets/controls",
            "children": [
              "IPY_MODEL_c22d986527004a2c90cdaa8ad25d79f9",
              "IPY_MODEL_51b18bdfcc5242dfb555fa7a290934fa"
            ]
          }
        },
        "5c42ae4b2703485fb3dc32b570993b34": {
          "model_module": "@jupyter-widgets/base",
          "model_name": "LayoutModel",
          "state": {
            "_view_name": "LayoutView",
            "grid_template_rows": null,
            "right": null,
            "justify_content": null,
            "_view_module": "@jupyter-widgets/base",
            "overflow": null,
            "_model_module_version": "1.2.0",
            "_view_count": null,
            "flex_flow": null,
            "width": null,
            "min_width": null,
            "border": null,
            "align_items": null,
            "bottom": null,
            "_model_module": "@jupyter-widgets/base",
            "top": null,
            "grid_column": null,
            "overflow_y": null,
            "overflow_x": null,
            "grid_auto_flow": null,
            "grid_area": null,
            "grid_template_columns": null,
            "flex": null,
            "_model_name": "LayoutModel",
            "justify_items": null,
            "grid_row": null,
            "max_height": null,
            "align_content": null,
            "visibility": null,
            "align_self": null,
            "height": null,
            "min_height": null,
            "padding": null,
            "grid_auto_rows": null,
            "grid_gap": null,
            "max_width": null,
            "order": null,
            "_view_module_version": "1.2.0",
            "grid_template_areas": null,
            "object_position": null,
            "object_fit": null,
            "grid_auto_columns": null,
            "margin": null,
            "display": null,
            "left": null
          }
        },
        "c22d986527004a2c90cdaa8ad25d79f9": {
          "model_module": "@jupyter-widgets/controls",
          "model_name": "IntProgressModel",
          "state": {
            "_view_name": "ProgressView",
            "style": "IPY_MODEL_4582dc935d614c25a52516077484e39e",
            "_dom_classes": [],
            "description": "",
            "_model_name": "IntProgressModel",
            "bar_style": "success",
            "max": 30,
            "_view_module": "@jupyter-widgets/controls",
            "_model_module_version": "1.5.0",
            "value": 30,
            "_view_count": null,
            "_view_module_version": "1.5.0",
            "orientation": "horizontal",
            "min": 0,
            "description_tooltip": null,
            "_model_module": "@jupyter-widgets/controls",
            "layout": "IPY_MODEL_cf65769439104918b2e61ee7de27c62a"
          }
        },
        "51b18bdfcc5242dfb555fa7a290934fa": {
          "model_module": "@jupyter-widgets/controls",
          "model_name": "HTMLModel",
          "state": {
            "_view_name": "HTMLView",
            "style": "IPY_MODEL_63e7b263d60a4dc09cd99e0c33de2a5f",
            "_dom_classes": [],
            "description": "",
            "_model_name": "HTMLModel",
            "placeholder": "​",
            "_view_module": "@jupyter-widgets/controls",
            "_model_module_version": "1.5.0",
            "value": "100% 30/30 [02:13&lt;00:00,  4.40s/it]",
            "_view_count": null,
            "_view_module_version": "1.5.0",
            "description_tooltip": null,
            "_model_module": "@jupyter-widgets/controls",
            "layout": "IPY_MODEL_84193556c0744cacbdec65246edb62de"
          }
        },
        "4582dc935d614c25a52516077484e39e": {
          "model_module": "@jupyter-widgets/controls",
          "model_name": "ProgressStyleModel",
          "state": {
            "_view_name": "StyleView",
            "_model_name": "ProgressStyleModel",
            "description_width": "",
            "_view_module": "@jupyter-widgets/base",
            "_model_module_version": "1.5.0",
            "_view_count": null,
            "_view_module_version": "1.2.0",
            "bar_color": null,
            "_model_module": "@jupyter-widgets/controls"
          }
        },
        "cf65769439104918b2e61ee7de27c62a": {
          "model_module": "@jupyter-widgets/base",
          "model_name": "LayoutModel",
          "state": {
            "_view_name": "LayoutView",
            "grid_template_rows": null,
            "right": null,
            "justify_content": null,
            "_view_module": "@jupyter-widgets/base",
            "overflow": null,
            "_model_module_version": "1.2.0",
            "_view_count": null,
            "flex_flow": null,
            "width": null,
            "min_width": null,
            "border": null,
            "align_items": null,
            "bottom": null,
            "_model_module": "@jupyter-widgets/base",
            "top": null,
            "grid_column": null,
            "overflow_y": null,
            "overflow_x": null,
            "grid_auto_flow": null,
            "grid_area": null,
            "grid_template_columns": null,
            "flex": null,
            "_model_name": "LayoutModel",
            "justify_items": null,
            "grid_row": null,
            "max_height": null,
            "align_content": null,
            "visibility": null,
            "align_self": null,
            "height": null,
            "min_height": null,
            "padding": null,
            "grid_auto_rows": null,
            "grid_gap": null,
            "max_width": null,
            "order": null,
            "_view_module_version": "1.2.0",
            "grid_template_areas": null,
            "object_position": null,
            "object_fit": null,
            "grid_auto_columns": null,
            "margin": null,
            "display": null,
            "left": null
          }
        },
        "63e7b263d60a4dc09cd99e0c33de2a5f": {
          "model_module": "@jupyter-widgets/controls",
          "model_name": "DescriptionStyleModel",
          "state": {
            "_view_name": "StyleView",
            "_model_name": "DescriptionStyleModel",
            "description_width": "",
            "_view_module": "@jupyter-widgets/base",
            "_model_module_version": "1.5.0",
            "_view_count": null,
            "_view_module_version": "1.2.0",
            "_model_module": "@jupyter-widgets/controls"
          }
        },
        "84193556c0744cacbdec65246edb62de": {
          "model_module": "@jupyter-widgets/base",
          "model_name": "LayoutModel",
          "state": {
            "_view_name": "LayoutView",
            "grid_template_rows": null,
            "right": null,
            "justify_content": null,
            "_view_module": "@jupyter-widgets/base",
            "overflow": null,
            "_model_module_version": "1.2.0",
            "_view_count": null,
            "flex_flow": null,
            "width": null,
            "min_width": null,
            "border": null,
            "align_items": null,
            "bottom": null,
            "_model_module": "@jupyter-widgets/base",
            "top": null,
            "grid_column": null,
            "overflow_y": null,
            "overflow_x": null,
            "grid_auto_flow": null,
            "grid_area": null,
            "grid_template_columns": null,
            "flex": null,
            "_model_name": "LayoutModel",
            "justify_items": null,
            "grid_row": null,
            "max_height": null,
            "align_content": null,
            "visibility": null,
            "align_self": null,
            "height": null,
            "min_height": null,
            "padding": null,
            "grid_auto_rows": null,
            "grid_gap": null,
            "max_width": null,
            "order": null,
            "_view_module_version": "1.2.0",
            "grid_template_areas": null,
            "object_position": null,
            "object_fit": null,
            "grid_auto_columns": null,
            "margin": null,
            "display": null,
            "left": null
          }
        },
        "65db4644cfb1459db3aa430a90db24b3": {
          "model_module": "@jupyter-widgets/controls",
          "model_name": "HBoxModel",
          "state": {
            "_view_name": "HBoxView",
            "_dom_classes": [],
            "_model_name": "HBoxModel",
            "_view_module": "@jupyter-widgets/controls",
            "_model_module_version": "1.5.0",
            "_view_count": null,
            "_view_module_version": "1.5.0",
            "box_style": "",
            "layout": "IPY_MODEL_9bb11d26e8f74eba931fa1ba4ff48c9e",
            "_model_module": "@jupyter-widgets/controls",
            "children": [
              "IPY_MODEL_4040b15ee8d24843afdf9e0638272e0b",
              "IPY_MODEL_14701d77bdc34032a6759a9ed91aebad"
            ]
          }
        },
        "9bb11d26e8f74eba931fa1ba4ff48c9e": {
          "model_module": "@jupyter-widgets/base",
          "model_name": "LayoutModel",
          "state": {
            "_view_name": "LayoutView",
            "grid_template_rows": null,
            "right": null,
            "justify_content": null,
            "_view_module": "@jupyter-widgets/base",
            "overflow": null,
            "_model_module_version": "1.2.0",
            "_view_count": null,
            "flex_flow": null,
            "width": null,
            "min_width": null,
            "border": null,
            "align_items": null,
            "bottom": null,
            "_model_module": "@jupyter-widgets/base",
            "top": null,
            "grid_column": null,
            "overflow_y": null,
            "overflow_x": null,
            "grid_auto_flow": null,
            "grid_area": null,
            "grid_template_columns": null,
            "flex": null,
            "_model_name": "LayoutModel",
            "justify_items": null,
            "grid_row": null,
            "max_height": null,
            "align_content": null,
            "visibility": null,
            "align_self": null,
            "height": null,
            "min_height": null,
            "padding": null,
            "grid_auto_rows": null,
            "grid_gap": null,
            "max_width": null,
            "order": null,
            "_view_module_version": "1.2.0",
            "grid_template_areas": null,
            "object_position": null,
            "object_fit": null,
            "grid_auto_columns": null,
            "margin": null,
            "display": null,
            "left": null
          }
        },
        "4040b15ee8d24843afdf9e0638272e0b": {
          "model_module": "@jupyter-widgets/controls",
          "model_name": "IntProgressModel",
          "state": {
            "_view_name": "ProgressView",
            "style": "IPY_MODEL_f275d84e087740559c9a4c44ea138abe",
            "_dom_classes": [],
            "description": "",
            "_model_name": "IntProgressModel",
            "bar_style": "success",
            "max": 30,
            "_view_module": "@jupyter-widgets/controls",
            "_model_module_version": "1.5.0",
            "value": 30,
            "_view_count": null,
            "_view_module_version": "1.5.0",
            "orientation": "horizontal",
            "min": 0,
            "description_tooltip": null,
            "_model_module": "@jupyter-widgets/controls",
            "layout": "IPY_MODEL_bc96c08d536648f4afa0fb47d3ec2d69"
          }
        },
        "14701d77bdc34032a6759a9ed91aebad": {
          "model_module": "@jupyter-widgets/controls",
          "model_name": "HTMLModel",
          "state": {
            "_view_name": "HTMLView",
            "style": "IPY_MODEL_f051ddb4211946c08776a61bb7dfc703",
            "_dom_classes": [],
            "description": "",
            "_model_name": "HTMLModel",
            "placeholder": "​",
            "_view_module": "@jupyter-widgets/controls",
            "_model_module_version": "1.5.0",
            "value": "100% 30/30 [00:27&lt;00:00,  1.11it/s]",
            "_view_count": null,
            "_view_module_version": "1.5.0",
            "description_tooltip": null,
            "_model_module": "@jupyter-widgets/controls",
            "layout": "IPY_MODEL_83e0057c3a0e4089b9914f3a4bffb078"
          }
        },
        "f275d84e087740559c9a4c44ea138abe": {
          "model_module": "@jupyter-widgets/controls",
          "model_name": "ProgressStyleModel",
          "state": {
            "_view_name": "StyleView",
            "_model_name": "ProgressStyleModel",
            "description_width": "",
            "_view_module": "@jupyter-widgets/base",
            "_model_module_version": "1.5.0",
            "_view_count": null,
            "_view_module_version": "1.2.0",
            "bar_color": null,
            "_model_module": "@jupyter-widgets/controls"
          }
        },
        "bc96c08d536648f4afa0fb47d3ec2d69": {
          "model_module": "@jupyter-widgets/base",
          "model_name": "LayoutModel",
          "state": {
            "_view_name": "LayoutView",
            "grid_template_rows": null,
            "right": null,
            "justify_content": null,
            "_view_module": "@jupyter-widgets/base",
            "overflow": null,
            "_model_module_version": "1.2.0",
            "_view_count": null,
            "flex_flow": null,
            "width": null,
            "min_width": null,
            "border": null,
            "align_items": null,
            "bottom": null,
            "_model_module": "@jupyter-widgets/base",
            "top": null,
            "grid_column": null,
            "overflow_y": null,
            "overflow_x": null,
            "grid_auto_flow": null,
            "grid_area": null,
            "grid_template_columns": null,
            "flex": null,
            "_model_name": "LayoutModel",
            "justify_items": null,
            "grid_row": null,
            "max_height": null,
            "align_content": null,
            "visibility": null,
            "align_self": null,
            "height": null,
            "min_height": null,
            "padding": null,
            "grid_auto_rows": null,
            "grid_gap": null,
            "max_width": null,
            "order": null,
            "_view_module_version": "1.2.0",
            "grid_template_areas": null,
            "object_position": null,
            "object_fit": null,
            "grid_auto_columns": null,
            "margin": null,
            "display": null,
            "left": null
          }
        },
        "f051ddb4211946c08776a61bb7dfc703": {
          "model_module": "@jupyter-widgets/controls",
          "model_name": "DescriptionStyleModel",
          "state": {
            "_view_name": "StyleView",
            "_model_name": "DescriptionStyleModel",
            "description_width": "",
            "_view_module": "@jupyter-widgets/base",
            "_model_module_version": "1.5.0",
            "_view_count": null,
            "_view_module_version": "1.2.0",
            "_model_module": "@jupyter-widgets/controls"
          }
        },
        "83e0057c3a0e4089b9914f3a4bffb078": {
          "model_module": "@jupyter-widgets/base",
          "model_name": "LayoutModel",
          "state": {
            "_view_name": "LayoutView",
            "grid_template_rows": null,
            "right": null,
            "justify_content": null,
            "_view_module": "@jupyter-widgets/base",
            "overflow": null,
            "_model_module_version": "1.2.0",
            "_view_count": null,
            "flex_flow": null,
            "width": null,
            "min_width": null,
            "border": null,
            "align_items": null,
            "bottom": null,
            "_model_module": "@jupyter-widgets/base",
            "top": null,
            "grid_column": null,
            "overflow_y": null,
            "overflow_x": null,
            "grid_auto_flow": null,
            "grid_area": null,
            "grid_template_columns": null,
            "flex": null,
            "_model_name": "LayoutModel",
            "justify_items": null,
            "grid_row": null,
            "max_height": null,
            "align_content": null,
            "visibility": null,
            "align_self": null,
            "height": null,
            "min_height": null,
            "padding": null,
            "grid_auto_rows": null,
            "grid_gap": null,
            "max_width": null,
            "order": null,
            "_view_module_version": "1.2.0",
            "grid_template_areas": null,
            "object_position": null,
            "object_fit": null,
            "grid_auto_columns": null,
            "margin": null,
            "display": null,
            "left": null
          }
        }
      }
    }
  },
  "cells": [
    {
      "cell_type": "markdown",
      "metadata": {
        "id": "ugVp9i0pLYCI",
        "colab_type": "text"
      },
      "source": [
        "# Libraries"
      ]
    },
    {
      "cell_type": "code",
      "metadata": {
        "id": "yVxHP0-d-cYv",
        "colab_type": "code",
        "colab": {}
      },
      "source": [
        "#3rd party libraries\n",
        "!pip install wikipedia\n",
        "!pip install Wikipedia-API"
      ],
      "execution_count": 0,
      "outputs": []
    },
    {
      "cell_type": "code",
      "metadata": {
        "id": "bPBPLf2Z-pou",
        "colab_type": "code",
        "outputId": "dcb24a9e-2988-4c81-93c2-dac48d998a0a",
        "colab": {
          "base_uri": "https://localhost:8080/",
          "height": 84
        }
      },
      "source": [
        "#Importing my library\n",
        "#Note: need to upload \"doc_utils.py\" file into Colab for before running import\n",
        "import doc_utils"
      ],
      "execution_count": 2,
      "outputs": [
        {
          "output_type": "stream",
          "text": [
            "Using TensorFlow backend.\n"
          ],
          "name": "stderr"
        },
        {
          "output_type": "display_data",
          "data": {
            "text/html": [
              "<p style=\"color: red;\">\n",
              "The default version of TensorFlow in Colab will soon switch to TensorFlow 2.x.<br>\n",
              "We recommend you <a href=\"https://www.tensorflow.org/guide/migrate\" target=\"_blank\">upgrade</a> now \n",
              "or ensure your notebook will continue to use TensorFlow 1.x via the <code>%tensorflow_version 1.x</code> magic:\n",
              "<a href=\"https://colab.research.google.com/notebooks/tensorflow_version.ipynb\" target=\"_blank\">more info</a>.</p>\n"
            ],
            "text/plain": [
              "<IPython.core.display.HTML object>"
            ]
          },
          "metadata": {
            "tags": []
          }
        }
      ]
    },
    {
      "cell_type": "code",
      "metadata": {
        "id": "QtJiXaIBL8Cb",
        "colab_type": "code",
        "colab": {}
      },
      "source": [
        "#Timing execution\n",
        "import timeit\n",
        "\n",
        "#Keras Neural Network (Feedforward)\n",
        "from keras.backend import clear_session\n",
        "from keras.models import Sequential, model_from_json\n",
        "from keras.layers import Dense\n",
        "#Computations \n",
        "import numpy as np\n",
        "#Progress bar\n",
        "from tqdm import tqdm_notebook as tqdm \n",
        "\n",
        "#Sklearn SVM classifier and utils\n",
        "from sklearn.linear_model import SGDClassifier\n",
        "from sklearn.pipeline import Pipeline\n",
        "from sklearn.feature_extraction.text import CountVectorizer, TfidfTransformer"
      ],
      "execution_count": 0,
      "outputs": []
    },
    {
      "cell_type": "markdown",
      "metadata": {
        "id": "-vtBgPh9La7o",
        "colab_type": "text"
      },
      "source": [
        "#Obtaining dataset"
      ]
    },
    {
      "cell_type": "markdown",
      "metadata": {
        "id": "zbBEXA_JMjVZ",
        "colab_type": "text"
      },
      "source": [
        "## Using single threading (slower)"
      ]
    },
    {
      "cell_type": "code",
      "metadata": {
        "id": "yhcLO6wq-6Jl",
        "colab_type": "code",
        "outputId": "86a6fe4a-5faa-4a65-c3a1-c64b523ad83e",
        "colab": {
          "base_uri": "https://localhost:8080/",
          "height": 204
        }
      },
      "source": [
        "start_time = timeit.default_timer()\n",
        "\n",
        "topic_defs = doc_utils.getWikiFullPage(topics_list = doc_utils.ALL_TOPICS)\n",
        "\n",
        "elapsed = timeit.default_timer() - start_time\n",
        "print(\"Lapsed time:\", elapsed,\"(s)\")"
      ],
      "execution_count": 4,
      "outputs": [
        {
          "output_type": "stream",
          "text": [
            "Obtaining full wikipedia page for the topic: Chemical engineering. (Definition of Class #[0])\n",
            "Obtaining full wikipedia page for the topic: Biomedical engineering. (Definition of Class #[1])\n",
            "Obtaining full wikipedia page for the topic: Civil engineering. (Definition of Class #[2])\n",
            "Obtaining full wikipedia page for the topic: Electrical engineering. (Definition of Class #[3])\n",
            "Obtaining full wikipedia page for the topic: Mechanical engineering. (Definition of Class #[4])\n",
            "Obtaining full wikipedia page for the topic: Aerospace engineering. (Definition of Class #[5])\n",
            "Obtaining full wikipedia page for the topic: Software engineering. (Definition of Class #[6])\n",
            "Obtaining full wikipedia page for the topic: Industrial engineering. (Definition of Class #[7])\n",
            "Obtaining full wikipedia page for the topic: Computer engineering. (Definition of Class #[8])\n",
            "Lapsed time: 9.944626331999999 (s)\n"
          ],
          "name": "stdout"
        }
      ]
    },
    {
      "cell_type": "code",
      "metadata": {
        "id": "6RCh42VS_ANj",
        "colab_type": "code",
        "outputId": "50eadde2-37f0-4ce0-8f6b-84a080b772e1",
        "colab": {
          "base_uri": "https://localhost:8080/",
          "height": 504
        }
      },
      "source": [
        "start_time = timeit.default_timer()\n",
        "\n",
        "print(\"[Obtaining summarized test data...]\\n\")\n",
        "test_data, total_num_articles = doc_utils.getAllCatArticles(doc_utils.ALL_TOPICS)\n",
        "print(\"\\n[Obtaining full test data...]\\n\")\n",
        "full_test_data, total_num_articles = doc_utils.getAllCatArticles(doc_utils.ALL_TOPICS, full_text_test=True)\n",
        "\n",
        "print(\"\\n --->Downloaded\",total_num_articles,\"articles as testing set.\")\n",
        "\n",
        "elapsed = timeit.default_timer() - start_time\n",
        "print(\" --->Lapsed time:\", elapsed,\"(s)\")"
      ],
      "execution_count": 5,
      "outputs": [
        {
          "output_type": "stream",
          "text": [
            "[Obtaining summarized test data...]\n",
            "\n",
            "Retrieved 68 articles from category topic 'Chemical engineering'[TopicID:0]\n",
            "Retrieved 74 articles from category topic 'Biomedical engineering'[TopicID:1]\n",
            "Retrieved 152 articles from category topic 'Civil engineering'[TopicID:2]\n",
            "Retrieved 141 articles from category topic 'Electrical engineering'[TopicID:3]\n",
            "Retrieved 217 articles from category topic 'Mechanical engineering'[TopicID:4]\n",
            "Retrieved 174 articles from category topic 'Aerospace engineering'[TopicID:5]\n",
            "Retrieved 57 articles from category topic 'Software engineering'[TopicID:6]\n",
            "Retrieved 75 articles from category topic 'Industrial engineering'[TopicID:7]\n",
            "Retrieved 33 articles from category topic 'Computer engineering'[TopicID:8]\n",
            "\n",
            "[Obtaining full test data...]\n",
            "\n",
            "Retrieved 68 articles from category topic 'Chemical engineering'[TopicID:0]\n",
            "Retrieved 74 articles from category topic 'Biomedical engineering'[TopicID:1]\n",
            "Retrieved 152 articles from category topic 'Civil engineering'[TopicID:2]\n",
            "Retrieved 141 articles from category topic 'Electrical engineering'[TopicID:3]\n",
            "Retrieved 217 articles from category topic 'Mechanical engineering'[TopicID:4]\n",
            "Retrieved 174 articles from category topic 'Aerospace engineering'[TopicID:5]\n",
            "Retrieved 57 articles from category topic 'Software engineering'[TopicID:6]\n",
            "Retrieved 75 articles from category topic 'Industrial engineering'[TopicID:7]\n",
            "Retrieved 33 articles from category topic 'Computer engineering'[TopicID:8]\n",
            "\n",
            " --->Downloaded 982 articles as testing set.\n",
            " --->Lapsed time: 227.783922479 (s)\n"
          ],
          "name": "stdout"
        }
      ]
    },
    {
      "cell_type": "markdown",
      "metadata": {
        "id": "qZjKBBfTMnlV",
        "colab_type": "text"
      },
      "source": [
        "## Using multithreading (improved version, ~x4.5 speed)"
      ]
    },
    {
      "cell_type": "code",
      "metadata": {
        "id": "R4O9kafONDv3",
        "colab_type": "code",
        "colab": {}
      },
      "source": [
        "#Removing variables, just for demostrating purposes.\n",
        "del(test_data)\n",
        "del(full_test_data)\n",
        "del(total_num_articles)"
      ],
      "execution_count": 0,
      "outputs": []
    },
    {
      "cell_type": "code",
      "metadata": {
        "id": "6aHZrRrJM0nY",
        "colab_type": "code",
        "colab": {
          "base_uri": "https://localhost:8080/",
          "height": 504
        },
        "outputId": "83fdd6fa-6c96-48b2-94c2-96e520446a2d"
      },
      "source": [
        "start_time = timeit.default_timer()\n",
        "\n",
        "print(\"[Obtaining summarized test data...]\\n\")\n",
        "test_data, total_num_articles = doc_utils.concurrentGetAllCatArticles(doc_utils.ALL_TOPICS)\n",
        "print(\"\\n[Obtaining full test data...]\\n\")\n",
        "full_test_data, total_num_articles = doc_utils.concurrentGetAllCatArticles(doc_utils.ALL_TOPICS, full_text_test=True)\n",
        "\n",
        "print(\"\\n --->Downloaded\",total_num_articles,\"articles as testing set.\")\n",
        "\n",
        "elapsed = timeit.default_timer() - start_time\n",
        "print(\" --->Lapsed time:\", elapsed,\"(s)\")"
      ],
      "execution_count": 7,
      "outputs": [
        {
          "output_type": "stream",
          "text": [
            "[Obtaining summarized test data...]\n",
            "\n",
            "Retrieved 32 articles from category topic 'Computer engineering'[TopicID:8]\n",
            "Retrieved 56 articles from category topic 'Software engineering'[TopicID:6]\n",
            "Retrieved 67 articles from category topic 'Chemical engineering'[TopicID:0]\n",
            "Retrieved 73 articles from category topic 'Biomedical engineering'[TopicID:1]\n",
            "Retrieved 74 articles from category topic 'Industrial engineering'[TopicID:7]\n",
            "Retrieved 140 articles from category topic 'Electrical engineering'[TopicID:3]\n",
            "Retrieved 151 articles from category topic 'Civil engineering'[TopicID:2]\n",
            "Retrieved 173 articles from category topic 'Aerospace engineering'[TopicID:5]\n",
            "Retrieved 216 articles from category topic 'Mechanical engineering'[TopicID:4]\n",
            "\n",
            "[Obtaining full test data...]\n",
            "\n",
            "Retrieved 32 articles from category topic 'Computer engineering'[TopicID:8]\n",
            "Retrieved 56 articles from category topic 'Software engineering'[TopicID:6]\n",
            "Retrieved 67 articles from category topic 'Chemical engineering'[TopicID:0]\n",
            "Retrieved 74 articles from category topic 'Industrial engineering'[TopicID:7]\n",
            "Retrieved 73 articles from category topic 'Biomedical engineering'[TopicID:1]\n",
            "Retrieved 140 articles from category topic 'Electrical engineering'[TopicID:3]\n",
            "Retrieved 151 articles from category topic 'Civil engineering'[TopicID:2]\n",
            "Retrieved 173 articles from category topic 'Aerospace engineering'[TopicID:5]\n",
            "Retrieved 216 articles from category topic 'Mechanical engineering'[TopicID:4]\n",
            " --->Downloaded \n",
            "982 articles as testing set.\n",
            " --->Lapsed time: 50.00130403000003 (s)\n"
          ],
          "name": "stdout"
        }
      ]
    },
    {
      "cell_type": "markdown",
      "metadata": {
        "id": "-lQVqSXfM1Ig",
        "colab_type": "text"
      },
      "source": [
        "## Saving data to disk (if needed)"
      ]
    },
    {
      "cell_type": "code",
      "metadata": {
        "id": "Gdybn9UZux0n",
        "colab_type": "code",
        "colab": {}
      },
      "source": [
        "#Saving data to disk\n",
        "# import pickle \n",
        "\n",
        "# testdatafile= open(\"test.data\",'wb') \n",
        "# full_testdatafile= open(\"full_test.data\",'wb') \n",
        "\n",
        "# pickle.dump(test_data,testdatafile)   \n",
        "# pickle.dump(full_test_data,full_testdatafile)   \n",
        "\n",
        "# full_testdatafile.close()\n",
        "# testdatafile.close()\n",
        "\n",
        "#Remember to download the generated files if in Colab notebook.\n",
        "\n",
        "#Loading data:\n",
        "# testdatafile = open(\"test.data\",'r')  \n",
        "# full_testdatafile= open(\"full_test.data\",'r') \n",
        "# # load the object from the file into var b\n",
        "# test_data = pickle.load(testdatafile)  \n",
        "# full_test_data = pickle.load(full_testdatafile)  "
      ],
      "execution_count": 0,
      "outputs": []
    },
    {
      "cell_type": "markdown",
      "metadata": {
        "id": "Lt13cyuyLe_6",
        "colab_type": "text"
      },
      "source": [
        "#Dataset cleaning and encoding"
      ]
    },
    {
      "cell_type": "markdown",
      "metadata": {
        "id": "T8YGoF0wedER",
        "colab_type": "text"
      },
      "source": [
        "Note: it can take several seconds to run"
      ]
    },
    {
      "cell_type": "code",
      "metadata": {
        "id": "MtLEHWT0_Kn3",
        "colab_type": "code",
        "outputId": "3b596906-cbba-41ad-930d-283400073903",
        "colab": {
          "base_uri": "https://localhost:8080/",
          "height": 92
        }
      },
      "source": [
        "print(\"Preprocessing data...\\n\")\n",
        "dict, train_clean, test_clean, test_pairs = doc_utils.dataPreprocessing(topic_defs, test_data)\n",
        "print(\"Preprocessing data (with full test data)...\\n\")\n",
        "dict_f, train_clean_f, test_clean_f, test_pairs_f = doc_utils.dataPreprocessing(topic_defs, full_test_data, full_page=True)"
      ],
      "execution_count": 8,
      "outputs": [
        {
          "output_type": "stream",
          "text": [
            "Preprocessing data...\n",
            "\n",
            "Preprocessing data (with full test data)...\n",
            "\n"
          ],
          "name": "stdout"
        }
      ]
    },
    {
      "cell_type": "code",
      "metadata": {
        "id": "g7I8qrg3_s2v",
        "colab_type": "code",
        "colab": {}
      },
      "source": [
        "x_train, y_train, x_test, y_test = doc_utils.processNeuralNetData(train_clean,test_clean,test_pairs, dict,topics=doc_utils.ALL_TOPICS)\n",
        "\n",
        "x_train_f, y_train_f, x_test_f, y_test_f = doc_utils.processNeuralNetData(train_clean_f,test_clean_f,test_pairs_f, dict_f,topics=doc_utils.ALL_TOPICS)"
      ],
      "execution_count": 0,
      "outputs": []
    },
    {
      "cell_type": "markdown",
      "metadata": {
        "id": "SY9QT0CuLifx",
        "colab_type": "text"
      },
      "source": [
        "#FeedForward Neural Network Test"
      ]
    },
    {
      "cell_type": "markdown",
      "metadata": {
        "id": "5t5iGFwqRM3q",
        "colab_type": "text"
      },
      "source": [
        "##Using only summary from test dataset pages"
      ]
    },
    {
      "cell_type": "markdown",
      "metadata": {
        "id": "T31Dp92kMoem",
        "colab_type": "text"
      },
      "source": [
        "### Obtaining average performance\n",
        "Note: running 30 trials takes around 2 minutes.\n",
        "\n",
        "Note: Ignore tensorflow warnings (only ocurr in first execution)"
      ]
    },
    {
      "cell_type": "code",
      "metadata": {
        "id": "le3mxtcMAvxz",
        "colab_type": "code",
        "outputId": "6a5a2bf7-b100-4105-8980-1954fce98a9b",
        "colab": {
          "base_uri": "https://localhost:8080/",
          "height": 161,
          "referenced_widgets": [
            "7c349553fcc54b3492630ae9ea0885ac",
            "fdffa9f2401c4f3caa77c4d3e121ab06",
            "898ccd361634436c9431d7343baeca69",
            "13644c8efd1f47d8a2528393a1733b38",
            "b2663e20e894457b8150d6227cdf4173",
            "e33b231dc4e8447ca5d711e7c89b5c61",
            "a357244b27424e5597f7abfb88b1c3b5",
            "7472b4faf0fa4739a91be2a033b7ef18"
          ]
        }
      },
      "source": [
        "n_runs = 30\n",
        "mean_acc = 0\n",
        "max_acc = 0\n",
        "\n",
        "acc_list = []\n",
        "\n",
        "print(\"Executing\",n_runs,\"runs of model training/evaluation...\\n\")\n",
        "\n",
        "for i in tqdm(range(n_runs)):\n",
        "    clear_session()\n",
        "\n",
        "    #Neural Architecture Definition\n",
        "    model = Sequential()\n",
        "    model.add(Dense(512, activation='relu', input_shape=(len(dict),)))\n",
        "\n",
        "    model.add(Dense(len(doc_utils.ALL_TOPICS), activation='softmax'))\n",
        "    #Model compilation\n",
        "    model.compile(optimizer='rmsprop', loss='categorical_crossentropy',metrics=['accuracy'])\n",
        "    #Model training\n",
        "    hist = model.fit(x_train, y_train, epochs=5,verbose=0)\n",
        "\n",
        "    model_acc = model.evaluate(x_test, y_test, verbose=0)[1]\n",
        "    acc_list.append(model_acc)\n",
        "\n",
        "    if model_acc >= max(acc_list):\n",
        "        #save best model to date\n",
        "        model_json = model.to_json()\n",
        "        with open(\"model.json\", \"w\") as f:\n",
        "            f.write(model_json)\n",
        "        model.save_weights(\"model.h5\")\n",
        "\n",
        "\n",
        "print(\"\\nResulting Average accuracy:\",np.mean(acc_list))\n",
        "print(\"Best accuracy:\", max(acc_list))"
      ],
      "execution_count": 23,
      "outputs": [
        {
          "output_type": "stream",
          "text": [
            "Executing 30 runs of model training/evaluation...\n",
            "\n"
          ],
          "name": "stdout"
        },
        {
          "output_type": "display_data",
          "data": {
            "application/vnd.jupyter.widget-view+json": {
              "model_id": "7c349553fcc54b3492630ae9ea0885ac",
              "version_minor": 0,
              "version_major": 2
            },
            "text/plain": [
              "HBox(children=(IntProgress(value=0, max=30), HTML(value='')))"
            ]
          },
          "metadata": {
            "tags": []
          }
        },
        {
          "output_type": "stream",
          "text": [
            "\n",
            "\n",
            "Resulting Average accuracy: 0.34680923289250776\n",
            "Best accuracy: 0.44806517314643823\n"
          ],
          "name": "stdout"
        }
      ]
    },
    {
      "cell_type": "markdown",
      "metadata": {
        "id": "PbBOSxw3MrI0",
        "colab_type": "text"
      },
      "source": [
        "### Visualizing (single) model classification performance (C.Matrix)"
      ]
    },
    {
      "cell_type": "code",
      "metadata": {
        "id": "SkYrSR8ZDl20",
        "colab_type": "code",
        "outputId": "0457a533-9035-4f81-9fc7-40e9e13447ba",
        "colab": {
          "base_uri": "https://localhost:8080/",
          "height": 36
        }
      },
      "source": [
        "#loading best model obtained\n",
        "json_f = open('model.json', 'r')\n",
        "best_model_json = json_f.read()\n",
        "json_f.close()\n",
        "best_model = model_from_json(best_model_json)\n",
        "#loading weights\n",
        "best_model.load_weights(\"model.h5\")\n",
        "\n",
        "# evaluate loaded model on test data\n",
        "best_model.compile(optimizer='rmsprop', loss='categorical_crossentropy',metrics=['accuracy'])\n",
        "predictions = best_model.predict_classes(x_test) #for later building confusion matrix\n",
        "print(\"Model accuracy:\",best_model.evaluate(x_test, y_test, verbose=0)[1])"
      ],
      "execution_count": 24,
      "outputs": [
        {
          "output_type": "stream",
          "text": [
            "Model accuracy: 0.44806517314643823\n"
          ],
          "name": "stdout"
        }
      ]
    },
    {
      "cell_type": "code",
      "metadata": {
        "id": "CZiQx2tYGYuJ",
        "colab_type": "code",
        "outputId": "ef31341a-7c1e-44ec-d295-6686c92ab7f8",
        "colab": {
          "base_uri": "https://localhost:8080/",
          "height": 444
        }
      },
      "source": [
        "doc_utils.plotConfMatrix(y_test, predictions, model = \"NN\")"
      ],
      "execution_count": 25,
      "outputs": [
        {
          "output_type": "display_data",
          "data": {
            "image/png": "[encoded data removed]",
            "text/plain": [
              "<Figure size 720x504 with 2 Axes>"
            ]
          },
          "metadata": {
            "tags": []
          }
        }
      ]
    },
    {
      "cell_type": "markdown",
      "metadata": {
        "id": "H7AIc87KIOeq",
        "colab_type": "text"
      },
      "source": [
        "Recall that the test dataset was :\n",
        "\n",
        "* 32 articles from category topic 'Computer engineering'[TopicID:8]\n",
        "* 56 articles from category topic 'Software engineering'[TopicID:6]\n",
        "* 67 articles from category topic 'Chemical engineering'[TopicID:0]\n",
        "* 74 articles from category topic 'Industrial engineering'[TopicID:7]\n",
        "* 73 articles from category topic 'Biomedical engineering'[TopicID:1]\n",
        "* 140 articles from category topic 'Electrical engineering'[TopicID:3]\n",
        "* 151 articles from category topic 'Civil engineering'[TopicID:2]\n",
        "* 173 articles from category topic 'Aerospace engineering'[TopicID:5]\n",
        "* 216 articles from category topic 'Mechanical engineering'[TopicID:4]"
      ]
    },
    {
      "cell_type": "markdown",
      "metadata": {
        "id": "wLk16E_FRWS9",
        "colab_type": "text"
      },
      "source": [
        "##Using full content from test dataset pages"
      ]
    },
    {
      "cell_type": "markdown",
      "metadata": {
        "id": "7WHogKXnajAf",
        "colab_type": "text"
      },
      "source": [
        "### Obtaining average performance\n",
        "Note: running 30 trials takes around 2 minutes."
      ]
    },
    {
      "cell_type": "code",
      "metadata": {
        "id": "R1IWdtUmYt0n",
        "colab_type": "code",
        "outputId": "6dae3f84-b2df-43ba-c9a8-8aed4da657ad",
        "colab": {
          "base_uri": "https://localhost:8080/",
          "height": 161,
          "referenced_widgets": [
            "9fe09e01f0fb4392b9417b3477896b97",
            "5c42ae4b2703485fb3dc32b570993b34",
            "c22d986527004a2c90cdaa8ad25d79f9",
            "51b18bdfcc5242dfb555fa7a290934fa",
            "4582dc935d614c25a52516077484e39e",
            "cf65769439104918b2e61ee7de27c62a",
            "63e7b263d60a4dc09cd99e0c33de2a5f",
            "84193556c0744cacbdec65246edb62de"
          ]
        }
      },
      "source": [
        "n_runs = 30\n",
        "mean_acc = 0\n",
        "max_acc = 0\n",
        "\n",
        "acc_list = []\n",
        "\n",
        "print(\"Executing\",n_runs,\"runs of model training/evaluation...\\n\")\n",
        "\n",
        "for i in tqdm(range(n_runs)):\n",
        "    clear_session()\n",
        "\n",
        "    #Neural Architecture Definition\n",
        "    model = Sequential()\n",
        "    model.add(Dense(512, activation='relu', input_shape=(len(dict_f),)))\n",
        "\n",
        "    model.add(Dense(len(doc_utils.ALL_TOPICS), activation='softmax'))\n",
        "    #Model compilation\n",
        "    model.compile(optimizer='rmsprop', loss='categorical_crossentropy',metrics=['accuracy'])\n",
        "    #Model training\n",
        "    hist = model.fit(x_train_f, y_train_f, epochs=5,verbose=0)\n",
        "\n",
        "    model_acc = model.evaluate(x_test_f, y_test_f, verbose=0)[1]\n",
        "    acc_list.append(model_acc)\n",
        "\n",
        "    if model_acc >= max(acc_list):\n",
        "        #save best model to date\n",
        "        model_json = model.to_json()\n",
        "        with open(\"model_f.json\", \"w\") as f:\n",
        "            f.write(model_json)\n",
        "        model.save_weights(\"model_f.h5\")\n",
        "\n",
        "\n",
        "print(\"\\nResulting Average accuracy:\",np.mean(acc_list))\n",
        "print(\"Best accuracy:\", max(acc_list))"
      ],
      "execution_count": 26,
      "outputs": [
        {
          "output_type": "stream",
          "text": [
            "Executing 30 runs of model training/evaluation...\n",
            "\n"
          ],
          "name": "stdout"
        },
        {
          "output_type": "display_data",
          "data": {
            "application/vnd.jupyter.widget-view+json": {
              "model_id": "9fe09e01f0fb4392b9417b3477896b97",
              "version_minor": 0,
              "version_major": 2
            },
            "text/plain": [
              "HBox(children=(IntProgress(value=0, max=30), HTML(value='')))"
            ]
          },
          "metadata": {
            "tags": []
          }
        },
        {
          "output_type": "stream",
          "text": [
            "\n",
            "\n",
            "Resulting Average accuracy: 0.3521724372373822\n",
            "Best accuracy: 0.449083503115687\n"
          ],
          "name": "stdout"
        }
      ]
    },
    {
      "cell_type": "markdown",
      "metadata": {
        "id": "d2I4YNT0adZr",
        "colab_type": "text"
      },
      "source": [
        "### Visualizing (single) model classification performance (C.Matrix)"
      ]
    },
    {
      "cell_type": "code",
      "metadata": {
        "id": "qfFQ-24Dap-X",
        "colab_type": "code",
        "outputId": "fa9022a3-8b2e-49b7-bc6a-31a084b809b6",
        "colab": {
          "base_uri": "https://localhost:8080/",
          "height": 36
        }
      },
      "source": [
        "#loading best model obtained\n",
        "json_f = open('model_f.json', 'r')\n",
        "best_model_f_json = json_f.read()\n",
        "json_f.close()\n",
        "best_model_f = model_from_json(best_model_f_json)\n",
        "#loading weights\n",
        "best_model_f.load_weights(\"model_f.h5\")\n",
        "\n",
        "# evaluate loaded model on test data\n",
        "best_model_f.compile(optimizer='rmsprop', loss='categorical_crossentropy',metrics=['accuracy'])\n",
        "predictions_f = best_model_f.predict_classes(x_test_f) #for later building confusion matrix\n",
        "print(\"Model accuracy:\",best_model_f.evaluate(x_test_f, y_test_f, verbose=0)[1])"
      ],
      "execution_count": 27,
      "outputs": [
        {
          "output_type": "stream",
          "text": [
            "Model accuracy: 0.449083503115687\n"
          ],
          "name": "stdout"
        }
      ]
    },
    {
      "cell_type": "code",
      "metadata": {
        "id": "r3VWV90hbnv5",
        "colab_type": "code",
        "outputId": "e535f93f-c8f4-46fe-866f-ddd51ec90fac",
        "colab": {
          "base_uri": "https://localhost:8080/",
          "height": 444
        }
      },
      "source": [
        "doc_utils.plotConfMatrix(y_test_f, predictions_f, model=\"NN\")"
      ],
      "execution_count": 28,
      "outputs": [
        {
          "output_type": "display_data",
          "data": {
            "image/png": "[encoded data removed]",
            "text/plain": [
              "<Figure size 720x504 with 2 Axes>"
            ]
          },
          "metadata": {
            "tags": []
          }
        }
      ]
    },
    {
      "cell_type": "markdown",
      "metadata": {
        "id": "Bl26fHQPbLOH",
        "colab_type": "text"
      },
      "source": [
        "Recall that the test dataset was :\n",
        "\n",
        "* 32 articles from category topic 'Computer engineering'[TopicID:8]\n",
        "* 56 articles from category topic 'Software engineering'[TopicID:6]\n",
        "* 67 articles from category topic 'Chemical engineering'[TopicID:0]\n",
        "* 74 articles from category topic 'Industrial engineering'[TopicID:7]\n",
        "* 73 articles from category topic 'Biomedical engineering'[TopicID:1]\n",
        "* 140 articles from category topic 'Electrical engineering'[TopicID:3]\n",
        "* 151 articles from category topic 'Civil engineering'[TopicID:2]\n",
        "* 173 articles from category topic 'Aerospace engineering'[TopicID:5]\n",
        "* 216 articles from category topic 'Mechanical engineering'[TopicID:4]"
      ]
    },
    {
      "cell_type": "markdown",
      "metadata": {
        "id": "grHrPK6fNitI",
        "colab_type": "text"
      },
      "source": [
        "#Support Vector Machine Test\n",
        "\n",
        "Uses a different data processing pipeline: TF-IDF"
      ]
    },
    {
      "cell_type": "code",
      "metadata": {
        "id": "o0szBFH_RD1m",
        "colab_type": "code",
        "colab": {
          "base_uri": "https://localhost:8080/",
          "height": 374
        },
        "outputId": "5e5a5519-13f3-41cb-d85a-1a30e1fd1e01"
      },
      "source": [
        "topic_defs = doc_utils.concurrentGetWikiFullPage(topics_list = doc_utils.ALL_TOPICS)\n",
        "\n",
        "test_raw_data, total_num_articles = doc_utils.concurrentGetAllCatArticles(doc_utils.ALL_TOPICS, full_text_test=True)"
      ],
      "execution_count": 17,
      "outputs": [
        {
          "output_type": "stream",
          "text": [
            "Obtaining full wikipedia page for the topic: Chemical engineering. (Definition of Class #[0])Obtaining full wikipedia page for the topic: Biomedical engineering. (Definition of Class #[1])\n",
            "\n",
            "Obtaining full wikipedia page for the topic: Civil engineering. (Definition of Class #[2])\n",
            "Obtaining full wikipedia page for the topic: Electrical engineering. (Definition of Class #[3])\n",
            "Obtaining full wikipedia page for the topic: Mechanical engineering. (Definition of Class #[4])\n",
            "Obtaining full wikipedia page for the topic: Aerospace engineering. (Definition of Class #[5])\n",
            "Obtaining full wikipedia page for the topic: Software engineering. (Definition of Class #[6])\n",
            "Obtaining full wikipedia page for the topic: Industrial engineering. (Definition of Class #[7])\n",
            "Obtaining full wikipedia page for the topic: Computer engineering. (Definition of Class #[8])\n",
            "Retrieved 32 articles from category topic 'Computer engineering'[TopicID:8]\n",
            "Retrieved 56 articles from category topic 'Software engineering'[TopicID:6]\n",
            "Retrieved 67 articles from category topic 'Chemical engineering'[TopicID:0]\n",
            "Retrieved 74 articles from category topic 'Industrial engineering'[TopicID:7]\n",
            "Retrieved 73 articles from category topic 'Biomedical engineering'[TopicID:1]\n",
            "Retrieved 140 articles from category topic 'Electrical engineering'[TopicID:3]\n",
            "Retrieved 151 articles from category topic 'Civil engineering'[TopicID:2]\n",
            "Retrieved 173 articles from category topic 'Aerospace engineering'[TopicID:5]\n",
            "Retrieved 216 articles from category topic 'Mechanical engineering'[TopicID:4]\n"
          ],
          "name": "stdout"
        }
      ]
    },
    {
      "cell_type": "code",
      "metadata": {
        "id": "rBMcZsevkRCw",
        "colab_type": "code",
        "colab": {}
      },
      "source": [
        "x_train, y_train, x_test, y_test = doc_utils.processClassifierData(topic_defs, test_raw_data)"
      ],
      "execution_count": 0,
      "outputs": []
    },
    {
      "cell_type": "code",
      "metadata": {
        "id": "69pxvKVRld3V",
        "colab_type": "code",
        "colab": {
          "base_uri": "https://localhost:8080/",
          "height": 124,
          "referenced_widgets": [
            "65db4644cfb1459db3aa430a90db24b3",
            "9bb11d26e8f74eba931fa1ba4ff48c9e",
            "4040b15ee8d24843afdf9e0638272e0b",
            "14701d77bdc34032a6759a9ed91aebad",
            "f275d84e087740559c9a4c44ea138abe",
            "bc96c08d536648f4afa0fb47d3ec2d69",
            "f051ddb4211946c08776a61bb7dfc703",
            "83e0057c3a0e4089b9914f3a4bffb078"
          ]
        },
        "outputId": "a6274d53-d972-49ff-95b9-eacde6664fc4"
      },
      "source": [
        "n_runs = 30\n",
        "mean_acc = 0\n",
        "max_acc = 0\n",
        "\n",
        "acc_list = []\n",
        "best_svm = None\n",
        "\n",
        "print(\"Executing\",n_runs,\"runs of SVM classifiers...\")\n",
        "\n",
        "for i in tqdm(range(n_runs)):\n",
        "\n",
        "    text_clf_svm = Pipeline([('vect', CountVectorizer()),\n",
        "                        ('tfidf', TfidfTransformer()),\n",
        "                        ('clf-svm', SGDClassifier()),\n",
        "                        ])    \n",
        "\n",
        "    _ = text_clf_svm.fit(x_train, y_train)\n",
        "\n",
        "    predicted_svm = text_clf_svm.predict(x_test)\n",
        "    classification_accuracy = np.mean(predicted_svm == y_test)\n",
        "\n",
        "    acc_list.append(classification_accuracy)\n",
        "    \n",
        "    if classification_accuracy >= max(acc_list):\n",
        "        best_svm = text_clf_svm\n",
        "\n",
        "print(\"Resulting Average accuracy:\",np.mean(acc_list))\n",
        "print(\"Best accuracy:\", max(acc_list))"
      ],
      "execution_count": 19,
      "outputs": [
        {
          "output_type": "stream",
          "text": [
            "Executing 30 runs of SVM classifiers...\n"
          ],
          "name": "stdout"
        },
        {
          "output_type": "display_data",
          "data": {
            "application/vnd.jupyter.widget-view+json": {
              "model_id": "65db4644cfb1459db3aa430a90db24b3",
              "version_minor": 0,
              "version_major": 2
            },
            "text/plain": [
              "HBox(children=(IntProgress(value=0, max=30), HTML(value='')))"
            ]
          },
          "metadata": {
            "tags": []
          }
        },
        {
          "output_type": "stream",
          "text": [
            "\n",
            "Resulting Average accuracy: 0.2939239646978955\n",
            "Best accuracy: 0.4063136456211813\n"
          ],
          "name": "stdout"
        }
      ]
    },
    {
      "cell_type": "code",
      "metadata": {
        "id": "8UU-5JEbl6s4",
        "colab_type": "code",
        "colab": {
          "base_uri": "https://localhost:8080/",
          "height": 444
        },
        "outputId": "36a8dac1-2212-4e89-caad-f5d7c6d4572d"
      },
      "source": [
        "svm_predictions = best_svm.predict(x_test)\n",
        "\n",
        "doc_utils.plotConfMatrix(y_test, svm_predictions, model=\"SVM\")\n",
        "#Resultado bastante curioso. ¿Por qué insta a decir Chem?\n",
        "#BIAS: towards Chemisty?"
      ],
      "execution_count": 20,
      "outputs": [
        {
          "output_type": "display_data",
          "data": {
            "image/png": "[encoded data removed]",
            "text/plain": [
              "<Figure size 720x504 with 2 Axes>"
            ]
          },
          "metadata": {
            "tags": []
          }
        }
      ]
    },
    {
      "cell_type": "code",
      "metadata": {
        "id": "tOMZBKOBnbJe",
        "colab_type": "code",
        "colab": {}
      },
      "source": [
        ""
      ],
      "execution_count": 0,
      "outputs": []
    }
  ]
}