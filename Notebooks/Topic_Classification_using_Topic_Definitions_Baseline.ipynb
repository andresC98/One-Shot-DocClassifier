{
  "nbformat": 4,
  "nbformat_minor": 0,
  "metadata": {
    "colab": {
      "name": "[TFG] Topic Classification using Topic Definitions - Baseline.ipynb",
      "provenance": [],
      "collapsed_sections": [],
      "toc_visible": true
    },
    "kernelspec": {
      "name": "python3",
      "display_name": "Python 3"
    },
    "widgets": {
      "application/vnd.jupyter.widget-state+json": {
        "771568507bdb45838a384d5524dfac03": {
          "model_module": "@jupyter-widgets/controls",
          "model_name": "HBoxModel",
          "state": {
            "_view_name": "HBoxView",
            "_dom_classes": [],
            "_model_name": "HBoxModel",
            "_view_module": "@jupyter-widgets/controls",
            "_model_module_version": "1.5.0",
            "_view_count": null,
            "_view_module_version": "1.5.0",
            "box_style": "",
            "layout": "IPY_MODEL_e74638059ea94a38952c9c4a6490cfef",
            "_model_module": "@jupyter-widgets/controls",
            "children": [
              "IPY_MODEL_5452e4b840284b41bf6bb4e5b30b8d00",
              "IPY_MODEL_f7e7a100beed4306b5db76c06f4a09c6"
            ]
          }
        },
        "e74638059ea94a38952c9c4a6490cfef": {
          "model_module": "@jupyter-widgets/base",
          "model_name": "LayoutModel",
          "state": {
            "_view_name": "LayoutView",
            "grid_template_rows": null,
            "right": null,
            "justify_content": null,
            "_view_module": "@jupyter-widgets/base",
            "overflow": null,
            "_model_module_version": "1.2.0",
            "_view_count": null,
            "flex_flow": null,
            "width": null,
            "min_width": null,
            "border": null,
            "align_items": null,
            "bottom": null,
            "_model_module": "@jupyter-widgets/base",
            "top": null,
            "grid_column": null,
            "overflow_y": null,
            "overflow_x": null,
            "grid_auto_flow": null,
            "grid_area": null,
            "grid_template_columns": null,
            "flex": null,
            "_model_name": "LayoutModel",
            "justify_items": null,
            "grid_row": null,
            "max_height": null,
            "align_content": null,
            "visibility": null,
            "align_self": null,
            "height": null,
            "min_height": null,
            "padding": null,
            "grid_auto_rows": null,
            "grid_gap": null,
            "max_width": null,
            "order": null,
            "_view_module_version": "1.2.0",
            "grid_template_areas": null,
            "object_position": null,
            "object_fit": null,
            "grid_auto_columns": null,
            "margin": null,
            "display": null,
            "left": null
          }
        },
        "5452e4b840284b41bf6bb4e5b30b8d00": {
          "model_module": "@jupyter-widgets/controls",
          "model_name": "IntProgressModel",
          "state": {
            "_view_name": "ProgressView",
            "style": "IPY_MODEL_2979136509444cd4a6382472b559acd6",
            "_dom_classes": [],
            "description": "",
            "_model_name": "IntProgressModel",
            "bar_style": "success",
            "max": 30,
            "_view_module": "@jupyter-widgets/controls",
            "_model_module_version": "1.5.0",
            "value": 30,
            "_view_count": null,
            "_view_module_version": "1.5.0",
            "orientation": "horizontal",
            "min": 0,
            "description_tooltip": null,
            "_model_module": "@jupyter-widgets/controls",
            "layout": "IPY_MODEL_008a62be0577492ca23e571e76f70c24"
          }
        },
        "f7e7a100beed4306b5db76c06f4a09c6": {
          "model_module": "@jupyter-widgets/controls",
          "model_name": "HTMLModel",
          "state": {
            "_view_name": "HTMLView",
            "style": "IPY_MODEL_f31878e557034d3986db6934abdd6752",
            "_dom_classes": [],
            "description": "",
            "_model_name": "HTMLModel",
            "placeholder": "​",
            "_view_module": "@jupyter-widgets/controls",
            "_model_module_version": "1.5.0",
            "value": "100% 30/30 [02:05&lt;00:00,  4.05s/it]",
            "_view_count": null,
            "_view_module_version": "1.5.0",
            "description_tooltip": null,
            "_model_module": "@jupyter-widgets/controls",
            "layout": "IPY_MODEL_f91e7962862e41dc9bf615ce169b5326"
          }
        },
        "2979136509444cd4a6382472b559acd6": {
          "model_module": "@jupyter-widgets/controls",
          "model_name": "ProgressStyleModel",
          "state": {
            "_view_name": "StyleView",
            "_model_name": "ProgressStyleModel",
            "description_width": "",
            "_view_module": "@jupyter-widgets/base",
            "_model_module_version": "1.5.0",
            "_view_count": null,
            "_view_module_version": "1.2.0",
            "bar_color": null,
            "_model_module": "@jupyter-widgets/controls"
          }
        },
        "008a62be0577492ca23e571e76f70c24": {
          "model_module": "@jupyter-widgets/base",
          "model_name": "LayoutModel",
          "state": {
            "_view_name": "LayoutView",
            "grid_template_rows": null,
            "right": null,
            "justify_content": null,
            "_view_module": "@jupyter-widgets/base",
            "overflow": null,
            "_model_module_version": "1.2.0",
            "_view_count": null,
            "flex_flow": null,
            "width": null,
            "min_width": null,
            "border": null,
            "align_items": null,
            "bottom": null,
            "_model_module": "@jupyter-widgets/base",
            "top": null,
            "grid_column": null,
            "overflow_y": null,
            "overflow_x": null,
            "grid_auto_flow": null,
            "grid_area": null,
            "grid_template_columns": null,
            "flex": null,
            "_model_name": "LayoutModel",
            "justify_items": null,
            "grid_row": null,
            "max_height": null,
            "align_content": null,
            "visibility": null,
            "align_self": null,
            "height": null,
            "min_height": null,
            "padding": null,
            "grid_auto_rows": null,
            "grid_gap": null,
            "max_width": null,
            "order": null,
            "_view_module_version": "1.2.0",
            "grid_template_areas": null,
            "object_position": null,
            "object_fit": null,
            "grid_auto_columns": null,
            "margin": null,
            "display": null,
            "left": null
          }
        },
        "f31878e557034d3986db6934abdd6752": {
          "model_module": "@jupyter-widgets/controls",
          "model_name": "DescriptionStyleModel",
          "state": {
            "_view_name": "StyleView",
            "_model_name": "DescriptionStyleModel",
            "description_width": "",
            "_view_module": "@jupyter-widgets/base",
            "_model_module_version": "1.5.0",
            "_view_count": null,
            "_view_module_version": "1.2.0",
            "_model_module": "@jupyter-widgets/controls"
          }
        },
        "f91e7962862e41dc9bf615ce169b5326": {
          "model_module": "@jupyter-widgets/base",
          "model_name": "LayoutModel",
          "state": {
            "_view_name": "LayoutView",
            "grid_template_rows": null,
            "right": null,
            "justify_content": null,
            "_view_module": "@jupyter-widgets/base",
            "overflow": null,
            "_model_module_version": "1.2.0",
            "_view_count": null,
            "flex_flow": null,
            "width": null,
            "min_width": null,
            "border": null,
            "align_items": null,
            "bottom": null,
            "_model_module": "@jupyter-widgets/base",
            "top": null,
            "grid_column": null,
            "overflow_y": null,
            "overflow_x": null,
            "grid_auto_flow": null,
            "grid_area": null,
            "grid_template_columns": null,
            "flex": null,
            "_model_name": "LayoutModel",
            "justify_items": null,
            "grid_row": null,
            "max_height": null,
            "align_content": null,
            "visibility": null,
            "align_self": null,
            "height": null,
            "min_height": null,
            "padding": null,
            "grid_auto_rows": null,
            "grid_gap": null,
            "max_width": null,
            "order": null,
            "_view_module_version": "1.2.0",
            "grid_template_areas": null,
            "object_position": null,
            "object_fit": null,
            "grid_auto_columns": null,
            "margin": null,
            "display": null,
            "left": null
          }
        },
        "b980b712f38c403fbc729963f759516b": {
          "model_module": "@jupyter-widgets/controls",
          "model_name": "HBoxModel",
          "state": {
            "_view_name": "HBoxView",
            "_dom_classes": [],
            "_model_name": "HBoxModel",
            "_view_module": "@jupyter-widgets/controls",
            "_model_module_version": "1.5.0",
            "_view_count": null,
            "_view_module_version": "1.5.0",
            "box_style": "",
            "layout": "IPY_MODEL_065c94e6a278484c89907845b03ba2f0",
            "_model_module": "@jupyter-widgets/controls",
            "children": [
              "IPY_MODEL_f8317c2da5cc4bf783f3d67dd1ace33c",
              "IPY_MODEL_60584e8f6e2642778bce2aecf9cbf67c"
            ]
          }
        },
        "065c94e6a278484c89907845b03ba2f0": {
          "model_module": "@jupyter-widgets/base",
          "model_name": "LayoutModel",
          "state": {
            "_view_name": "LayoutView",
            "grid_template_rows": null,
            "right": null,
            "justify_content": null,
            "_view_module": "@jupyter-widgets/base",
            "overflow": null,
            "_model_module_version": "1.2.0",
            "_view_count": null,
            "flex_flow": null,
            "width": null,
            "min_width": null,
            "border": null,
            "align_items": null,
            "bottom": null,
            "_model_module": "@jupyter-widgets/base",
            "top": null,
            "grid_column": null,
            "overflow_y": null,
            "overflow_x": null,
            "grid_auto_flow": null,
            "grid_area": null,
            "grid_template_columns": null,
            "flex": null,
            "_model_name": "LayoutModel",
            "justify_items": null,
            "grid_row": null,
            "max_height": null,
            "align_content": null,
            "visibility": null,
            "align_self": null,
            "height": null,
            "min_height": null,
            "padding": null,
            "grid_auto_rows": null,
            "grid_gap": null,
            "max_width": null,
            "order": null,
            "_view_module_version": "1.2.0",
            "grid_template_areas": null,
            "object_position": null,
            "object_fit": null,
            "grid_auto_columns": null,
            "margin": null,
            "display": null,
            "left": null
          }
        },
        "f8317c2da5cc4bf783f3d67dd1ace33c": {
          "model_module": "@jupyter-widgets/controls",
          "model_name": "IntProgressModel",
          "state": {
            "_view_name": "ProgressView",
            "style": "IPY_MODEL_a09791ab7c36482b846cd95f393a4b13",
            "_dom_classes": [],
            "description": "",
            "_model_name": "IntProgressModel",
            "bar_style": "success",
            "max": 30,
            "_view_module": "@jupyter-widgets/controls",
            "_model_module_version": "1.5.0",
            "value": 30,
            "_view_count": null,
            "_view_module_version": "1.5.0",
            "orientation": "horizontal",
            "min": 0,
            "description_tooltip": null,
            "_model_module": "@jupyter-widgets/controls",
            "layout": "IPY_MODEL_645f5fe536f0402191075627726e449d"
          }
        },
        "60584e8f6e2642778bce2aecf9cbf67c": {
          "model_module": "@jupyter-widgets/controls",
          "model_name": "HTMLModel",
          "state": {
            "_view_name": "HTMLView",
            "style": "IPY_MODEL_60ae501613f54ae0bd9911bfccc8582b",
            "_dom_classes": [],
            "description": "",
            "_model_name": "HTMLModel",
            "placeholder": "​",
            "_view_module": "@jupyter-widgets/controls",
            "_model_module_version": "1.5.0",
            "value": "100% 30/30 [02:04&lt;00:00,  4.15s/it]",
            "_view_count": null,
            "_view_module_version": "1.5.0",
            "description_tooltip": null,
            "_model_module": "@jupyter-widgets/controls",
            "layout": "IPY_MODEL_2f479243f2d94a0495f5edc053b97862"
          }
        },
        "a09791ab7c36482b846cd95f393a4b13": {
          "model_module": "@jupyter-widgets/controls",
          "model_name": "ProgressStyleModel",
          "state": {
            "_view_name": "StyleView",
            "_model_name": "ProgressStyleModel",
            "description_width": "",
            "_view_module": "@jupyter-widgets/base",
            "_model_module_version": "1.5.0",
            "_view_count": null,
            "_view_module_version": "1.2.0",
            "bar_color": null,
            "_model_module": "@jupyter-widgets/controls"
          }
        },
        "645f5fe536f0402191075627726e449d": {
          "model_module": "@jupyter-widgets/base",
          "model_name": "LayoutModel",
          "state": {
            "_view_name": "LayoutView",
            "grid_template_rows": null,
            "right": null,
            "justify_content": null,
            "_view_module": "@jupyter-widgets/base",
            "overflow": null,
            "_model_module_version": "1.2.0",
            "_view_count": null,
            "flex_flow": null,
            "width": null,
            "min_width": null,
            "border": null,
            "align_items": null,
            "bottom": null,
            "_model_module": "@jupyter-widgets/base",
            "top": null,
            "grid_column": null,
            "overflow_y": null,
            "overflow_x": null,
            "grid_auto_flow": null,
            "grid_area": null,
            "grid_template_columns": null,
            "flex": null,
            "_model_name": "LayoutModel",
            "justify_items": null,
            "grid_row": null,
            "max_height": null,
            "align_content": null,
            "visibility": null,
            "align_self": null,
            "height": null,
            "min_height": null,
            "padding": null,
            "grid_auto_rows": null,
            "grid_gap": null,
            "max_width": null,
            "order": null,
            "_view_module_version": "1.2.0",
            "grid_template_areas": null,
            "object_position": null,
            "object_fit": null,
            "grid_auto_columns": null,
            "margin": null,
            "display": null,
            "left": null
          }
        },
        "60ae501613f54ae0bd9911bfccc8582b": {
          "model_module": "@jupyter-widgets/controls",
          "model_name": "DescriptionStyleModel",
          "state": {
            "_view_name": "StyleView",
            "_model_name": "DescriptionStyleModel",
            "description_width": "",
            "_view_module": "@jupyter-widgets/base",
            "_model_module_version": "1.5.0",
            "_view_count": null,
            "_view_module_version": "1.2.0",
            "_model_module": "@jupyter-widgets/controls"
          }
        },
        "2f479243f2d94a0495f5edc053b97862": {
          "model_module": "@jupyter-widgets/base",
          "model_name": "LayoutModel",
          "state": {
            "_view_name": "LayoutView",
            "grid_template_rows": null,
            "right": null,
            "justify_content": null,
            "_view_module": "@jupyter-widgets/base",
            "overflow": null,
            "_model_module_version": "1.2.0",
            "_view_count": null,
            "flex_flow": null,
            "width": null,
            "min_width": null,
            "border": null,
            "align_items": null,
            "bottom": null,
            "_model_module": "@jupyter-widgets/base",
            "top": null,
            "grid_column": null,
            "overflow_y": null,
            "overflow_x": null,
            "grid_auto_flow": null,
            "grid_area": null,
            "grid_template_columns": null,
            "flex": null,
            "_model_name": "LayoutModel",
            "justify_items": null,
            "grid_row": null,
            "max_height": null,
            "align_content": null,
            "visibility": null,
            "align_self": null,
            "height": null,
            "min_height": null,
            "padding": null,
            "grid_auto_rows": null,
            "grid_gap": null,
            "max_width": null,
            "order": null,
            "_view_module_version": "1.2.0",
            "grid_template_areas": null,
            "object_position": null,
            "object_fit": null,
            "grid_auto_columns": null,
            "margin": null,
            "display": null,
            "left": null
          }
        },
        "84bbdf78b5ac43bfa1926dd180e5d59b": {
          "model_module": "@jupyter-widgets/controls",
          "model_name": "HBoxModel",
          "state": {
            "_view_name": "HBoxView",
            "_dom_classes": [],
            "_model_name": "HBoxModel",
            "_view_module": "@jupyter-widgets/controls",
            "_model_module_version": "1.5.0",
            "_view_count": null,
            "_view_module_version": "1.5.0",
            "box_style": "",
            "layout": "IPY_MODEL_7a65fc1ccb1c41df93c7d51f33d01b4c",
            "_model_module": "@jupyter-widgets/controls",
            "children": [
              "IPY_MODEL_04996192bc3446d1bb0dfa94a08e93a1",
              "IPY_MODEL_4cbbace388ba40739bf8333b418d408a"
            ]
          }
        },
        "7a65fc1ccb1c41df93c7d51f33d01b4c": {
          "model_module": "@jupyter-widgets/base",
          "model_name": "LayoutModel",
          "state": {
            "_view_name": "LayoutView",
            "grid_template_rows": null,
            "right": null,
            "justify_content": null,
            "_view_module": "@jupyter-widgets/base",
            "overflow": null,
            "_model_module_version": "1.2.0",
            "_view_count": null,
            "flex_flow": null,
            "width": null,
            "min_width": null,
            "border": null,
            "align_items": null,
            "bottom": null,
            "_model_module": "@jupyter-widgets/base",
            "top": null,
            "grid_column": null,
            "overflow_y": null,
            "overflow_x": null,
            "grid_auto_flow": null,
            "grid_area": null,
            "grid_template_columns": null,
            "flex": null,
            "_model_name": "LayoutModel",
            "justify_items": null,
            "grid_row": null,
            "max_height": null,
            "align_content": null,
            "visibility": null,
            "align_self": null,
            "height": null,
            "min_height": null,
            "padding": null,
            "grid_auto_rows": null,
            "grid_gap": null,
            "max_width": null,
            "order": null,
            "_view_module_version": "1.2.0",
            "grid_template_areas": null,
            "object_position": null,
            "object_fit": null,
            "grid_auto_columns": null,
            "margin": null,
            "display": null,
            "left": null
          }
        },
        "04996192bc3446d1bb0dfa94a08e93a1": {
          "model_module": "@jupyter-widgets/controls",
          "model_name": "IntProgressModel",
          "state": {
            "_view_name": "ProgressView",
            "style": "IPY_MODEL_8e1222c4b159420ba672bdb3c4eb9a5c",
            "_dom_classes": [],
            "description": "",
            "_model_name": "IntProgressModel",
            "bar_style": "success",
            "max": 30,
            "_view_module": "@jupyter-widgets/controls",
            "_model_module_version": "1.5.0",
            "value": 30,
            "_view_count": null,
            "_view_module_version": "1.5.0",
            "orientation": "horizontal",
            "min": 0,
            "description_tooltip": null,
            "_model_module": "@jupyter-widgets/controls",
            "layout": "IPY_MODEL_3fe300a767514a30b514bc3de4e5c6c2"
          }
        },
        "4cbbace388ba40739bf8333b418d408a": {
          "model_module": "@jupyter-widgets/controls",
          "model_name": "HTMLModel",
          "state": {
            "_view_name": "HTMLView",
            "style": "IPY_MODEL_b975707d4b034efcb8b7df34141932c9",
            "_dom_classes": [],
            "description": "",
            "_model_name": "HTMLModel",
            "placeholder": "​",
            "_view_module": "@jupyter-widgets/controls",
            "_model_module_version": "1.5.0",
            "value": "100% 30/30 [00:26&lt;00:00,  1.12it/s]",
            "_view_count": null,
            "_view_module_version": "1.5.0",
            "description_tooltip": null,
            "_model_module": "@jupyter-widgets/controls",
            "layout": "IPY_MODEL_1c3d311c939b48d7a4d9caa701579b04"
          }
        },
        "8e1222c4b159420ba672bdb3c4eb9a5c": {
          "model_module": "@jupyter-widgets/controls",
          "model_name": "ProgressStyleModel",
          "state": {
            "_view_name": "StyleView",
            "_model_name": "ProgressStyleModel",
            "description_width": "",
            "_view_module": "@jupyter-widgets/base",
            "_model_module_version": "1.5.0",
            "_view_count": null,
            "_view_module_version": "1.2.0",
            "bar_color": null,
            "_model_module": "@jupyter-widgets/controls"
          }
        },
        "3fe300a767514a30b514bc3de4e5c6c2": {
          "model_module": "@jupyter-widgets/base",
          "model_name": "LayoutModel",
          "state": {
            "_view_name": "LayoutView",
            "grid_template_rows": null,
            "right": null,
            "justify_content": null,
            "_view_module": "@jupyter-widgets/base",
            "overflow": null,
            "_model_module_version": "1.2.0",
            "_view_count": null,
            "flex_flow": null,
            "width": null,
            "min_width": null,
            "border": null,
            "align_items": null,
            "bottom": null,
            "_model_module": "@jupyter-widgets/base",
            "top": null,
            "grid_column": null,
            "overflow_y": null,
            "overflow_x": null,
            "grid_auto_flow": null,
            "grid_area": null,
            "grid_template_columns": null,
            "flex": null,
            "_model_name": "LayoutModel",
            "justify_items": null,
            "grid_row": null,
            "max_height": null,
            "align_content": null,
            "visibility": null,
            "align_self": null,
            "height": null,
            "min_height": null,
            "padding": null,
            "grid_auto_rows": null,
            "grid_gap": null,
            "max_width": null,
            "order": null,
            "_view_module_version": "1.2.0",
            "grid_template_areas": null,
            "object_position": null,
            "object_fit": null,
            "grid_auto_columns": null,
            "margin": null,
            "display": null,
            "left": null
          }
        },
        "b975707d4b034efcb8b7df34141932c9": {
          "model_module": "@jupyter-widgets/controls",
          "model_name": "DescriptionStyleModel",
          "state": {
            "_view_name": "StyleView",
            "_model_name": "DescriptionStyleModel",
            "description_width": "",
            "_view_module": "@jupyter-widgets/base",
            "_model_module_version": "1.5.0",
            "_view_count": null,
            "_view_module_version": "1.2.0",
            "_model_module": "@jupyter-widgets/controls"
          }
        },
        "1c3d311c939b48d7a4d9caa701579b04": {
          "model_module": "@jupyter-widgets/base",
          "model_name": "LayoutModel",
          "state": {
            "_view_name": "LayoutView",
            "grid_template_rows": null,
            "right": null,
            "justify_content": null,
            "_view_module": "@jupyter-widgets/base",
            "overflow": null,
            "_model_module_version": "1.2.0",
            "_view_count": null,
            "flex_flow": null,
            "width": null,
            "min_width": null,
            "border": null,
            "align_items": null,
            "bottom": null,
            "_model_module": "@jupyter-widgets/base",
            "top": null,
            "grid_column": null,
            "overflow_y": null,
            "overflow_x": null,
            "grid_auto_flow": null,
            "grid_area": null,
            "grid_template_columns": null,
            "flex": null,
            "_model_name": "LayoutModel",
            "justify_items": null,
            "grid_row": null,
            "max_height": null,
            "align_content": null,
            "visibility": null,
            "align_self": null,
            "height": null,
            "min_height": null,
            "padding": null,
            "grid_auto_rows": null,
            "grid_gap": null,
            "max_width": null,
            "order": null,
            "_view_module_version": "1.2.0",
            "grid_template_areas": null,
            "object_position": null,
            "object_fit": null,
            "grid_auto_columns": null,
            "margin": null,
            "display": null,
            "left": null
          }
        },
        "e229d80554ab4577a96e16bab4c19f1b": {
          "model_module": "@jupyter-widgets/controls",
          "model_name": "HBoxModel",
          "state": {
            "_view_name": "HBoxView",
            "_dom_classes": [],
            "_model_name": "HBoxModel",
            "_view_module": "@jupyter-widgets/controls",
            "_model_module_version": "1.5.0",
            "_view_count": null,
            "_view_module_version": "1.5.0",
            "box_style": "",
            "layout": "IPY_MODEL_d0d4ffcff60a47c3a56d781c14a9fad5",
            "_model_module": "@jupyter-widgets/controls",
            "children": [
              "IPY_MODEL_e4e6284ad2384ca4a7f15f658b70e44f",
              "IPY_MODEL_eeac2d2149c74a67a5b091a956825063"
            ]
          }
        },
        "d0d4ffcff60a47c3a56d781c14a9fad5": {
          "model_module": "@jupyter-widgets/base",
          "model_name": "LayoutModel",
          "state": {
            "_view_name": "LayoutView",
            "grid_template_rows": null,
            "right": null,
            "justify_content": null,
            "_view_module": "@jupyter-widgets/base",
            "overflow": null,
            "_model_module_version": "1.2.0",
            "_view_count": null,
            "flex_flow": null,
            "width": null,
            "min_width": null,
            "border": null,
            "align_items": null,
            "bottom": null,
            "_model_module": "@jupyter-widgets/base",
            "top": null,
            "grid_column": null,
            "overflow_y": null,
            "overflow_x": null,
            "grid_auto_flow": null,
            "grid_area": null,
            "grid_template_columns": null,
            "flex": null,
            "_model_name": "LayoutModel",
            "justify_items": null,
            "grid_row": null,
            "max_height": null,
            "align_content": null,
            "visibility": null,
            "align_self": null,
            "height": null,
            "min_height": null,
            "padding": null,
            "grid_auto_rows": null,
            "grid_gap": null,
            "max_width": null,
            "order": null,
            "_view_module_version": "1.2.0",
            "grid_template_areas": null,
            "object_position": null,
            "object_fit": null,
            "grid_auto_columns": null,
            "margin": null,
            "display": null,
            "left": null
          }
        },
        "e4e6284ad2384ca4a7f15f658b70e44f": {
          "model_module": "@jupyter-widgets/controls",
          "model_name": "IntProgressModel",
          "state": {
            "_view_name": "ProgressView",
            "style": "IPY_MODEL_6c9dcf0e4a8c4cb1b9117ad2d4b86ce4",
            "_dom_classes": [],
            "description": "",
            "_model_name": "IntProgressModel",
            "bar_style": "success",
            "max": 30,
            "_view_module": "@jupyter-widgets/controls",
            "_model_module_version": "1.5.0",
            "value": 30,
            "_view_count": null,
            "_view_module_version": "1.5.0",
            "orientation": "horizontal",
            "min": 0,
            "description_tooltip": null,
            "_model_module": "@jupyter-widgets/controls",
            "layout": "IPY_MODEL_bcfc20db97c546f8ab624b91c50adb6f"
          }
        },
        "eeac2d2149c74a67a5b091a956825063": {
          "model_module": "@jupyter-widgets/controls",
          "model_name": "HTMLModel",
          "state": {
            "_view_name": "HTMLView",
            "style": "IPY_MODEL_e05bfda65b994248a09dc44552a38004",
            "_dom_classes": [],
            "description": "",
            "_model_name": "HTMLModel",
            "placeholder": "​",
            "_view_module": "@jupyter-widgets/controls",
            "_model_module_version": "1.5.0",
            "value": "100% 30/30 [00:27&lt;00:00,  1.11it/s]",
            "_view_count": null,
            "_view_module_version": "1.5.0",
            "description_tooltip": null,
            "_model_module": "@jupyter-widgets/controls",
            "layout": "IPY_MODEL_2f778344b34d4d8997e0b3660c341663"
          }
        },
        "6c9dcf0e4a8c4cb1b9117ad2d4b86ce4": {
          "model_module": "@jupyter-widgets/controls",
          "model_name": "ProgressStyleModel",
          "state": {
            "_view_name": "StyleView",
            "_model_name": "ProgressStyleModel",
            "description_width": "",
            "_view_module": "@jupyter-widgets/base",
            "_model_module_version": "1.5.0",
            "_view_count": null,
            "_view_module_version": "1.2.0",
            "bar_color": null,
            "_model_module": "@jupyter-widgets/controls"
          }
        },
        "bcfc20db97c546f8ab624b91c50adb6f": {
          "model_module": "@jupyter-widgets/base",
          "model_name": "LayoutModel",
          "state": {
            "_view_name": "LayoutView",
            "grid_template_rows": null,
            "right": null,
            "justify_content": null,
            "_view_module": "@jupyter-widgets/base",
            "overflow": null,
            "_model_module_version": "1.2.0",
            "_view_count": null,
            "flex_flow": null,
            "width": null,
            "min_width": null,
            "border": null,
            "align_items": null,
            "bottom": null,
            "_model_module": "@jupyter-widgets/base",
            "top": null,
            "grid_column": null,
            "overflow_y": null,
            "overflow_x": null,
            "grid_auto_flow": null,
            "grid_area": null,
            "grid_template_columns": null,
            "flex": null,
            "_model_name": "LayoutModel",
            "justify_items": null,
            "grid_row": null,
            "max_height": null,
            "align_content": null,
            "visibility": null,
            "align_self": null,
            "height": null,
            "min_height": null,
            "padding": null,
            "grid_auto_rows": null,
            "grid_gap": null,
            "max_width": null,
            "order": null,
            "_view_module_version": "1.2.0",
            "grid_template_areas": null,
            "object_position": null,
            "object_fit": null,
            "grid_auto_columns": null,
            "margin": null,
            "display": null,
            "left": null
          }
        },
        "e05bfda65b994248a09dc44552a38004": {
          "model_module": "@jupyter-widgets/controls",
          "model_name": "DescriptionStyleModel",
          "state": {
            "_view_name": "StyleView",
            "_model_name": "DescriptionStyleModel",
            "description_width": "",
            "_view_module": "@jupyter-widgets/base",
            "_model_module_version": "1.5.0",
            "_view_count": null,
            "_view_module_version": "1.2.0",
            "_model_module": "@jupyter-widgets/controls"
          }
        },
        "2f778344b34d4d8997e0b3660c341663": {
          "model_module": "@jupyter-widgets/base",
          "model_name": "LayoutModel",
          "state": {
            "_view_name": "LayoutView",
            "grid_template_rows": null,
            "right": null,
            "justify_content": null,
            "_view_module": "@jupyter-widgets/base",
            "overflow": null,
            "_model_module_version": "1.2.0",
            "_view_count": null,
            "flex_flow": null,
            "width": null,
            "min_width": null,
            "border": null,
            "align_items": null,
            "bottom": null,
            "_model_module": "@jupyter-widgets/base",
            "top": null,
            "grid_column": null,
            "overflow_y": null,
            "overflow_x": null,
            "grid_auto_flow": null,
            "grid_area": null,
            "grid_template_columns": null,
            "flex": null,
            "_model_name": "LayoutModel",
            "justify_items": null,
            "grid_row": null,
            "max_height": null,
            "align_content": null,
            "visibility": null,
            "align_self": null,
            "height": null,
            "min_height": null,
            "padding": null,
            "grid_auto_rows": null,
            "grid_gap": null,
            "max_width": null,
            "order": null,
            "_view_module_version": "1.2.0",
            "grid_template_areas": null,
            "object_position": null,
            "object_fit": null,
            "grid_auto_columns": null,
            "margin": null,
            "display": null,
            "left": null
          }
        }
      }
    }
  },
  "cells": [
    {
      "cell_type": "markdown",
      "metadata": {
        "id": "rUPV8IBD52Mv",
        "colab_type": "text"
      },
      "source": [
        "# Main goals of this notebook"
      ]
    },
    {
      "cell_type": "markdown",
      "metadata": {
        "id": "rnZXZYjd5gNx",
        "colab_type": "text"
      },
      "source": [
        "This notebook shows the baseline for document classification using topic definitions. The approach is the simple Train / Test method for training a classification algorithm, with the important caveat that it is a \"one shot\" task: only learns on a single example of each class, and gets evaluated over a big portion of test examples."
      ]
    },
    {
      "cell_type": "markdown",
      "metadata": {
        "id": "zrHfF3DV5-5o",
        "colab_type": "text"
      },
      "source": [
        "This notebook makes use of a self-made code library that allows the following:\n",
        "* Dataset creation based on a wikipedia parser tool\n",
        "* Raw text cleaning\n",
        "* Text processing to make it suitable for classification algorithms input expectations.\n",
        "\n",
        "This library can be found here: [GitHub/OneShotDocClassifier](https://github.com/andresC98/One-Shot-DocClassifier)"
      ]
    },
    {
      "cell_type": "markdown",
      "metadata": {
        "id": "C7DisRgA5Phd",
        "colab_type": "text"
      },
      "source": [
        "**Important note:** Purpose of this notebook is an initial check of baseline. THIS USED AN OLD VERSION OF LIBRARY MODULES. Please check last notebook for an updated usage of the library."
      ]
    },
    {
      "cell_type": "markdown",
      "metadata": {
        "id": "ugVp9i0pLYCI",
        "colab_type": "text"
      },
      "source": [
        "# Libraries"
      ]
    },
    {
      "cell_type": "code",
      "metadata": {
        "id": "yVxHP0-d-cYv",
        "colab_type": "code",
        "colab": {}
      },
      "source": [
        "#3rd party libraries installation for colaboratory\n",
        "!pip install wikipedia\n",
        "!pip install Wikipedia-API"
      ],
      "execution_count": 0,
      "outputs": []
    },
    {
      "cell_type": "code",
      "metadata": {
        "id": "bPBPLf2Z-pou",
        "colab_type": "code",
        "outputId": "e9535b18-29af-4eb5-ff1d-a24a86d7958b",
        "colab": {
          "base_uri": "https://localhost:8080/",
          "height": 83
        }
      },
      "source": [
        "#OUTDATED LIBRARY, This notebook is for mainly check baseline results. Updated version of library is at last notebook.\n",
        "#Importing my library\n",
        "#IMPORTANT NOTE: It is needed to upload \"doc_utils.py\" file into Colab for before running import\n",
        "import doc_utils"
      ],
      "execution_count": 2,
      "outputs": [
        {
          "output_type": "stream",
          "text": [
            "Using TensorFlow backend.\n"
          ],
          "name": "stderr"
        },
        {
          "output_type": "display_data",
          "data": {
            "text/html": [
              "<p style=\"color: red;\">\n",
              "The default version of TensorFlow in Colab will soon switch to TensorFlow 2.x.<br>\n",
              "We recommend you <a href=\"https://www.tensorflow.org/guide/migrate\" target=\"_blank\">upgrade</a> now \n",
              "or ensure your notebook will continue to use TensorFlow 1.x via the <code>%tensorflow_version 1.x</code> magic:\n",
              "<a href=\"https://colab.research.google.com/notebooks/tensorflow_version.ipynb\" target=\"_blank\">more info</a>.</p>\n"
            ],
            "text/plain": [
              "<IPython.core.display.HTML object>"
            ]
          },
          "metadata": {
            "tags": []
          }
        }
      ]
    },
    {
      "cell_type": "code",
      "metadata": {
        "id": "QtJiXaIBL8Cb",
        "colab_type": "code",
        "colab": {}
      },
      "source": [
        "#Timing execution\n",
        "import timeit\n",
        "\n",
        "#Keras Neural Network (Feedforward)\n",
        "from keras.backend import clear_session\n",
        "from keras.models import Sequential, model_from_json\n",
        "from keras.layers import Dense\n",
        "#Computations \n",
        "import numpy as np\n",
        "#Progress bar\n",
        "from tqdm import tqdm_notebook as tqdm \n",
        "\n",
        "#Sklearn classifiers and utils\n",
        "from sklearn.linear_model import SGDClassifier\n",
        "from sklearn.naive_bayes import MultinomialNB\n",
        "from sklearn.pipeline import Pipeline\n",
        "from sklearn.feature_extraction.text import CountVectorizer, TfidfTransformer"
      ],
      "execution_count": 0,
      "outputs": []
    },
    {
      "cell_type": "markdown",
      "metadata": {
        "id": "-vtBgPh9La7o",
        "colab_type": "text"
      },
      "source": [
        "#Obtaining dataset"
      ]
    },
    {
      "cell_type": "markdown",
      "metadata": {
        "id": "zbBEXA_JMjVZ",
        "colab_type": "text"
      },
      "source": [
        "## Using single threading (slower)"
      ]
    },
    {
      "cell_type": "code",
      "metadata": {
        "id": "yhcLO6wq-6Jl",
        "colab_type": "code",
        "outputId": "652d87d8-932f-4597-d844-d28aa941b39e",
        "colab": {
          "base_uri": "https://localhost:8080/",
          "height": 202
        }
      },
      "source": [
        "start_time = timeit.default_timer()\n",
        "\n",
        "topic_defs = doc_utils.getWikiFullPage(topics_list = doc_utils.ALL_TOPICS)\n",
        "\n",
        "elapsed = timeit.default_timer() - start_time\n",
        "print(\"Lapsed time:\", elapsed,\"(s)\")"
      ],
      "execution_count": 13,
      "outputs": [
        {
          "output_type": "stream",
          "text": [
            "Obtaining full wikipedia page for the topic: Chemical engineering. (Definition of Class #[0])\n",
            "Obtaining full wikipedia page for the topic: Biomedical engineering. (Definition of Class #[1])\n",
            "Obtaining full wikipedia page for the topic: Civil engineering. (Definition of Class #[2])\n",
            "Obtaining full wikipedia page for the topic: Electrical engineering. (Definition of Class #[3])\n",
            "Obtaining full wikipedia page for the topic: Mechanical engineering. (Definition of Class #[4])\n",
            "Obtaining full wikipedia page for the topic: Aerospace engineering. (Definition of Class #[5])\n",
            "Obtaining full wikipedia page for the topic: Software engineering. (Definition of Class #[6])\n",
            "Obtaining full wikipedia page for the topic: Industrial engineering. (Definition of Class #[7])\n",
            "Obtaining full wikipedia page for the topic: Computer engineering. (Definition of Class #[8])\n",
            "Lapsed time: 1.928481292000015 (s)\n"
          ],
          "name": "stdout"
        }
      ]
    },
    {
      "cell_type": "code",
      "metadata": {
        "id": "6RCh42VS_ANj",
        "colab_type": "code",
        "outputId": "50eadde2-37f0-4ce0-8f6b-84a080b772e1",
        "colab": {
          "base_uri": "https://localhost:8080/",
          "height": 504
        }
      },
      "source": [
        "start_time = timeit.default_timer()\n",
        "\n",
        "print(\"[Obtaining summarized test data...]\\n\")\n",
        "test_data, total_num_articles = doc_utils.getAllCatArticles(doc_utils.ALL_TOPICS)\n",
        "print(\"\\n[Obtaining full test data...]\\n\")\n",
        "full_test_data, total_num_articles = doc_utils.getAllCatArticles(doc_utils.ALL_TOPICS, full_text_test=True)\n",
        "\n",
        "print(\"\\n --->Downloaded\",total_num_articles,\"articles as testing set.\")\n",
        "\n",
        "elapsed = timeit.default_timer() - start_time\n",
        "print(\" --->Lapsed time:\", elapsed,\"(s)\")"
      ],
      "execution_count": 0,
      "outputs": [
        {
          "output_type": "stream",
          "text": [
            "[Obtaining summarized test data...]\n",
            "\n",
            "Retrieved 68 articles from category topic 'Chemical engineering'[TopicID:0]\n",
            "Retrieved 74 articles from category topic 'Biomedical engineering'[TopicID:1]\n",
            "Retrieved 152 articles from category topic 'Civil engineering'[TopicID:2]\n",
            "Retrieved 141 articles from category topic 'Electrical engineering'[TopicID:3]\n",
            "Retrieved 217 articles from category topic 'Mechanical engineering'[TopicID:4]\n",
            "Retrieved 174 articles from category topic 'Aerospace engineering'[TopicID:5]\n",
            "Retrieved 57 articles from category topic 'Software engineering'[TopicID:6]\n",
            "Retrieved 75 articles from category topic 'Industrial engineering'[TopicID:7]\n",
            "Retrieved 33 articles from category topic 'Computer engineering'[TopicID:8]\n",
            "\n",
            "[Obtaining full test data...]\n",
            "\n",
            "Retrieved 68 articles from category topic 'Chemical engineering'[TopicID:0]\n",
            "Retrieved 74 articles from category topic 'Biomedical engineering'[TopicID:1]\n",
            "Retrieved 152 articles from category topic 'Civil engineering'[TopicID:2]\n",
            "Retrieved 141 articles from category topic 'Electrical engineering'[TopicID:3]\n",
            "Retrieved 217 articles from category topic 'Mechanical engineering'[TopicID:4]\n",
            "Retrieved 174 articles from category topic 'Aerospace engineering'[TopicID:5]\n",
            "Retrieved 57 articles from category topic 'Software engineering'[TopicID:6]\n",
            "Retrieved 75 articles from category topic 'Industrial engineering'[TopicID:7]\n",
            "Retrieved 33 articles from category topic 'Computer engineering'[TopicID:8]\n",
            "\n",
            " --->Downloaded 982 articles as testing set.\n",
            " --->Lapsed time: 227.783922479 (s)\n"
          ],
          "name": "stdout"
        }
      ]
    },
    {
      "cell_type": "markdown",
      "metadata": {
        "id": "qZjKBBfTMnlV",
        "colab_type": "text"
      },
      "source": [
        "## Using multithreading (improved version, ~x4.5 speed)"
      ]
    },
    {
      "cell_type": "code",
      "metadata": {
        "id": "R4O9kafONDv3",
        "colab_type": "code",
        "colab": {}
      },
      "source": [
        "#Removing variables, just for demostrating purposes.\n",
        "del(test_data)\n",
        "del(full_test_data)\n",
        "del(total_num_articles)"
      ],
      "execution_count": 0,
      "outputs": []
    },
    {
      "cell_type": "code",
      "metadata": {
        "id": "6aHZrRrJM0nY",
        "colab_type": "code",
        "outputId": "29ea72dd-9e3d-4747-bca3-148d3a119fa0",
        "colab": {
          "base_uri": "https://localhost:8080/",
          "height": 498
        }
      },
      "source": [
        "start_time = timeit.default_timer()\n",
        "\n",
        "print(\"[Obtaining summarized test data...]\\n\")\n",
        "\n",
        "test_data, total_num_articles = doc_utils.concurrentGetAllCatArticles(doc_utils.ALL_TOPICS)\n",
        "print(\"\\n[Obtaining full test data...]\\n\")\n",
        "full_test_data, total_num_articles = doc_utils.concurrentGetAllCatArticles(doc_utils.ALL_TOPICS, full_text_test=True)\n",
        "\n",
        "print(\"\\n --->Downloaded\",total_num_articles,\"articles as testing set.\")\n",
        "\n",
        "elapsed = timeit.default_timer() - start_time\n",
        "print(\" --->Lapsed time:\", elapsed,\"(s)\")"
      ],
      "execution_count": 14,
      "outputs": [
        {
          "output_type": "stream",
          "text": [
            "[Obtaining summarized test data...]\n",
            "\n",
            "Retrieved 32 articles from category topic 'Computer engineering'[TopicID:8]\n",
            "Retrieved 56 articles from category topic 'Software engineering'[TopicID:6]\n",
            "Retrieved 67 articles from category topic 'Chemical engineering'[TopicID:0]\n",
            "Retrieved 74 articles from category topic 'Industrial engineering'[TopicID:7]\n",
            "Retrieved 74 articles from category topic 'Biomedical engineering'[TopicID:1]\n",
            "Retrieved 140 articles from category topic 'Electrical engineering'[TopicID:3]\n",
            "Retrieved 151 articles from category topic 'Civil engineering'[TopicID:2]\n",
            "Retrieved 173 articles from category topic 'Aerospace engineering'[TopicID:5]\n",
            "Retrieved 216 articles from category topic 'Mechanical engineering'[TopicID:4]\n",
            "[Obtaining full test data...]\n",
            "\n",
            "\n",
            "Retrieved 32 articles from category topic 'Computer engineering'[TopicID:8]\n",
            "Retrieved 56 articles from category topic 'Software engineering'[TopicID:6]\n",
            "Retrieved 67 articles from category topic 'Chemical engineering'[TopicID:0]\n",
            "Retrieved 74 articles from category topic 'Industrial engineering'[TopicID:7]\n",
            "Retrieved 74 articles from category topic 'Biomedical engineering'[TopicID:1]\n",
            "Retrieved 140 articles from category topic 'Electrical engineering'[TopicID:3]\n",
            "Retrieved 151 articles from category topic 'Civil engineering'[TopicID:2]\n",
            "Retrieved 173 articles from category topic 'Aerospace engineering'[TopicID:5]\n",
            "Retrieved 216 articles from category topic 'Mechanical engineering'[TopicID:4]\n",
            " --->Downloaded \n",
            "983 articles as testing set.\n",
            " --->Lapsed time: 30.710761658000138 (s)\n"
          ],
          "name": "stdout"
        }
      ]
    },
    {
      "cell_type": "markdown",
      "metadata": {
        "id": "-lQVqSXfM1Ig",
        "colab_type": "text"
      },
      "source": [
        "## Saving data to disk (if needed)"
      ]
    },
    {
      "cell_type": "code",
      "metadata": {
        "id": "Gdybn9UZux0n",
        "colab_type": "code",
        "colab": {}
      },
      "source": [
        "#Saving data to disk\n",
        "# import pickle \n",
        "\n",
        "# testdatafile= open(\"test.data\",'wb') \n",
        "# full_testdatafile= open(\"full_test.data\",'wb') \n",
        "\n",
        "# pickle.dump(test_data,testdatafile)   \n",
        "# pickle.dump(full_test_data,full_testdatafile)   \n",
        "\n",
        "# full_testdatafile.close()\n",
        "# testdatafile.close()\n",
        "\n",
        "#Remember to download the generated files if in Colab notebook.\n",
        "\n",
        "#Loading data:\n",
        "# testdatafile = open(\"test.data\",'r')  \n",
        "# full_testdatafile= open(\"full_test.data\",'r') \n",
        "# # load the object from the file into var b\n",
        "# test_data = pickle.load(testdatafile)  \n",
        "# full_test_data = pickle.load(full_testdatafile)  "
      ],
      "execution_count": 0,
      "outputs": []
    },
    {
      "cell_type": "markdown",
      "metadata": {
        "id": "Lt13cyuyLe_6",
        "colab_type": "text"
      },
      "source": [
        "#Dataset cleaning and encoding"
      ]
    },
    {
      "cell_type": "markdown",
      "metadata": {
        "id": "T8YGoF0wedER",
        "colab_type": "text"
      },
      "source": [
        "Note: it can take several seconds to run"
      ]
    },
    {
      "cell_type": "code",
      "metadata": {
        "id": "MtLEHWT0_Kn3",
        "colab_type": "code",
        "outputId": "2128d755-89cb-4554-a6e2-0dbf0a9e5460",
        "colab": {
          "base_uri": "https://localhost:8080/",
          "height": 91
        }
      },
      "source": [
        "print(\"Preprocessing data...\\n\")\n",
        "dict, train_clean, test_clean, test_pairs = doc_utils.dataPreprocessing(topic_defs, test_data)\n",
        "print(\"Preprocessing data (with full test data)...\\n\")\n",
        "dict_f, train_clean_f, test_clean_f, test_pairs_f = doc_utils.dataPreprocessing(topic_defs, full_test_data, full_page=True)"
      ],
      "execution_count": 15,
      "outputs": [
        {
          "output_type": "stream",
          "text": [
            "Preprocessing data...\n",
            "\n",
            "Preprocessing data (with full test data)...\n",
            "\n"
          ],
          "name": "stdout"
        }
      ]
    },
    {
      "cell_type": "code",
      "metadata": {
        "id": "g7I8qrg3_s2v",
        "colab_type": "code",
        "colab": {}
      },
      "source": [
        "x_train, y_train, x_test, y_test = doc_utils.processNeuralNetData(train_clean,test_clean,test_pairs, dict,topics=doc_utils.ALL_TOPICS)\n",
        "\n",
        "x_train_f, y_train_f, x_test_f, y_test_f = doc_utils.processNeuralNetData(train_clean_f,test_clean_f,test_pairs_f, dict_f,topics=doc_utils.ALL_TOPICS)"
      ],
      "execution_count": 0,
      "outputs": []
    },
    {
      "cell_type": "markdown",
      "metadata": {
        "id": "SY9QT0CuLifx",
        "colab_type": "text"
      },
      "source": [
        "#FeedForward Neural Network Test"
      ]
    },
    {
      "cell_type": "markdown",
      "metadata": {
        "id": "5t5iGFwqRM3q",
        "colab_type": "text"
      },
      "source": [
        "##Using only summary from test dataset pages"
      ]
    },
    {
      "cell_type": "markdown",
      "metadata": {
        "id": "T31Dp92kMoem",
        "colab_type": "text"
      },
      "source": [
        "### Obtaining average performance\n",
        "Note: running 30 trials takes around 2 minutes.\n",
        "\n",
        "Note: Ignore tensorflow warnings (only ocurr in first execution)"
      ]
    },
    {
      "cell_type": "code",
      "metadata": {
        "id": "le3mxtcMAvxz",
        "colab_type": "code",
        "outputId": "06373768-bc22-41b1-bd40-be28544edc15",
        "colab": {
          "base_uri": "https://localhost:8080/",
          "height": 160,
          "referenced_widgets": [
            "771568507bdb45838a384d5524dfac03",
            "e74638059ea94a38952c9c4a6490cfef",
            "5452e4b840284b41bf6bb4e5b30b8d00",
            "f7e7a100beed4306b5db76c06f4a09c6",
            "2979136509444cd4a6382472b559acd6",
            "008a62be0577492ca23e571e76f70c24",
            "f31878e557034d3986db6934abdd6752",
            "f91e7962862e41dc9bf615ce169b5326"
          ]
        }
      },
      "source": [
        "n_runs = 30\n",
        "mean_acc = 0\n",
        "max_acc = 0\n",
        "\n",
        "acc_list = []\n",
        "\n",
        "print(\"Executing\",n_runs,\"runs of model training/evaluation...\\n\")\n",
        "\n",
        "for i in tqdm(range(n_runs)):\n",
        "    clear_session()\n",
        "\n",
        "    #Neural Architecture Definition\n",
        "    model = Sequential()\n",
        "    model.add(Dense(512, activation='relu', input_shape=(len(dict),)))\n",
        "\n",
        "    model.add(Dense(len(doc_utils.ALL_TOPICS), activation='softmax'))\n",
        "    #Model compilation\n",
        "    model.compile(optimizer='rmsprop', loss='categorical_crossentropy',metrics=['accuracy'])\n",
        "    #Model training\n",
        "    hist = model.fit(x_train, y_train, epochs=5,verbose=0)\n",
        "\n",
        "    model_acc = model.evaluate(x_test, y_test, verbose=0)[1]\n",
        "    acc_list.append(model_acc)\n",
        "\n",
        "    if model_acc >= max(acc_list):\n",
        "        #save best model to date\n",
        "        model_json = model.to_json()\n",
        "        with open(\"model.json\", \"w\") as f:\n",
        "            f.write(model_json)\n",
        "        model.save_weights(\"model.h5\")\n",
        "\n",
        "\n",
        "print(\"\\nResulting Average accuracy:\",np.mean(acc_list))\n",
        "print(\"Best accuracy:\", max(acc_list))"
      ],
      "execution_count": 18,
      "outputs": [
        {
          "output_type": "stream",
          "text": [
            "Executing 30 runs of model training/evaluation...\n",
            "\n"
          ],
          "name": "stdout"
        },
        {
          "output_type": "display_data",
          "data": {
            "application/vnd.jupyter.widget-view+json": {
              "model_id": "771568507bdb45838a384d5524dfac03",
              "version_minor": 0,
              "version_major": 2
            },
            "text/plain": [
              "HBox(children=(IntProgress(value=0, max=30), HTML(value='')))"
            ]
          },
          "metadata": {
            "tags": []
          }
        },
        {
          "output_type": "stream",
          "text": [
            "\n",
            "\n",
            "Resulting Average accuracy: 0.3422516107226972\n",
            "Best accuracy: 0.45269582911355694\n"
          ],
          "name": "stdout"
        }
      ]
    },
    {
      "cell_type": "markdown",
      "metadata": {
        "id": "PbBOSxw3MrI0",
        "colab_type": "text"
      },
      "source": [
        "### Visualizing (single) model classification performance (C.Matrix)"
      ]
    },
    {
      "cell_type": "code",
      "metadata": {
        "id": "SkYrSR8ZDl20",
        "colab_type": "code",
        "outputId": "04e24f7b-6402-46e2-81c7-3b82dfa988e9",
        "colab": {
          "base_uri": "https://localhost:8080/",
          "height": 35
        }
      },
      "source": [
        "#loading best model obtained\n",
        "json_f = open('model.json', 'r')\n",
        "best_model_json = json_f.read()\n",
        "json_f.close()\n",
        "best_model = model_from_json(best_model_json)\n",
        "#loading weights\n",
        "best_model.load_weights(\"model.h5\")\n",
        "\n",
        "# evaluate loaded model on test data\n",
        "best_model.compile(optimizer='rmsprop', loss='categorical_crossentropy',metrics=['accuracy'])\n",
        "predictions = best_model.predict_classes(x_test) #for later building confusion matrix\n",
        "print(\"Model accuracy:\",best_model.evaluate(x_test, y_test, verbose=0)[1])"
      ],
      "execution_count": 19,
      "outputs": [
        {
          "output_type": "stream",
          "text": [
            "Model accuracy: 0.45269582911355694\n"
          ],
          "name": "stdout"
        }
      ]
    },
    {
      "cell_type": "code",
      "metadata": {
        "id": "CZiQx2tYGYuJ",
        "colab_type": "code",
        "outputId": "07e15d79-6643-48b4-bcc2-98c5be8f9622",
        "colab": {
          "base_uri": "https://localhost:8080/",
          "height": 444
        }
      },
      "source": [
        "doc_utils.plotConfMatrix(y_test, predictions, model = \"NN\")"
      ],
      "execution_count": 20,
      "outputs": [
        {
          "output_type": "display_data",
          "data": {
            "image/png": "[encoded data removed]",
            "text/plain": [
              "<Figure size 720x504 with 2 Axes>"
            ]
          },
          "metadata": {
            "tags": []
          }
        }
      ]
    },
    {
      "cell_type": "markdown",
      "metadata": {
        "id": "H7AIc87KIOeq",
        "colab_type": "text"
      },
      "source": [
        "Recall that the test dataset was :\n",
        "\n",
        "* 32 articles from category topic 'Computer engineering'[TopicID:8]\n",
        "* 56 articles from category topic 'Software engineering'[TopicID:6]\n",
        "* 67 articles from category topic 'Chemical engineering'[TopicID:0]\n",
        "* 74 articles from category topic 'Industrial engineering'[TopicID:7]\n",
        "* 73 articles from category topic 'Biomedical engineering'[TopicID:1]\n",
        "* 140 articles from category topic 'Electrical engineering'[TopicID:3]\n",
        "* 151 articles from category topic 'Civil engineering'[TopicID:2]\n",
        "* 173 articles from category topic 'Aerospace engineering'[TopicID:5]\n",
        "* 216 articles from category topic 'Mechanical engineering'[TopicID:4]"
      ]
    },
    {
      "cell_type": "markdown",
      "metadata": {
        "id": "wLk16E_FRWS9",
        "colab_type": "text"
      },
      "source": [
        "##Using full content from test dataset pages"
      ]
    },
    {
      "cell_type": "markdown",
      "metadata": {
        "id": "7WHogKXnajAf",
        "colab_type": "text"
      },
      "source": [
        "### Obtaining average performance\n",
        "Note: running 30 trials takes around 2 minutes."
      ]
    },
    {
      "cell_type": "code",
      "metadata": {
        "id": "R1IWdtUmYt0n",
        "colab_type": "code",
        "outputId": "c6cd060c-f40d-44d8-a647-5bb52ab2cf97",
        "colab": {
          "base_uri": "https://localhost:8080/",
          "height": 160,
          "referenced_widgets": [
            "b980b712f38c403fbc729963f759516b",
            "065c94e6a278484c89907845b03ba2f0",
            "f8317c2da5cc4bf783f3d67dd1ace33c",
            "60584e8f6e2642778bce2aecf9cbf67c",
            "a09791ab7c36482b846cd95f393a4b13",
            "645f5fe536f0402191075627726e449d",
            "60ae501613f54ae0bd9911bfccc8582b",
            "2f479243f2d94a0495f5edc053b97862"
          ]
        }
      },
      "source": [
        "n_runs = 30\n",
        "mean_acc = 0\n",
        "max_acc = 0\n",
        "\n",
        "acc_list = []\n",
        "\n",
        "print(\"Executing\",n_runs,\"runs of model training/evaluation...\\n\")\n",
        "\n",
        "for i in tqdm(range(n_runs)):\n",
        "    clear_session()\n",
        "\n",
        "    #Neural Architecture Definition\n",
        "    model = Sequential()\n",
        "    model.add(Dense(512, activation='relu', input_shape=(len(dict_f),)))\n",
        "\n",
        "    model.add(Dense(len(doc_utils.ALL_TOPICS), activation='softmax'))\n",
        "    #Model compilation\n",
        "    model.compile(optimizer='rmsprop', loss='categorical_crossentropy',metrics=['accuracy'])\n",
        "    #Model training\n",
        "    hist = model.fit(x_train_f, y_train_f, epochs=5,verbose=0)\n",
        "\n",
        "    model_acc = model.evaluate(x_test_f, y_test_f, verbose=0)[1]\n",
        "    acc_list.append(model_acc)\n",
        "\n",
        "    if model_acc >= max(acc_list):\n",
        "        #save best model to date\n",
        "        model_json = model.to_json()\n",
        "        with open(\"model_f.json\", \"w\") as f:\n",
        "            f.write(model_json)\n",
        "        model.save_weights(\"model_f.h5\")\n",
        "\n",
        "\n",
        "print(\"\\nResulting Average accuracy:\",np.mean(acc_list))\n",
        "print(\"Best accuracy:\", max(acc_list))"
      ],
      "execution_count": 21,
      "outputs": [
        {
          "output_type": "stream",
          "text": [
            "Executing 30 runs of model training/evaluation...\n",
            "\n"
          ],
          "name": "stdout"
        },
        {
          "output_type": "display_data",
          "data": {
            "application/vnd.jupyter.widget-view+json": {
              "model_id": "b980b712f38c403fbc729963f759516b",
              "version_minor": 0,
              "version_major": 2
            },
            "text/plain": [
              "HBox(children=(IntProgress(value=0, max=30), HTML(value='')))"
            ]
          },
          "metadata": {
            "tags": []
          }
        },
        {
          "output_type": "stream",
          "text": [
            "\n",
            "\n",
            "Resulting Average accuracy: 0.34262461852283543\n",
            "Best accuracy: 0.4333672431522141\n"
          ],
          "name": "stdout"
        }
      ]
    },
    {
      "cell_type": "markdown",
      "metadata": {
        "id": "d2I4YNT0adZr",
        "colab_type": "text"
      },
      "source": [
        "### Visualizing (single) model classification performance (C.Matrix)"
      ]
    },
    {
      "cell_type": "code",
      "metadata": {
        "id": "qfFQ-24Dap-X",
        "colab_type": "code",
        "outputId": "adb62669-7e5a-4cdc-9180-4bee34971501",
        "colab": {
          "base_uri": "https://localhost:8080/",
          "height": 35
        }
      },
      "source": [
        "#loading best model obtained\n",
        "json_f = open('model_f.json', 'r')\n",
        "best_model_f_json = json_f.read()\n",
        "json_f.close()\n",
        "best_model_f = model_from_json(best_model_f_json)\n",
        "#loading weights\n",
        "best_model_f.load_weights(\"model_f.h5\")\n",
        "\n",
        "# evaluate loaded model on test data\n",
        "best_model_f.compile(optimizer='rmsprop', loss='categorical_crossentropy',metrics=['accuracy'])\n",
        "predictions_f = best_model_f.predict_classes(x_test_f) #for later building confusion matrix\n",
        "print(\"Model accuracy:\",best_model_f.evaluate(x_test_f, y_test_f, verbose=0)[1])"
      ],
      "execution_count": 22,
      "outputs": [
        {
          "output_type": "stream",
          "text": [
            "Model accuracy: 0.4333672431522141\n"
          ],
          "name": "stdout"
        }
      ]
    },
    {
      "cell_type": "code",
      "metadata": {
        "id": "r3VWV90hbnv5",
        "colab_type": "code",
        "outputId": "7578408a-ed67-47fd-a7a2-c3de1387763b",
        "colab": {
          "base_uri": "https://localhost:8080/",
          "height": 444
        }
      },
      "source": [
        "doc_utils.plotConfMatrix(y_test_f, predictions_f, model=\"NN\")"
      ],
      "execution_count": 23,
      "outputs": [
        {
          "output_type": "display_data",
          "data": {
            "image/png": "[encoded data removed]",
            "text/plain": [
              "<Figure size 720x504 with 2 Axes>"
            ]
          },
          "metadata": {
            "tags": []
          }
        }
      ]
    },
    {
      "cell_type": "markdown",
      "metadata": {
        "id": "ljQQMbQg3_bY",
        "colab_type": "text"
      },
      "source": [
        "It is interesting to look how now it has obtained better results on some classes but worse on others."
      ]
    },
    {
      "cell_type": "markdown",
      "metadata": {
        "id": "Bl26fHQPbLOH",
        "colab_type": "text"
      },
      "source": [
        "Recall that the test dataset was :\n",
        "\n",
        "* 32 articles from category topic 'Computer engineering'[TopicID:8]\n",
        "* 56 articles from category topic 'Software engineering'[TopicID:6]\n",
        "* 67 articles from category topic 'Chemical engineering'[TopicID:0]\n",
        "* 74 articles from category topic 'Industrial engineering'[TopicID:7]\n",
        "* 73 articles from category topic 'Biomedical engineering'[TopicID:1]\n",
        "* 140 articles from category topic 'Electrical engineering'[TopicID:3]\n",
        "* 151 articles from category topic 'Civil engineering'[TopicID:2]\n",
        "* 173 articles from category topic 'Aerospace engineering'[TopicID:5]\n",
        "* 216 articles from category topic 'Mechanical engineering'[TopicID:4]"
      ]
    },
    {
      "cell_type": "markdown",
      "metadata": {
        "id": "grHrPK6fNitI",
        "colab_type": "text"
      },
      "source": [
        "#Support Vector Machine Test\n",
        "\n",
        "Uses a different data processing pipeline: TF-IDF"
      ]
    },
    {
      "cell_type": "code",
      "metadata": {
        "id": "o0szBFH_RD1m",
        "colab_type": "code",
        "outputId": "1da42508-0d2f-4162-ad75-75df0b5af8fd",
        "colab": {
          "base_uri": "https://localhost:8080/",
          "height": 350
        }
      },
      "source": [
        "topic_defs = doc_utils.concurrentGetWikiFullPage(topics_list = doc_utils.ALL_TOPICS)\n",
        "\n",
        "test_raw_data, total_num_articles = doc_utils.concurrentGetAllCatArticles(doc_utils.ALL_TOPICS, full_text_test=True)"
      ],
      "execution_count": 7,
      "outputs": [
        {
          "output_type": "stream",
          "text": [
            "Obtaining full wikipedia page for the topic: Chemical engineering. (Definition of Class #[0])\n",
            "Obtaining full wikipedia page for the topic: Biomedical engineering. (Definition of Class #[1])\n",
            "Obtaining full wikipedia page for the topic: Civil engineering. (Definition of Class #[2])Obtaining full wikipedia page for the topic: Electrical engineering. (Definition of Class #[3])\n",
            "\n",
            "Obtaining full wikipedia page for the topic: Mechanical engineering. (Definition of Class #[4])\n",
            "Obtaining full wikipedia page for the topic: Aerospace engineering. (Definition of Class #[5])\n",
            "Obtaining full wikipedia page for the topic: Software engineering. (Definition of Class #[6])\n",
            "Obtaining full wikipedia page for the topic: Industrial engineering. (Definition of Class #[7])\n",
            "Obtaining full wikipedia page for the topic: Computer engineering. (Definition of Class #[8])\n",
            "Retrieved 32 articles from category topic 'Computer engineering'[TopicID:8]\n",
            "Retrieved 56 articles from category topic 'Software engineering'[TopicID:6]\n",
            "Retrieved 67 articles from category topic 'Chemical engineering'[TopicID:0]\n",
            "Retrieved 74 articles from category topic 'Industrial engineering'[TopicID:7]\n",
            "Retrieved 74 articles from category topic 'Biomedical engineering'[TopicID:1]\n",
            "Retrieved 140 articles from category topic 'Electrical engineering'[TopicID:3]\n",
            "Retrieved 151 articles from category topic 'Civil engineering'[TopicID:2]\n",
            "Retrieved 173 articles from category topic 'Aerospace engineering'[TopicID:5]\n",
            "Retrieved 216 articles from category topic 'Mechanical engineering'[TopicID:4]\n"
          ],
          "name": "stdout"
        }
      ]
    },
    {
      "cell_type": "code",
      "metadata": {
        "id": "rBMcZsevkRCw",
        "colab_type": "code",
        "colab": {}
      },
      "source": [
        "x_train, y_train, x_test, y_test = doc_utils.processClassifierData(topic_defs, test_raw_data)"
      ],
      "execution_count": 0,
      "outputs": []
    },
    {
      "cell_type": "code",
      "metadata": {
        "id": "69pxvKVRld3V",
        "colab_type": "code",
        "outputId": "3ac966b5-1423-4a89-f08c-0d4142135657",
        "colab": {
          "base_uri": "https://localhost:8080/",
          "height": 123,
          "referenced_widgets": [
            "84bbdf78b5ac43bfa1926dd180e5d59b",
            "7a65fc1ccb1c41df93c7d51f33d01b4c",
            "04996192bc3446d1bb0dfa94a08e93a1",
            "4cbbace388ba40739bf8333b418d408a",
            "8e1222c4b159420ba672bdb3c4eb9a5c",
            "3fe300a767514a30b514bc3de4e5c6c2",
            "b975707d4b034efcb8b7df34141932c9",
            "1c3d311c939b48d7a4d9caa701579b04"
          ]
        }
      },
      "source": [
        "n_runs = 30\n",
        "mean_acc = 0\n",
        "max_acc = 0\n",
        "\n",
        "acc_list = []\n",
        "best_svm = None\n",
        "\n",
        "print(\"Executing\",n_runs,\"runs of SVM classifiers...\")\n",
        "\n",
        "for i in tqdm(range(n_runs)):\n",
        "\n",
        "    text_clf_svm = Pipeline([('vect', CountVectorizer()),\n",
        "                            ('tfidf', TfidfTransformer()),\n",
        "                            ('clf-svm', SGDClassifier()),\n",
        "                            ])    \n",
        "\n",
        "    _ = text_clf_svm.fit(x_train, y_train)\n",
        "\n",
        "    predicted_svm = text_clf_svm.predict(x_test)\n",
        "    classification_accuracy = np.mean(predicted_svm == y_test)\n",
        "\n",
        "    acc_list.append(classification_accuracy)\n",
        "    \n",
        "    if classification_accuracy >= max(acc_list):\n",
        "        best_svm = text_clf_svm\n",
        "\n",
        "print(\"Resulting Average accuracy:\",np.mean(acc_list))\n",
        "print(\"Best accuracy:\", max(acc_list))"
      ],
      "execution_count": 10,
      "outputs": [
        {
          "output_type": "stream",
          "text": [
            "Executing 30 runs of SVM classifiers...\n"
          ],
          "name": "stdout"
        },
        {
          "output_type": "display_data",
          "data": {
            "application/vnd.jupyter.widget-view+json": {
              "model_id": "84bbdf78b5ac43bfa1926dd180e5d59b",
              "version_minor": 0,
              "version_major": 2
            },
            "text/plain": [
              "HBox(children=(IntProgress(value=0, max=30), HTML(value='')))"
            ]
          },
          "metadata": {
            "tags": []
          }
        },
        {
          "output_type": "stream",
          "text": [
            "\n",
            "Resulting Average accuracy: 0.2985757884028485\n",
            "Best accuracy: 0.5228891149542217\n"
          ],
          "name": "stdout"
        }
      ]
    },
    {
      "cell_type": "code",
      "metadata": {
        "id": "8UU-5JEbl6s4",
        "colab_type": "code",
        "outputId": "dce08a8c-bb25-468c-96b7-73909e59b4c0",
        "colab": {
          "base_uri": "https://localhost:8080/",
          "height": 444
        }
      },
      "source": [
        "svm_predictions = best_svm.predict(x_test)\n",
        "\n",
        "doc_utils.plotConfMatrix(y_test, svm_predictions, model=\"SVM\")"
      ],
      "execution_count": 12,
      "outputs": [
        {
          "output_type": "display_data",
          "data": {
            "image/png": "[encoded data removed]",
            "text/plain": [
              "<Figure size 720x504 with 2 Axes>"
            ]
          },
          "metadata": {
            "tags": []
          }
        }
      ]
    },
    {
      "cell_type": "markdown",
      "metadata": {
        "id": "wKNq5WKUzuhx",
        "colab_type": "text"
      },
      "source": [
        "# Multinomial Naive Bayes Test"
      ]
    },
    {
      "cell_type": "code",
      "metadata": {
        "id": "tOMZBKOBnbJe",
        "colab_type": "code",
        "colab": {}
      },
      "source": [
        "x_train, y_train, x_test, y_test = doc_utils.processClassifierData(topic_defs, test_raw_data)"
      ],
      "execution_count": 0,
      "outputs": []
    },
    {
      "cell_type": "code",
      "metadata": {
        "id": "hEJt-x0w0T_9",
        "colab_type": "code",
        "colab": {
          "base_uri": "https://localhost:8080/",
          "height": 123,
          "referenced_widgets": [
            "e229d80554ab4577a96e16bab4c19f1b",
            "d0d4ffcff60a47c3a56d781c14a9fad5",
            "e4e6284ad2384ca4a7f15f658b70e44f",
            "eeac2d2149c74a67a5b091a956825063",
            "6c9dcf0e4a8c4cb1b9117ad2d4b86ce4",
            "bcfc20db97c546f8ab624b91c50adb6f",
            "e05bfda65b994248a09dc44552a38004",
            "2f778344b34d4d8997e0b3660c341663"
          ]
        },
        "outputId": "7b6492b6-0353-4504-e8c9-a3b4e8f3b0b2"
      },
      "source": [
        "n_runs = 30\n",
        "mean_acc = 0\n",
        "max_acc = 0\n",
        "\n",
        "acc_list = []\n",
        "best_NB = None\n",
        "\n",
        "print(\"Executing\",n_runs,\"runs of Multinomial NaiveBayes classifiers...\")\n",
        "\n",
        "for i in tqdm(range(n_runs)):\n",
        "\n",
        "    text_clf_NB = Pipeline([('vect', CountVectorizer()),\n",
        "                            ('tfidf', TfidfTransformer()),\n",
        "                            ('clf-NB', MultinomialNB()),\n",
        "                            ])    \n",
        "\n",
        "    _ = text_clf_NB.fit(x_train, y_train)\n",
        "\n",
        "    predicted_NB = text_clf_NB.predict(x_test)\n",
        "    classification_accuracy = np.mean(predicted_NB == y_test)\n",
        "\n",
        "    acc_list.append(classification_accuracy)\n",
        "    \n",
        "    if classification_accuracy >= max(acc_list):\n",
        "        best_NB = text_clf_NB\n",
        "\n",
        "print(\"Resulting Average accuracy:\",np.mean(acc_list))\n",
        "print(\"Best accuracy:\", max(acc_list))"
      ],
      "execution_count": 9,
      "outputs": [
        {
          "output_type": "stream",
          "text": [
            "Executing 30 runs of Multinomial NaiveBayes classifiers...\n"
          ],
          "name": "stdout"
        },
        {
          "output_type": "display_data",
          "data": {
            "application/vnd.jupyter.widget-view+json": {
              "model_id": "e229d80554ab4577a96e16bab4c19f1b",
              "version_minor": 0,
              "version_major": 2
            },
            "text/plain": [
              "HBox(children=(IntProgress(value=0, max=30), HTML(value='')))"
            ]
          },
          "metadata": {
            "tags": []
          }
        },
        {
          "output_type": "stream",
          "text": [
            "\n",
            "Resulting Average accuracy: 0.5920651068158698\n",
            "Best accuracy: 0.5920651068158698\n"
          ],
          "name": "stdout"
        }
      ]
    },
    {
      "cell_type": "code",
      "metadata": {
        "id": "p9oBTx7h03Eh",
        "colab_type": "code",
        "colab": {
          "base_uri": "https://localhost:8080/",
          "height": 444
        },
        "outputId": "2b6d1463-86af-465e-b533-e399e88a9c07"
      },
      "source": [
        "NB_predictions = best_NB.predict(x_test)\n",
        "\n",
        "#This one has \"preference\" towards Mech. engineering. Curious\n",
        "doc_utils.plotConfMatrix(y_test, NB_predictions, model=\"NB\")"
      ],
      "execution_count": 11,
      "outputs": [
        {
          "output_type": "display_data",
          "data": {
            "image/png": "[encoded data removed]",
            "text/plain": [
              "<Figure size 720x504 with 2 Axes>"
            ]
          },
          "metadata": {
            "tags": []
          }
        }
      ]
    },
    {
      "cell_type": "code",
      "metadata": {
        "id": "jMsaUQJ-1JYi",
        "colab_type": "code",
        "colab": {}
      },
      "source": [
        ""
      ],
      "execution_count": 0,
      "outputs": []
    }
  ]
}
