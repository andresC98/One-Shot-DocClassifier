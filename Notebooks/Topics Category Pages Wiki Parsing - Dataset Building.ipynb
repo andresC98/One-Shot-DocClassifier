{
  "nbformat": 4,
  "nbformat_minor": 0,
  "metadata": {
    "colab": {
      "name": "[TFG] Wiki parser articles and subcategories.ipynb",
      "provenance": [],
      "collapsed_sections": [],
      "toc_visible": true,
      "authorship_tag": "ABX9TyOmHlJMCJcMGnhh9sKvpFVn",
      "include_colab_link": true
    },
    "kernelspec": {
      "name": "python3",
      "display_name": "Python 3"
    }
  },
  "cells": [
    {
      "cell_type": "markdown",
      "metadata": {
        "id": "view-in-github",
        "colab_type": "text"
      },
      "source": [
        "<a href=\"https://colab.research.google.com/github/andresC98/One-Shot-DocClassifier/blob/master/Topic%20Categories%20Wiki%20Parsing%20-%20Dataset%20Building.ipynb\" target=\"_parent\"><img src=\"https://colab.research.google.com/assets/colab-badge.svg\" alt=\"Open In Colab\"/></a>"
      ]
    },
    {
      "cell_type": "markdown",
      "metadata": {
        "id": "g1M9oPjTzlY6",
        "colab_type": "text"
      },
      "source": [
        "#Researching Wikipedia categories Parsing Libraries / Methods "
      ]
    },
    {
      "cell_type": "markdown",
      "metadata": {
        "id": "Z4hVjPdSyS_t",
        "colab_type": "text"
      },
      "source": [
        "## \"Wikipedia\" library category retrieval [broken API]"
      ]
    },
    {
      "cell_type": "code",
      "metadata": {
        "id": "3-AkXObagagW",
        "colab_type": "code",
        "outputId": "182c60ce-07fb-4eb9-9bd3-7d148f02bf66",
        "colab": {
          "base_uri": "https://localhost:8080/",
          "height": 344
        }
      },
      "source": [
        "#Libraries\n",
        "!pip install wikipedia\n",
        "import wikipedia\n",
        "import numpy as np\n",
        "import nltk, gensim\n",
        "\n",
        "nltk.download('punkt') #obtaining punctuation library"
      ],
      "execution_count": 0,
      "outputs": [
        {
          "output_type": "stream",
          "text": [
            "Collecting wikipedia\n",
            "  Downloading https://files.pythonhosted.org/packages/67/35/25e68fbc99e672127cc6fbb14b8ec1ba3dfef035bf1e4c90f78f24a80b7d/wikipedia-1.4.0.tar.gz\n",
            "Requirement already satisfied: beautifulsoup4 in /usr/local/lib/python3.6/dist-packages (from wikipedia) (4.6.3)\n",
            "Requirement already satisfied: requests<3.0.0,>=2.0.0 in /usr/local/lib/python3.6/dist-packages (from wikipedia) (2.21.0)\n",
            "Requirement already satisfied: certifi>=2017.4.17 in /usr/local/lib/python3.6/dist-packages (from requests<3.0.0,>=2.0.0->wikipedia) (2019.11.28)\n",
            "Requirement already satisfied: urllib3<1.25,>=1.21.1 in /usr/local/lib/python3.6/dist-packages (from requests<3.0.0,>=2.0.0->wikipedia) (1.24.3)\n",
            "Requirement already satisfied: idna<2.9,>=2.5 in /usr/local/lib/python3.6/dist-packages (from requests<3.0.0,>=2.0.0->wikipedia) (2.8)\n",
            "Requirement already satisfied: chardet<3.1.0,>=3.0.2 in /usr/local/lib/python3.6/dist-packages (from requests<3.0.0,>=2.0.0->wikipedia) (3.0.4)\n",
            "Building wheels for collected packages: wikipedia\n",
            "  Building wheel for wikipedia (setup.py) ... \u001b[?25l\u001b[?25hdone\n",
            "  Created wheel for wikipedia: filename=wikipedia-1.4.0-cp36-none-any.whl size=11686 sha256=e2037e6143ce297676af5ccfdee02e3ec254136aa5c39727ed203cfdb5b13351\n",
            "  Stored in directory: /root/.cache/pip/wheels/87/2a/18/4e471fd96d12114d16fe4a446d00c3b38fb9efcb744bd31f4a\n",
            "Successfully built wikipedia\n",
            "Installing collected packages: wikipedia\n",
            "Successfully installed wikipedia-1.4.0\n",
            "[nltk_data] Downloading package punkt to /root/nltk_data...\n",
            "[nltk_data]   Unzipping tokenizers/punkt.zip.\n"
          ],
          "name": "stdout"
        },
        {
          "output_type": "execute_result",
          "data": {
            "text/plain": [
              "True"
            ]
          },
          "metadata": {
            "tags": []
          },
          "execution_count": 1
        }
      ]
    },
    {
      "cell_type": "code",
      "metadata": {
        "id": "aMcvjyhej2tW",
        "colab_type": "code",
        "colab": {}
      },
      "source": [
        "m_eng = wikipedia.page(\"Mechanical_engineering\")"
      ],
      "execution_count": 0,
      "outputs": []
    },
    {
      "cell_type": "code",
      "metadata": {
        "id": "YqmzNrR9kLMT",
        "colab_type": "code",
        "outputId": "b863dd41-34a5-47a7-e321-ad455532e2a9",
        "colab": {
          "base_uri": "https://localhost:8080/",
          "height": 35
        }
      },
      "source": [
        "print(m_eng.sections)"
      ],
      "execution_count": 0,
      "outputs": [
        {
          "output_type": "stream",
          "text": [
            "[]\n"
          ],
          "name": "stdout"
        }
      ]
    },
    {
      "cell_type": "code",
      "metadata": {
        "id": "u0ASp16gkPYq",
        "colab_type": "code",
        "colab": {}
      },
      "source": [
        "m_eng_cats = wikipedia.page(\"Category:Mechanical_engineering\")"
      ],
      "execution_count": 0,
      "outputs": []
    },
    {
      "cell_type": "code",
      "metadata": {
        "id": "wt_tJgmwmfMK",
        "colab_type": "code",
        "outputId": "5d70a4b4-62d7-4f2c-aa18-21ccc312e4e8",
        "colab": {
          "base_uri": "https://localhost:8080/",
          "height": 72
        }
      },
      "source": [
        "m_eng_cats.categories"
      ],
      "execution_count": 0,
      "outputs": [
        {
          "output_type": "execute_result",
          "data": {
            "text/plain": [
              "['Applied and interdisciplinary physics',\n",
              " 'Commons category link from Wikidata',\n",
              " 'Engineering disciplines']"
            ]
          },
          "metadata": {
            "tags": []
          },
          "execution_count": 13
        }
      ]
    },
    {
      "cell_type": "code",
      "metadata": {
        "id": "cATYlrJGmh9P",
        "colab_type": "code",
        "outputId": "5078d884-61c9-474f-cebd-5daa6b6f0fd3",
        "colab": {
          "base_uri": "https://localhost:8080/",
          "height": 35
        }
      },
      "source": [
        "m_eng_cats.sections"
      ],
      "execution_count": 0,
      "outputs": [
        {
          "output_type": "execute_result",
          "data": {
            "text/plain": [
              "[]"
            ]
          },
          "metadata": {
            "tags": []
          },
          "execution_count": 14
        }
      ]
    },
    {
      "cell_type": "markdown",
      "metadata": {
        "id": "A2b4F2RErpQW",
        "colab_type": "text"
      },
      "source": [
        "## Using Web Scraping tools [WIP]"
      ]
    },
    {
      "cell_type": "code",
      "metadata": {
        "id": "bdpUsTHBqVCX",
        "colab_type": "code",
        "colab": {}
      },
      "source": [
        "import bs4\n",
        "import requests"
      ],
      "execution_count": 0,
      "outputs": []
    },
    {
      "cell_type": "code",
      "metadata": {
        "id": "PzdQVC8Umuru",
        "colab_type": "code",
        "colab": {}
      },
      "source": [
        "response = requests.get(\"https://en.wikipedia.org/wiki/Category:Mechanical_engineering\")\n",
        "\n",
        "if response is not None:\n",
        "    page = bs4.BeautifulSoup(response.text, 'html.parser')"
      ],
      "execution_count": 0,
      "outputs": []
    },
    {
      "cell_type": "code",
      "metadata": {
        "id": "SdeVII6lqljX",
        "colab_type": "code",
        "outputId": "574f4907-21ef-44ca-8d19-9f8ea9d26221",
        "colab": {
          "base_uri": "https://localhost:8080/",
          "height": 1000
        }
      },
      "source": [
        "page.select(\".mw-category-generated\")"
      ],
      "execution_count": 0,
      "outputs": [
        {
          "output_type": "execute_result",
          "data": {
            "text/plain": [
              "[<div class=\"mw-category-generated\" dir=\"ltr\" lang=\"en\"><div id=\"mw-subcategories\">\n",
              " <h2>Subcategories</h2>\n",
              " <p>This category has the following 28 subcategories, out of 28 total.\n",
              " </p><div class=\"mw-content-ltr\" dir=\"ltr\" lang=\"en\"><div class=\"mw-category\"><div class=\"mw-category-group\"><h3>A</h3>\n",
              " <ul><li><div class=\"CategoryTreeSection\"><div class=\"CategoryTreeItem\"><span class=\"CategoryTreeBullet\"><span class=\"CategoryTreeToggle\" data-ct-state=\"collapsed\" data-ct-title=\"Mechanical_engineering_awards\">►</span> </span> <a href=\"/wiki/Category:Mechanical_engineering_awards\" title=\"Category:Mechanical engineering awards\">Mechanical engineering awards</a>‎ <span dir=\"ltr\" title=\"Contains 4 subcategories, 11 pages, and 0 files\">(4 C, 11 P)</span></div><div class=\"CategoryTreeChildren\" style=\"display:none\"></div></div></li></ul></div><div class=\"mw-category-group\"><h3>C</h3>\n",
              " <ul><li><div class=\"CategoryTreeSection\"><div class=\"CategoryTreeItem\"><span class=\"CategoryTreeEmptyBullet\">► </span> <a href=\"/wiki/Category:Mechanical_engineering_competitions\" title=\"Category:Mechanical engineering competitions\">Mechanical engineering competitions</a>‎ <span dir=\"ltr\" title=\"Contains 0 subcategories, 6 pages, and 0 files\">(6 P)</span></div><div class=\"CategoryTreeChildren\" style=\"display:none\"></div></div></li></ul></div><div class=\"mw-category-group\"><h3>D</h3>\n",
              " <ul><li><div class=\"CategoryTreeSection\"><div class=\"CategoryTreeItem\"><span class=\"CategoryTreeBullet\"><span class=\"CategoryTreeToggle\" data-ct-state=\"collapsed\" data-ct-title=\"Mechanical_engineering_by_discipline\">►</span> </span> <a href=\"/wiki/Category:Mechanical_engineering_by_discipline\" title=\"Category:Mechanical engineering by discipline\">Mechanical engineering by discipline</a>‎ <span dir=\"ltr\" title=\"Contains 7 subcategories, 0 pages, and 0 files\">(7 C)</span></div><div class=\"CategoryTreeChildren\" style=\"display:none\"></div></div></li></ul></div><div class=\"mw-category-group\"><h3>E</h3>\n",
              " <ul><li><div class=\"CategoryTreeSection\"><div class=\"CategoryTreeItem\"><span class=\"CategoryTreeBullet\"><span class=\"CategoryTreeToggle\" data-ct-state=\"collapsed\" data-ct-title=\"Mechanical_engineers\">►</span> </span> <a href=\"/wiki/Category:Mechanical_engineers\" title=\"Category:Mechanical engineers\">Mechanical engineers</a>‎ <span dir=\"ltr\" title=\"Contains 11 subcategories, 46 pages, and 0 files\">(11 C, 46 P)</span></div><div class=\"CategoryTreeChildren\" style=\"display:none\"></div></div></li>\n",
              " <li><div class=\"CategoryTreeSection\"><div class=\"CategoryTreeItem\"><span class=\"CategoryTreeEmptyBullet\">► </span> <a href=\"/wiki/Category:Electromagnetic_brakes_and_clutches\" title=\"Category:Electromagnetic brakes and clutches\">Electromagnetic brakes and clutches</a>‎ <span dir=\"ltr\" title=\"Contains 0 subcategories, 5 pages, and 0 files\">(5 P)</span></div><div class=\"CategoryTreeChildren\" style=\"display:none\"></div></div></li>\n",
              " <li><div class=\"CategoryTreeSection\"><div class=\"CategoryTreeItem\"><span class=\"CategoryTreeBullet\"><span class=\"CategoryTreeToggle\" data-ct-state=\"collapsed\" data-ct-title=\"Engine_tuning_instruments\">►</span> </span> <a href=\"/wiki/Category:Engine_tuning_instruments\" title=\"Category:Engine tuning instruments\">Engine tuning instruments</a>‎ <span dir=\"ltr\" title=\"Contains 1 subcategory, 6 pages, and 0 files\">(1 C, 6 P)</span></div><div class=\"CategoryTreeChildren\" style=\"display:none\"></div></div></li></ul></div><div class=\"mw-category-group\"><h3>F</h3>\n",
              " <ul><li><div class=\"CategoryTreeSection\"><div class=\"CategoryTreeItem\"><span class=\"CategoryTreeBullet\"><span class=\"CategoryTreeToggle\" data-ct-state=\"collapsed\" data-ct-title=\"Firearm_construction\">►</span> </span> <a href=\"/wiki/Category:Firearm_construction\" title=\"Category:Firearm construction\">Firearm construction</a>‎ <span dir=\"ltr\" title=\"Contains 1 subcategory, 8 pages, and 0 files\">(1 C, 8 P)</span></div><div class=\"CategoryTreeChildren\" style=\"display:none\"></div></div></li></ul></div><div class=\"mw-category-group\"><h3>H</h3>\n",
              " <ul><li><div class=\"CategoryTreeSection\"><div class=\"CategoryTreeItem\"><span class=\"CategoryTreeBullet\"><span class=\"CategoryTreeToggle\" data-ct-state=\"collapsed\" data-ct-title=\"History_of_mechanical_engineering\">►</span> </span> <a href=\"/wiki/Category:History_of_mechanical_engineering\" title=\"Category:History of mechanical engineering\">History of mechanical engineering</a>‎ <span dir=\"ltr\" title=\"Contains 6 subcategories, 5 pages, and 0 files\">(6 C, 5 P)</span></div><div class=\"CategoryTreeChildren\" style=\"display:none\"></div></div></li></ul></div><div class=\"mw-category-group\"><h3>M</h3>\n",
              " <ul><li><div class=\"CategoryTreeSection\"><div class=\"CategoryTreeItem\"><span class=\"CategoryTreeBullet\"><span class=\"CategoryTreeToggle\" data-ct-state=\"collapsed\" data-ct-title=\"Machinery\">►</span> </span> <a href=\"/wiki/Category:Machinery\" title=\"Category:Machinery\">Machinery</a>‎ <span dir=\"ltr\" title=\"Contains 8 subcategories, 9 pages, and 0 files\">(8 C, 9 P)</span></div><div class=\"CategoryTreeChildren\" style=\"display:none\"></div></div></li>\n",
              " <li><div class=\"CategoryTreeSection\"><div class=\"CategoryTreeItem\"><span class=\"CategoryTreeBullet\"><span class=\"CategoryTreeToggle\" data-ct-state=\"collapsed\" data-ct-title=\"Machines\">►</span> </span> <a href=\"/wiki/Category:Machines\" title=\"Category:Machines\">Machines</a>‎ <span dir=\"ltr\" title=\"Contains 25 subcategories, 61 pages, and 0 files\">(25 C, 61 P)</span></div><div class=\"CategoryTreeChildren\" style=\"display:none\"></div></div></li>\n",
              " <li><div class=\"CategoryTreeSection\"><div class=\"CategoryTreeItem\"><span class=\"CategoryTreeBullet\"><span class=\"CategoryTreeToggle\" data-ct-state=\"collapsed\" data-ct-title=\"Maintenance\">►</span> </span> <a href=\"/wiki/Category:Maintenance\" title=\"Category:Maintenance\">Maintenance</a>‎ <span dir=\"ltr\" title=\"Contains 13 subcategories, 72 pages, and 0 files\">(13 C, 72 P)</span></div><div class=\"CategoryTreeChildren\" style=\"display:none\"></div></div></li>\n",
              " <li><div class=\"CategoryTreeSection\"><div class=\"CategoryTreeItem\"><span class=\"CategoryTreeBullet\"><span class=\"CategoryTreeToggle\" data-ct-state=\"collapsed\" data-ct-title=\"Mechanical_designers\">►</span> </span> <a href=\"/wiki/Category:Mechanical_designers\" title=\"Category:Mechanical designers\">Mechanical designers</a>‎ <span dir=\"ltr\" title=\"Contains 2 subcategories, 2 pages, and 0 files\">(2 C, 2 P)</span></div><div class=\"CategoryTreeChildren\" style=\"display:none\"></div></div></li>\n",
              " <li><div class=\"CategoryTreeSection\"><div class=\"CategoryTreeItem\"><span class=\"CategoryTreeBullet\"><span class=\"CategoryTreeToggle\" data-ct-state=\"collapsed\" data-ct-title=\"Mechanical_failure\">►</span> </span> <a href=\"/wiki/Category:Mechanical_failure\" title=\"Category:Mechanical failure\">Mechanical failure</a>‎ <span dir=\"ltr\" title=\"Contains 4 subcategories, 18 pages, and 0 files\">(4 C, 18 P)</span></div><div class=\"CategoryTreeChildren\" style=\"display:none\"></div></div></li>\n",
              " <li><div class=\"CategoryTreeSection\"><div class=\"CategoryTreeItem\"><span class=\"CategoryTreeBullet\"><span class=\"CategoryTreeToggle\" data-ct-state=\"collapsed\" data-ct-title=\"Mechanical_fasteners\">►</span> </span> <a href=\"/wiki/Category:Mechanical_fasteners\" title=\"Category:Mechanical fasteners\">Mechanical fasteners</a>‎ <span dir=\"ltr\" title=\"Contains 2 subcategories, 11 pages, and 0 files\">(2 C, 11 P)</span></div><div class=\"CategoryTreeChildren\" style=\"display:none\"></div></div></li>\n",
              " <li><div class=\"CategoryTreeSection\"><div class=\"CategoryTreeItem\"><span class=\"CategoryTreeBullet\"><span class=\"CategoryTreeToggle\" data-ct-state=\"collapsed\" data-ct-title=\"Mechanical_standards\">►</span> </span> <a href=\"/wiki/Category:Mechanical_standards\" title=\"Category:Mechanical standards\">Mechanical standards</a>‎ <span dir=\"ltr\" title=\"Contains 12 subcategories, 45 pages, and 0 files\">(12 C, 45 P)</span></div><div class=\"CategoryTreeChildren\" style=\"display:none\"></div></div></li>\n",
              " <li><div class=\"CategoryTreeSection\"><div class=\"CategoryTreeItem\"><span class=\"CategoryTreeBullet\"><span class=\"CategoryTreeToggle\" data-ct-state=\"collapsed\" data-ct-title=\"Mechanical_tests\">►</span> </span> <a href=\"/wiki/Category:Mechanical_tests\" title=\"Category:Mechanical tests\">Mechanical tests</a>‎ <span dir=\"ltr\" title=\"Contains 1 subcategory, 9 pages, and 0 files\">(1 C, 9 P)</span></div><div class=\"CategoryTreeChildren\" style=\"display:none\"></div></div></li>\n",
              " <li><div class=\"CategoryTreeSection\"><div class=\"CategoryTreeItem\"><span class=\"CategoryTreeBullet\"><span class=\"CategoryTreeToggle\" data-ct-state=\"collapsed\" data-ct-title=\"Mechanics\">►</span> </span> <a href=\"/wiki/Category:Mechanics\" title=\"Category:Mechanics\">Mechanics</a>‎ <span dir=\"ltr\" title=\"Contains 21 subcategories, 177 pages, and 0 files\">(21 C, 177 P)</span></div><div class=\"CategoryTreeChildren\" style=\"display:none\"></div></div></li>\n",
              " <li><div class=\"CategoryTreeSection\"><div class=\"CategoryTreeItem\"><span class=\"CategoryTreeBullet\"><span class=\"CategoryTreeToggle\" data-ct-state=\"collapsed\" data-ct-title=\"Engineering_mechanics\">►</span> </span> <a href=\"/wiki/Category:Engineering_mechanics\" title=\"Category:Engineering mechanics\">Engineering mechanics</a>‎ <span dir=\"ltr\" title=\"Contains 1 subcategory, 13 pages, and 0 files\">(1 C, 13 P)</span></div><div class=\"CategoryTreeChildren\" style=\"display:none\"></div></div></li>\n",
              " <li><div class=\"CategoryTreeSection\"><div class=\"CategoryTreeItem\"><span class=\"CategoryTreeBullet\"><span class=\"CategoryTreeToggle\" data-ct-state=\"collapsed\" data-ct-title=\"Mechanisms_(engineering)\">►</span> </span> <a href=\"/wiki/Category:Mechanisms_(engineering)\" title=\"Category:Mechanisms (engineering)\">Mechanisms (engineering)</a>‎ <span dir=\"ltr\" title=\"Contains 21 subcategories, 70 pages, and 0 files\">(21 C, 70 P)</span></div><div class=\"CategoryTreeChildren\" style=\"display:none\"></div></div></li></ul></div><div class=\"mw-category-group\"><h3>O</h3>\n",
              " <ul><li><div class=\"CategoryTreeSection\"><div class=\"CategoryTreeItem\"><span class=\"CategoryTreeBullet\"><span class=\"CategoryTreeToggle\" data-ct-state=\"collapsed\" data-ct-title=\"Mechanical_engineering_organizations\">►</span> </span> <a href=\"/wiki/Category:Mechanical_engineering_organizations\" title=\"Category:Mechanical engineering organizations\">Mechanical engineering organizations</a>‎ <span dir=\"ltr\" title=\"Contains 2 subcategories, 17 pages, and 0 files\">(2 C, 17 P)</span></div><div class=\"CategoryTreeChildren\" style=\"display:none\"></div></div></li></ul></div><div class=\"mw-category-group\"><h3>P</h3>\n",
              " <ul><li><div class=\"CategoryTreeSection\"><div class=\"CategoryTreeItem\"><span class=\"CategoryTreeBullet\"><span class=\"CategoryTreeToggle\" data-ct-state=\"collapsed\" data-ct-title=\"Piping\">►</span> </span> <a href=\"/wiki/Category:Piping\" title=\"Category:Piping\">Piping</a>‎ <span dir=\"ltr\" title=\"Contains 3 subcategories, 96 pages, and 0 files\">(3 C, 96 P)</span></div><div class=\"CategoryTreeChildren\" style=\"display:none\"></div></div></li></ul></div><div class=\"mw-category-group\"><h3>S</h3>\n",
              " <ul><li><div class=\"CategoryTreeSection\"><div class=\"CategoryTreeItem\"><span class=\"CategoryTreeBullet\"><span class=\"CategoryTreeToggle\" data-ct-state=\"collapsed\" data-ct-title=\"Structural_analysis\">►</span> </span> <a href=\"/wiki/Category:Structural_analysis\" title=\"Category:Structural analysis\">Structural analysis</a>‎ <span dir=\"ltr\" title=\"Contains 1 subcategory, 85 pages, and 0 files\">(1 C, 85 P)</span></div><div class=\"CategoryTreeChildren\" style=\"display:none\"></div></div></li></ul></div><div class=\"mw-category-group\"><h3>T</h3>\n",
              " <ul><li><div class=\"CategoryTreeSection\"><div class=\"CategoryTreeItem\"><span class=\"CategoryTreeBullet\"><span class=\"CategoryTreeToggle\" data-ct-state=\"collapsed\" data-ct-title=\"Engineering_thermodynamics\">►</span> </span> <a href=\"/wiki/Category:Engineering_thermodynamics\" title=\"Category:Engineering thermodynamics\">Engineering thermodynamics</a>‎ <span dir=\"ltr\" title=\"Contains 6 subcategories, 40 pages, and 0 files\">(6 C, 40 P)</span></div><div class=\"CategoryTreeChildren\" style=\"display:none\"></div></div></li>\n",
              " <li><div class=\"CategoryTreeSection\"><div class=\"CategoryTreeItem\"><span class=\"CategoryTreeBullet\"><span class=\"CategoryTreeToggle\" data-ct-state=\"collapsed\" data-ct-title=\"Tribology\">►</span> </span> <a href=\"/wiki/Category:Tribology\" title=\"Category:Tribology\">Tribology</a>‎ <span dir=\"ltr\" title=\"Contains 1 subcategory, 53 pages, and 0 files\">(1 C, 53 P)</span></div><div class=\"CategoryTreeChildren\" style=\"display:none\"></div></div></li>\n",
              " <li><div class=\"CategoryTreeSection\"><div class=\"CategoryTreeItem\"><span class=\"CategoryTreeEmptyBullet\">► </span> <a href=\"/wiki/Category:Tuned_mass_dampers\" title=\"Category:Tuned mass dampers\">Tuned mass dampers</a>‎ <span dir=\"ltr\" title=\"Contains 0 subcategories, 1 page, and 0 files\">(1 P)</span></div><div class=\"CategoryTreeChildren\" style=\"display:none\"></div></div></li>\n",
              " <li><div class=\"CategoryTreeSection\"><div class=\"CategoryTreeItem\"><span class=\"CategoryTreeBullet\"><span class=\"CategoryTreeToggle\" data-ct-state=\"collapsed\" data-ct-title=\"Turbomachinery\">►</span> </span> <a href=\"/wiki/Category:Turbomachinery\" title=\"Category:Turbomachinery\">Turbomachinery</a>‎ <span dir=\"ltr\" title=\"Contains 3 subcategories, 15 pages, and 0 files\">(3 C, 15 P)</span></div><div class=\"CategoryTreeChildren\" style=\"display:none\"></div></div></li></ul></div><div class=\"mw-category-group\"><h3>W</h3>\n",
              " <ul><li><div class=\"CategoryTreeSection\"><div class=\"CategoryTreeItem\"><span class=\"CategoryTreeBullet\"><span class=\"CategoryTreeToggle\" data-ct-state=\"collapsed\" data-ct-title=\"Welding\">►</span> </span> <a href=\"/wiki/Category:Welding\" title=\"Category:Welding\">Welding</a>‎ <span dir=\"ltr\" title=\"Contains 7 subcategories, 100 pages, and 0 files\">(7 C, 100 P)</span></div><div class=\"CategoryTreeChildren\" style=\"display:none\"></div></div></li></ul></div><div class=\"mw-category-group\"><h3>Σ</h3>\n",
              " <ul><li><div class=\"CategoryTreeSection\"><div class=\"CategoryTreeItem\"><span class=\"CategoryTreeBullet\"><span class=\"CategoryTreeToggle\" data-ct-state=\"collapsed\" data-ct-title=\"Mechanical_engineering_stubs\">►</span> </span> <a href=\"/wiki/Category:Mechanical_engineering_stubs\" title=\"Category:Mechanical engineering stubs\">Mechanical engineering stubs</a>‎ <span dir=\"ltr\" title=\"Contains 1 subcategory, 98 pages, and 0 files\">(1 C, 98 P)</span></div><div class=\"CategoryTreeChildren\" style=\"display:none\"></div></div></li></ul></div></div></div>\n",
              " </div><div id=\"mw-pages\">\n",
              " <h2><span id=\"Pages_in_category\"></span>Pages in category \"Mechanical engineering\"</h2>\n",
              " <p>The following 200 pages are in this category, out of approximately 211 total. This list may not reflect recent changes (<a href=\"/wiki/Wikipedia:FAQ/Categorization#Why_might_a_category_list_not_be_up_to_date?\" title=\"Wikipedia:FAQ/Categorization\">learn more</a>).\n",
              " </p>(previous page) (<a href=\"/w/index.php?title=Category:Mechanical_engineering&amp;pagefrom=Tribology#mw-pages\" title=\"Category:Mechanical engineering\">next page</a>)<div class=\"mw-content-ltr\" dir=\"ltr\" lang=\"en\"><div class=\"mw-category\"><div class=\"mw-category-group\"><h3>A</h3>\n",
              " <ul><li><a href=\"/wiki/AFGROW\" title=\"AFGROW\">AFGROW</a></li>\n",
              " <li><a href=\"/wiki/Agitator_(device)\" title=\"Agitator (device)\">Agitator (device)</a></li>\n",
              " <li><a href=\"/wiki/Air_handler\" title=\"Air handler\">Air handler</a></li>\n",
              " <li><a href=\"/wiki/Air_preheater\" title=\"Air preheater\">Air preheater</a></li>\n",
              " <li><a href=\"/wiki/Airflow\" title=\"Airflow\">Airflow</a></li>\n",
              " <li><a href=\"/wiki/Airshaft\" title=\"Airshaft\">Airshaft</a></li>\n",
              " <li><a href=\"/wiki/American_Machinists%27_Handbook\" title=\"American Machinists' Handbook\">American Machinists' Handbook</a></li>\n",
              " <li><a href=\"/wiki/Automaton_clock\" title=\"Automaton clock\">Automaton clock</a></li>\n",
              " <li><a href=\"/wiki/Axial_fan_design\" title=\"Axial fan design\">Axial fan design</a></li></ul></div><div class=\"mw-category-group\"><h3>B</h3>\n",
              " <ul><li><a href=\"/wiki/Backdrive\" title=\"Backdrive\">Backdrive</a></li>\n",
              " <li><a href=\"/wiki/Backlash_(engineering)\" title=\"Backlash (engineering)\">Backlash (engineering)</a></li>\n",
              " <li><a href=\"/wiki/Backyard_Ballistics\" title=\"Backyard Ballistics\">Backyard Ballistics</a></li>\n",
              " <li><a href=\"/wiki/Ball_detent\" title=\"Ball detent\">Ball detent</a></li>\n",
              " <li><a href=\"/wiki/Beale_number\" title=\"Beale number\">Beale number</a></li>\n",
              " <li><a href=\"/wiki/Bearing_pressure\" title=\"Bearing pressure\">Bearing pressure</a></li>\n",
              " <li><a href=\"/wiki/Bearing_surface\" title=\"Bearing surface\">Bearing surface</a></li>\n",
              " <li><a href=\"/wiki/Bellcrank\" title=\"Bellcrank\">Bellcrank</a></li>\n",
              " <li><a href=\"/wiki/Bimetallic_strip\" title=\"Bimetallic strip\">Bimetallic strip</a></li>\n",
              " <li><a href=\"/wiki/Block_and_bleed_manifold\" title=\"Block and bleed manifold\">Block and bleed manifold</a></li>\n",
              " <li><span class=\"redirect-in-category\"><a class=\"mw-redirect\" href=\"/wiki/Blood_viscoelasticity\" title=\"Blood viscoelasticity\">Blood viscoelasticity</a></span></li>\n",
              " <li><a href=\"/wiki/Bolted_joint\" title=\"Bolted joint\">Bolted joint</a></li>\n",
              " <li><a href=\"/wiki/Bond_graph\" title=\"Bond graph\">Bond graph</a></li>\n",
              " <li><a href=\"/wiki/Break-in_(mechanical_run-in)\" title=\"Break-in (mechanical run-in)\">Break-in (mechanical run-in)</a></li>\n",
              " <li><a href=\"/wiki/Brinelling\" title=\"Brinelling\">Brinelling</a></li>\n",
              " <li><a href=\"/wiki/Built-up_gun\" title=\"Built-up gun\">Built-up gun</a></li>\n",
              " <li><a href=\"/wiki/Bullwheel\" title=\"Bullwheel\">Bullwheel</a></li>\n",
              " <li><a href=\"/wiki/Burnishing_(metal)\" title=\"Burnishing (metal)\">Burnishing (metal)</a></li>\n",
              " <li><a href=\"/wiki/Bushing_(isolator)\" title=\"Bushing (isolator)\">Bushing (isolator)</a></li></ul></div><div class=\"mw-category-group\"><h3>C</h3>\n",
              " <ul><li><a href=\"/wiki/Cam\" title=\"Cam\">Cam</a></li>\n",
              " <li><a href=\"/wiki/Cam_follower\" title=\"Cam follower\">Cam follower</a></li>\n",
              " <li><a href=\"/wiki/Cam_plastometer\" title=\"Cam plastometer\">Cam plastometer</a></li>\n",
              " <li><a href=\"/wiki/Centrifugal_pendulum_absorber\" title=\"Centrifugal pendulum absorber\">Centrifugal pendulum absorber</a></li>\n",
              " <li><a href=\"/wiki/Chassis_dynamometer\" title=\"Chassis dynamometer\">Chassis dynamometer</a></li>\n",
              " <li><a href=\"/wiki/Chilled_water\" title=\"Chilled water\">Chilled water</a></li>\n",
              " <li><a href=\"/wiki/Chiller\" title=\"Chiller\">Chiller</a></li>\n",
              " <li><a href=\"/wiki/Circle_grid_analysis\" title=\"Circle grid analysis\">Circle grid analysis</a></li>\n",
              " <li><a href=\"/wiki/Circulating_water_plant\" title=\"Circulating water plant\">Circulating water plant</a></li>\n",
              " <li><a href=\"/wiki/Collapse_action\" title=\"Collapse action\">Collapse action</a></li>\n",
              " <li><a href=\"/wiki/Combined_cycle_power_plant\" title=\"Combined cycle power plant\">Combined cycle power plant</a></li>\n",
              " <li><a href=\"/wiki/COMOS\" title=\"COMOS\">COMOS</a></li>\n",
              " <li><a href=\"/wiki/Compliant_mechanism\" title=\"Compliant mechanism\">Compliant mechanism</a></li>\n",
              " <li><a href=\"/wiki/Compound_lever\" title=\"Compound lever\">Compound lever</a></li>\n",
              " <li><a href=\"/wiki/Compression_(physics)\" title=\"Compression (physics)\">Compression (physics)</a></li>\n",
              " <li><a href=\"/wiki/Constant_air_volume\" title=\"Constant air volume\">Constant air volume</a></li>\n",
              " <li><a href=\"/wiki/Constrained-layer_damping\" title=\"Constrained-layer damping\">Constrained-layer damping</a></li>\n",
              " <li><a href=\"/wiki/Contact_mechanics\" title=\"Contact mechanics\">Contact mechanics</a></li>\n",
              " <li><a href=\"/wiki/Frictional_contact_mechanics\" title=\"Frictional contact mechanics\">Frictional contact mechanics</a></li>\n",
              " <li><a href=\"/wiki/Critical_speed\" title=\"Critical speed\">Critical speed</a></li>\n",
              " <li><a href=\"/wiki/Crumpling\" title=\"Crumpling\">Crumpling</a></li>\n",
              " <li><a href=\"/wiki/Cryogenic_engineering\" title=\"Cryogenic engineering\">Cryogenic engineering</a></li></ul></div><div class=\"mw-category-group\"><h3>D</h3>\n",
              " <ul><li><a href=\"/wiki/D-value_(transport)\" title=\"D-value (transport)\">D-value (transport)</a></li>\n",
              " <li><a href=\"/wiki/D%27Alembert%E2%80%93Euler_condition\" title=\"D'Alembert–Euler condition\">D'Alembert–Euler condition</a></li>\n",
              " <li><a href=\"/wiki/Damper_(flow)\" title=\"Damper (flow)\">Damper (flow)</a></li>\n",
              " <li><a href=\"/wiki/Damping_matrix\" title=\"Damping matrix\">Damping matrix</a></li>\n",
              " <li><a href=\"/wiki/Deep_hole_drilling\" title=\"Deep hole drilling\">Deep hole drilling</a></li>\n",
              " <li><a href=\"/wiki/Design_for_manufacturability\" title=\"Design for manufacturability\">Design for manufacturability</a></li>\n",
              " <li><a href=\"/wiki/Dexel\" title=\"Dexel\">Dexel</a></li>\n",
              " <li><a href=\"/wiki/Dimensional_analysis\" title=\"Dimensional analysis\">Dimensional analysis</a></li>\n",
              " <li><a href=\"/wiki/Docking_sleeve\" title=\"Docking sleeve\">Docking sleeve</a></li>\n",
              " <li><a href=\"/wiki/Duality_(mechanical_engineering)\" title=\"Duality (mechanical engineering)\">Duality (mechanical engineering)</a></li>\n",
              " <li><a href=\"/wiki/Dunkerley%27s_method\" title=\"Dunkerley's method\">Dunkerley's method</a></li>\n",
              " <li><a href=\"/wiki/Duty_cycle\" title=\"Duty cycle\">Duty cycle</a></li>\n",
              " <li><a href=\"/wiki/Dynamometer\" title=\"Dynamometer\">Dynamometer</a></li></ul></div><div class=\"mw-category-group\"><h3>E</h3>\n",
              " <ul><li><a href=\"/wiki/Edmund_key\" title=\"Edmund key\">Edmund key</a></li>\n",
              " <li><a href=\"/wiki/Elegant_degradation\" title=\"Elegant degradation\">Elegant degradation</a></li>\n",
              " <li><a href=\"/wiki/Embedment\" title=\"Embedment\">Embedment</a></li>\n",
              " <li><a href=\"/wiki/Engineering_design_process\" title=\"Engineering design process\">Engineering design process</a></li>\n",
              " <li><a href=\"/wiki/Engineering_Equation_Solver\" title=\"Engineering Equation Solver\">Engineering Equation Solver</a></li>\n",
              " <li><a href=\"/wiki/Engineering_fit\" title=\"Engineering fit\">Engineering fit</a></li>\n",
              " <li><a href=\"/wiki/Envelope_(motion)\" title=\"Envelope (motion)\">Envelope (motion)</a></li>\n",
              " <li><a href=\"/wiki/Equation_of_state\" title=\"Equation of state\">Equation of state</a></li>\n",
              " <li><a href=\"/wiki/ERF_damper\" title=\"ERF damper\">ERF damper</a></li>\n",
              " <li><a href=\"/wiki/Euler%E2%80%93Bernoulli_beam_theory\" title=\"Euler–Bernoulli beam theory\">Euler–Bernoulli beam theory</a></li>\n",
              " <li><a href=\"/wiki/Expansion_joint\" title=\"Expansion joint\">Expansion joint</a></li></ul></div><div class=\"mw-category-group\"><h3>F</h3>\n",
              " <ul><li><a href=\"/wiki/Fan_coil_unit\" title=\"Fan coil unit\">Fan coil unit</a></li>\n",
              " <li><a href=\"/wiki/Feedwater_heater\" title=\"Feedwater heater\">Feedwater heater</a></li>\n",
              " <li><a href=\"/wiki/Fillet_(mechanics)\" title=\"Fillet (mechanics)\">Fillet (mechanics)</a></li>\n",
              " <li><a href=\"/wiki/Flange\" title=\"Flange\">Flange</a></li>\n",
              " <li><a href=\"/wiki/Flexure\" title=\"Flexure\">Flexure</a></li>\n",
              " <li><a href=\"/wiki/Float_(liquid_level)\" title=\"Float (liquid level)\">Float (liquid level)</a></li>\n",
              " <li><a href=\"/wiki/Fluid_power\" title=\"Fluid power\">Fluid power</a></li>\n",
              " <li><a href=\"/wiki/Formability\" title=\"Formability\">Formability</a></li>\n",
              " <li><a href=\"/wiki/Friction_loss\" title=\"Friction loss\">Friction loss</a></li></ul></div><div class=\"mw-category-group\"><h3>G</h3>\n",
              " <ul><li><a href=\"/wiki/Galling\" title=\"Galling\">Galling</a></li>\n",
              " <li><a href=\"/wiki/Generalised_beam_theory\" title=\"Generalised beam theory\">Generalised beam theory</a></li>\n",
              " <li><a href=\"/wiki/Glossary_of_mechanical_engineering\" title=\"Glossary of mechanical engineering\">Glossary of mechanical engineering</a></li></ul></div><div class=\"mw-category-group\"><h3>H</h3>\n",
              " <ul><li><a href=\"/wiki/Heat_transfer\" title=\"Heat transfer\">Heat transfer</a></li>\n",
              " <li><a href=\"/wiki/Heisler_chart\" title=\"Heisler chart\">Heisler chart</a></li>\n",
              " <li><a href=\"/wiki/History_of_mechanical_engineering\" title=\"History of mechanical engineering\">History of mechanical engineering</a></li>\n",
              " <li><a href=\"/wiki/Hole_drilling_method\" title=\"Hole drilling method\">Hole drilling method</a></li>\n",
              " <li><a href=\"/wiki/Hydraulics\" title=\"Hydraulics\">Hydraulics</a></li>\n",
              " <li><a href=\"/wiki/Hydrogen_pinch\" title=\"Hydrogen pinch\">Hydrogen pinch</a></li>\n",
              " <li><a href=\"/wiki/Hydrogen_turboexpander-generator\" title=\"Hydrogen turboexpander-generator\">Hydrogen turboexpander-generator</a></li></ul></div><div class=\"mw-category-group\"><h3>I</h3>\n",
              " <ul><li><a href=\"/wiki/Idler-wheel\" title=\"Idler-wheel\">Idler-wheel</a></li>\n",
              " <li><a href=\"/wiki/Index_of_mechanical_engineering_articles\" title=\"Index of mechanical engineering articles\">Index of mechanical engineering articles</a></li>\n",
              " <li><a href=\"/wiki/Indexing_(motion)\" title=\"Indexing (motion)\">Indexing (motion)</a></li>\n",
              " <li><a href=\"/wiki/Interference_fit\" title=\"Interference fit\">Interference fit</a></li></ul></div><div class=\"mw-category-group\"><h3>J</h3>\n",
              " <ul><li><a href=\"/wiki/Jib_(crane)\" title=\"Jib (crane)\">Jib (crane)</a></li>\n",
              " <li><a href=\"/wiki/Junker_test\" title=\"Junker test\">Junker test</a></li></ul></div><div class=\"mw-category-group\"><h3>K</h3>\n",
              " <ul><li><a href=\"/wiki/Kinematic_determinacy\" title=\"Kinematic determinacy\">Kinematic determinacy</a></li>\n",
              " <li><a href=\"/wiki/Kludge\" title=\"Kludge\">Kludge</a></li></ul></div><div class=\"mw-category-group\"><h3>L</h3>\n",
              " <ul><li><a href=\"/wiki/Lightening_holes\" title=\"Lightening holes\">Lightening holes</a></li>\n",
              " <li><a href=\"/wiki/Limits_and_fits\" title=\"Limits and fits\">Limits and fits</a></li>\n",
              " <li><a href=\"/wiki/List_of_mechanical_engineers\" title=\"List of mechanical engineers\">List of mechanical engineers</a></li>\n",
              " <li><a href=\"/wiki/Ljungstr%C3%B6m_air_preheater\" title=\"Ljungström air preheater\">Ljungström air preheater</a></li>\n",
              " <li><a href=\"/wiki/Load_path_analysis\" title=\"Load path analysis\">Load path analysis</a></li>\n",
              " <li><a href=\"/wiki/Longeron\" title=\"Longeron\">Longeron</a></li></ul></div><div class=\"mw-category-group\"><h3>M</h3>\n",
              " <ul><li><a href=\"/wiki/Machine_element\" title=\"Machine element\">Machine element</a></li>\n",
              " <li><a href=\"/wiki/Machinery%27s_Handbook\" title=\"Machinery's Handbook\">Machinery's Handbook</a></li>\n",
              " <li><a href=\"/wiki/Maintenance_(technical)\" title=\"Maintenance (technical)\">Maintenance (technical)</a></li>\n",
              " <li><a href=\"/wiki/Maintenance_engineering\" title=\"Maintenance engineering\">Maintenance engineering</a></li>\n",
              " <li><a href=\"/wiki/Marks%27_Standard_Handbook_for_Mechanical_Engineers\" title=\"Marks' Standard Handbook for Mechanical Engineers\">Marks' Standard Handbook for Mechanical Engineers</a></li>\n",
              " <li><a href=\"/wiki/Mass_transfer\" title=\"Mass transfer\">Mass transfer</a></li>\n",
              " <li><a href=\"/wiki/Mathematical_Magick\" title=\"Mathematical Magick\">Mathematical Magick</a></li>\n",
              " <li><a href=\"/wiki/Mating_connection\" title=\"Mating connection\">Mating connection</a></li>\n",
              " <li><a href=\"/wiki/Mechanical_advantage_device\" title=\"Mechanical advantage device\">Mechanical advantage device</a></li>\n",
              " <li><a href=\"/wiki/Mechanical_engineering\" title=\"Mechanical engineering\">Mechanical engineering</a></li>\n",
              " <li><a href=\"/wiki/Mechanical_engineering_technology\" title=\"Mechanical engineering technology\">Mechanical engineering technology</a></li>\n",
              " <li><a href=\"/wiki/Fan_(machine)\" title=\"Fan (machine)\">Fan (machine)</a></li>\n",
              " <li><a href=\"/wiki/Mechanical_joint\" title=\"Mechanical joint\">Mechanical joint</a></li>\n",
              " <li><a href=\"/wiki/Mechanical_load\" title=\"Mechanical load\">Mechanical load</a></li>\n",
              " <li><a href=\"/wiki/Mechanical_singularity\" title=\"Mechanical singularity\">Mechanical singularity</a></li>\n",
              " <li><a href=\"/wiki/Mechanical,_electrical,_and_plumbing\" title=\"Mechanical, electrical, and plumbing\">Mechanical, electrical, and plumbing</a></li>\n",
              " <li><a href=\"/wiki/Metal_hose\" title=\"Metal hose\">Metal hose</a></li>\n",
              " <li><a href=\"/wiki/Metallurgical_failure_analysis\" title=\"Metallurgical failure analysis\">Metallurgical failure analysis</a></li>\n",
              " <li><a href=\"/wiki/Microelectromechanical_systems\" title=\"Microelectromechanical systems\">Microelectromechanical systems</a></li>\n",
              " <li><a href=\"/wiki/Modal_analysis\" title=\"Modal analysis\">Modal analysis</a></li>\n",
              " <li><a href=\"/wiki/Multi-function_structure\" title=\"Multi-function structure\">Multi-function structure</a></li>\n",
              " <li><a href=\"/wiki/Multiphase_heat_transfer\" title=\"Multiphase heat transfer\">Multiphase heat transfer</a></li></ul></div><div class=\"mw-category-group\"><h3>N</h3>\n",
              " <ul><li><a href=\"/wiki/Nutation_(engineering)\" title=\"Nutation (engineering)\">Nutation (engineering)</a></li></ul></div><div class=\"mw-category-group\"><h3>O</h3>\n",
              " <ul><li><a href=\"/wiki/Orifice_plate\" title=\"Orifice plate\">Orifice plate</a></li>\n",
              " <li><a href=\"/wiki/Ortman_key\" title=\"Ortman key\">Ortman key</a></li></ul></div><div class=\"mw-category-group\"><h3>P</h3>\n",
              " <ul><li><a href=\"/wiki/Parallel_force_system\" title=\"Parallel force system\">Parallel force system</a></li>\n",
              " <li><a href=\"/wiki/Particle_damping\" title=\"Particle damping\">Particle damping</a></li>\n",
              " <li><a href=\"/wiki/Phase_shift_torque_measurement\" title=\"Phase shift torque measurement\">Phase shift torque measurement</a></li>\n",
              " <li><a href=\"/wiki/Photoelasticity\" title=\"Photoelasticity\">Photoelasticity</a></li>\n",
              " <li><a href=\"/wiki/Piezoelectric_microelectromechanical_systems\" title=\"Piezoelectric microelectromechanical systems\">Piezoelectric microelectromechanical systems</a></li>\n",
              " <li><a href=\"/wiki/Pinch_analysis\" title=\"Pinch analysis\">Pinch analysis</a></li>\n",
              " <li><a href=\"/wiki/Piping\" title=\"Piping\">Piping</a></li>\n",
              " <li><a href=\"/wiki/Piston_motion_equations\" title=\"Piston motion equations\">Piston motion equations</a></li>\n",
              " <li><a href=\"/wiki/Plane_stress\" title=\"Plane stress\">Plane stress</a></li>\n",
              " <li><a href=\"/wiki/Power_engineering\" title=\"Power engineering\">Power engineering</a></li>\n",
              " <li><a href=\"/wiki/Precision_engineering\" title=\"Precision engineering\">Precision engineering</a></li>\n",
              " <li><a href=\"/wiki/Pressure_exchanger\" title=\"Pressure exchanger\">Pressure exchanger</a></li>\n",
              " <li><a href=\"/wiki/Proactive_maintenance\" title=\"Proactive maintenance\">Proactive maintenance</a></li>\n",
              " <li><a href=\"/wiki/Process_integration\" title=\"Process integration\">Process integration</a></li>\n",
              " <li><a href=\"/wiki/Pulverizer\" title=\"Pulverizer\">Pulverizer</a></li></ul></div><div class=\"mw-category-group\"><h3>R</h3>\n",
              " <ul><li><a href=\"/wiki/Railworthiness\" title=\"Railworthiness\">Railworthiness</a></li>\n",
              " <li><a href=\"/wiki/Range_of_motion\" title=\"Range of motion\">Range of motion</a></li>\n",
              " <li><a href=\"/wiki/Reciprocating_motion\" title=\"Reciprocating motion\">Reciprocating motion</a></li>\n",
              " <li><a href=\"/wiki/Recuperator\" title=\"Recuperator\">Recuperator</a></li>\n",
              " <li><a href=\"/wiki/Register_(air_and_heating)\" title=\"Register (air and heating)\">Register (air and heating)</a></li>\n",
              " <li><a href=\"/wiki/Repair_kit\" title=\"Repair kit\">Repair kit</a></li>\n",
              " <li><a href=\"/wiki/Residual_stress\" title=\"Residual stress\">Residual stress</a></li>\n",
              " <li><a href=\"/wiki/Reynolds_equation\" title=\"Reynolds equation\">Reynolds equation</a></li>\n",
              " <li><a href=\"/wiki/Reynolds_transport_theorem\" title=\"Reynolds transport theorem\">Reynolds transport theorem</a></li>\n",
              " <li><a href=\"/wiki/Roadworthiness\" title=\"Roadworthiness\">Roadworthiness</a></li>\n",
              " <li><a href=\"/wiki/Roark%27s_Formulas_for_Stress_and_Strain\" title=\"Roark's Formulas for Stress and Strain\">Roark's Formulas for Stress and Strain</a></li>\n",
              " <li><a href=\"/wiki/Rotary_feeder\" title=\"Rotary feeder\">Rotary feeder</a></li>\n",
              " <li><a href=\"/wiki/Run-around_coil\" title=\"Run-around coil\">Run-around coil</a></li>\n",
              " <li><a href=\"/wiki/Run-out\" title=\"Run-out\">Run-out</a></li></ul></div><div class=\"mw-category-group\"><h3>S</h3>\n",
              " <ul><li><a href=\"/wiki/Sacrificial_part\" title=\"Sacrificial part\">Sacrificial part</a></li>\n",
              " <li><a href=\"/wiki/Screw_theory\" title=\"Screw theory\">Screw theory</a></li>\n",
              " <li><a href=\"/wiki/Self-adaptive_mechanisms\" title=\"Self-adaptive mechanisms\">Self-adaptive mechanisms</a></li>\n",
              " <li><a href=\"/wiki/Self-propulsion\" title=\"Self-propulsion\">Self-propulsion</a></li>\n",
              " <li><a href=\"/wiki/Shaft_(mechanical_engineering)\" title=\"Shaft (mechanical engineering)\">Shaft (mechanical engineering)</a></li>\n",
              " <li><span class=\"redirect-in-category\"><a class=\"mw-redirect\" href=\"/wiki/Shaft_misalignment\" title=\"Shaft misalignment\">Shaft misalignment</a></span></li>\n",
              " <li><a href=\"/wiki/Shear_pin\" title=\"Shear pin\">Shear pin</a></li>\n",
              " <li><a href=\"/wiki/Shear_strength\" title=\"Shear strength\">Shear strength</a></li>\n",
              " <li><a href=\"/wiki/Sieving_coefficient\" title=\"Sieving coefficient\">Sieving coefficient</a></li>\n",
              " <li><a href=\"/wiki/Sight_glass\" title=\"Sight glass\">Sight glass</a></li>\n",
              " <li><a href=\"/wiki/Simple_machine\" title=\"Simple machine\">Simple machine</a></li>\n",
              " <li><a href=\"/wiki/Slip_joint\" title=\"Slip joint\">Slip joint</a></li>\n",
              " <li><a href=\"/wiki/Soft_Foot\" title=\"Soft Foot\">Soft Foot</a></li>\n",
              " <li><a href=\"/wiki/South-pointing_chariot\" title=\"South-pointing chariot\">South-pointing chariot</a></li>\n",
              " <li><a href=\"/wiki/Spherical_roller_bearing\" title=\"Spherical roller bearing\">Spherical roller bearing</a></li>\n",
              " <li><a href=\"/wiki/Spherical_roller_thrust_bearing\" title=\"Spherical roller thrust bearing\">Spherical roller thrust bearing</a></li>\n",
              " <li><a href=\"/wiki/Steam_rupture\" title=\"Steam rupture\">Steam rupture</a></li>\n",
              " <li><a href=\"/wiki/Stick-slip_phenomenon\" title=\"Stick-slip phenomenon\">Stick-slip phenomenon</a></li>\n",
              " <li><a href=\"/wiki/Strain_hardening_exponent\" title=\"Strain hardening exponent\">Strain hardening exponent</a></li>\n",
              " <li><a href=\"/wiki/Structural_integrity_and_failure\" title=\"Structural integrity and failure\">Structural integrity and failure</a></li>\n",
              " <li><a href=\"/wiki/Structural_load\" title=\"Structural load\">Structural load</a></li>\n",
              " <li><a href=\"/wiki/Surface_integrity\" title=\"Surface integrity\">Surface integrity</a></li>\n",
              " <li><a href=\"/wiki/Surface_roughness\" title=\"Surface roughness\">Surface roughness</a></li>\n",
              " <li><a href=\"/wiki/Swivel\" title=\"Swivel\">Swivel</a></li>\n",
              " <li><a href=\"/wiki/Systematic_hierarchical_approach_for_resilient_process_screening\" title=\"Systematic hierarchical approach for resilient process screening\">Systematic hierarchical approach for resilient process screening</a></li></ul></div><div class=\"mw-category-group\"><h3>T</h3>\n",
              " <ul><li><a href=\"/wiki/Tail_lift\" title=\"Tail lift\">Tail lift</a></li>\n",
              " <li><a href=\"/wiki/Tesla_Grohmann_Automation\" title=\"Tesla Grohmann Automation\">Tesla Grohmann Automation</a></li>\n",
              " <li><a href=\"/wiki/Thermal_engineering\" title=\"Thermal engineering\">Thermal engineering</a></li>\n",
              " <li><a href=\"/wiki/Thermo-mechanical_fatigue\" title=\"Thermo-mechanical fatigue\">Thermo-mechanical fatigue</a></li>\n",
              " <li><a href=\"/wiki/Thermomechanical_cuttings_cleaner\" title=\"Thermomechanical cuttings cleaner\">Thermomechanical cuttings cleaner</a></li>\n",
              " <li><a href=\"/wiki/Thermomechanical_generator\" title=\"Thermomechanical generator\">Thermomechanical generator</a></li>\n",
              " <li><a href=\"/wiki/Timken_OK_Load\" title=\"Timken OK Load\">Timken OK Load</a></li>\n",
              " <li><a href=\"/wiki/Tip_clearance\" title=\"Tip clearance\">Tip clearance</a></li>\n",
              " <li><a href=\"/wiki/Tolerance_analysis\" title=\"Tolerance analysis\">Tolerance analysis</a></li>\n",
              " <li><a href=\"/wiki/Tommy_Gate\" title=\"Tommy Gate\">Tommy Gate</a></li>\n",
              " <li><a href=\"/wiki/Torque_density\" title=\"Torque density\">Torque density</a></li>\n",
              " <li><a href=\"/wiki/Total_indicator_reading\" title=\"Total indicator reading\">Total indicator reading</a></li>\n",
              " <li><a href=\"/wiki/Treadle\" title=\"Treadle\">Treadle</a></li>\n",
              " <li><a href=\"/wiki/Tribo-fatigue\" title=\"Tribo-fatigue\">Tribo-fatigue</a></li></ul></div></div></div>(previous page) (<a href=\"/w/index.php?title=Category:Mechanical_engineering&amp;pagefrom=Tribology#mw-pages\" title=\"Category:Mechanical engineering\">next page</a>)\n",
              " </div></div>]"
            ]
          },
          "metadata": {
            "tags": []
          },
          "execution_count": 56
        }
      ]
    },
    {
      "cell_type": "code",
      "metadata": {
        "id": "rSd_Id7yqnEg",
        "colab_type": "code",
        "colab": {}
      },
      "source": [
        "categor = str(page.select(\".mw-category-generated > div:nth-of-type(2) > div:nth-of-type(1) > div:nth-of-type(1)\")[0])"
      ],
      "execution_count": 0,
      "outputs": []
    },
    {
      "cell_type": "code",
      "metadata": {
        "id": "ibmyrlLNsUZc",
        "colab_type": "code",
        "outputId": "bafebf15-d3f0-4387-b49b-2130b1f5ff6d",
        "colab": {
          "base_uri": "https://localhost:8080/",
          "height": 1000
        }
      },
      "source": [
        "categor.split(\"<li>\")\n"
      ],
      "execution_count": 0,
      "outputs": [
        {
          "output_type": "execute_result",
          "data": {
            "text/plain": [
              "['<div class=\"mw-category\"><div class=\"mw-category-group\"><h3>A</h3>\\n<ul>',\n",
              " '<a href=\"/wiki/AFGROW\" title=\"AFGROW\">AFGROW</a></li>\\n',\n",
              " '<a href=\"/wiki/Agitator_(device)\" title=\"Agitator (device)\">Agitator (device)</a></li>\\n',\n",
              " '<a href=\"/wiki/Air_handler\" title=\"Air handler\">Air handler</a></li>\\n',\n",
              " '<a href=\"/wiki/Air_preheater\" title=\"Air preheater\">Air preheater</a></li>\\n',\n",
              " '<a href=\"/wiki/Airflow\" title=\"Airflow\">Airflow</a></li>\\n',\n",
              " '<a href=\"/wiki/Airshaft\" title=\"Airshaft\">Airshaft</a></li>\\n',\n",
              " '<a href=\"/wiki/American_Machinists%27_Handbook\" title=\"American Machinists\\' Handbook\">American Machinists\\' Handbook</a></li>\\n',\n",
              " '<a href=\"/wiki/Automaton_clock\" title=\"Automaton clock\">Automaton clock</a></li>\\n',\n",
              " '<a href=\"/wiki/Axial_fan_design\" title=\"Axial fan design\">Axial fan design</a></li></ul></div><div class=\"mw-category-group\"><h3>B</h3>\\n<ul>',\n",
              " '<a href=\"/wiki/Backdrive\" title=\"Backdrive\">Backdrive</a></li>\\n',\n",
              " '<a href=\"/wiki/Backlash_(engineering)\" title=\"Backlash (engineering)\">Backlash (engineering)</a></li>\\n',\n",
              " '<a href=\"/wiki/Backyard_Ballistics\" title=\"Backyard Ballistics\">Backyard Ballistics</a></li>\\n',\n",
              " '<a href=\"/wiki/Ball_detent\" title=\"Ball detent\">Ball detent</a></li>\\n',\n",
              " '<a href=\"/wiki/Beale_number\" title=\"Beale number\">Beale number</a></li>\\n',\n",
              " '<a href=\"/wiki/Bearing_pressure\" title=\"Bearing pressure\">Bearing pressure</a></li>\\n',\n",
              " '<a href=\"/wiki/Bearing_surface\" title=\"Bearing surface\">Bearing surface</a></li>\\n',\n",
              " '<a href=\"/wiki/Bellcrank\" title=\"Bellcrank\">Bellcrank</a></li>\\n',\n",
              " '<a href=\"/wiki/Bimetallic_strip\" title=\"Bimetallic strip\">Bimetallic strip</a></li>\\n',\n",
              " '<a href=\"/wiki/Block_and_bleed_manifold\" title=\"Block and bleed manifold\">Block and bleed manifold</a></li>\\n',\n",
              " '<span class=\"redirect-in-category\"><a class=\"mw-redirect\" href=\"/wiki/Blood_viscoelasticity\" title=\"Blood viscoelasticity\">Blood viscoelasticity</a></span></li>\\n',\n",
              " '<a href=\"/wiki/Bolted_joint\" title=\"Bolted joint\">Bolted joint</a></li>\\n',\n",
              " '<a href=\"/wiki/Bond_graph\" title=\"Bond graph\">Bond graph</a></li>\\n',\n",
              " '<a href=\"/wiki/Break-in_(mechanical_run-in)\" title=\"Break-in (mechanical run-in)\">Break-in (mechanical run-in)</a></li>\\n',\n",
              " '<a href=\"/wiki/Brinelling\" title=\"Brinelling\">Brinelling</a></li>\\n',\n",
              " '<a href=\"/wiki/Built-up_gun\" title=\"Built-up gun\">Built-up gun</a></li>\\n',\n",
              " '<a href=\"/wiki/Bullwheel\" title=\"Bullwheel\">Bullwheel</a></li>\\n',\n",
              " '<a href=\"/wiki/Burnishing_(metal)\" title=\"Burnishing (metal)\">Burnishing (metal)</a></li>\\n',\n",
              " '<a href=\"/wiki/Bushing_(isolator)\" title=\"Bushing (isolator)\">Bushing (isolator)</a></li></ul></div><div class=\"mw-category-group\"><h3>C</h3>\\n<ul>',\n",
              " '<a href=\"/wiki/Cam\" title=\"Cam\">Cam</a></li>\\n',\n",
              " '<a href=\"/wiki/Cam_follower\" title=\"Cam follower\">Cam follower</a></li>\\n',\n",
              " '<a href=\"/wiki/Cam_plastometer\" title=\"Cam plastometer\">Cam plastometer</a></li>\\n',\n",
              " '<a href=\"/wiki/Centrifugal_pendulum_absorber\" title=\"Centrifugal pendulum absorber\">Centrifugal pendulum absorber</a></li>\\n',\n",
              " '<a href=\"/wiki/Chassis_dynamometer\" title=\"Chassis dynamometer\">Chassis dynamometer</a></li>\\n',\n",
              " '<a href=\"/wiki/Chilled_water\" title=\"Chilled water\">Chilled water</a></li>\\n',\n",
              " '<a href=\"/wiki/Chiller\" title=\"Chiller\">Chiller</a></li>\\n',\n",
              " '<a href=\"/wiki/Circle_grid_analysis\" title=\"Circle grid analysis\">Circle grid analysis</a></li>\\n',\n",
              " '<a href=\"/wiki/Circulating_water_plant\" title=\"Circulating water plant\">Circulating water plant</a></li>\\n',\n",
              " '<a href=\"/wiki/Collapse_action\" title=\"Collapse action\">Collapse action</a></li>\\n',\n",
              " '<a href=\"/wiki/Combined_cycle_power_plant\" title=\"Combined cycle power plant\">Combined cycle power plant</a></li>\\n',\n",
              " '<a href=\"/wiki/COMOS\" title=\"COMOS\">COMOS</a></li>\\n',\n",
              " '<a href=\"/wiki/Compliant_mechanism\" title=\"Compliant mechanism\">Compliant mechanism</a></li>\\n',\n",
              " '<a href=\"/wiki/Compound_lever\" title=\"Compound lever\">Compound lever</a></li>\\n',\n",
              " '<a href=\"/wiki/Compression_(physics)\" title=\"Compression (physics)\">Compression (physics)</a></li>\\n',\n",
              " '<a href=\"/wiki/Constant_air_volume\" title=\"Constant air volume\">Constant air volume</a></li>\\n',\n",
              " '<a href=\"/wiki/Constrained-layer_damping\" title=\"Constrained-layer damping\">Constrained-layer damping</a></li>\\n',\n",
              " '<a href=\"/wiki/Contact_mechanics\" title=\"Contact mechanics\">Contact mechanics</a></li>\\n',\n",
              " '<a href=\"/wiki/Frictional_contact_mechanics\" title=\"Frictional contact mechanics\">Frictional contact mechanics</a></li>\\n',\n",
              " '<a href=\"/wiki/Critical_speed\" title=\"Critical speed\">Critical speed</a></li>\\n',\n",
              " '<a href=\"/wiki/Crumpling\" title=\"Crumpling\">Crumpling</a></li>\\n',\n",
              " '<a href=\"/wiki/Cryogenic_engineering\" title=\"Cryogenic engineering\">Cryogenic engineering</a></li></ul></div><div class=\"mw-category-group\"><h3>D</h3>\\n<ul>',\n",
              " '<a href=\"/wiki/D-value_(transport)\" title=\"D-value (transport)\">D-value (transport)</a></li>\\n',\n",
              " '<a href=\"/wiki/D%27Alembert%E2%80%93Euler_condition\" title=\"D\\'Alembert–Euler condition\">D\\'Alembert–Euler condition</a></li>\\n',\n",
              " '<a href=\"/wiki/Damper_(flow)\" title=\"Damper (flow)\">Damper (flow)</a></li>\\n',\n",
              " '<a href=\"/wiki/Damping_matrix\" title=\"Damping matrix\">Damping matrix</a></li>\\n',\n",
              " '<a href=\"/wiki/Deep_hole_drilling\" title=\"Deep hole drilling\">Deep hole drilling</a></li>\\n',\n",
              " '<a href=\"/wiki/Design_for_manufacturability\" title=\"Design for manufacturability\">Design for manufacturability</a></li>\\n',\n",
              " '<a href=\"/wiki/Dexel\" title=\"Dexel\">Dexel</a></li>\\n',\n",
              " '<a href=\"/wiki/Dimensional_analysis\" title=\"Dimensional analysis\">Dimensional analysis</a></li>\\n',\n",
              " '<a href=\"/wiki/Docking_sleeve\" title=\"Docking sleeve\">Docking sleeve</a></li>\\n',\n",
              " '<a href=\"/wiki/Duality_(mechanical_engineering)\" title=\"Duality (mechanical engineering)\">Duality (mechanical engineering)</a></li>\\n',\n",
              " '<a href=\"/wiki/Dunkerley%27s_method\" title=\"Dunkerley\\'s method\">Dunkerley\\'s method</a></li>\\n',\n",
              " '<a href=\"/wiki/Duty_cycle\" title=\"Duty cycle\">Duty cycle</a></li>\\n',\n",
              " '<a href=\"/wiki/Dynamometer\" title=\"Dynamometer\">Dynamometer</a></li></ul></div><div class=\"mw-category-group\"><h3>E</h3>\\n<ul>',\n",
              " '<a href=\"/wiki/Edmund_key\" title=\"Edmund key\">Edmund key</a></li>\\n',\n",
              " '<a href=\"/wiki/Elegant_degradation\" title=\"Elegant degradation\">Elegant degradation</a></li>\\n',\n",
              " '<a href=\"/wiki/Embedment\" title=\"Embedment\">Embedment</a></li>\\n',\n",
              " '<a href=\"/wiki/Engineering_design_process\" title=\"Engineering design process\">Engineering design process</a></li>\\n',\n",
              " '<a href=\"/wiki/Engineering_Equation_Solver\" title=\"Engineering Equation Solver\">Engineering Equation Solver</a></li>\\n',\n",
              " '<a href=\"/wiki/Engineering_fit\" title=\"Engineering fit\">Engineering fit</a></li>\\n',\n",
              " '<a href=\"/wiki/Envelope_(motion)\" title=\"Envelope (motion)\">Envelope (motion)</a></li>\\n',\n",
              " '<a href=\"/wiki/Equation_of_state\" title=\"Equation of state\">Equation of state</a></li>\\n',\n",
              " '<a href=\"/wiki/ERF_damper\" title=\"ERF damper\">ERF damper</a></li>\\n',\n",
              " '<a href=\"/wiki/Euler%E2%80%93Bernoulli_beam_theory\" title=\"Euler–Bernoulli beam theory\">Euler–Bernoulli beam theory</a></li>\\n',\n",
              " '<a href=\"/wiki/Expansion_joint\" title=\"Expansion joint\">Expansion joint</a></li></ul></div><div class=\"mw-category-group\"><h3>F</h3>\\n<ul>',\n",
              " '<a href=\"/wiki/Fan_coil_unit\" title=\"Fan coil unit\">Fan coil unit</a></li>\\n',\n",
              " '<a href=\"/wiki/Feedwater_heater\" title=\"Feedwater heater\">Feedwater heater</a></li>\\n',\n",
              " '<a href=\"/wiki/Fillet_(mechanics)\" title=\"Fillet (mechanics)\">Fillet (mechanics)</a></li>\\n',\n",
              " '<a href=\"/wiki/Flange\" title=\"Flange\">Flange</a></li>\\n',\n",
              " '<a href=\"/wiki/Flexure\" title=\"Flexure\">Flexure</a></li>\\n',\n",
              " '<a href=\"/wiki/Float_(liquid_level)\" title=\"Float (liquid level)\">Float (liquid level)</a></li>\\n',\n",
              " '<a href=\"/wiki/Fluid_power\" title=\"Fluid power\">Fluid power</a></li>\\n',\n",
              " '<a href=\"/wiki/Formability\" title=\"Formability\">Formability</a></li>\\n',\n",
              " '<a href=\"/wiki/Friction_loss\" title=\"Friction loss\">Friction loss</a></li></ul></div><div class=\"mw-category-group\"><h3>G</h3>\\n<ul>',\n",
              " '<a href=\"/wiki/Galling\" title=\"Galling\">Galling</a></li>\\n',\n",
              " '<a href=\"/wiki/Generalised_beam_theory\" title=\"Generalised beam theory\">Generalised beam theory</a></li>\\n',\n",
              " '<a href=\"/wiki/Glossary_of_mechanical_engineering\" title=\"Glossary of mechanical engineering\">Glossary of mechanical engineering</a></li></ul></div><div class=\"mw-category-group\"><h3>H</h3>\\n<ul>',\n",
              " '<a href=\"/wiki/Heat_transfer\" title=\"Heat transfer\">Heat transfer</a></li>\\n',\n",
              " '<a href=\"/wiki/Heisler_chart\" title=\"Heisler chart\">Heisler chart</a></li>\\n',\n",
              " '<a href=\"/wiki/History_of_mechanical_engineering\" title=\"History of mechanical engineering\">History of mechanical engineering</a></li>\\n',\n",
              " '<a href=\"/wiki/Hole_drilling_method\" title=\"Hole drilling method\">Hole drilling method</a></li>\\n',\n",
              " '<a href=\"/wiki/Hydraulics\" title=\"Hydraulics\">Hydraulics</a></li>\\n',\n",
              " '<a href=\"/wiki/Hydrogen_pinch\" title=\"Hydrogen pinch\">Hydrogen pinch</a></li>\\n',\n",
              " '<a href=\"/wiki/Hydrogen_turboexpander-generator\" title=\"Hydrogen turboexpander-generator\">Hydrogen turboexpander-generator</a></li></ul></div><div class=\"mw-category-group\"><h3>I</h3>\\n<ul>',\n",
              " '<a href=\"/wiki/Idler-wheel\" title=\"Idler-wheel\">Idler-wheel</a></li>\\n',\n",
              " '<a href=\"/wiki/Index_of_mechanical_engineering_articles\" title=\"Index of mechanical engineering articles\">Index of mechanical engineering articles</a></li>\\n',\n",
              " '<a href=\"/wiki/Indexing_(motion)\" title=\"Indexing (motion)\">Indexing (motion)</a></li>\\n',\n",
              " '<a href=\"/wiki/Interference_fit\" title=\"Interference fit\">Interference fit</a></li></ul></div><div class=\"mw-category-group\"><h3>J</h3>\\n<ul>',\n",
              " '<a href=\"/wiki/Jib_(crane)\" title=\"Jib (crane)\">Jib (crane)</a></li>\\n',\n",
              " '<a href=\"/wiki/Junker_test\" title=\"Junker test\">Junker test</a></li></ul></div><div class=\"mw-category-group\"><h3>K</h3>\\n<ul>',\n",
              " '<a href=\"/wiki/Kinematic_determinacy\" title=\"Kinematic determinacy\">Kinematic determinacy</a></li>\\n',\n",
              " '<a href=\"/wiki/Kludge\" title=\"Kludge\">Kludge</a></li></ul></div><div class=\"mw-category-group\"><h3>L</h3>\\n<ul>',\n",
              " '<a href=\"/wiki/Lightening_holes\" title=\"Lightening holes\">Lightening holes</a></li>\\n',\n",
              " '<a href=\"/wiki/Limits_and_fits\" title=\"Limits and fits\">Limits and fits</a></li>\\n',\n",
              " '<a href=\"/wiki/List_of_mechanical_engineers\" title=\"List of mechanical engineers\">List of mechanical engineers</a></li>\\n',\n",
              " '<a href=\"/wiki/Ljungstr%C3%B6m_air_preheater\" title=\"Ljungström air preheater\">Ljungström air preheater</a></li>\\n',\n",
              " '<a href=\"/wiki/Load_path_analysis\" title=\"Load path analysis\">Load path analysis</a></li>\\n',\n",
              " '<a href=\"/wiki/Longeron\" title=\"Longeron\">Longeron</a></li></ul></div><div class=\"mw-category-group\"><h3>M</h3>\\n<ul>',\n",
              " '<a href=\"/wiki/Machine_element\" title=\"Machine element\">Machine element</a></li>\\n',\n",
              " '<a href=\"/wiki/Machinery%27s_Handbook\" title=\"Machinery\\'s Handbook\">Machinery\\'s Handbook</a></li>\\n',\n",
              " '<a href=\"/wiki/Maintenance_(technical)\" title=\"Maintenance (technical)\">Maintenance (technical)</a></li>\\n',\n",
              " '<a href=\"/wiki/Maintenance_engineering\" title=\"Maintenance engineering\">Maintenance engineering</a></li>\\n',\n",
              " '<a href=\"/wiki/Marks%27_Standard_Handbook_for_Mechanical_Engineers\" title=\"Marks\\' Standard Handbook for Mechanical Engineers\">Marks\\' Standard Handbook for Mechanical Engineers</a></li>\\n',\n",
              " '<a href=\"/wiki/Mass_transfer\" title=\"Mass transfer\">Mass transfer</a></li>\\n',\n",
              " '<a href=\"/wiki/Mathematical_Magick\" title=\"Mathematical Magick\">Mathematical Magick</a></li>\\n',\n",
              " '<a href=\"/wiki/Mating_connection\" title=\"Mating connection\">Mating connection</a></li>\\n',\n",
              " '<a href=\"/wiki/Mechanical_advantage_device\" title=\"Mechanical advantage device\">Mechanical advantage device</a></li>\\n',\n",
              " '<a href=\"/wiki/Mechanical_engineering\" title=\"Mechanical engineering\">Mechanical engineering</a></li>\\n',\n",
              " '<a href=\"/wiki/Mechanical_engineering_technology\" title=\"Mechanical engineering technology\">Mechanical engineering technology</a></li>\\n',\n",
              " '<a href=\"/wiki/Fan_(machine)\" title=\"Fan (machine)\">Fan (machine)</a></li>\\n',\n",
              " '<a href=\"/wiki/Mechanical_joint\" title=\"Mechanical joint\">Mechanical joint</a></li>\\n',\n",
              " '<a href=\"/wiki/Mechanical_load\" title=\"Mechanical load\">Mechanical load</a></li>\\n',\n",
              " '<a href=\"/wiki/Mechanical_singularity\" title=\"Mechanical singularity\">Mechanical singularity</a></li>\\n',\n",
              " '<a href=\"/wiki/Mechanical,_electrical,_and_plumbing\" title=\"Mechanical, electrical, and plumbing\">Mechanical, electrical, and plumbing</a></li>\\n',\n",
              " '<a href=\"/wiki/Metal_hose\" title=\"Metal hose\">Metal hose</a></li>\\n',\n",
              " '<a href=\"/wiki/Metallurgical_failure_analysis\" title=\"Metallurgical failure analysis\">Metallurgical failure analysis</a></li>\\n',\n",
              " '<a href=\"/wiki/Microelectromechanical_systems\" title=\"Microelectromechanical systems\">Microelectromechanical systems</a></li>\\n',\n",
              " '<a href=\"/wiki/Modal_analysis\" title=\"Modal analysis\">Modal analysis</a></li>\\n',\n",
              " '<a href=\"/wiki/Multi-function_structure\" title=\"Multi-function structure\">Multi-function structure</a></li>\\n',\n",
              " '<a href=\"/wiki/Multiphase_heat_transfer\" title=\"Multiphase heat transfer\">Multiphase heat transfer</a></li></ul></div><div class=\"mw-category-group\"><h3>N</h3>\\n<ul>',\n",
              " '<a href=\"/wiki/Nutation_(engineering)\" title=\"Nutation (engineering)\">Nutation (engineering)</a></li></ul></div><div class=\"mw-category-group\"><h3>O</h3>\\n<ul>',\n",
              " '<a href=\"/wiki/Orifice_plate\" title=\"Orifice plate\">Orifice plate</a></li>\\n',\n",
              " '<a href=\"/wiki/Ortman_key\" title=\"Ortman key\">Ortman key</a></li></ul></div><div class=\"mw-category-group\"><h3>P</h3>\\n<ul>',\n",
              " '<a href=\"/wiki/Parallel_force_system\" title=\"Parallel force system\">Parallel force system</a></li>\\n',\n",
              " '<a href=\"/wiki/Particle_damping\" title=\"Particle damping\">Particle damping</a></li>\\n',\n",
              " '<a href=\"/wiki/Phase_shift_torque_measurement\" title=\"Phase shift torque measurement\">Phase shift torque measurement</a></li>\\n',\n",
              " '<a href=\"/wiki/Photoelasticity\" title=\"Photoelasticity\">Photoelasticity</a></li>\\n',\n",
              " '<a href=\"/wiki/Piezoelectric_microelectromechanical_systems\" title=\"Piezoelectric microelectromechanical systems\">Piezoelectric microelectromechanical systems</a></li>\\n',\n",
              " '<a href=\"/wiki/Pinch_analysis\" title=\"Pinch analysis\">Pinch analysis</a></li>\\n',\n",
              " '<a href=\"/wiki/Piping\" title=\"Piping\">Piping</a></li>\\n',\n",
              " '<a href=\"/wiki/Piston_motion_equations\" title=\"Piston motion equations\">Piston motion equations</a></li>\\n',\n",
              " '<a href=\"/wiki/Plane_stress\" title=\"Plane stress\">Plane stress</a></li>\\n',\n",
              " '<a href=\"/wiki/Power_engineering\" title=\"Power engineering\">Power engineering</a></li>\\n',\n",
              " '<a href=\"/wiki/Precision_engineering\" title=\"Precision engineering\">Precision engineering</a></li>\\n',\n",
              " '<a href=\"/wiki/Pressure_exchanger\" title=\"Pressure exchanger\">Pressure exchanger</a></li>\\n',\n",
              " '<a href=\"/wiki/Proactive_maintenance\" title=\"Proactive maintenance\">Proactive maintenance</a></li>\\n',\n",
              " '<a href=\"/wiki/Process_integration\" title=\"Process integration\">Process integration</a></li>\\n',\n",
              " '<a href=\"/wiki/Pulverizer\" title=\"Pulverizer\">Pulverizer</a></li></ul></div><div class=\"mw-category-group\"><h3>R</h3>\\n<ul>',\n",
              " '<a href=\"/wiki/Railworthiness\" title=\"Railworthiness\">Railworthiness</a></li>\\n',\n",
              " '<a href=\"/wiki/Range_of_motion\" title=\"Range of motion\">Range of motion</a></li>\\n',\n",
              " '<a href=\"/wiki/Reciprocating_motion\" title=\"Reciprocating motion\">Reciprocating motion</a></li>\\n',\n",
              " '<a href=\"/wiki/Recuperator\" title=\"Recuperator\">Recuperator</a></li>\\n',\n",
              " '<a href=\"/wiki/Register_(air_and_heating)\" title=\"Register (air and heating)\">Register (air and heating)</a></li>\\n',\n",
              " '<a href=\"/wiki/Repair_kit\" title=\"Repair kit\">Repair kit</a></li>\\n',\n",
              " '<a href=\"/wiki/Residual_stress\" title=\"Residual stress\">Residual stress</a></li>\\n',\n",
              " '<a href=\"/wiki/Reynolds_equation\" title=\"Reynolds equation\">Reynolds equation</a></li>\\n',\n",
              " '<a href=\"/wiki/Reynolds_transport_theorem\" title=\"Reynolds transport theorem\">Reynolds transport theorem</a></li>\\n',\n",
              " '<a href=\"/wiki/Roadworthiness\" title=\"Roadworthiness\">Roadworthiness</a></li>\\n',\n",
              " '<a href=\"/wiki/Roark%27s_Formulas_for_Stress_and_Strain\" title=\"Roark\\'s Formulas for Stress and Strain\">Roark\\'s Formulas for Stress and Strain</a></li>\\n',\n",
              " '<a href=\"/wiki/Rotary_feeder\" title=\"Rotary feeder\">Rotary feeder</a></li>\\n',\n",
              " '<a href=\"/wiki/Run-around_coil\" title=\"Run-around coil\">Run-around coil</a></li>\\n',\n",
              " '<a href=\"/wiki/Run-out\" title=\"Run-out\">Run-out</a></li></ul></div><div class=\"mw-category-group\"><h3>S</h3>\\n<ul>',\n",
              " '<a href=\"/wiki/Sacrificial_part\" title=\"Sacrificial part\">Sacrificial part</a></li>\\n',\n",
              " '<a href=\"/wiki/Screw_theory\" title=\"Screw theory\">Screw theory</a></li>\\n',\n",
              " '<a href=\"/wiki/Self-adaptive_mechanisms\" title=\"Self-adaptive mechanisms\">Self-adaptive mechanisms</a></li>\\n',\n",
              " '<a href=\"/wiki/Self-propulsion\" title=\"Self-propulsion\">Self-propulsion</a></li>\\n',\n",
              " '<a href=\"/wiki/Shaft_(mechanical_engineering)\" title=\"Shaft (mechanical engineering)\">Shaft (mechanical engineering)</a></li>\\n',\n",
              " '<span class=\"redirect-in-category\"><a class=\"mw-redirect\" href=\"/wiki/Shaft_misalignment\" title=\"Shaft misalignment\">Shaft misalignment</a></span></li>\\n',\n",
              " '<a href=\"/wiki/Shear_pin\" title=\"Shear pin\">Shear pin</a></li>\\n',\n",
              " '<a href=\"/wiki/Shear_strength\" title=\"Shear strength\">Shear strength</a></li>\\n',\n",
              " '<a href=\"/wiki/Sieving_coefficient\" title=\"Sieving coefficient\">Sieving coefficient</a></li>\\n',\n",
              " '<a href=\"/wiki/Sight_glass\" title=\"Sight glass\">Sight glass</a></li>\\n',\n",
              " '<a href=\"/wiki/Simple_machine\" title=\"Simple machine\">Simple machine</a></li>\\n',\n",
              " '<a href=\"/wiki/Slip_joint\" title=\"Slip joint\">Slip joint</a></li>\\n',\n",
              " '<a href=\"/wiki/Soft_Foot\" title=\"Soft Foot\">Soft Foot</a></li>\\n',\n",
              " '<a href=\"/wiki/South-pointing_chariot\" title=\"South-pointing chariot\">South-pointing chariot</a></li>\\n',\n",
              " '<a href=\"/wiki/Spherical_roller_bearing\" title=\"Spherical roller bearing\">Spherical roller bearing</a></li>\\n',\n",
              " '<a href=\"/wiki/Spherical_roller_thrust_bearing\" title=\"Spherical roller thrust bearing\">Spherical roller thrust bearing</a></li>\\n',\n",
              " '<a href=\"/wiki/Steam_rupture\" title=\"Steam rupture\">Steam rupture</a></li>\\n',\n",
              " '<a href=\"/wiki/Stick-slip_phenomenon\" title=\"Stick-slip phenomenon\">Stick-slip phenomenon</a></li>\\n',\n",
              " '<a href=\"/wiki/Strain_hardening_exponent\" title=\"Strain hardening exponent\">Strain hardening exponent</a></li>\\n',\n",
              " '<a href=\"/wiki/Structural_integrity_and_failure\" title=\"Structural integrity and failure\">Structural integrity and failure</a></li>\\n',\n",
              " '<a href=\"/wiki/Structural_load\" title=\"Structural load\">Structural load</a></li>\\n',\n",
              " '<a href=\"/wiki/Surface_integrity\" title=\"Surface integrity\">Surface integrity</a></li>\\n',\n",
              " '<a href=\"/wiki/Surface_roughness\" title=\"Surface roughness\">Surface roughness</a></li>\\n',\n",
              " '<a href=\"/wiki/Swivel\" title=\"Swivel\">Swivel</a></li>\\n',\n",
              " '<a href=\"/wiki/Systematic_hierarchical_approach_for_resilient_process_screening\" title=\"Systematic hierarchical approach for resilient process screening\">Systematic hierarchical approach for resilient process screening</a></li></ul></div><div class=\"mw-category-group\"><h3>T</h3>\\n<ul>',\n",
              " '<a href=\"/wiki/Tail_lift\" title=\"Tail lift\">Tail lift</a></li>\\n',\n",
              " '<a href=\"/wiki/Tesla_Grohmann_Automation\" title=\"Tesla Grohmann Automation\">Tesla Grohmann Automation</a></li>\\n',\n",
              " '<a href=\"/wiki/Thermal_engineering\" title=\"Thermal engineering\">Thermal engineering</a></li>\\n',\n",
              " '<a href=\"/wiki/Thermo-mechanical_fatigue\" title=\"Thermo-mechanical fatigue\">Thermo-mechanical fatigue</a></li>\\n',\n",
              " '<a href=\"/wiki/Thermomechanical_cuttings_cleaner\" title=\"Thermomechanical cuttings cleaner\">Thermomechanical cuttings cleaner</a></li>\\n',\n",
              " '<a href=\"/wiki/Thermomechanical_generator\" title=\"Thermomechanical generator\">Thermomechanical generator</a></li>\\n',\n",
              " '<a href=\"/wiki/Timken_OK_Load\" title=\"Timken OK Load\">Timken OK Load</a></li>\\n',\n",
              " '<a href=\"/wiki/Tip_clearance\" title=\"Tip clearance\">Tip clearance</a></li>\\n',\n",
              " '<a href=\"/wiki/Tolerance_analysis\" title=\"Tolerance analysis\">Tolerance analysis</a></li>\\n',\n",
              " '<a href=\"/wiki/Tommy_Gate\" title=\"Tommy Gate\">Tommy Gate</a></li>\\n',\n",
              " '<a href=\"/wiki/Torque_density\" title=\"Torque density\">Torque density</a></li>\\n',\n",
              " '<a href=\"/wiki/Total_indicator_reading\" title=\"Total indicator reading\">Total indicator reading</a></li>\\n',\n",
              " '<a href=\"/wiki/Treadle\" title=\"Treadle\">Treadle</a></li>\\n',\n",
              " '<a href=\"/wiki/Tribo-fatigue\" title=\"Tribo-fatigue\">Tribo-fatigue</a></li></ul></div></div>']"
            ]
          },
          "metadata": {
            "tags": []
          },
          "execution_count": 76
        }
      ]
    },
    {
      "cell_type": "code",
      "metadata": {
        "id": "_7dATShat1kc",
        "colab_type": "code",
        "colab": {}
      },
      "source": [
        "#More TODO, unnecesary now that I discovered the Wikipedia-API library :) \n",
        "#(As follows:)"
      ],
      "execution_count": 0,
      "outputs": []
    },
    {
      "cell_type": "markdown",
      "metadata": {
        "id": "xefQoHY4rg7i",
        "colab_type": "text"
      },
      "source": [
        "## Using wikipedia-api library [Good one]"
      ]
    },
    {
      "cell_type": "code",
      "metadata": {
        "id": "ZNV8fuY-rmfK",
        "colab_type": "code",
        "colab": {
          "base_uri": "https://localhost:8080/",
          "height": 276
        },
        "outputId": "c078a57f-ec5a-4eb8-82ec-444ada6c7e62"
      },
      "source": [
        "!pip install Wikipedia-API\n",
        "import wikipediaapi"
      ],
      "execution_count": 2,
      "outputs": [
        {
          "output_type": "stream",
          "text": [
            "Collecting Wikipedia-API\n",
            "  Downloading https://files.pythonhosted.org/packages/ef/3d/289963bbf51f8d00cdf7483cdc2baee25ba877e8b4eb72157c47211e3b57/Wikipedia-API-0.5.4.tar.gz\n",
            "Requirement already satisfied: requests in /usr/local/lib/python3.6/dist-packages (from Wikipedia-API) (2.21.0)\n",
            "Requirement already satisfied: idna<2.9,>=2.5 in /usr/local/lib/python3.6/dist-packages (from requests->Wikipedia-API) (2.8)\n",
            "Requirement already satisfied: chardet<3.1.0,>=3.0.2 in /usr/local/lib/python3.6/dist-packages (from requests->Wikipedia-API) (3.0.4)\n",
            "Requirement already satisfied: certifi>=2017.4.17 in /usr/local/lib/python3.6/dist-packages (from requests->Wikipedia-API) (2019.11.28)\n",
            "Requirement already satisfied: urllib3<1.25,>=1.21.1 in /usr/local/lib/python3.6/dist-packages (from requests->Wikipedia-API) (1.24.3)\n",
            "Building wheels for collected packages: Wikipedia-API\n",
            "  Building wheel for Wikipedia-API (setup.py) ... \u001b[?25l\u001b[?25hdone\n",
            "  Created wheel for Wikipedia-API: filename=Wikipedia_API-0.5.4-cp36-none-any.whl size=13462 sha256=0a77a56f7fcd2966866faa161c5fd4bda03286ab669793bf34f27f3ac7c084ca\n",
            "  Stored in directory: /root/.cache/pip/wheels/bf/40/42/ba1d497f3712281b659dd65b566fc868035c859239571a725a\n",
            "Successfully built Wikipedia-API\n",
            "Installing collected packages: Wikipedia-API\n",
            "Successfully installed Wikipedia-API-0.5.4\n"
          ],
          "name": "stdout"
        }
      ]
    },
    {
      "cell_type": "code",
      "metadata": {
        "id": "jq2zKSyYtP_b",
        "colab_type": "code",
        "colab": {}
      },
      "source": [
        "def getCatMembersList(topic):\n",
        "    category = w.page(\"Category:\"+ topic)\n",
        "\n",
        "    cat_members_list = []\n",
        "    for c in category.categorymembers.values():\n",
        "        if \"Category:\" in c.title:\n",
        "            break\n",
        "        elif c.ns==0:\n",
        "            cat_members_list.append(c.title)\n",
        "    return cat_members_list\n",
        "    "
      ],
      "execution_count": 0,
      "outputs": []
    },
    {
      "cell_type": "code",
      "metadata": {
        "id": "EkXlaWcevGC9",
        "colab_type": "code",
        "colab": {}
      },
      "source": [
        "cat_members_list = getCatMembersList(\"Mechanical engineering\")"
      ],
      "execution_count": 0,
      "outputs": []
    },
    {
      "cell_type": "code",
      "metadata": {
        "id": "UrlC8eGzvJJb",
        "colab_type": "code",
        "colab": {
          "base_uri": "https://localhost:8080/",
          "height": 202
        },
        "outputId": "ac7ef6ff-f1a2-4ff3-8252-b9850673bcde"
      },
      "source": [
        "cat_members_list[:10] #showing first 10 categories "
      ],
      "execution_count": 19,
      "outputs": [
        {
          "output_type": "execute_result",
          "data": {
            "text/plain": [
              "['AFGROW',\n",
              " 'Agitator (device)',\n",
              " 'Air handler',\n",
              " 'Air preheater',\n",
              " 'Airflow',\n",
              " 'Airshaft',\n",
              " \"American Machinists' Handbook\",\n",
              " 'Automaton clock',\n",
              " 'Axial fan design',\n",
              " 'Backdrive']"
            ]
          },
          "metadata": {
            "tags": []
          },
          "execution_count": 19
        }
      ]
    },
    {
      "cell_type": "code",
      "metadata": {
        "id": "rnj3qSIUv4fL",
        "colab_type": "code",
        "colab": {}
      },
      "source": [
        "def getCatMembersTexts(cat_members_list):\n",
        "    c_members_texts = []\n",
        "\n",
        "    for c_member in cat_members_list: \n",
        "\n",
        "        c_page = w.page(c_member)\n",
        "        c_members_texts.append(c_page.text)\n",
        "\n",
        "    return c_members_texts"
      ],
      "execution_count": 0,
      "outputs": []
    },
    {
      "cell_type": "code",
      "metadata": {
        "id": "S477y-ysw7Be",
        "colab_type": "code",
        "colab": {}
      },
      "source": [
        "c_members_texts = getCatMembersTexts(cat_members_list)"
      ],
      "execution_count": 0,
      "outputs": []
    },
    {
      "cell_type": "code",
      "metadata": {
        "id": "q64nOprRxzrZ",
        "colab_type": "code",
        "colab": {
          "base_uri": "https://localhost:8080/",
          "height": 222
        },
        "outputId": "ae514134-3ec0-418d-9086-dd86b2e62487"
      },
      "source": [
        "c_members_texts[:10]"
      ],
      "execution_count": 29,
      "outputs": [
        {
          "output_type": "execute_result",
          "data": {
            "text/plain": [
              "[\"AFGROW (Air Force Grow) is a Damage Tolerance Analysis (DTA) computer program that calculates crack initiation, fatigue crack growth, and fracture to predict the life of metallic structures. Originally developed by the Air Force Research Laboratory, AFGROW is mainly used for aerospace applications, but can be applied to any type of metallic structure that experiences fatigue cracking.\\n\\nHistory\\nAFGROW's history traces back to a crack growth life prediction program (ASDGRO) which was written in BASIC for IBM-PCs by E. Davidson at ASD/ENSF in the early-mid-1980s. In 1985, ASDGRO was used as the basis for crack growth analysis for the Sikorsky H-53 helicopter under contract to Warner-Robins ALC. The program was modified to utilize very large load spectra, approximate stress intensity solutions for cracks in arbitrary stress fields, and use a tabular crack growth rate relationship based on the Walker equation on a point-by-point basis (Harter T-Method). The point loaded crack solution from the Tada, Paris, and Irwin Stress Intensity Factor Handbook \\nwas originally used to determine K (for arbitrary stress fields) by integration over the crack length using the unflawed stress distribution independently for each crack dimension. A new method was developed by F. Grimsley (AFWAL/FIBEC) to determine stress intensity, which used a 2-D Gaussian integration scheme with Richardson Extrapolation which was optimized by G. Sendeckyj (AFWAL/FIBEC). The resulting program was named MODGRO since it was a modified version of ASDGRO.\\nMany modifications were made during the late 1980s and early 1990s.  The primary modification was changing the coding language from BASIC to Turbo Pascal and C.  Numerous small changes/repairs were made based on errors that were discovered.  During this time period, NASA/Dryden implemented MODGRO in the analysis for the flight test program for the X-29.\\nIn 1993, the Navy was interested in using MODGRO to assist in a program to assess the effect of certain (classified) environments on the damage tolerance of aircraft.  Work began at that time to convert the MODGRO, Version 3.X to the C language for UNIX to provide performance and portability to several UNIX Workstations. In 1994, MODGRO was renamed AFGROW, Version 3.X.\\nSince 1996, the Windows-based version of AFGROW has replaced the UNIX version since the demand for the UNIX version did not justify the cost to maintain it. There was also an experiment to port AFGROW to the Mac OS but there was a lack of demand. An automated capability was added in the form of a Microsoft Component Object Model (COM) interface. \\nThe program is now developed and maintained by LexTech, Inc.\\n\\nSoftware architecture\\nThe stress intensity factor library provides models for over 30 different crack geometries (including tension, bending and bearing loading for many cases). In addition, a multiple crack capability allows the analysis of two independent cracks in a plate (including hole effects) and a non-symmetric cracked corner. Finite Element (FE) based solutions are available for two, non-symmetric through cracks at holes as well as cracks growing toward holes. This capability allows the analysis of more than one crack growing from a row of fastener holes.\\nAFGROW implements five different  crack growth models (Forman Equation,\\n Walker Equation, Tabular lookup, Harter-T Method and NASGRO Equation\\n ) to determine crack growth per applied cyclic loading. Other user options include five load interaction (retardation) models (closure,  Fastran, Hsu, Wheeler, and Generalized Willenborg), a strain-life based fatigue crack initiation model, and the ability to perform a crack growth analysis with the effect of the bonded repair. The program also includes tools such as: stress intensity solutions, beta modification factors (ability to estimate stress intensity factors for cases, which may not be an exact match for one of the stress intensity solutions provided), a residual stress analysis capability, cycle counting, and the ability to automatically transfer output data to Microsoft Excel.\\nAFGROW uses COM (Component Object Model) Automation interfaces that allow the use of scripts in other Windows applications.\\nThe program has a plug-in crack geometry interface that interfaces with structural analysis programs capable of calculating stress intensity factors (K) in the Windows environment. Users may create their own stress intensity solutions by writing and compiling dynamic link libraries (DLLs) using relatively simple codes. This includes the ability to animate the crack growth. This interface also makes it possible for finite element analysis software to provide three-dimensional based stress intensity information throughout the crack life prediction process.\\nIt is possible to select cases with two, independent cracks (with and without holes). A plug-in stress intensity model capability allows the creation of stress intensity solutions in the form of a Windows DLL (dynamic link library). Drawing tools allow solutions to be animated during the analysis. Interactive stress intensity solutions allow the use of an external FEM code to return updated stress intensity solutions.\\n\\nReferences\\nExternal links\\nHomepage\\nVersion Information\",\n",
              " 'An agitator is a device or mechanism to put something into motion by shaking or stirring. There are several types of agitation machines, including washing machine agitators (which rotate back and forth) and magnetic agitators (which contain a magnetic bar rotating in a magnetic field). Agitators can come in many sizes and varieties, depending on the application.\\nIn general, agitators usually consist of an impeller and a shaft. An impeller is a rotor located within a tube or conduit attached to the shaft. It helps enhance the pressure in order for the flow of a fluid be done. Modern industrial agitators incorporate process control to maintain better control over the mixing process.\\n\\nWashing machine agitator\\nIn a top load washing machine the agitator projects from the bottom of the wash basket and creates the wash action by rotating back and forth, rolling garments from the top of the load, down to the bottom, then back up again.\\nThere are several types of agitators with the most common being the \"straight-vane\" and \"dual-action\" agitators. The \"straight-vane\" is a one-part agitator with bottom and side fins that usually turns back and forth. The Dual-action is a two-part agitator that has bottom washer fins that move back and forth and a spiral top that rotates clockwise to help guide the clothes to the bottom washer fins.\\nThe modern agitator, which is dual-action, was first made in Kenmore Appliances washing machines in the 1980s to present. These agitators are known by the company as dual-rollover and triple-rollover action agitators.\\n\\nMagnetic agitator\\nThis is a device formed by a metallic bar (called the agitation bar) which is normally covered by a plastic layer, and a sheet that has underneath it a rotatory magnet or a series of electromagnets arranged in a circular form to create a magnetic rotatory field. Commonly, the sheet has an arrangement of electric resistances that can heat some chemical solutions.\\nDuring the operation of a typical magnetic agitator, the agitator bar is moved inside a container such as to dissolve a substance in a liquid. The container must be placed on the sheet, so that the magnetic field influences the agitation bar and makes it rotate. This allows it to mix different substances at high speeds.\\n\\nAgitation rack\\nAn agitation rack is a special form of agitator used to store platelets. It is composed of a series of clasps attached to motorised bars, that rock the specimens of platelets gently back-and-forth. This prevents them from becoming activated and adhering to one another, which cannot be reversed by any current means.\\n\\nSee also\\nImpeller\\nTedder\\nMixing (disambiguation)\\nMixing paddle\\n\\nReferences\\n1. Uses of Agitators, June 26, 2012\\n2. Agitator, May 30, 2016\\n3. Agitator tank device and drag reduction agent evaluation October, 23, 2018 \\n4. Slurry Agitators October, 23, 2018\\n\\nSpecific',\n",
              " 'An air handler, or air handling unit (often abbreviated to AHU), is a device used to regulate and circulate air as part of a heating, ventilating, and air-conditioning (HVAC) system. An air handler is usually a large metal box containing a blower, heating or cooling elements, filter racks or chambers, sound attenuators, and dampers. Air handlers usually connect to a ductwork ventilation system that distributes the conditioned air through the building and returns it to the AHU.  Sometimes AHUs discharge (supply) and admit (return) air directly to and from the space served without ductwork\\nSmall air handlers, for local use, are called terminal units, and may only include an air filter, coil, and blower; these simple terminal units are called blower coils or fan coil units.  A larger air handler that conditions 100% outside air, and no recirculated air, is known as a makeup air unit (MAU) or fresh air handling unit (FAHU).  An air handler designed for outdoor use, typically on roofs, is known as a packaged unit (PU) or rooftop unit (RTU).\\n\\nConstruction\\nThe air handler is normally constructed around a framing system with metal infill panels as required to suit the configuration of the components. In its simplest form the frame may be made from metal channels or sections, with single skin metal infill panels. The metalwork is normally galvanized for long term protection. For outdoor units some form of weatherproof lid and additional sealing around joints is provided.Larger air handlers will be manufactured from a square section steel framing system with double skinned and insulated infill panels. Such constructions reduce heat loss or heat gain from the air handler, as well as providing acoustic attenuation. Larger air handlers may be several meters long and are manufactured in a sectional manner and therefore, for strength and rigidity, steel section base rails are provided under the unit.Where supply and extract air is required in equal proportions for a balanced ventilation system, it is common for the supply and extract air handlers to be joined together, either in a side-by-side or a stacked configuration.\\n\\nComponents\\nThe major types of components are described here in approximate order, from the return duct (input to the AHU), through the unit, to the supply duct (AHU output).\\n\\nFilters\\nAir filtration is almost always present in order to provide clean dust-free air to the building occupants. It may be via simple low-MERV pleated media, HEPA,    electrostatic, or a combination of techniques. Gas-phase and ultraviolet air treatments may be employed as well.\\nFiltration is typically placed first in the AHU in order to keep all the downstream components clean. Depending upon the grade of filtration required, typically filters will be arranged in two (or more) successive banks with a coarse-grade panel filter provided in front of a fine-grade bag filter, or other \"final\" filtration medium. The panel filter is cheaper to replace and maintain, and thus protects the more expensive bag filters.The life of a filter may be assessed by monitoring the pressure drop through the filter medium at design air volume flow rate. This may be done by means of a visual display using a pressure gauge, or by a pressure switch linked to an alarm point on the building control system. Failure to replace a filter may eventually lead to its collapse, as the forces exerted upon it by the fan overcome its inherent strength, resulting in collapse and thus contamination of the air handler and downstream ductwork.\\n\\nHeating and/or cooling elements\\nAir handlers may need to provide heating, cooling, or both to change the supply air temperature, and humidity level depending on the location and the application. Such conditioning is provided by heat exchanger coil(s) within the air handling unit air stream, such coils may be direct or indirect in relation to the medium providing the heating or cooling effect.Direct heat exchangers include those for gas-fired fuel-burning heaters or a refrigeration evaporator, placed directly in the air stream. Electric resistance heaters and heat pumps can be used as well. Evaporative cooling is possible in dry climates.\\nIndirect coils use hot water or steam for heating, and chilled water for cooling (prime energy for heating and cooling is provided by central plant elsewhere in the building). Coils are typically manufactured from copper for the tubes, with copper or aluminium fins to aid heat transfer. Cooling coils will also employ eliminator plates to remove and drain condensate. The hot water or steam is provided by a central boiler, and the chilled water is provided by a central chiller. Downstream temperature sensors are typically used to monitor and control \"off coil\" temperatures, in conjunction with an appropriate motorized control valve prior to the coil. \\nIf dehumidification is required, then the cooling coil is employed to over-cool to that the dew point is reached and condensation occurs. A heater coil placed after the cooling coil re-heats the air (therefore known as a re-heat coil) to the desired supply temperature. This process has the effect of reducing the relative humidity level of the supply air.\\nIn colder climates, where winter temperatures regularly drop below freezing, then frost coils or pre-heat coils are often employed as a first stage of air treatment to ensure that downstream filters or chilled water coils are protected against freezing. The control of the frost coil is such that if a certain off-coil air temperature is not reached then the entire air handler is shut down for protection.\\n\\nHumidifier\\nHumidification is often necessary in colder climates where continuous heating will make the air drier, resulting in uncomfortable air quality and increased static electricity. Various types of humidification may be used:\\n\\nEvaporative: dry air blown over a reservoir will evaporate some of the water. The rate of evaporation can be increased by spraying the water onto baffles in the air stream.\\nVaporizer: steam or vapor from a boiler is blown directly into the air stream.\\nSpray mist: water is diffused either by a nozzle or other mechanical means into fine droplets and carried by the air.\\nUltrasonic: A tray of fresh water in the airstream is excited by an ultrasonic device forming a fog or water mist.\\nWetted medium: A fine fibrous medium in the airstream is kept moist with fresh water from a header pipe with a series of small outlets. As the air passes through the medium it entrains the water in fine droplets. This type of humidifier can quickly clog if the primary air filtration is not maintained in good order.\\n\\nMixing chamber\\nIn order to maintain indoor air quality, air handlers commonly have provisions to allow the introduction of outside air into, and the exhausting of air from the building. In temperate climates, mixing the right amount of cooler outside air with warmer return air can be used to approach the desired supply air temperature. A mixing chamber is therefore used which has dampers controlling the ratio between the return, outside, and exhaust air.\\n\\nBlower/fan\\nAir handlers typically employ a large squirrel cage blower driven by an AC induction electric motor to move the air. The blower may operate at a single speed, offer a variety of set speeds, or be driven by a variable-frequency drive to allow a wide range of air flow rates. Flow rate may also be controlled by inlet vanes or outlet dampers on the fan. Some residential air handlers in USA (central \"furnaces\" or \"air conditioners\") use a brushless DC electric motor that has variable speed capabilities.  Air handlers in Europe and Australia and New Zealand now commonly use backward curve fans without scroll or \"plug fans\".  These are driven using high efficiency EC (electronically commutated) motors with built in speed control. \\nMultiple blowers may be present in large commercial air handling units, typically placed at the end of the AHU and the beginning of the supply ductwork (therefore also called \"supply fans\"). They are often augmented by fans in the return air duct (\"return fans\") pushing the air into the AHU.\\n\\nBalancing\\nUn-balanced fans wobble and vibrate.  For home AC fans, this can be a major problem: air circulation is greatly reduced at the vents (as wobble is lost energy), efficiency is compromised, and noise is increased. Another major problem in fans that are not balanced is longevity of the bearings (attached to the fan and shaft) is compromised. This can cause failure to occur long before the bearings life expectancy.\\nWeights can be strategically placed to correct for a smooth spin (for a ceiling fan, trial and error placement typically resolves the problem). Home / central AC fans or other big fans are typically taken to shops, which have special balancers for more complicated balancing (trial and error can cause damage before the correct points are found).  The fan motor itself does not typically vibrate.\\n\\nHeat recovery device\\nA heat recovery device heat exchanger may be fitted to the air handler between supply and extract airstreams for energy savings and increasing capacity. These types more commonly include for:\\n\\nRecuperator, or Plate Heat exchanger: A sandwich of plastic or metal plates with interlaced air paths. Heat is transferred between airstreams from one side of the plate to the other. The plates are typically spaced at 4 to 6mm apart. Heat recovery efficiency up to 70%.\\nThermal Wheel, or Rotary heat exchanger: A slowly rotating matrix of finely corrugated metal, operating in both opposing airstreams. When the air handling unit is in heating mode, heat is absorbed as air passes through the matrix in the exhaust airstream, during one half rotation, and released during the second half rotation into the supply airstream in a continuous process. When the air handling unit is in cooling mode, heat is released as air passes through the matrix in the exhaust airstream, during one half rotation, and absorbed during the second half rotation into the supply airstream. Heat recovery efficiency up to 85%. Wheels are also available with a hydroscopic coating to provide latent heat transfer and also the drying or humidification of airstreams.\\nRun around coil: Two air to liquid heat exchanger coils, in opposing airstreams, piped together with a circulating pump and using water or a brine as the heat transfer medium. This device, although not very efficient, allows heat recovery between remote and sometimes multiple supply and exhaust airstreams.  Heat recovery efficiency up to 50%.\\nHeat Pipe: Operating in both opposing air paths, using a confined refrigerant as a heat transfer medium. The heat pipe uses multiple sealed pipes mounted in a coil configuration with fins to increase heat transfer. Heat is absorbed on one side of the pipe, by evaporation of the refrigerant, and released at the other side, by condensation of the refrigerant. Condensed refrigerant flows by gravity to the first side of the pipe to repeat the process. Heat recovery efficiency up to 65%.\\n\\nControls\\nControls are necessary to regulate every aspect of an air handler, such as: flow rate of air, supply air temperature, mixed air temperature, humidity, air quality. They may be as simple as an off/on thermostat or as complex as a building automation system using BACnet or LonWorks, for example.\\nCommon control components include temperature sensors, humidity sensors, sail switches, actuators, motors, and controllers.\\n\\nVibration isolators\\nThe blowers in an air handler can create substantial vibration and the large area of the duct system would transmit this noise and vibration to the occupants of the building. To avoid this, vibration isolators (flexible sections) are normally inserted into the duct immediately before and after the air handler and often also between the fan compartment and the rest of the AHU. The rubberized canvas-like material of these sections allows the air handler components to vibrate without transmitting this motion to the attached ducts.\\nThe fan compartment can be further isolated by placing it on spring suspension, neoprene pads, or hung on spring hangers, which will mitigate the transfer of vibration through the structure.\\n\\nSound Attenuators\\nThe blower in the air handler also generates noise, which should be attenuated before ductwork enters a noise-sensitive room. To achieve meaningful noise reducion in a relatively short length, a sound attenuator is used. The attenuator is a specialty duct accessory that typically consists of an inner perforated baffle with sound-absorptive insulation. Sound attenuators may take the place of ductwork; conversely, inline attenuators are located close to the blower and have a bellmouth profile to minimize system effects.\\n\\nMajor manufacturers\\nAAON\\nCarrier Corporation (also makes Bryant and Payne brands)\\nCIAT Group\\nDaikin Industries (also makes McQuay International, Goodman, and Airfel brands)\\nEmerson Network Power\\nJohnson Controls (also makes York International brand)\\nLennox International\\nRheem (also makes Ruud)\\nTrane\\n\\nSee also\\nHVAC\\nThermal comfort\\nIndoor air quality\\n\\n\\n== References ==',\n",
              " 'An air preheater (APH) is any device designed to heat air before another process (for example,  combustion in a boiler) with the primary objective of increasing the thermal efficiency of the process. They may be used alone or to replace a recuperative heat system or to replace a steam coil. \\nIn particular, this article describes the combustion air preheaters used in large boilers found in thermal power stations producing electric power from e.g. fossil fuels, biomass or waste. For instance, as the Ljungström air preheater has been attributed worldwide fuel savings estimated to 4,960,000,000 tons of oil, \"few inventions have been as successful in saving fuel as the Ljungström Air Preheater\", marked as the 44th International Historic Mechanical Engineering Landmark by the American Society of Mechanical Engineers.The purpose of the air preheater is to recover the heat from the boiler flue gas which increases the thermal efficiency of the boiler by reducing the useful heat lost in the flue gas. As a consequence, the flue gases are also conveyed to the flue gas stack (or chimney) at a lower temperature, allowing simplified design of the conveyance system and the flue gas stack. It also allows control over the temperature of gases leaving the stack (to meet emissions regulations, for example). It is installed between the economizer and chimney.\\n\\nTypes\\nThere are two types of air preheaters for use in steam generators in thermal power stations: One is a tubular type built into the boiler flue gas ducting, and the other is a regenerative air preheater. These may be arranged so the gas flows horizontally or vertically across the axis of rotation.\\nAnother type of air preheater is the regenerator used in iron or glass manufacture.\\n\\nTubular type\\nConstruction features\\nTubular preheaters consist of straight tube bundles which pass through the outlet ducting of the boiler and open at each end outside of the ducting. Inside the ducting, the hot furnace gases pass around the preheater tubes, transferring heat from the exhaust gas to the air inside the preheater. Ambient air is forced by a fan through ducting at one end of the preheater tubes and at other end the heated air from inside of the tubes emerges into another set of ducting, which carries it to the boiler furnace for combustion.\\n\\nProblems\\nThe tubular preheater ductings for cold and hot air require more space and structural supports than a rotating preheater design. Further, due to dust-laden abrasive flue gases, the tubes outside the ducting wear out faster on the side facing the gas current. Many advances have been made to eliminate this problem such as the use of ceramic and hardened steel.\\nMany new circulating fluidized bed (CFB) and bubbling fluidized bed (BFB) steam generators are currently incorporating tubular air heaters offering an advantage with regards to the moving parts of a rotary type.\\n\\nDew point corrosion\\nDew point corrosion occurs for a variety of reasons. The type of fuel used, its sulfur content and moisture content are contributing factors. However, by far the most significant factor in dew point corrosion is the metal temperature of the tubes. If the metal temperature within the tubes drops below the acid saturation temperature, usually at between 190 °F (88 °C) and 230 °F (110 °C), but sometimes at temperatures as high as 260 °F (127 °C), then the risk of dew point corrosion damage becomes considerable.\\n\\nRegenerative air preheaters\\nThere are two types of regenerative air preheaters: the rotating-plate regenerative air preheaters (RAPH) and the stationary-plate regenerative air preheaters (Rothemuhle).\\n\\nRotating-plate regenerative air preheater\\nThe rotating-plate design (RAPH) consists of a central rotating-plate element installed within a casing that is divided into two (bi-sector type), three (tri-sector type) or four (quad-sector type) sectors containing seals around the element. The seals allow the element to rotate through all the sectors, but keep gas leakage between sectors to a minimum while providing separate gas air and flue gas paths through each sector.\\nTri-sector types are the most common in modern power generation facilities. In the tri-sector design, the largest sector (usually spanning about half the cross-section of the casing) is connected to the boiler hot gas outlet. The hot exhaust gas flows over the central element, transferring some of its heat to the element, and is then ducted away for further treatment in dust collectors and other equipment before being expelled from the flue gas stack.  The second, smaller sector, is fed with ambient air by a fan, which passes over the heated element as it rotates into the sector, and is heated before being carried to the boiler furnace for combustion. The third sector is the smallest one and it heats air which is routed into the pulverizers and used to carry the coal-air mixture to coal boiler burners. Thus, the total air heated in the RAPH provides: heating air to remove the moisture from the pulverised coal dust, carrier air for transporting the pulverised coal to the boiler burners and the primary air for combustion.\\nThe rotor itself is the medium of heat transfer in this system, and is usually composed of some form of steel and/or ceramic structure. It rotates quite slowly (around 1-2 RPM) to allow optimum heat transfer first from the hot exhaust gases to the element, then as it rotates, from the element to the cooler air in the other sectors.\\n\\nConstruction features\\nIn this design the whole air preheater casing is supported on the boiler supporting structure itself with necessary expansion joints in the ducting.\\nThe vertical rotor is supported on thrust bearings at the lower end and has an oil bath lubrication, cooled by water circulating in coils inside the oil bath. This arrangement is for cooling the lower end of the shaft, as this end of the vertical rotor is on the hot end of the ducting. The top end of the rotor has a simple roller bearing to hold the shaft in a vertical position.\\nThe rotor is built up on the vertical shaft with radial supports and cages for holding the baskets in position. Radial and circumferential seal plates are also provided to avoid leakages of gases or air between the sectors or between the duct and the casing while in rotation.\\nFor on line cleaning of the deposits from the baskets steam jets are provided such that the blown out dust and ash are collected at the bottom ash hopper of the air preheater. This dust hopper is connected for emptying along with the main dust hoppers of the dust collectors.\\nThe rotor is turned by an air driven motor and gearing, and is required to be started before starting the boiler and also to be kept in rotation for some time after the boiler is stopped, to avoid uneven expansion and contraction resulting in warping or cracking of the rotor. The station air is generally totally dry (dry air is required for the instrumentation), so the air used to drive the rotor is injected with oil to lubricate the air motor.\\nSafety protected inspection windows are provided for viewing the preheater\\'s internal operation under all operating conditions.\\nThe baskets are in the sector housings provided on the rotor and are renewable. The life of the baskets depend on the ash abrasiveness and corrosiveness of the boiler outlet gases.\\n\\nProblems\\nThe boiler flue gas contains many dust particles (due to high ash content) not contributing towards combustion, such as silica, which cause abrasive wear of the baskets, and may also contain corrosive gases depending on the composition of the fuel. For example, Indian coals generally result in high levels of ash and silica in the flue gas. The wear of the baskets therefore is generally more than other, cleaner-burning fuels.\\nIn this RAPH, the dust laden, corrosive boiler gases have to pass between the elements of air preheater baskets. The elements are made up of zig zag corrugated plates pressed into a steel basket giving sufficient annular space in between for the gas to pass through. These plates are corrugated to give more surface area for the heat to be absorbed and also to give it the rigidity for stacking them into the baskets. Hence frequent replacements are called for and new baskets are always kept ready. In the early days, Cor-ten steel was being used for the elements. Today due to technological advance many manufacturers may use their own patents.\\nSome manufacturers supply different materials for the use of the elements to lengthen the life of the baskets.\\nIn certain cases the unburnt deposits may occur on the air preheater elements causing it to catch fire during normal operations of the boiler, giving rise to explosions inside the air preheater. Sometimes mild explosions may be detected in the control room by variations in the inlet and outlet temperatures of the combustion air.\\n\\nStationary-plate regenerative air preheater\\nThe heating plate elements in this type of regenerative air preheater are also installed in a casing, but the heating plate  elements are stationary rather than rotating. Instead the air ducts in the preheater are rotated so as to alternatively expose sections of the heating plate elements to the upflowing cool air.As indicated in the adjacent drawing, there are rotating inlet air ducts at the bottom of the stationary plates similar to the rotating outlet air ducts at the top of the stationary plates.Stationary-plate regenerative air preheaters are also known as Rothemuhle preheaters, manufactured for over 25 years by Balke-Dürr GmbH of Ratingen, Germany.\\n\\nRegenerator\\nA regenerator consists of a brick checkerwork: bricks laid with spaces equivalent to a brick\\'s width between them, so that air can flow relatively easily through the checkerwork. The idea is that as hot exhaust gases flow through the checkerwork, they give up heat to the bricks. The airflow is then reversed, so that the hot bricks heat up the incoming combustion air and fuel. For a glass-melting furnace, a regenerator sits on either side of the furnace, often forming an integral whole. For a blast furnace, the regenerators (commonly called Cowper stoves) sit separate to the furnace. A furnace needs no less than two stoves, but may have three. One of the stoves is \\'on gas\\', receiving hot gases from the furnace top and heating the checkerwork inside, whilst the other is \\'on blast\\', receiving cold air from the blowers, heating it and passing it to the blast furnace.\\n\\nSee also\\nRecuperator\\nEconomiser\\nRegenerative heat exchanger\\nThermal wheel\\n\\nExternal links\\nHistory of the Ljungström Air Preheater\\n\\n\\n== References ==',\n",
              " \"Airflow, or air flow, is the movement of air. The primary cause of airflow is the existence of air. Air behaves in a fluid manner, meaning particles naturally flow from areas of higher pressure to those where the pressure is lower. Atmospheric air pressure is directly related to altitude, temperature, and composition.In engineering, airflow is a measurement of the amount of air per unit of time that flows through a particular device.\\nThe flow of air can be induced through mechanical means (such as by operating an electric or manual fan) or can take place passively, as a function of pressure differentials present in the environment.\\n\\nTypes of airflow\\nLike any fluid, air may exhibit both laminar and turbulent flow patterns.  Laminar flow occurs when air can flow smoothly, and exhibits a parabolic velocity profile; turbulent flow occurs when there is an irregularity (such as a disruption in the surface across which the fluid is flowing), which alters the direction of movement. Turbulent flow exhibits a flat velocity profile.The Reynolds number, a ratio indicating the relationship between viscous and inertial forces in a fluid, can be used to predict the transition from laminar to turbulent flow. This number and related concepts can be applied to studying flow in systems of all scales.\\nThe speed at which a fluid flows past an object varies with distance from the object's surface. The region surrounding an object where the air speed approaches zero is known as the boundary layer. It is here that surface friction most affects flow; irregularities in surfaces may affect boundary layer thickness, and hence act to disrupt flow.\\n\\nUnits\\nTypical units to express airflow are:\\n\\nBy volume\\nl/s (litres per second)\\nm3/h (cubic metres per hour)\\nft3/hr (cubic feet per hour)\\n\\nBy mass\\nkg/s (kilograms per second)Airflow can also be described in terms of air changes per hour (ACH), indicating full replacement of the volume of air filling the space in question.\\n\\nMeasurement\\nThe instrument that measures airflow is called an airflow meter. Anemometers are also used to measure wind speed and indoor airflow.\\nThere are a variety of types, including straight probe anemometers, designed to measure air velocity, differential pressure, temperature, and humidity; rotating vane anemometers, used for measuring air velocity and volumetric flow; and hot-sphere anemometers.\\nAnemometers may use ultrasound or resistive wire to measure the energy transfer between the measurement device and the passing particles. A hot-wire anemometer, for example, registers decreases in wire temperature, which can be translated into airflow velocity by analyzing the rate of change. Some tools are capable of calculating air flow, wet bulb temperature, dew point, and turbulence.\\n\\nSimulation\\nAir flow can be simulated using Computational Fluid Dynamics (CFD) modeling, or observed experimentally through the operation of a wind tunnel. This may be used to predict airflow patterns around automobiles, aircraft, and marine craft, as well as air penetration of a building envelope.\\n\\nControl\\nOne type of equipment that regulates the airflow in ducts is called a damper. The damper can be used to increase, decrease or completely stop the flow of air. A more complex device that can not only regulate the airflow but also has the ability to generate and condition airflow is an air handler.\\n\\nUses\\nMeasuring the airflow is necessary in many applications such as ventilation (to determine how much air is being replaced), pneumatic conveying (to control the air velocity and phase of transport) and engines (to control the Air–fuel ratio).\\nAerodynamics is the branch of fluid dynamics (physics) that is specifically concerned with the measurement, simulation, and control of airflow. Managing airflow is of concern to many fields, including meteorology, aeronautics, medicine, mechanical engineering, civil engineering, environmental engineering and building science.\\n\\nAirflow in buildings\\nIn building science, airflow is often addressed in terms of its desirability, for example in contrasting ventilation and infiltration. Ventilation is defined as the desired flow of fresh outdoor supply air to another, typically indoor, space, along with the simultaneous expulsion of exhaust air from indoors to the outdoors. This may be achieved through mechanical means or through passive strategies (also known as natural ventilation). By contrast, air infiltration is characterized as the uncontrolled influx of air through an inadequately-sealed building envelope, usually coupled with unintentional leakage of conditioned air from the interior of a building to the exterior.Buildings may be ventilated using mechanical systems, passive systems or strategies, or a combination of the two.\\n\\nAirflow in mechanical ventilation systems (HVAC)\\nMechanical ventilation uses fans to induce flow of air into and through a building. Duct configuration and assembly affect air flow rates through the system. Dampers, valves, joints and other geometrical or material changes within a duct can lead to flow losses.\\n\\nPassive strategies for maximizing airflow\\nPassive ventilation strategies take advantage of inherent characteristics of air, specifically thermal buoyancy and pressure differentials, to evacuate exhaust air from within a building. Stack effect equates to using chimneys or similar tall spaces with openings near the top to passively draw exhaust air up and out of the space, thanks to the fact that air will rise when its temperature increases (as the volume increases and pressure decreases). Wind-driven passive ventilation relies on building configuration, orientation, and aperture distribution to take advantage of outdoor air movement. Cross-ventilation requires strategically-positioned openings aligned with local wind patterns.\\n\\nRelationship of air movement to thermal comfort and overall Indoor Environmental Quality (IEQ)\\nAirflow is a factor of concern when designing to meet occupant thermal comfort standards (such as ASHRAE 55). Varying rates of air movement may positively or negatively impact individuals’ perception of warmth or coolness, and hence their comfort. Air velocity interacts with air temperature, relative humidity, radiant temperature of surrounding surfaces and occupants, and occupant skin conductivity, resulting in particular thermal sensations.\\nSufficient, properly-controlled and designed airflow (ventilation) is important for overall Indoor Environmental Quality (IEQ) and Indoor Air Quality (IAQ), in that it provides the necessary supply of fresh air and effectively evacuates exhaust air.\\n\\nSee also\\nVolumetric flow rate\\nAir flow meter\\nDamper (flow)\\nAir handling unit\\nFluid dynamics\\nPressure gradient force\\nAtmosphere of Earth\\nAnemometer\\nComputational Fluid Dynamics\\nVentilation (architecture)\\nNatural ventilation\\nInfiltration (HVAC)\\nParticle tracking velocimetry\\nLaminar flow\\nTurbulent flow\\nWind\\n\\n\\n== References ==\",\n",
              " 'In manufacturing, an airshaft is a device used for handling winding reels in the processing of web-fed materials, such as continuous-process printing presses.Airshafts—also called Air Expanding shafts—are used in the manufacturing processes for fitting into a core onto which materials such as paper, card and plastic film are wound. An airshaft is designed so that, on fitting into a core, it can be readily expanded, thereby achieving a quick and firm attachment, it may also be easily deflated to facilitate easy withdrawal of the shaft after winding of product is complete. Their efficient design makes them ideal for mounting onto bearing housings to enable the winding or unwinding of rolls of stock material with the minimum of equipment down time. The advantage of using an airshaft is its ability to grip the core, without damage, whilst providing a positive interface to control the web via motors & brakes. Airshafts are available as either lug type (with bladder down the centre) or strip type (bladders on the periphery of the shaft).\\nAir shafts are used on many converting machines. An example of one of these machines is a slitting machine or slitter rewinder which is used to cut or slit large rolls of material into smaller rollers.\\nAir shaft is a machine part or shaft which tightens the core or roll on filling air.\\nAir Shafts are of two types \\n1) Contains Inflatable Rubber tube inside also called Lug shafts.\\n2) Which contains  bladder multiple outside also called Multi-tube Shaft .\\n\\nIn Lugs type Air shaft, shaft consist of air bladder inside it. It is manufactured using Aluminium or Iron pipe as outer pipe in which there are u-shaped slot are there in which lugs are fitted manually. Then Inflatable bladder placed inside pipe below lugs. Then bladder is connected  using a brass air valve. So, when we fill air using Air valve the bladder inflated and lugs comes out of shafts body (pipe) and tights the core in which shafts is placed.\\n\\nIn Multi tube Air Shafts there are small flat tubes placed outside the body of shafts which get in round shapes on filling air in it using Brass Air Valve and Lugs comes out of body and tight the core.\\n\\nThese times  Air Shafts & Multi tube Shafts are finding very important placed in industries where they use any kind of cores or rolls. Its main application is on Printing-Packaging industries & Textile Industries.\\n\\n\\n== References ==',\n",
              " 'American Machinists\\' Handbook was a McGraw-Hill reference book similar to Industrial Press\\'s Machinery\\'s Handbook. (The latter title, still in print and regularly revised, is the one that machinists today are usually referring to when they speak imprecisely of \"the machinist\\'s handbook\" or \"the machinists\\' handbook\".)\\nThe somewhat generic sound of the title American Machinists\\' Handbook, and the ambiguity of its apostrophe usage, no doubt contributed to the confounding of the two books\\' titles and identities. It capitalized on readers\\' familiarity with American Machinist, McGraw-Hill\\'s popular trade journal. But the usage could have benefited from some branding discipline, because the confusion over whether the title was properly \"American Machinist\\'s Handbook\" or \"American Machinists\\' Handbook\" or \"American Machinist \\'s Handbook\" was (and is) considerable. (\"American Machinist \\'s Handbook\" would be parallel to the construction of the title \"Machinery\\'s Handbook\"; perhaps McGraw-Hill\\'s handbook\\'s title was originally conceived as that and later was muddied into \"American Machinists\\' Handbook\".)\\nAlthough McGraw-Hill\\'s American Machinists\\' Handbook appeared first (1908), it is doubtful that Industrial Press\\'s Machinery\\'s Handbook (1914) was a mere me-too conceived afterwards in response. The eager market for such a reference work had probably been obvious for at least a decade before either work was compiled, and presumably the appearance of the McGraw-Hill title merely prodded Industrial Press to finally get moving on a handbook of its own.\\nAmerican Machinists\\' Handbook, coedited by Fred H. Colvin and Frank A. Stanley, went through eight editions between 1908 and 1945. In 1955, McGraw-Hill published The new American machinist\\'s handbook. Based upon earlier editions of American machinists\\' handbook (sic; note the apostrophe usage difference within that title), but presumably the book did not compete well enough with Machinery\\'s Handbook, because no subsequent editions were produced. Meanwhile, Machinery\\'s Handbook has continued to be regularly revised and updated, right up to today, and it is still a \"bible of the metalworking industries.\"\\n\\nList of the editions of American Machinists\\' Handbook\\nRenewal data from Rutgers.   All works after 1923 with renewed copyright are presumably still protected.',\n",
              " 'An automaton clock or automata clock is a type of striking clock featuring automatons. Clocks like these were built from the 1st century BC through to Victorian times in Europe. A Cuckoo clock is a simple form of this type of clock.\\nThe first known mention is of those created by the Roman engineer Vitruvius, describing early alarm clocks working with gongs or trumpets. Later automatons usually perform on the hour, half-hour or quarter-hour, usually to strike bells. Common figures in older clocks include Death (as a reference to human mortality), Old Father Time, saints and angels. In the Regency and Victorian eras, common figures also included royalty, famous composers or industrialists.\\nMore recently constructed automaton clocks are widespread in Japan, where they are known as karakuri-dokei. Notable examples of such clocks include the Nittele Ōdokei, designed by Hayao Miyazaki to be affixed on the Nippon Television headquarters in Tokyo, touted to be the largest animated clock in the world. In the United Kingdom, Kit Williams produced a series of large automaton clocks for a handful of British shopping centres, featuring frogs, ducks and fish.\\n\\n\\n== References ==',\n",
              " 'An axial fan is a type of fan that causes gas to flow through it in an axial direction, parallel to the shaft about which the blades rotate. The flow is axial at entry and exit. The fan is designed to produce a pressure difference, and hence force, to cause a flow through the fan. Factors which determine the performance of the fan include the number and shape of the blades. Fans have many applications including in wind tunnels and cooling towers. Design parameters include power, flow rate, pressure rise and efficiency.Axial fans generally comprise fewer blades (two to six) than ducted fans. Axial fans commonly have larger radius and lower speed (ω) than ducted fans (esp. at similar power. Stress proportional to r^2).\\n\\nCalculation of parameters\\nSince the calculation cannot be done using the inlet and outlet velocity triangles, which is not the case in other turbomachines, calculation is done by considering a mean velocity triangle for flow only through an infinitesimal blade element. The blade is divided into many small elements and various parameters are determined separately for each element. There are two theories that solve the parameters for axial fans:\\nSlipstream Theory\\nBlade Element Theory\\n\\nSlipstream theory\\nIn the figure, the thickness of the propeller disc is assumed to be negligible. The boundary between the fluid in motion and fluid at rest is shown. Therefore, the flow is assumed to be taking place in an imaginary converging duct where:\\n\\nD = Diameter of the Propeller Disc.\\nDs = Diameter at the Exit.In the figure, across the propeller disc, velocities (C1 and C2) cannot change abruptly across the propeller disc as that will create a shockwave but the fan creates the pressure difference across the propeller disc.\\n\\n  \\n    \\n      \\n        \\n          C\\n          \\n            \\n              1\\n            \\n          \\n        \\n        =\\n        \\n          C\\n          \\n            \\n              2\\n            \\n          \\n        \\n        =\\n        C\\n      \\n    \\n    {\\\\displaystyle C_{\\\\rm {1}}=C_{\\\\rm {2}}=C}\\n   and \\n  \\n    \\n      \\n        \\n          P\\n          \\n            \\n              1\\n            \\n          \\n        \\n        ≠\\n        \\n          P\\n          \\n            \\n              2\\n            \\n          \\n        \\n      \\n    \\n    {\\\\displaystyle P_{\\\\rm {1}}\\\\neq P_{\\\\rm {2}}}\\n  The area of the propeller disc of diameter D is:\\n  \\n    \\n      \\n        A\\n        =\\n        \\n          \\n            \\n              π\\n              \\n                D\\n                \\n                  2\\n                \\n              \\n            \\n            4\\n          \\n        \\n      \\n    \\n    {\\\\displaystyle A={\\\\frac {\\\\pi D^{2}}{4}}}\\n  The mass flow rate across the propeller is:\\n  \\n    \\n      \\n        \\n          \\n            \\n              m\\n              ˙\\n            \\n          \\n        \\n        =\\n        \\n          ρ\\n          A\\n          C\\n        \\n      \\n    \\n    {\\\\displaystyle {\\\\dot {m}}={\\\\rho AC}}\\n  Since thrust is change in mass multiplied by the velocity of the mass flow i.e., change in momentum, the axial thrust on the propeller disc due to change in momentum of air, which is:\\n  \\n    \\n      \\n        \\n          F\\n          \\n            \\n              x\\n            \\n          \\n        \\n        =\\n        \\n          \\n            \\n              m\\n              ˙\\n            \\n          \\n        \\n        \\n          (\\n          \\n            C\\n            \\n              \\n                s\\n              \\n            \\n          \\n          −\\n          \\n            C\\n            \\n              \\n                u\\n              \\n            \\n          \\n          )\\n        \\n        =\\n        \\n          ρ\\n          A\\n          C\\n        \\n        \\n          (\\n          \\n            C\\n            \\n              \\n                s\\n              \\n            \\n          \\n          −\\n          \\n            C\\n            \\n              \\n                u\\n              \\n            \\n          \\n          )\\n        \\n      \\n    \\n    {\\\\displaystyle F_{\\\\rm {x}}={\\\\dot {m}}{(C_{\\\\rm {s}}-C_{\\\\rm {u}})}={\\\\rho AC}{(C_{\\\\rm {s}}-C_{\\\\rm {u}})}}\\n  Applying Bernoulli\\'s principle upstream and downstream:\\n  \\n    \\n      \\n        \\n          \\n            \\n              \\n                \\n                  P\\n                  \\n                    a\\n                  \\n                \\n                +\\n                \\n                  \\n                    1\\n                    2\\n                  \\n                \\n                \\n                  ρ\\n                  \\n                    C\\n                    \\n                      u\\n                    \\n                    \\n                      2\\n                    \\n                  \\n                \\n              \\n              \\n                \\n                =\\n                \\n                  P\\n                  \\n                    1\\n                  \\n                \\n                +\\n                \\n                  \\n                    1\\n                    2\\n                  \\n                \\n                \\n                  ρ\\n                  \\n                    C\\n                    \\n                      2\\n                    \\n                  \\n                \\n              \\n            \\n            \\n              \\n                \\n                  P\\n                  \\n                    a\\n                  \\n                \\n                +\\n                \\n                  \\n                    1\\n                    2\\n                  \\n                \\n                \\n                  ρ\\n                  \\n                    C\\n                    \\n                      s\\n                    \\n                    \\n                      2\\n                    \\n                  \\n                \\n              \\n              \\n                \\n                =\\n                \\n                  P\\n                  \\n                    2\\n                  \\n                \\n                +\\n                \\n                  \\n                    1\\n                    2\\n                  \\n                \\n                \\n                  ρ\\n                  \\n                    C\\n                    \\n                      2\\n                    \\n                  \\n                \\n              \\n            \\n          \\n        \\n      \\n    \\n    {\\\\displaystyle {\\\\begin{aligned}P_{a}+{\\\\frac {1}{2}}{\\\\rho C_{u}^{2}}&=P_{1}+{\\\\frac {1}{2}}{\\\\rho C^{2}}\\\\\\\\P_{a}+{\\\\frac {1}{2}}{\\\\rho C_{s}^{2}}&=P_{2}+{\\\\frac {1}{2}}{\\\\rho C^{2}}\\\\end{aligned}}}\\n  On subtracting the above equations:\\n\\n  \\n    \\n      \\n        \\n          P\\n          \\n            2\\n          \\n        \\n        −\\n        \\n          P\\n          \\n            1\\n          \\n        \\n        =\\n        \\n          \\n            1\\n            2\\n          \\n        \\n        ρ\\n        (\\n        \\n          C\\n          \\n            s\\n          \\n          \\n            2\\n          \\n        \\n        −\\n        \\n          C\\n          \\n            u\\n          \\n          \\n            2\\n          \\n        \\n        )\\n      \\n    \\n    {\\\\displaystyle P_{2}-P_{1}={\\\\frac {1}{2}}\\\\rho (C_{s}^{2}-C_{u}^{2})}\\n  Thrust difference due to pressure difference is projected area multiplied by the pressure difference. Axial thrust due to pressure difference comes out to be:\\n  \\n    \\n      \\n        \\n          F\\n          \\n            x\\n          \\n        \\n        =\\n        A\\n        (\\n        \\n          P\\n          \\n            2\\n          \\n        \\n        −\\n        \\n          P\\n          \\n            1\\n          \\n        \\n        )\\n        =\\n        \\n          \\n            1\\n            2\\n          \\n        \\n        ρ\\n        A\\n        \\n          (\\n          \\n            \\n              C\\n              \\n                s\\n              \\n              \\n                2\\n              \\n            \\n            −\\n            \\n              C\\n              \\n                u\\n              \\n              \\n                2\\n              \\n            \\n          \\n          )\\n        \\n      \\n    \\n    {\\\\displaystyle F_{x}=A(P_{2}-P_{1})={\\\\frac {1}{2}}\\\\rho A\\\\left(C_{s}^{2}-C_{u}^{2}\\\\right)}\\n  Comparing this thrust with the axial thrust due to change in momentum of air flow, it is found that:\\n\\n  \\n    \\n      \\n        C\\n        =\\n        \\n          \\n            \\n              \\n                C\\n                \\n                  s\\n                \\n              \\n              +\\n              \\n                C\\n                \\n                  u\\n                \\n              \\n            \\n            2\\n          \\n        \\n      \\n    \\n    {\\\\displaystyle C={\\\\frac {C_{s}+C_{u}}{2}}}\\n  A parameter \\'a\\' is defined such that -\\n\\n  \\n    \\n      \\n        C\\n        =\\n        (\\n        1\\n        +\\n        a\\n        )\\n        \\n          C\\n          \\n            u\\n          \\n        \\n      \\n    \\n    {\\\\displaystyle C=(1+a)C_{u}}\\n   where \\n  \\n    \\n      \\n        a\\n        =\\n        \\n          \\n            C\\n            \\n              C\\n              \\n                u\\n              \\n            \\n          \\n        \\n        −\\n        1\\n      \\n    \\n    {\\\\displaystyle a={\\\\frac {C}{C_{u}}}-1}\\n  Using the previous equation and \"a\", an expression for Cs comes out to be:\\n\\n  \\n    \\n      \\n        \\n          C\\n          \\n            s\\n          \\n        \\n        =\\n        (\\n        1\\n        +\\n        2\\n        a\\n        )\\n        \\n          C\\n          \\n            u\\n          \\n        \\n      \\n    \\n    {\\\\displaystyle C_{s}=(1+2a)C_{u}}\\n  Calculating the change in specific stagnation enthalpy across disc:\\n  \\n    \\n      \\n        Δ\\n        \\n          h\\n          \\n            o\\n          \\n        \\n        =\\n        Δ\\n        \\n          h\\n          \\n            o\\n          \\n        \\n        d\\n        −\\n        Δ\\n        \\n          h\\n          \\n            o\\n          \\n        \\n        u\\n        =\\n        \\n          (\\n          \\n            \\n              h\\n              \\n                d\\n              \\n            \\n            +\\n            \\n              \\n                1\\n                2\\n              \\n            \\n            \\n              C\\n              \\n                s\\n              \\n              \\n                2\\n              \\n            \\n          \\n          )\\n        \\n        −\\n        \\n          (\\n          \\n            \\n              h\\n              \\n                u\\n              \\n            \\n            +\\n            \\n              \\n                1\\n                2\\n              \\n            \\n            \\n              C\\n              \\n                u\\n              \\n              \\n                2\\n              \\n            \\n          \\n          )\\n        \\n        =\\n        \\n          \\n            1\\n            2\\n          \\n        \\n        \\n          (\\n          \\n            \\n              C\\n              \\n                s\\n              \\n              \\n                2\\n              \\n            \\n            −\\n            \\n              C\\n              \\n                u\\n              \\n              \\n                2\\n              \\n            \\n          \\n          )\\n        \\n      \\n    \\n    {\\\\displaystyle \\\\Delta h_{o}=\\\\Delta h_{o}d-\\\\Delta h_{o}u=\\\\left(h_{d}+{\\\\frac {1}{2}}C_{s}^{2}\\\\right)-\\\\left(h_{u}+{\\\\frac {1}{2}}C_{u}^{2}\\\\right)={\\\\frac {1}{2}}\\\\left(C_{s}^{2}-C_{u}^{2}\\\\right)}\\n  Now, Ideal Value of Power supplied to the Propeller = Mass flow rate * Change in Stagnation enthalpy;\\n\\n  \\n    \\n      \\n        \\n          P\\n          \\n            i\\n          \\n        \\n        =\\n        \\n          \\n            \\n              m\\n              ˙\\n            \\n          \\n        \\n        \\n          Δ\\n          \\n            h\\n            \\n              o\\n            \\n          \\n        \\n      \\n    \\n    {\\\\displaystyle P_{i}={\\\\dot {m}}{\\\\Delta h_{o}}}\\n   where \\n  \\n    \\n      \\n        \\n          \\n            \\n              m\\n              ˙\\n            \\n          \\n        \\n        =\\n        ρ\\n        A\\n        C\\n      \\n    \\n    {\\\\displaystyle {\\\\dot {m}}=\\\\rho AC}\\n  If propeller was employed to propel an aircraft at speed = Cu; then Useful Power = Axial Thrust  * Speed of Aircraft;\\n\\n  \\n    \\n      \\n        P\\n        =\\n        \\n          F\\n          \\n            x\\n          \\n        \\n        \\n          C\\n          \\n            u\\n          \\n        \\n      \\n    \\n    {\\\\displaystyle P=F_{x}C_{u}}\\n  Hence the expression for efficiency comes out to be:\\n  \\n    \\n      \\n        \\n          η\\n          \\n            p\\n          \\n        \\n        =\\n        \\n          \\n            \\n              \\n                Actual Power\\n              \\n              (\\n              P\\n              )\\n            \\n            \\n              \\n                Ideal Power\\n              \\n              (\\n              \\n                P\\n                \\n                  i\\n                \\n              \\n              )\\n            \\n          \\n        \\n        =\\n        \\n          \\n            \\n              \\n                F\\n                \\n                  x\\n                \\n              \\n              \\n                C\\n                \\n                  u\\n                \\n              \\n            \\n            \\n              \\n                \\n                  1\\n                  2\\n                \\n              \\n              ρ\\n              A\\n              C\\n              \\n                (\\n                \\n                  \\n                    C\\n                    \\n                      s\\n                    \\n                    \\n                      2\\n                    \\n                  \\n                  −\\n                  \\n                    C\\n                    \\n                      u\\n                    \\n                    \\n                      2\\n                    \\n                  \\n                \\n                )\\n              \\n            \\n          \\n        \\n        =\\n        \\n          \\n            \\n              C\\n              \\n                u\\n              \\n            \\n            C\\n          \\n        \\n        =\\n        \\n          \\n            1\\n            \\n              1\\n              +\\n              a\\n            \\n          \\n        \\n      \\n    \\n    {\\\\displaystyle \\\\eta _{p}={\\\\frac {{\\\\text{Actual Power}}(P)}{{\\\\text{Ideal Power}}(P_{i})}}={\\\\frac {F_{x}C_{u}}{{\\\\frac {1}{2}}\\\\rho AC\\\\left(C_{s}^{2}-C_{u}^{2}\\\\right)}}={\\\\frac {C_{u}}{C}}={\\\\frac {1}{1+a}}}\\n  Let Ds be the diameter of the imaginary outlet cylinder. By Continuity Equation;\\n\\n  \\n    \\n      \\n        \\n          \\n            \\n              \\n                C\\n                \\n                  \\n                    \\n                      π\\n                      \\n                        D\\n                        \\n                          2\\n                        \\n                      \\n                    \\n                    4\\n                  \\n                \\n              \\n              \\n                \\n                =\\n                \\n                  C\\n                  \\n                    s\\n                  \\n                \\n                \\n                  \\n                    \\n                      π\\n                      \\n                        D\\n                        \\n                          s\\n                        \\n                        \\n                          2\\n                        \\n                      \\n                    \\n                    4\\n                  \\n                \\n              \\n            \\n            \\n              \\n                ⇒\\n                \\n                  D\\n                  \\n                    s\\n                  \\n                  \\n                    2\\n                  \\n                \\n              \\n              \\n                \\n                =\\n                \\n                  \\n                    C\\n                    \\n                      C\\n                      \\n                        s\\n                      \\n                    \\n                  \\n                \\n                \\n                  D\\n                  \\n                    2\\n                  \\n                \\n              \\n            \\n          \\n        \\n      \\n    \\n    {\\\\displaystyle {\\\\begin{aligned}C{\\\\frac {\\\\pi D^{2}}{4}}&=C_{s}{\\\\frac {\\\\pi D_{s}^{2}}{4}}\\\\\\\\\\\\Rightarrow D_{s}^{2}&={\\\\frac {C}{C_{s}}}D^{2}\\\\end{aligned}}}\\n  \\nFrom the above equations it is known that -\\n\\n  \\n    \\n      \\n        \\n          C\\n          \\n            s\\n          \\n        \\n        =\\n        \\n          \\n            \\n              1\\n              +\\n              2\\n              a\\n            \\n            \\n              1\\n              +\\n              a\\n            \\n          \\n        \\n        C\\n      \\n    \\n    {\\\\displaystyle C_{s}={\\\\frac {1+2a}{1+a}}C}\\n  Therefore;\\n\\n  \\n    \\n      \\n        \\n          D\\n          \\n            s\\n          \\n          \\n            2\\n          \\n        \\n        =\\n        \\n          (\\n          \\n            \\n              \\n                1\\n                +\\n                a\\n              \\n              \\n                1\\n                +\\n                2\\n                a\\n              \\n            \\n          \\n          )\\n        \\n        \\n          D\\n          \\n            2\\n          \\n        \\n      \\n    \\n    {\\\\displaystyle D_{s}^{2}=\\\\left({\\\\frac {1+a}{1+2a}}\\\\right)D^{2}}\\n  Hence the flow can be modeled where the air flows through an imaginary diverging duct, where diameter of propeller disc and diameter of the outlet are related.\\n\\nBlade element theory\\nIn this theory, a small element (dr) is taken at a distance r from the root of the blade and all the forces acting on the element are analysed to get a solution. It is assumed that the flow through each section of small radial thickness dr is assumed to be independent of the flow through other elements.\\n\\nResolving Forces in the figure -\\n\\n  \\n    \\n      \\n        Δ\\n        \\n          F\\n          \\n            x\\n          \\n        \\n        =\\n        Δ\\n        L\\n        sin\\n        \\u2061\\n        (\\n        β\\n        )\\n        −\\n        Δ\\n        D\\n        cos\\n        \\u2061\\n        (\\n        β\\n        )\\n      \\n    \\n    {\\\\displaystyle \\\\Delta F_{x}=\\\\Delta L\\\\sin(\\\\beta )-\\\\Delta D\\\\cos(\\\\beta )}\\n  \\n\\n  \\n    \\n      \\n        Δ\\n        \\n          F\\n          \\n            y\\n          \\n        \\n        =\\n        Δ\\n        L\\n        cos\\n        \\u2061\\n        (\\n        β\\n        )\\n        +\\n        Δ\\n        D\\n        sin\\n        \\u2061\\n        (\\n        β\\n        )\\n      \\n    \\n    {\\\\displaystyle \\\\Delta F_{y}=\\\\Delta L\\\\cos(\\\\beta )+\\\\Delta D\\\\sin(\\\\beta )}\\n  Lift Coefficient (CL) and Drag Coefficient (CD) are given as -\\n\\n  \\n    \\n      \\n        \\n          L\\n          i\\n          f\\n          t\\n        \\n        (\\n        Δ\\n        L\\n        )\\n        =\\n        \\n          \\n            1\\n            2\\n          \\n        \\n        \\n          C\\n          \\n            L\\n          \\n        \\n        ρ\\n        \\n          w\\n          \\n            2\\n          \\n        \\n        (\\n        l\\n        d\\n        r\\n        )\\n      \\n    \\n    {\\\\displaystyle \\\\mathrm {Lift} (\\\\Delta L)={\\\\frac {1}{2}}C_{L}\\\\rho w^{2}(ldr)}\\n  \\n\\n  \\n    \\n      \\n        \\n          D\\n          r\\n          a\\n          g\\n        \\n        (\\n        Δ\\n        D\\n        )\\n        =\\n        \\n          \\n            1\\n            2\\n          \\n        \\n        \\n          C\\n          \\n            D\\n          \\n        \\n        ρ\\n        \\n          w\\n          \\n            2\\n          \\n        \\n        (\\n        l\\n        d\\n        r\\n        )\\n      \\n    \\n    {\\\\displaystyle \\\\mathrm {Drag} (\\\\Delta D)={\\\\frac {1}{2}}C_{D}\\\\rho w^{2}(ldr)}\\n  Also from the figure -\\n\\n  \\n    \\n      \\n        tan\\n        \\u2061\\n        (\\n        ϕ\\n        )\\n        =\\n        \\n          \\n            \\n              Δ\\n              D\\n            \\n            \\n              Δ\\n              L\\n            \\n          \\n        \\n        =\\n        \\n          \\n            \\n              C\\n              \\n                D\\n              \\n            \\n            \\n              C\\n              \\n                L\\n              \\n            \\n          \\n        \\n      \\n    \\n    {\\\\displaystyle \\\\tan(\\\\phi )={\\\\frac {\\\\Delta D}{\\\\Delta L}}={\\\\frac {C_{D}}{C_{L}}}}\\n  Now,\\n\\n  \\n    \\n      \\n        Δ\\n        \\n          F\\n          \\n            x\\n          \\n        \\n        =\\n        Δ\\n        L\\n        (\\n        sin\\n        \\u2061\\n        β\\n        −\\n        \\n          \\n            \\n              Δ\\n              D\\n            \\n            \\n              Δ\\n              L\\n            \\n          \\n        \\n        cos\\n        \\u2061\\n        β\\n        )\\n        =\\n        Δ\\n        L\\n        (\\n        sin\\n        \\u2061\\n        β\\n        −\\n        tan\\n        \\u2061\\n        ϕ\\n        cos\\n        \\u2061\\n        β\\n        )\\n        =\\n        \\n          \\n            1\\n            2\\n          \\n        \\n        \\n          C\\n          \\n            L\\n          \\n        \\n        ρ\\n        \\n          w\\n          \\n            2\\n          \\n        \\n        l\\n        d\\n        r\\n        \\n          \\n            \\n              sin\\n              \\u2061\\n              (\\n              β\\n              −\\n              ϕ\\n              )\\n            \\n            \\n              cos\\n              \\u2061\\n              ϕ\\n            \\n          \\n        \\n      \\n    \\n    {\\\\displaystyle \\\\Delta F_{x}=\\\\Delta L(\\\\sin \\\\beta -{\\\\frac {\\\\Delta D}{\\\\Delta L}}\\\\cos \\\\beta )=\\\\Delta L(\\\\sin \\\\beta -\\\\tan \\\\phi \\\\cos \\\\beta )={\\\\frac {1}{2}}C_{L}\\\\rho w^{2}ldr{\\\\frac {\\\\sin(\\\\beta -\\\\phi )}{\\\\cos \\\\phi }}}\\n  No. of Blades (z) and Spacing (s) are related as, \\n  \\n    \\n      \\n        s\\n        =\\n        \\n          \\n            \\n              2\\n              π\\n              r\\n            \\n            z\\n          \\n        \\n      \\n    \\n    {\\\\displaystyle s={\\\\frac {2\\\\pi r}{z}}}\\n   and the total thrust for the elemental section of the propeller is zΔFx.\\nTherefore,\\n\\n  \\n    \\n      \\n        Δ\\n        p\\n        (\\n        2\\n        π\\n        r\\n        d\\n        r\\n        )\\n        =\\n        z\\n        Δ\\n        \\n          F\\n          \\n            x\\n          \\n        \\n      \\n    \\n    {\\\\displaystyle \\\\Delta p(2\\\\pi rdr)=z\\\\Delta F_{x}}\\n  \\n\\n  \\n    \\n      \\n        ⇒\\n        Δ\\n        p\\n        =\\n        \\n          \\n            1\\n            2\\n          \\n        \\n        \\n          C\\n          \\n            L\\n          \\n        \\n        ρ\\n        \\n          w\\n          \\n            2\\n          \\n        \\n        (\\n        \\n          \\n            l\\n            s\\n          \\n        \\n        )\\n        \\n          \\n            \\n              sin\\n              \\u2061\\n              (\\n              β\\n              −\\n              ϕ\\n              )\\n            \\n            \\n              cos\\n              \\u2061\\n              ϕ\\n            \\n          \\n        \\n        =\\n        \\n          \\n            1\\n            2\\n          \\n        \\n        \\n          C\\n          \\n            D\\n          \\n        \\n        ρ\\n        \\n          w\\n          \\n            2\\n          \\n        \\n        (\\n        \\n          \\n            l\\n            s\\n          \\n        \\n        )\\n        \\n          \\n            \\n              sin\\n              \\u2061\\n              (\\n              β\\n              −\\n              ϕ\\n              )\\n            \\n            \\n              sin\\n              \\u2061\\n              ϕ\\n            \\n          \\n        \\n      \\n    \\n    {\\\\displaystyle \\\\Rightarrow \\\\Delta p={\\\\frac {1}{2}}C_{L}\\\\rho w^{2}({\\\\frac {l}{s}}){\\\\frac {\\\\sin(\\\\beta -\\\\phi )}{\\\\cos \\\\phi }}={\\\\frac {1}{2}}C_{D}\\\\rho w^{2}({\\\\frac {l}{s}}){\\\\frac {\\\\sin(\\\\beta -\\\\phi )}{\\\\sin \\\\phi }}}\\n  Similarly, solving for ΔFy, ΔFy is found out to be -\\n\\n  \\n    \\n      \\n        Δ\\n        \\n          F\\n          \\n            y\\n          \\n        \\n        =\\n        \\n          \\n            1\\n            2\\n          \\n        \\n        \\n          C\\n          \\n            L\\n          \\n        \\n        ρ\\n        \\n          w\\n          \\n            2\\n          \\n        \\n        l\\n        d\\n        r\\n        \\n          \\n            \\n              cos\\n              \\u2061\\n              (\\n              β\\n              −\\n              ϕ\\n              )\\n            \\n            \\n              cos\\n              \\u2061\\n              ϕ\\n            \\n          \\n        \\n      \\n    \\n    {\\\\displaystyle \\\\Delta F_{y}={\\\\frac {1}{2}}C_{L}\\\\rho w^{2}ldr{\\\\frac {\\\\cos(\\\\beta -\\\\phi )}{\\\\cos \\\\phi }}}\\n  and \\n  \\n    \\n      \\n        (\\n        \\n          T\\n          o\\n          r\\n          q\\n          u\\n          e\\n        \\n        )\\n        Δ\\n        Q\\n        =\\n        r\\n        Δ\\n        \\n          F\\n          \\n            y\\n          \\n        \\n      \\n    \\n    {\\\\displaystyle (\\\\mathrm {Torque} )\\\\Delta Q=r\\\\Delta F_{y}}\\n  \\nFinally, thrust and torque can be found out for an elemental section as they are proportional to Fx and Fy respectively.\\n\\nPerformance characteristics\\nThe relationship between the pressure variation and the volume flow rate are important characteristics of fans. The typical characteristics of axial fans can be studied from the performance curves. The performance curve for the axial fan is shown in the figure. (The vertical line joining the maximum efficiency point is drawn which meets the Pressure curve at point \"S\")\\nThe following can be inferred from the curve -\\n\\nAs the flow rate increases from zero the efficiency increases to a particular point reaches maximum value and then decreases.\\nThe power output of the fans increases with almost constant  positive slope.\\nThe pressure fluctuations  are observed at low discharges and at flow rates(as indicated by the point \"S\" ) the pressure deceases.\\nThe pressure variations to the left of the point \"S\" causes for unsteady flow which are due to the two effects of Stalling and surging.\\n\\nCauses of unstable flow\\nStalling and surging affects the fan performance, blades, as well as output and are thus undesirable. They occur because of the improper design, fan physical properties and are generally accompanied by noise generation.\\n\\nStalling effect/Stall\\nThe cause for this  is the separation of the flow from the blade surfaces. This effect can be explained by the flow over an air foil. When the angle of incidence increases (during the low velocity flow) at the  entrance of the air foil, flow pattern changes and separation occurs. This is the first stage of stalling and through this separation point the flow separates leading to the formation of vortices, back flow in the separated region. For a further the explanation of stall and rotating stall, refer to compressor surge. The stall zone for the single axial fan and axial fans operated in parallel are shown in the figure.\\n\\nThe following can be inferred from the graph :\\n\\nFor the Fans operated in parallel, the performance is less when compared to the individual fans.\\nThe fans should be operated in safe operation zone to avoid the stalling effects.\\n\\nVFDs are not practical for some Axial fans\\nMany Axial fan failures have happened after controlled blade axial fans were locked in a fixed position and Variable Frequency Drives (VFDs) were installed. The VFDs are not practical for some Axial fans. Axial fans with severe instability regions should not be operated at blades angles, rotational speeds, mass flow rates, and pressures that expose the fan to stall conditions.\\n\\nSurging effect/Surge\\nSurging should not be confused with stalling. Stalling occurs only if there is insufficient air entering into the fan blades causing separation of flow on the blade surface. Surging or the Unstable flow causing complete breakdown in fans is mainly contributed by the three factors\\n\\nSystem surge\\nFan surge\\nParalleling\\n\\nSystem surge\\nThis situation occurs when the system resistance curve and static pressure curve of the fan intersect have similar slope or parallel to each other. Rather than intersecting at a definite point the curves intersect over certain region reporting system surge. These characteristics are not observed in axial fans.\\n\\nFan surge\\nThis unstable operation results from the development of pressure gradients in the opposite direction of the flow. Maximum pressure is observed at the discharge of the impeller blade and minimum pressure on the side opposite to the discharge side. When the impeller blades are not rotating these adverse pressure gradients pump the flow in the direction opposite to the direction of the fan. The result is the oscillation of the fan blades creating vibrations and hence noise.\\n\\nParalleling\\nThis effect is seen only in case of multiple fans. The air flow capacities of the fans are compared and connected in same outlet or same inlet conditions. This causes noise, specifically referred to as Beating in case of fans in parallel. To avoid beating use is made of differing inlet conditions, differences in rotational speeds of the fans, etc.\\n\\nMethods to avoid unsteady flow\\nBy designing the fan blades with proper hub-to-tip ratio and analyzing performance on the number of blades so that the flow doesn\\'t separate on the blade surface these effects can be reduced. Some of the methods to overcome these effects are re-circulation of excess air through the fan, axial fans are high specific speed devices operating them at high efficiency and to minimize the effects they have to be operated at low speeds. For controlling and directing the flow use of guide vanes is suggested. Turbulent flows at the inlet and outlet of the fans cause stalling so the flow should be made laminar by the introduction of a stator to prevent the effect.\\n\\nSee also\\nMechanical fan\\nPropeller (marine)\\nPropeller (aircraft)\\nIndustrial fan\\nCeiling fan\\nTurbofan\\nDucted propeller\\nWindow fan\\nCompressor surge\\nCompressor stall\\nPropeller walk\\nCavitation\\nAzimuth thruster\\nKitchen rudder\\nPaddle steamer\\nPropulsor\\nCleaver\\nFolding propeller\\nModular propeller\\nSupercavitating propeller\\n\\nNotes\\n\\n\\n== References ==',\n",
              " 'A backdrive is a component used in reverse to obtain its input from its output. This extends to many concepts and systems from thought based to practical mechanical applications.\\nNot every system can be backdriven. A DC electrical generator can be implemented by backdriving a DC electric motor, however a worm drive works only in one direction.\\nExample: A CNC vertical mill has a vertical lead screw on the Z-axis. A low lead screw pitch (i.e. 5 turns per inch or fewer) means when the driving motor power is removed such as by turning the machine off, the weight of the spindle will cause the lead screw to rotate as the spindle motor falls down. Obviously this is a bad thing. The solution to prevent back-driving is to use a finer (higher) lead screw pitch (i.e. 10tpi or greater) or have a locking mechanism.']"
            ]
          },
          "metadata": {
            "tags": []
          },
          "execution_count": 29
        }
      ]
    },
    {
      "cell_type": "markdown",
      "metadata": {
        "id": "aHPBjIVlzkeS",
        "colab_type": "text"
      },
      "source": [
        "# Obtaining dataset"
      ]
    },
    {
      "cell_type": "code",
      "metadata": {
        "id": "eh77Zn68zuVX",
        "colab_type": "code",
        "colab": {}
      },
      "source": [
        ""
      ],
      "execution_count": 0,
      "outputs": []
    }
  ]
}
