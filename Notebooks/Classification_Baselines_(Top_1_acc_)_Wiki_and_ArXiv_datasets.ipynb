{
  "nbformat": 4,
  "nbformat_minor": 0,
  "metadata": {
    "colab": {
      "name": "[TFG] Classification  Baselines (Top-1 acc.) - Wiki and ArXiv datasets.ipynb",
      "provenance": [],
      "toc_visible": true
    },
    "kernelspec": {
      "name": "python3",
      "display_name": "Python 3"
    },
    "widgets": {
      "application/vnd.jupyter.widget-state+json": {
        "07934b4150f74d8d8e6d571bedfd31f2": {
          "model_module": "@jupyter-widgets/controls",
          "model_name": "HBoxModel",
          "state": {
            "_view_name": "HBoxView",
            "_dom_classes": [],
            "_model_name": "HBoxModel",
            "_view_module": "@jupyter-widgets/controls",
            "_model_module_version": "1.5.0",
            "_view_count": null,
            "_view_module_version": "1.5.0",
            "box_style": "",
            "layout": "IPY_MODEL_aef159be450b49a8acebbd733bdf725c",
            "_model_module": "@jupyter-widgets/controls",
            "children": [
              "IPY_MODEL_2df657edb6084ae08c0feaaf358e7e16",
              "IPY_MODEL_317b17f5a9ee480e818866e05dd6517b"
            ]
          }
        },
        "aef159be450b49a8acebbd733bdf725c": {
          "model_module": "@jupyter-widgets/base",
          "model_name": "LayoutModel",
          "state": {
            "_view_name": "LayoutView",
            "grid_template_rows": null,
            "right": null,
            "justify_content": null,
            "_view_module": "@jupyter-widgets/base",
            "overflow": null,
            "_model_module_version": "1.2.0",
            "_view_count": null,
            "flex_flow": null,
            "width": null,
            "min_width": null,
            "border": null,
            "align_items": null,
            "bottom": null,
            "_model_module": "@jupyter-widgets/base",
            "top": null,
            "grid_column": null,
            "overflow_y": null,
            "overflow_x": null,
            "grid_auto_flow": null,
            "grid_area": null,
            "grid_template_columns": null,
            "flex": null,
            "_model_name": "LayoutModel",
            "justify_items": null,
            "grid_row": null,
            "max_height": null,
            "align_content": null,
            "visibility": null,
            "align_self": null,
            "height": null,
            "min_height": null,
            "padding": null,
            "grid_auto_rows": null,
            "grid_gap": null,
            "max_width": null,
            "order": null,
            "_view_module_version": "1.2.0",
            "grid_template_areas": null,
            "object_position": null,
            "object_fit": null,
            "grid_auto_columns": null,
            "margin": null,
            "display": null,
            "left": null
          }
        },
        "2df657edb6084ae08c0feaaf358e7e16": {
          "model_module": "@jupyter-widgets/controls",
          "model_name": "IntProgressModel",
          "state": {
            "_view_name": "ProgressView",
            "style": "IPY_MODEL_da4140accf4a4a02bf2a59d1bd1cb8b6",
            "_dom_classes": [],
            "description": "100%",
            "_model_name": "IntProgressModel",
            "bar_style": "success",
            "max": 30,
            "_view_module": "@jupyter-widgets/controls",
            "_model_module_version": "1.5.0",
            "value": 30,
            "_view_count": null,
            "_view_module_version": "1.5.0",
            "orientation": "horizontal",
            "min": 0,
            "description_tooltip": null,
            "_model_module": "@jupyter-widgets/controls",
            "layout": "IPY_MODEL_538263bfcc764c62abb2bdb53c518a7a"
          }
        },
        "317b17f5a9ee480e818866e05dd6517b": {
          "model_module": "@jupyter-widgets/controls",
          "model_name": "HTMLModel",
          "state": {
            "_view_name": "HTMLView",
            "style": "IPY_MODEL_390a00747a054e419a3e7bf0982a554a",
            "_dom_classes": [],
            "description": "",
            "_model_name": "HTMLModel",
            "placeholder": "​",
            "_view_module": "@jupyter-widgets/controls",
            "_model_module_version": "1.5.0",
            "value": " 30/30 [04:37&lt;00:00,  9.24s/it]",
            "_view_count": null,
            "_view_module_version": "1.5.0",
            "description_tooltip": null,
            "_model_module": "@jupyter-widgets/controls",
            "layout": "IPY_MODEL_0a80f3216310441ba552feed3d6eb891"
          }
        },
        "da4140accf4a4a02bf2a59d1bd1cb8b6": {
          "model_module": "@jupyter-widgets/controls",
          "model_name": "ProgressStyleModel",
          "state": {
            "_view_name": "StyleView",
            "_model_name": "ProgressStyleModel",
            "description_width": "initial",
            "_view_module": "@jupyter-widgets/base",
            "_model_module_version": "1.5.0",
            "_view_count": null,
            "_view_module_version": "1.2.0",
            "bar_color": null,
            "_model_module": "@jupyter-widgets/controls"
          }
        },
        "538263bfcc764c62abb2bdb53c518a7a": {
          "model_module": "@jupyter-widgets/base",
          "model_name": "LayoutModel",
          "state": {
            "_view_name": "LayoutView",
            "grid_template_rows": null,
            "right": null,
            "justify_content": null,
            "_view_module": "@jupyter-widgets/base",
            "overflow": null,
            "_model_module_version": "1.2.0",
            "_view_count": null,
            "flex_flow": null,
            "width": null,
            "min_width": null,
            "border": null,
            "align_items": null,
            "bottom": null,
            "_model_module": "@jupyter-widgets/base",
            "top": null,
            "grid_column": null,
            "overflow_y": null,
            "overflow_x": null,
            "grid_auto_flow": null,
            "grid_area": null,
            "grid_template_columns": null,
            "flex": null,
            "_model_name": "LayoutModel",
            "justify_items": null,
            "grid_row": null,
            "max_height": null,
            "align_content": null,
            "visibility": null,
            "align_self": null,
            "height": null,
            "min_height": null,
            "padding": null,
            "grid_auto_rows": null,
            "grid_gap": null,
            "max_width": null,
            "order": null,
            "_view_module_version": "1.2.0",
            "grid_template_areas": null,
            "object_position": null,
            "object_fit": null,
            "grid_auto_columns": null,
            "margin": null,
            "display": null,
            "left": null
          }
        },
        "390a00747a054e419a3e7bf0982a554a": {
          "model_module": "@jupyter-widgets/controls",
          "model_name": "DescriptionStyleModel",
          "state": {
            "_view_name": "StyleView",
            "_model_name": "DescriptionStyleModel",
            "description_width": "",
            "_view_module": "@jupyter-widgets/base",
            "_model_module_version": "1.5.0",
            "_view_count": null,
            "_view_module_version": "1.2.0",
            "_model_module": "@jupyter-widgets/controls"
          }
        },
        "0a80f3216310441ba552feed3d6eb891": {
          "model_module": "@jupyter-widgets/base",
          "model_name": "LayoutModel",
          "state": {
            "_view_name": "LayoutView",
            "grid_template_rows": null,
            "right": null,
            "justify_content": null,
            "_view_module": "@jupyter-widgets/base",
            "overflow": null,
            "_model_module_version": "1.2.0",
            "_view_count": null,
            "flex_flow": null,
            "width": null,
            "min_width": null,
            "border": null,
            "align_items": null,
            "bottom": null,
            "_model_module": "@jupyter-widgets/base",
            "top": null,
            "grid_column": null,
            "overflow_y": null,
            "overflow_x": null,
            "grid_auto_flow": null,
            "grid_area": null,
            "grid_template_columns": null,
            "flex": null,
            "_model_name": "LayoutModel",
            "justify_items": null,
            "grid_row": null,
            "max_height": null,
            "align_content": null,
            "visibility": null,
            "align_self": null,
            "height": null,
            "min_height": null,
            "padding": null,
            "grid_auto_rows": null,
            "grid_gap": null,
            "max_width": null,
            "order": null,
            "_view_module_version": "1.2.0",
            "grid_template_areas": null,
            "object_position": null,
            "object_fit": null,
            "grid_auto_columns": null,
            "margin": null,
            "display": null,
            "left": null
          }
        },
        "90dd95ecc0964335aa7ab4345a61dfb2": {
          "model_module": "@jupyter-widgets/controls",
          "model_name": "HBoxModel",
          "state": {
            "_view_name": "HBoxView",
            "_dom_classes": [],
            "_model_name": "HBoxModel",
            "_view_module": "@jupyter-widgets/controls",
            "_model_module_version": "1.5.0",
            "_view_count": null,
            "_view_module_version": "1.5.0",
            "box_style": "",
            "layout": "IPY_MODEL_3493c268f7f24b66bb34149624bea6f5",
            "_model_module": "@jupyter-widgets/controls",
            "children": [
              "IPY_MODEL_0b9efad4765f442fb936686de429bf14",
              "IPY_MODEL_5654c94f2ae84c2bbfb5fdb035d639b5"
            ]
          }
        },
        "3493c268f7f24b66bb34149624bea6f5": {
          "model_module": "@jupyter-widgets/base",
          "model_name": "LayoutModel",
          "state": {
            "_view_name": "LayoutView",
            "grid_template_rows": null,
            "right": null,
            "justify_content": null,
            "_view_module": "@jupyter-widgets/base",
            "overflow": null,
            "_model_module_version": "1.2.0",
            "_view_count": null,
            "flex_flow": null,
            "width": null,
            "min_width": null,
            "border": null,
            "align_items": null,
            "bottom": null,
            "_model_module": "@jupyter-widgets/base",
            "top": null,
            "grid_column": null,
            "overflow_y": null,
            "overflow_x": null,
            "grid_auto_flow": null,
            "grid_area": null,
            "grid_template_columns": null,
            "flex": null,
            "_model_name": "LayoutModel",
            "justify_items": null,
            "grid_row": null,
            "max_height": null,
            "align_content": null,
            "visibility": null,
            "align_self": null,
            "height": null,
            "min_height": null,
            "padding": null,
            "grid_auto_rows": null,
            "grid_gap": null,
            "max_width": null,
            "order": null,
            "_view_module_version": "1.2.0",
            "grid_template_areas": null,
            "object_position": null,
            "object_fit": null,
            "grid_auto_columns": null,
            "margin": null,
            "display": null,
            "left": null
          }
        },
        "0b9efad4765f442fb936686de429bf14": {
          "model_module": "@jupyter-widgets/controls",
          "model_name": "IntProgressModel",
          "state": {
            "_view_name": "ProgressView",
            "style": "IPY_MODEL_e75faac20a614ab987bc61bdfc5ac9c0",
            "_dom_classes": [],
            "description": "100%",
            "_model_name": "IntProgressModel",
            "bar_style": "success",
            "max": 30,
            "_view_module": "@jupyter-widgets/controls",
            "_model_module_version": "1.5.0",
            "value": 30,
            "_view_count": null,
            "_view_module_version": "1.5.0",
            "orientation": "horizontal",
            "min": 0,
            "description_tooltip": null,
            "_model_module": "@jupyter-widgets/controls",
            "layout": "IPY_MODEL_eec1ccb497b945a681dea84d3ad4eac0"
          }
        },
        "5654c94f2ae84c2bbfb5fdb035d639b5": {
          "model_module": "@jupyter-widgets/controls",
          "model_name": "HTMLModel",
          "state": {
            "_view_name": "HTMLView",
            "style": "IPY_MODEL_5b348e11b798488db6b6760ad8a919f3",
            "_dom_classes": [],
            "description": "",
            "_model_name": "HTMLModel",
            "placeholder": "​",
            "_view_module": "@jupyter-widgets/controls",
            "_model_module_version": "1.5.0",
            "value": " 30/30 [01:29&lt;00:00,  2.97s/it]",
            "_view_count": null,
            "_view_module_version": "1.5.0",
            "description_tooltip": null,
            "_model_module": "@jupyter-widgets/controls",
            "layout": "IPY_MODEL_45c6ed6856454a88988480b2fc278426"
          }
        },
        "e75faac20a614ab987bc61bdfc5ac9c0": {
          "model_module": "@jupyter-widgets/controls",
          "model_name": "ProgressStyleModel",
          "state": {
            "_view_name": "StyleView",
            "_model_name": "ProgressStyleModel",
            "description_width": "initial",
            "_view_module": "@jupyter-widgets/base",
            "_model_module_version": "1.5.0",
            "_view_count": null,
            "_view_module_version": "1.2.0",
            "bar_color": null,
            "_model_module": "@jupyter-widgets/controls"
          }
        },
        "eec1ccb497b945a681dea84d3ad4eac0": {
          "model_module": "@jupyter-widgets/base",
          "model_name": "LayoutModel",
          "state": {
            "_view_name": "LayoutView",
            "grid_template_rows": null,
            "right": null,
            "justify_content": null,
            "_view_module": "@jupyter-widgets/base",
            "overflow": null,
            "_model_module_version": "1.2.0",
            "_view_count": null,
            "flex_flow": null,
            "width": null,
            "min_width": null,
            "border": null,
            "align_items": null,
            "bottom": null,
            "_model_module": "@jupyter-widgets/base",
            "top": null,
            "grid_column": null,
            "overflow_y": null,
            "overflow_x": null,
            "grid_auto_flow": null,
            "grid_area": null,
            "grid_template_columns": null,
            "flex": null,
            "_model_name": "LayoutModel",
            "justify_items": null,
            "grid_row": null,
            "max_height": null,
            "align_content": null,
            "visibility": null,
            "align_self": null,
            "height": null,
            "min_height": null,
            "padding": null,
            "grid_auto_rows": null,
            "grid_gap": null,
            "max_width": null,
            "order": null,
            "_view_module_version": "1.2.0",
            "grid_template_areas": null,
            "object_position": null,
            "object_fit": null,
            "grid_auto_columns": null,
            "margin": null,
            "display": null,
            "left": null
          }
        },
        "5b348e11b798488db6b6760ad8a919f3": {
          "model_module": "@jupyter-widgets/controls",
          "model_name": "DescriptionStyleModel",
          "state": {
            "_view_name": "StyleView",
            "_model_name": "DescriptionStyleModel",
            "description_width": "",
            "_view_module": "@jupyter-widgets/base",
            "_model_module_version": "1.5.0",
            "_view_count": null,
            "_view_module_version": "1.2.0",
            "_model_module": "@jupyter-widgets/controls"
          }
        },
        "45c6ed6856454a88988480b2fc278426": {
          "model_module": "@jupyter-widgets/base",
          "model_name": "LayoutModel",
          "state": {
            "_view_name": "LayoutView",
            "grid_template_rows": null,
            "right": null,
            "justify_content": null,
            "_view_module": "@jupyter-widgets/base",
            "overflow": null,
            "_model_module_version": "1.2.0",
            "_view_count": null,
            "flex_flow": null,
            "width": null,
            "min_width": null,
            "border": null,
            "align_items": null,
            "bottom": null,
            "_model_module": "@jupyter-widgets/base",
            "top": null,
            "grid_column": null,
            "overflow_y": null,
            "overflow_x": null,
            "grid_auto_flow": null,
            "grid_area": null,
            "grid_template_columns": null,
            "flex": null,
            "_model_name": "LayoutModel",
            "justify_items": null,
            "grid_row": null,
            "max_height": null,
            "align_content": null,
            "visibility": null,
            "align_self": null,
            "height": null,
            "min_height": null,
            "padding": null,
            "grid_auto_rows": null,
            "grid_gap": null,
            "max_width": null,
            "order": null,
            "_view_module_version": "1.2.0",
            "grid_template_areas": null,
            "object_position": null,
            "object_fit": null,
            "grid_auto_columns": null,
            "margin": null,
            "display": null,
            "left": null
          }
        },
        "a60ee94c73b04e6c9aaa26c2a7a058a5": {
          "model_module": "@jupyter-widgets/controls",
          "model_name": "HBoxModel",
          "state": {
            "_view_name": "HBoxView",
            "_dom_classes": [],
            "_model_name": "HBoxModel",
            "_view_module": "@jupyter-widgets/controls",
            "_model_module_version": "1.5.0",
            "_view_count": null,
            "_view_module_version": "1.5.0",
            "box_style": "",
            "layout": "IPY_MODEL_5888275df4224a9fa41404400a65b21d",
            "_model_module": "@jupyter-widgets/controls",
            "children": [
              "IPY_MODEL_5216b99b762b44c08f765ef23360fb35",
              "IPY_MODEL_41b96ab14f0f4de5b74709f647e6e5aa"
            ]
          }
        },
        "5888275df4224a9fa41404400a65b21d": {
          "model_module": "@jupyter-widgets/base",
          "model_name": "LayoutModel",
          "state": {
            "_view_name": "LayoutView",
            "grid_template_rows": null,
            "right": null,
            "justify_content": null,
            "_view_module": "@jupyter-widgets/base",
            "overflow": null,
            "_model_module_version": "1.2.0",
            "_view_count": null,
            "flex_flow": null,
            "width": null,
            "min_width": null,
            "border": null,
            "align_items": null,
            "bottom": null,
            "_model_module": "@jupyter-widgets/base",
            "top": null,
            "grid_column": null,
            "overflow_y": null,
            "overflow_x": null,
            "grid_auto_flow": null,
            "grid_area": null,
            "grid_template_columns": null,
            "flex": null,
            "_model_name": "LayoutModel",
            "justify_items": null,
            "grid_row": null,
            "max_height": null,
            "align_content": null,
            "visibility": null,
            "align_self": null,
            "height": null,
            "min_height": null,
            "padding": null,
            "grid_auto_rows": null,
            "grid_gap": null,
            "max_width": null,
            "order": null,
            "_view_module_version": "1.2.0",
            "grid_template_areas": null,
            "object_position": null,
            "object_fit": null,
            "grid_auto_columns": null,
            "margin": null,
            "display": null,
            "left": null
          }
        },
        "5216b99b762b44c08f765ef23360fb35": {
          "model_module": "@jupyter-widgets/controls",
          "model_name": "IntProgressModel",
          "state": {
            "_view_name": "ProgressView",
            "style": "IPY_MODEL_a9a33bd8154d41539e5346c1addf39db",
            "_dom_classes": [],
            "description": "100%",
            "_model_name": "IntProgressModel",
            "bar_style": "success",
            "max": 100,
            "_view_module": "@jupyter-widgets/controls",
            "_model_module_version": "1.5.0",
            "value": 100,
            "_view_count": null,
            "_view_module_version": "1.5.0",
            "orientation": "horizontal",
            "min": 0,
            "description_tooltip": null,
            "_model_module": "@jupyter-widgets/controls",
            "layout": "IPY_MODEL_40e6b2272ee943b4a23f2cb2c0ce082f"
          }
        },
        "41b96ab14f0f4de5b74709f647e6e5aa": {
          "model_module": "@jupyter-widgets/controls",
          "model_name": "HTMLModel",
          "state": {
            "_view_name": "HTMLView",
            "style": "IPY_MODEL_1c6dd0a8d0aa4082be598fee0b3000ab",
            "_dom_classes": [],
            "description": "",
            "_model_name": "HTMLModel",
            "placeholder": "​",
            "_view_module": "@jupyter-widgets/controls",
            "_model_module_version": "1.5.0",
            "value": " 100/100 [01:30&lt;00:00,  1.10it/s]",
            "_view_count": null,
            "_view_module_version": "1.5.0",
            "description_tooltip": null,
            "_model_module": "@jupyter-widgets/controls",
            "layout": "IPY_MODEL_2f19eb0dd640475d8a03da530a3dd006"
          }
        },
        "a9a33bd8154d41539e5346c1addf39db": {
          "model_module": "@jupyter-widgets/controls",
          "model_name": "ProgressStyleModel",
          "state": {
            "_view_name": "StyleView",
            "_model_name": "ProgressStyleModel",
            "description_width": "initial",
            "_view_module": "@jupyter-widgets/base",
            "_model_module_version": "1.5.0",
            "_view_count": null,
            "_view_module_version": "1.2.0",
            "bar_color": null,
            "_model_module": "@jupyter-widgets/controls"
          }
        },
        "40e6b2272ee943b4a23f2cb2c0ce082f": {
          "model_module": "@jupyter-widgets/base",
          "model_name": "LayoutModel",
          "state": {
            "_view_name": "LayoutView",
            "grid_template_rows": null,
            "right": null,
            "justify_content": null,
            "_view_module": "@jupyter-widgets/base",
            "overflow": null,
            "_model_module_version": "1.2.0",
            "_view_count": null,
            "flex_flow": null,
            "width": null,
            "min_width": null,
            "border": null,
            "align_items": null,
            "bottom": null,
            "_model_module": "@jupyter-widgets/base",
            "top": null,
            "grid_column": null,
            "overflow_y": null,
            "overflow_x": null,
            "grid_auto_flow": null,
            "grid_area": null,
            "grid_template_columns": null,
            "flex": null,
            "_model_name": "LayoutModel",
            "justify_items": null,
            "grid_row": null,
            "max_height": null,
            "align_content": null,
            "visibility": null,
            "align_self": null,
            "height": null,
            "min_height": null,
            "padding": null,
            "grid_auto_rows": null,
            "grid_gap": null,
            "max_width": null,
            "order": null,
            "_view_module_version": "1.2.0",
            "grid_template_areas": null,
            "object_position": null,
            "object_fit": null,
            "grid_auto_columns": null,
            "margin": null,
            "display": null,
            "left": null
          }
        },
        "1c6dd0a8d0aa4082be598fee0b3000ab": {
          "model_module": "@jupyter-widgets/controls",
          "model_name": "DescriptionStyleModel",
          "state": {
            "_view_name": "StyleView",
            "_model_name": "DescriptionStyleModel",
            "description_width": "",
            "_view_module": "@jupyter-widgets/base",
            "_model_module_version": "1.5.0",
            "_view_count": null,
            "_view_module_version": "1.2.0",
            "_model_module": "@jupyter-widgets/controls"
          }
        },
        "2f19eb0dd640475d8a03da530a3dd006": {
          "model_module": "@jupyter-widgets/base",
          "model_name": "LayoutModel",
          "state": {
            "_view_name": "LayoutView",
            "grid_template_rows": null,
            "right": null,
            "justify_content": null,
            "_view_module": "@jupyter-widgets/base",
            "overflow": null,
            "_model_module_version": "1.2.0",
            "_view_count": null,
            "flex_flow": null,
            "width": null,
            "min_width": null,
            "border": null,
            "align_items": null,
            "bottom": null,
            "_model_module": "@jupyter-widgets/base",
            "top": null,
            "grid_column": null,
            "overflow_y": null,
            "overflow_x": null,
            "grid_auto_flow": null,
            "grid_area": null,
            "grid_template_columns": null,
            "flex": null,
            "_model_name": "LayoutModel",
            "justify_items": null,
            "grid_row": null,
            "max_height": null,
            "align_content": null,
            "visibility": null,
            "align_self": null,
            "height": null,
            "min_height": null,
            "padding": null,
            "grid_auto_rows": null,
            "grid_gap": null,
            "max_width": null,
            "order": null,
            "_view_module_version": "1.2.0",
            "grid_template_areas": null,
            "object_position": null,
            "object_fit": null,
            "grid_auto_columns": null,
            "margin": null,
            "display": null,
            "left": null
          }
        },
        "0774ac3d7b7741cd8dcdce68c712f4b7": {
          "model_module": "@jupyter-widgets/controls",
          "model_name": "HBoxModel",
          "state": {
            "_view_name": "HBoxView",
            "_dom_classes": [],
            "_model_name": "HBoxModel",
            "_view_module": "@jupyter-widgets/controls",
            "_model_module_version": "1.5.0",
            "_view_count": null,
            "_view_module_version": "1.5.0",
            "box_style": "",
            "layout": "IPY_MODEL_f2f7a4ebfcb848b9ac083309a63c438a",
            "_model_module": "@jupyter-widgets/controls",
            "children": [
              "IPY_MODEL_81b104ee614d4d528188da308ac8fb51",
              "IPY_MODEL_eaeba8c83ff14b94accdd4474ca47d98"
            ]
          }
        },
        "f2f7a4ebfcb848b9ac083309a63c438a": {
          "model_module": "@jupyter-widgets/base",
          "model_name": "LayoutModel",
          "state": {
            "_view_name": "LayoutView",
            "grid_template_rows": null,
            "right": null,
            "justify_content": null,
            "_view_module": "@jupyter-widgets/base",
            "overflow": null,
            "_model_module_version": "1.2.0",
            "_view_count": null,
            "flex_flow": null,
            "width": null,
            "min_width": null,
            "border": null,
            "align_items": null,
            "bottom": null,
            "_model_module": "@jupyter-widgets/base",
            "top": null,
            "grid_column": null,
            "overflow_y": null,
            "overflow_x": null,
            "grid_auto_flow": null,
            "grid_area": null,
            "grid_template_columns": null,
            "flex": null,
            "_model_name": "LayoutModel",
            "justify_items": null,
            "grid_row": null,
            "max_height": null,
            "align_content": null,
            "visibility": null,
            "align_self": null,
            "height": null,
            "min_height": null,
            "padding": null,
            "grid_auto_rows": null,
            "grid_gap": null,
            "max_width": null,
            "order": null,
            "_view_module_version": "1.2.0",
            "grid_template_areas": null,
            "object_position": null,
            "object_fit": null,
            "grid_auto_columns": null,
            "margin": null,
            "display": null,
            "left": null
          }
        },
        "81b104ee614d4d528188da308ac8fb51": {
          "model_module": "@jupyter-widgets/controls",
          "model_name": "IntProgressModel",
          "state": {
            "_view_name": "ProgressView",
            "style": "IPY_MODEL_7e458b8c56c94a199293f3c57c3a1aba",
            "_dom_classes": [],
            "description": "100%",
            "_model_name": "IntProgressModel",
            "bar_style": "success",
            "max": 100,
            "_view_module": "@jupyter-widgets/controls",
            "_model_module_version": "1.5.0",
            "value": 100,
            "_view_count": null,
            "_view_module_version": "1.5.0",
            "orientation": "horizontal",
            "min": 0,
            "description_tooltip": null,
            "_model_module": "@jupyter-widgets/controls",
            "layout": "IPY_MODEL_16d4d42dcf604dc4868dc17654019bbd"
          }
        },
        "eaeba8c83ff14b94accdd4474ca47d98": {
          "model_module": "@jupyter-widgets/controls",
          "model_name": "HTMLModel",
          "state": {
            "_view_name": "HTMLView",
            "style": "IPY_MODEL_c1e826295ef74843a24fc3424d3193e1",
            "_dom_classes": [],
            "description": "",
            "_model_name": "HTMLModel",
            "placeholder": "​",
            "_view_module": "@jupyter-widgets/controls",
            "_model_module_version": "1.5.0",
            "value": " 100/100 [00:13&lt;00:00,  7.15it/s]",
            "_view_count": null,
            "_view_module_version": "1.5.0",
            "description_tooltip": null,
            "_model_module": "@jupyter-widgets/controls",
            "layout": "IPY_MODEL_79beeae210fe4fb1a219b5a8a012ebce"
          }
        },
        "7e458b8c56c94a199293f3c57c3a1aba": {
          "model_module": "@jupyter-widgets/controls",
          "model_name": "ProgressStyleModel",
          "state": {
            "_view_name": "StyleView",
            "_model_name": "ProgressStyleModel",
            "description_width": "initial",
            "_view_module": "@jupyter-widgets/base",
            "_model_module_version": "1.5.0",
            "_view_count": null,
            "_view_module_version": "1.2.0",
            "bar_color": null,
            "_model_module": "@jupyter-widgets/controls"
          }
        },
        "16d4d42dcf604dc4868dc17654019bbd": {
          "model_module": "@jupyter-widgets/base",
          "model_name": "LayoutModel",
          "state": {
            "_view_name": "LayoutView",
            "grid_template_rows": null,
            "right": null,
            "justify_content": null,
            "_view_module": "@jupyter-widgets/base",
            "overflow": null,
            "_model_module_version": "1.2.0",
            "_view_count": null,
            "flex_flow": null,
            "width": null,
            "min_width": null,
            "border": null,
            "align_items": null,
            "bottom": null,
            "_model_module": "@jupyter-widgets/base",
            "top": null,
            "grid_column": null,
            "overflow_y": null,
            "overflow_x": null,
            "grid_auto_flow": null,
            "grid_area": null,
            "grid_template_columns": null,
            "flex": null,
            "_model_name": "LayoutModel",
            "justify_items": null,
            "grid_row": null,
            "max_height": null,
            "align_content": null,
            "visibility": null,
            "align_self": null,
            "height": null,
            "min_height": null,
            "padding": null,
            "grid_auto_rows": null,
            "grid_gap": null,
            "max_width": null,
            "order": null,
            "_view_module_version": "1.2.0",
            "grid_template_areas": null,
            "object_position": null,
            "object_fit": null,
            "grid_auto_columns": null,
            "margin": null,
            "display": null,
            "left": null
          }
        },
        "c1e826295ef74843a24fc3424d3193e1": {
          "model_module": "@jupyter-widgets/controls",
          "model_name": "DescriptionStyleModel",
          "state": {
            "_view_name": "StyleView",
            "_model_name": "DescriptionStyleModel",
            "description_width": "",
            "_view_module": "@jupyter-widgets/base",
            "_model_module_version": "1.5.0",
            "_view_count": null,
            "_view_module_version": "1.2.0",
            "_model_module": "@jupyter-widgets/controls"
          }
        },
        "79beeae210fe4fb1a219b5a8a012ebce": {
          "model_module": "@jupyter-widgets/base",
          "model_name": "LayoutModel",
          "state": {
            "_view_name": "LayoutView",
            "grid_template_rows": null,
            "right": null,
            "justify_content": null,
            "_view_module": "@jupyter-widgets/base",
            "overflow": null,
            "_model_module_version": "1.2.0",
            "_view_count": null,
            "flex_flow": null,
            "width": null,
            "min_width": null,
            "border": null,
            "align_items": null,
            "bottom": null,
            "_model_module": "@jupyter-widgets/base",
            "top": null,
            "grid_column": null,
            "overflow_y": null,
            "overflow_x": null,
            "grid_auto_flow": null,
            "grid_area": null,
            "grid_template_columns": null,
            "flex": null,
            "_model_name": "LayoutModel",
            "justify_items": null,
            "grid_row": null,
            "max_height": null,
            "align_content": null,
            "visibility": null,
            "align_self": null,
            "height": null,
            "min_height": null,
            "padding": null,
            "grid_auto_rows": null,
            "grid_gap": null,
            "max_width": null,
            "order": null,
            "_view_module_version": "1.2.0",
            "grid_template_areas": null,
            "object_position": null,
            "object_fit": null,
            "grid_auto_columns": null,
            "margin": null,
            "display": null,
            "left": null
          }
        },
        "272a48619f8e4638aeea0078a5312165": {
          "model_module": "@jupyter-widgets/controls",
          "model_name": "HBoxModel",
          "state": {
            "_view_name": "HBoxView",
            "_dom_classes": [],
            "_model_name": "HBoxModel",
            "_view_module": "@jupyter-widgets/controls",
            "_model_module_version": "1.5.0",
            "_view_count": null,
            "_view_module_version": "1.5.0",
            "box_style": "",
            "layout": "IPY_MODEL_5981ff6b1b4a4666841eda1290908357",
            "_model_module": "@jupyter-widgets/controls",
            "children": [
              "IPY_MODEL_f50add4bbdcf40bda098af6660c868e8",
              "IPY_MODEL_b9bf4883b2f344a58f75502e98eda010"
            ]
          }
        },
        "5981ff6b1b4a4666841eda1290908357": {
          "model_module": "@jupyter-widgets/base",
          "model_name": "LayoutModel",
          "state": {
            "_view_name": "LayoutView",
            "grid_template_rows": null,
            "right": null,
            "justify_content": null,
            "_view_module": "@jupyter-widgets/base",
            "overflow": null,
            "_model_module_version": "1.2.0",
            "_view_count": null,
            "flex_flow": null,
            "width": null,
            "min_width": null,
            "border": null,
            "align_items": null,
            "bottom": null,
            "_model_module": "@jupyter-widgets/base",
            "top": null,
            "grid_column": null,
            "overflow_y": null,
            "overflow_x": null,
            "grid_auto_flow": null,
            "grid_area": null,
            "grid_template_columns": null,
            "flex": null,
            "_model_name": "LayoutModel",
            "justify_items": null,
            "grid_row": null,
            "max_height": null,
            "align_content": null,
            "visibility": null,
            "align_self": null,
            "height": null,
            "min_height": null,
            "padding": null,
            "grid_auto_rows": null,
            "grid_gap": null,
            "max_width": null,
            "order": null,
            "_view_module_version": "1.2.0",
            "grid_template_areas": null,
            "object_position": null,
            "object_fit": null,
            "grid_auto_columns": null,
            "margin": null,
            "display": null,
            "left": null
          }
        },
        "f50add4bbdcf40bda098af6660c868e8": {
          "model_module": "@jupyter-widgets/controls",
          "model_name": "IntProgressModel",
          "state": {
            "_view_name": "ProgressView",
            "style": "IPY_MODEL_786d62b74dd944b2b3084964708140fd",
            "_dom_classes": [],
            "description": "100%",
            "_model_name": "IntProgressModel",
            "bar_style": "success",
            "max": 100,
            "_view_module": "@jupyter-widgets/controls",
            "_model_module_version": "1.5.0",
            "value": 100,
            "_view_count": null,
            "_view_module_version": "1.5.0",
            "orientation": "horizontal",
            "min": 0,
            "description_tooltip": null,
            "_model_module": "@jupyter-widgets/controls",
            "layout": "IPY_MODEL_8bb955491da945d78012f7f0b0572d45"
          }
        },
        "b9bf4883b2f344a58f75502e98eda010": {
          "model_module": "@jupyter-widgets/controls",
          "model_name": "HTMLModel",
          "state": {
            "_view_name": "HTMLView",
            "style": "IPY_MODEL_1938ae5badb44c3484999378815ee46b",
            "_dom_classes": [],
            "description": "",
            "_model_name": "HTMLModel",
            "placeholder": "​",
            "_view_module": "@jupyter-widgets/controls",
            "_model_module_version": "1.5.0",
            "value": " 100/100 [01:31&lt;00:00,  1.10it/s]",
            "_view_count": null,
            "_view_module_version": "1.5.0",
            "description_tooltip": null,
            "_model_module": "@jupyter-widgets/controls",
            "layout": "IPY_MODEL_d1163e69e67349aea16498e344d10bd3"
          }
        },
        "786d62b74dd944b2b3084964708140fd": {
          "model_module": "@jupyter-widgets/controls",
          "model_name": "ProgressStyleModel",
          "state": {
            "_view_name": "StyleView",
            "_model_name": "ProgressStyleModel",
            "description_width": "initial",
            "_view_module": "@jupyter-widgets/base",
            "_model_module_version": "1.5.0",
            "_view_count": null,
            "_view_module_version": "1.2.0",
            "bar_color": null,
            "_model_module": "@jupyter-widgets/controls"
          }
        },
        "8bb955491da945d78012f7f0b0572d45": {
          "model_module": "@jupyter-widgets/base",
          "model_name": "LayoutModel",
          "state": {
            "_view_name": "LayoutView",
            "grid_template_rows": null,
            "right": null,
            "justify_content": null,
            "_view_module": "@jupyter-widgets/base",
            "overflow": null,
            "_model_module_version": "1.2.0",
            "_view_count": null,
            "flex_flow": null,
            "width": null,
            "min_width": null,
            "border": null,
            "align_items": null,
            "bottom": null,
            "_model_module": "@jupyter-widgets/base",
            "top": null,
            "grid_column": null,
            "overflow_y": null,
            "overflow_x": null,
            "grid_auto_flow": null,
            "grid_area": null,
            "grid_template_columns": null,
            "flex": null,
            "_model_name": "LayoutModel",
            "justify_items": null,
            "grid_row": null,
            "max_height": null,
            "align_content": null,
            "visibility": null,
            "align_self": null,
            "height": null,
            "min_height": null,
            "padding": null,
            "grid_auto_rows": null,
            "grid_gap": null,
            "max_width": null,
            "order": null,
            "_view_module_version": "1.2.0",
            "grid_template_areas": null,
            "object_position": null,
            "object_fit": null,
            "grid_auto_columns": null,
            "margin": null,
            "display": null,
            "left": null
          }
        },
        "1938ae5badb44c3484999378815ee46b": {
          "model_module": "@jupyter-widgets/controls",
          "model_name": "DescriptionStyleModel",
          "state": {
            "_view_name": "StyleView",
            "_model_name": "DescriptionStyleModel",
            "description_width": "",
            "_view_module": "@jupyter-widgets/base",
            "_model_module_version": "1.5.0",
            "_view_count": null,
            "_view_module_version": "1.2.0",
            "_model_module": "@jupyter-widgets/controls"
          }
        },
        "d1163e69e67349aea16498e344d10bd3": {
          "model_module": "@jupyter-widgets/base",
          "model_name": "LayoutModel",
          "state": {
            "_view_name": "LayoutView",
            "grid_template_rows": null,
            "right": null,
            "justify_content": null,
            "_view_module": "@jupyter-widgets/base",
            "overflow": null,
            "_model_module_version": "1.2.0",
            "_view_count": null,
            "flex_flow": null,
            "width": null,
            "min_width": null,
            "border": null,
            "align_items": null,
            "bottom": null,
            "_model_module": "@jupyter-widgets/base",
            "top": null,
            "grid_column": null,
            "overflow_y": null,
            "overflow_x": null,
            "grid_auto_flow": null,
            "grid_area": null,
            "grid_template_columns": null,
            "flex": null,
            "_model_name": "LayoutModel",
            "justify_items": null,
            "grid_row": null,
            "max_height": null,
            "align_content": null,
            "visibility": null,
            "align_self": null,
            "height": null,
            "min_height": null,
            "padding": null,
            "grid_auto_rows": null,
            "grid_gap": null,
            "max_width": null,
            "order": null,
            "_view_module_version": "1.2.0",
            "grid_template_areas": null,
            "object_position": null,
            "object_fit": null,
            "grid_auto_columns": null,
            "margin": null,
            "display": null,
            "left": null
          }
        },
        "b6666d733c8e4bd5bc75e8dc64597203": {
          "model_module": "@jupyter-widgets/controls",
          "model_name": "HBoxModel",
          "state": {
            "_view_name": "HBoxView",
            "_dom_classes": [],
            "_model_name": "HBoxModel",
            "_view_module": "@jupyter-widgets/controls",
            "_model_module_version": "1.5.0",
            "_view_count": null,
            "_view_module_version": "1.5.0",
            "box_style": "",
            "layout": "IPY_MODEL_2ab9c8d7b21d4eddb6b9a07bddfc6513",
            "_model_module": "@jupyter-widgets/controls",
            "children": [
              "IPY_MODEL_b8cd047bd379480d94376001c4c24d39",
              "IPY_MODEL_e6b1449b00ae42e3bac4e0e6ed84e8a9"
            ]
          }
        },
        "2ab9c8d7b21d4eddb6b9a07bddfc6513": {
          "model_module": "@jupyter-widgets/base",
          "model_name": "LayoutModel",
          "state": {
            "_view_name": "LayoutView",
            "grid_template_rows": null,
            "right": null,
            "justify_content": null,
            "_view_module": "@jupyter-widgets/base",
            "overflow": null,
            "_model_module_version": "1.2.0",
            "_view_count": null,
            "flex_flow": null,
            "width": null,
            "min_width": null,
            "border": null,
            "align_items": null,
            "bottom": null,
            "_model_module": "@jupyter-widgets/base",
            "top": null,
            "grid_column": null,
            "overflow_y": null,
            "overflow_x": null,
            "grid_auto_flow": null,
            "grid_area": null,
            "grid_template_columns": null,
            "flex": null,
            "_model_name": "LayoutModel",
            "justify_items": null,
            "grid_row": null,
            "max_height": null,
            "align_content": null,
            "visibility": null,
            "align_self": null,
            "height": null,
            "min_height": null,
            "padding": null,
            "grid_auto_rows": null,
            "grid_gap": null,
            "max_width": null,
            "order": null,
            "_view_module_version": "1.2.0",
            "grid_template_areas": null,
            "object_position": null,
            "object_fit": null,
            "grid_auto_columns": null,
            "margin": null,
            "display": null,
            "left": null
          }
        },
        "b8cd047bd379480d94376001c4c24d39": {
          "model_module": "@jupyter-widgets/controls",
          "model_name": "IntProgressModel",
          "state": {
            "_view_name": "ProgressView",
            "style": "IPY_MODEL_ce2a4470f52a4b888c450491b3a78b22",
            "_dom_classes": [],
            "description": "100%",
            "_model_name": "IntProgressModel",
            "bar_style": "success",
            "max": 100,
            "_view_module": "@jupyter-widgets/controls",
            "_model_module_version": "1.5.0",
            "value": 100,
            "_view_count": null,
            "_view_module_version": "1.5.0",
            "orientation": "horizontal",
            "min": 0,
            "description_tooltip": null,
            "_model_module": "@jupyter-widgets/controls",
            "layout": "IPY_MODEL_473babb096744847b1ec8087f0d4fe2a"
          }
        },
        "e6b1449b00ae42e3bac4e0e6ed84e8a9": {
          "model_module": "@jupyter-widgets/controls",
          "model_name": "HTMLModel",
          "state": {
            "_view_name": "HTMLView",
            "style": "IPY_MODEL_543c640de4474b8e906aac9b2787fb27",
            "_dom_classes": [],
            "description": "",
            "_model_name": "HTMLModel",
            "placeholder": "​",
            "_view_module": "@jupyter-widgets/controls",
            "_model_module_version": "1.5.0",
            "value": " 100/100 [00:13&lt;00:00,  7.34it/s]",
            "_view_count": null,
            "_view_module_version": "1.5.0",
            "description_tooltip": null,
            "_model_module": "@jupyter-widgets/controls",
            "layout": "IPY_MODEL_2b2c9b1c323a48b180ccd49308eac109"
          }
        },
        "ce2a4470f52a4b888c450491b3a78b22": {
          "model_module": "@jupyter-widgets/controls",
          "model_name": "ProgressStyleModel",
          "state": {
            "_view_name": "StyleView",
            "_model_name": "ProgressStyleModel",
            "description_width": "initial",
            "_view_module": "@jupyter-widgets/base",
            "_model_module_version": "1.5.0",
            "_view_count": null,
            "_view_module_version": "1.2.0",
            "bar_color": null,
            "_model_module": "@jupyter-widgets/controls"
          }
        },
        "473babb096744847b1ec8087f0d4fe2a": {
          "model_module": "@jupyter-widgets/base",
          "model_name": "LayoutModel",
          "state": {
            "_view_name": "LayoutView",
            "grid_template_rows": null,
            "right": null,
            "justify_content": null,
            "_view_module": "@jupyter-widgets/base",
            "overflow": null,
            "_model_module_version": "1.2.0",
            "_view_count": null,
            "flex_flow": null,
            "width": null,
            "min_width": null,
            "border": null,
            "align_items": null,
            "bottom": null,
            "_model_module": "@jupyter-widgets/base",
            "top": null,
            "grid_column": null,
            "overflow_y": null,
            "overflow_x": null,
            "grid_auto_flow": null,
            "grid_area": null,
            "grid_template_columns": null,
            "flex": null,
            "_model_name": "LayoutModel",
            "justify_items": null,
            "grid_row": null,
            "max_height": null,
            "align_content": null,
            "visibility": null,
            "align_self": null,
            "height": null,
            "min_height": null,
            "padding": null,
            "grid_auto_rows": null,
            "grid_gap": null,
            "max_width": null,
            "order": null,
            "_view_module_version": "1.2.0",
            "grid_template_areas": null,
            "object_position": null,
            "object_fit": null,
            "grid_auto_columns": null,
            "margin": null,
            "display": null,
            "left": null
          }
        },
        "543c640de4474b8e906aac9b2787fb27": {
          "model_module": "@jupyter-widgets/controls",
          "model_name": "DescriptionStyleModel",
          "state": {
            "_view_name": "StyleView",
            "_model_name": "DescriptionStyleModel",
            "description_width": "",
            "_view_module": "@jupyter-widgets/base",
            "_model_module_version": "1.5.0",
            "_view_count": null,
            "_view_module_version": "1.2.0",
            "_model_module": "@jupyter-widgets/controls"
          }
        },
        "2b2c9b1c323a48b180ccd49308eac109": {
          "model_module": "@jupyter-widgets/base",
          "model_name": "LayoutModel",
          "state": {
            "_view_name": "LayoutView",
            "grid_template_rows": null,
            "right": null,
            "justify_content": null,
            "_view_module": "@jupyter-widgets/base",
            "overflow": null,
            "_model_module_version": "1.2.0",
            "_view_count": null,
            "flex_flow": null,
            "width": null,
            "min_width": null,
            "border": null,
            "align_items": null,
            "bottom": null,
            "_model_module": "@jupyter-widgets/base",
            "top": null,
            "grid_column": null,
            "overflow_y": null,
            "overflow_x": null,
            "grid_auto_flow": null,
            "grid_area": null,
            "grid_template_columns": null,
            "flex": null,
            "_model_name": "LayoutModel",
            "justify_items": null,
            "grid_row": null,
            "max_height": null,
            "align_content": null,
            "visibility": null,
            "align_self": null,
            "height": null,
            "min_height": null,
            "padding": null,
            "grid_auto_rows": null,
            "grid_gap": null,
            "max_width": null,
            "order": null,
            "_view_module_version": "1.2.0",
            "grid_template_areas": null,
            "object_position": null,
            "object_fit": null,
            "grid_auto_columns": null,
            "margin": null,
            "display": null,
            "left": null
          }
        }
      }
    }
  },
  "cells": [
    {
      "cell_type": "markdown",
      "metadata": {
        "id": "POoyuzhshrdJ",
        "colab_type": "text"
      },
      "source": [
        "# Summary of end results:"
      ]
    },
    {
      "cell_type": "markdown",
      "metadata": {
        "colab_type": "text",
        "id": "er00tA-Ahp_r"
      },
      "source": [
        "\n",
        "* **FFNN** (*Wikipedia* articles data): **0.42**\n",
        "* **FFNN** (*Arxiv* papers data): **0.25**\n",
        "* **SVM** (*Wikipedia* articles data): **0.47**\n",
        "* **SVM** (*Arxiv* papers data): **0.285**\n",
        "* **MNB** (*Wikipedia* articles data): **0.535**\n",
        "* **MNB** (*Arxiv* papers data): **0.263**"
      ]
    },
    {
      "cell_type": "markdown",
      "metadata": {
        "id": "ZCG-IdCp7ajZ",
        "colab_type": "text"
      },
      "source": [
        "# 3rd Party Libraries"
      ]
    },
    {
      "cell_type": "code",
      "metadata": {
        "id": "CCvXsxA97O9u",
        "colab_type": "code",
        "colab": {}
      },
      "source": [
        "!pip install wikipedia\n",
        "!pip install wikipedia-api"
      ],
      "execution_count": 0,
      "outputs": []
    },
    {
      "cell_type": "code",
      "metadata": {
        "id": "0liMzrSn7iD6",
        "colab_type": "code",
        "colab": {
          "base_uri": "https://localhost:8080/",
          "height": 34
        },
        "outputId": "acc0b17e-060a-451e-9412-10e86d46c500"
      },
      "source": [
        "#Keras Neural Network (Feedforward)\n",
        "from keras.backend import clear_session\n",
        "from keras.models import Sequential\n",
        "from keras.layers import Dense\n",
        "#Computations \n",
        "import numpy as np\n",
        "#Progress bar\n",
        "from tqdm import tqdm_notebook as tqdm \n",
        "\n",
        "#Sklearn classifiers and utils\n",
        "from sklearn.linear_model import SGDClassifier\n",
        "from sklearn.naive_bayes import MultinomialNB\n",
        "from sklearn.pipeline import Pipeline\n",
        "from sklearn.feature_extraction.text import CountVectorizer, TfidfTransformer"
      ],
      "execution_count": 2,
      "outputs": [
        {
          "output_type": "stream",
          "text": [
            "Using TensorFlow backend.\n"
          ],
          "name": "stderr"
        }
      ]
    },
    {
      "cell_type": "markdown",
      "metadata": {
        "id": "TY9apjRe7dkJ",
        "colab_type": "text"
      },
      "source": [
        "# Project Library (modules)"
      ]
    },
    {
      "cell_type": "code",
      "metadata": {
        "id": "kG_8JM20GHd8",
        "colab_type": "code",
        "colab": {
          "base_uri": "https://localhost:8080/",
          "height": 178
        },
        "outputId": "b3e59176-d273-4079-84e9-93a7d049d82b"
      },
      "source": [
        "import doc_utils #cleaning and other helper functions\n",
        "from max_sim_classifier import MaxSimClassifier #maximum similarity classifier custom library\n",
        "\n",
        "#Parser libraries: wikipedia dataset and arxiv dataset\n",
        "from arxiv_parser import arxiv_parser\n",
        "from wiki_parser import concurrentGetWikiFullPage, concurrentGetAllCatArticles"
      ],
      "execution_count": 3,
      "outputs": [
        {
          "output_type": "stream",
          "text": [
            "[nltk_data] Downloading package punkt to /root/nltk_data...\n",
            "[nltk_data]   Unzipping tokenizers/punkt.zip.\n",
            "[nltk_data] Downloading package wordnet to /root/nltk_data...\n",
            "[nltk_data]   Unzipping corpora/wordnet.zip.\n",
            "[nltk_data] Downloading package stopwords to /root/nltk_data...\n",
            "[nltk_data]   Unzipping corpora/stopwords.zip.\n"
          ],
          "name": "stdout"
        },
        {
          "output_type": "stream",
          "text": [
            "/usr/local/lib/python3.6/dist-packages/statsmodels/tools/_testing.py:19: FutureWarning: pandas.util.testing is deprecated. Use the functions in the public API at pandas.testing instead.\n",
            "  import pandas.util.testing as tm\n"
          ],
          "name": "stderr"
        }
      ]
    },
    {
      "cell_type": "markdown",
      "metadata": {
        "id": "0AQEooo_8Cdw",
        "colab_type": "text"
      },
      "source": [
        "# Data retrieval: Wiki and ArXiv datasets"
      ]
    },
    {
      "cell_type": "markdown",
      "metadata": {
        "id": "xF1xN8fo8PT1",
        "colab_type": "text"
      },
      "source": [
        "## Wikipedia Dataset (Definitions + Articles)"
      ]
    },
    {
      "cell_type": "code",
      "metadata": {
        "id": "4zR4cyH38B3Y",
        "colab_type": "code",
        "colab": {
          "base_uri": "https://localhost:8080/",
          "height": 336
        },
        "outputId": "596302a5-d544-4f49-cfe7-9a664b1ac559"
      },
      "source": [
        "engineering_topic_defs = concurrentGetWikiFullPage(topics_list = doc_utils.ALL_TOPICS )\n",
        "\n",
        "engineering_articles, n_test_samples = concurrentGetAllCatArticles(doc_utils.ALL_TOPICS, full_text_test=True)"
      ],
      "execution_count": 4,
      "outputs": [
        {
          "output_type": "stream",
          "text": [
            "Obtaining full wikipedia page for the topic: Chemical engineering. (Definition of Class #[0])\n",
            "Obtaining full wikipedia page for the topic: Biomedical engineering. (Definition of Class #[1])\n",
            "Obtaining full wikipedia page for the topic: Civil engineering. (Definition of Class #[2])\n",
            "Obtaining full wikipedia page for the topic: Electrical engineering. (Definition of Class #[3])\n",
            "Obtaining full wikipedia page for the topic: Mechanical engineering. (Definition of Class #[4])\n",
            "Obtaining full wikipedia page for the topic: Aerospace engineering. (Definition of Class #[5])\n",
            "Obtaining full wikipedia page for the topic: Software engineering. (Definition of Class #[6])\n",
            "Obtaining full wikipedia page for the topic: Industrial engineering. (Definition of Class #[7])\n",
            "Obtaining full wikipedia page for the topic: Computer engineering. (Definition of Class #[8])\n",
            "Retrieved 41 articles from category topic 'Computer engineering'[TopicID:8]\n",
            "Retrieved 57 articles from category topic 'Software engineering'[TopicID:6]\n",
            "Retrieved 67 articles from category topic 'Chemical engineering'[TopicID:0]\n",
            "Retrieved 74 articles from category topic 'Industrial engineering'[TopicID:7]\n",
            "Retrieved 74 articles from category topic 'Biomedical engineering'[TopicID:1]\n",
            "Retrieved 140 articles from category topic 'Electrical engineering'[TopicID:3]\n",
            "Retrieved 152 articles from category topic 'Civil engineering'[TopicID:2]\n",
            "Retrieved 174 articles from category topic 'Aerospace engineering'[TopicID:5]\n",
            "Retrieved 215 articles from category topic 'Mechanical engineering'[TopicID:4]\n"
          ],
          "name": "stdout"
        }
      ]
    },
    {
      "cell_type": "code",
      "metadata": {
        "id": "yslSDeUKZB4K",
        "colab_type": "code",
        "colab": {
          "base_uri": "https://localhost:8080/",
          "height": 312
        },
        "outputId": "f4bf394e-2058-42ff-cee2-2a72059fec1c"
      },
      "source": [
        "doc_utils.plotDefinitionLengths(engineering_topic_defs ,dataset_type=\"wiki\")"
      ],
      "execution_count": 5,
      "outputs": [
        {
          "output_type": "stream",
          "text": [
            "Mean number of words per topic definition: 3190.5555555555557\n"
          ],
          "name": "stdout"
        },
        {
          "output_type": "display_data",
          "data": {
            "image/png": "[encoded data removed]",
            "text/plain": [
              "<Figure size 432x288 with 1 Axes>"
            ]
          },
          "metadata": {
            "tags": [],
            "needs_background": "light"
          }
        }
      ]
    },
    {
      "cell_type": "markdown",
      "metadata": {
        "id": "6D3d0g3S8UYA",
        "colab_type": "text"
      },
      "source": [
        "## arXiv Dataset (Papers)"
      ]
    },
    {
      "cell_type": "code",
      "metadata": {
        "id": "nhnnyXbG86eA",
        "colab_type": "code",
        "colab": {
          "base_uri": "https://localhost:8080/",
          "height": 176
        },
        "outputId": "c1578ddb-fe7a-4372-8956-6da83e84907d"
      },
      "source": [
        "arxiv_topic_defs = concurrentGetWikiFullPage(topics_list = doc_utils.ARXIV_WIKI_TOPICS)\n",
        "\n",
        "arxiv_papers = arxiv_parser(100)"
      ],
      "execution_count": 6,
      "outputs": [
        {
          "output_type": "stream",
          "text": [
            "Obtaining full wikipedia page for the topic: Computer science. (Definition of Class #[0])\n",
            "Obtaining full wikipedia page for the topic: Economics. (Definition of Class #[1])\n",
            "Obtaining full wikipedia page for the topic: Systems engineering. (Definition of Class #[2])\n",
            "Obtaining full wikipedia page for the topic: Mathematics. (Definition of Class #[3])\n",
            "Obtaining full wikipedia page for the topic: Astrophysics. (Definition of Class #[4])\n",
            "Obtaining full wikipedia page for the topic: Computational biology. (Definition of Class #[5])\n",
            "Obtaining full wikipedia page for the topic: Quantitative finance. (Definition of Class #[6])\n",
            "Obtaining full wikipedia page for the topic: Statistics. (Definition of Class #[7])\n",
            "Retrieved 800 papers in total from 8 subjects (100 from each).\n"
          ],
          "name": "stdout"
        }
      ]
    },
    {
      "cell_type": "code",
      "metadata": {
        "id": "Hj0QGGkuZHDF",
        "colab_type": "code",
        "colab": {
          "base_uri": "https://localhost:8080/",
          "height": 312
        },
        "outputId": "6429e185-1a1f-4fe6-846a-8091fbb39651"
      },
      "source": [
        "doc_utils.plotDefinitionLengths(arxiv_topic_defs ,dataset_type=\"arxiv\")"
      ],
      "execution_count": 7,
      "outputs": [
        {
          "output_type": "stream",
          "text": [
            "Mean number of words per topic definition: 3689.75\n"
          ],
          "name": "stdout"
        },
        {
          "output_type": "display_data",
          "data": {
            "image/png": "[encoded data removed]",
            "text/plain": [
              "<Figure size 432x288 with 1 Axes>"
            ]
          },
          "metadata": {
            "tags": [],
            "needs_background": "light"
          }
        }
      ]
    },
    {
      "cell_type": "markdown",
      "metadata": {
        "id": "pPX4vPM6769r",
        "colab_type": "text"
      },
      "source": [
        "# Feed Forward Neural Network"
      ]
    },
    {
      "cell_type": "markdown",
      "metadata": {
        "id": "ypcnCipfCGPn",
        "colab_type": "text"
      },
      "source": [
        "## Wikipedia dataset"
      ]
    },
    {
      "cell_type": "markdown",
      "metadata": {
        "id": "uY5_ruLg7-9i",
        "colab_type": "text"
      },
      "source": [
        "### Data preprocessing"
      ]
    },
    {
      "cell_type": "code",
      "metadata": {
        "id": "TcnhtvXgGItv",
        "colab_type": "code",
        "colab": {}
      },
      "source": [
        "x_train, y_train, x_test, y_test, dictionary = doc_utils.processNeuralNetData(engineering_topic_defs,\n",
        "                                                                              engineering_articles,\n",
        "                                                                              dataset_type = \"wiki\",\n",
        "                                                                              preprocess = 'simple')"
      ],
      "execution_count": 0,
      "outputs": []
    },
    {
      "cell_type": "markdown",
      "metadata": {
        "id": "fYrbj4XuLi3x",
        "colab_type": "text"
      },
      "source": [
        "### Model train and evaluation"
      ]
    },
    {
      "cell_type": "code",
      "metadata": {
        "id": "jI5dXTq9GIxy",
        "colab_type": "code",
        "colab": {
          "base_uri": "https://localhost:8080/",
          "height": 208,
          "referenced_widgets": [
            "07934b4150f74d8d8e6d571bedfd31f2",
            "aef159be450b49a8acebbd733bdf725c",
            "2df657edb6084ae08c0feaaf358e7e16",
            "317b17f5a9ee480e818866e05dd6517b",
            "da4140accf4a4a02bf2a59d1bd1cb8b6",
            "538263bfcc764c62abb2bdb53c518a7a",
            "390a00747a054e419a3e7bf0982a554a",
            "0a80f3216310441ba552feed3d6eb891"
          ]
        },
        "outputId": "5eba06b2-9f5b-44c3-8d1f-3ab77d8aab0a"
      },
      "source": [
        "mean_acc = 0\n",
        "max_acc = 0\n",
        "acc_list = []\n",
        "n_runs = 30\n",
        "print(\"Executing\",n_runs,\"runs of model training/evaluation...\\n\")\n",
        "\n",
        "for i in tqdm(range(n_runs)):\n",
        "    clear_session()\n",
        "\n",
        "    #Neural Architecture Definition\n",
        "    model = Sequential()\n",
        "    model.add(Dense(512, activation='relu', input_shape=(len(dictionary),)))\n",
        "\n",
        "    model.add(Dense(len(doc_utils.ALL_TOPICS), activation='softmax'))\n",
        "    #Model compilation\n",
        "    model.compile(optimizer='rmsprop', loss='categorical_crossentropy',metrics=['accuracy'])\n",
        "    #Model training\n",
        "    hist = model.fit(x_train, y_train, epochs=5,verbose=0)\n",
        "\n",
        "    model_acc = model.evaluate(x_test, y_test, verbose=0)[1]\n",
        "    acc_list.append(model_acc)\n",
        "\n",
        "    if model_acc >= max(acc_list):\n",
        "        #save best model to date\n",
        "        model_json = model.to_json()\n",
        "        with open(\"wiki_model.json\", \"w\") as f:\n",
        "            f.write(model_json)\n",
        "        model.save_weights(\"wiki_model.h5\")\n",
        "\n",
        "\n",
        "print(\"\\nResulting Average accuracy:\",np.mean(acc_list))\n",
        "print(\"Best accuracy:\", max(acc_list))"
      ],
      "execution_count": 9,
      "outputs": [
        {
          "output_type": "stream",
          "text": [
            "Executing 30 runs of model training/evaluation...\n",
            "\n"
          ],
          "name": "stdout"
        },
        {
          "output_type": "stream",
          "text": [
            "/usr/local/lib/python3.6/dist-packages/ipykernel_launcher.py:7: TqdmDeprecationWarning: This function will be removed in tqdm==5.0.0\n",
            "Please use `tqdm.notebook.tqdm` instead of `tqdm.tqdm_notebook`\n",
            "  import sys\n"
          ],
          "name": "stderr"
        },
        {
          "output_type": "display_data",
          "data": {
            "application/vnd.jupyter.widget-view+json": {
              "model_id": "07934b4150f74d8d8e6d571bedfd31f2",
              "version_minor": 0,
              "version_major": 2
            },
            "text/plain": [
              "HBox(children=(IntProgress(value=0, max=30), HTML(value='')))"
            ]
          },
          "metadata": {
            "tags": []
          }
        },
        {
          "output_type": "stream",
          "text": [
            "\n",
            "\n",
            "Resulting Average accuracy: 0.32045606871445975\n",
            "Best accuracy: 0.4195170998573303\n"
          ],
          "name": "stdout"
        }
      ]
    },
    {
      "cell_type": "code",
      "metadata": {
        "id": "LovfSXVmQK7h",
        "colab_type": "code",
        "colab": {
          "base_uri": "https://localhost:8080/",
          "height": 34
        },
        "outputId": "645dd8c6-1a0a-4bbc-e789-9679ca4859ce"
      },
      "source": [
        "from keras.models import model_from_json\n",
        "#loading best model obtained\n",
        "json_f = open('wiki_model.json', 'r')\n",
        "best_model_json = json_f.read()\n",
        "json_f.close()\n",
        "best_model = model_from_json(best_model_json)\n",
        "#loading weights\n",
        "best_model.load_weights(\"wiki_model.h5\")\n",
        "\n",
        "# evaluate loaded model on test data\n",
        "best_model.compile(optimizer='rmsprop', loss='categorical_crossentropy',metrics=['accuracy'])\n",
        "predictions = best_model.predict_classes(x_test) #for later building confusion matrix\n",
        "print(\"Model accuracy:\",best_model.evaluate(x_test, y_test, verbose=0)[1])"
      ],
      "execution_count": 11,
      "outputs": [
        {
          "output_type": "stream",
          "text": [
            "Model accuracy: 0.4195170998573303\n"
          ],
          "name": "stdout"
        }
      ]
    },
    {
      "cell_type": "code",
      "metadata": {
        "id": "pKJxRGjOQk_j",
        "colab_type": "code",
        "colab": {
          "base_uri": "https://localhost:8080/",
          "height": 444
        },
        "outputId": "fe9bb3e0-28c8-4289-a8e3-fadccbae63a9"
      },
      "source": [
        "doc_utils.plotConfMatrix(y_test, predictions, model = \"NN\")"
      ],
      "execution_count": 12,
      "outputs": [
        {
          "output_type": "display_data",
          "data": {
            "image/png": "[encoded data removed]",
            "text/plain": [
              "<Figure size 720x504 with 2 Axes>"
            ]
          },
          "metadata": {
            "tags": [],
            "needs_background": "light"
          }
        }
      ]
    },
    {
      "cell_type": "markdown",
      "metadata": {
        "id": "FmGW9WgnLSaw",
        "colab_type": "text"
      },
      "source": [
        "## ArXiv dataset"
      ]
    },
    {
      "cell_type": "markdown",
      "metadata": {
        "id": "f5gF0FaZLc-c",
        "colab_type": "text"
      },
      "source": [
        "### Data preprocessing"
      ]
    },
    {
      "cell_type": "code",
      "metadata": {
        "id": "_B6nfGTdLVZf",
        "colab_type": "code",
        "colab": {}
      },
      "source": [
        "x_train, y_train, x_test, y_test, dictionary  = doc_utils.processNeuralNetData(arxiv_topic_defs,\n",
        "                                                                                arxiv_papers,\n",
        "                                                                                dataset_type = \"arxiv\",\n",
        "                                                                                preprocess = 'simple')"
      ],
      "execution_count": 0,
      "outputs": []
    },
    {
      "cell_type": "markdown",
      "metadata": {
        "id": "IU4va3oNLeh5",
        "colab_type": "text"
      },
      "source": [
        "### Model train and evaluation"
      ]
    },
    {
      "cell_type": "code",
      "metadata": {
        "id": "Cj1-LcBkLgcz",
        "colab_type": "code",
        "colab": {
          "base_uri": "https://localhost:8080/",
          "height": 208,
          "referenced_widgets": [
            "90dd95ecc0964335aa7ab4345a61dfb2",
            "3493c268f7f24b66bb34149624bea6f5",
            "0b9efad4765f442fb936686de429bf14",
            "5654c94f2ae84c2bbfb5fdb035d639b5",
            "e75faac20a614ab987bc61bdfc5ac9c0",
            "eec1ccb497b945a681dea84d3ad4eac0",
            "5b348e11b798488db6b6760ad8a919f3",
            "45c6ed6856454a88988480b2fc278426"
          ]
        },
        "outputId": "780995df-897a-4392-ee82-e73b36cb8ec1"
      },
      "source": [
        "mean_acc = 0\n",
        "max_acc = 0\n",
        "acc_list = []\n",
        "n_runs = 30 \n",
        "\n",
        "print(\"Executing\",n_runs,\"runs of model training/evaluation...\\n\")\n",
        "\n",
        "for i in tqdm(range(n_runs)):\n",
        "    clear_session()\n",
        "\n",
        "    #Neural Architecture Definition\n",
        "    model = Sequential()\n",
        "    model.add(Dense(512, activation='relu', input_shape=(len(dictionary),)))\n",
        "\n",
        "    model.add(Dense(len(doc_utils.ARXIV_WIKI_TOPICS), activation='softmax'))\n",
        "    #Model compilation\n",
        "    model.compile(optimizer='rmsprop', loss='categorical_crossentropy',metrics=['accuracy'])\n",
        "    #Model training\n",
        "    hist = model.fit(x_train, y_train, epochs=15,verbose=0)\n",
        "\n",
        "    model_acc = model.evaluate(x_test, y_test, verbose=0)[1]\n",
        "    acc_list.append(model_acc)\n",
        "\n",
        "    if model_acc >= max(acc_list):\n",
        "        #save best model to date\n",
        "        model_json = model.to_json()\n",
        "        with open(\"arxiv_model.json\", \"w\") as f:\n",
        "            f.write(model_json)\n",
        "        model.save_weights(\"arxiv_model.h5\")\n",
        "\n",
        "\n",
        "print(\"\\nResulting Average accuracy:\",np.mean(acc_list))\n",
        "print(\"Best accuracy:\", max(acc_list))"
      ],
      "execution_count": 16,
      "outputs": [
        {
          "output_type": "stream",
          "text": [
            "Executing 30 runs of model training/evaluation...\n",
            "\n"
          ],
          "name": "stdout"
        },
        {
          "output_type": "stream",
          "text": [
            "/usr/local/lib/python3.6/dist-packages/ipykernel_launcher.py:8: TqdmDeprecationWarning: This function will be removed in tqdm==5.0.0\n",
            "Please use `tqdm.notebook.tqdm` instead of `tqdm.tqdm_notebook`\n",
            "  \n"
          ],
          "name": "stderr"
        },
        {
          "output_type": "display_data",
          "data": {
            "application/vnd.jupyter.widget-view+json": {
              "model_id": "90dd95ecc0964335aa7ab4345a61dfb2",
              "version_minor": 0,
              "version_major": 2
            },
            "text/plain": [
              "HBox(children=(IntProgress(value=0, max=30), HTML(value='')))"
            ]
          },
          "metadata": {
            "tags": []
          }
        },
        {
          "output_type": "stream",
          "text": [
            "\n",
            "\n",
            "Resulting Average accuracy: 0.19166666666666668\n",
            "Best accuracy: 0.2475000023841858\n"
          ],
          "name": "stdout"
        }
      ]
    },
    {
      "cell_type": "code",
      "metadata": {
        "id": "Nsq-T73TQ33F",
        "colab_type": "code",
        "colab": {
          "base_uri": "https://localhost:8080/",
          "height": 34
        },
        "outputId": "e2795300-20e3-4dcb-a565-e895b3ad22e6"
      },
      "source": [
        "#loading best model obtained\n",
        "json_f = open('arxiv_model.json', 'r')\n",
        "best_model_json = json_f.read()\n",
        "json_f.close()\n",
        "best_model = model_from_json(best_model_json)\n",
        "#loading weights\n",
        "best_model.load_weights(\"arxiv_model.h5\")\n",
        "\n",
        "# evaluate loaded model on test data\n",
        "best_model.compile(optimizer='rmsprop', loss='categorical_crossentropy',metrics=['accuracy'])\n",
        "predictions = best_model.predict_classes(x_test) #for later building confusion matrix\n",
        "print(\"Model accuracy:\",best_model.evaluate(x_test, y_test, verbose=0)[1])"
      ],
      "execution_count": 17,
      "outputs": [
        {
          "output_type": "stream",
          "text": [
            "Model accuracy: 0.2475000023841858\n"
          ],
          "name": "stdout"
        }
      ]
    },
    {
      "cell_type": "code",
      "metadata": {
        "id": "-JWGfVYVUH5-",
        "colab_type": "code",
        "colab": {
          "base_uri": "https://localhost:8080/",
          "height": 546
        },
        "outputId": "a542dac6-f4eb-44ce-d462-10ad40c1f664"
      },
      "source": [
        "doc_utils.plotConfMatrix(y_test, predictions, model = \"NN\",dataset_type=\"arxiv\")"
      ],
      "execution_count": 19,
      "outputs": [
        {
          "output_type": "display_data",
          "data": {
            "image/png": "[encoded data removed]",
            "text/plain": [
              "<Figure size 720x504 with 2 Axes>"
            ]
          },
          "metadata": {
            "tags": [],
            "needs_background": "light"
          }
        }
      ]
    },
    {
      "cell_type": "markdown",
      "metadata": {
        "id": "KRmIAyLZa60w",
        "colab_type": "text"
      },
      "source": [
        "## FF.NN. Results:"
      ]
    },
    {
      "cell_type": "markdown",
      "metadata": {
        "id": "iRmiHTv0a-eD",
        "colab_type": "text"
      },
      "source": [
        "* **Wikipedia articles dataset**: Top1 Accuracy **0.42**\n",
        "* **Arxiv papers dataset**: Top1 Accuracy **0.25**\n"
      ]
    },
    {
      "cell_type": "markdown",
      "metadata": {
        "id": "0SxxpChFbQZ0",
        "colab_type": "text"
      },
      "source": [
        "# Support Vector Machine (SVM)"
      ]
    },
    {
      "cell_type": "markdown",
      "metadata": {
        "id": "ZxOKDDPzbeR_",
        "colab_type": "text"
      },
      "source": [
        "## Wikipedia dataset"
      ]
    },
    {
      "cell_type": "markdown",
      "metadata": {
        "id": "ALZQzoThbgXR",
        "colab_type": "text"
      },
      "source": [
        "### Data preprocessing"
      ]
    },
    {
      "cell_type": "code",
      "metadata": {
        "id": "VsAPYtljUKaE",
        "colab_type": "code",
        "colab": {}
      },
      "source": [
        "x_train, y_train, x_test, y_test = doc_utils.processClassifierData(engineering_topic_defs, \n",
        "                                                                   engineering_articles,\n",
        "                                                                   topics = doc_utils.ALL_TOPICS,\n",
        "                                                                   dataset_type =\"wiki\")"
      ],
      "execution_count": 0,
      "outputs": []
    },
    {
      "cell_type": "markdown",
      "metadata": {
        "id": "kFLnBNkdbr5r",
        "colab_type": "text"
      },
      "source": [
        "### Model train and evaluation"
      ]
    },
    {
      "cell_type": "code",
      "metadata": {
        "id": "ToClkBlwbvvv",
        "colab_type": "code",
        "colab": {
          "base_uri": "https://localhost:8080/",
          "height": 173,
          "referenced_widgets": [
            "a60ee94c73b04e6c9aaa26c2a7a058a5",
            "5888275df4224a9fa41404400a65b21d",
            "5216b99b762b44c08f765ef23360fb35",
            "41b96ab14f0f4de5b74709f647e6e5aa",
            "a9a33bd8154d41539e5346c1addf39db",
            "40e6b2272ee943b4a23f2cb2c0ce082f",
            "1c6dd0a8d0aa4082be598fee0b3000ab",
            "2f19eb0dd640475d8a03da530a3dd006"
          ]
        },
        "outputId": "b85784bb-b0d5-452c-ac04-439dd025eb41"
      },
      "source": [
        "n_runs = 100\n",
        "mean_acc = 0\n",
        "max_acc = 0\n",
        "\n",
        "acc_list = []\n",
        "best_svm = None\n",
        "\n",
        "print(\"Executing\",n_runs,\"runs of SVM classifiers...\")\n",
        "\n",
        "for i in tqdm(range(n_runs)):\n",
        "\n",
        "    text_clf_svm = Pipeline([('vect', CountVectorizer()),\n",
        "                            ('tfidf', TfidfTransformer()),\n",
        "                            ('clf-svm', SGDClassifier()),\n",
        "                            ])    \n",
        "\n",
        "    _ = text_clf_svm.fit(x_train, y_train)\n",
        "\n",
        "    predicted_svm = text_clf_svm.predict(x_test)\n",
        "    classification_accuracy = np.mean(predicted_svm == y_test)\n",
        "\n",
        "    acc_list.append(classification_accuracy)\n",
        "    \n",
        "    if classification_accuracy >= max(acc_list):\n",
        "        best_svm = text_clf_svm\n",
        "\n",
        "print(\"Resulting Average accuracy:\",np.mean(acc_list))\n",
        "print(\"Best accuracy:\", max(acc_list))"
      ],
      "execution_count": 18,
      "outputs": [
        {
          "output_type": "stream",
          "text": [
            "Executing 100 runs of SVM classifiers...\n"
          ],
          "name": "stdout"
        },
        {
          "output_type": "stream",
          "text": [
            "/usr/local/lib/python3.6/dist-packages/ipykernel_launcher.py:10: TqdmDeprecationWarning: This function will be removed in tqdm==5.0.0\n",
            "Please use `tqdm.notebook.tqdm` instead of `tqdm.tqdm_notebook`\n",
            "  # Remove the CWD from sys.path while we load stuff.\n"
          ],
          "name": "stderr"
        },
        {
          "output_type": "display_data",
          "data": {
            "application/vnd.jupyter.widget-view+json": {
              "model_id": "a60ee94c73b04e6c9aaa26c2a7a058a5",
              "version_minor": 0,
              "version_major": 2
            },
            "text/plain": [
              "HBox(children=(IntProgress(value=0), HTML(value='')))"
            ]
          },
          "metadata": {
            "tags": []
          }
        },
        {
          "output_type": "stream",
          "text": [
            "\n",
            "Resulting Average accuracy: 0.2570523138832998\n",
            "Best accuracy: 0.4678068410462777\n"
          ],
          "name": "stdout"
        }
      ]
    },
    {
      "cell_type": "markdown",
      "metadata": {
        "id": "KyznpAkSbwDr",
        "colab_type": "text"
      },
      "source": [
        "## arXiv dataset"
      ]
    },
    {
      "cell_type": "markdown",
      "metadata": {
        "id": "vAS4kC5Hb1qP",
        "colab_type": "text"
      },
      "source": [
        "### Data preprocessing"
      ]
    },
    {
      "cell_type": "code",
      "metadata": {
        "id": "D-af-6RmdDun",
        "colab_type": "code",
        "colab": {}
      },
      "source": [
        "x_train, y_train, x_test, y_test = doc_utils.processClassifierData(arxiv_topic_defs, \n",
        "                                                                   arxiv_papers,\n",
        "                                                                   topics = doc_utils.ARXIV_WIKI_TOPICS,\n",
        "                                                                   dataset_type =\"arxiv\")"
      ],
      "execution_count": 0,
      "outputs": []
    },
    {
      "cell_type": "markdown",
      "metadata": {
        "id": "tPQKiTRtb4GB",
        "colab_type": "text"
      },
      "source": [
        "### Model train and evaluation"
      ]
    },
    {
      "cell_type": "code",
      "metadata": {
        "id": "vg6wBJu4eG7D",
        "colab_type": "code",
        "colab": {
          "base_uri": "https://localhost:8080/",
          "height": 173,
          "referenced_widgets": [
            "0774ac3d7b7741cd8dcdce68c712f4b7",
            "f2f7a4ebfcb848b9ac083309a63c438a",
            "81b104ee614d4d528188da308ac8fb51",
            "eaeba8c83ff14b94accdd4474ca47d98",
            "7e458b8c56c94a199293f3c57c3a1aba",
            "16d4d42dcf604dc4868dc17654019bbd",
            "c1e826295ef74843a24fc3424d3193e1",
            "79beeae210fe4fb1a219b5a8a012ebce"
          ]
        },
        "outputId": "0a28b49a-f6e3-4e17-8bff-a8c0b255cdca"
      },
      "source": [
        "n_runs = 100\n",
        "mean_acc = 0\n",
        "max_acc = 0\n",
        "\n",
        "acc_list = []\n",
        "best_svm = None\n",
        "\n",
        "print(\"Executing\",n_runs,\"runs of SVM classifiers...\")\n",
        "\n",
        "for i in tqdm(range(n_runs)):\n",
        "\n",
        "    text_clf_svm = Pipeline([('vect', CountVectorizer()),\n",
        "                            ('tfidf', TfidfTransformer()),\n",
        "                            ('clf-svm', SGDClassifier()),\n",
        "                            ])    \n",
        "\n",
        "    _ = text_clf_svm.fit(x_train, y_train)\n",
        "\n",
        "    predicted_svm = text_clf_svm.predict(x_test)\n",
        "    classification_accuracy = np.mean(predicted_svm == y_test)\n",
        "\n",
        "    acc_list.append(classification_accuracy)\n",
        "    \n",
        "    if classification_accuracy >= max(acc_list):\n",
        "        best_svm = text_clf_svm\n",
        "\n",
        "print(\"Resulting Average accuracy:\",np.mean(acc_list))\n",
        "print(\"Best accuracy:\", max(acc_list))"
      ],
      "execution_count": 20,
      "outputs": [
        {
          "output_type": "stream",
          "text": [
            "Executing 100 runs of SVM classifiers...\n"
          ],
          "name": "stdout"
        },
        {
          "output_type": "stream",
          "text": [
            "/usr/local/lib/python3.6/dist-packages/ipykernel_launcher.py:10: TqdmDeprecationWarning: This function will be removed in tqdm==5.0.0\n",
            "Please use `tqdm.notebook.tqdm` instead of `tqdm.tqdm_notebook`\n",
            "  # Remove the CWD from sys.path while we load stuff.\n"
          ],
          "name": "stderr"
        },
        {
          "output_type": "display_data",
          "data": {
            "application/vnd.jupyter.widget-view+json": {
              "model_id": "0774ac3d7b7741cd8dcdce68c712f4b7",
              "version_minor": 0,
              "version_major": 2
            },
            "text/plain": [
              "HBox(children=(IntProgress(value=0), HTML(value='')))"
            ]
          },
          "metadata": {
            "tags": []
          }
        },
        {
          "output_type": "stream",
          "text": [
            "\n",
            "Resulting Average accuracy: 0.1992375\n",
            "Best accuracy: 0.285\n"
          ],
          "name": "stdout"
        }
      ]
    },
    {
      "cell_type": "markdown",
      "metadata": {
        "id": "XZCuHGmkbTmO",
        "colab_type": "text"
      },
      "source": [
        "# Multinomial Naive Bayes (MNB)"
      ]
    },
    {
      "cell_type": "markdown",
      "metadata": {
        "id": "fgOP2v-ZbjMj",
        "colab_type": "text"
      },
      "source": [
        "## Wikipedia dataset"
      ]
    },
    {
      "cell_type": "markdown",
      "metadata": {
        "id": "zcL_KfnNbmd1",
        "colab_type": "text"
      },
      "source": [
        "### Data preprocessing"
      ]
    },
    {
      "cell_type": "code",
      "metadata": {
        "id": "19KrKhldbVBr",
        "colab_type": "code",
        "colab": {}
      },
      "source": [
        "x_train, y_train, x_test, y_test = doc_utils.processClassifierData(engineering_topic_defs, \n",
        "                                                                   engineering_articles,\n",
        "                                                                   topics = doc_utils.ALL_TOPICS,\n",
        "                                                                   dataset_type =\"wiki\")"
      ],
      "execution_count": 0,
      "outputs": []
    },
    {
      "cell_type": "markdown",
      "metadata": {
        "id": "33CH1vY8bokr",
        "colab_type": "text"
      },
      "source": [
        "### Model train and evaluation"
      ]
    },
    {
      "cell_type": "code",
      "metadata": {
        "id": "3qIIt28Gbpqf",
        "colab_type": "code",
        "colab": {
          "base_uri": "https://localhost:8080/",
          "height": 173,
          "referenced_widgets": [
            "272a48619f8e4638aeea0078a5312165",
            "5981ff6b1b4a4666841eda1290908357",
            "f50add4bbdcf40bda098af6660c868e8",
            "b9bf4883b2f344a58f75502e98eda010",
            "786d62b74dd944b2b3084964708140fd",
            "8bb955491da945d78012f7f0b0572d45",
            "1938ae5badb44c3484999378815ee46b",
            "d1163e69e67349aea16498e344d10bd3"
          ]
        },
        "outputId": "4886a475-4ab1-45fc-93ec-40674e3b834d"
      },
      "source": [
        "n_runs = 100\n",
        "mean_acc = 0\n",
        "max_acc = 0\n",
        "\n",
        "acc_list = []\n",
        "best_NB = None\n",
        "\n",
        "print(\"Executing\",n_runs,\"runs of Multinomial NaiveBayes classifiers...\")\n",
        "\n",
        "for i in tqdm(range(n_runs)):\n",
        "\n",
        "    text_clf_NB = Pipeline([('vect', CountVectorizer()),\n",
        "                            ('tfidf', TfidfTransformer()),\n",
        "                            ('clf-NB', MultinomialNB()),\n",
        "                            ])    \n",
        "\n",
        "    _ = text_clf_NB.fit(x_train, y_train)\n",
        "\n",
        "    predicted_NB = text_clf_NB.predict(x_test)\n",
        "    classification_accuracy = np.mean(predicted_NB == y_test)\n",
        "\n",
        "    acc_list.append(classification_accuracy)\n",
        "    \n",
        "    if classification_accuracy >= max(acc_list):\n",
        "        best_NB = text_clf_NB\n",
        "\n",
        "print(\"Resulting Average accuracy:\",np.mean(acc_list))\n",
        "print(\"Best accuracy:\", max(acc_list))"
      ],
      "execution_count": 22,
      "outputs": [
        {
          "output_type": "stream",
          "text": [
            "Executing 100 runs of Multinomial NaiveBayes classifiers...\n"
          ],
          "name": "stdout"
        },
        {
          "output_type": "stream",
          "text": [
            "/usr/local/lib/python3.6/dist-packages/ipykernel_launcher.py:10: TqdmDeprecationWarning: This function will be removed in tqdm==5.0.0\n",
            "Please use `tqdm.notebook.tqdm` instead of `tqdm.tqdm_notebook`\n",
            "  # Remove the CWD from sys.path while we load stuff.\n"
          ],
          "name": "stderr"
        },
        {
          "output_type": "display_data",
          "data": {
            "application/vnd.jupyter.widget-view+json": {
              "model_id": "272a48619f8e4638aeea0078a5312165",
              "version_minor": 0,
              "version_major": 2
            },
            "text/plain": [
              "HBox(children=(IntProgress(value=0), HTML(value='')))"
            ]
          },
          "metadata": {
            "tags": []
          }
        },
        {
          "output_type": "stream",
          "text": [
            "\n",
            "Resulting Average accuracy: 0.5352112676056339\n",
            "Best accuracy: 0.5352112676056338\n"
          ],
          "name": "stdout"
        }
      ]
    },
    {
      "cell_type": "markdown",
      "metadata": {
        "id": "gyhdlJ7ofsKm",
        "colab_type": "text"
      },
      "source": [
        "## arXiv dataset"
      ]
    },
    {
      "cell_type": "markdown",
      "metadata": {
        "id": "5H-bKRNMfvkz",
        "colab_type": "text"
      },
      "source": [
        "### Data preprocessing"
      ]
    },
    {
      "cell_type": "code",
      "metadata": {
        "id": "ZOt64RuMfpP8",
        "colab_type": "code",
        "colab": {}
      },
      "source": [
        "x_train, y_train, x_test, y_test = doc_utils.processClassifierData(arxiv_topic_defs, \n",
        "                                                                   arxiv_papers,\n",
        "                                                                   topics = doc_utils.ARXIV_WIKI_TOPICS,\n",
        "                                                                   dataset_type =\"arxiv\")"
      ],
      "execution_count": 0,
      "outputs": []
    },
    {
      "cell_type": "markdown",
      "metadata": {
        "id": "4iBvlc28fxYF",
        "colab_type": "text"
      },
      "source": [
        "### Model train and evaluation"
      ]
    },
    {
      "cell_type": "code",
      "metadata": {
        "id": "5O3m8ekCfysQ",
        "colab_type": "code",
        "colab": {
          "base_uri": "https://localhost:8080/",
          "height": 173,
          "referenced_widgets": [
            "b6666d733c8e4bd5bc75e8dc64597203",
            "2ab9c8d7b21d4eddb6b9a07bddfc6513",
            "b8cd047bd379480d94376001c4c24d39",
            "e6b1449b00ae42e3bac4e0e6ed84e8a9",
            "ce2a4470f52a4b888c450491b3a78b22",
            "473babb096744847b1ec8087f0d4fe2a",
            "543c640de4474b8e906aac9b2787fb27",
            "2b2c9b1c323a48b180ccd49308eac109"
          ]
        },
        "outputId": "55f02588-8d11-43c0-e34a-e72187b72ad5"
      },
      "source": [
        "n_runs = 100\n",
        "mean_acc = 0\n",
        "max_acc = 0\n",
        "\n",
        "acc_list = []\n",
        "best_NB = None\n",
        "\n",
        "print(\"Executing\",n_runs,\"runs of Multinomial NaiveBayes classifiers...\")\n",
        "\n",
        "for i in tqdm(range(n_runs)):\n",
        "\n",
        "    text_clf_NB = Pipeline([('vect', CountVectorizer()),\n",
        "                            ('tfidf', TfidfTransformer()),\n",
        "                            ('clf-NB', MultinomialNB()),\n",
        "                            ])    \n",
        "\n",
        "    _ = text_clf_NB.fit(x_train, y_train)\n",
        "\n",
        "    predicted_NB = text_clf_NB.predict(x_test)\n",
        "    classification_accuracy = np.mean(predicted_NB == y_test)\n",
        "\n",
        "    acc_list.append(classification_accuracy)\n",
        "    \n",
        "    if classification_accuracy >= max(acc_list):\n",
        "        best_NB = text_clf_NB\n",
        "\n",
        "print(\"Resulting Average accuracy:\",np.mean(acc_list))\n",
        "print(\"Best accuracy:\", max(acc_list))"
      ],
      "execution_count": 24,
      "outputs": [
        {
          "output_type": "stream",
          "text": [
            "Executing 100 runs of Multinomial NaiveBayes classifiers...\n"
          ],
          "name": "stdout"
        },
        {
          "output_type": "stream",
          "text": [
            "/usr/local/lib/python3.6/dist-packages/ipykernel_launcher.py:10: TqdmDeprecationWarning: This function will be removed in tqdm==5.0.0\n",
            "Please use `tqdm.notebook.tqdm` instead of `tqdm.tqdm_notebook`\n",
            "  # Remove the CWD from sys.path while we load stuff.\n"
          ],
          "name": "stderr"
        },
        {
          "output_type": "display_data",
          "data": {
            "application/vnd.jupyter.widget-view+json": {
              "model_id": "b6666d733c8e4bd5bc75e8dc64597203",
              "version_minor": 0,
              "version_major": 2
            },
            "text/plain": [
              "HBox(children=(IntProgress(value=0), HTML(value='')))"
            ]
          },
          "metadata": {
            "tags": []
          }
        },
        {
          "output_type": "stream",
          "text": [
            "\n",
            "Resulting Average accuracy: 0.2625\n",
            "Best accuracy: 0.2625\n"
          ],
          "name": "stdout"
        }
      ]
    },
    {
      "cell_type": "markdown",
      "metadata": {
        "id": "ijBBQxhegFoU",
        "colab_type": "text"
      },
      "source": [
        "# Baseline results summary (Top1 Accuracies)"
      ]
    },
    {
      "cell_type": "markdown",
      "metadata": {
        "id": "PxCXyzQ2gJ6G",
        "colab_type": "text"
      },
      "source": [
        "\n",
        "* **FFNN** (*Wikipedia* articles data): **0.42**\n",
        "* **FFNN** (*Arxiv* papers data): **0.25**\n",
        "* **SVM** (*Wikipedia* articles data): **0.47**\n",
        "* **SVM** (*Arxiv* papers data): **0.285**\n",
        "* **MNB** (*Wikipedia* articles data): **0.535**\n",
        "* **MNB** (*Arxiv* papers data): **0.263**"
      ]
    },
    {
      "cell_type": "code",
      "metadata": {
        "id": "WdGphBhof--K",
        "colab_type": "code",
        "colab": {}
      },
      "source": [
        ""
      ],
      "execution_count": 0,
      "outputs": []
    }
  ]
}